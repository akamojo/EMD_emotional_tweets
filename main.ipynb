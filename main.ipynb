{
  "nbformat": 4,
  "nbformat_minor": 0,
  "metadata": {
    "colab": {
      "name": "main.ipynb",
      "provenance": [],
      "collapsed_sections": []
    },
    "kernelspec": {
      "name": "python3",
      "display_name": "Python 3"
    },
    "language_info": {
      "codemirror_mode": {
        "name": "ipython",
        "version": 3
      },
      "file_extension": ".py",
      "mimetype": "text/x-python",
      "name": "python",
      "nbconvert_exporter": "python",
      "pygments_lexer": "ipython3",
      "version": "3.7.3"
    },
    "accelerator": "GPU",
    "widgets": {
      "application/vnd.jupyter.widget-state+json": {
        "3c8feee64e114e9eb7253c4210facf7a": {
          "model_module": "@jupyter-widgets/controls",
          "model_name": "HBoxModel",
          "state": {
            "_view_name": "HBoxView",
            "_dom_classes": [],
            "_model_name": "HBoxModel",
            "_view_module": "@jupyter-widgets/controls",
            "_model_module_version": "1.5.0",
            "_view_count": null,
            "_view_module_version": "1.5.0",
            "box_style": "",
            "layout": "IPY_MODEL_0ea51bbf87f946ddad5f059e962eca8a",
            "_model_module": "@jupyter-widgets/controls",
            "children": [
              "IPY_MODEL_f38f41ba6afe4117b4a3134853ec2b59",
              "IPY_MODEL_b09ab1d810904b6b8bec0548d855f3b7"
            ]
          }
        },
        "0ea51bbf87f946ddad5f059e962eca8a": {
          "model_module": "@jupyter-widgets/base",
          "model_name": "LayoutModel",
          "state": {
            "_view_name": "LayoutView",
            "grid_template_rows": null,
            "right": null,
            "justify_content": null,
            "_view_module": "@jupyter-widgets/base",
            "overflow": null,
            "_model_module_version": "1.2.0",
            "_view_count": null,
            "flex_flow": null,
            "width": null,
            "min_width": null,
            "border": null,
            "align_items": null,
            "bottom": null,
            "_model_module": "@jupyter-widgets/base",
            "top": null,
            "grid_column": null,
            "overflow_y": null,
            "overflow_x": null,
            "grid_auto_flow": null,
            "grid_area": null,
            "grid_template_columns": null,
            "flex": null,
            "_model_name": "LayoutModel",
            "justify_items": null,
            "grid_row": null,
            "max_height": null,
            "align_content": null,
            "visibility": null,
            "align_self": null,
            "height": null,
            "min_height": null,
            "padding": null,
            "grid_auto_rows": null,
            "grid_gap": null,
            "max_width": null,
            "order": null,
            "_view_module_version": "1.2.0",
            "grid_template_areas": null,
            "object_position": null,
            "object_fit": null,
            "grid_auto_columns": null,
            "margin": null,
            "display": null,
            "left": null
          }
        },
        "f38f41ba6afe4117b4a3134853ec2b59": {
          "model_module": "@jupyter-widgets/controls",
          "model_name": "IntProgressModel",
          "state": {
            "_view_name": "ProgressView",
            "style": "IPY_MODEL_e0384197884f4d9c98d57e17b7496f98",
            "_dom_classes": [],
            "description": "",
            "_model_name": "IntProgressModel",
            "bar_style": "success",
            "max": 4214,
            "_view_module": "@jupyter-widgets/controls",
            "_model_module_version": "1.5.0",
            "value": 4214,
            "_view_count": null,
            "_view_module_version": "1.5.0",
            "orientation": "horizontal",
            "min": 0,
            "description_tooltip": null,
            "_model_module": "@jupyter-widgets/controls",
            "layout": "IPY_MODEL_81b68e88ca4c4eecae5719725b2823dd"
          }
        },
        "b09ab1d810904b6b8bec0548d855f3b7": {
          "model_module": "@jupyter-widgets/controls",
          "model_name": "HTMLModel",
          "state": {
            "_view_name": "HTMLView",
            "style": "IPY_MODEL_ba3602be7dd441a49d7e15f5a790f804",
            "_dom_classes": [],
            "description": "",
            "_model_name": "HTMLModel",
            "placeholder": "​",
            "_view_module": "@jupyter-widgets/controls",
            "_model_module_version": "1.5.0",
            "value": "100% 4214/4214 [00:01&lt;00:00, 4064.92it/s]",
            "_view_count": null,
            "_view_module_version": "1.5.0",
            "description_tooltip": null,
            "_model_module": "@jupyter-widgets/controls",
            "layout": "IPY_MODEL_4dab48308f464a239772efa3c8cec04d"
          }
        },
        "e0384197884f4d9c98d57e17b7496f98": {
          "model_module": "@jupyter-widgets/controls",
          "model_name": "ProgressStyleModel",
          "state": {
            "_view_name": "StyleView",
            "_model_name": "ProgressStyleModel",
            "description_width": "",
            "_view_module": "@jupyter-widgets/base",
            "_model_module_version": "1.5.0",
            "_view_count": null,
            "_view_module_version": "1.2.0",
            "bar_color": null,
            "_model_module": "@jupyter-widgets/controls"
          }
        },
        "81b68e88ca4c4eecae5719725b2823dd": {
          "model_module": "@jupyter-widgets/base",
          "model_name": "LayoutModel",
          "state": {
            "_view_name": "LayoutView",
            "grid_template_rows": null,
            "right": null,
            "justify_content": null,
            "_view_module": "@jupyter-widgets/base",
            "overflow": null,
            "_model_module_version": "1.2.0",
            "_view_count": null,
            "flex_flow": null,
            "width": null,
            "min_width": null,
            "border": null,
            "align_items": null,
            "bottom": null,
            "_model_module": "@jupyter-widgets/base",
            "top": null,
            "grid_column": null,
            "overflow_y": null,
            "overflow_x": null,
            "grid_auto_flow": null,
            "grid_area": null,
            "grid_template_columns": null,
            "flex": null,
            "_model_name": "LayoutModel",
            "justify_items": null,
            "grid_row": null,
            "max_height": null,
            "align_content": null,
            "visibility": null,
            "align_self": null,
            "height": null,
            "min_height": null,
            "padding": null,
            "grid_auto_rows": null,
            "grid_gap": null,
            "max_width": null,
            "order": null,
            "_view_module_version": "1.2.0",
            "grid_template_areas": null,
            "object_position": null,
            "object_fit": null,
            "grid_auto_columns": null,
            "margin": null,
            "display": null,
            "left": null
          }
        },
        "ba3602be7dd441a49d7e15f5a790f804": {
          "model_module": "@jupyter-widgets/controls",
          "model_name": "DescriptionStyleModel",
          "state": {
            "_view_name": "StyleView",
            "_model_name": "DescriptionStyleModel",
            "description_width": "",
            "_view_module": "@jupyter-widgets/base",
            "_model_module_version": "1.5.0",
            "_view_count": null,
            "_view_module_version": "1.2.0",
            "_model_module": "@jupyter-widgets/controls"
          }
        },
        "4dab48308f464a239772efa3c8cec04d": {
          "model_module": "@jupyter-widgets/base",
          "model_name": "LayoutModel",
          "state": {
            "_view_name": "LayoutView",
            "grid_template_rows": null,
            "right": null,
            "justify_content": null,
            "_view_module": "@jupyter-widgets/base",
            "overflow": null,
            "_model_module_version": "1.2.0",
            "_view_count": null,
            "flex_flow": null,
            "width": null,
            "min_width": null,
            "border": null,
            "align_items": null,
            "bottom": null,
            "_model_module": "@jupyter-widgets/base",
            "top": null,
            "grid_column": null,
            "overflow_y": null,
            "overflow_x": null,
            "grid_auto_flow": null,
            "grid_area": null,
            "grid_template_columns": null,
            "flex": null,
            "_model_name": "LayoutModel",
            "justify_items": null,
            "grid_row": null,
            "max_height": null,
            "align_content": null,
            "visibility": null,
            "align_self": null,
            "height": null,
            "min_height": null,
            "padding": null,
            "grid_auto_rows": null,
            "grid_gap": null,
            "max_width": null,
            "order": null,
            "_view_module_version": "1.2.0",
            "grid_template_areas": null,
            "object_position": null,
            "object_fit": null,
            "grid_auto_columns": null,
            "margin": null,
            "display": null,
            "left": null
          }
        },
        "6cd04a9eee574b469ac8e41bec4241bf": {
          "model_module": "@jupyter-widgets/controls",
          "model_name": "HBoxModel",
          "state": {
            "_view_name": "HBoxView",
            "_dom_classes": [],
            "_model_name": "HBoxModel",
            "_view_module": "@jupyter-widgets/controls",
            "_model_module_version": "1.5.0",
            "_view_count": null,
            "_view_module_version": "1.5.0",
            "box_style": "",
            "layout": "IPY_MODEL_705c595396c84baa8d2c0793e2fbe124",
            "_model_module": "@jupyter-widgets/controls",
            "children": [
              "IPY_MODEL_46e60aa3892e41429b73319754f81201",
              "IPY_MODEL_09e453b48f6d4eccaaeced817c0310b6"
            ]
          }
        },
        "705c595396c84baa8d2c0793e2fbe124": {
          "model_module": "@jupyter-widgets/base",
          "model_name": "LayoutModel",
          "state": {
            "_view_name": "LayoutView",
            "grid_template_rows": null,
            "right": null,
            "justify_content": null,
            "_view_module": "@jupyter-widgets/base",
            "overflow": null,
            "_model_module_version": "1.2.0",
            "_view_count": null,
            "flex_flow": null,
            "width": null,
            "min_width": null,
            "border": null,
            "align_items": null,
            "bottom": null,
            "_model_module": "@jupyter-widgets/base",
            "top": null,
            "grid_column": null,
            "overflow_y": null,
            "overflow_x": null,
            "grid_auto_flow": null,
            "grid_area": null,
            "grid_template_columns": null,
            "flex": null,
            "_model_name": "LayoutModel",
            "justify_items": null,
            "grid_row": null,
            "max_height": null,
            "align_content": null,
            "visibility": null,
            "align_self": null,
            "height": null,
            "min_height": null,
            "padding": null,
            "grid_auto_rows": null,
            "grid_gap": null,
            "max_width": null,
            "order": null,
            "_view_module_version": "1.2.0",
            "grid_template_areas": null,
            "object_position": null,
            "object_fit": null,
            "grid_auto_columns": null,
            "margin": null,
            "display": null,
            "left": null
          }
        },
        "46e60aa3892e41429b73319754f81201": {
          "model_module": "@jupyter-widgets/controls",
          "model_name": "IntProgressModel",
          "state": {
            "_view_name": "ProgressView",
            "style": "IPY_MODEL_9fd208a534534e80bebdbd4daa022fb3",
            "_dom_classes": [],
            "description": "Epoch",
            "_model_name": "IntProgressModel",
            "bar_style": "success",
            "max": 5,
            "_view_module": "@jupyter-widgets/controls",
            "_model_module_version": "1.5.0",
            "value": 5,
            "_view_count": null,
            "_view_module_version": "1.5.0",
            "orientation": "horizontal",
            "min": 0,
            "description_tooltip": null,
            "_model_module": "@jupyter-widgets/controls",
            "layout": "IPY_MODEL_f13d366abb5543ea92bf131ab1dcea91"
          }
        },
        "09e453b48f6d4eccaaeced817c0310b6": {
          "model_module": "@jupyter-widgets/controls",
          "model_name": "HTMLModel",
          "state": {
            "_view_name": "HTMLView",
            "style": "IPY_MODEL_62e6d6c18856443185b97ba257b6e0c5",
            "_dom_classes": [],
            "description": "",
            "_model_name": "HTMLModel",
            "placeholder": "​",
            "_view_module": "@jupyter-widgets/controls",
            "_model_module_version": "1.5.0",
            "value": "100% 5/5 [03:48&lt;00:00, 45.85s/it]",
            "_view_count": null,
            "_view_module_version": "1.5.0",
            "description_tooltip": null,
            "_model_module": "@jupyter-widgets/controls",
            "layout": "IPY_MODEL_909cb5514ab54ada912db14877d95660"
          }
        },
        "9fd208a534534e80bebdbd4daa022fb3": {
          "model_module": "@jupyter-widgets/controls",
          "model_name": "ProgressStyleModel",
          "state": {
            "_view_name": "StyleView",
            "_model_name": "ProgressStyleModel",
            "description_width": "initial",
            "_view_module": "@jupyter-widgets/base",
            "_model_module_version": "1.5.0",
            "_view_count": null,
            "_view_module_version": "1.2.0",
            "bar_color": null,
            "_model_module": "@jupyter-widgets/controls"
          }
        },
        "f13d366abb5543ea92bf131ab1dcea91": {
          "model_module": "@jupyter-widgets/base",
          "model_name": "LayoutModel",
          "state": {
            "_view_name": "LayoutView",
            "grid_template_rows": null,
            "right": null,
            "justify_content": null,
            "_view_module": "@jupyter-widgets/base",
            "overflow": null,
            "_model_module_version": "1.2.0",
            "_view_count": null,
            "flex_flow": null,
            "width": null,
            "min_width": null,
            "border": null,
            "align_items": null,
            "bottom": null,
            "_model_module": "@jupyter-widgets/base",
            "top": null,
            "grid_column": null,
            "overflow_y": null,
            "overflow_x": null,
            "grid_auto_flow": null,
            "grid_area": null,
            "grid_template_columns": null,
            "flex": null,
            "_model_name": "LayoutModel",
            "justify_items": null,
            "grid_row": null,
            "max_height": null,
            "align_content": null,
            "visibility": null,
            "align_self": null,
            "height": null,
            "min_height": null,
            "padding": null,
            "grid_auto_rows": null,
            "grid_gap": null,
            "max_width": null,
            "order": null,
            "_view_module_version": "1.2.0",
            "grid_template_areas": null,
            "object_position": null,
            "object_fit": null,
            "grid_auto_columns": null,
            "margin": null,
            "display": null,
            "left": null
          }
        },
        "62e6d6c18856443185b97ba257b6e0c5": {
          "model_module": "@jupyter-widgets/controls",
          "model_name": "DescriptionStyleModel",
          "state": {
            "_view_name": "StyleView",
            "_model_name": "DescriptionStyleModel",
            "description_width": "",
            "_view_module": "@jupyter-widgets/base",
            "_model_module_version": "1.5.0",
            "_view_count": null,
            "_view_module_version": "1.2.0",
            "_model_module": "@jupyter-widgets/controls"
          }
        },
        "909cb5514ab54ada912db14877d95660": {
          "model_module": "@jupyter-widgets/base",
          "model_name": "LayoutModel",
          "state": {
            "_view_name": "LayoutView",
            "grid_template_rows": null,
            "right": null,
            "justify_content": null,
            "_view_module": "@jupyter-widgets/base",
            "overflow": null,
            "_model_module_version": "1.2.0",
            "_view_count": null,
            "flex_flow": null,
            "width": null,
            "min_width": null,
            "border": null,
            "align_items": null,
            "bottom": null,
            "_model_module": "@jupyter-widgets/base",
            "top": null,
            "grid_column": null,
            "overflow_y": null,
            "overflow_x": null,
            "grid_auto_flow": null,
            "grid_area": null,
            "grid_template_columns": null,
            "flex": null,
            "_model_name": "LayoutModel",
            "justify_items": null,
            "grid_row": null,
            "max_height": null,
            "align_content": null,
            "visibility": null,
            "align_self": null,
            "height": null,
            "min_height": null,
            "padding": null,
            "grid_auto_rows": null,
            "grid_gap": null,
            "max_width": null,
            "order": null,
            "_view_module_version": "1.2.0",
            "grid_template_areas": null,
            "object_position": null,
            "object_fit": null,
            "grid_auto_columns": null,
            "margin": null,
            "display": null,
            "left": null
          }
        },
        "dca2ae1cb0884f3aa3ba9adc68fe6d83": {
          "model_module": "@jupyter-widgets/controls",
          "model_name": "HBoxModel",
          "state": {
            "_view_name": "HBoxView",
            "_dom_classes": [],
            "_model_name": "HBoxModel",
            "_view_module": "@jupyter-widgets/controls",
            "_model_module_version": "1.5.0",
            "_view_count": null,
            "_view_module_version": "1.5.0",
            "box_style": "",
            "layout": "IPY_MODEL_9faf4a4dee74470ea2c7ef9fa7771f9a",
            "_model_module": "@jupyter-widgets/controls",
            "children": [
              "IPY_MODEL_9b47cb39427c41689abd703704f767bc",
              "IPY_MODEL_5834800ed91a4e778d1c599f437f8e84"
            ]
          }
        },
        "9faf4a4dee74470ea2c7ef9fa7771f9a": {
          "model_module": "@jupyter-widgets/base",
          "model_name": "LayoutModel",
          "state": {
            "_view_name": "LayoutView",
            "grid_template_rows": null,
            "right": null,
            "justify_content": null,
            "_view_module": "@jupyter-widgets/base",
            "overflow": null,
            "_model_module_version": "1.2.0",
            "_view_count": null,
            "flex_flow": null,
            "width": null,
            "min_width": null,
            "border": null,
            "align_items": null,
            "bottom": null,
            "_model_module": "@jupyter-widgets/base",
            "top": null,
            "grid_column": null,
            "overflow_y": null,
            "overflow_x": null,
            "grid_auto_flow": null,
            "grid_area": null,
            "grid_template_columns": null,
            "flex": null,
            "_model_name": "LayoutModel",
            "justify_items": null,
            "grid_row": null,
            "max_height": null,
            "align_content": null,
            "visibility": null,
            "align_self": null,
            "height": null,
            "min_height": null,
            "padding": null,
            "grid_auto_rows": null,
            "grid_gap": null,
            "max_width": null,
            "order": null,
            "_view_module_version": "1.2.0",
            "grid_template_areas": null,
            "object_position": null,
            "object_fit": null,
            "grid_auto_columns": null,
            "margin": null,
            "display": null,
            "left": null
          }
        },
        "9b47cb39427c41689abd703704f767bc": {
          "model_module": "@jupyter-widgets/controls",
          "model_name": "IntProgressModel",
          "state": {
            "_view_name": "ProgressView",
            "style": "IPY_MODEL_cce6fbeb13ad4fefa19840fc26d06328",
            "_dom_classes": [],
            "description": "Current iteration",
            "_model_name": "IntProgressModel",
            "bar_style": "success",
            "max": 527,
            "_view_module": "@jupyter-widgets/controls",
            "_model_module_version": "1.5.0",
            "value": 527,
            "_view_count": null,
            "_view_module_version": "1.5.0",
            "orientation": "horizontal",
            "min": 0,
            "description_tooltip": null,
            "_model_module": "@jupyter-widgets/controls",
            "layout": "IPY_MODEL_c44c5eeae727437cad2ee62f4ff6376f"
          }
        },
        "5834800ed91a4e778d1c599f437f8e84": {
          "model_module": "@jupyter-widgets/controls",
          "model_name": "HTMLModel",
          "state": {
            "_view_name": "HTMLView",
            "style": "IPY_MODEL_3d4f119053154cc2b0010c7039e20a79",
            "_dom_classes": [],
            "description": "",
            "_model_name": "HTMLModel",
            "placeholder": "​",
            "_view_module": "@jupyter-widgets/controls",
            "_model_module_version": "1.5.0",
            "value": "100% 527/527 [00:45&lt;00:00, 11.69it/s]",
            "_view_count": null,
            "_view_module_version": "1.5.0",
            "description_tooltip": null,
            "_model_module": "@jupyter-widgets/controls",
            "layout": "IPY_MODEL_34c201ee60b844a6a3d4b6ae597427ec"
          }
        },
        "cce6fbeb13ad4fefa19840fc26d06328": {
          "model_module": "@jupyter-widgets/controls",
          "model_name": "ProgressStyleModel",
          "state": {
            "_view_name": "StyleView",
            "_model_name": "ProgressStyleModel",
            "description_width": "initial",
            "_view_module": "@jupyter-widgets/base",
            "_model_module_version": "1.5.0",
            "_view_count": null,
            "_view_module_version": "1.2.0",
            "bar_color": null,
            "_model_module": "@jupyter-widgets/controls"
          }
        },
        "c44c5eeae727437cad2ee62f4ff6376f": {
          "model_module": "@jupyter-widgets/base",
          "model_name": "LayoutModel",
          "state": {
            "_view_name": "LayoutView",
            "grid_template_rows": null,
            "right": null,
            "justify_content": null,
            "_view_module": "@jupyter-widgets/base",
            "overflow": null,
            "_model_module_version": "1.2.0",
            "_view_count": null,
            "flex_flow": null,
            "width": null,
            "min_width": null,
            "border": null,
            "align_items": null,
            "bottom": null,
            "_model_module": "@jupyter-widgets/base",
            "top": null,
            "grid_column": null,
            "overflow_y": null,
            "overflow_x": null,
            "grid_auto_flow": null,
            "grid_area": null,
            "grid_template_columns": null,
            "flex": null,
            "_model_name": "LayoutModel",
            "justify_items": null,
            "grid_row": null,
            "max_height": null,
            "align_content": null,
            "visibility": null,
            "align_self": null,
            "height": null,
            "min_height": null,
            "padding": null,
            "grid_auto_rows": null,
            "grid_gap": null,
            "max_width": null,
            "order": null,
            "_view_module_version": "1.2.0",
            "grid_template_areas": null,
            "object_position": null,
            "object_fit": null,
            "grid_auto_columns": null,
            "margin": null,
            "display": null,
            "left": null
          }
        },
        "3d4f119053154cc2b0010c7039e20a79": {
          "model_module": "@jupyter-widgets/controls",
          "model_name": "DescriptionStyleModel",
          "state": {
            "_view_name": "StyleView",
            "_model_name": "DescriptionStyleModel",
            "description_width": "",
            "_view_module": "@jupyter-widgets/base",
            "_model_module_version": "1.5.0",
            "_view_count": null,
            "_view_module_version": "1.2.0",
            "_model_module": "@jupyter-widgets/controls"
          }
        },
        "34c201ee60b844a6a3d4b6ae597427ec": {
          "model_module": "@jupyter-widgets/base",
          "model_name": "LayoutModel",
          "state": {
            "_view_name": "LayoutView",
            "grid_template_rows": null,
            "right": null,
            "justify_content": null,
            "_view_module": "@jupyter-widgets/base",
            "overflow": null,
            "_model_module_version": "1.2.0",
            "_view_count": null,
            "flex_flow": null,
            "width": null,
            "min_width": null,
            "border": null,
            "align_items": null,
            "bottom": null,
            "_model_module": "@jupyter-widgets/base",
            "top": null,
            "grid_column": null,
            "overflow_y": null,
            "overflow_x": null,
            "grid_auto_flow": null,
            "grid_area": null,
            "grid_template_columns": null,
            "flex": null,
            "_model_name": "LayoutModel",
            "justify_items": null,
            "grid_row": null,
            "max_height": null,
            "align_content": null,
            "visibility": null,
            "align_self": null,
            "height": null,
            "min_height": null,
            "padding": null,
            "grid_auto_rows": null,
            "grid_gap": null,
            "max_width": null,
            "order": null,
            "_view_module_version": "1.2.0",
            "grid_template_areas": null,
            "object_position": null,
            "object_fit": null,
            "grid_auto_columns": null,
            "margin": null,
            "display": null,
            "left": null
          }
        },
        "03f87d5ce6b649b9971cb1560e824e08": {
          "model_module": "@jupyter-widgets/controls",
          "model_name": "HBoxModel",
          "state": {
            "_view_name": "HBoxView",
            "_dom_classes": [],
            "_model_name": "HBoxModel",
            "_view_module": "@jupyter-widgets/controls",
            "_model_module_version": "1.5.0",
            "_view_count": null,
            "_view_module_version": "1.5.0",
            "box_style": "",
            "layout": "IPY_MODEL_eaeeb49e2ad742c5b9cd5dd3b6614059",
            "_model_module": "@jupyter-widgets/controls",
            "children": [
              "IPY_MODEL_ea9150abd4c948e2b849192de0115f0a",
              "IPY_MODEL_179ebfe135dd43ff9ca82bf8416d80f2"
            ]
          }
        },
        "eaeeb49e2ad742c5b9cd5dd3b6614059": {
          "model_module": "@jupyter-widgets/base",
          "model_name": "LayoutModel",
          "state": {
            "_view_name": "LayoutView",
            "grid_template_rows": null,
            "right": null,
            "justify_content": null,
            "_view_module": "@jupyter-widgets/base",
            "overflow": null,
            "_model_module_version": "1.2.0",
            "_view_count": null,
            "flex_flow": null,
            "width": null,
            "min_width": null,
            "border": null,
            "align_items": null,
            "bottom": null,
            "_model_module": "@jupyter-widgets/base",
            "top": null,
            "grid_column": null,
            "overflow_y": null,
            "overflow_x": null,
            "grid_auto_flow": null,
            "grid_area": null,
            "grid_template_columns": null,
            "flex": null,
            "_model_name": "LayoutModel",
            "justify_items": null,
            "grid_row": null,
            "max_height": null,
            "align_content": null,
            "visibility": null,
            "align_self": null,
            "height": null,
            "min_height": null,
            "padding": null,
            "grid_auto_rows": null,
            "grid_gap": null,
            "max_width": null,
            "order": null,
            "_view_module_version": "1.2.0",
            "grid_template_areas": null,
            "object_position": null,
            "object_fit": null,
            "grid_auto_columns": null,
            "margin": null,
            "display": null,
            "left": null
          }
        },
        "ea9150abd4c948e2b849192de0115f0a": {
          "model_module": "@jupyter-widgets/controls",
          "model_name": "IntProgressModel",
          "state": {
            "_view_name": "ProgressView",
            "style": "IPY_MODEL_44c06ce173f2460ea4332725939c0258",
            "_dom_classes": [],
            "description": "Current iteration",
            "_model_name": "IntProgressModel",
            "bar_style": "success",
            "max": 527,
            "_view_module": "@jupyter-widgets/controls",
            "_model_module_version": "1.5.0",
            "value": 527,
            "_view_count": null,
            "_view_module_version": "1.5.0",
            "orientation": "horizontal",
            "min": 0,
            "description_tooltip": null,
            "_model_module": "@jupyter-widgets/controls",
            "layout": "IPY_MODEL_850d56d843004893a217640eb607ed85"
          }
        },
        "179ebfe135dd43ff9ca82bf8416d80f2": {
          "model_module": "@jupyter-widgets/controls",
          "model_name": "HTMLModel",
          "state": {
            "_view_name": "HTMLView",
            "style": "IPY_MODEL_859dacb85027436ab9d20384227f1a02",
            "_dom_classes": [],
            "description": "",
            "_model_name": "HTMLModel",
            "placeholder": "​",
            "_view_module": "@jupyter-widgets/controls",
            "_model_module_version": "1.5.0",
            "value": "100% 527/527 [00:45&lt;00:00, 11.89it/s]",
            "_view_count": null,
            "_view_module_version": "1.5.0",
            "description_tooltip": null,
            "_model_module": "@jupyter-widgets/controls",
            "layout": "IPY_MODEL_6fdd7e4f89094773ac729c2f233c322a"
          }
        },
        "44c06ce173f2460ea4332725939c0258": {
          "model_module": "@jupyter-widgets/controls",
          "model_name": "ProgressStyleModel",
          "state": {
            "_view_name": "StyleView",
            "_model_name": "ProgressStyleModel",
            "description_width": "initial",
            "_view_module": "@jupyter-widgets/base",
            "_model_module_version": "1.5.0",
            "_view_count": null,
            "_view_module_version": "1.2.0",
            "bar_color": null,
            "_model_module": "@jupyter-widgets/controls"
          }
        },
        "850d56d843004893a217640eb607ed85": {
          "model_module": "@jupyter-widgets/base",
          "model_name": "LayoutModel",
          "state": {
            "_view_name": "LayoutView",
            "grid_template_rows": null,
            "right": null,
            "justify_content": null,
            "_view_module": "@jupyter-widgets/base",
            "overflow": null,
            "_model_module_version": "1.2.0",
            "_view_count": null,
            "flex_flow": null,
            "width": null,
            "min_width": null,
            "border": null,
            "align_items": null,
            "bottom": null,
            "_model_module": "@jupyter-widgets/base",
            "top": null,
            "grid_column": null,
            "overflow_y": null,
            "overflow_x": null,
            "grid_auto_flow": null,
            "grid_area": null,
            "grid_template_columns": null,
            "flex": null,
            "_model_name": "LayoutModel",
            "justify_items": null,
            "grid_row": null,
            "max_height": null,
            "align_content": null,
            "visibility": null,
            "align_self": null,
            "height": null,
            "min_height": null,
            "padding": null,
            "grid_auto_rows": null,
            "grid_gap": null,
            "max_width": null,
            "order": null,
            "_view_module_version": "1.2.0",
            "grid_template_areas": null,
            "object_position": null,
            "object_fit": null,
            "grid_auto_columns": null,
            "margin": null,
            "display": null,
            "left": null
          }
        },
        "859dacb85027436ab9d20384227f1a02": {
          "model_module": "@jupyter-widgets/controls",
          "model_name": "DescriptionStyleModel",
          "state": {
            "_view_name": "StyleView",
            "_model_name": "DescriptionStyleModel",
            "description_width": "",
            "_view_module": "@jupyter-widgets/base",
            "_model_module_version": "1.5.0",
            "_view_count": null,
            "_view_module_version": "1.2.0",
            "_model_module": "@jupyter-widgets/controls"
          }
        },
        "6fdd7e4f89094773ac729c2f233c322a": {
          "model_module": "@jupyter-widgets/base",
          "model_name": "LayoutModel",
          "state": {
            "_view_name": "LayoutView",
            "grid_template_rows": null,
            "right": null,
            "justify_content": null,
            "_view_module": "@jupyter-widgets/base",
            "overflow": null,
            "_model_module_version": "1.2.0",
            "_view_count": null,
            "flex_flow": null,
            "width": null,
            "min_width": null,
            "border": null,
            "align_items": null,
            "bottom": null,
            "_model_module": "@jupyter-widgets/base",
            "top": null,
            "grid_column": null,
            "overflow_y": null,
            "overflow_x": null,
            "grid_auto_flow": null,
            "grid_area": null,
            "grid_template_columns": null,
            "flex": null,
            "_model_name": "LayoutModel",
            "justify_items": null,
            "grid_row": null,
            "max_height": null,
            "align_content": null,
            "visibility": null,
            "align_self": null,
            "height": null,
            "min_height": null,
            "padding": null,
            "grid_auto_rows": null,
            "grid_gap": null,
            "max_width": null,
            "order": null,
            "_view_module_version": "1.2.0",
            "grid_template_areas": null,
            "object_position": null,
            "object_fit": null,
            "grid_auto_columns": null,
            "margin": null,
            "display": null,
            "left": null
          }
        },
        "91fa3b71430a43388fdc9ab079c4e4e6": {
          "model_module": "@jupyter-widgets/controls",
          "model_name": "HBoxModel",
          "state": {
            "_view_name": "HBoxView",
            "_dom_classes": [],
            "_model_name": "HBoxModel",
            "_view_module": "@jupyter-widgets/controls",
            "_model_module_version": "1.5.0",
            "_view_count": null,
            "_view_module_version": "1.5.0",
            "box_style": "",
            "layout": "IPY_MODEL_d7ad9569c58d4dcea6666fd4b9ff909f",
            "_model_module": "@jupyter-widgets/controls",
            "children": [
              "IPY_MODEL_83d565c217bc4264ab7a7b57a22c2984",
              "IPY_MODEL_5f01e2a3ab46426eac3b68d95e9209e5"
            ]
          }
        },
        "d7ad9569c58d4dcea6666fd4b9ff909f": {
          "model_module": "@jupyter-widgets/base",
          "model_name": "LayoutModel",
          "state": {
            "_view_name": "LayoutView",
            "grid_template_rows": null,
            "right": null,
            "justify_content": null,
            "_view_module": "@jupyter-widgets/base",
            "overflow": null,
            "_model_module_version": "1.2.0",
            "_view_count": null,
            "flex_flow": null,
            "width": null,
            "min_width": null,
            "border": null,
            "align_items": null,
            "bottom": null,
            "_model_module": "@jupyter-widgets/base",
            "top": null,
            "grid_column": null,
            "overflow_y": null,
            "overflow_x": null,
            "grid_auto_flow": null,
            "grid_area": null,
            "grid_template_columns": null,
            "flex": null,
            "_model_name": "LayoutModel",
            "justify_items": null,
            "grid_row": null,
            "max_height": null,
            "align_content": null,
            "visibility": null,
            "align_self": null,
            "height": null,
            "min_height": null,
            "padding": null,
            "grid_auto_rows": null,
            "grid_gap": null,
            "max_width": null,
            "order": null,
            "_view_module_version": "1.2.0",
            "grid_template_areas": null,
            "object_position": null,
            "object_fit": null,
            "grid_auto_columns": null,
            "margin": null,
            "display": null,
            "left": null
          }
        },
        "83d565c217bc4264ab7a7b57a22c2984": {
          "model_module": "@jupyter-widgets/controls",
          "model_name": "IntProgressModel",
          "state": {
            "_view_name": "ProgressView",
            "style": "IPY_MODEL_d64a0bc3987541f980278fc52d20366c",
            "_dom_classes": [],
            "description": "Current iteration",
            "_model_name": "IntProgressModel",
            "bar_style": "success",
            "max": 527,
            "_view_module": "@jupyter-widgets/controls",
            "_model_module_version": "1.5.0",
            "value": 527,
            "_view_count": null,
            "_view_module_version": "1.5.0",
            "orientation": "horizontal",
            "min": 0,
            "description_tooltip": null,
            "_model_module": "@jupyter-widgets/controls",
            "layout": "IPY_MODEL_d0f640aafe314ff1913af888c92be598"
          }
        },
        "5f01e2a3ab46426eac3b68d95e9209e5": {
          "model_module": "@jupyter-widgets/controls",
          "model_name": "HTMLModel",
          "state": {
            "_view_name": "HTMLView",
            "style": "IPY_MODEL_93ca801271074ee089580d9f28b76b88",
            "_dom_classes": [],
            "description": "",
            "_model_name": "HTMLModel",
            "placeholder": "​",
            "_view_module": "@jupyter-widgets/controls",
            "_model_module_version": "1.5.0",
            "value": "100% 527/527 [00:45&lt;00:00, 11.68it/s]",
            "_view_count": null,
            "_view_module_version": "1.5.0",
            "description_tooltip": null,
            "_model_module": "@jupyter-widgets/controls",
            "layout": "IPY_MODEL_7ea57ad75aee49569534948e98fd91be"
          }
        },
        "d64a0bc3987541f980278fc52d20366c": {
          "model_module": "@jupyter-widgets/controls",
          "model_name": "ProgressStyleModel",
          "state": {
            "_view_name": "StyleView",
            "_model_name": "ProgressStyleModel",
            "description_width": "initial",
            "_view_module": "@jupyter-widgets/base",
            "_model_module_version": "1.5.0",
            "_view_count": null,
            "_view_module_version": "1.2.0",
            "bar_color": null,
            "_model_module": "@jupyter-widgets/controls"
          }
        },
        "d0f640aafe314ff1913af888c92be598": {
          "model_module": "@jupyter-widgets/base",
          "model_name": "LayoutModel",
          "state": {
            "_view_name": "LayoutView",
            "grid_template_rows": null,
            "right": null,
            "justify_content": null,
            "_view_module": "@jupyter-widgets/base",
            "overflow": null,
            "_model_module_version": "1.2.0",
            "_view_count": null,
            "flex_flow": null,
            "width": null,
            "min_width": null,
            "border": null,
            "align_items": null,
            "bottom": null,
            "_model_module": "@jupyter-widgets/base",
            "top": null,
            "grid_column": null,
            "overflow_y": null,
            "overflow_x": null,
            "grid_auto_flow": null,
            "grid_area": null,
            "grid_template_columns": null,
            "flex": null,
            "_model_name": "LayoutModel",
            "justify_items": null,
            "grid_row": null,
            "max_height": null,
            "align_content": null,
            "visibility": null,
            "align_self": null,
            "height": null,
            "min_height": null,
            "padding": null,
            "grid_auto_rows": null,
            "grid_gap": null,
            "max_width": null,
            "order": null,
            "_view_module_version": "1.2.0",
            "grid_template_areas": null,
            "object_position": null,
            "object_fit": null,
            "grid_auto_columns": null,
            "margin": null,
            "display": null,
            "left": null
          }
        },
        "93ca801271074ee089580d9f28b76b88": {
          "model_module": "@jupyter-widgets/controls",
          "model_name": "DescriptionStyleModel",
          "state": {
            "_view_name": "StyleView",
            "_model_name": "DescriptionStyleModel",
            "description_width": "",
            "_view_module": "@jupyter-widgets/base",
            "_model_module_version": "1.5.0",
            "_view_count": null,
            "_view_module_version": "1.2.0",
            "_model_module": "@jupyter-widgets/controls"
          }
        },
        "7ea57ad75aee49569534948e98fd91be": {
          "model_module": "@jupyter-widgets/base",
          "model_name": "LayoutModel",
          "state": {
            "_view_name": "LayoutView",
            "grid_template_rows": null,
            "right": null,
            "justify_content": null,
            "_view_module": "@jupyter-widgets/base",
            "overflow": null,
            "_model_module_version": "1.2.0",
            "_view_count": null,
            "flex_flow": null,
            "width": null,
            "min_width": null,
            "border": null,
            "align_items": null,
            "bottom": null,
            "_model_module": "@jupyter-widgets/base",
            "top": null,
            "grid_column": null,
            "overflow_y": null,
            "overflow_x": null,
            "grid_auto_flow": null,
            "grid_area": null,
            "grid_template_columns": null,
            "flex": null,
            "_model_name": "LayoutModel",
            "justify_items": null,
            "grid_row": null,
            "max_height": null,
            "align_content": null,
            "visibility": null,
            "align_self": null,
            "height": null,
            "min_height": null,
            "padding": null,
            "grid_auto_rows": null,
            "grid_gap": null,
            "max_width": null,
            "order": null,
            "_view_module_version": "1.2.0",
            "grid_template_areas": null,
            "object_position": null,
            "object_fit": null,
            "grid_auto_columns": null,
            "margin": null,
            "display": null,
            "left": null
          }
        },
        "5c935a50c3094daeb9806b288b19f226": {
          "model_module": "@jupyter-widgets/controls",
          "model_name": "HBoxModel",
          "state": {
            "_view_name": "HBoxView",
            "_dom_classes": [],
            "_model_name": "HBoxModel",
            "_view_module": "@jupyter-widgets/controls",
            "_model_module_version": "1.5.0",
            "_view_count": null,
            "_view_module_version": "1.5.0",
            "box_style": "",
            "layout": "IPY_MODEL_2c067ae052db4c16ba068130a89151c9",
            "_model_module": "@jupyter-widgets/controls",
            "children": [
              "IPY_MODEL_de805bcec69f41368396a4299188c7fb",
              "IPY_MODEL_2b50b00b0be44a2f9d00cc5f8a29ea61"
            ]
          }
        },
        "2c067ae052db4c16ba068130a89151c9": {
          "model_module": "@jupyter-widgets/base",
          "model_name": "LayoutModel",
          "state": {
            "_view_name": "LayoutView",
            "grid_template_rows": null,
            "right": null,
            "justify_content": null,
            "_view_module": "@jupyter-widgets/base",
            "overflow": null,
            "_model_module_version": "1.2.0",
            "_view_count": null,
            "flex_flow": null,
            "width": null,
            "min_width": null,
            "border": null,
            "align_items": null,
            "bottom": null,
            "_model_module": "@jupyter-widgets/base",
            "top": null,
            "grid_column": null,
            "overflow_y": null,
            "overflow_x": null,
            "grid_auto_flow": null,
            "grid_area": null,
            "grid_template_columns": null,
            "flex": null,
            "_model_name": "LayoutModel",
            "justify_items": null,
            "grid_row": null,
            "max_height": null,
            "align_content": null,
            "visibility": null,
            "align_self": null,
            "height": null,
            "min_height": null,
            "padding": null,
            "grid_auto_rows": null,
            "grid_gap": null,
            "max_width": null,
            "order": null,
            "_view_module_version": "1.2.0",
            "grid_template_areas": null,
            "object_position": null,
            "object_fit": null,
            "grid_auto_columns": null,
            "margin": null,
            "display": null,
            "left": null
          }
        },
        "de805bcec69f41368396a4299188c7fb": {
          "model_module": "@jupyter-widgets/controls",
          "model_name": "IntProgressModel",
          "state": {
            "_view_name": "ProgressView",
            "style": "IPY_MODEL_8c764a4004904f9b8b2a0a7bc843eb58",
            "_dom_classes": [],
            "description": "Current iteration",
            "_model_name": "IntProgressModel",
            "bar_style": "success",
            "max": 527,
            "_view_module": "@jupyter-widgets/controls",
            "_model_module_version": "1.5.0",
            "value": 527,
            "_view_count": null,
            "_view_module_version": "1.5.0",
            "orientation": "horizontal",
            "min": 0,
            "description_tooltip": null,
            "_model_module": "@jupyter-widgets/controls",
            "layout": "IPY_MODEL_7ed4cb338e344d7a995a9dccd9b566e5"
          }
        },
        "2b50b00b0be44a2f9d00cc5f8a29ea61": {
          "model_module": "@jupyter-widgets/controls",
          "model_name": "HTMLModel",
          "state": {
            "_view_name": "HTMLView",
            "style": "IPY_MODEL_8e9ff448b5714c67b636a078287a5adc",
            "_dom_classes": [],
            "description": "",
            "_model_name": "HTMLModel",
            "placeholder": "​",
            "_view_module": "@jupyter-widgets/controls",
            "_model_module_version": "1.5.0",
            "value": "100% 527/527 [00:46&lt;00:00, 11.72it/s]",
            "_view_count": null,
            "_view_module_version": "1.5.0",
            "description_tooltip": null,
            "_model_module": "@jupyter-widgets/controls",
            "layout": "IPY_MODEL_7009b0f1849b4edb81a31b79d2c3f7e6"
          }
        },
        "8c764a4004904f9b8b2a0a7bc843eb58": {
          "model_module": "@jupyter-widgets/controls",
          "model_name": "ProgressStyleModel",
          "state": {
            "_view_name": "StyleView",
            "_model_name": "ProgressStyleModel",
            "description_width": "initial",
            "_view_module": "@jupyter-widgets/base",
            "_model_module_version": "1.5.0",
            "_view_count": null,
            "_view_module_version": "1.2.0",
            "bar_color": null,
            "_model_module": "@jupyter-widgets/controls"
          }
        },
        "7ed4cb338e344d7a995a9dccd9b566e5": {
          "model_module": "@jupyter-widgets/base",
          "model_name": "LayoutModel",
          "state": {
            "_view_name": "LayoutView",
            "grid_template_rows": null,
            "right": null,
            "justify_content": null,
            "_view_module": "@jupyter-widgets/base",
            "overflow": null,
            "_model_module_version": "1.2.0",
            "_view_count": null,
            "flex_flow": null,
            "width": null,
            "min_width": null,
            "border": null,
            "align_items": null,
            "bottom": null,
            "_model_module": "@jupyter-widgets/base",
            "top": null,
            "grid_column": null,
            "overflow_y": null,
            "overflow_x": null,
            "grid_auto_flow": null,
            "grid_area": null,
            "grid_template_columns": null,
            "flex": null,
            "_model_name": "LayoutModel",
            "justify_items": null,
            "grid_row": null,
            "max_height": null,
            "align_content": null,
            "visibility": null,
            "align_self": null,
            "height": null,
            "min_height": null,
            "padding": null,
            "grid_auto_rows": null,
            "grid_gap": null,
            "max_width": null,
            "order": null,
            "_view_module_version": "1.2.0",
            "grid_template_areas": null,
            "object_position": null,
            "object_fit": null,
            "grid_auto_columns": null,
            "margin": null,
            "display": null,
            "left": null
          }
        },
        "8e9ff448b5714c67b636a078287a5adc": {
          "model_module": "@jupyter-widgets/controls",
          "model_name": "DescriptionStyleModel",
          "state": {
            "_view_name": "StyleView",
            "_model_name": "DescriptionStyleModel",
            "description_width": "",
            "_view_module": "@jupyter-widgets/base",
            "_model_module_version": "1.5.0",
            "_view_count": null,
            "_view_module_version": "1.2.0",
            "_model_module": "@jupyter-widgets/controls"
          }
        },
        "7009b0f1849b4edb81a31b79d2c3f7e6": {
          "model_module": "@jupyter-widgets/base",
          "model_name": "LayoutModel",
          "state": {
            "_view_name": "LayoutView",
            "grid_template_rows": null,
            "right": null,
            "justify_content": null,
            "_view_module": "@jupyter-widgets/base",
            "overflow": null,
            "_model_module_version": "1.2.0",
            "_view_count": null,
            "flex_flow": null,
            "width": null,
            "min_width": null,
            "border": null,
            "align_items": null,
            "bottom": null,
            "_model_module": "@jupyter-widgets/base",
            "top": null,
            "grid_column": null,
            "overflow_y": null,
            "overflow_x": null,
            "grid_auto_flow": null,
            "grid_area": null,
            "grid_template_columns": null,
            "flex": null,
            "_model_name": "LayoutModel",
            "justify_items": null,
            "grid_row": null,
            "max_height": null,
            "align_content": null,
            "visibility": null,
            "align_self": null,
            "height": null,
            "min_height": null,
            "padding": null,
            "grid_auto_rows": null,
            "grid_gap": null,
            "max_width": null,
            "order": null,
            "_view_module_version": "1.2.0",
            "grid_template_areas": null,
            "object_position": null,
            "object_fit": null,
            "grid_auto_columns": null,
            "margin": null,
            "display": null,
            "left": null
          }
        },
        "081c2cb530ec46ed8d46065f31a7c086": {
          "model_module": "@jupyter-widgets/controls",
          "model_name": "HBoxModel",
          "state": {
            "_view_name": "HBoxView",
            "_dom_classes": [],
            "_model_name": "HBoxModel",
            "_view_module": "@jupyter-widgets/controls",
            "_model_module_version": "1.5.0",
            "_view_count": null,
            "_view_module_version": "1.5.0",
            "box_style": "",
            "layout": "IPY_MODEL_6e082f8b5d144d808a29421c0756be67",
            "_model_module": "@jupyter-widgets/controls",
            "children": [
              "IPY_MODEL_3d21eb31fdde4a4f9b0d02c8d7cf8bb2",
              "IPY_MODEL_39a2855bd9cd48eda4c25df3341f186e"
            ]
          }
        },
        "6e082f8b5d144d808a29421c0756be67": {
          "model_module": "@jupyter-widgets/base",
          "model_name": "LayoutModel",
          "state": {
            "_view_name": "LayoutView",
            "grid_template_rows": null,
            "right": null,
            "justify_content": null,
            "_view_module": "@jupyter-widgets/base",
            "overflow": null,
            "_model_module_version": "1.2.0",
            "_view_count": null,
            "flex_flow": null,
            "width": null,
            "min_width": null,
            "border": null,
            "align_items": null,
            "bottom": null,
            "_model_module": "@jupyter-widgets/base",
            "top": null,
            "grid_column": null,
            "overflow_y": null,
            "overflow_x": null,
            "grid_auto_flow": null,
            "grid_area": null,
            "grid_template_columns": null,
            "flex": null,
            "_model_name": "LayoutModel",
            "justify_items": null,
            "grid_row": null,
            "max_height": null,
            "align_content": null,
            "visibility": null,
            "align_self": null,
            "height": null,
            "min_height": null,
            "padding": null,
            "grid_auto_rows": null,
            "grid_gap": null,
            "max_width": null,
            "order": null,
            "_view_module_version": "1.2.0",
            "grid_template_areas": null,
            "object_position": null,
            "object_fit": null,
            "grid_auto_columns": null,
            "margin": null,
            "display": null,
            "left": null
          }
        },
        "3d21eb31fdde4a4f9b0d02c8d7cf8bb2": {
          "model_module": "@jupyter-widgets/controls",
          "model_name": "IntProgressModel",
          "state": {
            "_view_name": "ProgressView",
            "style": "IPY_MODEL_ff8eb85ab88948b183c7dbf729ec4311",
            "_dom_classes": [],
            "description": "Current iteration",
            "_model_name": "IntProgressModel",
            "bar_style": "success",
            "max": 527,
            "_view_module": "@jupyter-widgets/controls",
            "_model_module_version": "1.5.0",
            "value": 527,
            "_view_count": null,
            "_view_module_version": "1.5.0",
            "orientation": "horizontal",
            "min": 0,
            "description_tooltip": null,
            "_model_module": "@jupyter-widgets/controls",
            "layout": "IPY_MODEL_e1f140413a3d422697bdbd98177a5048"
          }
        },
        "39a2855bd9cd48eda4c25df3341f186e": {
          "model_module": "@jupyter-widgets/controls",
          "model_name": "HTMLModel",
          "state": {
            "_view_name": "HTMLView",
            "style": "IPY_MODEL_56d1732298504e6c8a4cf123523f443b",
            "_dom_classes": [],
            "description": "",
            "_model_name": "HTMLModel",
            "placeholder": "​",
            "_view_module": "@jupyter-widgets/controls",
            "_model_module_version": "1.5.0",
            "value": "100% 527/527 [00:46&lt;00:00, 11.65it/s]",
            "_view_count": null,
            "_view_module_version": "1.5.0",
            "description_tooltip": null,
            "_model_module": "@jupyter-widgets/controls",
            "layout": "IPY_MODEL_4e95463b24ec47b39590033013ce5650"
          }
        },
        "ff8eb85ab88948b183c7dbf729ec4311": {
          "model_module": "@jupyter-widgets/controls",
          "model_name": "ProgressStyleModel",
          "state": {
            "_view_name": "StyleView",
            "_model_name": "ProgressStyleModel",
            "description_width": "initial",
            "_view_module": "@jupyter-widgets/base",
            "_model_module_version": "1.5.0",
            "_view_count": null,
            "_view_module_version": "1.2.0",
            "bar_color": null,
            "_model_module": "@jupyter-widgets/controls"
          }
        },
        "e1f140413a3d422697bdbd98177a5048": {
          "model_module": "@jupyter-widgets/base",
          "model_name": "LayoutModel",
          "state": {
            "_view_name": "LayoutView",
            "grid_template_rows": null,
            "right": null,
            "justify_content": null,
            "_view_module": "@jupyter-widgets/base",
            "overflow": null,
            "_model_module_version": "1.2.0",
            "_view_count": null,
            "flex_flow": null,
            "width": null,
            "min_width": null,
            "border": null,
            "align_items": null,
            "bottom": null,
            "_model_module": "@jupyter-widgets/base",
            "top": null,
            "grid_column": null,
            "overflow_y": null,
            "overflow_x": null,
            "grid_auto_flow": null,
            "grid_area": null,
            "grid_template_columns": null,
            "flex": null,
            "_model_name": "LayoutModel",
            "justify_items": null,
            "grid_row": null,
            "max_height": null,
            "align_content": null,
            "visibility": null,
            "align_self": null,
            "height": null,
            "min_height": null,
            "padding": null,
            "grid_auto_rows": null,
            "grid_gap": null,
            "max_width": null,
            "order": null,
            "_view_module_version": "1.2.0",
            "grid_template_areas": null,
            "object_position": null,
            "object_fit": null,
            "grid_auto_columns": null,
            "margin": null,
            "display": null,
            "left": null
          }
        },
        "56d1732298504e6c8a4cf123523f443b": {
          "model_module": "@jupyter-widgets/controls",
          "model_name": "DescriptionStyleModel",
          "state": {
            "_view_name": "StyleView",
            "_model_name": "DescriptionStyleModel",
            "description_width": "",
            "_view_module": "@jupyter-widgets/base",
            "_model_module_version": "1.5.0",
            "_view_count": null,
            "_view_module_version": "1.2.0",
            "_model_module": "@jupyter-widgets/controls"
          }
        },
        "4e95463b24ec47b39590033013ce5650": {
          "model_module": "@jupyter-widgets/base",
          "model_name": "LayoutModel",
          "state": {
            "_view_name": "LayoutView",
            "grid_template_rows": null,
            "right": null,
            "justify_content": null,
            "_view_module": "@jupyter-widgets/base",
            "overflow": null,
            "_model_module_version": "1.2.0",
            "_view_count": null,
            "flex_flow": null,
            "width": null,
            "min_width": null,
            "border": null,
            "align_items": null,
            "bottom": null,
            "_model_module": "@jupyter-widgets/base",
            "top": null,
            "grid_column": null,
            "overflow_y": null,
            "overflow_x": null,
            "grid_auto_flow": null,
            "grid_area": null,
            "grid_template_columns": null,
            "flex": null,
            "_model_name": "LayoutModel",
            "justify_items": null,
            "grid_row": null,
            "max_height": null,
            "align_content": null,
            "visibility": null,
            "align_self": null,
            "height": null,
            "min_height": null,
            "padding": null,
            "grid_auto_rows": null,
            "grid_gap": null,
            "max_width": null,
            "order": null,
            "_view_module_version": "1.2.0",
            "grid_template_areas": null,
            "object_position": null,
            "object_fit": null,
            "grid_auto_columns": null,
            "margin": null,
            "display": null,
            "left": null
          }
        },
        "c239935d72584bd8a2abf8e686783a85": {
          "model_module": "@jupyter-widgets/controls",
          "model_name": "HBoxModel",
          "state": {
            "_view_name": "HBoxView",
            "_dom_classes": [],
            "_model_name": "HBoxModel",
            "_view_module": "@jupyter-widgets/controls",
            "_model_module_version": "1.5.0",
            "_view_count": null,
            "_view_module_version": "1.5.0",
            "box_style": "",
            "layout": "IPY_MODEL_c2f88879d755487383b5ab2057ff7082",
            "_model_module": "@jupyter-widgets/controls",
            "children": [
              "IPY_MODEL_f22f9e0f4df54cf4b60eef1ff4242970",
              "IPY_MODEL_490708afb24a4971b3cd154eb98ed418"
            ]
          }
        },
        "c2f88879d755487383b5ab2057ff7082": {
          "model_module": "@jupyter-widgets/base",
          "model_name": "LayoutModel",
          "state": {
            "_view_name": "LayoutView",
            "grid_template_rows": null,
            "right": null,
            "justify_content": null,
            "_view_module": "@jupyter-widgets/base",
            "overflow": null,
            "_model_module_version": "1.2.0",
            "_view_count": null,
            "flex_flow": null,
            "width": null,
            "min_width": null,
            "border": null,
            "align_items": null,
            "bottom": null,
            "_model_module": "@jupyter-widgets/base",
            "top": null,
            "grid_column": null,
            "overflow_y": null,
            "overflow_x": null,
            "grid_auto_flow": null,
            "grid_area": null,
            "grid_template_columns": null,
            "flex": null,
            "_model_name": "LayoutModel",
            "justify_items": null,
            "grid_row": null,
            "max_height": null,
            "align_content": null,
            "visibility": null,
            "align_self": null,
            "height": null,
            "min_height": null,
            "padding": null,
            "grid_auto_rows": null,
            "grid_gap": null,
            "max_width": null,
            "order": null,
            "_view_module_version": "1.2.0",
            "grid_template_areas": null,
            "object_position": null,
            "object_fit": null,
            "grid_auto_columns": null,
            "margin": null,
            "display": null,
            "left": null
          }
        },
        "f22f9e0f4df54cf4b60eef1ff4242970": {
          "model_module": "@jupyter-widgets/controls",
          "model_name": "IntProgressModel",
          "state": {
            "_view_name": "ProgressView",
            "style": "IPY_MODEL_09a2b09deaae40d1b764c44534935d3e",
            "_dom_classes": [],
            "description": "",
            "_model_name": "IntProgressModel",
            "bar_style": "success",
            "max": 1317,
            "_view_module": "@jupyter-widgets/controls",
            "_model_module_version": "1.5.0",
            "value": 1317,
            "_view_count": null,
            "_view_module_version": "1.5.0",
            "orientation": "horizontal",
            "min": 0,
            "description_tooltip": null,
            "_model_module": "@jupyter-widgets/controls",
            "layout": "IPY_MODEL_4dfc1e27ec0441ecaf653f996af57964"
          }
        },
        "490708afb24a4971b3cd154eb98ed418": {
          "model_module": "@jupyter-widgets/controls",
          "model_name": "HTMLModel",
          "state": {
            "_view_name": "HTMLView",
            "style": "IPY_MODEL_60d541eca4f9443db7f8b959ee5aa45a",
            "_dom_classes": [],
            "description": "",
            "_model_name": "HTMLModel",
            "placeholder": "​",
            "_view_module": "@jupyter-widgets/controls",
            "_model_module_version": "1.5.0",
            "value": "100% 1317/1317 [00:00&lt;00:00, 3449.05it/s]",
            "_view_count": null,
            "_view_module_version": "1.5.0",
            "description_tooltip": null,
            "_model_module": "@jupyter-widgets/controls",
            "layout": "IPY_MODEL_6dbc91e5e1c2416a8c6c8afe040fa481"
          }
        },
        "09a2b09deaae40d1b764c44534935d3e": {
          "model_module": "@jupyter-widgets/controls",
          "model_name": "ProgressStyleModel",
          "state": {
            "_view_name": "StyleView",
            "_model_name": "ProgressStyleModel",
            "description_width": "",
            "_view_module": "@jupyter-widgets/base",
            "_model_module_version": "1.5.0",
            "_view_count": null,
            "_view_module_version": "1.2.0",
            "bar_color": null,
            "_model_module": "@jupyter-widgets/controls"
          }
        },
        "4dfc1e27ec0441ecaf653f996af57964": {
          "model_module": "@jupyter-widgets/base",
          "model_name": "LayoutModel",
          "state": {
            "_view_name": "LayoutView",
            "grid_template_rows": null,
            "right": null,
            "justify_content": null,
            "_view_module": "@jupyter-widgets/base",
            "overflow": null,
            "_model_module_version": "1.2.0",
            "_view_count": null,
            "flex_flow": null,
            "width": null,
            "min_width": null,
            "border": null,
            "align_items": null,
            "bottom": null,
            "_model_module": "@jupyter-widgets/base",
            "top": null,
            "grid_column": null,
            "overflow_y": null,
            "overflow_x": null,
            "grid_auto_flow": null,
            "grid_area": null,
            "grid_template_columns": null,
            "flex": null,
            "_model_name": "LayoutModel",
            "justify_items": null,
            "grid_row": null,
            "max_height": null,
            "align_content": null,
            "visibility": null,
            "align_self": null,
            "height": null,
            "min_height": null,
            "padding": null,
            "grid_auto_rows": null,
            "grid_gap": null,
            "max_width": null,
            "order": null,
            "_view_module_version": "1.2.0",
            "grid_template_areas": null,
            "object_position": null,
            "object_fit": null,
            "grid_auto_columns": null,
            "margin": null,
            "display": null,
            "left": null
          }
        },
        "60d541eca4f9443db7f8b959ee5aa45a": {
          "model_module": "@jupyter-widgets/controls",
          "model_name": "DescriptionStyleModel",
          "state": {
            "_view_name": "StyleView",
            "_model_name": "DescriptionStyleModel",
            "description_width": "",
            "_view_module": "@jupyter-widgets/base",
            "_model_module_version": "1.5.0",
            "_view_count": null,
            "_view_module_version": "1.2.0",
            "_model_module": "@jupyter-widgets/controls"
          }
        },
        "6dbc91e5e1c2416a8c6c8afe040fa481": {
          "model_module": "@jupyter-widgets/base",
          "model_name": "LayoutModel",
          "state": {
            "_view_name": "LayoutView",
            "grid_template_rows": null,
            "right": null,
            "justify_content": null,
            "_view_module": "@jupyter-widgets/base",
            "overflow": null,
            "_model_module_version": "1.2.0",
            "_view_count": null,
            "flex_flow": null,
            "width": null,
            "min_width": null,
            "border": null,
            "align_items": null,
            "bottom": null,
            "_model_module": "@jupyter-widgets/base",
            "top": null,
            "grid_column": null,
            "overflow_y": null,
            "overflow_x": null,
            "grid_auto_flow": null,
            "grid_area": null,
            "grid_template_columns": null,
            "flex": null,
            "_model_name": "LayoutModel",
            "justify_items": null,
            "grid_row": null,
            "max_height": null,
            "align_content": null,
            "visibility": null,
            "align_self": null,
            "height": null,
            "min_height": null,
            "padding": null,
            "grid_auto_rows": null,
            "grid_gap": null,
            "max_width": null,
            "order": null,
            "_view_module_version": "1.2.0",
            "grid_template_areas": null,
            "object_position": null,
            "object_fit": null,
            "grid_auto_columns": null,
            "margin": null,
            "display": null,
            "left": null
          }
        },
        "2a4db1abe6164d3c9e750babc3145df0": {
          "model_module": "@jupyter-widgets/controls",
          "model_name": "HBoxModel",
          "state": {
            "_view_name": "HBoxView",
            "_dom_classes": [],
            "_model_name": "HBoxModel",
            "_view_module": "@jupyter-widgets/controls",
            "_model_module_version": "1.5.0",
            "_view_count": null,
            "_view_module_version": "1.5.0",
            "box_style": "",
            "layout": "IPY_MODEL_a4158015e3044174892b7cf330b2c376",
            "_model_module": "@jupyter-widgets/controls",
            "children": [
              "IPY_MODEL_35242bf14569424b85c7f8cfea685489",
              "IPY_MODEL_36956de552a14f6eaaf7032fbe1f87e7"
            ]
          }
        },
        "a4158015e3044174892b7cf330b2c376": {
          "model_module": "@jupyter-widgets/base",
          "model_name": "LayoutModel",
          "state": {
            "_view_name": "LayoutView",
            "grid_template_rows": null,
            "right": null,
            "justify_content": null,
            "_view_module": "@jupyter-widgets/base",
            "overflow": null,
            "_model_module_version": "1.2.0",
            "_view_count": null,
            "flex_flow": null,
            "width": null,
            "min_width": null,
            "border": null,
            "align_items": null,
            "bottom": null,
            "_model_module": "@jupyter-widgets/base",
            "top": null,
            "grid_column": null,
            "overflow_y": null,
            "overflow_x": null,
            "grid_auto_flow": null,
            "grid_area": null,
            "grid_template_columns": null,
            "flex": null,
            "_model_name": "LayoutModel",
            "justify_items": null,
            "grid_row": null,
            "max_height": null,
            "align_content": null,
            "visibility": null,
            "align_self": null,
            "height": null,
            "min_height": null,
            "padding": null,
            "grid_auto_rows": null,
            "grid_gap": null,
            "max_width": null,
            "order": null,
            "_view_module_version": "1.2.0",
            "grid_template_areas": null,
            "object_position": null,
            "object_fit": null,
            "grid_auto_columns": null,
            "margin": null,
            "display": null,
            "left": null
          }
        },
        "35242bf14569424b85c7f8cfea685489": {
          "model_module": "@jupyter-widgets/controls",
          "model_name": "IntProgressModel",
          "state": {
            "_view_name": "ProgressView",
            "style": "IPY_MODEL_853a5046ada845e18faefdad412f47e4",
            "_dom_classes": [],
            "description": "",
            "_model_name": "IntProgressModel",
            "bar_style": "success",
            "max": 165,
            "_view_module": "@jupyter-widgets/controls",
            "_model_module_version": "1.5.0",
            "value": 165,
            "_view_count": null,
            "_view_module_version": "1.5.0",
            "orientation": "horizontal",
            "min": 0,
            "description_tooltip": null,
            "_model_module": "@jupyter-widgets/controls",
            "layout": "IPY_MODEL_867e279040ba4f00ae4033b0d5d5961a"
          }
        },
        "36956de552a14f6eaaf7032fbe1f87e7": {
          "model_module": "@jupyter-widgets/controls",
          "model_name": "HTMLModel",
          "state": {
            "_view_name": "HTMLView",
            "style": "IPY_MODEL_b5d2c8313e8140abb281805aae0711eb",
            "_dom_classes": [],
            "description": "",
            "_model_name": "HTMLModel",
            "placeholder": "​",
            "_view_module": "@jupyter-widgets/controls",
            "_model_module_version": "1.5.0",
            "value": "100% 165/165 [00:04&lt;00:00, 37.46it/s]",
            "_view_count": null,
            "_view_module_version": "1.5.0",
            "description_tooltip": null,
            "_model_module": "@jupyter-widgets/controls",
            "layout": "IPY_MODEL_a7b896ae09664be286734335cfefe81a"
          }
        },
        "853a5046ada845e18faefdad412f47e4": {
          "model_module": "@jupyter-widgets/controls",
          "model_name": "ProgressStyleModel",
          "state": {
            "_view_name": "StyleView",
            "_model_name": "ProgressStyleModel",
            "description_width": "",
            "_view_module": "@jupyter-widgets/base",
            "_model_module_version": "1.5.0",
            "_view_count": null,
            "_view_module_version": "1.2.0",
            "bar_color": null,
            "_model_module": "@jupyter-widgets/controls"
          }
        },
        "867e279040ba4f00ae4033b0d5d5961a": {
          "model_module": "@jupyter-widgets/base",
          "model_name": "LayoutModel",
          "state": {
            "_view_name": "LayoutView",
            "grid_template_rows": null,
            "right": null,
            "justify_content": null,
            "_view_module": "@jupyter-widgets/base",
            "overflow": null,
            "_model_module_version": "1.2.0",
            "_view_count": null,
            "flex_flow": null,
            "width": null,
            "min_width": null,
            "border": null,
            "align_items": null,
            "bottom": null,
            "_model_module": "@jupyter-widgets/base",
            "top": null,
            "grid_column": null,
            "overflow_y": null,
            "overflow_x": null,
            "grid_auto_flow": null,
            "grid_area": null,
            "grid_template_columns": null,
            "flex": null,
            "_model_name": "LayoutModel",
            "justify_items": null,
            "grid_row": null,
            "max_height": null,
            "align_content": null,
            "visibility": null,
            "align_self": null,
            "height": null,
            "min_height": null,
            "padding": null,
            "grid_auto_rows": null,
            "grid_gap": null,
            "max_width": null,
            "order": null,
            "_view_module_version": "1.2.0",
            "grid_template_areas": null,
            "object_position": null,
            "object_fit": null,
            "grid_auto_columns": null,
            "margin": null,
            "display": null,
            "left": null
          }
        },
        "b5d2c8313e8140abb281805aae0711eb": {
          "model_module": "@jupyter-widgets/controls",
          "model_name": "DescriptionStyleModel",
          "state": {
            "_view_name": "StyleView",
            "_model_name": "DescriptionStyleModel",
            "description_width": "",
            "_view_module": "@jupyter-widgets/base",
            "_model_module_version": "1.5.0",
            "_view_count": null,
            "_view_module_version": "1.2.0",
            "_model_module": "@jupyter-widgets/controls"
          }
        },
        "a7b896ae09664be286734335cfefe81a": {
          "model_module": "@jupyter-widgets/base",
          "model_name": "LayoutModel",
          "state": {
            "_view_name": "LayoutView",
            "grid_template_rows": null,
            "right": null,
            "justify_content": null,
            "_view_module": "@jupyter-widgets/base",
            "overflow": null,
            "_model_module_version": "1.2.0",
            "_view_count": null,
            "flex_flow": null,
            "width": null,
            "min_width": null,
            "border": null,
            "align_items": null,
            "bottom": null,
            "_model_module": "@jupyter-widgets/base",
            "top": null,
            "grid_column": null,
            "overflow_y": null,
            "overflow_x": null,
            "grid_auto_flow": null,
            "grid_area": null,
            "grid_template_columns": null,
            "flex": null,
            "_model_name": "LayoutModel",
            "justify_items": null,
            "grid_row": null,
            "max_height": null,
            "align_content": null,
            "visibility": null,
            "align_self": null,
            "height": null,
            "min_height": null,
            "padding": null,
            "grid_auto_rows": null,
            "grid_gap": null,
            "max_width": null,
            "order": null,
            "_view_module_version": "1.2.0",
            "grid_template_areas": null,
            "object_position": null,
            "object_fit": null,
            "grid_auto_columns": null,
            "margin": null,
            "display": null,
            "left": null
          }
        },
        "0d4e029298bd4061ab5785ee03d536f6": {
          "model_module": "@jupyter-widgets/controls",
          "model_name": "HBoxModel",
          "state": {
            "_view_name": "HBoxView",
            "_dom_classes": [],
            "_model_name": "HBoxModel",
            "_view_module": "@jupyter-widgets/controls",
            "_model_module_version": "1.5.0",
            "_view_count": null,
            "_view_module_version": "1.5.0",
            "box_style": "",
            "layout": "IPY_MODEL_e2732a44cca94962be68808aa7518bca",
            "_model_module": "@jupyter-widgets/controls",
            "children": [
              "IPY_MODEL_a298723a3cd64ac2a5ec24b87a164780",
              "IPY_MODEL_4b7cff8ddb024cf094eb0df544d21c38"
            ]
          }
        },
        "e2732a44cca94962be68808aa7518bca": {
          "model_module": "@jupyter-widgets/base",
          "model_name": "LayoutModel",
          "state": {
            "_view_name": "LayoutView",
            "grid_template_rows": null,
            "right": null,
            "justify_content": null,
            "_view_module": "@jupyter-widgets/base",
            "overflow": null,
            "_model_module_version": "1.2.0",
            "_view_count": null,
            "flex_flow": null,
            "width": null,
            "min_width": null,
            "border": null,
            "align_items": null,
            "bottom": null,
            "_model_module": "@jupyter-widgets/base",
            "top": null,
            "grid_column": null,
            "overflow_y": null,
            "overflow_x": null,
            "grid_auto_flow": null,
            "grid_area": null,
            "grid_template_columns": null,
            "flex": null,
            "_model_name": "LayoutModel",
            "justify_items": null,
            "grid_row": null,
            "max_height": null,
            "align_content": null,
            "visibility": null,
            "align_self": null,
            "height": null,
            "min_height": null,
            "padding": null,
            "grid_auto_rows": null,
            "grid_gap": null,
            "max_width": null,
            "order": null,
            "_view_module_version": "1.2.0",
            "grid_template_areas": null,
            "object_position": null,
            "object_fit": null,
            "grid_auto_columns": null,
            "margin": null,
            "display": null,
            "left": null
          }
        },
        "a298723a3cd64ac2a5ec24b87a164780": {
          "model_module": "@jupyter-widgets/controls",
          "model_name": "IntProgressModel",
          "state": {
            "_view_name": "ProgressView",
            "style": "IPY_MODEL_071e2d09d7e04c549598682cabb55186",
            "_dom_classes": [],
            "description": "",
            "_model_name": "IntProgressModel",
            "bar_style": "success",
            "max": 4000,
            "_view_module": "@jupyter-widgets/controls",
            "_model_module_version": "1.5.0",
            "value": 4000,
            "_view_count": null,
            "_view_module_version": "1.5.0",
            "orientation": "horizontal",
            "min": 0,
            "description_tooltip": null,
            "_model_module": "@jupyter-widgets/controls",
            "layout": "IPY_MODEL_45577a9662a6418aac807e826dd54a83"
          }
        },
        "4b7cff8ddb024cf094eb0df544d21c38": {
          "model_module": "@jupyter-widgets/controls",
          "model_name": "HTMLModel",
          "state": {
            "_view_name": "HTMLView",
            "style": "IPY_MODEL_b576bac90da24808a893f2043f95ba4a",
            "_dom_classes": [],
            "description": "",
            "_model_name": "HTMLModel",
            "placeholder": "​",
            "_view_module": "@jupyter-widgets/controls",
            "_model_module_version": "1.5.0",
            "value": "100% 4000/4000 [00:01&lt;00:00, 3992.07it/s]",
            "_view_count": null,
            "_view_module_version": "1.5.0",
            "description_tooltip": null,
            "_model_module": "@jupyter-widgets/controls",
            "layout": "IPY_MODEL_f999621d2ef945e0a727c48c8f91cf5f"
          }
        },
        "071e2d09d7e04c549598682cabb55186": {
          "model_module": "@jupyter-widgets/controls",
          "model_name": "ProgressStyleModel",
          "state": {
            "_view_name": "StyleView",
            "_model_name": "ProgressStyleModel",
            "description_width": "",
            "_view_module": "@jupyter-widgets/base",
            "_model_module_version": "1.5.0",
            "_view_count": null,
            "_view_module_version": "1.2.0",
            "bar_color": null,
            "_model_module": "@jupyter-widgets/controls"
          }
        },
        "45577a9662a6418aac807e826dd54a83": {
          "model_module": "@jupyter-widgets/base",
          "model_name": "LayoutModel",
          "state": {
            "_view_name": "LayoutView",
            "grid_template_rows": null,
            "right": null,
            "justify_content": null,
            "_view_module": "@jupyter-widgets/base",
            "overflow": null,
            "_model_module_version": "1.2.0",
            "_view_count": null,
            "flex_flow": null,
            "width": null,
            "min_width": null,
            "border": null,
            "align_items": null,
            "bottom": null,
            "_model_module": "@jupyter-widgets/base",
            "top": null,
            "grid_column": null,
            "overflow_y": null,
            "overflow_x": null,
            "grid_auto_flow": null,
            "grid_area": null,
            "grid_template_columns": null,
            "flex": null,
            "_model_name": "LayoutModel",
            "justify_items": null,
            "grid_row": null,
            "max_height": null,
            "align_content": null,
            "visibility": null,
            "align_self": null,
            "height": null,
            "min_height": null,
            "padding": null,
            "grid_auto_rows": null,
            "grid_gap": null,
            "max_width": null,
            "order": null,
            "_view_module_version": "1.2.0",
            "grid_template_areas": null,
            "object_position": null,
            "object_fit": null,
            "grid_auto_columns": null,
            "margin": null,
            "display": null,
            "left": null
          }
        },
        "b576bac90da24808a893f2043f95ba4a": {
          "model_module": "@jupyter-widgets/controls",
          "model_name": "DescriptionStyleModel",
          "state": {
            "_view_name": "StyleView",
            "_model_name": "DescriptionStyleModel",
            "description_width": "",
            "_view_module": "@jupyter-widgets/base",
            "_model_module_version": "1.5.0",
            "_view_count": null,
            "_view_module_version": "1.2.0",
            "_model_module": "@jupyter-widgets/controls"
          }
        },
        "f999621d2ef945e0a727c48c8f91cf5f": {
          "model_module": "@jupyter-widgets/base",
          "model_name": "LayoutModel",
          "state": {
            "_view_name": "LayoutView",
            "grid_template_rows": null,
            "right": null,
            "justify_content": null,
            "_view_module": "@jupyter-widgets/base",
            "overflow": null,
            "_model_module_version": "1.2.0",
            "_view_count": null,
            "flex_flow": null,
            "width": null,
            "min_width": null,
            "border": null,
            "align_items": null,
            "bottom": null,
            "_model_module": "@jupyter-widgets/base",
            "top": null,
            "grid_column": null,
            "overflow_y": null,
            "overflow_x": null,
            "grid_auto_flow": null,
            "grid_area": null,
            "grid_template_columns": null,
            "flex": null,
            "_model_name": "LayoutModel",
            "justify_items": null,
            "grid_row": null,
            "max_height": null,
            "align_content": null,
            "visibility": null,
            "align_self": null,
            "height": null,
            "min_height": null,
            "padding": null,
            "grid_auto_rows": null,
            "grid_gap": null,
            "max_width": null,
            "order": null,
            "_view_module_version": "1.2.0",
            "grid_template_areas": null,
            "object_position": null,
            "object_fit": null,
            "grid_auto_columns": null,
            "margin": null,
            "display": null,
            "left": null
          }
        },
        "96fb92889f6644378a64041b794fc6c1": {
          "model_module": "@jupyter-widgets/controls",
          "model_name": "HBoxModel",
          "state": {
            "_view_name": "HBoxView",
            "_dom_classes": [],
            "_model_name": "HBoxModel",
            "_view_module": "@jupyter-widgets/controls",
            "_model_module_version": "1.5.0",
            "_view_count": null,
            "_view_module_version": "1.5.0",
            "box_style": "",
            "layout": "IPY_MODEL_b8a14df58f2043e0ae8fc7cd64d0d18d",
            "_model_module": "@jupyter-widgets/controls",
            "children": [
              "IPY_MODEL_c5473a3986524ed18d88dcf92b9d2f27",
              "IPY_MODEL_e4447ae181ba45b0b430d07e42b34731"
            ]
          }
        },
        "b8a14df58f2043e0ae8fc7cd64d0d18d": {
          "model_module": "@jupyter-widgets/base",
          "model_name": "LayoutModel",
          "state": {
            "_view_name": "LayoutView",
            "grid_template_rows": null,
            "right": null,
            "justify_content": null,
            "_view_module": "@jupyter-widgets/base",
            "overflow": null,
            "_model_module_version": "1.2.0",
            "_view_count": null,
            "flex_flow": null,
            "width": null,
            "min_width": null,
            "border": null,
            "align_items": null,
            "bottom": null,
            "_model_module": "@jupyter-widgets/base",
            "top": null,
            "grid_column": null,
            "overflow_y": null,
            "overflow_x": null,
            "grid_auto_flow": null,
            "grid_area": null,
            "grid_template_columns": null,
            "flex": null,
            "_model_name": "LayoutModel",
            "justify_items": null,
            "grid_row": null,
            "max_height": null,
            "align_content": null,
            "visibility": null,
            "align_self": null,
            "height": null,
            "min_height": null,
            "padding": null,
            "grid_auto_rows": null,
            "grid_gap": null,
            "max_width": null,
            "order": null,
            "_view_module_version": "1.2.0",
            "grid_template_areas": null,
            "object_position": null,
            "object_fit": null,
            "grid_auto_columns": null,
            "margin": null,
            "display": null,
            "left": null
          }
        },
        "c5473a3986524ed18d88dcf92b9d2f27": {
          "model_module": "@jupyter-widgets/controls",
          "model_name": "IntProgressModel",
          "state": {
            "_view_name": "ProgressView",
            "style": "IPY_MODEL_3fddd4434636462aba8d207e93a86bb8",
            "_dom_classes": [],
            "description": "",
            "_model_name": "IntProgressModel",
            "bar_style": "success",
            "max": 500,
            "_view_module": "@jupyter-widgets/controls",
            "_model_module_version": "1.5.0",
            "value": 500,
            "_view_count": null,
            "_view_module_version": "1.5.0",
            "orientation": "horizontal",
            "min": 0,
            "description_tooltip": null,
            "_model_module": "@jupyter-widgets/controls",
            "layout": "IPY_MODEL_def61d6bca4949508c109b653edae062"
          }
        },
        "e4447ae181ba45b0b430d07e42b34731": {
          "model_module": "@jupyter-widgets/controls",
          "model_name": "HTMLModel",
          "state": {
            "_view_name": "HTMLView",
            "style": "IPY_MODEL_587ffb796b7f4f1bbb792d78015ae7c8",
            "_dom_classes": [],
            "description": "",
            "_model_name": "HTMLModel",
            "placeholder": "​",
            "_view_module": "@jupyter-widgets/controls",
            "_model_module_version": "1.5.0",
            "value": "100% 500/500 [00:18&lt;00:00, 26.57it/s]",
            "_view_count": null,
            "_view_module_version": "1.5.0",
            "description_tooltip": null,
            "_model_module": "@jupyter-widgets/controls",
            "layout": "IPY_MODEL_961b8ba4689043fe8f0d8f57b0221608"
          }
        },
        "3fddd4434636462aba8d207e93a86bb8": {
          "model_module": "@jupyter-widgets/controls",
          "model_name": "ProgressStyleModel",
          "state": {
            "_view_name": "StyleView",
            "_model_name": "ProgressStyleModel",
            "description_width": "",
            "_view_module": "@jupyter-widgets/base",
            "_model_module_version": "1.5.0",
            "_view_count": null,
            "_view_module_version": "1.2.0",
            "bar_color": null,
            "_model_module": "@jupyter-widgets/controls"
          }
        },
        "def61d6bca4949508c109b653edae062": {
          "model_module": "@jupyter-widgets/base",
          "model_name": "LayoutModel",
          "state": {
            "_view_name": "LayoutView",
            "grid_template_rows": null,
            "right": null,
            "justify_content": null,
            "_view_module": "@jupyter-widgets/base",
            "overflow": null,
            "_model_module_version": "1.2.0",
            "_view_count": null,
            "flex_flow": null,
            "width": null,
            "min_width": null,
            "border": null,
            "align_items": null,
            "bottom": null,
            "_model_module": "@jupyter-widgets/base",
            "top": null,
            "grid_column": null,
            "overflow_y": null,
            "overflow_x": null,
            "grid_auto_flow": null,
            "grid_area": null,
            "grid_template_columns": null,
            "flex": null,
            "_model_name": "LayoutModel",
            "justify_items": null,
            "grid_row": null,
            "max_height": null,
            "align_content": null,
            "visibility": null,
            "align_self": null,
            "height": null,
            "min_height": null,
            "padding": null,
            "grid_auto_rows": null,
            "grid_gap": null,
            "max_width": null,
            "order": null,
            "_view_module_version": "1.2.0",
            "grid_template_areas": null,
            "object_position": null,
            "object_fit": null,
            "grid_auto_columns": null,
            "margin": null,
            "display": null,
            "left": null
          }
        },
        "587ffb796b7f4f1bbb792d78015ae7c8": {
          "model_module": "@jupyter-widgets/controls",
          "model_name": "DescriptionStyleModel",
          "state": {
            "_view_name": "StyleView",
            "_model_name": "DescriptionStyleModel",
            "description_width": "",
            "_view_module": "@jupyter-widgets/base",
            "_model_module_version": "1.5.0",
            "_view_count": null,
            "_view_module_version": "1.2.0",
            "_model_module": "@jupyter-widgets/controls"
          }
        },
        "961b8ba4689043fe8f0d8f57b0221608": {
          "model_module": "@jupyter-widgets/base",
          "model_name": "LayoutModel",
          "state": {
            "_view_name": "LayoutView",
            "grid_template_rows": null,
            "right": null,
            "justify_content": null,
            "_view_module": "@jupyter-widgets/base",
            "overflow": null,
            "_model_module_version": "1.2.0",
            "_view_count": null,
            "flex_flow": null,
            "width": null,
            "min_width": null,
            "border": null,
            "align_items": null,
            "bottom": null,
            "_model_module": "@jupyter-widgets/base",
            "top": null,
            "grid_column": null,
            "overflow_y": null,
            "overflow_x": null,
            "grid_auto_flow": null,
            "grid_area": null,
            "grid_template_columns": null,
            "flex": null,
            "_model_name": "LayoutModel",
            "justify_items": null,
            "grid_row": null,
            "max_height": null,
            "align_content": null,
            "visibility": null,
            "align_self": null,
            "height": null,
            "min_height": null,
            "padding": null,
            "grid_auto_rows": null,
            "grid_gap": null,
            "max_width": null,
            "order": null,
            "_view_module_version": "1.2.0",
            "grid_template_areas": null,
            "object_position": null,
            "object_fit": null,
            "grid_auto_columns": null,
            "margin": null,
            "display": null,
            "left": null
          }
        }
      }
    }
  },
  "cells": [
    {
      "cell_type": "markdown",
      "metadata": {
        "id": "y38PprNWUWon",
        "colab_type": "text"
      },
      "source": [
        "# EMD: Emotional tweets"
      ]
    },
    {
      "cell_type": "markdown",
      "metadata": {
        "id": "-FdeLhrv_PYl",
        "colab_type": "text"
      },
      "source": [
        "## Installing packages"
      ]
    },
    {
      "cell_type": "code",
      "metadata": {
        "id": "PTTzs91c_OaI",
        "colab_type": "code",
        "colab": {}
      },
      "source": [
        "! pip install unidecode\n",
        "! pip install contractions\n",
        "! pip install wordsegment\n",
        "! pip install emoji --upgrade\n",
        "! pip install plotly --upgrade\n",
        "! python -m spacy download en_core_web_md"
      ],
      "execution_count": 0,
      "outputs": []
    },
    {
      "cell_type": "code",
      "metadata": {
        "colab_type": "code",
        "id": "LP7i81J8twMn",
        "colab": {}
      },
      "source": [
        "import numpy as np\n",
        "import pandas as pd\n",
        "import matplotlib.pyplot as plt\n",
        "import seaborn as sns\n",
        "from sklearn.model_selection import train_test_split\n",
        "from bs4 import BeautifulSoup\n",
        "import unidecode\n",
        "import contractions\n",
        "import gensim.downloader as api\n",
        "import re\n",
        "import wordsegment\n",
        "wordsegment.load()\n",
        "import pkg_resources\n",
        "import emoji"
      ],
      "execution_count": 0,
      "outputs": []
    },
    {
      "cell_type": "markdown",
      "metadata": {
        "id": "kOWGCPhL1ooD",
        "colab_type": "text"
      },
      "source": [
        "### Mounting drive"
      ]
    },
    {
      "cell_type": "code",
      "metadata": {
        "id": "BKFacKxupkVY",
        "colab_type": "code",
        "outputId": "520f6b13-17a8-447d-ef0c-e0a525e72212",
        "colab": {
          "base_uri": "https://localhost:8080/",
          "height": 35
        }
      },
      "source": [
        "from google.colab import drive\n",
        "drive.mount('/content/drive', force_remount=True)\n",
        "# PATH_TO_DIR = '/content/drive/My Drive/STUDIA/SEM 9/emd/'\n",
        "PATH_TO_DIR = '/content/drive/My Drive/000 STUDIA/000 EKSPLORACJA MASYWNYCH DANYCH/'"
      ],
      "execution_count": 2,
      "outputs": [
        {
          "output_type": "stream",
          "text": [
            "Mounted at /content/drive\n"
          ],
          "name": "stdout"
        }
      ]
    },
    {
      "cell_type": "markdown",
      "metadata": {
        "id": "dXtKi4bVUmV3",
        "colab_type": "text"
      },
      "source": [
        "## Loading data"
      ]
    },
    {
      "cell_type": "code",
      "metadata": {
        "id": "uJWMlpHmtZtm",
        "colab_type": "code",
        "outputId": "119bdcb3-076f-443e-d702-d87609583f8c",
        "colab": {
          "base_uri": "https://localhost:8080/",
          "height": 368
        }
      },
      "source": [
        "pd.set_option('display.max_colwidth', -1)\n",
        "\n",
        "training_examples_url = PATH_TO_DIR + 'train.csv'\n",
        "test_examples_url = PATH_TO_DIR + 'test.csv'\n",
        "\n",
        "training_dataset = pd.read_csv(training_examples_url, delimiter=',')\n",
        "\n",
        "print(training_dataset.shape)\n",
        "print(training_dataset.describe())\n",
        "training_dataset.head()"
      ],
      "execution_count": 3,
      "outputs": [
        {
          "output_type": "stream",
          "text": [
            "(5970, 3)\n",
            "                        Id  Category          Tweet\n",
            "count   5970                5970      5970         \n",
            "unique  5964                4         5418         \n",
            "top     641616155619258368  positive  Not Available\n",
            "freq    2                   2888      548          \n"
          ],
          "name": "stdout"
        },
        {
          "output_type": "execute_result",
          "data": {
            "text/html": [
              "<div>\n",
              "<style scoped>\n",
              "    .dataframe tbody tr th:only-of-type {\n",
              "        vertical-align: middle;\n",
              "    }\n",
              "\n",
              "    .dataframe tbody tr th {\n",
              "        vertical-align: top;\n",
              "    }\n",
              "\n",
              "    .dataframe thead th {\n",
              "        text-align: right;\n",
              "    }\n",
              "</style>\n",
              "<table border=\"1\" class=\"dataframe\">\n",
              "  <thead>\n",
              "    <tr style=\"text-align: right;\">\n",
              "      <th></th>\n",
              "      <th>Id</th>\n",
              "      <th>Category</th>\n",
              "      <th>Tweet</th>\n",
              "    </tr>\n",
              "  </thead>\n",
              "  <tbody>\n",
              "    <tr>\n",
              "      <th>0</th>\n",
              "      <td>635769805279248384</td>\n",
              "      <td>negative</td>\n",
              "      <td>Not Available</td>\n",
              "    </tr>\n",
              "    <tr>\n",
              "      <th>1</th>\n",
              "      <td>635930169241374720</td>\n",
              "      <td>neutral</td>\n",
              "      <td>IOS 9 App Transport Security. Mm need to check if my 3rd party network pod supports it http://t.co/fmtcfUAdgj</td>\n",
              "    </tr>\n",
              "    <tr>\n",
              "      <th>2</th>\n",
              "      <td>635950258682523648</td>\n",
              "      <td>neutral</td>\n",
              "      <td>Mar if you have an iOS device, you should download our app too: http://t.co/gl3tn2uDnD</td>\n",
              "    </tr>\n",
              "    <tr>\n",
              "      <th>3</th>\n",
              "      <td>636030803433009153</td>\n",
              "      <td>negative</td>\n",
              "      <td>@jimmie_vanagon my phone does not run on latest IOS which may account for problem the other day .. time it was replaced</td>\n",
              "    </tr>\n",
              "    <tr>\n",
              "      <th>4</th>\n",
              "      <td>636100906224848896</td>\n",
              "      <td>positive</td>\n",
              "      <td>Not sure how to start your publication on iOS? We'll be live helping with ask me anything sessions today and Friday http://t.co/KPqqGjjh3x</td>\n",
              "    </tr>\n",
              "  </tbody>\n",
              "</table>\n",
              "</div>"
            ],
            "text/plain": [
              "                   Id  ...                                                                                                                                       Tweet\n",
              "0  635769805279248384  ...  Not Available                                                                                                                             \n",
              "1  635930169241374720  ...  IOS 9 App Transport Security. Mm need to check if my 3rd party network pod supports it http://t.co/fmtcfUAdgj                             \n",
              "2  635950258682523648  ...  Mar if you have an iOS device, you should download our app too: http://t.co/gl3tn2uDnD                                                    \n",
              "3  636030803433009153  ...  @jimmie_vanagon my phone does not run on latest IOS which may account for problem the other day .. time it was replaced                   \n",
              "4  636100906224848896  ...  Not sure how to start your publication on iOS? We'll be live helping with ask me anything sessions today and Friday http://t.co/KPqqGjjh3x\n",
              "\n",
              "[5 rows x 3 columns]"
            ]
          },
          "metadata": {
            "tags": []
          },
          "execution_count": 3
        }
      ]
    },
    {
      "cell_type": "markdown",
      "metadata": {
        "id": "QB-KGnBXpxxU",
        "colab_type": "text"
      },
      "source": [
        "Detecting repeating or duplicated tweets with Counter:"
      ]
    },
    {
      "cell_type": "code",
      "metadata": {
        "id": "97_2vDOYpYVV",
        "colab_type": "code",
        "outputId": "b37aeca8-3f82-4c64-beba-76d7a4673343",
        "colab": {
          "base_uri": "https://localhost:8080/",
          "height": 375
        }
      },
      "source": [
        "from collections import Counter\n",
        "\n",
        "c = Counter(training_dataset[\"Tweet\"].values)\n",
        "c.most_common(10)"
      ],
      "execution_count": 4,
      "outputs": [
        {
          "output_type": "execute_result",
          "data": {
            "text/plain": [
              "[('Not Available', 548),\n",
              " ('Finishing Jurassic park for like the 100th time tomorrow. Film class is gonna have a lot of reruns for me. All the batman films, Star Wars..',\n",
              "  2),\n",
              " (\"I really hope that Obama attends Serena's match on Saturday...Ciara's doing the National Anthem. Give us deze ratings biches.\",\n",
              "  2),\n",
              " (\"Skimmed it  May not LIKE the SCOTUS decision but it's THE LAW. No offense, but your Pope? Climate Change? seriously? https://t.co/xg2ErQjdvH\",\n",
              "  2),\n",
              " ('@meldrum @iainmartin1 65-70% of Tory &amp; UKIP voters still want to renationalise the railways, as do the 1st &amp; 2nd place cands for Lab Leader.',\n",
              "  2),\n",
              " ('@pperrin @nellesapelle Very wise. Hard to see UKIP going any further tho. Lab &amp; Tory split may open up new space like you said.',\n",
              "  2),\n",
              " ('IOS 9 App Transport Security. Mm need to check if my 3rd party network pod supports it http://t.co/fmtcfUAdgj',\n",
              "  1),\n",
              " ('Mar if you have an iOS device, you should download our app too: http://t.co/gl3tn2uDnD',\n",
              "  1),\n",
              " ('@jimmie_vanagon my phone does not run on latest IOS which may account for problem the other day .. time it was replaced',\n",
              "  1),\n",
              " (\"Not sure how to start your publication on iOS? We'll be live helping with ask me anything sessions today and Friday http://t.co/KPqqGjjh3x\",\n",
              "  1)]"
            ]
          },
          "metadata": {
            "tags": []
          },
          "execution_count": 4
        }
      ]
    },
    {
      "cell_type": "code",
      "metadata": {
        "id": "vi3Uub42jjLZ",
        "colab_type": "code",
        "colab": {
          "base_uri": "https://localhost:8080/",
          "height": 88
        },
        "outputId": "2302e91e-40cf-407a-d973-a0e3101346dd"
      },
      "source": [
        "training_dataset[training_dataset[\"Tweet\"] == \"Not Available\"].Category.value_counts()"
      ],
      "execution_count": 5,
      "outputs": [
        {
          "output_type": "execute_result",
          "data": {
            "text/plain": [
              "positive    289\n",
              "neutral     172\n",
              "negative    87 \n",
              "Name: Category, dtype: int64"
            ]
          },
          "metadata": {
            "tags": []
          },
          "execution_count": 5
        }
      ]
    },
    {
      "cell_type": "code",
      "metadata": {
        "id": "VVXG30J1GKga",
        "colab_type": "code",
        "colab": {}
      },
      "source": [
        "training_dataset = training_dataset.drop_duplicates(subset='Tweet')"
      ],
      "execution_count": 0,
      "outputs": []
    },
    {
      "cell_type": "markdown",
      "metadata": {
        "id": "e3LIsPZKU6kN",
        "colab_type": "text"
      },
      "source": [
        "### Class imbalance"
      ]
    },
    {
      "cell_type": "code",
      "metadata": {
        "colab_type": "code",
        "id": "hMEzRiyEsxDV",
        "outputId": "684e19aa-5ecf-493a-9da2-b09d098b3272",
        "colab": {
          "base_uri": "https://localhost:8080/",
          "height": 392
        }
      },
      "source": [
        "sns.set(font_scale=1.0)\n",
        "countplt=sns.countplot(x='Category', data=training_dataset, palette ='hls')\n",
        "plt.show()\n",
        "\n",
        "print(training_dataset.groupby('Category').count().Id)"
      ],
      "execution_count": 7,
      "outputs": [
        {
          "output_type": "display_data",
          "data": {
            "image/png": "[encoded data removed]",
            "text/plain": [
              "<Figure size 432x288 with 1 Axes>"
            ]
          },
          "metadata": {
            "tags": []
          }
        },
        {
          "output_type": "stream",
          "text": [
            "Category\n",
            "Tweet       1   \n",
            "negative    867 \n",
            "neutral     1953\n",
            "positive    2597\n",
            "Name: Id, dtype: int64\n"
          ],
          "name": "stdout"
        }
      ]
    },
    {
      "cell_type": "code",
      "metadata": {
        "id": "8W3AeaERwDRz",
        "colab_type": "code",
        "outputId": "c25009e3-45d8-4293-c270-9ccd2196de52",
        "colab": {
          "base_uri": "https://localhost:8080/",
          "height": 215
        }
      },
      "source": [
        "training_dataset = training_dataset[(training_dataset[\"Category\"] != 'Tweet') & (training_dataset[\"Tweet\"] != \"Not Available\")]\n",
        "\n",
        "X_all = list(training_dataset.Tweet)\n",
        "X_all[:10]"
      ],
      "execution_count": 8,
      "outputs": [
        {
          "output_type": "execute_result",
          "data": {
            "text/plain": [
              "['IOS 9 App Transport Security. Mm need to check if my 3rd party network pod supports it http://t.co/fmtcfUAdgj',\n",
              " 'Mar if you have an iOS device, you should download our app too: http://t.co/gl3tn2uDnD',\n",
              " '@jimmie_vanagon my phone does not run on latest IOS which may account for problem the other day .. time it was replaced',\n",
              " \"Not sure how to start your publication on iOS? We'll be live helping with ask me anything sessions today and Friday http://t.co/KPqqGjjh3x\",\n",
              " 'Two Dollar Tuesday is here with Forklift 2, QuickKey for iOS and Suite for Pages for just $1.99 today:   http://t.co/BNMFOEACw5',\n",
              " \"If you're not already signed up to test my iOS game, nows your chance! https://t.co/eZhIU6EDpQ\",\n",
              " 'YouTube Gaming Officially Launches On Web, Android, iOS On August 26: YouTube is finally going to r... http://t.co/qbhyA3kaWP #webseries',\n",
              " 'YouTube Gaming Launches Tomorrow with iOS and Android Apps to Go Head-to-Head with Twitch http://t.co/yZOATToeJC #ios #game',\n",
              " \"@astrill Yashan from BBC @bbcchinese the VPN access on IOS may be limited during China's military parade? Any chance to have a chat on that?\",\n",
              " \"Parkrun app for iOS downloaded Where have you been before ?Great app easier access of info &amp; ready for Saturday's run http://t.co/ZyOFhZeRIO\"]"
            ]
          },
          "metadata": {
            "tags": []
          },
          "execution_count": 8
        }
      ]
    },
    {
      "cell_type": "code",
      "metadata": {
        "id": "OJQyuy1_v3hL",
        "colab_type": "code",
        "outputId": "248595f9-5336-4146-e53a-a1870e54a8c8",
        "colab": {
          "base_uri": "https://localhost:8080/",
          "height": 35
        }
      },
      "source": [
        "mapping = {'positive': 0, 'neutral': 1, 'negative': 2}\n",
        "\n",
        "Y_all = list(training_dataset.Category.replace(mapping))\n",
        "Y_all[:10]"
      ],
      "execution_count": 9,
      "outputs": [
        {
          "output_type": "execute_result",
          "data": {
            "text/plain": [
              "[1, 1, 2, 0, 1, 1, 1, 1, 1, 0]"
            ]
          },
          "metadata": {
            "tags": []
          },
          "execution_count": 9
        }
      ]
    },
    {
      "cell_type": "markdown",
      "metadata": {
        "id": "Oe_Q9D-Dr_ym",
        "colab_type": "text"
      },
      "source": [
        "## [optional] Add more data from SemEval 2020 Task12"
      ]
    },
    {
      "cell_type": "code",
      "metadata": {
        "colab_type": "code",
        "id": "mER1mPUtiaPl",
        "outputId": "24f49a35-1348-4cf3-a841-cd67850587b8",
        "colab": {
          "base_uri": "https://localhost:8080/",
          "height": 312
        }
      },
      "source": [
        "training_examples_url = 'https://raw.githubusercontent.com/piotrjaniszewski1/SemEval-2020-Task12/master/data2019/olid-training-v1.0.tsv'\n",
        "training_dataset_semeval = pd.read_csv(training_examples_url, delimiter='\\t')\n",
        "training_dataset_semeval.head()"
      ],
      "execution_count": 10,
      "outputs": [
        {
          "output_type": "execute_result",
          "data": {
            "text/html": [
              "<div>\n",
              "<style scoped>\n",
              "    .dataframe tbody tr th:only-of-type {\n",
              "        vertical-align: middle;\n",
              "    }\n",
              "\n",
              "    .dataframe tbody tr th {\n",
              "        vertical-align: top;\n",
              "    }\n",
              "\n",
              "    .dataframe thead th {\n",
              "        text-align: right;\n",
              "    }\n",
              "</style>\n",
              "<table border=\"1\" class=\"dataframe\">\n",
              "  <thead>\n",
              "    <tr style=\"text-align: right;\">\n",
              "      <th></th>\n",
              "      <th>id</th>\n",
              "      <th>tweet</th>\n",
              "      <th>subtask_a</th>\n",
              "      <th>subtask_b</th>\n",
              "      <th>subtask_c</th>\n",
              "    </tr>\n",
              "  </thead>\n",
              "  <tbody>\n",
              "    <tr>\n",
              "      <th>0</th>\n",
              "      <td>86426</td>\n",
              "      <td>@USER She should ask a few native Americans what their take on this is.</td>\n",
              "      <td>OFF</td>\n",
              "      <td>UNT</td>\n",
              "      <td>NaN</td>\n",
              "    </tr>\n",
              "    <tr>\n",
              "      <th>1</th>\n",
              "      <td>90194</td>\n",
              "      <td>@USER @USER Go home you’re drunk!!! @USER #MAGA #Trump2020 👊🇺🇸👊 URL</td>\n",
              "      <td>OFF</td>\n",
              "      <td>TIN</td>\n",
              "      <td>IND</td>\n",
              "    </tr>\n",
              "    <tr>\n",
              "      <th>2</th>\n",
              "      <td>16820</td>\n",
              "      <td>Amazon is investigating Chinese employees who are selling internal data to third-party sellers looking for an edge in the competitive marketplace. URL #Amazon #MAGA #KAG #CHINA #TCOT</td>\n",
              "      <td>NOT</td>\n",
              "      <td>NaN</td>\n",
              "      <td>NaN</td>\n",
              "    </tr>\n",
              "    <tr>\n",
              "      <th>3</th>\n",
              "      <td>62688</td>\n",
              "      <td>@USER Someone should'veTaken\" this piece of shit to a volcano. 😂\"</td>\n",
              "      <td>OFF</td>\n",
              "      <td>UNT</td>\n",
              "      <td>NaN</td>\n",
              "    </tr>\n",
              "    <tr>\n",
              "      <th>4</th>\n",
              "      <td>43605</td>\n",
              "      <td>@USER @USER Obama wanted liberals &amp;amp; illegals to move into red states</td>\n",
              "      <td>NOT</td>\n",
              "      <td>NaN</td>\n",
              "      <td>NaN</td>\n",
              "    </tr>\n",
              "  </tbody>\n",
              "</table>\n",
              "</div>"
            ],
            "text/plain": [
              "      id  ... subtask_c\n",
              "0  86426  ...  NaN     \n",
              "1  90194  ...  IND     \n",
              "2  16820  ...  NaN     \n",
              "3  62688  ...  NaN     \n",
              "4  43605  ...  NaN     \n",
              "\n",
              "[5 rows x 5 columns]"
            ]
          },
          "metadata": {
            "tags": []
          },
          "execution_count": 10
        }
      ]
    },
    {
      "cell_type": "code",
      "metadata": {
        "colab_type": "code",
        "id": "-xHoiMYYlJQk",
        "colab": {}
      },
      "source": [
        "X_train_semeval = training_dataset_semeval['tweet'][training_dataset_semeval['subtask_a'] == 'OFF']\n",
        "Y_train_semeval = [2] * len(X_train_semeval) \n",
        "\n",
        "X_train_semeval = list(X_train_semeval)\n",
        "Y_train_semeval = list(Y_train_semeval)"
      ],
      "execution_count": 0,
      "outputs": []
    },
    {
      "cell_type": "code",
      "metadata": {
        "id": "T51lkWl3Msfx",
        "colab_type": "code",
        "outputId": "785dba0d-3528-4d47-b75e-9e73aa228418",
        "colab": {
          "base_uri": "https://localhost:8080/",
          "height": 215
        }
      },
      "source": [
        "X_train_semeval[:10]"
      ],
      "execution_count": 12,
      "outputs": [
        {
          "output_type": "execute_result",
          "data": {
            "text/plain": [
              "['@USER She should ask a few native Americans what their take on this is.',\n",
              " '@USER @USER Go home you’re drunk!!! @USER #MAGA #Trump2020 👊🇺🇸👊 URL',\n",
              " '@USER Someone should\\'veTaken\" this piece of shit to a volcano. 😂\"',\n",
              " '@USER Liberals are all Kookoo !!!',\n",
              " '@USER @USER Oh noes! Tough shit.',\n",
              " '@USER was literally just talking about this lol all mass shootings like that have been set ups. it’s propaganda used to divide us on major issues like gun control and terrorism',\n",
              " '@USER Canada doesn’t need another CUCK! We already have enough #LooneyLeft #Liberals f**king up our great country! #Qproofs #TrudeauMustGo',\n",
              " '@USER you are a lying corrupt traitor!!! Nobody wants to hear anymore of your lies!!! #DeepStateCorruption URL',\n",
              " '@USER @USER @USER gun control! That is all these kids are asking for!',\n",
              " '@USER @USER @USER @USER LOL!!!   Throwing the BULLSHIT Flag on such nonsense!!  #PutUpOrShutUp   #Kavanaugh   #MAGA   #CallTheVoteAlready URL']"
            ]
          },
          "metadata": {
            "tags": []
          },
          "execution_count": 12
        }
      ]
    },
    {
      "cell_type": "code",
      "metadata": {
        "id": "m3VZUJmtN-rl",
        "colab_type": "code",
        "outputId": "b19e4ae3-5d3b-4969-d8d2-5ed984db545f",
        "colab": {
          "base_uri": "https://localhost:8080/",
          "height": 35
        }
      },
      "source": [
        "X_all = X_all + X_train_semeval[:1169]\n",
        "Y_all = Y_all + Y_train_semeval[:1169]\n",
        "len(X_all), len(Y_all)"
      ],
      "execution_count": 13,
      "outputs": [
        {
          "output_type": "execute_result",
          "data": {
            "text/plain": [
              "(6585, 6585)"
            ]
          },
          "metadata": {
            "tags": []
          },
          "execution_count": 13
        }
      ]
    },
    {
      "cell_type": "markdown",
      "metadata": {
        "id": "o2bNpHc9qMpw",
        "colab_type": "text"
      },
      "source": [
        "## Preprocessing"
      ]
    },
    {
      "cell_type": "code",
      "metadata": {
        "id": "MMeoPN7WBbkQ",
        "colab_type": "code",
        "outputId": "94411b89-a09b-4304-da64-e181d0bf405c",
        "colab": {
          "base_uri": "https://localhost:8080/",
          "height": 35
        }
      },
      "source": [
        "from sklearn.utils import class_weight\n",
        "\n",
        "class_weights = class_weight.compute_class_weight('balanced',\n",
        "                                            np.unique(Y_all),\n",
        "                                            Y_all)\n",
        "class_weights /= max(class_weights)\n",
        "class_weights"
      ],
      "execution_count": 14,
      "outputs": [
        {
          "output_type": "execute_result",
          "data": {
            "text/plain": [
              "array([0.75202156, 1.        , 0.95970516])"
            ]
          },
          "metadata": {
            "tags": []
          },
          "execution_count": 14
        }
      ]
    },
    {
      "cell_type": "code",
      "metadata": {
        "colab_type": "code",
        "id": "Bt_SBy1lsv1U",
        "colab": {}
      },
      "source": [
        "# remove html tags if exist\n",
        "def strip_html_tags(text):\n",
        "    soup = BeautifulSoup(text, 'html.parser')\n",
        "    stripped_text = soup.get_text(separator=' ')\n",
        "    return stripped_text\n",
        "\n",
        "\n",
        "# remove unnecessary whitespaces\n",
        "def remove_whitespace(text):\n",
        "    text = text.strip()\n",
        "    return ' '.join(text.split())\n",
        "\n",
        "\n",
        "# remove accented chars (e.g. caffè -> caffe)\n",
        "def remove_accented_chars(text):\n",
        "    text = unidecode.unidecode(text)\n",
        "    return text\n",
        "\n",
        "\n",
        "# remove hashes and split words (e.g. '#fortTrump' -> 'fort trump')\n",
        "def split_hashtags_remove_userlogins(text):\n",
        "    splitted = text.split()\n",
        "    new_word_sequence = []\n",
        "\n",
        "    for chunk in splitted:\n",
        "        if chunk[0] == '#':\n",
        "            chunk = chunk[1:]\n",
        "            new_word_sequence.extend(wordsegment.segment(chunk))\n",
        "        elif chunk[0] == '@':\n",
        "          continue\n",
        "        else:\n",
        "            new_word_sequence.append(chunk)\n",
        "        \n",
        "    return ' '.join(tuple(new_word_sequence))\n",
        "\n",
        "\n",
        "def substitute_emojis(text):\n",
        "    demojized_text = emoji.demojize(text)\n",
        "    return re.compile('[_:]+').sub(' ', demojized_text)\n",
        "\n",
        "from urllib.parse import urlparse\n",
        "def remove_links(text):\n",
        "  return ' '.join([word for word in text.split() if 'http' not in urlparse(word).scheme])\n",
        "\n",
        "\n",
        "def preprocess_common(text):\n",
        "    text = remove_links(text)\n",
        "    text = strip_html_tags(text)\n",
        "    text = contractions.fix(text)\n",
        "    text = split_hashtags_remove_userlogins(text)\n",
        "    text = substitute_emojis(text)\n",
        "    text = remove_whitespace(text)\n",
        "    text = remove_accented_chars(text)\n",
        "    return text.lower()"
      ],
      "execution_count": 0,
      "outputs": []
    },
    {
      "cell_type": "code",
      "metadata": {
        "id": "asnEfpzkAzqd",
        "colab_type": "code",
        "outputId": "6da32bcd-a59f-42f4-ba82-698cdf2c19dd",
        "colab": {
          "base_uri": "https://localhost:8080/",
          "height": 570
        }
      },
      "source": [
        "for example in X_all[:10]:\n",
        "  print(example)\n",
        "  print(preprocess_common(example))\n",
        "  print()\n",
        "X_all = [preprocess_common(example) for example in X_all]"
      ],
      "execution_count": 16,
      "outputs": [
        {
          "output_type": "stream",
          "text": [
            "IOS 9 App Transport Security. Mm need to check if my 3rd party network pod supports it http://t.co/fmtcfUAdgj\n",
            "ios 9 app transport security. mm need to check if my 3rd party network pod supports it\n",
            "\n",
            "Mar if you have an iOS device, you should download our app too: http://t.co/gl3tn2uDnD\n",
            "mar if you have an ios device, you should download our app too\n",
            "\n",
            "@jimmie_vanagon my phone does not run on latest IOS which may account for problem the other day .. time it was replaced\n",
            "my phone does not run on latest ios which may account for problem the other day .. time it was replaced\n",
            "\n",
            "Not sure how to start your publication on iOS? We'll be live helping with ask me anything sessions today and Friday http://t.co/KPqqGjjh3x\n",
            "not sure how to start your publication on ios? we will be live helping with ask me anything sessions today and friday\n",
            "\n",
            "Two Dollar Tuesday is here with Forklift 2, QuickKey for iOS and Suite for Pages for just $1.99 today:   http://t.co/BNMFOEACw5\n",
            "two dollar tuesday is here with forklift 2, quickkey for ios and suite for pages for just $1.99 today\n",
            "\n",
            "If you're not already signed up to test my iOS game, nows your chance! https://t.co/eZhIU6EDpQ\n",
            "if you are not already signed up to test my ios game, nows your chance!\n",
            "\n",
            "YouTube Gaming Officially Launches On Web, Android, iOS On August 26: YouTube is finally going to r... http://t.co/qbhyA3kaWP #webseries\n",
            "youtube gaming officially launches on web, android, ios on august 26 youtube is finally going to r... web series\n",
            "\n",
            "YouTube Gaming Launches Tomorrow with iOS and Android Apps to Go Head-to-Head with Twitch http://t.co/yZOATToeJC #ios #game\n",
            "youtube gaming launches tomorrow with ios and android apps to go head-to-head with twitch ios game\n",
            "\n",
            "@astrill Yashan from BBC @bbcchinese the VPN access on IOS may be limited during China's military parade? Any chance to have a chat on that?\n",
            "yashan from bbc the vpn access on ios may be limited during china's military parade? any chance to have a chat on that?\n",
            "\n",
            "Parkrun app for iOS downloaded Where have you been before ?Great app easier access of info &amp; ready for Saturday's run http://t.co/ZyOFhZeRIO\n",
            "parkrun app for ios downloaded where have you been before ?great app easier access of info & ready for saturday's run\n",
            "\n"
          ],
          "name": "stdout"
        }
      ]
    },
    {
      "cell_type": "markdown",
      "metadata": {
        "id": "MUo9zPmKjpYK",
        "colab_type": "text"
      },
      "source": [
        "## Data exploration"
      ]
    },
    {
      "cell_type": "code",
      "metadata": {
        "id": "KGcXSyXRjogq",
        "colab_type": "code",
        "outputId": "27e93ed7-ebea-42a9-f792-eb79a4a87ebc",
        "colab": {
          "base_uri": "https://localhost:8080/",
          "height": 261
        }
      },
      "source": [
        "# df.reset_index(inplace=True)\n",
        "df = pd.DataFrame()\n",
        "inv_map = {v: k for k, v in mapping.items()}\n",
        "\n",
        "df[\"Processed\"] = X_all\n",
        "df[\"Label\"] = Y_all\n",
        "df[\"Category\"] = df[\"Label\"].apply(lambda x : inv_map[x])\n",
        "df[\"Length\"] = df[\"Processed\"].apply(len)\n",
        "df.head()"
      ],
      "execution_count": 17,
      "outputs": [
        {
          "output_type": "execute_result",
          "data": {
            "text/html": [
              "<div>\n",
              "<style scoped>\n",
              "    .dataframe tbody tr th:only-of-type {\n",
              "        vertical-align: middle;\n",
              "    }\n",
              "\n",
              "    .dataframe tbody tr th {\n",
              "        vertical-align: top;\n",
              "    }\n",
              "\n",
              "    .dataframe thead th {\n",
              "        text-align: right;\n",
              "    }\n",
              "</style>\n",
              "<table border=\"1\" class=\"dataframe\">\n",
              "  <thead>\n",
              "    <tr style=\"text-align: right;\">\n",
              "      <th></th>\n",
              "      <th>Processed</th>\n",
              "      <th>Label</th>\n",
              "      <th>Category</th>\n",
              "      <th>Length</th>\n",
              "    </tr>\n",
              "  </thead>\n",
              "  <tbody>\n",
              "    <tr>\n",
              "      <th>0</th>\n",
              "      <td>ios 9 app transport security. mm need to check if my 3rd party network pod supports it</td>\n",
              "      <td>1</td>\n",
              "      <td>neutral</td>\n",
              "      <td>86</td>\n",
              "    </tr>\n",
              "    <tr>\n",
              "      <th>1</th>\n",
              "      <td>mar if you have an ios device, you should download our app too</td>\n",
              "      <td>1</td>\n",
              "      <td>neutral</td>\n",
              "      <td>62</td>\n",
              "    </tr>\n",
              "    <tr>\n",
              "      <th>2</th>\n",
              "      <td>my phone does not run on latest ios which may account for problem the other day .. time it was replaced</td>\n",
              "      <td>2</td>\n",
              "      <td>negative</td>\n",
              "      <td>103</td>\n",
              "    </tr>\n",
              "    <tr>\n",
              "      <th>3</th>\n",
              "      <td>not sure how to start your publication on ios? we will be live helping with ask me anything sessions today and friday</td>\n",
              "      <td>0</td>\n",
              "      <td>positive</td>\n",
              "      <td>117</td>\n",
              "    </tr>\n",
              "    <tr>\n",
              "      <th>4</th>\n",
              "      <td>two dollar tuesday is here with forklift 2, quickkey for ios and suite for pages for just $1.99 today</td>\n",
              "      <td>1</td>\n",
              "      <td>neutral</td>\n",
              "      <td>101</td>\n",
              "    </tr>\n",
              "  </tbody>\n",
              "</table>\n",
              "</div>"
            ],
            "text/plain": [
              "                                                                                                               Processed  ...  Length\n",
              "0  ios 9 app transport security. mm need to check if my 3rd party network pod supports it                                 ...  86    \n",
              "1  mar if you have an ios device, you should download our app too                                                         ...  62    \n",
              "2  my phone does not run on latest ios which may account for problem the other day .. time it was replaced                ...  103   \n",
              "3  not sure how to start your publication on ios? we will be live helping with ask me anything sessions today and friday  ...  117   \n",
              "4  two dollar tuesday is here with forklift 2, quickkey for ios and suite for pages for just $1.99 today                  ...  101   \n",
              "\n",
              "[5 rows x 4 columns]"
            ]
          },
          "metadata": {
            "tags": []
          },
          "execution_count": 17
        }
      ]
    },
    {
      "cell_type": "code",
      "metadata": {
        "id": "at4iCAE-yi2t",
        "colab_type": "code",
        "outputId": "24a429c4-d07d-4c46-efc0-a7691b80e0a0",
        "colab": {
          "base_uri": "https://localhost:8080/",
          "height": 88
        }
      },
      "source": [
        "df[\"Category\"].value_counts()"
      ],
      "execution_count": 18,
      "outputs": [
        {
          "output_type": "execute_result",
          "data": {
            "text/plain": [
              "positive    2597\n",
              "negative    2035\n",
              "neutral     1953\n",
              "Name: Category, dtype: int64"
            ]
          },
          "metadata": {
            "tags": []
          },
          "execution_count": 18
        }
      ]
    },
    {
      "cell_type": "markdown",
      "metadata": {
        "id": "WcKTZmbatj9B",
        "colab_type": "text"
      },
      "source": [
        "### Tweets lengths in words"
      ]
    },
    {
      "cell_type": "code",
      "metadata": {
        "id": "R9qt_hx3l8VH",
        "colab_type": "code",
        "outputId": "1df19a2f-a2cc-4096-862f-fce1b94f199f",
        "colab": {
          "base_uri": "https://localhost:8080/",
          "height": 553
        }
      },
      "source": [
        "df[\"Length\"].plot(bins=25, kind='hist', title='Tweet lengths in words', figsize=(8,6))\n",
        "print(df[\"Length\"].describe())"
      ],
      "execution_count": 19,
      "outputs": [
        {
          "output_type": "stream",
          "text": [
            "count    6585.000000\n",
            "mean     106.382688 \n",
            "std      41.928546  \n",
            "min      5.000000   \n",
            "25%      83.000000  \n",
            "50%      108.000000 \n",
            "75%      125.000000 \n",
            "max      453.000000 \n",
            "Name: Length, dtype: float64\n"
          ],
          "name": "stdout"
        },
        {
          "output_type": "display_data",
          "data": {
            "image/png": "[encoded data removed]",
            "text/plain": [
              "<Figure size 576x432 with 1 Axes>"
            ]
          },
          "metadata": {
            "tags": []
          }
        }
      ]
    },
    {
      "cell_type": "markdown",
      "metadata": {
        "id": "N6Rg79Ls15BO",
        "colab_type": "text"
      },
      "source": [
        "### Example Tweets per class"
      ]
    },
    {
      "cell_type": "code",
      "metadata": {
        "id": "9TypnnBn14XT",
        "colab_type": "code",
        "outputId": "6e55efd7-c2de-48d4-ab5a-61ab3b6b504d",
        "colab": {
          "base_uri": "https://localhost:8080/",
          "height": 357
        }
      },
      "source": [
        "for label in mapping.keys():\n",
        "  print(f\"{label.upper()}:\")\n",
        "  sub_df = df[df['Category'] == label]\n",
        "  random_sample = np.random.permutation([i for i in range(sub_df.shape[0])])[:5]\n",
        "  print(sub_df[\"Processed\"].values[random_sample])"
      ],
      "execution_count": 20,
      "outputs": [
        {
          "output_type": "stream",
          "text": [
            "POSITIVE:\n",
            "['ted 2 is way funnier then the 1st one'\n",
            " 'lmao just turned on my ipod for 1st time in 4evs & this is the last photo'\n",
            " 'first day of school tomorrow which means it is also the first day of the season for rbi baseball on my ipad'\n",
            " 'still going tom cruise, 53, was busy promoting mission impossible - rogue nation in china on sunday ahead of ...'\n",
            " 'long may it continue kerry.take the wains to school then going a cycle.doing that on sunday so need practice xx']\n",
            "NEUTRAL:\n",
            "['washington (reuters) - you.s. vice president joe biden will meet on thursday with afl-cio president richard trumka as he explores whether to'\n",
            " \"so here's the thing. turns out tory voters love renewables, esp community energy and do not much care for shale gas\"\n",
            " 'may 28, 1986 madonna on the set of the papa do not preach music video on staten island, new york city'\n",
            " 'def not. she made a slight run in the 3rd but serena was up too much already'\n",
            " 'i see you still have that tiger woods tingle going up your leg. is the 1st church of tiger woods still active?']\n",
            "NEGATIVE:\n",
            "[\"tsipras may be lamenting, but europe is much farther along the dialectic than the us. shit's gradual. do not be lulled by false necessity\"\n",
            " 'i think she is the one mad. she did not like being called out so she is trying to make them bully me. grinning squinting face'\n",
            " 'donnie jr. you and your family owe the country an apology for taking your criminal activities into our white house you are lining your pockets while your father is unfit and making a mockery of our republic. shame on you and your family. justice will prevail'\n",
            " 'usa uk and probably europe and australia with their level of intelligence? weez all stoopid you all! maga mega mb ga mcga conservatives patriots celebrities url'\n",
            " 'ukip is undoubtedly a threat to labour, not so tories but plaid may well hop into bed with labour to gain power.']\n"
          ],
          "name": "stdout"
        }
      ]
    },
    {
      "cell_type": "markdown",
      "metadata": {
        "id": "wxY274QStmyq",
        "colab_type": "text"
      },
      "source": [
        "### Stopwords removal"
      ]
    },
    {
      "cell_type": "code",
      "metadata": {
        "id": "_oeP0zoylUho",
        "colab_type": "code",
        "outputId": "306f3580-3ea2-4607-9fc3-435721a4631c",
        "colab": {
          "base_uri": "https://localhost:8080/",
          "height": 70
        }
      },
      "source": [
        "import nltk\n",
        "nltk.download('stopwords')\n",
        "\n",
        "from nltk.corpus import stopwords\n",
        "print(stopwords.words('english')[:5])\n",
        "\n",
        "df[\"Processed_NoStopwords\"] = df[\"Processed\"].apply(\n",
        "    lambda x : ' '.join([\n",
        "      word for word in x.split() \n",
        "      if word not in stopwords.words('english') \n",
        "    ])\n",
        ") "
      ],
      "execution_count": 21,
      "outputs": [
        {
          "output_type": "stream",
          "text": [
            "[nltk_data] Downloading package stopwords to /root/nltk_data...\n",
            "[nltk_data]   Package stopwords is already up-to-date!\n",
            "['i', 'me', 'my', 'myself', 'we']\n"
          ],
          "name": "stdout"
        }
      ]
    },
    {
      "cell_type": "markdown",
      "metadata": {
        "id": "38N1gcGp0In8",
        "colab_type": "text"
      },
      "source": [
        "### Analysis using `CountVectorizer` (words counts)"
      ]
    },
    {
      "cell_type": "code",
      "metadata": {
        "id": "ImRNoNVHk-Gi",
        "colab_type": "code",
        "outputId": "7daaca73-45cc-43c0-bd8b-3b82df2d1491",
        "colab": {
          "base_uri": "https://localhost:8080/",
          "height": 1000
        }
      },
      "source": [
        "from sklearn.feature_extraction.text import CountVectorizer\n",
        "\n",
        "cv = CountVectorizer(ngram_range=(1,2))\n",
        "\n",
        "for label in mapping.keys():\n",
        "  print(f\"{label.upper()}:\")\n",
        "  sub_df = df[df['Category'] == label]\n",
        "  \n",
        "  vec = cv.fit(sub_df[\"Processed_NoStopwords\"])\n",
        "  bow = vec.transform(sub_df[\"Processed_NoStopwords\"])\n",
        "  sum_words = bow.sum(axis=0)\n",
        "\n",
        "  words_freq = [(word, sum_words[0, idx]) for word, idx in vec.vocabulary_.items()]\n",
        "  words_freq = sorted(words_freq, key = lambda x: x[1], reverse=True)\n",
        "  for wf in words_freq[:10]:\n",
        "    print(\"\\t\", wf)\n",
        "  bigrams_freq = list(filter(lambda x : len(x[0].split()) == 2, words_freq))\n",
        "  for bf in bigrams_freq[:10]:\n",
        "    print(\"\\t\\t\", bf)"
      ],
      "execution_count": 22,
      "outputs": [
        {
          "output_type": "stream",
          "text": [
            "POSITIVE:\n",
            "\t ('tomorrow', 442)\n",
            "\t ('may', 416)\n",
            "\t ('day', 301)\n",
            "\t ('see', 241)\n",
            "\t ('going', 231)\n",
            "\t ('friday', 182)\n",
            "\t ('time', 179)\n",
            "\t ('new', 161)\n",
            "\t ('sunday', 158)\n",
            "\t ('one', 154)\n",
            "\t\t ('magic mike', 80)\n",
            "\t\t ('star wars', 79)\n",
            "\t\t ('mike xxl', 79)\n",
            "\t\t ('jurassic world', 76)\n",
            "\t\t ('jurassic park', 73)\n",
            "\t\t ('venice beach', 72)\n",
            "\t\t ('labor day', 70)\n",
            "\t\t ('pride parade', 61)\n",
            "\t\t ('valentine day', 60)\n",
            "\t\t ('mariah carey', 59)\n",
            "NEUTRAL:\n",
            "\t ('may', 404)\n",
            "\t ('tomorrow', 241)\n",
            "\t ('day', 157)\n",
            "\t ('1st', 133)\n",
            "\t ('like', 127)\n",
            "\t ('going', 124)\n",
            "\t ('time', 113)\n",
            "\t ('new', 99)\n",
            "\t ('sunday', 98)\n",
            "\t ('get', 90)\n",
            "\t\t ('jeb bush', 58)\n",
            "\t\t ('joe biden', 51)\n",
            "\t\t ('valentine day', 43)\n",
            "\t\t ('tiger woods', 42)\n",
            "\t\t ('windows 10', 41)\n",
            "\t\t ('kurt cobain', 41)\n",
            "\t\t ('michelle obama', 40)\n",
            "\t\t ('tom cruise', 40)\n",
            "\t\t ('sarah palin', 39)\n",
            "\t\t ('labor day', 34)\n",
            "NEGATIVE:\n",
            "\t ('may', 227)\n",
            "\t ('like', 184)\n",
            "\t ('face', 164)\n",
            "\t ('liberals', 162)\n",
            "\t ('url', 143)\n",
            "\t ('gun', 136)\n",
            "\t ('trump', 133)\n",
            "\t ('people', 120)\n",
            "\t ('control', 118)\n",
            "\t ('shit', 108)\n",
            "\t\t ('gun control', 106)\n",
            "\t\t ('face tears', 58)\n",
            "\t\t ('tears joy', 58)\n",
            "\t\t ('planned parenthood', 54)\n",
            "\t\t ('sarah palin', 51)\n",
            "\t\t ('jeb bush', 45)\n",
            "\t\t ('rick perry', 41)\n",
            "\t\t ('joy face', 35)\n",
            "\t\t ('rolling floor', 27)\n",
            "\t\t ('floor laughing', 27)\n"
          ],
          "name": "stdout"
        }
      ]
    },
    {
      "cell_type": "markdown",
      "metadata": {
        "id": "5hbNSqZv25Bu",
        "colab_type": "text"
      },
      "source": [
        "### More analysis with `TfidfVectorizer`\n",
        "Use `max_df=0.1` for (hopefully) better unique words insights"
      ]
    },
    {
      "cell_type": "code",
      "metadata": {
        "id": "10U50OMA2tl_",
        "colab_type": "code",
        "outputId": "6ee583fb-dd6d-40a1-ad8b-60a562e46fe1",
        "colab": {
          "base_uri": "https://localhost:8080/",
          "height": 1000
        }
      },
      "source": [
        "from sklearn.feature_extraction.text import TfidfVectorizer\n",
        " \n",
        "tf = TfidfVectorizer(ngram_range=(1, 2), max_df=0.1)\n",
        "\n",
        "for label in mapping.keys():\n",
        "  print(f\"{label.upper()}:\")\n",
        "  sub_df = df[df['Category'] == label]\n",
        "  \n",
        "  tf_vec = tf.fit(sub_df[\"Processed_NoStopwords\"])\n",
        "  tf_bow = tf_vec.transform(sub_df[\"Processed_NoStopwords\"])\n",
        "  tf_sum_words = tf_bow.sum(axis=0)\n",
        "\n",
        "  words_freq = [(word, tf_sum_words[0, idx]) for word, idx in tf_vec.vocabulary_.items()]\n",
        "  words_freq = sorted(words_freq, key = lambda x: x[1], reverse=True)\n",
        "  for wf in words_freq[:10]:\n",
        "    print(\"\\t\", wf)\n",
        "  bigrams_freq = list(filter(lambda x : len(x[0].split()) == 2, words_freq))\n",
        "  for bf in bigrams_freq[:10]:\n",
        "    print(\"\\t\\t\", bf)\n",
        "\n"
      ],
      "execution_count": 23,
      "outputs": [
        {
          "output_type": "stream",
          "text": [
            "POSITIVE:\n",
            "\t ('see', 27.70963408709759)\n",
            "\t ('going', 27.45402484215707)\n",
            "\t ('friday', 21.886849082956473)\n",
            "\t ('time', 21.697347936193307)\n",
            "\t ('jurassic', 19.719865624082395)\n",
            "\t ('sunday', 18.792219489852123)\n",
            "\t ('new', 18.505380509538742)\n",
            "\t ('one', 18.297088620448903)\n",
            "\t ('want', 17.7506947106338)\n",
            "\t ('night', 16.705568715929424)\n",
            "\t\t ('jurassic world', 12.129474584284846)\n",
            "\t\t ('magic mike', 11.87524515115537)\n",
            "\t\t ('mike xxl', 11.734351240821093)\n",
            "\t\t ('star wars', 11.351604877032436)\n",
            "\t\t ('venice beach', 11.221771743644386)\n",
            "\t\t ('jurassic park', 10.701767697848988)\n",
            "\t\t ('labor day', 9.642796797695619)\n",
            "\t\t ('taylor swift', 9.507608265591214)\n",
            "\t\t ('pride parade', 9.39593167704427)\n",
            "\t\t ('valentine day', 9.349580576578653)\n",
            "NEUTRAL:\n",
            "\t ('day', 17.5280985387279)\n",
            "\t ('going', 15.71330881714562)\n",
            "\t ('like', 15.297763182925722)\n",
            "\t ('1st', 14.173561709808412)\n",
            "\t ('time', 14.092648561449193)\n",
            "\t ('sunday', 11.876803096969777)\n",
            "\t ('new', 11.776161165208984)\n",
            "\t ('one', 11.59459243105789)\n",
            "\t ('friday', 11.250540093012953)\n",
            "\t ('get', 11.088314059373783)\n",
            "\t\t ('jeb bush', 7.938091207705635)\n",
            "\t\t ('joe biden', 7.2014039373137315)\n",
            "\t\t ('valentine day', 6.6707827406018065)\n",
            "\t\t ('teen wolf', 6.484436510129675)\n",
            "\t\t ('kurt cobain', 6.465034873044694)\n",
            "\t\t ('windows 10', 6.381570325010214)\n",
            "\t\t ('tom cruise', 6.225090526026026)\n",
            "\t\t ('michelle obama', 6.175341891293153)\n",
            "\t\t ('tiger woods', 6.139275295483146)\n",
            "\t\t ('sarah palin', 5.7094213902110384)\n",
            "NEGATIVE:\n",
            "\t ('liberals', 19.087815538709982)\n",
            "\t ('like', 18.775179700418793)\n",
            "\t ('url', 16.731542969794855)\n",
            "\t ('fuck', 16.629594532283818)\n",
            "\t ('shit', 15.231083134418336)\n",
            "\t ('face', 14.329936098011336)\n",
            "\t ('trump', 14.325617353910479)\n",
            "\t ('gun', 14.040565763923466)\n",
            "\t ('people', 12.562750245148894)\n",
            "\t ('tomorrow', 12.47552757536758)\n",
            "\t\t ('gun control', 11.406189051014712)\n",
            "\t\t ('planned parenthood', 7.6294532070338255)\n",
            "\t\t ('sarah palin', 7.477675279100032)\n",
            "\t\t ('jeb bush', 6.165784176757294)\n",
            "\t\t ('rick perry', 6.0458750012691596)\n",
            "\t\t ('face tears', 6.028002028956877)\n",
            "\t\t ('tears joy', 6.028002028956877)\n",
            "\t\t ('teen wolf', 4.578135039160752)\n",
            "\t\t ('joy face', 3.4919227324529465)\n",
            "\t\t ('valentine day', 3.3376753922951314)\n"
          ],
          "name": "stdout"
        }
      ]
    },
    {
      "cell_type": "markdown",
      "metadata": {
        "id": "UrCmfbam_BBr",
        "colab_type": "text"
      },
      "source": [
        "## Transforming sentences into average embedding vectors"
      ]
    },
    {
      "cell_type": "code",
      "metadata": {
        "id": "UBTsKBLc4G3i",
        "colab_type": "code",
        "outputId": "4d4da961-1905-4a04-d743-559672468f14",
        "colab": {
          "base_uri": "https://localhost:8080/",
          "height": 266
        }
      },
      "source": [
        "import spacy\n",
        "\n",
        "# Load the spacy model that you have installed\n",
        "nlp = spacy.load('en_core_web_md')\n",
        "\n",
        "vectors = np.zeros(shape=(df.shape[0], 300), dtype=np.float64)\n",
        "# process a sentence using the model\n",
        "\n",
        "for idx, sent in enumerate(df[\"Processed\"].values):\n",
        "  doc = nlp(sent)\n",
        "  vectors[idx, :] = doc.vector \n",
        "  if idx % 500 == 0:\n",
        "    print(\"... processed\", idx)\n"
      ],
      "execution_count": 25,
      "outputs": [
        {
          "output_type": "stream",
          "text": [
            "... processed 0\n",
            "... processed 500\n",
            "... processed 1000\n",
            "... processed 1500\n",
            "... processed 2000\n",
            "... processed 2500\n",
            "... processed 3000\n",
            "... processed 3500\n",
            "... processed 4000\n",
            "... processed 4500\n",
            "... processed 5000\n",
            "... processed 5500\n",
            "... processed 6000\n",
            "... processed 6500\n"
          ],
          "name": "stdout"
        }
      ]
    },
    {
      "cell_type": "markdown",
      "metadata": {
        "id": "pJdoEUe-_F19",
        "colab_type": "text"
      },
      "source": [
        "### **Principal Component Analysis** over mean embedding vectors"
      ]
    },
    {
      "cell_type": "code",
      "metadata": {
        "id": "KHX5EZMW83q4",
        "colab_type": "code",
        "outputId": "e07f9c62-df17-4d1c-a857-876e5d7f9c49",
        "colab": {
          "base_uri": "https://localhost:8080/",
          "height": 194
        }
      },
      "source": [
        "from sklearn.decomposition import PCA\n",
        "\n",
        "pca = PCA(n_components=3)\n",
        "principal_components = pca.fit_transform(vectors)\n",
        "principal_df = pd.DataFrame(data = principal_components\n",
        "             , columns = [\n",
        "                          'principal component 1', \n",
        "                          'principal component 2', \n",
        "                          'principal component 3'\n",
        "                          ])\n",
        "pca_df = pd.concat([principal_df, df[['Category']]], axis = 1)\n",
        "pca_df.head()\n"
      ],
      "execution_count": 26,
      "outputs": [
        {
          "output_type": "execute_result",
          "data": {
            "text/html": [
              "<div>\n",
              "<style scoped>\n",
              "    .dataframe tbody tr th:only-of-type {\n",
              "        vertical-align: middle;\n",
              "    }\n",
              "\n",
              "    .dataframe tbody tr th {\n",
              "        vertical-align: top;\n",
              "    }\n",
              "\n",
              "    .dataframe thead th {\n",
              "        text-align: right;\n",
              "    }\n",
              "</style>\n",
              "<table border=\"1\" class=\"dataframe\">\n",
              "  <thead>\n",
              "    <tr style=\"text-align: right;\">\n",
              "      <th></th>\n",
              "      <th>principal component 1</th>\n",
              "      <th>principal component 2</th>\n",
              "      <th>principal component 3</th>\n",
              "      <th>Category</th>\n",
              "    </tr>\n",
              "  </thead>\n",
              "  <tbody>\n",
              "    <tr>\n",
              "      <th>0</th>\n",
              "      <td>0.492449</td>\n",
              "      <td>-0.248438</td>\n",
              "      <td>-0.663014</td>\n",
              "      <td>neutral</td>\n",
              "    </tr>\n",
              "    <tr>\n",
              "      <th>1</th>\n",
              "      <td>-0.107247</td>\n",
              "      <td>-0.087612</td>\n",
              "      <td>-0.745281</td>\n",
              "      <td>neutral</td>\n",
              "    </tr>\n",
              "    <tr>\n",
              "      <th>2</th>\n",
              "      <td>-0.135699</td>\n",
              "      <td>-0.514164</td>\n",
              "      <td>-0.585670</td>\n",
              "      <td>negative</td>\n",
              "    </tr>\n",
              "    <tr>\n",
              "      <th>3</th>\n",
              "      <td>-0.378780</td>\n",
              "      <td>-0.075677</td>\n",
              "      <td>-0.624433</td>\n",
              "      <td>positive</td>\n",
              "    </tr>\n",
              "    <tr>\n",
              "      <th>4</th>\n",
              "      <td>0.754011</td>\n",
              "      <td>-0.151866</td>\n",
              "      <td>-0.543375</td>\n",
              "      <td>neutral</td>\n",
              "    </tr>\n",
              "  </tbody>\n",
              "</table>\n",
              "</div>"
            ],
            "text/plain": [
              "   principal component 1  ...  Category\n",
              "0  0.492449               ...  neutral \n",
              "1 -0.107247               ...  neutral \n",
              "2 -0.135699               ...  negative\n",
              "3 -0.378780               ...  positive\n",
              "4  0.754011               ...  neutral \n",
              "\n",
              "[5 rows x 4 columns]"
            ]
          },
          "metadata": {
            "tags": []
          },
          "execution_count": 26
        }
      ]
    },
    {
      "cell_type": "markdown",
      "metadata": {
        "id": "2RcRnP45c-xv",
        "colab_type": "text"
      },
      "source": [
        "### Visualize PCA in three dimensions"
      ]
    },
    {
      "cell_type": "code",
      "metadata": {
        "id": "tT47TGB6--Dx",
        "colab_type": "code",
        "outputId": "754c228b-eb19-4681-8bb4-594870dd0d43",
        "colab": {
          "base_uri": "https://localhost:8080/",
          "height": 542
        }
      },
      "source": [
        "# Import dependencies\n",
        "import plotly\n",
        "import plotly.graph_objs as go\n",
        "import plotly.express as px\n",
        "\n",
        "fig = go.Figure()\n",
        "\n",
        "colors = [0, 1, 2]\n",
        "for target, color in zip(sorted(mapping.keys()), colors):\n",
        "  indicesToKeep = pca_df['Category'] == target\n",
        "  fig.add_trace(\n",
        "       go.Scatter3d(\n",
        "        name=target,\n",
        "        x=pca_df.loc[indicesToKeep, 'principal component 1'],\n",
        "        y=pca_df.loc[indicesToKeep, 'principal component 2'],\n",
        "        z=pca_df.loc[indicesToKeep, 'principal component 3'],\n",
        "        mode='markers',\n",
        "        marker=dict(\n",
        "          size=3,\n",
        "          color=color,   \n",
        "          opacity=1.0\n",
        "          ),\n",
        "        ),\n",
        "  )\n",
        "\n",
        "fig.update_layout(\n",
        "    showlegend=True,\n",
        "    margin=dict(l=0, r=0, b=0, t=0),\n",
        "    scene = dict(\n",
        "      xaxis = dict(\n",
        "          title='Principal component 1'),\n",
        "      yaxis = dict(\n",
        "          title='Principal component 2'),\n",
        "      zaxis = dict(\n",
        "          title='Principal component 3'),\n",
        "    )\n",
        ")\n",
        "fig.show()\n"
      ],
      "execution_count": 27,
      "outputs": [
        {
          "output_type": "display_data",
          "data": {
            "text/html": [
              "<html>\n",
              "<head><meta charset=\"utf-8\" /></head>\n",
              "<body>\n",
              "    <div>\n",
              "            <script src=\"https://cdnjs.cloudflare.com/ajax/libs/mathjax/2.7.5/MathJax.js?config=TeX-AMS-MML_SVG\"></script><script type=\"text/javascript\">if (window.MathJax) {MathJax.Hub.Config({SVG: {font: \"STIX-Web\"}});}</script>\n",
              "                <script type=\"text/javascript\">window.PlotlyConfig = {MathJaxConfig: 'local'};</script>\n",
              "        <script src=\"https://cdn.plot.ly/plotly-latest.min.js\"></script>    \n",
              "            <div id=\"8e0f0b2e-e354-418c-b961-525edac61a63\" class=\"plotly-graph-div\" style=\"height:525px; width:100%;\"></div>\n",
              "            <script type=\"text/javascript\">\n",
              "                \n",
              "                    window.PLOTLYENV=window.PLOTLYENV || {};\n",
              "                    \n",
              "                if (document.getElementById(\"8e0f0b2e-e354-418c-b961-525edac61a63\")) {\n",
              "                    Plotly.newPlot(\n",
              "                        '8e0f0b2e-e354-418c-b961-525edac61a63',\n",
              "                        [{\"marker\": {\"color\": 0, \"opacity\": 1.0, \"size\": 3}, \"mode\": \"markers\", \"name\": \"negative\", \"type\": \"scatter3d\", \"x\": [-0.13569896302311998, 0.1815974894900632, -0.029435443303214102, 0.1562756991558486, 0.3535555869712452, -0.21057207066647785, -0.6327899740451643, -0.1674938398666429, -0.007527655899956859, -0.12756570521537525, -0.7854014241172048, -0.3870109974734171, -0.5498517634649108, 0.215717881555078, -0.3578962997468218, 0.16250783246222975, -0.423081508000384, -0.13091291453570475, 0.35774695399412065, -0.625126912680265, -0.7167029527175857, -0.24007758248190977, -0.4280730280487947, -0.7734014156373781, -0.11912811077251538, 0.031211372862009264, -0.2864656941525064, 0.12027269440690427, -0.3353465333083187, 0.12879922844453714, -0.19055131608193315, -0.33153324403536333, -0.06610959368511186, 0.046920017830935606, -0.24017359202353636, -0.1799248249583836, -0.539988367557156, -0.28294085206619113, -0.4073425984168171, 0.46500193978282706, 0.00978954779506518, 0.07162830154304953, 0.26739586322179554, -0.009329878168314596, 0.506919603219012, 0.010091361505142189, 0.01490028047511762, -0.24461994752905653, -0.05931028058499127, -0.09403875387310907, 0.06419822477664014, 0.6701718329544484, 0.5798650128054902, -0.27409234395564513, 0.20402507343911555, 0.17112040683540805, 0.10251483695669437, -0.018668222291711625, 0.15161353504988206, -0.0809860312250999, -0.08906176894028427, -0.3459458402485027, 0.07814852775257272, -0.5016842192876785, -0.41613069949894715, -0.0572462204850624, -0.14222329206588322, -0.3958159731785301, 0.25804949724594184, 0.010999404239218503, -0.060470796360256936, -0.30986288398742207, 0.00939895008290596, -0.3391901739419413, -0.12860857594968256, 0.28630391147367323, 0.20141230311780275, -0.5572935671099408, -0.05297771001967079, 0.11532224042062755, 0.10826864341943068, 0.33324891084925284, -0.40930405056680713, 0.8870949062759859, -0.307101359526478, -0.07676036815769073, -0.20787235723321962, -0.14753965359352578, -0.004005259561253646, 0.173911371311177, 0.0643751924669006, -0.5409779271822847, 0.3148378183341649, -0.37222835026124346, -0.08645847419777362, 0.1533928059832224, 0.049990806565898147, 0.39762091599193095, 1.0663045920339742, 0.12191118437252142, 0.23548635956389752, -0.17329113879700342, 0.3395354234969731, -0.5073937150573203, 0.3040642670600438, 0.010021751632933765, 0.19472182078216255, -0.09725026544481631, 0.1540694800356705, -0.025170179416241806, -0.3071202338257014, -0.49471354491580016, -0.3074339115266262, -0.2591440699852369, -0.07438622186333063, -0.27909996627770806, -0.06791343368276201, -0.21093534276762568, 0.050260749220565, 0.18715802637238652, -0.5782244519751778, -0.13307837613449522, -0.14733572804032344, 0.052315865131656356, 0.00964510334985887, 0.033933922663502536, -0.20605077005970124, 0.15653696231437808, 0.3601357555493542, 0.0338750611372905, -0.04834315411026232, -0.2643569639372142, -0.305825866497529, -0.21162069962760696, -0.7577330421809004, 0.881178165120253, 0.5988727184586015, -0.5750313012427907, 0.9560240558586391, -0.3359852197626961, 0.9732520248753586, 0.2509790129804154, 0.332350196593359, -0.04266495297845101, 0.11433791480779669, -0.6051932437527036, -0.2189190815189902, -0.08431599490505282, 0.02011646135141764, 0.03333485583515579, 0.15108348094782248, -0.1428278734511248, 0.2510075347367217, 0.7981922210361097, -0.03551592347589861, -0.24577939733223908, -0.6021857156458786, 0.24499188013564643, -0.2499513715586303, -0.0817877444950593, 0.12526023804459938, -0.1184954683118827, 0.060513570936146795, -0.30547045786072585, -0.6152735653322712, -0.47736077354481343, -0.013599658462455, 0.17521670082287763, 0.5170693595907719, -0.10007349196093974, 0.8420834412790715, 0.08202530284457651, 0.3067200265820729, -0.463635960341558, 0.6353753326895646, -0.5829627413472106, 0.4069648387530213, -0.23738039558897395, -0.16015280587862543, -0.1983468990759267, 0.506823604940281, -0.41786096300824815, -0.3950946036532571, 0.11565303182022735, 0.43118828620526883, -0.22229635684492036, -0.2103027670473317, -0.1452297226317474, -0.9705947466247148, 0.018166134832948128, -0.6061329981938097, 0.009267728876462015, -0.6525188348756558, -0.40408015134755393, -0.3166536569829849, -0.49941248947627354, -0.25927995774308754, -0.39445748186306373, 0.20146066494302087, 0.5554087170912675, -0.5666698621774752, -0.18690496963965356, -0.14538032218854277, -0.3324518569052811, 0.07071714009112091, -0.04348972545575119, -0.3062887651956184, 0.1485600537062777, 0.05845966399269596, -0.4376185861118437, -0.3018859549192291, 0.5597179429838878, -0.9136288463826633, 0.09779372179971021, -0.37755623375411734, -0.5569500754730979, -0.013285693742069504, -0.44178378601619317, -0.42169727532415474, 0.15809959361529102, 0.2999758161260949, 0.034250685198769074, -0.07902738528762354, -0.3479527676950942, -0.5413451159476066, -0.5851650317186036, -0.6581408145288578, 0.009092175500477731, 0.032206988255237906, -0.31624070311352054, 0.19348642746914874, 0.5470132375218257, -0.31202614893756625, -0.4510530145222586, -0.22331202931730984, 0.2681553856537574, -0.4893343011248781, -0.2060665995947635, -0.25636244378822554, 0.04546849292948323, -0.11242261005531211, -0.4653370583427246, -0.08472446445297785, 0.2482168947395548, -0.5816325138207797, 0.5262133490219335, -0.3291845219585106, 0.26501988058991255, 0.15315769091329423, 0.02737258165953412, -0.3461567296981682, 0.5333591455002483, -0.1535443573983386, -0.1486668568788007, -0.35327915710282143, -0.15241006093534692, 0.018949958947625408, 0.08443513014299345, 0.7866466409181743, -0.3280763815571224, 0.24358929948573665, 0.6720247206161327, 0.21573509018885478, -0.7401683944597836, -0.7484057233959746, -0.23253299912050868, 0.4232249525483199, 0.23985425126427115, -0.15266032967530943, 0.4189862467986669, -0.07535909349259164, 0.1432025349785742, 0.31767004763185447, -0.7394756969753938, -0.39014559255848913, -0.21844658861701108, 0.13111893702865043, 0.5011702957752855, 0.7383537953322834, 0.7452238229794621, -0.05237799972324409, -0.378880140218072, 0.3291924146211215, -0.34846776240646576, -0.008923758151326384, 0.19364303497174462, 0.041538997762590193, 0.15433222002849328, 0.43157438119411046, 0.1502709332971532, -0.14767112641833485, -0.14169266924895682, -0.7045858490548144, -0.11124576524449542, -0.5431344326602444, -0.3942488616488223, -0.3158232953188373, -0.6043686696047664, -0.17533872370327747, -0.2884956919516357, -0.027173825203602533, -0.3001710505738938, 0.33369057829842425, -0.4581426719199406, -0.7188047402910445, -0.48986446552649926, -0.6728188418385216, -0.14447070906359116, -0.07806826190513486, -0.7604304112674504, 0.18316751783633198, 0.21875821443843615, -0.1160608162165005, -0.1300514539337404, -0.16236103627134124, 0.8602110001742376, -0.39725674402483, 0.15303731228550702, -0.01989803541330734, -0.3850271530679755, -0.21443447245034064, -0.32726422603934724, -0.4779565526940366, -0.5182041720540674, -0.4095374739884364, -0.6277566880588421, -0.17677082477555636, -0.40149619710455087, -0.03774917443746749, 0.1286008718235356, -0.15723385709941473, -0.3494269051040905, 0.039790897750428406, 0.1149546774514215, -0.5888854326317055, -0.5196721109576087, -0.10501555868180451, 0.026491696296165046, 0.18705192321046335, -0.08743743738459965, -0.25689334971681854, 0.18462412580453275, -0.5279501857511619, -0.5322297406247553, -0.2183382166288412, 0.3270323054927721, -0.37707138797030604, -0.5998067184779678, -0.35384356699373515, 0.367118988832981, 0.2906431820933459, 0.1932231367487013, 0.11883861334174184, -0.4530816820840495, -0.258758196227472, 0.05962309729223654, -0.14397145305963663, 0.34063146204200623, -0.30273422987802, -0.22496884322077193, 0.3397217223063616, -0.4320853326681727, -0.14627075824476304, -0.12077259352416027, -0.19888747003114254, 0.024628696142305003, -0.6305540951849863, 0.03799832715596038, 0.08988487298584955, 0.1014247675698924, -0.07403120237919698, 0.34266258246538106, -0.5160094058256383, 0.3500930535903038, 0.04826102689558556, 0.5814736877306234, 0.27870699196335436, -0.07707776084022702, -0.35428551945908104, 0.2703326976845025, 0.1579815922673648, 0.3012124583711467, -0.19890169723713455, 0.3236875271121308, 0.40037371907374353, 0.24017596468447133, 0.1345164325205309, -0.19392767130917876, 0.3752705556680235, -0.07365357043580388, -0.28944100393951117, 0.38994078829360707, -0.43695328943052014, -0.10411269307570001, -0.020983189854458826, -0.019728876244022708, 0.011564176153137994, -0.008454213893681626, 0.4095626255464659, 0.18037841444982866, -0.6562365089881183, 0.629501408522587, 0.592440321176087, 0.08014692803499343, 0.2952779214126895, 0.3031138556008091, -0.36688272824345747, -0.4716429271771963, 0.6130507620924679, -0.3880315154111176, 0.17199714005784456, 0.1930327224896393, -0.45846905031511614, -0.3978092904391259, -0.530850319202406, 0.5324101032309071, -0.24660145316131873, -0.3522695683186229, 0.18675581177704376, -0.11859732162800789, -0.6302271627777642, -0.16713951347965425, -0.4269375610890566, -0.8851159982071357, -0.13809211915663502, -0.25756785386533876, -0.6113415565141154, -0.19562170329367506, 0.13061423165799765, 0.08089390000882546, 0.5260237114692597, -0.49840959899296516, -0.19950887811968443, 0.39707620368745034, 0.09678661504604963, -0.09271677871495612, 0.16040118418583463, -0.40291247455528434, 0.16873822710570044, -0.012910981940624981, -0.004507592905117272, 0.32664594942486763, 0.10385402608893723, -0.3665344953745553, 0.20278947489901758, 0.10410147010207824, 0.17349860664962322, -0.09786589657427874, 0.14801249251250995, -0.30954239024444713, -0.30886377851309155, 0.3541714894008803, -0.24097411687842318, 0.48184491796279083, -0.2480986497144558, 0.08517353093293642, 0.610071592713088, 0.5473160232288523, 0.6767967707743238, -0.21762377750999737, -0.14719461496632638, 0.4221722135047873, -0.3435414291918293, 0.16685387959464076, 0.4044960619892936, 0.21599893719359875, 0.2564043282884821, 0.4429335239315712, 0.40229282476157047, -0.02342045914201278, -0.21915699047730117, -0.13826996055040738, 0.2648442487033216, 0.31921895204567113, -0.2776564049749998, 0.3429650709537537, 0.18160876505422083, -0.10260067440261106, -0.008409950496562311, 0.3257062296116132, -0.763492242630545, -0.13883635936286928, -0.36942189621283156, -0.24834801272295873, -0.17459771017801715, -0.09596606203068427, -0.26880505003299854, -0.14624082680668943, 0.07123482322786061, 0.3491573362904317, -0.14114834482346772, 0.05225318673052987, -0.4371821455368252, 0.1461398771410585, 0.41489200727147, 0.03035157973108017, -0.5540461444959949, -0.34636093422794456, -0.15653579321938108, -0.4020729996996649, -0.0820709673946536, 0.09267281814167613, 0.06785664223926056, -0.5747390270603738, -0.30058534390549047, -0.4226641620419419, -0.45425586531696494, -0.05033553489294401, -0.07791498493164073, -0.32402789837975404, -0.40188953780178205, -0.3359480159225657, -0.20105158828854336, 0.17418165533115726, -0.015592148811185055, -0.10480807007458538, 0.03519981058656594, -0.25001138287836555, -0.06750710190605047, -0.3270211647239442, -0.3179845011067495, -0.3104038163398542, -0.5416599482594023, -0.13513056544245133, -0.30758979120144897, -0.6524364527419916, 0.3340555710433055, -0.3011789289224304, 0.15050772993043604, -0.17619142738807117, -0.2173523529229208, 0.3025511329830783, -0.24853789913140914, -0.3531340556889399, -0.17380576992890903, -0.2011320709643979, -0.1965557798831094, 0.12259383580354037, 0.5202133559133667, 0.30357552253661574, -0.12890110462944615, 0.350733923028568, 0.07410146847175349, -0.08868263942395681, 0.08232233724098863, 0.6314568720338042, -0.07912157546951747, -0.41033654312545664, 0.0009871450103845067, 0.5590012207385102, 0.1876766062308604, 0.06370318033150221, -0.01977003541044497, -0.328775534017449, -0.07825254418356078, 0.03218991711644456, -0.14722780098377214, 0.8001262801184014, 0.14306671991460704, 0.04665913891554945, 0.188747931333293, 0.4052737041214228, -0.6102057945827313, -0.1949740495469301, -0.276655716029214, -0.4310884686148255, -0.31831225367681115, -0.3194508438744633, -0.3162681914677361, -0.31824716650947815, 0.11143385240134543, 0.11761080854803453, 0.35951571243409447, 0.07492635274417087, -0.19558669212343024, 0.09029920591244953, -0.22574584487523577, -0.33479263394312947, 0.3063212746995331, 0.392408092396308, -0.47291131777072176, -0.21856754059326688, -0.0012423075894221149, -0.05704738035363857, -0.16538034222842474, -0.3222339626035704, -0.6914119642338815, -0.30223060794325346, -0.03920695428312414, -0.0342740405092083, -0.39960637062605525, -0.19600012916785478, 0.06012479655879996, -0.22732323842258056, -0.25262189017581477, -0.3237775377726309, -0.5214715992579101, -0.41104746184898316, 0.10845613689653004, -0.2952421822227578, 0.513435396820104, -0.51084351757772, -0.21866085677250927, 0.0366949048992556, -0.3512354242406678, -0.48135298720453906, 0.0147963525894513, 0.17017682265125295, -0.2160569206640089, 0.06408478349988123, 0.4116434426956107, 0.6633207174797212, 0.5402376677617299, -0.2537987877126195, 0.41960577927301973, -0.061283709335440556, -0.2236553478547299, -0.6455311089549935, -0.32272357736565777, -0.20132149281370568, -0.5962584255683209, -0.48968973865464926, -0.41146740324905945, -0.503081830906922, -0.10313723900644718, -0.12561140128076814, -0.966732487495491, 0.1757490353169699, -0.10937523795617221, -0.18861230733306222, -0.3244903185815415, -0.32168102143569743, -0.5139455054967065, -0.3293068134047598, -0.6612214878904084, -0.4544256477368846, -0.5726117777543427, -0.30340721649808355, -0.43233275381239844, -0.566056028648931, -0.5524094658651069, -0.22820441677113432, -0.12167364536111898, -0.5240988297999913, 0.6243404379928483, -0.47524004909756457, -0.3503601286323938, -0.006106702201470053, -0.30963928688517395, -0.11652491982057299, -0.3914909082211785, -0.11394153732645472, 0.06424595216806896, -0.5881221138409106, 0.03343649817010461, -0.029191102940650474, -0.12604637311867636, -0.3517246159053491, -0.05938977700921586, 0.030451634560727636, 0.32235517630684996, -0.058967577115254105, 0.6848538266480516, 0.4397712384289037, -0.18702429748834173, 0.4635445894498637, 0.4892269199785125, 0.47008575019610943, -0.8375311362412631, 0.0764697356461881, -0.2715349751293966, -0.17627773783837966, 0.196194549936813, -0.32416235384719805, -0.39285248618784485, 0.6388305543467663, -0.41514743124428105, -0.06594556995475385, -0.12466923243970668, -0.11348369098691381, -0.36727463495693874, 0.15275535669361803, -0.6635658795977787, -0.7152305265330395, -0.3163570125098481, -0.010179515702179192, -0.12529448157304515, -0.6376686300547092, 0.7970398605839503, -0.3638473021385278, 0.06056641766027653, 0.18048434984277864, 0.19843289446673035, -0.2571747741908042, -0.6752307476496723, 0.019280819282615384, -0.125014281606392, -0.2521325512706441, 0.06362066857791689, 0.07693862274988092, -0.04802067015348948, 0.611694814151225, -0.4401121667446655, 0.04641521981649408, 0.0060859744460627545, -0.5763153177732521, -0.8049130517831901, -0.25967387486800736, -0.20160637079576602, -0.44971152743280796, -0.1626680863634966, -0.40564045672167115, 0.33867877592548645, -0.414350944389882, -0.1305751992278244, -0.1272222896832843, 0.19818594073472318, -0.36524124376153216, -0.03700395703041131, -0.25817469584721264, -0.15538459030332233, -0.4832356654651903, 0.3636221928979507, 0.2136084138646929, 0.07061003530673259, 0.5183720928098166, 0.21038167704279642, -0.04708467362735729, 0.3130839725946749, 0.580036865055153, -0.5415960042821499, -0.35860096567133476, -0.14860887871864595, -0.45170404026272865, -0.0187025456834514, -0.24335493495194022, 0.3157119571928156, -0.6497380468261864, -0.4999310654125283, -0.467018869507309, 0.1778333264348055, -0.716259472613011, -0.4538659168895299, -0.07398574341227929, 0.4012418008774155, -0.7954369607920535, -0.5995366473205181, -0.28925693987293, 0.037577141060909224, -0.30021126562799266, -0.6718144096721707, 0.2006765949973154, -0.5575367983880511, -0.16768795068236095, -0.30170197874416765, -0.13194380411952036, 0.12906211773473875, -0.1348879755324401, -0.05048530156972466, -0.35936836058989813, 0.03951326293196367, -0.1927123910273332, 0.01861068652680857, -0.21549958517180529, -0.07969080955240318, -0.26588421051042077, 0.5318614631601178, -0.4105677917239693, -0.15965596831634288, 0.11200798681718767, -0.07386047079859717, 0.18085366081702123, -0.11986768119536807, 0.09224653654071946, -0.1710197842898478, -0.15286472854600314, -0.40672567566816525, 0.34194042850075246, -0.33462220264221, 0.0463764464889339, -0.0787242405714963, -0.06783306071625828, 0.156496088622545, -0.13497127529452, 0.22394305559173594, -0.03113808287869285, -0.026549212117190517, 0.375954255513914, -0.10653055615840207, 0.01263373009692484, -0.03798225873552321, -0.2684592652970117, -0.26883936442550127, 0.04078416688069439, -0.10981100167692875, 0.5872532972880767, -0.1660751874734287, 0.2194599758566372, -0.8076299431004629, -0.27589575394479077, -0.582534375613123, 0.20046490878493392, 0.17431739782361888, 0.3593002425737336, -0.3761953823647575, -0.6689483523509514, -0.2033583814242123, -0.2614495767085481, -0.060505705810571735, -0.5163509742646638, 0.40657722101573696, -0.07910435900346521, -0.2674098235114892, 0.025385817493613558, 0.30251996399737346, 0.5806489418112085, -0.3577239144277955, 0.5687638175642208, 0.47788072931489367, -0.3195345200472179, -0.21322663815930737, -0.49903867957946185, 0.10452010590851313, 0.15753931979760244, 0.6308562729540862, -0.06471511273414943, 1.01438372079253, -0.40500896566217204, -0.12368763411130175, -0.14293542955037103, 0.1812585148216686, 0.13199249601378, 0.5343248288908559, -0.4404357353366097, -0.7878491767875456, -0.1860843169069109, -0.0787370435129006, 0.026758994758209583, -0.4220459106902102, 0.36884394094011197, -0.3510840705768612, -0.22110238598107834, -0.11006531022266487, -0.0581027455527449, -0.13971303147030112, -0.14968838838100473, -0.16360918049773424, -0.051140084626480495, 0.18813044591445055, -0.33058241165663876, 0.19535105100861486, 0.017157198472726915, -0.07144119223263881, -0.34108091180198674, -0.22804741260031658, -0.16921452821683372, -0.15144016389658518, -0.5469222246199409, 0.09881035971277151, -0.28554705232046923, 0.0077148353695424745, 0.8278191797995138, -0.17773190651539017, 0.36076381696637766, -0.016515984696843383, -0.5029129637580028, -0.6888843331973418, 0.25469490391767496, -0.12168630542441992, -0.31860394447804, -0.5182591137478741, -0.4946725679624123, -0.32685315643253154, -0.36235803650339987, -0.5423021082607242, -0.055619695396102585, -0.5693512010201971, -0.3837855173636793, -0.7998364537650271, -0.4110155756932923, -0.3340654330457808, -0.5362153984973935, -0.2597788545952595, 0.1602990444968509, -0.7531546561810074, -0.3675192571894138, -0.8073754278899444, -0.44110848165272126, 0.16310560435642987, -0.4398559085859784, -0.34529192723004976, -0.9089669799649602, -0.391287910259884, -0.4986543246748855, -0.9639081804227808, -0.45446297289067855, 0.4656142994083479, -0.37377567813616785, -0.37523544533389924, -0.7158081021355781, -0.17457218192497562, -0.5874247207209593, -0.5673407560201604, -0.3977889095395123, -0.9180308581895644, -0.35805847055300705, -0.3775453655159101, -0.605710854597146, -0.5411596470320331, -0.714543130690775, -0.582881689879713, 0.05541411508955828, -0.0984045406938664, -0.6405753866121436, -0.12774372829358793, -0.12466884346724201, -0.2830157776935349, -0.41845699162961636, -0.28353845147101053, -0.15977960779527076, -0.5338096062790232, -0.3870488658108999, -0.4530439642942638, -0.09517694020752235, -0.5612798199344068, -0.6996035415351313, -0.3545246931429446, 0.46186009837758335, -0.3160815447514025, -0.46170863104726767, -0.02363341402918049, 0.038673111994007914, -1.1274222685289175, -0.8044292964856096, -0.9862394712317629, -0.4536536725905505, -0.8728061103777494, -0.16064966718248141, -0.5907589593032408, -0.1291266869570987, -0.9374683988557448, -0.3711092766186822, -0.8115392717165175, -0.6603915239111384, -0.5535275771111802, -0.9496031602995073, -0.6314964581539769, -0.5102786004338951, 0.057170562031402763, -0.9297606595963415, -0.4646018791909461, -1.1355404006253338, 0.6790500030908324, 0.16785583475925636, -0.29691666082665524, -0.9561431367516454, 0.28565621069083447, -0.24279127793326827, -0.7142698917066385, -0.8578056366574517, -0.8393049782527998, -1.05013698432756, -0.08933829553872157, -0.6315762300597401, -0.0655096548577559, 0.4187559186270375, -0.45634563939278244, -0.3185091579462807, -0.4408569599961151, -0.7697860740916511, -1.0334638309221915, -0.8815132221537472, -0.8188973411454747, -1.021575633619491, -0.4183477109372488, -0.2514221022951117, -1.005562769491353, -0.21452334515156715, -0.43339354154419824, -0.23522832667806418, -0.7206027063086919, 0.11510175692893644, -0.2639158547446553, -0.8860053166004557, -0.3353502874617513, -0.2511615509923539, -0.3131644009662942, -1.025257179428979, 0.14381829500103518, -0.6503583888360998, 0.3773468449763815, -0.5916490388123236, -0.5571785937887463, 0.4044182491210015, -0.5099312564092987, -0.06184870004194999, -0.4267357352930559, -0.4197141171673336, -0.08871339724493064, -0.4491144146306208, 0.11614324588223461, -0.38473444937747026, -1.2660411641080829, -0.5870100526041189, -0.5928790519382336, -0.4897888016783618, 0.12260932570254307, 0.6373555434350462, -0.09678128561150219, -0.6419512966897987, 0.438775978529287, -0.8952806440346269, -0.4564091394809853, -1.1102468945894088, -0.601880516168871, -0.7393083011039041, -0.19258906983165003, -0.41977057298837966, -0.3402847397634261, -0.24490993083577048, 0.30341368503203425, -0.5487224422675019, -1.0116008583831668, -0.13381486007455876, -1.1486950461650398, -1.2557686371656318, -0.7170007870269467, -0.716556485816585, -0.8791675587798171, -0.24255452101661873, -0.3406012635131034, -0.34993764197645677, -0.1287446535869354, -0.2580767429516571, -0.5967281778085087, -0.3769664478684974, -0.751508546647134, -0.3751587093036481, -0.7717287965781118, -0.47925236134132604, 0.049597008318503985, -0.6707020241911269, -0.898348050085373, -0.21706760717020115, -0.38904569724259647, -0.9738094728936675, -0.39650658799759153, -0.5662239522370632, -0.016593191590801394, 0.5789379796325259, -0.7613093417312926, -0.09897433438268848, -0.33803728339142947, -0.49633840154500775, -0.46231510532174774, -0.43432671432357084, -0.9212582908112457, -0.3187359399004444, -0.3849279859611801, -0.5238774143180214, -0.7463703257490797, 0.1893996782329777, -1.0362620944794851, -0.4617664758473443, -0.39936683580812077, -0.5442475769612776, 0.13225810941265073, -0.06609248314161745, -0.4052640700110558, -0.7919816841705549, -0.598473340930024, -0.7229841203049427, -0.22032482634911962, -0.916272184916884, -1.2814811759308837, -0.6834157194289356, -0.1880336251845437, -1.2077926511552706, -0.6858297876767466, -0.1706310100006727, -1.3223914858140589, 0.23306879489761168, -0.6509985391866311, -0.546785951721675, 0.14268754747906262, -0.8361049198612831, -0.5486614870612253, -0.20077529286072535, 0.11350592551096736, -0.7018961771154973, -0.45994017723737146, -0.13138654198723038, -0.8707602492951678, -0.11327169961997849, -0.13554074256862741, -0.7920559401083078, -0.2039360662249169, -0.44676976188321726, -0.9219612911536416, -0.7531546561810074, -0.26346084214048926, -0.6720934560499519, -0.7431448295285592, -0.33107486742523984, -0.5652611277219021, -0.6666506060120069, -0.767156772386171, -0.5029822535466274, -0.45703317015332295, -0.6728956876966236, -0.5649412388797902, -0.1556766205035362, -0.7743455588666529, 0.0655236375042758, -0.45604004994098957, -0.34665447715252085, 0.39832140177624614, -0.6826145575948909, -0.4560725189060938, 0.4921728018350116, -0.4484612743084624, -0.2634077464903641, -0.5806495848092494, -0.153126134046571, -0.7600865661479926, -0.5369021347045361, -1.0940272989972597, 0.2261404547749595, -0.6464922660853097, 0.21528442983887058, -0.38518570622799536, -0.5246787641548822, -0.46962014629139776, 0.02057499120141645, -0.012538466957730643, -0.11813982693469291, -0.6695785660252503, -0.4759840253781782, 0.41781572181187615, -0.3981925853533683, -1.2461946057396638, -0.9202597517239312, -0.8458503824636654, -0.08848262795756907, -0.7194984293153857, -0.6679679299255518, -0.551681080748816, -0.5590413745350101, -0.6197045192094414, -0.40722582255057355, -0.4946229234165893, -0.23927371906410166, -0.4482030853488104, 0.05648096390787318, -0.7736529990468631, -0.3688616166740859, -0.002055428815019767, -0.5424821384049899, -0.07573664398275605, -0.12174187245668813, -0.5114899964158267, 0.45347417979254695, -0.5919081490579114, -0.1867103314276762, 0.23143601219132287, -0.22891653992641312, -1.4526001249666736, -0.5847969584235445, -0.04421228897315184, -0.6977302696869064, 0.13826087231452552, -0.35117693444900955, -0.24065264866112, -0.4017695450367905, -0.42349518792769136, -0.2878750724729783, -0.2761210827323731, -0.2711373763466954, -0.5880733063758911, -0.6145802845900578, 0.3342489797415441, -0.3955402377196654, -0.4934080448408961, -0.4512733973296506, -0.6102244792033663, -0.7263144922774492, -0.5949998973893325, -0.33590732901738446, -0.8389369622121996, -0.4245610095913243, -0.6094770580939283, -0.2312559401731438, -0.596725678522244, -0.23718661568246402, -0.674428068273913, -0.4581187242122711, -0.6418172889091185, -0.605641351075203, -0.05374163288697903, -0.5209031930248974, -0.920917158291579, -0.4009709678194544, 0.002746533636102221, -0.7131696950500442, -0.29576780726770946, -0.5084157082033343, -1.078690618537192, -0.6873429744204749, 0.034176236029273, 0.10198965147851927, -0.6491121425756404, -1.2385978349596758, -0.45967057971744274, -0.13128180182274501, -0.16604091796941514, -0.5959315282132401, -0.06980319709198955, -0.3383481802789314, -0.46211375427093443, -0.4550054250186492, 0.1296416889478998, -0.43815343305940213, -0.3566001220495526, -0.47379209480744355, -0.104515999119115, -0.748440223896001, -0.3009134200775278, -0.5114264969358141, -0.32770120038596273, -0.25668487042551535, 0.5247973123382038, -0.7421397590602453, -0.32059890993146906, -0.4626776874285296, -0.3109195506826481, -0.35813242939556067, -0.27480392439884327, -0.7236350132756271, -0.27058895232472685, 0.009208602331617534, -0.02450687983636586, -0.3063148748127756, -0.6461270157786613, -0.9950077005754331, -0.5310371298646872, -1.3037106119047694, -0.40355000225444676, 0.30485218534931185, -1.1116250396778817, 0.10325400158048854, -0.6609021272425373, -0.23933124776996126, -1.0165043521445831, -0.5505432125663225, -0.695565926627908, -0.6486666466611815, -0.5802146941505104, 0.08349435084354982, -0.6883704758621247, -0.45409680988725626, -0.47492329860604776, -0.21471431920191283, -1.1865854716626536, -0.9362666225786574, 0.002590705322552265, -0.5162664632891029, -0.48484530553782335, -0.9122922442903164, -0.8576949080899493, -0.7267650890042242, -0.5459761071587949, -0.5577329901090979, -0.45679781264105696, -0.3667912399744424, 0.16783697699489755, 0.09270955846944756, -0.7176386492751115, -0.08937621237349275, 0.1166737430521189, -0.09080083356909144, -0.35988876698869654, -0.5757384561685772, -0.7491372763344654, -0.3436627644683524, -0.4894365550837576, -0.29422906841314345, -0.516501567018849, -0.5766447645381217, -0.30920485628251254, -0.8186414469897126, -0.217835242673895, -0.7863500721848224, -0.4925278744895383, -1.025919472227042, -0.32080411495078537, -0.3539227047516822, -0.387001952546103, -1.0305999022278645, -0.579894665328424, -0.11931084140553923, -0.4075292647260996, -0.09216130026002237, -0.2830698507766606, 0.4686447924986556, -0.5332143258531992, -0.7126196951598128, -0.8191844660921018, -0.7249676613777905, -0.468177210688072, -0.486020915525546, -0.42663978658457924, -1.1790657794414545, 0.06322758432608432, -0.6410277383901712, -0.06670277297724167, -0.70661353438461, -0.5080328607635848, -0.5672450717042722, -0.6268037927403437, -0.5547766393749566, -0.8798308268933308, -0.7040755689341919, -0.33295230012333304, -0.2678043167121555, 0.10086812235936782, -0.2825424504847931, -0.9369938544918412, -0.01667546737270524, -0.3520514259380344, -0.04406735637670966, -0.4629583336291863, -0.3802204896691625, -0.4007217612287551, -0.5312580058915061, -0.9395492927276039, -0.46370600837575016, -0.7424872921359335, 0.32454572625111655, 0.34845568259461773, -0.07569701929549193, -0.2889052725346241, -0.6216727724752739, -0.3193392081755966, -0.9452472290623609, -0.13311367404795565, -0.5755057595870892, -0.07169567508071414, -0.17755642087705634, -0.7760067324466629, -0.6265826027020224, 0.0026001809014157607, -0.3330454160993639, -0.4057682146461577, -0.63897572607989, -0.576488120971605, -1.0290555767880252, -0.2497807631322723, -0.7982008288675893, 0.24251695889064315, -0.5090669808497287, -0.23934936465628842, -0.9661587471930015, -1.5653072146690024, 0.23914565045231131, -0.10091946139951374, -0.8803899054536595, -0.10462466756129635, -0.0622402532685934, -0.5770732532033542, -0.6130290248905608, -1.0005767839142747, -0.8290434022535901, -0.7183214926250338, -0.2744453514061164, -0.6602780800201349, -0.3457176784023711, -0.5160967804552902, -0.4927872131978174, -0.8974902688450785, -0.7195185091049536, -0.24355521777334588, 0.02066630346906162, -0.8108538808441587, -0.4360290388166656, -0.4217541275299717, -0.11222643200606236, -0.2308562949968176, -0.015086082116744198, -1.2486150042901245, -0.23536830294902608, -0.5081412121791881, -0.1976135843033768, -0.741310538519716, -0.37102424515474663, -1.05821419873318, -0.649358113772666, 0.1146208198054642, -0.47054070918406793, -0.38919493444920433, -0.29128743051584965, -0.9252419940548009, -0.3100337329475851, 0.0323072089248842, 0.02723096649903457, 0.012151359938447692, -0.2906761570035014, -0.23619732916630093, -0.22510129101112747, -1.0429496602938444, -0.5379381702038901, -0.1927719458105169, -0.3909131469733215, 0.16156259510818444, -1.0654972314866549, -0.7116850907192392, -0.6488308679340239, -0.0784043956023202, -0.3047091714874961, 0.9682116267648504, -0.7670601830954199, -0.898579226527202, -0.4641984922840001, -0.5516004021293084, -0.7978753939601566, -0.448919269894827, -0.8080038291968882, -0.30778886653262044, -0.6546917583134275, -0.6237489152618187, -0.3049571726576054, -0.3518740870118158, -0.13910877212067882, -0.7255751935521174, -0.4979271961420986, -0.6103507992199649, -0.29020939240140625, -0.23002036208981003, -1.0981833214642658, -0.7318847530794479, -1.1254453825765418, -1.0331818839495253, 0.020866557951102874, -0.3784460621119781, 0.22948113431894193, -0.9283587034195726, -0.042915719572370746, -0.235613679908699, -0.322506315938011, -0.639588711423189, -0.8473310970711323, -0.7348336969709618, -0.3795565036420982, -0.20676794623646644, -0.6478506506878604, -0.7287249780456198, -0.1058902254837642, -0.45823743929575433, 0.21657704948005285, 0.029832430148222424, 0.8560102625292175, -0.15923623603251227, -0.6432609062013931, -0.45002277608726393, -0.3551871283484629, -0.4870288926994045, -0.41579241557186236, -0.4296785623936802, -1.3356672971239116, -0.954688060837506, -0.4802465863094458, -0.5229618484682865, 0.3220171723754839, -0.7565495261733002, 0.23020043590898548, -0.03308643047830318, -1.2023335210401294, -0.17368165265098282, -0.39009865491991, -0.31440382144608886, -0.868348675506397, -0.5196953235043118, -0.6125019811466986, -0.06820822802171746, -0.5244805604724194, -0.1904530303957294, -0.053846864735952515, -0.4363550804983477, 0.1310712713970181, 0.29967812800533733, -0.5369370804849071, -0.9941106097282003, -1.1233616559035997, -0.5352006567937523, -0.7324818831887041, 0.24642124730463943, -0.33008856355204896, -0.22100220326252099, -0.8189159517617034, -0.27896119525686497, -0.8795940276986437, -1.1317777494921764, -0.8955294613210096, -0.5972753475186265, -0.7189327997248187, 0.7206273307363854, -0.5897835993879732, -1.0951292952700897, -0.8602595303430389, -0.7622093915265805, -0.500694101490696, -0.4547639784932677, -0.529189162249161, -0.6476515980140948, -0.20246867772640023, -0.35093610274275244, -0.45350264772285087, 0.033311108233345474, -0.4232812929231277, -0.43882509525077645, -0.020415154211634402, -0.24079236753954636, -0.21223759476256523, -0.16373157070557473, 0.6823399524503554, 0.24875337191771624, 0.40172114207897225, -0.656088299621002, -0.4101962012688431, -0.800251612012906, -0.15919162833558345, -0.4907345922862796, -0.7915696094426674, -0.33926213873044714, -0.49984696753282176, -0.9700665652730598, -0.8292104378963859, -0.0777116229195952, -0.5408760119022138, -0.34128202399303986, -0.30453428433263335, -0.31111928346372064, -0.35086712807338866, -0.16143112519000904, -0.59983132842961, -0.017574551925742966, -0.46569642243903187, -0.7531683760668242, -0.40724790803684585, -0.3025924423002647, -0.5847241599702008, -0.8067394047389681, 0.0435538254170649, -0.11610673483226687, -0.45362033921649236, -0.15350966611201455, 0.3089970760533326, -0.7787728940843843, -0.0788168116502553, -0.6130611577890919, -0.5830390833524033, -0.5651640771375652, -0.5322106899738674, -0.3632921766148807, -0.728690219074884, 0.012650788221136541, -0.4052809085397911, 0.4823659293282672, -0.26915376963042964, -0.7624297978489794, 0.3474793497166134, -0.055516736886504645, -0.09326907683586061, -0.5489326291690172, -0.7782163710593729, -0.9612179324666184, -0.20199481190657664, -0.7642518576470113, -0.30413495864601386, 0.595024690734778, -0.10539187852388666, 0.4491724476519162, -0.702706214944623, 0.17876579672908915, -0.14600224989063024, -0.6295754756943891, -1.2510194243058532, 0.2829180882366653, 0.1105533899444847, -0.9654426587727757, -0.5125005540403786, -0.6703155154988013, -0.678517751014717, -0.4305565948176017, 0.08859164458799586, -0.12020005045668188, -0.6422515048511318, -0.46873642987580766, -0.4880543653905385, -0.7420274364106164, -0.21705323770863497, -0.34225739098564656, -0.770918769876795, -0.2633097286391984, -0.3077881519644526, -0.8159803343701397, -0.5305986299751774, 0.10433371203249253, -0.22165898111291374, -0.08231535068449901, -0.43768284188437345, -0.6296349306156707, 0.07046262055303676, -0.5580853232227939, -0.6652927956614096, -0.8383994762573752, -0.8507946135796894, -0.02162325364230392, -0.36486660608892524, -0.604147347946857, -0.8446492079042542, -0.7901755014828357, -0.16552664171917442, 0.10657670012065838, -0.8068617545571224, -0.5747166599163711, -0.4901141279301965, -0.4463147364127066, -0.19353004585318137, -0.00016298889414816394, -0.4397848619768983, -0.698464911937213, -0.6533755333572053, -0.6948380312584977, -0.6335235984703139, -0.7638723030500691, -0.9659059951251062, -0.9626996636733263, -0.5835543239390005, 0.10404519024723398, -0.26272286015014873, -0.6821019642349102, 0.050437867120982395, -0.3521491559991861, -0.794550801218612, -0.563405662134002, -0.7853184283146141, -0.40122972997209944, -0.9282570751229515, -0.4508051158529557, -0.08025420785329639, -0.6450189942961364, -0.4075229207506483, -0.33571672807559394, -0.9472804912655306, -0.5005601017288084, -0.5928247314411094, -0.6459771888378177, -0.45978198674813847, -0.5012769398238656, -0.757115712215645, -0.43886492914856395, -0.6075236688399992, -0.18074899660988758, -0.7387964631284871, -0.20036454187191838, -0.3882120701198167, 0.04169466236428265, -0.6873508907729363, -0.38306117557758546, -0.2811316220984136, -1.3856899787650918, 0.39695116291327276, -0.8296134359945726, -0.5766387551395127, -0.6030439863784138, -0.7565892375352279, -0.35413428101279887, -0.5749386399297001, -0.29300786066543916, -0.5291961758541648, -1.5055824613592907, -0.7658753884698236, -1.5803081300786, -0.42734729189567766, 0.004556027721946174, -0.48257312651545736, -0.8859181521198515, -1.0665918150357283, -0.4402323437328367, 0.013387548673941154, -0.12083963808818768, -0.9139990323293246, -0.22054820836910033, -0.5781051294301357, -0.6897000287690965, -0.4302097186385383, -0.7048990150678228, 0.13381744050733388, -0.14639262588154475, -0.44114452987564823, -0.05019046294614977, -0.5719587227356178, -0.9753989730360446, -0.6407265043875617, -0.2914178742881668, -0.44990222067663516, 0.18200235022285471, -0.2885123600787675, -0.4313071216598461, -0.48909666009232683, -0.7496674742784611, -0.25802685540163744, -0.6141484567090538, -0.2873658918483111, -0.49975089031194164, -0.16937950064370252, -0.10354255684974369, -0.372631622191405, -0.6552950709470081, -0.616693786892506, -0.6309940190234589, -0.06866519601171178, -0.5974329774409514, -0.47029434244590873, -0.6257092647198932, -0.46099283413222397, -0.08923057445400949, -0.8972598306095897, -0.3729176081519786, -0.10791606276319707, -0.8572135294896737, -0.20331293054821964, -0.45475405289730253, -0.663724978969971, -0.214066375654158, -0.35964311939554994, -0.46783564669850025, -0.2352926893551752, -0.22969972081616494, -0.5010216048888956, -0.7534246746250537, -0.4895310437867896, -0.3435355369936978, -0.6109145700038736, -0.39772011691743236, 0.06682636468096433, -0.441164905980891, -0.9369847078944561, -0.3553512224362451, -0.9413628405991693, 0.48122289725411316, -0.8647900285322193, -0.884047604579521, -0.896159005795241, -0.30506745500588556, 0.018709401410531554, -0.37985222148494524, -0.300541569703503, -0.19174978122108324, -1.0690266859177515, -0.8304174354515799, -0.326242889403225, -0.7897669360801701, -0.5752565317191473, -0.3310890813068824, -0.31405703956295955, -0.38908140838465566, -0.7654563828277565, -0.4192145829564151, -1.142966389405327, -0.7260361053889282, -0.492113555259944, 0.3069075439487786, -0.8225740502927825, -0.643839575545965, -0.5952094415966187, -0.7045489815110805, 0.1998787231283449, -0.14657472134043661, -0.5976709330153112, -0.5889493471052643, -0.13937357110642368, -0.4164539430204554, -0.46214064946328753, -0.5356079830235773, -0.5010365362950043, -0.26154207077068586, -1.2691049888020562, -0.6218139535361409, -1.4293112514725457, -0.49862498076581396, -0.6393578514901623, -1.0643864280229438, -0.8605327287128232, -0.9361680024458688, -0.3614045980520935, -0.6672480880684881, -0.7148882384235944, -0.3979790346274456, -0.7182301229249637, -0.4617771308034862, -0.5715544322157278, -0.534878521069335, -0.8014218649492522, -0.7802802440922711, -0.17632147557538236, -0.32352524432819074, -0.16787447556049703, -0.9114281544959757, -0.07109572130836467, 0.17321408846074202, -0.46710339460201367, -0.9285769717012731, -0.0977815036232074, -1.195047681668182, -0.6824227618067962, -0.5624153426221853, -0.7384002865033715, -0.8114965496081965, -0.365806737151991, -0.36752983547270396, -0.5430048110712271, -0.32141822408754434, -0.20309280490449566, -0.5291026574949323, -0.45336355378439214, -1.0564002244782345, -0.73077964411859, -0.7558697822299584, 0.011625224450837865, -0.048746552180138424, -0.3293386387295852, -0.2040233078886842, -0.35440708777967017, 0.05953515163390224, -0.370296224562428, -0.24472367166532172, -0.6537937247920342, -0.6823147907618432, -0.06385439033967422, -0.32401746138710275, -0.6601030908010662, -0.531605540367044, -0.9870767968591977, -0.68678212472707, -0.4542296050034247, 0.3369651287033761, -0.294423727957856, -0.8962249376345646, -1.1718802579391994, -0.7751375552503063, -0.6062717083547259, -0.001768194127062667, 0.6081634951735647, -0.48980356338006287, -0.8684591638387165, -0.9474876455798652, 0.5483148768653693, -0.9211418315383006, -0.17383395627200038, -0.4501927245181948, -0.7244657935465906, -0.3832536152369059, -0.7347687064586698, -0.06653524301119033, -0.31739253772786513, -0.8350581989809185, -0.3319710119807722, -0.5186768500368647, -0.20966627023393378, -0.521445427694165, -0.4365187546194244, -0.6414018486989759, -0.1888307273619205, -0.2572418139812017, -0.15250681720092932, -0.5643872660347908, -0.7017097084580792, 0.04902146295104699, -0.41509269934308524, -0.2631378528963682, -0.7555823104478628, -0.48696767662191265, 0.004738718631116438, -1.453433349850397, 0.22400795724556852, -0.48608853664576135, -0.24805717714091663, -0.6566830112527681, -0.5132546558187004, -0.20013918314899187, -0.784209829901673, -0.6062993285506485, -0.5233495160017565, -0.360031491442483, -0.5364018860567656, -0.48402768299826127, -0.3384436773326343, -0.5060158727708343, 0.49907957290601984, 0.48971882154901736, -0.5888187202602495, -0.1884168976264605, -0.20479898777736738, -0.1754364183380887, -0.5510413787872643, -0.3647085038006925, -0.8678375470663152, -0.6102786461109443, -0.6289873016062263, -0.5637032678392991, 0.026040673865953042, 0.33630398657054983, -0.7254460441614915, 0.1617456528782027, -0.7274774258375841, -0.29908997465581766, -0.6662588815928828, -0.8978850314035743, -0.5835362210503244, -0.39743976294025635, -0.5204638806675483, -0.5954289225208038, -0.6438820644211808, 0.3432455705756579, -0.4482352988580918, -0.23080669143391916, -0.7981243325688456, -0.1645377128326076, -0.28101308893411925, -0.47910438668656175, -0.6443927129743431, -0.4348118196702967, -0.7531546561810074, -0.3088534654282875, 0.3269548867084812, -0.6239423435667373, -0.809684910720396, -0.3506434714867824, -0.5673041023594056, -0.7471053133636454, -0.6349557446943155, 0.807506258890923, -0.10892868862859693, -0.055706150235886334, 0.07972485997189, -0.5929471441512149, -0.8280223440461091, 0.23594012810997947, 0.21957789882582593, -0.6843119874619669, -0.19308767499441506, -0.49298998127758525, -0.3200302376937562, -0.5078409631132849, -0.698272376654399, -0.9902817123808991, -0.3128447735514533, -0.8798152492349807, -0.12741374095031352, 0.742417453799299, -0.9077293254025464, -0.2556957514520994, -0.11620397954838436, -0.04814355713714525, -0.44942324960904034, -0.2270995982085084, -1.051274838443879, -0.23617999160516465, -0.28620749036157167, -0.5527391974507422, -0.8771659777957008, -0.8913567615574487, -0.644311555685619, -0.391799706590673, -0.8210325969428172, -0.3858888409358751, 0.36826346543814864, -0.33245936881956273, -0.35823938442714426, -0.7454500854162913, -0.6397994660948889, -0.6148149234419286, -0.11987121116695977, -0.9981455243825557, 0.01777362377724026, -0.48912628270466246, -0.6536869301922232, -0.8217911796135979, -0.41380439972808614, 0.3926272159546964, -0.8730782156815958, -0.2997803936506838, -0.4057874403469475, -0.28517609359287543, -0.14429842655076758, -0.5515506536735985, -0.7491110956956178, -0.3686626665390568, -0.6514191160479544, -0.7447728660688476, -1.00330910119485, -0.4827254136444821, 0.33445402687921916, 0.07835095731709107, -0.03689759236341758, -1.5207358992356867, -1.4443526797895971, -0.10439002477192033, 0.24422578382167906, -1.0753220070053384, -0.719626542719025, -0.5120997107049364, -0.7560200143276808, -0.7019502624970538, 0.14771963248324735, -0.5152821748169006, -0.6936181255574182, -0.4131665624923693, -0.587411095910282, -0.9543668135382762, -0.8307329425513763, -0.39461119900504515, -0.09995318649988176, 0.2477664698223145, -0.5569579496988611, -0.1751446820517068, -0.2318611641767411, 0.6424274417523589, -0.7211734313552447, -0.2132611693359462, -0.5754441705475954, -0.708878224731441, -0.2957479235824552, -0.281378130514107], \"y\": [-0.5141640402179842, 0.01464946677528693, 0.021939158706293233, 0.076877230245254, 0.08631574356572762, 0.36512314297911114, -0.3725661088187343, -0.10252385602749788, -0.4843362219302224, -0.02168815774153249, 0.31925048420365204, 0.16705000863099162, -0.023153633311210942, 0.03262027941976642, 0.26439263989217104, 0.5023798404937763, 0.024040596803227256, 0.4041545626832743, 0.2496872694301336, 0.4256930282316012, 0.36394592825028355, -0.08751870766679559, -0.0552450336614829, 0.22736684701750523, 0.2053556879728898, 0.4923152333362125, 0.18686521432369949, 0.45478461138911586, -0.11069824939806881, 0.18571433762804962, 0.19615334798083173, 0.5111961256638946, -0.01622851234163967, 0.1983525602868378, 0.4433409070196701, 0.23415505888408375, 0.66366154068639, -0.2704086777484073, -0.005408862077776873, -0.0272894093172152, 0.49665304234035096, -0.06457409048954055, 0.16142047600255735, 0.3799362419647911, 0.039308586701117754, 0.05420406107432541, -0.2941298469323314, 0.426070351283375, 0.1212123582726529, 0.0390486325409406, -0.052513661025100127, -0.3773466702293137, -0.14161944553082245, -0.3506568537860592, -0.6325216172948335, -0.30021935676031763, -0.15797980433351366, -0.5398599908122604, -0.21312118864923044, -0.35419815372077307, -0.5214312223050247, -0.4401428433298587, -0.30153026163167373, -0.49854007558742736, -0.5830077517601987, -0.3719910394949222, -0.6481395244624902, 0.0049707788262464345, 0.5405843460916221, -0.38063751089181797, -0.3333542522750015, -0.16742057017306272, -0.022696305430415994, -0.0636537794626428, 0.3369809329441036, -0.21790852700652016, -0.19200419047627176, -0.010835824102946269, -0.36593614749988296, -0.4341562690362223, -0.43523952183475034, -0.3645166731372076, -0.494442691191399, 0.17763609528534857, 0.1592234533748371, -0.05857798599379657, -0.2111727264155588, -0.09396260735231121, -0.27595585939378675, -0.3841819610488891, -0.40583336196946224, -0.18932395487467943, -0.5367319582774438, 0.04745911475913354, -0.2733093058321201, 0.04415766690336778, 0.08446291580264226, -0.0054774032833982845, 0.09451732438413282, 0.20957012827986304, -0.0017275869133352268, -0.6512158913907544, 0.31254254297984363, -0.002439808182800336, -0.28353070090323446, -0.5415250831402693, -0.17817785290426727, 0.16701987885208766, 0.013103206026339213, -0.2002726353321203, 0.19714141177235217, 0.5690315845017535, 0.18709325626187562, 0.20668480070716794, 0.4918343758503174, 0.2790252494307987, 0.5045764346683067, -0.08709232432408659, -0.10624205593867729, 0.09464912003501622, 0.4474409342322619, -0.11445781060379177, 0.011223358884612816, 0.3042571251017557, 0.36001703494922604, -0.3256733664536254, 0.1646681705974865, 0.5438893691108813, -0.11178475906242588, 1.2351289719075687, 0.06395204014528912, 0.16024603546922514, 0.3571634156256488, -0.16690033787636954, 0.4438584482011002, -0.14500031257438709, -0.27476115489636865, -0.37533642313220295, 0.2503071692016597, -0.19215693391639496, -0.291254456367562, 0.11283383746732067, -0.3346559877523826, -0.2591221759508601, -0.4601025814670214, -0.42858870455774023, -0.327017373769587, -0.09908414786840339, 0.26235101973341685, -0.2648726576583903, -0.6194048610272466, 0.014830889973335407, 0.054266979621366306, -0.8387585261586847, -0.013808429492536124, -0.6118440391783815, 0.11474982406019972, 0.10486317999866727, 0.18834730200616415, -0.4148676290660594, -0.33957323794871086, 0.12300204751468807, -0.06719101085480352, 0.3192206861949966, 0.36261390899755935, 0.29304846114441013, -0.12407471583891092, -0.050545556277431646, 0.07841803643223995, -0.06488583206144047, 0.1305588402299483, 0.6747747355941549, -0.11689926699600127, 0.46579656634527405, -0.6156488994529077, 0.5699040120347699, -0.3276950203054783, -0.2725786476387322, 0.3917548165434835, -0.24834027290078936, -0.5431512099164213, -0.33802693108995835, -0.11808916059978693, -0.34259604824425083, -0.02322057825411297, 0.3862232407120293, 0.18519367094551958, 0.27177721257919135, 0.5528102985352519, -0.23788807514978924, 0.13909518797700532, -0.04227681893721449, 0.3692714415918903, 0.33003483795386146, 0.547574625655221, 0.33466071336575265, 0.3762150188752607, 0.26893825798068993, 0.12151058965933736, 0.015753899900320206, 0.45569081040289006, 0.20518452730036363, 0.5368916342915607, 0.590418342071896, 0.11652667356541427, 0.05208751038381616, 0.2197897638354758, -0.057413043956288566, 0.11098133665082369, 0.07541525864639541, 0.18599215105239103, -0.38797621444042185, 0.11474146201888437, 0.7701360746953252, 0.046475591390670735, -0.13763336634169532, 0.20288680572540851, -0.2392842909492696, 0.2888226031991987, -0.03390642926627983, -0.003117236200115658, 0.3512257391407425, 0.1715034542068427, 0.12976530173454442, -0.15399031582292416, 0.26604026088842475, 0.6121218271183645, 0.4141840826338403, 0.7549706230983759, 0.0016736723550531136, 0.11920056280179131, -0.3098238884757164, -0.6152544545906978, 0.13519221218304597, 0.40873180937437165, -0.2733881909980182, -0.27860737867696195, -0.3728355419738342, 0.06041690911002378, -0.5820630646336332, -0.06947436535444897, 0.00162129508868664, -0.15851208540228306, 0.11558767187353076, 0.01319493389430588, 0.08562012856490443, -0.06529909276109382, -0.2865979367010062, 0.2011267023324941, -0.11786871106128037, 0.7485341109210543, -0.4275169725935175, 0.2680265607657987, 0.557320890693903, 0.2655733071480572, 0.5868119921255772, -0.13533342325484443, -0.12687613501817732, -0.779502025435135, -0.5328840553873211, -0.5401257170147732, -0.2440422468778596, -0.8706463369485224, -0.32933239253270896, -0.5488107743372383, -0.33998825134840344, -0.7094562485389677, -1.1874543445803336, -0.46109831385613825, -0.35668622186552423, -0.4866058398919075, -0.5714393010962069, -0.3716785101706949, -0.4823160566687348, 0.03567783212782846, -0.3550708421032348, 0.4155717742334648, -0.4670936930540046, -0.5422490842541771, -0.526222843143104, -0.505946367334245, -0.21266927970607752, -0.16221430382277394, -0.7787978390486446, -0.6020662258008105, 0.05978501062918572, -0.3600313001633938, -0.5026923428966276, -0.5180774646339104, -0.48006957725460414, -0.1150211624190558, -0.6101663296448406, 0.3386401436000084, 0.22148279930923792, 0.26751556757619277, 0.37586517377139506, -0.02339227544381889, 0.037574470204477295, 0.497140493908048, 0.4803885000294093, 0.2194769763748982, 0.4586435239859282, 0.4403453653186201, -0.45613767649841147, 0.2611542212455044, 0.5804226186187526, -0.6858464508940997, 0.6466872361325375, 0.3045962716405609, 0.031319824673601594, -0.011307924960358305, -0.1532645011148892, 0.4586936875427328, -0.5505226351650059, -0.13018032909216293, -0.3391093977235332, -0.49027614317379686, -0.015470825001753051, -0.3027002706195139, -0.34245394450121697, 0.3551924422612449, 0.05741939719925114, -0.3974507042911435, -0.38126080000897195, -0.21690504097089672, -0.807547344061101, -0.41794093361005, 0.26892256300477513, -0.6757096535747074, -0.47068630229421543, -0.26956874810149134, 0.14224842954552924, -0.7972034216967662, -0.2566113906685469, -0.6701959624548007, -0.7367606125064403, -0.3474128820645722, 0.12751640255100105, -0.447011344309223, -0.34390355696555097, -0.19364976829831868, 0.14002676957698126, -0.7278228345297038, -0.4119259231698556, -0.10583341970739032, -0.4871657052575645, -0.28526168958755344, -0.37280656248644656, -0.3753706363532275, -0.548849257501374, -0.21223074085090057, -0.37493194579335365, -0.4029285406033476, -0.7718557643516529, -0.6332826224782133, -0.382840214757538, -0.3933185318592089, -0.012960013244775992, 0.10687439402509524, -0.17051666406762409, 0.07281740550692413, 0.08700327975079061, 0.38088703261580426, 0.16627131628972655, -0.2914274927426614, 0.13761934049427402, -0.47002676492044526, 0.09982972935418814, -0.3548006949932762, -0.6896949819363412, -0.45811210079022097, -0.8501527982858716, -0.8148036821920736, -0.39645373620430174, -0.9484858350130464, -0.4356017746302681, -0.03453540739151789, -0.24561143658928009, -0.4987533337065306, -0.47277140840925336, 0.13433452084987355, -0.40948608002556636, -0.12958241741897655, -0.17205080524067506, -0.7725755647904053, -0.6100830216215587, -0.9683352043971131, -0.6607627830529231, -0.346510006784742, -0.44100566503090305, -0.46840211314184416, -0.5483756466020777, -0.36056357211433526, -0.13382409020311875, -0.37794176106485566, -0.9784605158373771, -0.5227729088863822, -0.32254138358615303, -0.8221340302524216, -0.5278036566609782, -0.5102668560602234, -0.0032098684826861227, -0.7633227923063186, -0.7417904339111059, 0.050679475175048574, 0.07547424403435675, -0.46588734159703205, 0.1930459501172511, -0.04603202056569253, -0.0659824381823437, -0.5502948342787285, -0.6414868734957511, -0.5248267510657839, -0.5199467066106551, -0.826115215236359, -0.29658760800416956, -0.6804578978178613, -0.7043599505812677, -0.3673002710093853, -0.6975496381155712, -0.4034729662601984, -0.21666686319147432, -0.4362637620611064, -0.20883452223771698, -0.15892282495295001, -0.5614040254800091, -0.15686723702034572, -0.0023082882854820524, -0.2941269645683172, -0.5892725372511144, -0.25001874458008244, -0.05215793935768597, -0.14007474697624367, 0.24528519068282362, -0.4201126602634453, 0.11414937400964825, -0.2739756158953585, 0.03064278962943105, -0.2099794438332385, 0.025983662435296196, 0.09604873362218055, 0.4255682628097293, -0.30313284503254495, -0.2500462376185533, 0.3991423502958681, -0.23617745678808305, -0.3540562860271915, -0.23762922656551835, -0.2497569452685357, -0.25015884639232233, -0.3825513862546004, 0.45107070448141606, -0.33226980576730897, 0.2595844747657421, -0.2010628988771554, -0.3492949363628687, -0.7780125766682288, -0.5174956739500446, -0.16825295870253051, -0.021761701524829313, -0.23185245894434778, -0.09528284174203795, -0.21781298794847756, -0.37713174459884674, -0.17142062211005168, 0.03048622739152525, -0.06899734180458998, -0.25402162888513113, -0.6153372626218068, 0.18400150588559813, 0.25258102889404793, -0.06134718219822742, -0.48065012240723254, -0.37761692121314583, -0.13131691770321, -0.7596747482978399, -0.30322666240415785, -0.5895296536334684, 0.08551810531413495, -0.5783358313707327, 0.04795943597599359, 0.3962842425632402, -0.21707100523180511, -0.4177378974834041, 0.6141703040737596, 0.007088711987070314, 0.17736510240043663, -0.1486932533329259, -0.023256395986706226, -0.0466611657179688, -0.30257368372468707, -0.14941142682125075, 0.07314953133024658, 0.10133584789645264, 0.23876749362129165, -0.041398372626250964, -0.1945660761907265, 0.008841806300994275, 0.008146518495764428, 0.19382975992465368, 0.04876034067132516, 0.23393844803324804, 0.010445753403514727, 0.11725048502379501, 0.1604608260744367, -0.25351143850497726, -0.010069823291025438, -0.06411962070422986, 0.02318426024403742, -0.20724337369966103, -0.4864792010094653, -0.39702799194567945, 0.061834846306078696, -0.149159448990144, -0.03595145772536854, 0.04829216439216558, 0.2058710515744772, -0.05094626525774993, -0.024515462104411197, 0.03343012715097142, -0.4418462357677952, -0.2908048287692929, 0.027142350952788906, 0.11783292004482894, -0.06743192705968015, 0.02592496957870905, -0.0020411266866444564, -0.2661438253039662, -0.08960296202855705, -0.367410218267103, -0.5754872322212915, 0.03183294959946376, -0.3447143119321881, -0.5228229786420815, -0.910887571921006, -0.9808639309260512, -0.410674967937511, -0.9793381525672766, -0.8953545722111539, -0.8843673433673878, 0.40932055552930635, -0.7465817735861223, -0.44826973688220884, -0.2657353564696352, -0.7073447378909523, -0.6262334967374363, -0.9006603639229931, -0.7578880202668641, -1.295803845377316, -1.077047142554761, -0.4916858211325405, -1.1483608431546128, -0.24975555773624883, -0.3910872350157444, -0.7567058171188692, -0.7246933089988419, -0.9665206562404338, -0.7683317098447324, -0.21493446226030882, -0.45030554180096966, -0.3316629225958291, -0.8939117858628951, -0.41676721313107606, -0.9081938568889748, -0.5088118250702663, -0.7864117963531911, -0.2784242356700366, 0.15745485026875145, -0.027922448699641552, -0.16777035298892556, 0.17814293247877475, 0.10549259809331465, 0.019915202315499682, -0.008630558955698999, 0.1616205607568306, -0.3864272803643591, 0.2036726252331139, 0.3395560650520289, -0.16047884083925812, -0.08278343136960888, 0.2805509085183453, -0.5742808252065469, -0.09091248662170473, -0.2042395310119346, 0.2327052861540509, -0.27848506748230467, 0.10269151735508876, -0.4854306838222518, 0.2516497355949153, -0.23564106170884153, -0.0007557942018662489, -0.1819732532638842, 0.09782129095012558, 0.3872133439841244, -0.16794777135377234, -0.37101297377005593, 0.03140235602213573, 0.1438198709265518, -0.13233560309291037, 0.07146145982116998, -0.06438576422220182, 0.06931372614873708, 0.10079624731894049, 0.7192066317286269, -0.5529333746128234, 0.1960215069388329, 0.06511788339517825, 0.18091019197062305, -0.3253812348795339, -0.22471776197637824, -0.13468547833451747, -0.0562295056139033, 0.010379545798526606, 0.2411973704387931, -0.18601745585716134, 0.11164877343461409, -0.22073676572736883, 0.6947602112481054, 0.2797196197737701, 0.2029475872204586, 0.6333082848529283, 0.15673839219030064, 0.5073549711412091, 0.4453942344758975, 0.04870810432434965, 0.1759370611594032, 0.5348972664772592, 0.3441012313020871, 0.13468006202174726, 0.5737107824183588, 0.03602320953203188, 0.5396439708065753, 0.1740612037101461, 0.18917913225744823, -0.01581960259711966, 0.9339422100688755, 0.4131053034583043, -0.031217067914864227, 0.6283933608598192, 0.11301519625531259, -0.09270152287675322, 0.3536541837385687, -0.16244835533988267, 0.2229002358245454, -0.054928140743952435, 0.1588422426537367, 0.013091760601204386, 0.36086478980556136, 0.870639285994673, 0.02159765737567711, 0.32301080320213665, 0.6323117246382912, 0.4958417516630546, 0.8374669860574641, 0.024289392141838336, 0.36474564563951295, 0.07369480122195542, -0.0244028956580971, -0.0959574387591648, -0.13598081557750782, -0.2382039071327262, 0.6567223010032491, -0.0866538766549057, 0.739529926431041, 0.35564538775075955, 0.18761089337598627, 0.11939617809091063, -0.4100087377918558, -0.2825515790508728, -0.4925111068056696, -0.145046203482317, -0.1573771087264671, 0.011697456847743707, 0.011659997915724061, -0.07140860230642658, 0.027304361264855283, 0.4048486933510608, -0.23223990555494112, -0.3398454566686559, 0.2027453840161888, -0.702967662006318, -0.7006825709372838, 0.005733922477116409, -0.003926145291422666, -0.05389196776147109, -0.6044191266763738, -0.36309493612062826, 0.17988320343089004, -0.10864619762828148, -0.3298342386079274, -0.7085309829045643, -0.7811848362432384, -0.8035079356172901, -0.4820158107129281, -0.2285297220622489, -0.5092132668366564, 0.09243444263008993, -0.30796451839011446, -1.2242790263153789, -0.949727299028545, -0.38081668304647304, -0.40265375068857795, -0.6192838847137296, 0.24389745246200198, -0.7355115216479545, -0.24616900883441442, -0.35511319173583317, -0.0602572044804895, -0.43066627267626606, 0.00258002487281287, -0.00039307858102010675, 0.14048828980224778, -0.4245076260783474, -0.5219759684687676, -0.2709360143427145, -0.6847403181353608, -0.15307954389132064, -0.051732155069166355, -0.7886743199944125, -0.29313950267551886, -0.3348855826064301, 0.30381039051224495, 0.04734469170877776, -0.3099518210429511, -0.42527206872537365, -0.17885680728002187, -0.5648310638746994, -0.5633946961722244, 0.06723999071943132, -0.10592129919810078, -0.5691020158770892, -0.17023559829781917, 0.20321323452138007, -0.04136731138333372, -0.4524959875956347, 0.023388045654375956, -0.34354764462712595, 0.06517399712056877, -0.7599920883984436, 0.4193870475905532, -0.7124130450934828, 0.20054343299009922, -0.37486703961336143, -0.589950796119733, 0.026282216082050266, -0.6090205398110443, 0.15529522213359634, -0.22498608809032572, -0.18110525151791784, -0.5489373055197023, -0.669704829488347, -0.47286595373882384, -0.5504207414098856, -0.561846796946701, -0.641305129552528, -0.6896361698940255, 0.0878780571861626, -0.25979028996147224, -0.577711827613188, -0.3369969960893609, -0.5321117661151693, -0.21184830179151723, 0.021448547080453025, -0.5159432823272615, -0.6814212635792328, -0.40777827023023644, -0.6158706628819492, -0.5576687516396058, -0.5393698171584802, -0.9057852539245488, -0.6689801155244073, -0.8457219379295141, -0.32225857459801094, -0.6028614105373064, 0.13303402362983924, -0.27163817957373376, -0.7190491488108187, -0.3815531772469725, -0.824306608112206, -0.7525945173466199, -0.3929731392594683, -0.01929693209370369, -0.3453574220475648, -0.646774043934249, -0.3504600008641484, -0.43989614439628666, -0.6022094387833749, -0.7240976359612228, -0.2928514187407886, -0.00857617095863999, 0.13534618300619555, -1.0384060907693973, -0.1615185703854521, -0.3790736120123335, -0.67220866351229, -0.5236646714494999, -0.47054323998959746, -0.7697848041014423, -0.27822264083690373, -0.572316693230655, -0.19168229749342466, -0.29541108747748435, -0.11667718054547647, -0.22386031535249284, 0.6626914772027096, 0.1450333296674537, 0.041206185112300474, -0.2076294157702937, -0.6820695749442697, -0.07606972756117256, 0.23845292797339365, 0.40889073945047216, 0.2790696263398345, 0.9360106218498929, 0.5105018715714307, -0.21671057411430728, 0.13595378538588337, -0.22053997435368725, -0.3940162178786173, -0.17153435888757035, -0.20978646122035222, 0.12843783606365833, -0.285639226188464, -0.1375785800754765, -0.13865586701654542, 0.45642563406203157, -0.022277295844191043, -0.09620456720344316, -0.5036664172437362, -0.2935288388506029, -0.19898201232499027, -0.44159433315177177, 0.08189519931214198, 0.18409932708283996, -0.16266163484979593, -0.07065063491991694, -0.3967657558014318, 0.06200821207942359, 0.06465143142070195, 0.34798195843740226, -0.19229413012091262, 0.00973538777767966, -0.5912900440440307, -0.23914389737980982, 0.16338985530000275, -0.37278799709400734, 0.3576606549327554, -0.013801584701268998, 0.28609113393294067, 0.5739293178878828, 0.2550541629929528, 0.3988222154138624, -0.06618238665855833, 0.23069888344630965, 0.11143206229384388, -0.0322324421085839, 0.19321222415964945, -0.13973410414104778, -0.14749111526108397, 0.7750796488237044, -0.45801096459077234, 0.3767114491772957, -0.5555326897750132, -0.5804829829132444, 0.35609690711702924, 0.6121329024524268, -0.4057912420409178, 0.3838186731863947, -0.18414683610396468, 0.40041353820776254, 1.695702736170878, -0.528095065244468, -0.0674303237651522, 0.06369803811683876, -0.2887442357749298, 0.39113448358776515, -0.6947543133919895, -0.08321392089688674, -0.029396727864945973, -0.4286849688180556, -0.3062371627404828, -0.1295831221321201, -0.5463702040875192, -0.10033753581732806, 1.7186833153180867, -0.5332265465921053, -0.4535672169868612, -0.3720640944338498, 0.5678929991343451, -0.5453978032793587, -0.6186587551460065, -0.5022553858849647, -0.08453412011773073, 0.11893453005747318, 0.08471406178905364, 0.28096386634515563, 0.31990132296535373, -0.11092893514444568, 2.609127990086476, 0.007163061605242103, -0.6050189471388181, -0.8106662946817355, -0.04781306646026687, 0.27062648593994365, -0.4225773646411728, 0.3051602257412416, -0.5595240115884533, 0.464337192988676, 0.25315920762225463, -0.297088330521525, -0.6612157997011828, -0.79328817444317, -0.8275077629459988, -0.4500551815506059, 0.9257550272485271, -0.30313095210307456, 1.0615183468977514, -0.29819763094874563, 0.38891794794730167, -0.5911160261258194, 1.0464773611396696, 0.0611397739959854, -0.6206852303688122, -0.5043254065468806, -0.682683748124216, 0.05044435502618137, -0.5672795938542039, -0.3072721154598458, 0.6272499749747182, 1.07127208231307, -0.13404686991620895, -0.04344355581144165, -0.5191634573248942, 0.21611105232440936, -0.497478260738387, 0.226431046522105, -0.21022226247510212, -0.1302293105861597, -0.5645954549586245, -0.5833939045720704, -0.182745682995903, -0.5581896918514757, 0.1849245804253779, -0.5553409713839471, 0.41248857828693963, 0.001310360294807053, -0.04393449395109267, -0.6612586058315035, -0.6011347174347637, 0.15640282066146907, -0.38977083372834265, 0.8643678418918603, 1.1237814161088946, -1.017198505907685, 0.40737657319165393, 0.29812415317081803, -0.09557280657784903, -0.6761961633584602, 0.4691244734901074, 0.3298080656652211, 0.6781373483108889, -0.5750037408771508, 0.5759592989282768, -0.7851414101356229, 0.05085879701524112, -0.8007359538860864, -0.1988495815955721, -0.8434340920758617, -0.5752890883090908, 0.40974028677416424, 0.03050768855597221, 0.029280370432540222, -0.2779591845941046, -0.41059150451643445, -0.26563969259745424, -0.4650562585949242, 0.11063923290037492, 0.7724123765525299, -1.0558005786139162, 0.5768681733524541, -0.13159872479716633, -0.00901132647631413, -0.28355660978551694, 0.3137217535787378, -0.6005880981479508, -0.46540122397706923, -0.2599792696721823, -0.36966415210510484, -0.07351367872495009, -0.4508090997922429, 2.099400245190159, -0.39682113397193963, -0.23581098661797711, -0.1794131620172847, 0.3826881908291242, 0.10560827685232438, -0.5210869490573464, -0.4531852766555318, -0.4673317820462717, -0.2346108895230321, -0.16929535736127552, -0.6958649629110043, 0.2835767527964735, -0.10600498530195773, -0.3237072080350752, -0.3600878384567841, -0.7672059809699339, -0.3387502451030114, -0.3248399112444769, 0.5496736157991291, 0.04284304130736015, 1.9441642030955428, -0.03320234372938024, 0.08558361755013126, -0.13959388769712147, -0.55003660434023, 0.21407869737925295, 0.06024499118544611, 0.06977299370573897, 0.3478932991129574, 1.0675638039291495, -0.263659151114328, 0.13620076209787427, 1.731623362250058, 1.4170108058429098, 0.5238785511393482, -0.12205049316804838, -0.32385744648152726, -0.036982392253490946, 0.09133480775140206, -0.28791466533508836, 0.2786328360843872, -0.6346251599927851, -0.17547848700332871, -0.10319244382871524, -0.5873954884909779, 0.04064295990646678, -0.5097324408609136, -0.19052146700070122, -0.21625124611633476, 0.13975765474994548, -0.5942786124105267, 1.3724542918677185, -0.40673468488718356, 0.5545438539682136, -0.15920685564729087, -0.2845080964848174, 0.20810754897796305, 0.29622427649341565, 0.2676533872335477, -0.280519309272977, -0.14077967912769151, -0.43646167285658927, -0.7563515248092876, -0.41678909855710056, -0.5045809094409652, 0.05543100410788127, -0.2840047000583358, 0.03690926039996669, -0.3232372164092595, -0.39538339764779257, 0.17989066474418314, 0.002841415638677701, -0.22544072099424106, -0.44495372828687424, -0.5756618427304018, 0.08313127096664255, -0.12948124838554767, -0.6967808958660398, -0.5346409395474929, -0.5168493942826009, -0.1468150910697178, -0.11678548431669868, -0.035152535750269616, 0.34422894306257024, -0.4745613498493392, 0.025450588578703068, 0.39685266136716196, -0.661686580920168, -0.29971919500481614, 2.8662368934549556, 0.8083659168189122, -0.3663023593077663, -0.21081710874168355, -0.21221498151644344, -0.7539910256745437, -0.5593057950375002, -0.1214570289457037, -0.500613157386872, -0.9135965094655782, 0.66489993925309, 0.5939662974355583, 1.6792880801993442, -0.7147312346012612, 0.48977902558005676, -0.6940132235173824, -0.6801544674756448, -0.3912002112696936, 0.3485471357912751, 1.7186833153180867, -0.08601538900795104, -0.21992888755963372, 0.17368421045493776, 0.010043861765821288, 0.401897362843712, 0.4029770063502981, 0.231255268917629, -0.16653152072227986, -0.24767641397109644, 2.5042731272365857, 0.6338787281954614, -0.008893883190774235, -0.3875447004981823, -0.21852115453262608, -0.47609226096679585, -0.09100983742527252, 0.09700850447416674, -0.028877850127891676, -0.7591325763292103, 0.12511932181481464, -0.4161891472221348, 0.041792315934229975, -0.4441166945120858, -0.5346744470107859, -0.32462294068241265, -0.41943574313784077, 0.23012779720991014, 0.3550675891255342, -0.6311649380043768, -0.6984925806458361, -0.543930971671525, 0.0008360578659081941, -0.3949192743052044, -0.4836185733880056, -0.058886431532816794, -0.21961885517537624, -0.44770910432260497, -0.042992951635476076, -0.0224263568039326, -0.05761794405912212, 0.421648143879551, -0.5990478758080342, -0.48819525536321706, -0.5193791329291654, 0.08485800554131095, -0.3127271491387962, -0.3272034737560658, -0.2491367945593038, -0.41915422005642505, -0.4477993761618576, -0.03691876042129935, 0.021111251252669373, -0.6291798806918425, 0.2510542246488769, 0.010834359876707089, -0.08095349623419455, -0.39534874898310757, 0.12869089848688428, -0.6250529438996758, -0.9462748636317787, -0.1176387903985339, -0.9908479693430206, -0.6252681798156996, 0.028946076555294718, -0.39896444147613686, -0.4179807909564548, 1.6765213720625172, 1.129322945283643, -0.5586135865635198, -0.3550954440835875, -0.8035705975293326, 1.8328773747196707, -0.2861390019854584, -0.2273793543009755, -0.726454210639987, -0.38140155112377366, -0.3943471535811825, -0.40133567778414686, -0.43989054236127156, -0.12083042697886909, -0.3175343210926624, -0.21592438860972196, -0.43123616668849374, 0.23972463963252402, -0.1284749758742541, 0.8376377350354373, -0.04543633505275506, -0.39313014000588464, -0.13845465312674124, -0.49477920638482525, 0.1129327566302221, -0.1640200069162015, -0.7410391309241363, 0.3867160540559286, -0.41260899266023915, -0.035726493454624184, 0.10751625651094374, 0.4896686863013527, -0.38504751842573104, -0.5245320531762442, -0.4602201018315557, -0.14831575693402682, -0.5299635314955482, -0.8509512831265036, -0.1686517411567006, -0.775540684124793, 0.6603392182666081, 0.013436782824380286, -0.412591037394366, -0.07042206052315243, 0.12653773532918758, 0.8925808585175286, -0.3738004795589786, -0.13848876259632747, 0.16442209665233828, -0.23761737193312707, -0.09708275853113062, 0.4360149090532296, -0.36946545790074714, -0.6859533926492914, -0.1497347244868589, 0.899572511747806, -0.5731009932729119, -0.37718778776793777, -0.22731786657093525, 1.0249506459926796, -0.5382539557286631, -0.6281569513202138, 0.053656699506218625, -0.22385581643378102, -0.44001445010410034, 0.334630329116543, -0.40942587215682635, -0.5146885882687852, 0.3843465379090049, -0.06928194293058958, -0.47645342446746825, 1.1962116345645277, -0.7666628890756936, -0.8078108108782038, 0.25088736672127143, -0.3256360261279978, -0.3088214210764941, -0.020849931244935192, 0.952332306668542, 0.9853848343576418, -0.583761681967831, 1.3909916759964323, 0.3923585040189492, -0.3832171844208533, -0.3864298503820943, -0.057341478647892644, -1.2428852333517366, -0.1662324891274781, 0.08367713429469203, 0.022567889602246566, -0.4405705671629508, -0.9916063166906693, -0.2534475776337632, -0.8152949186249456, -0.16335807034908778, 0.06936789951611028, 0.7558711565016807, -0.4229420820733299, -0.4711371958076767, 0.38289869196272325, -0.5442472310406781, 0.7934711442419763, 0.3900727099151075, 0.2213253870896532, -0.5096641466010877, -0.5462464714436068, -0.5008725866809064, -0.29671297200664004, -0.475106029038084, -0.2872904135169549, -0.6428764346718221, -0.15880971875064204, 0.442953531081913, 0.39188328562202895, 0.00019433396681620791, -0.3359847350860861, -0.2888581524847868, -0.6288644617922842, -0.7880178265299078, -0.4369366341079077, 0.16141747242914986, -0.2898818633119252, -0.07999183592199331, -0.8819740397658024, 0.06073679132817133, 0.09543124958665422, -0.2991387671947385, -0.33110838427571887, 0.3165304379608637, -0.5895818623730297, -0.23085007197359142, -0.12797855298323343, 0.254312569991216, -0.6079196074275176, -0.7860115940197321, -0.5524215290162413, -0.7521752774763245, -0.17887296827975305, -0.537237149542904, 0.2509752330466257, -0.08412831159180852, -0.13200338002333248, -0.08706053258854986, -0.18301542037994895, 1.0419661594260745, 0.0420733783054965, -0.5914897962920517, 0.08208187226550402, -0.26418159536374586, -0.09777318717561022, 0.2791525088994986, -0.0503889203299406, 0.665190971182326, -0.5960691752351708, -0.04207732966276303, -0.497879819385323, 0.1658770369297085, -0.8299100632722597, 0.11535771798586097, -0.5639796658295653, 0.010089608023699879, -0.48864343328940657, -0.12322287324474898, -0.9554435087245164, -0.4630284944010402, -0.14181905534024059, -0.10901576427436835, -0.046968540525647536, 0.4033756175973096, -0.7496926417853755, -0.47075706814459134, 0.36758991907252947, -0.4196479718421056, -0.3675714586078355, -0.21584891906807246, -0.055329704989303584, -0.639271418144955, -0.03536250568887359, -0.327789233356765, -0.6362748651069615, -0.6774782778801324, 0.007983923393206626, 0.4789928197023192, 0.1219208598060484, -0.6601623210365816, -0.8566770688681323, -0.1551850342014376, -0.05886916308555408, -0.19155074614024376, -0.058376337570349233, -0.43435511784712244, -0.42140292304919924, -0.20025383017460235, 0.13625640683248458, -0.66601194619408, -0.6971118752028327, 0.17022258594054726, 0.15345378364422815, -0.09520726393922542, -0.14300570892339595, -0.3043200753546246, -0.9068370799517798, -0.31655752419041444, 0.5342477842811925, 0.5227315508442371, 0.2215100190473534, 0.11588310036422161, -0.780698342841631, 0.029648119855135727, -0.37777555796476936, -0.2547006049855418, -0.43685591544080976, -0.23633578369144642, -0.1844954546999367, 0.09410381964077365, -1.0721158256278995, 0.23927741925555732, -0.1999111048575009, -0.03448865607570602, 0.09682101003938558, -0.3254820514173633, -0.4451839470459453, 0.992788320898313, 0.05703725814813884, -0.29324812772016856, -0.5029244596147968, -0.7828300275446688, -0.5346090207382072, 0.6254536915468847, -0.6739786120358116, -0.41404550094706166, -0.19215626804310254, 0.8694658966925316, -0.0461126612108255, 0.28237883005439274, -0.7579199790814481, -0.17804241723510622, -0.47756059390914096, 0.06721444190708942, -0.49954901366574167, -0.4821467428557758, -0.753025501792261, 0.7079896076775661, -0.4071601842626114, -0.13295338067507462, -0.6308086284401403, -0.9887180456294995, 0.27411754967840674, 0.5225408939825935, -0.24590852539895278, -0.3905459305924852, -0.05705402575449227, 0.07762991790101845, -0.26316275750798024, 2.070470308160441, -0.8325122446528032, 0.32815287551682776, -0.6001383862305232, -0.6862855936288004, 1.0892512819929936, -0.5769063660828466, 0.10395409862242566, -0.15148074304338988, -0.11732236159769754, -0.27830849869624574, -1.1919986170426056, -0.37152105957669573, 0.19120401770664414, -0.741075094106954, -0.3293050648956942, 0.027714908169905076, 1.8045921582518822, -0.44436999039143765, -0.8547551882329308, 0.042706446080424024, -0.4639846399045853, -0.09386198447221826, -0.07818782007127151, 0.7021622572302276, -0.25397588819828293, -0.2584498489840682, -0.3828038694584997, -0.20404038805605465, -0.5877107510254093, 0.19864759168065, -0.31170523409115936, -0.24794156040201495, -0.3478675068314873, -0.06291074096493889, 0.18380364802486457, -0.7747180725761597, 0.17156901289907728, -0.939741685838105, 0.7806509941739169, -0.333352858725109, -0.6567422829191455, -0.2912526574927385, 0.18363225383827192, -1.0047869245699999, -0.7441050154486984, -0.6211017280005359, -0.02636612250679491, 1.1034593690205805, 0.07851916875181847, -0.658274695586542, -0.5133874261453111, -0.16039042469228562, -0.3991684047175483, -0.3925878221482669, -0.1433413460959945, -0.39195814753556885, 0.021244235910229455, -0.3158365799726657, -0.5654252677884904, -0.5102402038257611, -0.6926569877432955, -0.07378419558230702, -0.3788880916948891, -0.1452016152879521, -0.4973294521532729, -0.46447861231130266, -0.04868228700969615, 0.10057586170209316, -0.48779838637740935, 0.37884224969921776, 0.968009105801589, -0.5840614080606079, 0.11213105175564138, -0.7380624303228447, -1.121664327578041, 0.19340528318105926, 0.09823981426473306, -0.07141209647595868, -0.5709659996763271, 0.5465328423623531, -0.41351560186170205, -0.36349567507888886, 0.024943383894471288, -0.495489846270522, -0.46974278145743964, 0.10554515301957741, -0.256613869994769, -0.5791747099286505, -0.4677907495633495, 0.5002463445270042, -0.5875216043302101, 1.6104222319184205, -0.27849157957305604, -0.3541247652897522, -0.3740165345923905, -0.680904236594365, -1.4403871777923443, -0.4230821645769158, 0.07404039978600048, -0.1983688071876938, -0.3128389611214669, -0.6567925113481307, -0.5544207467254494, 1.3618751433364282, -0.1677425949733875, -0.0773760250852285, -0.4956894870464943, -0.4021301698270231, -0.6738413320254377, -0.6628502761262323, -0.37717132501119277, -0.15270457159284492, -0.23117760885866223, -0.5154435426153555, -0.2660927665191047, -1.0592020515573537, -0.5593450198595215, 0.12024772174089023, -1.10203930266648, -0.6822729780849515, -0.33316176279972093, 0.001084438027578393, -0.30302539167844766, 0.6303809292074232, -0.230866917478024, -0.16715508345200114, -0.1064745948789978, -0.5288376527732279, 0.028934449873219355, -0.5480336931707573, -0.718360180717562, 0.19273806204263763, -0.37922290418928184, -0.33608132485715203, -0.04876632570885709, 0.0697855060778707, -0.4707998627532602, 0.37174983521626853, -0.38494168266588247, -1.3286150281688882, -0.6328737050886053, -0.11769195588751417, 0.32091145666342297, -0.5805805963209183, -0.16944681458002056, -0.262717354297757, -0.5540918065410798, 0.0337558466658018, 0.2915135915176025, -0.5315613054734549, -0.8091660398849744, -0.07849990702679115, 0.050270511326500664, -0.06918149196008329, -0.9196475711402471, 0.23200367037174865, 0.3386279563615841, 1.2268411881385477, -0.27285389597485443, -0.36646085461267014, -0.6554803144079584, -0.12039721783163967, -0.2743002150872055, 0.17088762768948002, 0.12888819937047938, 0.6449159531623917, -0.789325502816119, 0.1821667388391169, -0.5654366763475889, -0.3250212916493897, -0.05551595978984152, -0.10324063529799721, -0.6173518387297995, 0.07255551251428799, -0.46977347844607426, -0.6261099393453935, -0.5688882491290266, -0.6049163361682401, -0.342855937253123, 0.06200871802448769, -0.6192893585588164, 0.5785297310950017, -0.5173392238816272, -0.267945703652491, -0.7125262086230425, -0.37578323968283356, 0.2711923376363633, -0.4673782162419127, -0.11804950651744796, -0.06724862232034835, 0.07741857965975422, -0.471986461774389, -0.3126593943108771, 0.03599923807448053, 1.3629855574991705, -0.7099957285647212, -0.29701466715459907, -0.0688353035980426, -0.13047051601408075, 0.26718373603232143, -0.18929010308625713, -0.15054839254161426, -0.4462435100651224, -0.21101479963612607, -0.5257830431361961, -0.32663442016270594, -0.6798249965438505, 1.394437331834391, 0.5093251350045356, -0.05378871568104119, 0.5384580724164943, -1.0947183371259737, 0.24067602760509219, -0.18441368077293377, 0.49282932197573975, -0.11264279208330602, -0.34144246214359114, -0.40752113890059904, -0.8100330096686774, -0.2207904878872221, 0.31108210850490003, -0.579087368301073, 0.2840529125683252, -0.02000834621742536, -0.23292178487072057, -0.5068208459365035, -0.5011041350160048, 0.7560268314490034, -0.6653237515990399, 0.16222652135791363, -0.2600226335206523, -0.523400628227623, 0.1450142527057402, -0.22042672627336035, 0.37325305193860187, -0.28193439701123124, -0.2492041905779882, 0.7215264596788552, 0.6236277910648865, -0.2004714597215714, 0.7150169162320805, 0.01879551944759876, 1.7012215647059967, -0.2673386338801892, -0.7007111203889, -0.9413345279574286, -0.5386256227566184, -0.18937378745412886, -0.7324804444967612, 1.3783114063732917, 0.23370919530277603, 0.07596942544538915, -0.34705470831719126, -0.18044422167943874, 0.33841681054126294, -0.4371918141149652, -0.6035059808582223, -0.3780427249530652, -0.6746118180782998, 0.20659004014635193, -0.3951930055112645, 8.611355642487093e-05, 0.024528469361095803, -0.7491310464728025, -0.47183492296005713, 0.1797471022603001, -0.1985643993304656, 1.063575812797034, -0.6992251824604406, -0.05465906309817709, -0.16495676652304986, -0.3812787228368482, -0.525522878075985, 0.09875137117986887, -0.2924704665743229, 0.1351168457416013, -0.8020671177878946, 0.4714408179949668, 0.11459280806918326, 0.05430011771769308, -0.20999725754492174, 0.3462251057743062, 1.8047220772099455, -0.17631907358403562, -0.10336977030163565, 0.33161541524112925, -0.3681756078819089, 0.09986896225390615, -0.33986001592314385, 0.1895669641648488, 0.7635718284447942, -0.09121990882269944, -0.2847734579695832, 0.30684573412757676, -0.6047008330222241, -0.4208399738540478, -0.4769109033307747, -0.2901330741051395, -0.04949722243775317, -0.6520729031355355, -0.3541275682954892, -0.3406019964231794, -0.1583589136461951, -0.37109882021643087, -0.2769029417882767, -0.5793704028821252, 0.23457700482357943, 0.34670250123201485, -0.4098269191097274, -0.15529944039497304, -0.5227420784286809, 0.9908652025735734, -0.3313210193592475, -0.28934889082582654, -0.0581956325261681, 0.6310884864375168, -0.7571820717576078, -1.0075004377550174, -0.21016381503222412, -0.3209478364200066, -0.010097938808478714, -0.5119513194536935, -0.11284537276853328, -0.27144681595492, -0.3790405260158361, -0.012823269611777304, -0.06766957922058427, -0.0004493413177007838, -0.23918423548322235, -0.17609960003745254, 1.0368948234318998, -0.10706785475608929, 0.4938038705344357, -0.3406610833908506, -0.43331627210529766, -0.4818142982331995, -0.015503109166471263, -0.42977246983924333, 1.291784018008363, 0.6905909258856625, -0.361490843257104, -0.45345055867423495, 0.07545691418968027, -0.6509800400483873, -0.3944023953774537, -0.7927049557185052, -0.20611538782308444, -0.205777752125431, 0.45477977382867996, 0.7377065961205753, -0.5435784191912764, -0.40461252712127743, 2.0243906279990185, -0.21213871348344465, 0.0569824266431346, -0.22375959303436266, -0.26004885006311784, -0.3268699628609231, 0.25192092796825377, -0.02600710441518693, -0.13077847808261528, -0.43701881431292666, -0.5217695664798636, -0.16215319871507636, -0.3127309077303587, -0.18268296813995766, 1.0915577397615144, -0.030322263059099474, 0.3928519693135955, 0.43897629438392666, 0.24987672762257743, 1.4069733590830997, -0.47215066113080584, 0.7481804939147397, -0.8345249283812606, -0.08344449364002594, -0.2114152454445503, 0.3852612904548877, -0.4245724192143329, -0.5027594714673876, 0.29485061732141443, -0.8123139044140499, -0.9729995098395627, -0.33716916479255926, 0.16500503302228287, -0.33244208716648854, -0.07731248544819389, 0.3449969753647787, -0.328073909557002, -0.1539007012579152, -0.13226428896718626, -0.28976761651014304, 1.0101798456164868, 0.07498497488978463, 1.16142951142746, 0.013801315770802937, -0.42593277135985325, -0.08886752723343642, 0.43588530469953674, -0.22464422097829845, 0.45653430283792773, -0.5014199467778057, 0.2368642574012638, -0.2656631252450958, 0.28691248490826365, -0.052437538562193096, 0.09051543866871858, -0.4052481776086971, -0.7622434704848665, -0.235539643164281, 0.8831236632165308, -0.09791249504695247, -0.29978782086914874, -0.2935595549118984, -0.22030228223461132, -0.14298230281427107, -0.45145243103069066, 0.10075572085776655, -0.4359349962324697, 0.13561554022063824, -0.5266616404368526, -0.44278898895066365, 0.0988782220399824, -0.465111376198468, 0.23062728959798473, -0.41898171425737374, -0.1216587124710166, -0.024440069681647813, 2.0343213282360266, -0.816699823442993, -0.8636391777842389, -0.7829531194925669, -0.3598438871818487, -0.29999746267880095, 0.8029022262445505, 1.1019058059637286, 0.8268202028451125, 0.14089610643365558, 0.0017731196657003725, -0.350825066422218, -0.6032030127599154, -0.6784511329199358, -0.7253533366852774, 0.26512463690467264, -0.6394072001441182, 0.15947561162522583, -0.20009931702084366, -0.09595212496610535, -0.22353912326651193, 0.08306165948103335, -0.6037460439939866, -0.4434026165917838, 0.7811723613790938, 0.16209638439734914, -0.6130648621016282, -0.08304821973211762, -0.18231447574579598, 0.4609100969466424, -0.22944365251985083, 1.6481337700886471, -0.6931322890937809, -0.17429982146890988, 0.27329108346233305, 1.7254735388634699, -0.18463333435010518, -0.2264359709663739, 0.5116468511057534, -0.30597419971427703, -0.45679720748494834, -0.5448872880812905, 1.365793383593566, -0.24767650754905804, -0.3391998492950181, -0.7981887432553428, -0.2747936402763975, 0.24495037802188946, 1.9264780009705633, -0.4364014393999226, 0.002467122751174656, -0.3169641695215589, -0.537477145489299, 0.738719522080437, 0.12671457290697002, 0.3322411192542679, 1.303517269982531, -0.1562338609202236, -0.010973546167686936, -0.3011349524870201, -0.10307249954296074, -0.4932707354264354, -0.3113838016442519, -0.20750970090521176, 0.07930219784901436, -0.9873917335584078, 0.8147299736857421, -0.4640592134394527, 0.2112746488795282, 0.7856871095063066, 0.11632053797572378, -0.4010148164666301, -0.751762751563909, 0.10661929057702114, -0.4777966899190442, -0.26772100676248695, -0.3500004505877955, -1.1803705992318994, -0.16810415893310474, -0.820580249104904, 0.928913622934463, -0.1323731669927269, -0.0777220087904601, -0.6070166790315592, 1.7186833153180867, -0.5129924444841009, -0.12646944227394996, -0.04545851278596392, 0.31935083016136556, -0.4682454734771473, -0.4862050255303888, -0.2839741824498748, 0.15534638272786233, 0.7418050627791388, -0.29524211079820395, -0.02903631533381145, -0.07997315880653495, -0.897798950786904, -0.0458887302302077, -0.009058961626823575, -0.3226284420458935, -0.17579413836564212, -0.008560637575735558, -0.5062359799309407, -0.6247149275598686, -0.5998933775423605, -0.16992230378690382, 0.4805312859290219, -0.3684283183684658, -0.325215203768321, -0.1818064335657396, -0.07750167380604708, -0.4645205037420119, 1.7177203645979204, -0.02422521302842557, -0.6357281587956173, 0.13940409815557903, -0.2912186778828519, -0.10962510959605284, -0.17092685639101257, -0.026349983228868612, 0.8435238601426895, 0.12316048004121379, -0.09818782935546343, -0.3488612788556703, -0.3262434842765699, 0.1258773455543381, -0.8444212773480155, -0.1666736147091867, 0.009490415224917056, -0.4955896385194739, 0.6971213707613674, -0.7373478016066295, -0.37982087828658767, -1.1171243351823885, 1.25477087449211, -0.5127721930021786, -0.6506132807798924, -0.2787757091309631, -0.31557059344031824, -0.2620183949573711, -0.46128499832319664, -0.42704022642506817, 0.0778628954784932, -0.12312655551403197, -0.6015438588301116, -0.34028709297201454, -0.23221748321331004, 0.3531738255133407, 0.2152743765453311, -0.5235304812364345, 1.2722571311572746, -0.13078238399753989, -0.44307215810999556, -0.425820347971264, -0.2946512362147441, -0.5557392554708303, 0.09795342965294282, 1.396782723105012, -0.004262049876751152, -0.6141214071739263, 0.372288393118043, -0.3191257676682827, 1.605844167669672, 0.5779709068743945, -0.03602636572255937, -0.018499421091183643, 0.20970805472137793, -0.14789405132680525, -0.3966148198491757, -0.5801083109250283, -0.2337972707507575, 0.06306700898586122, -0.20468521474981766, 0.09518191313861836, -0.8840496094103626, -0.39397338471351184, -0.25304343923329525, 0.2971457392413685, 0.8188396313307983, -0.5250448891451085, 0.1675500971824804, 1.9687414274714192, -0.5648473680879713, -0.4792570268023588, -0.4011935873453719], \"z\": [-0.5856703456040633, -0.4084214975959585, -0.36500871723359685, -0.22154919574617954, -0.8605189812772209, -0.2572551290651888, -0.41487046960194707, -0.4863032258490498, -0.5075634888448842, -0.1754077689183529, -0.3138320561200713, -0.34542475479443074, -0.033062157280228176, -0.2914023598935728, -0.019179294715056402, 0.06368499370602834, -0.42298595165165426, -0.5979662346366488, -0.035828231857115506, -0.3731496531503106, -0.2646914090749477, -0.3235507360497403, -0.31269294011512905, 0.2286425095275787, -0.35144586899747254, -0.395734265147308, -0.37644170232575713, -0.460442768484032, -0.4270916687112218, -0.3914332599213352, -0.5074797923955182, 0.08201815650868023, -0.6850156483154772, -0.48031600073872155, -0.29477050637388535, -0.2550617997138882, -0.18794030796776007, -0.18749046531820646, -0.19560993980960883, 0.2617960338970425, 0.5114064111478543, 0.18858459351619872, 0.18660085314341124, -0.019770228146684297, 0.3239494146074343, -0.1533393261263141, 0.042254524085328045, 0.1409730769474876, 0.1634871223848014, 0.15253227735421565, 0.03807223409533377, 0.2649324974856955, 0.742369617760087, -0.044071602099871175, 0.28150918771038613, -0.07275618037488042, 0.2540036719618727, 0.19192249570063633, 0.2359643538724637, 0.42737688087057557, 0.13280686222916485, 0.12301813183838821, 0.6249920879766817, -0.022071801662940736, 0.13785782965237905, 0.7271122788039377, 0.031404185673376654, 0.37303996824942764, 0.27435913129062206, -0.18752910602069003, 0.06308228825519963, 0.32390325169702644, 0.09769379307608682, -0.05038529407198107, 0.05863916849811495, 0.6426787520507815, 0.2824426113847998, 0.0654734277183831, 0.0909925115241996, 0.27061610674875153, 0.38641248409823026, 0.6314550164778496, 0.10044020638132403, 1.1452071641863002, 0.42482505362457806, 0.33749022363993536, 0.04240922571472778, 0.26375528305896206, 0.2883108887639764, 0.1327407934497615, 0.38324741205610596, 0.08801651697617761, 0.4034479590238708, 0.41934936529396594, 0.3641969071634334, 0.48218042076737966, 0.532229145663292, 0.7534143080436837, 0.4003170900455726, 0.7304398490513393, 0.27190243035478345, 0.33486351198255226, 0.05075524656567618, 0.01562111754097184, 0.7605757229415389, 0.13533593105523042, 0.6960877244651158, 0.4096337273339825, -0.15209801928904235, -0.12958708203418248, -0.2763169642474253, -0.2184294559605728, -0.1849231512329454, -0.38083999373781585, -0.12759379382576738, -0.19960387272652638, -0.3076915881014899, -0.2930452184636325, -0.2536956949779243, -0.18542247418160074, 0.1372811413342336, 0.01314559581267828, -0.12539731420933772, 0.14689028248858924, 0.10685901467845442, 0.005720799958191618, -0.027853112653294005, 0.08511595220599524, -0.12437661975438337, 0.366579070583593, -0.018587810845452007, -0.4107583030624421, -0.4973733286284207, -0.06574541183731093, -0.22654305778367678, 0.4235553776405551, -0.3377978804328344, -0.3381484147168565, 0.0187816308784213, -0.19098459999940268, -0.17699151161734777, 0.13715089013479448, 0.05528951865070811, 0.4409044692316996, -0.1665956532077995, -0.05162043931872589, 0.45549753600694204, 0.5080504114915425, 0.5384202894884454, -0.08619847191027737, 0.25407244255495387, 0.33760905351088194, 0.42796929576726506, 0.7007719296377722, 0.018668883126731057, 0.09607198667794999, 0.0023922968844097814, 0.13413995899520803, 0.1248005765298659, 0.49188652370352803, 0.6491462167757844, 0.22222198630976325, 0.17063685253139943, 0.22659550593305203, 0.11193063603682438, 0.3373707241150299, 0.13712276610259802, 0.07223404953549441, 0.07251099138856382, 0.21160132875931606, 0.45398857365137524, 0.35062340368527267, 0.6251298720573107, -0.09578396212647726, -0.009136904074088018, -0.014384321266351153, -0.06963357417624554, -0.47023522429888653, -0.12984038191510433, -0.3186496112254096, -0.05441703358623164, -0.3703471552900068, -0.40983568035415296, -0.31483493248578076, -0.0886054941274986, 0.01563530931984177, -0.24436149780686114, -0.22251371157398306, -0.230610111042152, -0.5704983743854319, 0.10716728456531469, 0.24974066925766633, 0.2115978540139178, 0.254931893066097, -0.18632240330482883, -0.14619018478975732, -0.14280870256652897, 0.0948089328053276, -0.07699097404005828, -0.17557022732008232, -0.25088761648571395, 0.0954623272922679, 0.10082762742785133, 0.3828832427876983, -0.13962210489323887, 0.06227761640029688, 0.3838001905856232, -0.17160297244167394, 0.296156396336804, -0.1319039189184579, -0.002759263586422034, -0.08377634802948947, 0.09730538417656799, 0.06691040215877152, -0.18085482652313542, 0.3626108481104734, 0.08919794193583659, -0.26962501625814866, 0.11992140569488201, 0.23980827783933353, 0.11643364357551324, -0.02778625040486341, 0.13824519790023582, 0.10484964390589441, -0.04579093856395733, 0.1122244376308633, 0.4447624015399034, -0.05723022140051736, 0.3490864244535181, -0.06858581373363072, 0.15429456156125734, 0.3358610861479671, 0.36043593448963823, 0.08804601889732858, 0.5313675481538507, 0.06559922948984338, 0.28321638496034773, 0.27755579013125825, 0.2685059395811021, 0.458630802060062, 0.03949160491214879, 0.26617583841630155, 0.23207401314362963, 0.18527586130266788, -0.09717364793562575, 0.34446968841426745, 0.2637654658347204, 0.8697515661713636, 0.4042984404029956, 0.3115530549021286, 0.31847017028059355, 0.28524108748623445, -0.1440095459430928, -0.2905249131007652, -0.14012282359520342, 0.24328488093514478, 0.22834349442750115, 0.9803226203110674, 0.6809794750718646, -0.26314470145260405, 0.32918546055869535, 0.40976117657994143, 0.25332339966951617, -0.0856082908161095, -0.1388699909768716, 0.26969516539142274, 0.21362176610394468, 0.14898811083861205, 0.22923725381477422, -0.018027870204298656, 0.04447205680400172, 0.36518346341309094, 0.5570586216072475, -0.11869924278506615, 0.08521430787305545, -0.17609349137891547, 0.10682917671723142, 0.3484795220517002, 0.5614318774532394, 0.1625562886229488, -0.02546702959532664, -0.28214180156455676, 0.39003699653484347, 0.18993681566155002, 0.23249702576852355, 0.38418704247777874, -0.004439584161854872, 0.11700361791400642, 0.19398215167117294, 0.0008517173522404701, 0.14045050256721633, -0.06782701466447345, -0.3303464205004706, -0.3195763111306811, -0.0642330940946705, -0.3884500542813823, -0.09250809412304623, -0.1695168268699058, -0.08468974343251484, -0.021694755968929547, -0.15953561664255445, -0.29462430328934053, 0.05335831711927742, -0.2292145491564941, -0.530551983149301, -0.2990465523121697, -0.23004223432400034, 0.13481178076240624, 0.06005912862682244, -0.391312183414581, -0.2641184140687383, -0.2505117476491125, -0.18353512506292816, -0.3981777747941985, -0.11246775541532011, 0.24416124824038082, -0.39710838153389316, -0.5284636679014212, -0.46506528731721747, -0.71585214810333, -0.23222895153089387, -0.37201693602801716, -0.19274416875067987, -0.39879457660766515, 0.28835501958004023, 0.34851403634956885, -0.07626098796397358, 0.15672320444078136, 0.08764265612103063, 0.006979004551556454, 0.26598607397411395, 0.05815932474276018, -0.03416705217666904, 0.2577399162985185, 0.19567115516235223, -0.14195211003295458, -0.058463931241165876, 0.22970524022994754, 0.29928570760517537, -0.10511326661061672, -0.06703911675601193, 0.29802555601110103, 0.350009940039499, 0.5471155372295871, 0.13243988598253864, 0.34861405135083867, 0.038803004066896345, -0.19538507429596078, 0.14604031615443033, -0.16997346382159284, 0.5321396738654836, 0.1655108007995974, 0.32970890334392333, -0.34580751775840346, -0.021191206240691162, 0.22929161911567897, 0.07260356886919327, -0.018315456043316518, -0.017536722324818153, -0.11389280622308245, -0.5973236143462345, 0.11742370252770437, -0.15713598513308083, 0.00931804504262108, -0.019696939903254395, -0.24514966202157518, -0.01760380116200933, 0.01514460731093216, -0.13874192618583478, 0.03458619282177792, -0.007905971017534328, -0.08220179404066111, -0.3473922919155477, 0.1949471589285471, -0.33218081378868547, 0.22772306881352164, 0.473424875497314, 0.014895303572632244, -0.2446681705375333, -0.14952036190126752, 0.3649612216755739, 0.05430211314394088, 0.3182524404274313, 0.06591642083799401, 0.17780982710099943, 0.39181925766489245, -0.03940481053605325, -0.5236917508900217, 0.26435962157149884, -0.12978179212592006, 0.15953807811556028, 0.20928983906157042, 0.13520898602656878, -0.2813501949883866, 0.06811930107206238, 0.034125609433973976, 0.16235045170125628, 0.10478914538207193, -0.054156943361241196, -0.2666021842031693, 0.04388974461164991, -0.0786569821103878, -0.05751350482315249, 0.1795506443333344, -0.342704593490573, -0.28214821685306446, 0.22129551802338845, -0.12861892909419168, -0.023141628354878218, 0.008982450983591087, -0.08497739926775989, 0.01714460943892301, 0.04605624803701922, -0.05836813969915554, -0.24277977143138887, -0.059624905559527146, -0.015450480682571491, 0.017256519776647092, 0.1046474411586801, 0.29233524220182616, 0.08306713382447067, 1.1196529358944487, 0.028701407204586273, 0.4002638533246797, 0.1492153751105346, 0.2296906368674864, 0.3447004807604018, 0.22728274840746487, 0.012021351088269992, 0.03476578241619409, 0.35790057784607504, -0.10771097764193689, -0.24511312912683753, 0.3383411214903805, 0.4376587469896088, -0.2943938078083558, 0.21698630262613353, 0.06479856181143791, 0.04991944483937165, 0.15698237430255674, 0.29769130378981934, 0.36420475632660265, 0.24611239389739253, 0.08538582884065798, 0.8262545514618628, -0.0009383299378428846, -0.007175704087241153, 0.1376435285203294, -0.08800275002573635, 0.16666926013426409, -0.04000195493612275, 0.6195324576844183, 0.16313501907373842, 0.7349968772293302, -0.025058372003624596, 0.2700094133073076, 0.5179544440449713, 0.2330918222393128, -0.02408466456477086, -0.17610548252118566, 0.024352445329278032, 0.4359827843308376, -0.01704000524487597, 0.4711670879001523, -0.003800247467253984, 0.4969745671381519, 0.04885162641149645, 0.09299881573279478, -0.05038373617865405, 0.42620340172183985, 0.2214270092263573, 0.2895274556586029, 0.44657863537823417, 0.5314397886659431, 0.17676280296135607, 0.19955222320108773, 0.5481474881066388, 0.2915043955247198, 0.5437890767632093, 0.11654672175590101, 0.10045155565392498, 0.3030244698106254, -0.12573012774985265, 0.3879548098736072, 0.6686449330609344, 0.34916952510216004, 0.23885953663770923, 0.3381002859108052, 0.2815286243861616, 0.3959611755708441, 0.3548372574735232, 0.4870194392823576, 0.2997299854811806, 0.4496804355628803, 0.5617943853561406, 0.24126880699662195, 0.22820149571606474, 0.39626323421703913, 0.336324847661108, 0.2934895674041323, -0.15733424491953935, 0.328673600981338, 0.35381222219822145, 0.5449972800609718, 0.6865818966418158, 0.02738495693987693, -0.035553993050128664, 0.33344459448953795, 0.6567818625342432, 0.3457262161014809, 0.38623822188656415, 0.4044775809049293, 0.2323469090053185, 0.46483848235015135, 0.8793097904027554, 0.31650804759712436, 0.8345279370233526, 0.27291159097834494, 0.27972777831598705, 0.5497916267462889, 0.4170217056253372, 0.1291859056931602, 0.29342635348587465, -0.025428245259513108, 0.46407983034651845, 0.46640472396069127, 0.2595826620244579, 0.09153201411837712, 0.21002445253173588, 0.4160087381365721, 0.2343315927543178, 0.21676924854585713, 0.45304337618177754, 0.23173903468337595, -0.2079268162550424, 0.2520100083301521, 0.02406648964194323, 0.2712901435503276, 0.09367695821526296, 0.2735775826358206, 0.1904226453682817, 0.16327576933630206, 0.25053464165622413, 0.3480830849278182, 0.40502078379664946, 0.6437310597755594, 0.27915712418017324, 0.1170987625686954, 0.4054588909360967, 0.40363887107232416, 0.4219037281011727, 0.7179489787898892, 0.01573059828533212, 0.05216225234896048, 0.4062125262602657, 0.2906192667932942, 0.39635662475542405, 0.9443960884770359, -0.2357713194124161, 0.21442566278252184, 0.4123249284751268, 0.29897443101217014, 0.008202832745768619, 0.42789222723061854, 0.3058677825603022, 0.23509660473332852, -0.13277623030438457, -0.20982954826197583, -0.13997352216195, -0.056793344639186984, 0.4273352128944158, 0.047546734196943614, 0.33038838080253835, 0.20617053788850578, -0.009532667380740645, 0.4400204164135645, -0.19338962815234756, -0.08910479484839065, 0.12684938284045918, -0.16708385906030163, -0.39994087559361363, -0.5471549107688828, -0.03515626995284562, -0.23299921042190416, 0.004078493363392789, -0.3104448406975811, -0.374929932283093, -0.5197451911660085, -0.5582207937233651, -0.36326727410500675, -0.20152809378621536, -0.37963130187023314, 0.02986254372031681, -0.11975979792328352, 0.03412670876773824, -0.10077619224274677, 0.144449566597004, -0.39741024013322734, -0.46527935036611395, -0.20994254334637935, -0.38233317436609554, -0.3333299569513178, -0.4392434969130965, -0.08653990060608172, -0.5101041583344358, -0.20775849271857463, -0.332730871351672, 0.2673701450921096, -0.49340562676099103, -0.20473952605594034, -0.10831394157529237, -0.3257436114049935, -0.33889454653066486, -0.3359915774182835, -0.03497383061375862, -0.3571015245089353, -0.4846959375968151, 0.2522700709193528, 0.37641837916937165, -0.20993502666332153, -0.0079259817045454, -0.32912011728620766, -0.3464408741542374, -0.12276037304388596, -0.06510678101795013, 0.4344769664881165, 0.013009521429169637, 0.24904993028725916, 0.08328004271137555, -0.039233120832220636, 0.41280731473027804, -0.02752218735025462, -0.037686678831468375, 0.09047160607500086, -0.22482098494292688, 0.5160398520819652, -0.16759759229557955, -0.3063730440754862, 0.08570846452790419, 0.24027239938749537, 0.14838943500240548, 0.5021664569476088, 0.17767107883832084, 0.2510030320930011, -0.038213776758869014, -0.1082071332256948, -0.17146183229618753, -0.04235153034795763, -0.16874614355798453, -0.31219810536570664, -0.1154745660715772, -0.24012232628777136, -0.2595667922379315, -0.10718928073825847, -0.24789832910617338, 0.3440826944261539, -0.08577290535487808, -0.13917010317249784, -0.027061085999805477, -0.10833521592909812, -0.11834186980164904, -0.01804917988318129, -0.1668604557294033, 0.4647095112280722, -0.019772475887492806, 0.11394277546246738, -0.13590571959623118, -0.031009932703744445, 0.021349597108022717, 0.29668272548689273, -0.22641222464010965, -0.28680466113308356, -0.20579476491541818, -0.2202754871399419, -0.14640829996484606, 0.5634829777482939, -0.04974302926459503, 0.06770555700837058, 0.11901758787612705, 0.09061499703754762, 0.10623072788779117, 0.03530107590140721, -0.2028339375878475, 0.3522978069718208, 0.18312366928075519, 0.42520876962494775, 0.22127016172263395, 0.05618002832234788, 0.06999325402430934, 0.21884687647167422, 0.21789018949053748, 0.6011842934231905, 0.29653363443236386, 0.13984737396674118, 0.13615961496503298, 0.07608198237243553, 0.11854472364494607, 0.22456186351140722, 0.3464270083699821, 0.038322641532539344, 0.19630800676140173, 0.4495441584317316, -0.04671810110947198, 0.2569669800356656, 0.09032175297045913, 0.24631283022869524, -0.27568485640734935, -0.019883732862619394, -0.2018878277069074, 0.11838454268105615, 0.15915142204046684, 0.2652513767923258, 0.1838648559683057, -0.16447651232656638, 0.08990635470993703, 0.472176252490249, 0.06683839581464086, 0.43167935655742584, 0.035217094576989336, 0.10525973191178625, 0.19202154659955678, -0.4745572329382792, 0.27363655166629525, 0.1402856982083537, -0.11529350632837786, 0.31187408185879895, 0.7498842860555329, 0.23442353804921526, 1.2126409067861816, 0.2546904570042933, 0.04396038274837784, 0.28524354598587015, 0.3462545139056441, 0.8777368481432253, -0.3418695389736319, 0.10881930610556627, 0.043058088515706965, 0.24807382969389052, 0.08318641180880122, -0.025844540381731985, 0.2639441780834313, 0.12253559577282265, -0.29217511492328796, 0.2049624498482552, 0.2504352064401572, 0.35072186451520454, 0.013984515485115914, 0.3596437762167735, 0.18532698026686303, 0.23112518541525962, 0.3223175966767466, 0.05841186287768143, -0.28211154832695207, -0.007667619667478983, 0.17571482936180813, -0.13116276680640646, -0.23532650342019093, -0.2782742083893476, -0.0627350123215552, -0.2013041679924635, -0.1262043350153707, -0.013202865226068432, -0.017271507067740458, -0.008081446484225383, -0.05471446107849144, -0.07529552894662628, 0.4463487263554479, -0.18267460714523728, 0.027138238767619508, 0.21709772152530654, -0.07777003037159817, -0.04639436124321699, 0.0570661399259934, 0.26227949680122425, -0.0659343277373888, -0.1425210195571667, 0.28920444888306146, -0.081041696250901, -0.14270396523134504, 0.03173508489233656, 0.397265980747571, 0.124626999397418, 0.2946397522035205, 0.17484057269252085, 0.3498789520975658, 0.20745161741296322, -0.06890698577015178, 0.26485646000422175, 0.5098237266628866, -0.16091532253835403, 0.4565638938836609, 0.0456685864908574, -0.010211660080978327, -0.11430124494160478, -0.1760606888808047, 0.06588516439910155, 0.14857269731122, 0.19830323097126962, 0.4898549788838745, 0.1591476446161891, -0.12102283605651173, 0.46865052688742825, -0.018796803265285253, -0.02093923185101776, 0.17059255663918416, -0.3433127213908863, -0.1915110269095323, -0.16315131574334424, -0.0402097009544222, -0.057988768688031087, -0.17061863424639448, 0.03755738315053588, -0.21776709868521651, 0.1453267670825975, 0.3310539978645304, -0.34534953000835766, -0.06378664041701655, -0.19816511503943796, 0.13275613147069185, -0.10826388651443875, -0.40237378548796454, -0.38687072029179836, -0.30902210852690926, 0.08096214313467211, 0.36597959625918486, 0.16678167635093322, 0.04341163510743586, -0.6509989984313059, -0.2903450402874203, -0.5948976112367008, -0.68448637969321, -0.5122175284066851, -0.578564309975983, -0.3566410051929092, -0.6000458301608397, -0.563447277858439, -0.537927583747074, -0.237806610843734, -0.32034685037671906, -0.37490458306454644, -0.4088720622081877, -0.430436513880363, -0.6144376845670317, -0.6553308116409228, -0.43380627257140236, -0.4097177258255376, -0.23843533316563817, -0.5636691423574924, -0.3738400947528733, -0.31243570891339906, -0.4052743531499314, -0.5306366518724316, -0.38608086040892214, -0.4879583021148858, -0.18683738188339677, -0.09174399291589103, -0.11048367269486323, -0.15968577988751478, -0.010827752873432432, 0.8524794880881844, -0.3652828002419404, 0.38871955559921434, -0.10737359803525563, -0.3577803555860207, -0.16315859917937853, 0.0428412519371878, -0.11863620075330909, 0.33564580636562374, 0.208484439504138, 0.595270644661354, 0.9531341344850548, 0.0719486937645242, 0.20378596889644973, 0.30239818265984897, -0.20397545958350743, 0.2846514086014171, 0.33475352470651776, -0.006495913460158791, -0.22820658812926017, 0.40693080981457785, 0.423939441143823, -0.028870422974517237, 0.574978756639294, 0.05413130431691689, 1.1856707576124608, 0.0880524918493469, -0.08061146463091655, 0.32812136820586224, 0.5175320265924046, 0.14137125582284338, -0.03664547007957768, -0.06417921700741262, 0.21924151920159737, -0.04860871898353742, 0.5613109523456361, 0.14783999563487366, 0.38458259890014274, 0.4076198010214244, 1.7533017700943647, 0.37582586658592454, 0.21300665847967362, 0.03425339610993145, 0.025956101564059236, 0.9766463142485483, 0.0012579905116315315, -0.31179266882624285, 0.0740022813283085, 0.22954638850976009, 0.45998158574387493, -0.10649407697143788, 0.17724068479243146, 0.7443893385256986, 0.7575736541548926, 0.04342591969003606, 0.7116307007658059, 0.20653724770042112, 0.16881192049071952, 0.15704568267299118, 0.004063374855934776, 0.017455316361223674, 0.6131023750011991, 0.6355623573264367, 0.6753556429014983, 0.27697698748904653, 0.048544546709122505, 0.5439084097182885, 0.28928996707286153, 0.011741709167429365, 0.6575062270466314, 0.5154850406416991, 0.7895897596810675, 0.39245933501789065, 0.33227975218961486, 0.7223103215884091, -0.15232013090279534, 0.4327223419866083, -0.16406331737085783, 0.20850874969157032, -0.012754089289634, 0.2671173610737277, -0.10800542300160813, -0.09338623317484258, 0.9318866678551567, -0.0249566339029999, -0.24615070096622707, 0.5295656650621973, 0.162252824999022, -0.21170292532184318, -0.030477415205278562, 0.7250608187581763, -0.07293843893580564, 1.005666332642144, 1.3434918306850665, 0.6700864289760896, 0.2910259362353486, 0.04483296958236898, 0.4830919709929157, 0.0697039703243482, 0.7682918673796966, 0.3854875560122184, 0.760494301989636, 0.5501451426834152, 0.08723306770515965, 0.26095736730858643, 0.1316704013974687, -0.33877484769779403, 0.27709066121184067, 0.2046174413712135, 0.11080211371160466, -0.006307974261916832, 0.7779385115495053, 0.07968083587495295, -0.11017958667785394, -0.316482374923016, 0.5563948722780179, 0.35599330148031505, -0.001360777415515048, 0.8734061786442671, 0.2622639403765117, 1.2756989833616175, 0.35762405193468, 0.18431621299472173, 0.12061568196760579, 1.0792999520254742, 0.03419529338812831, 0.29183701783888527, 0.2894658804260099, 0.619985438612579, 0.02030308380937005, 0.027603544819374683, 0.6297375424277185, 0.13793259291989377, 0.26123631677560144, 0.40454755916777446, 0.3861924386266033, 0.18502371096028902, 0.16050225817931035, 0.5800544523933759, -0.09572204880897038, 0.34172670248999387, 0.5369909222963625, 0.1503753976263807, 0.09417684489115648, -0.04392658983439318, -0.26590481961682016, 0.47262038046394017, 0.23706802458346665, 0.9280903356086458, 0.038316124135528, 0.34055133961715356, 1.1570796150208553, 0.6422208902629454, 0.026418765605087633, 0.17822786871845456, 0.13255192668111662, -0.1047298221837, 0.07834887791388694, 0.014716288561114614, 0.7288010279208115, -0.021431870499527567, 0.3955684653846319, 0.07859652200785949, 0.20039174713925378, 0.38279512429265766, 0.1390549321139063, 1.2541189575511174, 0.28770169160252906, 0.047040411225876474, 0.5363337128362841, 0.2274441065590681, -0.3323771802164607, 0.3193465237743508, 0.02757252890409662, 0.0031162674948825705, 0.17964816431770542, 0.49518753896784184, 0.0025414781828518042, -0.06822655640844245, 0.35382634186026735, -0.23108396923280522, 0.660065383069512, 0.2862120777533982, 0.06218863476867127, 0.5439386616152369, 0.39103908653268615, 0.059029688326147085, 0.3474416599906433, 0.38392479895067905, 0.6744520855483022, 1.1124423361465958, 0.3515572422332846, -0.09169439940839151, 0.1282319489366798, 0.19754798065468918, 0.18469627629475793, 0.21210020308785002, -0.4871592413109408, 0.3825180945309498, -0.15391674177966821, 0.05099867170292516, 0.6410312781386175, 0.834853968694255, 0.12154367918463832, 0.14091499952376832, 0.3979538847139241, 0.00952505771614822, 0.4670558535090305, 0.12624705499552266, 0.1329991901462621, -0.16370770267129828, 0.2838344410575078, 0.3217063674632899, 0.4481375514141989, 0.11437154828653774, -0.1366960698986275, 0.270660164505292, 0.6806660603944201, 0.5209285197879675, 0.16790574344957718, 0.0501808296096005, 3.160805443747935, 0.28703126870355306, 0.047343040458279334, -0.09731446639512338, 0.4537491954917427, 0.3824576376115614, 0.014647472323624853, 0.19420252812562144, 0.7305560283894456, -0.09759948342941623, 0.18807848899548854, 0.19115438825615136, 0.792847647711345, 0.2416240865771781, -0.03333719223598802, 0.2845550396975124, 0.031095960814288594, 0.3823381299236999, 1.0518907810796936, 1.1856707576124608, -0.009841215585174081, -0.03728975746456099, 0.23909383167281084, 0.03241225508831301, 0.5042310123152994, -0.20681471714569172, 0.049161270616972466, 0.3804872242444452, -0.11451329972142305, 1.9481184240949345, 0.6141136035261207, 0.5724124793846129, -0.22607106371809374, 0.283193954000746, 0.29346872140215213, -0.0849168453973189, 0.5924593517697804, 0.8014667669961486, 0.11684692757982569, 0.5611533500089643, 0.6751446425274414, 0.5722935713097963, 0.1551427735817458, 0.34023107595701074, 0.5760285781920143, 0.17522131671917238, 0.2589254986584154, 0.1693903633094175, 0.5020438580024521, 0.19646153467797814, 0.28010368742633296, 0.14601639471247163, 0.3695985308272595, 0.7822629001296559, 0.008238961475151558, 0.0924338623528213, 0.3199934179866723, -0.23799759639834908, 0.29428067608593167, 0.6586208056477443, 1.6897691472108116, 0.2602820223960423, -0.030795276090812042, 0.008148289538584255, 0.6635719615581971, 0.13779012061010412, 0.30303729789679335, 0.004035835771623152, 0.22770100045577435, 0.5786250918242327, 0.20527679500697055, 0.20154829323777299, 0.08971946413714535, 0.5177509533245057, -0.20148474172294425, 0.43999019619574864, 0.2436625056390827, 0.1022466671752738, 0.1720344335486242, 0.2708388503185295, 0.23216360159046234, 0.3362419668640471, 0.15305962673940232, 0.21009027612995654, 0.450020972542228, 0.10911021734347355, 0.9219603136735792, 0.5681966528819188, 0.1501296948114849, 0.20663194346839206, 1.334623209499706, 1.0097425969826148, -0.16967109601415437, 0.0543944507175414, 1.254480466452696, 0.12491301182449596, -0.23191893681987347, 0.1803919274192878, -0.05184925144012318, 0.22007591143178523, 0.14688937839619098, 0.0793621608521745, 0.004109134087664354, 0.00018189178834010765, 0.5611721027350641, 0.7792513887717234, 0.02076734787748918, -0.015573097413642458, 0.9462609656372535, 0.018876437148586563, -0.2668508516185782, 0.11841510768827028, -0.10783067901433276, 0.243964413915367, 0.446584901763909, 0.29554463114119967, -0.16974039071126454, 0.41919486074086276, 0.6560796616786485, 1.013076726508785, 0.07840782696303054, 0.09915203462335037, 0.5934469810746922, 0.3297409269911059, 0.28770031631447623, 0.017116811849134904, 1.2965009421368594, 0.5968545748827698, 0.746774146241901, 0.9064971756968888, 0.05032684882168552, 0.6822463076032916, 0.30781665406479625, 0.4085617477809191, -0.11279234182729769, 0.2549786430620758, -0.05821393615747056, -0.19013088932295885, 0.20659075169310792, -0.13320259196803685, 0.2531044937268082, -0.15830530499259513, -0.10909065521281118, 0.17944443685518244, 0.5340056602902591, 0.09457452925230384, 0.05916154904006071, 0.23824552927356893, 0.09427108557622432, 0.20945086033636773, 0.8341939845018524, -0.009026292393266105, 0.261671195856176, 0.34067781748657766, 0.23230919358277574, 1.392770386335141, -0.06182907895636985, 0.8399262464641164, 0.3216709498557611, 0.33307959629369926, 0.5494154236659285, 0.33339611187981866, 0.004184087329586358, 0.16205996308017823, 0.8740628374681534, 0.45472083735068447, 0.20698651490348102, 1.0683429792674641, 0.23843118816995398, 0.10202711099826157, 0.358715343353261, -0.13312994949360044, 2.532094768375515, -0.06353277534428844, 0.3858283328758441, 0.22028170501372046, 0.24196002704121491, 0.41675278301934215, -0.1070201500387832, 0.19038952252301958, -0.11021379707412396, 0.06590973568753204, -0.12980080964054458, 0.25757993412328084, 0.1133536811142843, 0.004999078323402438, 0.12919893470862032, -0.1257891969680526, 0.1042865274002463, -0.07125750575036773, -0.0755365318625807, 0.661765473885197, 0.3396647411247328, 0.3150394766585411, 0.1495226364099557, 0.8519127949155999, 0.5860113579741989, 0.3809415210664222, 0.7435677914299421, 0.3865492474159998, 0.3382997128425644, -0.08923441014454991, -0.0368637789648477, 0.11093524433992626, 0.16345328587285432, 0.22421331470575598, 0.7672268930882461, 0.07814751560345981, 0.602768977222769, 0.34242969199440587, 0.12603245651882813, -0.22857678917786195, 0.5773795515321792, 0.20187869551826107, 0.6268225473845863, 0.016760084730727258, -0.2230210035129485, 0.3162225453320483, -0.4819297152420554, 0.43618072061578117, 0.8375339203283662, 0.334847951153555, 0.5208692778752503, 0.53827473353884, 0.10437184966189388, 0.05244801556907268, 0.22638215009417406, 0.12538353250206866, 0.30858777380920815, 0.26294391922409815, 1.4417984627465112, 0.16290973427223301, 0.6340762472730778, 0.3734954975455057, 0.783832859130484, 0.05932822236720723, 0.13477916870909662, 0.22683048873675057, 0.3764619142570549, -0.11980700875468174, 0.22731913543785826, 0.08055603330597184, 0.48377654967342004, 0.47374346144865515, 0.6914018580887326, 0.22067049814603204, 0.35092282950210363, 0.3455900564395018, 0.2089520105146469, 0.6041869143211948, 0.1410634461814878, 0.10309472266904929, -0.1490183749291538, 0.3809733638264883, 0.22512758527513727, 0.05731860784489472, 0.2789560177774537, 0.7130057336355999, 0.418660939412072, 0.26227792054945165, 0.3470689628788254, 0.07839065447919695, 0.7065937539725211, 0.0835152919115331, 0.3914846065748158, -0.07670787259391644, -0.028103384691240598, -0.05396601638682911, 0.09880492404538549, 0.3206099055184978, 0.055666849691086796, 0.36894934932455836, 0.12741642188891472, -0.05363034117970211, -0.03922940778896625, 0.23282978170528457, -0.10317783613322805, -0.24566092794898142, 0.25194450523933976, 0.1918274195707295, 0.23078256246640208, 0.48355287492656646, -0.0534342683534742, 0.8123554963822132, -0.046971068559905974, 0.9063283333918083, 0.6212640472848123, 0.060438871662570164, 0.15493885183981265, -0.13120338485342678, 0.4952926439767203, 0.3541996434828146, 0.30349574391573625, 1.7665419453980906, 0.41774978991717215, 0.033878378942674224, 0.4030603433415028, 0.24347616009955278, 0.17105439728284075, 0.25007161406942824, 0.0515530480432807, 0.2831426525701273, 0.19204470968336268, 0.3425911139319331, 0.2961435221312779, 0.05250131981445634, 0.1026514088209084, 0.06249225760724089, 0.715210633376102, 0.22696510990272142, 0.28341936841016085, 0.32381823174148344, 0.15972939511514186, 0.24673098667064156, 0.17845043328697355, 0.41866555553754303, 0.09938527071375299, 0.14801384342863239, 0.14980305773421432, 0.4183773765465288, -0.14269295005828228, -0.07816161016903445, 0.3283416346403652, 0.6501104174093241, 0.08021140256794156, 0.36373678122043834, 0.4480908980521917, 0.06461504576225349, 0.1328301459766355, 0.19909688019748564, -0.2036861287711539, -0.10752123063926468, -0.008308262290421751, 0.8153503754214846, 0.7261678662897674, 0.15527072713517137, 0.15038741126885144, -0.21365848852295102, 1.3603137757098305, 0.23113297651893047, 0.7486550329286228, 0.250260615658707, 0.2930374518356621, 0.995419909062775, -0.11040069921195379, 0.5666456766724244, 0.15799558291401128, 0.6366910761928516, 0.024235117847187963, 1.765499742185292, 0.13499257027534609, 1.1477402978873936, 0.16385124008172794, 0.34768872475114476, 0.4432482494628407, 0.1509529838811802, 0.16748938562110458, 0.7871092420980227, -0.022903967730294784, 0.4725593925500947, 0.37018176746306586, 0.23648854089745722, 0.3828135457660384, 0.27787267639250657, 1.268256954991338, 0.013340091050961397, 0.8498883854354821, 0.3668422377961971, -0.010296357241345274, 0.07781533774048732, 0.2228855545559122, 0.21909163966203196, -0.13883278585783856, 0.1466637699415161, 0.08979773038898567, 0.37935657837081477, 0.18292269062217176, 0.06143445192963193, 0.23189875901784088, 1.6064559284732216, 0.7536648904305696, 0.14145100571713162, 0.11120155507114028, 0.0918894837088661, 0.01882432232766241, 0.10165874895858232, 0.1698409364408447, 0.1741714062177879, 0.3613465480185263, 0.26758230340700584, 0.12482572815597286, 0.10688102080747251, 0.04406808854608124, 0.3941797427034965, 0.10812927633247149, -0.08838885238383469, 0.23087923276315028, -0.19684917654104986, 0.15425497699070423, 0.2904267967058921, 0.15443016132802587, -0.022111874139054525, -0.055708746840568486, 0.11996355438962088, 0.2323219743902237, 0.18178032569401406, 0.10361959019975003, 0.41128396801778727, 0.7135910802053672, 0.06856333008525199, 0.019578304006561062, 0.5831115150025687, 0.12346437690581662, 0.12880397882728928, -0.13322859771675297, 0.4909811972292311, 0.13498776806065818, 0.18000908998064108, 0.1924558315055777, 0.24672584049476215, 0.4430331997108758, -0.11769353867510868, 0.6746486315118257, -0.05470347155616785, 0.18352463388863774, 0.3790117040128293, 0.7895645821810785, -0.09357999144448025, 0.2164186336728396, 0.021050986514780854, 0.42152556233088634, 0.8003068854381438, 1.6584748777783014, 0.24987329223732413, 0.12844530378293206, 0.16329931852287796, 0.21145404049992908, 0.30790650702252775, 0.16464727299913437, 0.32384163669644395, 0.25983125545165653, 0.46035856585972584, 0.11550668299568745, 1.4812236964525642, 1.2780746693586977, 0.6847167181572087, -0.12910068995351312, 0.10667219430397851, 0.1083367377057904, 0.4702952370974337, 0.22032172944465817, -0.08435562391713464, 0.24328758674593468, 0.26352910934537954, 0.00761584012990553, -0.007201630130239526, 0.1445473193315395, -0.04433398743409078, 0.12998608453164648, 0.884913248152324, 0.05138139966683807, 0.48387291223867956, 0.3690832529309524, -0.03523459627373639, -0.02614210501722978, -0.02147078789525676, 0.06326031418517704, 0.5758735543674033, 0.19671693243007535, 0.00013355094912059583, 0.298307522208621, 0.27951869342620916, 0.23791450720770277, 0.2721133107911512, 0.37253408170168295, 0.9262481265957414, 0.031926093438776885, 0.06235400337639822, -0.42771508620457, 0.06449485480206275, 1.0978457863576179, 0.10602383663433272, 0.33655621430517324, -0.07522510163550392, -0.010458154128258764, -0.05281711861839193, 0.5851201929977834, 0.1799343899804696, -0.08097433726017819, 0.16291131360607988, -0.06472362629137589, 0.2525520433834694, 0.7130623330446139, -0.28615210677026426, 0.06393146141755938, 0.16774969349806293, -0.27638193286888657, 0.974830877560507, 0.9261205295272218, 1.1934861343253773, 0.6316011431261962, 0.008246263321242439, 0.7101416942120669, 0.10742648732737316, -0.1300622414542795, 2.2415461381207615, 1.859353549701469, 0.25169950323878776, 0.3516710877622536, -0.03770898308888064, 0.27830632052805965, -0.23735210738081344, 0.10035078811371279, 0.7187376910602242, 0.09741527866070514, -0.040791531714430784, 0.11892424868173816, 0.3369290573263711, -0.027221939547538543, 0.06735474498624942, 0.02466293786405617, -0.09912040778430425, 0.21701208360729946, 0.30244009152481927, -0.109770428617834, -0.1625860029700333, 0.3561823810195257, 0.11154184138679527, 0.02832302528353699, 0.09723424892319374, 0.08456676326137312, 0.08229816489027111, -0.2445162017731728, -0.014555730417798562, 0.3357511258419261, 1.2208675171321512, 0.10289683979878839, 0.3851890403716969, 0.2546297531645172, 0.08600155739471489, 0.02620462352515209, 0.16936981611780433, 0.6689723043168779, 0.24943454714166913, 0.08944495779000274, 0.06233573168750881, 0.17990057511195634, 0.34065182916720876, 0.8227835907845649, 0.3849186270197486, -0.06937231777920082, 0.060149418657368094, 0.102331480292789, 0.14987543747279858, 0.20975217662090795, 1.2420521231578021, -0.1169848891324641, 0.030098399738588487, 0.3340998070546491, 0.6051653892092379, -0.2760254388437135, 0.45461156401104386, -0.014692606978214864, -0.46677568501962696, 1.0023486580174519, 0.46870502857004165, 0.1646767885418031, -0.08064339184680847, -0.19567313042419074, 0.20630039185317886, -0.03227977499194174, -0.19047214487870773, 0.012515109305547376, 0.660171776235839, 0.40399660111859825, 0.21903870217202762, -0.27015410184112465, -0.03805162645981892, 0.341985920826043, -0.2654854257652827, 0.46154003042538155, 0.853314373299715, 0.34759424476955886, 1.6058515648827838, 0.40801631936916605, -0.09680267324162133, 0.2119060717614551, 0.03988136422893583, -0.17891121585502448, 0.09100886743877296, 1.4576224687804424, 0.5684413348708801, 0.48108879174020136, 0.21275688505440252, -0.0495401971701522, 0.2582329167555392, 0.6132790058344109, -0.09922210662122406, 0.06503063963991092, -0.16897803662105246, 0.21214139140650456, 0.23798966563667773, 0.6869967948115269, -0.02255932546991287, 0.5893499684612757, 0.8187487345124423, 0.6925352788504613, 0.080569061257828, 0.7285684591597851, -0.11528293656231645, 0.0460659607960172, -0.14777795833642576, 0.3579813888488499, 0.20889304395733183, -0.34286880961316907, 0.3651980501443058, 0.299169260864882, 0.4741550332404672, 0.4167385125941817, 0.3411578609546167, 0.2950782730798261, 0.5303337225209466, 0.02345269439390972, 2.2191771895275956, 0.06830585372531972, 0.1774399541393688, 0.4228302634302378, 0.061235210708573726, 0.17026373514830184, 0.3325834724804224, 0.007111366973795636, 0.8052037688475386, -0.33695016730183686, 0.35731963053711924, -0.28186789720950955, 0.6818753955868653, 0.40951829479007146, -0.02490527885531868, 0.10830624004915594, -0.10480075819620167, 0.09619251215985118, 0.6273218697262892, 0.8385100895412075, -0.21348584478701726, -0.236232944250409, 0.1527180980691792, 0.08214772460776125, -0.09172998678615224, 1.3993015166567955, 0.1439977796529125, 0.1400429465844601, 0.09407631305780838, 1.1780409852136564, 0.23972853991129825, 0.10544076002185047, 0.09332899404395947, -0.21152565187568517, 0.44657727576650846, -0.03115928459721605, 0.25177834039117697, -0.059669138076423635, 0.19268940486902958, 0.16061459047562096, 0.4270013825065864, 0.4955987541815335, 0.11059569557163144, 0.04119396020641453, -0.1630211861406939, 0.28005734021356693, 0.37966071228918724, 0.6409108773433846, 0.5659491945068952, 0.18702243091701498, 0.1638484167047813, 0.43758051958266725, -0.19633011355649505, 0.27999244742166013, 0.31960420733509315, 0.21578651706998578, 1.3070928816180416, 0.05500463032544325, -0.41602166027944054, 0.12313732778819364, 0.3687006579506362, 0.2830665492064564, 0.44028476992021476, 0.095830157573782, 1.3939815388211665, 0.38341439950738854, 0.3729577831129733, 0.36502180177798926, 0.0859505482168465, 0.4240750161381358, 1.466140002339866, 0.16014022633111238, 0.2918757584844051, -0.04250349558343158, 0.886044066298161, 0.5811562956282194, 0.6325480753207942, -0.004524198082683428, 0.2962207082860943, 0.418540464330086, 0.36028387639564435, -0.09891958420522054, -0.015004849257669631, 0.1477587039335335, 0.2664609326708215, -0.1375878025948226, 0.8326191133620042, 0.5744681947805462, 0.32060815635189377, -0.41527430625599027, 0.21978832452829267, 0.42247984881184397, 0.028062011704937526, -0.19501366847221047, 0.10385716376495292, 0.5862583202280827, -0.1368477409893212, 0.0468577179459397, 0.12818493331019423, -0.24205996675259994, 1.1085985834967549, -0.48738778701514635, 0.3489230756685618, -0.1592218827386829, 0.20525638121356318, -0.5352111638350933, 0.25950626664500925, -0.28838303238391677, 0.22168816991767643, -0.11819456206797757, 0.6382191330439909, -0.036773333939756764, 0.07371861864689482, 0.10446051637701456, -0.013237804193558633, -0.182059933858045, -0.20825853100719846, 0.07279167143800368, 0.35929175646475137, 0.005610952446464074, -0.015319905463535406, 0.055512056520496185, 0.17802106757361444, 0.027893808651617932, 0.0468846735124943, 0.01924546500503015, 0.3797716139512983, 0.19442933728755102, -0.04759224971403834, 0.15189582756082454, 0.43107524462326335, -0.07736845336980988, 0.225293531998226, 0.612818837211447, -0.05114461576018661, 0.16654324767409284, 0.06263222635687098, 0.868454047592079, 0.31394291434600363, -0.008316162174629702, 0.7331756388787112, 0.0430892102714128, 0.4176538788785306, 0.6471437044920568, 0.5924034328696195, 0.12893922986944295, 1.9691707653705643, 0.07691537802211229, 0.2936801419953976, -0.15155850134062132, 0.23087358062184357, 0.11499731694960715, 0.2514523242119185, 0.6272073574665049, 0.8022096806341036, -0.13786774055346754, 0.591435175320962, 0.16559527457512077, 0.19233530900339355, 0.665104498980785, 0.3580207331820817, -0.10978085660952595, -0.14125532183014022, -0.17432514399482404, -0.020204519286788413, -0.009016661725241504, 1.3498481791267543, -0.28300751314527245, 0.9318146098501738, -0.2817453916628193, 0.7748229334176495, 0.8603546495929578, 0.07958743265505673, 1.2411374846338488, 0.060227276621127535, 0.7188106268029691, 0.08085131177723587, 1.9064700260959284, 0.8954163113592536, 0.5241132243147798, -0.3379287328169388, 0.6763483558853144, 0.017769286809543722, 0.039398194990745476, 0.3075154095089932, 0.23976649436296849, -0.04219132345293846, -0.17569400374481584, 0.6171256935459268, -0.037457343680562125, -0.0601596699706262, 0.3217064843293228, -0.00232753676132283, 0.3896665485223874, -0.07952297596717758, 0.08086219704889266, 1.4663488351635316, 0.05304958139377653, -0.07892091736848028, 1.0625457528365188, -0.10935916965116503, 0.06920953510046482, 1.2504350788748295, -0.05956828262402907, -0.06263852503622201, -0.22463065639350155, 0.19627797107335543, 0.5758021567969747, 0.6080515593519008, -0.04568658526208281, -0.00115322438186742, 0.24143501584928836, -0.21635356815348317, -0.05745635262415747, 0.6620994757908311, -0.004381200902928753, -0.0773945093180532, 0.06153352896783111, 0.430266590449784, 0.1814432184790972, -0.15954887972844736, 0.6771913580931547, -0.22979495979748846, 0.5274794199721389, 0.35506144537957385, 0.3285067509341044, 1.1971425801551767, -0.04048489631346074, -0.012706525915399086, -0.2544318674204641, 1.1856707576124608, -0.06310569000239467, 1.047498033750813, 0.015745373749526212, 0.23622050246350096, 0.28801161204034154, -0.054789975412996676, 0.3007070806614403, -0.29008909271414324, 1.5344693978128243, 0.4333094961159036, 0.3685147037880135, 0.5239760479463393, 0.3933356918933981, 0.3910940163212359, 1.206860632586159, 0.7283124048725574, 0.9457033676432255, 0.026304827676204304, 0.2829311809668006, -0.16026706578280014, 0.16514939581432497, 0.25666153250905827, 0.6058935242910295, 0.2003838092942258, 0.13776868003639292, 0.4053474432872926, 0.7581392096511393, 0.17739859763245852, 2.0346173234342655, 0.5741946254402672, 0.5193793284868752, -0.019494386175863847, 0.01843455416358664, 0.5285836468299885, 0.6358425650627263, 0.757401496598476, 0.12659896682924632, 0.5910850545932546, 0.28884102350792523, 0.26389689362248336, 0.14417707189668583, 0.29498669887895473, -0.03564057132540539, 0.1587003067694219, 1.0942129550842035, 0.11775867233848768, 0.16512145918108717, 0.08465997294774176, 0.43709927256915787, 0.22295353096714118, 0.1259755465261987, 0.2819092285441667, 0.010253641364062606, -0.09703784064821684, 0.19073470388056568, 0.08599244957571545, 0.8578161932237969, 0.34119633228503266, -0.032385153533181325, 0.5395020260506296, 0.5898525338853651, 0.2028175985498669, 0.0115319537740494, 0.3398205717733286, 0.5707028197894847, -0.18754526791036094, 0.5937323926165686, -0.04201616333037326, 0.14154740605026792, 0.6144069860379597, 0.3720580866546267, 0.2366587915792992, 0.11180265066798269, 0.8463885522593558, -0.17497729529428488, 0.13461844019687044, 0.03724310278883937, -0.032102829996305954, 0.8663059671784805, 1.0447733583892092, 0.6881690970264996, 0.47701760185685654, 0.22810123388476625, 0.22396160941787954, 0.6170790890999296, -0.07916692793066664, -0.26443057651803653, -0.18352344595866893, 0.07265990298138073, 0.25564694807029165, 0.7240375103872662, 0.13033548576403134, 0.19708446652202433, 0.8265732725308491, 0.7176513635653352, 0.42233906864283377, -0.14700424754579053, 1.3005346528866126, 0.8018511835587468, 0.3333668768479176, 0.33373352316596494]}, {\"marker\": {\"color\": 1, \"opacity\": 1.0, \"size\": 3}, \"mode\": \"markers\", \"name\": \"neutral\", \"type\": \"scatter3d\", \"x\": [0.4924487532955466, -0.10724678092931601, 0.7540114434264678, -0.3399317926076044, 0.77038279531305, 0.6507909337975206, 0.3637324797179555, 0.005104952576901129, 0.1549463490051203, 0.10340692125373363, 0.3268316161693359, 0.36817743484543797, 0.006273517624863857, 0.27713448895870274, -0.21956321813136864, -0.5262074166180843, 0.8324220070640911, -0.1649049032840739, 0.21637073878660068, -0.27794641363521977, 0.32034644415271235, 0.22088369760579668, -0.34080760614192174, 0.7064497407294885, -0.09889373275714457, 0.06113678234770885, 0.08274940866448775, -0.23981141311182935, 0.11228811537807254, -0.07600401456737571, 0.5484703672314966, -0.04971405876383576, 0.7738943577272742, 0.078261017315484, -0.14610944795575886, 0.21723606832679695, -0.03166737024841562, 0.13398500739191832, 0.024411598214593284, -0.5756627411671856, 0.7651793927913452, 0.2794032736437878, 0.37180951746427315, 0.13717348448535452, -0.3926632656737469, -0.3729120330347313, 0.19391861737397603, -0.11954303869025515, -0.5089061252449999, 0.329474898497501, 0.11129394251582807, 0.5260397801499503, -0.5060225663161544, 0.5795523852801349, -0.4287835814897078, -0.12537856938887534, -0.398893471475322, -0.5037150684728647, -0.2965448499019212, 0.6218542956170603, 0.9726810260721731, 0.012347308779552228, 0.027011725929919267, -0.029780483068438297, 0.14985369726295317, -0.21221731202488756, 1.1126719747926763, 0.0038574614687298453, -0.3176147566027676, 0.42900334622903075, -0.10239139229279243, 0.5429368142292472, -0.21234063330864256, 0.12781635742639277, -0.16937240420918087, 0.12339388828130535, 0.10060265930147141, -0.18227805582319867, 0.13154721057517985, -0.4306472291012779, -0.8360788467805775, 0.30348561744599944, -0.1555229225736489, -0.358769968675685, 0.25083829430953575, -0.1744345207270721, -0.15190209496477533, 0.272431702685893, -0.04351222026543125, -0.41135750469804316, 0.007337581568640634, -0.2068904984658738, 0.9078308557108352, 1.2395735517029047, -0.057303252328294356, -0.29644286755623517, -0.2417864464409698, 0.06860138434443173, -0.6621950163364387, 1.2030054245044532, 0.19252092408220564, 0.02860878730741239, 0.2501657894996197, 1.0320358898048732, 0.0879106849719028, 0.3875561383682298, -0.2799814241384556, 0.0198918594665261, -0.2590287720648901, -0.4329266442633367, 0.22980264681128557, -0.26403931687849713, 0.31535325848231394, 1.2231072828337763, -0.2936644640301215, 0.21475667332180318, -0.4717633131751993, 0.18722587990486556, -0.17485119047621744, 0.006231553272297438, -0.22537454155106662, -0.1387624484995599, 0.5122579057471524, 0.8382154673194359, 0.09036135590254343, -0.3755227724566029, 0.7586438285528272, -0.06772744336155648, -0.09943202764966111, 0.13818743750232854, 0.3807241123057661, -0.3653767991620039, -0.002377091215136691, -0.545186868718042, 0.40285332218918174, 0.26629686071405195, 0.2478118710932095, 0.393001705264515, -0.3529071409041294, -0.17002752548361885, 0.02924730522303595, 0.45380377454033344, 0.07413950290114535, 0.33508134204261875, -0.5016225442734907, 0.817309968328477, -0.28632883941721515, 0.10410075288860296, 0.2651274736395523, -0.3494431473010802, 0.8946964475939696, -0.18661014759671968, 0.6409015776771158, 0.1481769129467825, -0.113704666576011, 0.23514363235988522, 0.49994877053380327, 0.5356258661557466, 0.6121832278386288, 0.44253646844739775, 0.35064089982833047, 0.05139486495352235, -0.23067463147368644, 0.3934990771167359, 0.3847749117126852, 0.3764790192436621, 0.7166553797182952, -0.08196230967952617, 0.10499904737029993, -0.06364883708435636, -0.009048912368464402, 0.16600573337583902, -0.00976114166168732, 0.14779800644130686, 0.5829895282181287, 0.48181143174279256, 1.1794649795587677, 0.30953321396169364, 0.7529093849484247, 1.0102207685106626, 1.3107511549991848, 0.06803628939941214, 0.05250844744147582, 0.3156616146778324, 0.4503390698225662, 0.7247585463221887, 0.1672659936550251, 0.47577375728846655, -0.01716454344228777, 0.701495257789169, 0.0009952126594305537, 0.5709575957187439, 0.18706448563946615, 1.0789003538026802, 0.29386382538800615, 0.5532364230066456, 0.3035178395300915, 0.1783746200240196, -0.040511449441257924, 0.9070544693875267, 0.22557242304476446, -0.3784591843772648, 0.6030326646200426, 0.2246081283030811, 0.609693985423402, -0.4289693083399313, 0.4366978693124081, 0.6204368381685378, -0.36126691115124265, 0.31391413897813103, 0.9947592391882111, -0.10768803018810809, 0.5800724480681939, 0.2538527289504829, 0.45819387784752397, -0.3290196291087052, 0.13052017804829744, 0.210689364075434, -0.237588388833682, 0.1645587331393546, 0.2858959570046855, 0.15965854254867795, 1.0361515051694137, 0.6654740768545128, -0.026842042612607836, 0.8686638708197625, -0.09481718070320506, 0.16238794206068927, 0.3648329576551217, 0.9066022054680211, 0.4647956327453338, 0.8476512392801717, 0.6864839041521741, 0.2692057152838568, 0.3729868887397239, 0.7209531300968884, 0.04604506799334562, 0.0035717551833720626, 0.012468970678371149, 0.31377485801069255, 0.30434453534636313, 1.1067986026298897, -0.2967171342605215, 0.21689795470145065, 0.4446300584914985, 0.7277196985400903, 0.09381550462740314, 0.20387861047778116, -0.20850528981075017, 0.2846052529547617, 0.5786466264297848, 0.20482508835954724, 0.7215114374870876, 0.794683451963026, 0.14082279199160044, 0.27276696871121914, -0.02640255365789546, 0.4825936807022111, -0.30915100430339226, 0.14082416424801228, 0.3806141437752507, 0.407997003362976, 0.5028005591728021, -0.19767179273311958, -0.2433799523937892, 0.04623697968254738, -0.3880484068643064, 0.21937069799115413, -0.25676448190753115, 0.21210937202513133, -0.7848018896646223, 0.36070080490334683, 1.0676473205237056, 0.16827522038290657, 0.33037798170832766, 0.7220879131598048, -0.1236176575744991, -0.0010517441525434434, 0.20866948153435996, -0.18085535713283618, 0.16552412403412262, -0.22055908706432614, -0.4828879855285149, -0.5179406676423542, 0.42995977515887807, 0.15469362870734105, -0.01416244415106195, -0.16736720466486293, -0.5607086882950277, 1.4920225582244644, -0.23080473108540003, -0.3933603095191548, -0.3303071952343535, -0.24832655125110387, 0.571563719738938, -0.10889966061004587, 0.8912283797080497, -0.052250345692617745, -0.4543142160393174, -0.7070042172956059, -0.1272304695123791, 0.24742786491342994, -0.5519215242696582, 0.8958556881614448, -0.5663868027853463, 0.08351012017400833, 1.0928437511377997, -0.2070841875637172, 0.16194870608926742, -0.5260363664074752, -0.4383942544448541, -0.2660652564455664, -0.02764781298193136, 0.22815846279431307, -0.06545481836415143, 0.18623598188897544, -0.35242816223302414, -0.07712106989665786, 1.2413473450341632, 1.0696492901856012, 0.36276880728953875, -0.242375519820517, 0.47237341610252914, -0.28876899759841695, 0.24633830334359394, 0.5781652703934232, 0.9488998818564207, 0.64285721820375, 0.4613250271313253, 0.2577463554597002, 0.14287982871057398, 0.49478082335486295, -0.3556834510587306, 1.0408095888283986, 0.2941683637566443, 0.012918787652490797, 1.3912722830905286, 0.6182084412084203, 1.057251029265784, 0.09560137190895913, 0.6549890243274993, 0.7268264281546736, 0.027086982505912714, 1.297197753206717, 0.7661145289194552, 0.7563679626010043, 0.8199941261888234, 0.9970272957618237, 0.9716814484582493, -0.20207128312387393, 0.23083435574655453, 1.3882550163242138, 0.6311453394103261, 0.14926618867243915, 0.30470816449281685, 0.359525939808452, 0.009713119560032419, -0.3655904836266446, 0.7831736341518934, 0.9101765223995391, 0.6017378111801238, -0.1270892583661007, 0.3090328523962609, 0.6200479588017056, -0.11494952363993521, 0.6973087825459935, 0.6361611802370691, 0.23243189680315718, -0.4702063099582875, -0.12586353475435824, -0.13094278714996715, 0.07410872583061877, 0.16550254990201307, 0.5081713963245343, -0.16993660967711102, 0.22343114984043458, -0.17865169824456678, 0.247597752903847, 1.2799706075295592, -0.13316093571439294, 0.06900321335553714, 1.5804029947499116, 0.06889305209249214, 0.7813846662568678, 1.0394802759626187, 0.7204646334558862, 0.19231786803288387, 0.12032742050372028, 0.8873520460935858, -0.2812092980748115, -0.30035574102549045, -0.27000131712772185, 0.4595432974180379, 0.3146575795785185, -0.7716696438726087, -0.16172387985213524, 0.9717333061468069, 0.6970495001511865, 0.6654129947834116, 0.20566978025266588, -0.0675260759645964, 0.5432315379966183, 0.13827676952680149, 0.07499197902245576, 0.025926621946813683, 0.9503923714830741, 0.7572000420914174, -0.12759204585346498, -0.4657950844071164, 0.15481190909969306, -0.14924902075642837, -0.4188412477074796, -0.6725177955664323, 0.1715019340792073, -0.6640867270567378, 0.22502589406025125, 1.0368688042687815, 0.03130014860669114, 0.7180359861693825, -0.38387149434307183, 0.02360821584741724, 0.08767497830250202, -0.16362111375954877, 1.2506540511981632, 0.6889691934557944, -0.05555179201869633, -0.2706612733384434, -0.05066910674153062, 0.29956817961458493, 0.6489351178831352, -0.14988932895576282, 0.16739802963580847, -0.26815136516074134, -0.3379445466621286, 1.0960490962778489, -0.09900779443265303, 1.0283104626161945, -0.47492624920348586, 0.3276480428482282, -0.1162518996101744, -0.3875378502488173, -0.39787743606835985, 0.3849114287997095, 0.14313837222950304, 0.22727295164877426, 0.8320586436086466, 0.9424914931961823, 0.28785200378950876, 0.002531992700512661, -0.07163649091767539, -0.22936975363025355, -0.19152686015872097, -0.14785137016395442, -0.34394436355446734, -0.379372367310339, -0.008280089798673847, 0.12375839499610124, 0.27084920192837714, 0.34633145295956846, 0.008689675528688368, -0.2085797472232318, 0.05151420503095191, 0.5165986675162, -0.5246732067633176, 0.04499101957556389, 0.19522608025011146, -0.06975916597840785, -0.07657446659693914, -0.24812324005132286, 0.018959115884297165, -0.05707618927580616, 0.1906773503720828, -0.23223765429400883, -0.3185535541061066, 0.4664663484981524, -0.3078631026882598, -0.3465675338013226, 0.44219048367813335, 1.3567702253317286, 0.08023887389884612, 0.06850621658198475, -0.8100376241107803, 0.7399228237783106, -0.2869203690487242, 0.31260462753314877, 0.27053759647003056, 0.6192324691839796, -0.21783754722203302, 0.19643855356838344, 0.3838912526289953, 0.19151320528545301, 0.02590854716482941, -0.7143045035218212, -0.32310348216985946, 0.8531347371726256, -0.14088492084173185, -0.35777800576550156, -0.3111585929260935, -0.5971662565983992, 0.2713842313237754, -0.26389042317721806, 0.686455872521494, 0.026159420537743977, 0.023293416742760302, -0.8560718489694753, 0.7458612005528216, 0.11925580307267375, 0.6087532697385748, 0.30148191972220667, 0.710576356202125, -0.048841557157532606, -0.6953331656284618, -0.11177044462037486, 0.43841575490749524, 0.34278448496975344, 0.39908728640977553, 1.2962036374795012, 0.6715564849651771, -0.11153716412100277, -0.5008209789557372, 0.4438253069939008, -0.680885246359435, 1.0232672802144835, -0.4415791226630744, -0.3998732888911215, 1.2201393575783, -0.8068130091540477, -0.10491476648057815, 1.1847614708299545, 0.8177398788592796, 0.16993261020512732, -0.4777878879571958, 1.0451220047182983, -0.2532570425264758, -0.002243180113954312, -0.14363373973855037, 0.8635171194606738, -0.4412541209583546, -0.3060294123188733, 0.7248057821894526, 0.5940818565378537, -0.28657445920838637, 0.44743508264830384, 0.4031832775856209, -0.08631920553721384, -0.11113926024807207, -0.3453939299569342, 0.6172874725409112, 0.27719301563414833, 0.07464674308201677, -0.11622695371610164, -0.16970800355787688, -0.281888351872092, -0.257957046091091, 0.35747216496276013, 0.9213692401453775, 0.350921975944805, -0.21847092117382372, 1.1582525413273808, -0.4092435039569387, -0.22938208855201958, 0.33294117362902187, 0.3501472250330417, 0.2661421895120409, 0.616063150951432, -0.08558234783536017, 0.17987211004536938, 0.15462891399769887, -0.1833372479654509, 0.06221987000583619, -0.18811450574126024, -0.6696163360029145, 0.4534716769359576, -0.3741955892389368, -0.7277788217378096, -0.13115251222176666, 0.9224262899148018, -0.0606934166847284, -0.15819148345458756, 1.0191331583465448, 0.392512795307231, 0.4765551138563148, 0.7393196721236532, 1.0380922866590938, -0.40135655286171945, -0.6327360398847409, 0.0687208257344896, -0.010397393409375105, 0.4560673375213042, 0.3994411255509071, -0.39462593967942633, 0.0896530272244948, 0.598410998505468, 0.2039276772666708, -0.13880876049116841, -0.30747286149046815, 0.40007713404350115, 0.9741211298146872, 0.22522848883066993, 0.7522029158680803, -0.14600574498184432, 0.6030761715891473, 0.7675951573243894, 0.8846870138827991, 0.2560861062140045, -0.4935581628002874, 0.19401405224918572, 0.04684149186825931, -0.4193705801981323, -0.19902461774678154, 0.03980916432104837, -0.038259052242795265, 1.1620057271930464, -0.2711679822358363, -0.18999142171799085, -0.5773803980995517, -0.23553870973284943, -0.6315083992076427, 0.2793708869679173, -0.37254475759295946, 0.8272037972278424, 0.8370103484771534, 0.017931578050120554, 0.10119546692994151, 1.2894171980091302, 0.00976875128174338, 0.21001196430460203, -0.16532079539416575, -0.8204111975798628, 0.08257776289627254, -0.22782182901999048, 1.5589447855056657, 1.0870766506800404, 1.1678904029159785, -0.23933514028236383, -0.27463416804015006, -0.24878460747003883, -0.02483355543952781, 0.976584934385574, -0.08601709610005524, -0.26970189894023383, 0.4276535358456024, -0.4289775895543817, -0.19316341403984857, -0.22025607391322957, 0.7046690380288899, 0.49496888427338404, 0.9188760153734951, 0.20236079581353153, 0.8778195399865443, 1.1429097398690513, 0.5893359800194247, 0.9063396891455231, 0.9880534202227915, -0.008975593814704454, 0.7868963809740502, -0.2984286915983955, 0.19700897870069062, -0.20446725629070903, 1.0110913378138449, -0.5501217343835912, 0.5699339031295717, 0.4255689930888189, 0.08580933430098393, -0.5074419022484202, 0.6447492489073805, 0.4208766616872879, 0.13154652186817184, 1.019140375433514, -0.24893503948267917, -0.09638512738129755, 0.32251640090264844, 0.30913951779970217, 0.26236959360780193, 0.21776028239595835, 0.030288477096994858, -0.26921113752334086, -0.2926438152079319, -0.1995955559584069, 0.11264320298279475, -0.1762422137007017, 0.2538538324170919, -0.03152274210567557, 0.2298979675937991, -0.15785442420332318, -0.11717601121827449, -0.08142230037082307, -0.25454102061211575, 0.7210859654171743, -0.49982078542562947, -0.21445490037130366, -0.13676748731254276, -0.79082078712698, -0.2843967890387495, 0.43470968379845676, -0.5467056414894385, 0.46704716489856674, 0.7512798419242827, -0.3025502734779409, -0.14873414688729367, -0.34382263125852064, -0.7038452025387762, -0.5006212697794283, 0.2930034566851194, -0.08827396973904916, -0.2186767780346276, 0.15067527231739658, -0.10032755818266643, -0.11109391083950086, -0.12370443438782984, 0.8165761808893333, -0.3261597788755288, -0.20885272312604578, -0.5224339356008897, -0.0819480387268898, -0.5273621510753721, -0.41020003717137776, -0.37475527182947554, -0.20750070598148293, -0.46261202406317603, 1.1045716248879882, 0.12106521643134283, -0.43760842403478695, -0.09909063300319589, 1.0393529651376523, 0.9751964905965793, -0.6393127697373866, 0.7996251724695482, 0.9808409423878015, -0.38129239019980843, -0.38318233715230515, 0.6185966196771174, 0.0035027385917066793, 0.23753024678702686, -0.2134175745584087, 0.02061757421280435, -0.23364469734164967, 0.30875449730441323, 0.6342856583123714, 0.1976322998976363, 0.42745450244308836, -0.2563464618538436, -0.20774883871730102, 0.07829476234368792, 0.17371801252611835, 0.33262463913952306, 0.7946793216417394, 0.11160297501604625, 0.24155479840903443, 0.11117997613293931, 0.7128778013875978, 1.398167778621215, 0.17367075166001947, -0.09552117166338729, 0.8056765787431543, 0.5647725403343697, 0.7558978669398309, -0.3287260070041798, 0.036242196986379836, 0.5399928218587688, -0.1241388203381205, 0.7032434323592278, -0.30794422336888094, 0.11136457191910194, 0.981558063724375, 0.37880375559579355, -0.6001365093060439, -0.384667477170041, -0.2742448841358119, -0.5709373557547596, -0.2424818617203782, -0.4041548072232678, 0.1260954853909703, -0.2296952710413132, 0.05121969145215875, -0.3214859652026351, -0.39054712218164395, -0.03452165628828407, -0.6486787746437688, -0.6290909450611802, -0.3722849805611884, -0.32746615510885124, -0.2162144188526731, -0.2094059000380949, -0.33697690927293344, 0.24565235417770187, -0.13347007064904995, -0.15163332090055606, 0.2824093533022127, -0.6259813344998958, 0.0531214422245545, -0.22012176436695866, -0.4819255047148981, -0.16176974599904573, -0.31747902195760536, -0.45611453076642094, 0.06254979044469657, 0.47400624316324236, -0.2988195041715171, -0.3373828200924523, -0.14114576336287254, -0.18363405303774433, 0.27613662230520863, 0.48707873878457025, 0.7322571709376499, -0.3151110325250745, 0.82298659399774, -0.5674780840282131, 0.23629691780181178, 0.2560420280671843, 0.05462667026234284, 0.10778659597910485, -0.16192189305344992, 0.3468370817665654, -0.2671587558665036, 0.3465688013967867, -0.2763628915249621, -0.16227863050721394, -0.316133918169877, -0.5318152546272801, -0.3948291054638843, -0.4825633053577697, -0.49701994249092807, -0.5790673955451167, 0.10410607129966407, -0.08207637725672975, 0.14713767982286674, -0.29670411176307415, -0.33311258863478116, 0.2794152394800783, 0.1746561175032738, 0.2143619925043003, 0.27838494418952636, 0.36180315826788856, 0.6750023176336426, -0.8262409413821253, -0.3846418977668106, 0.02920949919689406, 0.946053070938149, 1.2258399943921503, 1.216783291015471, -0.26734331689450785, 0.6712458501026174, -0.3224966973843231, 0.3497697277386392, -0.27428665387160334, -0.4860121928064281, -0.2731028370963588, 1.66491929266481, 0.9986579053965497, -0.7300085265332401, 1.1113351673384575, 1.2747454339464894, -0.17024767391741, 0.11528977416358285, -0.26541238335473105, -0.09816256128837896, -0.3128086285027587, -0.37172861593264983, -0.21723225964492204, -0.2662958411652009, -0.8706609493757583, 1.2749259531082469, 0.038178902099162075, -0.18211552016246665, -0.21690321651898561, -0.08957130617393161, -0.2930150442590572, -0.6544078949464341, 0.5445312284290933, 0.11574507159313284, -0.3482280751540628, -0.1538324750675838, -0.8325929924572052, -0.5158410504939462, -0.5256805672174998, -0.5431259680043766, -0.2268318480166096, 0.5010336951963753, -0.02778317084927387, 0.4001865916634418, 0.30647755924915526, 0.06683233253222251, 0.03425413299951971, 0.034682719932054566, -0.035505195445337936, 1.0218981023633984, -0.6628740061849928, 0.8487966118176579, 0.024696709714016253, -0.09427793794632244, -0.3474089650037928, -0.09756418561085886, 0.40243763853753484, 0.3851427996088795, 0.743891333521949, -0.06653645987888335, 0.8845580158611407, 1.3930014613463586, 0.5000324165596894, -0.3369987542822604, 0.08333897850766529, 0.7904912252076711, 0.4862780343028966, 0.011851787190049243, 0.7024738164962281, -0.11008775190753135, 0.3882667356697264, -0.9894524588795612, -0.37626251844772046, 0.06357476960764434, 0.5460775318116927, -0.12133627398509901, -0.188183249576252, 0.25648720169515316, 0.7012479005501608, -0.4019276457794415, -0.13672059879918277, 0.13251379770287525, 0.6184394958128354, -0.3191708334655415, 0.593948083554913, 0.6698513685523797, 0.2117634702581607, 0.029856195264115176, -0.26252742802878093, 0.24720897056028052, -0.14443190486845564, 0.11513442625674794, -0.06907577202788863, 0.31654634986953, -0.2603828681014726, 0.15859855910465565, -0.2839430848532681, -0.11544535365252998, 0.2632042206024925, 0.7460348234379092, -0.4420301170993369, 0.23469363286401326, 0.23744243698489326, 0.40032130363813, -0.06993234998111314, 0.5038491098320323, 0.29331695048692386, -0.3001132579484391, -0.21487573842037927, 0.9747371483031301, 0.6673368381159906, 0.17664659932535043, -0.299335456962919, 0.784018123699383, 1.331091906521798, 0.587925679019789, 0.9756368491727206, -0.21626879597778773, -0.019466161767733855, -0.11949318624871298, 1.200782675052556, 0.73725099925175, 0.6842334396843645, -0.1053226545774104, -0.08284471035287169, 0.19323160012460072, 0.6608149000305125, 0.19778096119664568, 0.593794393449482, 1.2222096798644733, 0.15584960678949833, 0.6696343426833312, 0.28449052134496683, -0.3413351269067364, 0.9673972571840791, 0.28691826602866327, 0.08488919872455783, 0.16599822112370427, 0.011474545412646071, -0.29291523725173063, 0.43502266250447597, -0.6128719312654207, 0.6434078697509777, 0.6480719175396251, 0.33675822049497506, -0.03366812141836781, -0.023557752344718557, 0.9056015553245775, 0.012592841838178841, -0.30153944039770686, -0.06502972195509561, 0.13780835808571656, 0.5961344451805455, 0.31026166472871436, 0.03790124092904401, 0.0646847386652784, -0.15684306670675385, 0.5790628712258483, -0.3958065885774123, 0.3001975362730805, 0.8508400497457153, 0.017175587523553706, 0.28293507914573196, 0.0765200374631682, 0.726014511029326, -0.14979100230777784, -0.19943178841191728, 0.24664726217463603, 0.2784385466122611, 0.315694613087281, 0.3981091057215835, 0.20295510459816868, -0.01424991584075779, 0.40486210428649927, -0.5630305052538004, 0.18873280449763555, 0.01049473781385321, 0.13061862760767706, 0.5912027577211252, -0.028773229721779807, 0.6997666140654424, -0.3404552651911624, 0.5322022103355148, 0.8928630601131656, 0.4208752596097613, 0.4938825379769824, 0.8301231333122414, -0.4431560909102676, -0.40940504531746186, 0.3064316483388775, -0.3740299067725927, 0.6195460027797404, 0.6070994544156314, -0.22320903788855317, 0.45617746719116503, 0.8147560987410035, 0.2819783947896206, 0.8565347121191059, -0.2372998683372894, 0.9555033510326411, 0.010246282080292317, -0.4780141919032854, -0.3902096912843269, 0.6981055091972257, 0.4777228524608031, 0.6060249304613414, -0.07703861536130942, 0.19303459191055905, -0.0577579302749547, -0.10656270996224426, 0.4468211654610626, -0.4738446797325423, -0.5148642711315427, -0.10066260280556988, -0.05782263072520164, 0.7814774985394701, -0.458818136692326, -0.6016731932261845, -0.22136569890590507, 0.0254781544907543, 0.2454053269377966, 0.15370625387849238, 0.11590458460727737, 0.31082646870721686, 0.6972977117574222, 0.625476138007933, 0.21141807513435945, 0.8020559648396127, 0.7796871122076976, 0.19667127057434242, 0.0448554884380885, 0.09290353713735743, -0.27043738071616796, 0.15943774541479383, -0.352379056304849, 0.30098183211063334, -0.006971794177151097, 0.742329274467024, 0.028841436870855896, 0.03146090910814724, 0.024739155971973383, -0.40320444881888323, 0.9022689051950635, -0.18369114380946575, 0.5518995857699214, 1.3471313210508578, 0.16553153481361127, -0.4599878566288045, 0.6472413835389588, -0.09482639345965192, -0.047971775991112034, -0.3471719657326257, -0.2494261559043068, -0.16339682577303777, 0.3618917675278422, 0.42147690458916215, 0.513751202011812, -0.10828747911407072, -0.040373710596565845, 0.2708889209403856, 0.8277709673450547, 0.47742606055890896, -0.04205370923182461, 0.3264314080448843, -0.22894814636526914, 0.6487043164255951, 0.1969584421575189, 0.0921708760207708, 0.5660712380733616, 1.1083253472300578, 0.12418484402608525, 0.352265782523153, 0.18702088205511394, -0.11322899029273557, 0.30017906770042746, 0.19658896364211773, 0.38196274114315276, 0.36175874622505755, 0.31232938987302317, 0.6098615432575387, -0.11219323498000787, 0.051895807672854094, 0.3377485578889705, 0.025428152581810366, 0.04283698655895358, 0.15728897823986612, 0.5134592061295467, 1.1819089794318571, -0.012526652615483844, 0.5624328952671102, 0.37657473576017025, 0.011265705895077967, -0.19255072243665808, -0.22058418690972167, -0.21263212871432793, 0.5023418064684052, 0.2560436773742243, 0.19719632591594685, 0.375181779148995, -0.15310459173081398, -0.39337673445629917, 0.4928511468475065, 0.23103153078233996, 0.04851580666966635, 0.14066256435694194, -0.1172819701865624, -0.33821107526482996, 0.49023715645725874, 0.6977643680921838, -0.3560393938927475, 0.7663046729026444, 1.026873108385368, 0.029558427079078756, 0.7072625502766317, -0.3404308956618762, 0.42582612379294504, 0.14008334029188343, 1.2631709375936846, 0.7452435544910418, 0.15177229916568563, -0.2034980990224663, -0.24907911665673088, 1.1226479762184463, 0.5499612180595228, 0.9978178634376481, -0.3522914882739834, 0.6946552879038911, -0.17964245809503473, 0.49548827399922507, 0.3910453325696256, -0.15866876949994593, 0.08634858616792673, 0.7302816735716713, 1.1143377410649518, -0.05193353696572818, -0.06337462679715708, 0.5774994472390057, 0.43777741212781623, 0.5893256886130488, 0.5850489293428451, -0.4934884785413808, 0.42200141969169896, 0.45633533754563715, -0.04680933890436079, 1.015417725827408, 0.28709618666899045, -0.13444315598873977, -0.48015563061159244, 0.3816003303681767, 0.13605755180498616, -0.5266833226447093, -0.3861318885185215, 0.12659228724533184, 0.13062665793610972, 0.42236122183806657, 0.01726881723635693, -0.43300906504797626, -0.8016591885706262, 0.10096230963378383, -0.07914538050900825, -0.14177394804565177, 0.041241467583825554, 0.25287490759336706, 0.569001849959296, -0.3439718037862091, -0.2115450127732041, -0.10735409386543919, 0.35921586157783625, 0.4442068003312378, -0.13035649544732164, -0.13808619148845414, 0.5790279415081034, -0.2012279253430544, -0.6214618082264433, 0.17957396340563, 0.40446052135143007, 0.141424913546731, 0.15351199654888711, 0.060068292320679305, -0.3034143110677875, -0.09744629941011515, 0.4342499988194979, -0.04827757060439157, 0.04021254651142814, 0.008164915502429265, -0.047433949735409715, -0.29692144555999755, 0.34962230860121596, -0.7242598148124779, -0.277879450092862, 0.3096416833422254, 0.2885027242605389, 0.5018563612682543, 0.17631197642735935, -0.15493738428281817, -0.45033512887365346, -0.33708881589380546, 0.23598357419000404, -0.1748037759322118, 0.253512651869628, -0.21059553377607085, -0.06735645060515683, 0.20687114946878585, -0.13495663683929296, 0.07699966311382866, -0.02458499701152393, -0.03972080728439185, 0.058841369270270505, 0.007076990475496853, -0.2866985329429339, -0.7384929111722478, -0.05811703096533945, 0.36280876417905666, 0.5941044667166124, -0.42940953124322956, -0.49891475262083607, -0.1476467791179051, 0.15849026483351558, -0.15836896217751695, -0.45096468697245684, -0.4795661084463099, -0.024922124312403687, -0.6472696982389347, -0.03445689192851441, -0.04455141542287485, 0.06353507332715033, -0.12650532832516226, 0.6345484141480283, 0.4376806377585949, -0.11119282075510264, -0.2450909896582582, 1.137852322687926, -0.4319629358672742, 0.04610803844117995, 0.08206905920308952, -0.1939458716424997, -0.3732478314241818, 1.0499852069345468, -0.13606155980128962, -0.36307523148476945, 0.5037532704383447, -0.3934339204933122, 0.5773790071548395, 1.210606981973742, 1.1439753972205642, 0.8540309367536413, -0.3264738454464976, 0.9675694419862829, 0.3194427048702841, 0.29369249807004755, 1.0028030675061612, 0.7592205310705549, 0.1246554451531771, 0.4378679493811884, 0.008837723000548931, 1.1969153507659964, 0.8819355593313395, -0.05378696708016593, -0.12016819570499328, -0.3967364722539004, 0.5243754515441968, -0.16146803930315615, 0.8244708345838208, 0.7487305532090164, 0.23092379532559038, -0.18589624447452766, 0.41469514041570826, 0.14687749205078235, 0.255012724803526, -0.4172722794212795, 0.5913063542002799, 0.7293921961392585, 0.10670593293746142, 0.5246733774213419, -0.2954767698822618, 0.5054797961027817, 0.09140353156755895, 0.3293188782658241, 1.0875361670577308, -0.4880895093893548, -0.11625506954026045, 0.029440178918949764, 0.6942512313558176, 0.6803764137785514, 0.44906332894500073, 1.0158502968274248, 0.03831643137873352, 0.26186127195869013, 1.1901065208932207, 0.03806689983294984, -0.15161343344429853, 0.015897861016140873, -0.17422846382357357, 0.6655655520897206, 0.9946977780527746, 0.09713347949149946, -0.12051449738314689, -0.4569052217964198, -0.17190255271044436, 1.0239597734849757, 0.2867614612988199, 0.5910415577913231, 0.7782679223250966, 0.8037098285884602, 0.16726720492523534, -0.25749943356533134, -0.4657384510337662, 0.1993983739131347, -0.7653924037082913, -0.08008966640344257, 0.5695467059696047, -0.050193566753852906, -0.4814334210646698, 1.3027710685168656, -0.6084986934557337, 0.9163355422969768, 1.1810148925196213, 0.12563862109566631, 0.4643586549053208, 0.5727885771498819, -0.2615579734391809, -0.33359341557645783, -0.16119724338928454, -0.45574485720361874, -0.2822953952941554, 0.45884578200410314, 0.19915614697610767, 0.2441504062255851, 1.0190125150368399, -0.18302172492392768, 0.8196266743306585, -0.3433596728453682, 0.07413796488055202, 0.8672379156247797, 0.26667557731992747, -0.1661850736806417, -0.38470399035587377, -0.7428528494856854, 0.6660653341812687, -0.23700751272922782, -0.8034613988934213, 0.678950600520082, 0.52554542536299, 0.49530865488154424, 0.43029780775665266, 0.11077727116946781, -0.36905549705957696, 0.6757024533073525, 0.4494207631393855, -0.6900123933126225, 0.08106265422282267, 0.5485599684952117, -0.043083026285845184, 0.07923714106565861, -0.21437551085304252, 0.11418863273343562, 0.5763004408305585, -0.41936343818787386, 0.36154271391721615, -0.17930482524118305, 0.4016048449844072, -0.1532590010025282, -0.5145801605208753, 0.3890359859915911, -0.4713210026894598, -0.34405291082626077, 0.2133905512591818, -0.14323657005337104, 0.20524215722977684, -0.398355586307357, -0.11264212118967626, 0.46211968265190284, 0.8592931424234895, 0.8286905306463116, -0.20735996836167622, -0.08244090163541586, 0.17456300522572665, 0.24890185305549817, -0.3801614354276914, -0.07890572292321948, -0.17236388224730198, 0.0464656041860656, -0.017524017652363447, -0.021595050700059355, 0.03211268829945032, -0.0946459564186603, 0.5934008967392842, -0.08589712196846631, 0.5469100824863711, 0.8795231115799154, -0.02988634327823372, -0.598932862733944, -0.14288988984266618, 0.1487551812434357, 0.07899934461509311, -0.21543229819496185, 1.0711799130158963, 0.8850769363097065, -0.27186416580068634, -0.6507087785258522, 0.9794063955166058, -0.4361515185815917, -0.19739385591593872, 0.0019175721678320354, 0.2950174353569865, 0.1423837187188267, -0.03249633853442298, -0.34380659518268897, -0.4790710817350948, -0.10507017238156749, -0.18878136187733058, 0.05646438224830149, -0.12321210603261434, -0.4450015330813922, 0.6187250729954009, -0.173616565152546, -0.35410325915481033, 0.21537984934761617, -0.0012836143510191588, 0.08088271776817581, -0.16004916594300408, -0.0995485457708884, 0.650202027752111, -0.3950322357579091, -0.37835782880390256, -0.3790726665675519, 0.3516367883824293, 0.9306235880289097, -0.09251369303879309, -0.1290533172201925, 0.03807347269059694, -0.4394762114627618, 0.9148611564438663, -0.6150981419574372, -0.576737286273033, -0.27325200174481, -0.04064461045291401, -0.04790443576203704, 1.2120371474936131, 1.4091669981443387, -0.027478042185315438, -0.3516126127766188, -0.20234604810750562, 0.3654629768843704, 0.2035160649090012, -0.029796081375934508, 0.12982569841243263, -0.3637053281626597, -0.1917895442098603, -0.7081430322113196, -0.4731233184915257, -0.15975793638892605, -0.35104540762843756, -0.7299595311651464, 0.01021020103391753, -0.4732433029904294, -0.23770079239537276, -0.17376168933950484, -0.24690287625801652, -0.3990437676739014, 0.000737353177302957, -0.32546514978565144, -0.5497660804383081, 0.4116415587361977, -0.051871339765703246, -0.1529620809803297, 0.07292084349551108, -0.06933400537838419, 0.030627647546051507, -0.21054228127665076, 0.10838788332171453, -0.019990614749938334, -0.2400258934704436, -0.3864119023370433, -0.052268699220999304, 0.02982338557630998, -0.11331046500536793, -0.2878119124412782, 0.08472339833434701, 0.8162435938384903, -0.5268034894025562, 0.6344597723215508, 0.10978438413498255, 0.01252156572585298, 0.07572960588184326, -0.311974461908372, -0.5184636434170821, -0.34116678636335473, -0.06692650585414342, 0.8538503797384891, 0.47946685267469374, -0.044968626916072826, -0.2380273813458545, 0.849963823540884, 1.2113579388669662, 0.975356522380148, 0.3231886905925554, 0.046380436057259083, 0.25549601043405135, 0.4849612497710126, -0.11301194340160323, -0.36083052956584577, 0.6499511616183687, 0.22520196269314408, -0.0831122244166446, 0.6242637669249073, 0.6850990039387442, 0.22502880343837975, 0.15482829204952264, -0.1644986880150744, 0.4699635517243828, -0.3131991152434502, 0.7034010466310975, -0.01644725156790796, -0.005108135946875763, 0.7749040454638274, 0.4591709251260075, 0.48551601971142505, -0.23409533707075925, -0.18363850625878989, -0.1816591922671636, 0.21247262060828007, 0.24853893976480812, -0.268156306191556, 0.5590054210515998, 0.7225306899398092, 0.037382086278335634, 0.879655164915522, 0.11043515936071838, -0.8643004369634852, 0.28575677044077813, 0.28786830514413303, 0.5809130373089186, -0.17704848234200135, -0.09737825644994955, 0.4214977683317926, 0.4220220480953088, 0.14787434585079548, 0.6119043336930144, -0.3504895892864476, -0.3234727093069676, -0.6089391103190853, -0.3674224016530344, -0.46081417954341775, 0.3408761112874056, 0.15088790727590534, 1.2519175132170868, -0.05800441034891674, 0.013328844265197294, -0.0782835718877131, -0.5003288668243241, 0.24299950383273172, 0.031146441066990466, -0.4381808923502092, 1.3381925590752715, 0.436742917469558, -0.03990553738388603, -0.06073414490919581, 1.1016201650738313, 1.1534541628621375, -0.30258306699069487, -0.45919743144832625, -0.2507753230498144, 0.369537415854485, -0.12052041770077558, -0.08896389741368499, 0.185925339922688, 0.6167765058501931, 0.21025189525406618, -0.29696895990107547, 0.2077885513989242, -0.640551046055022, -0.24542734401660707, -0.3492960807226042, -0.06748434148116074, 0.26326325455636024, -0.34387654131530265, 0.37699549054337744, -0.25581075270317205, 0.46902640698417064, 0.728890000168325, -0.12410703808421265, 0.07029395762494484, -0.14913650609864848, -0.3621664309721259, 0.5924980499999971, -0.22254918385169048, 0.1679429875588472, -0.06700643844682731, -0.2729416781596126, 0.10624432466983408, 0.30478038048514094, 0.20067780302482277, 0.5014761728914628, -0.0826789831421144, -0.2206676616916443, 0.2306614910828963, -0.05412385056728805, -0.680587332226248, -0.06526359548407878, 0.2500532956075524, -0.10991390481829398, -0.1814731469778629, -0.14092083629021437, 0.07524261358447966, -0.5259406120867487, -0.2542915144202704, 0.49213664094752607, 0.09535712697872559, -0.19058147945120044, 0.7219890787525763, 0.5369544396318554, -0.17342356268056955, 0.2194304611412101, -0.5593747312695446, 0.21360119231339, -0.3075889797203308, -0.43281731992360223, 0.17762676690788154, -0.08646887955492033, -0.4551116691223319, -0.9603854933141095, 0.26775201601522997, -0.0002849316181110737, -0.3197260568193851, -0.31710032631915774, 0.45377628961515365, -0.17037990096925487, 0.3823264249211471, -0.1631074518438094, -0.3642919723560012, -0.37352672349456306, -0.17606564616710943, -0.30879805278267464, -0.35256212025776407, 0.1408584344521529, -0.7791196508892788, -0.21737686615589744, -0.19661308144245976, 0.5025969466184304, 0.7660397774307901, 0.9290480555243873, -0.12242947981603985, -0.4302235387338976, 0.15031486973892647, -0.18967220331216333, -0.19642831920886786, -0.3125907387294476, 0.3045857021213337, 0.6937885192350159, 0.393897463472099, 0.0767816989543101, 0.9641144069618892, 0.6191099380572948, 0.7455924515870527, 0.8324445869011476, 1.3018130023759356, 0.8225247631681063, 0.2820875027486546, 0.44811632659614326, 0.19353897864397512, 0.6081076514133502, 0.6525671331123106, 0.5052429059840848, 0.2089573950454243, 0.27274360460814934, 0.5740808430124509, -0.18396778104091402, -0.24196082424663484, 0.42990795196137754, 0.7535429938547091, 0.18535306262203677, -0.20910568717193634, -0.03333002261515117, 0.10370478772740653, 0.058072619707749976, 0.19236583274788588, -0.0727828750592712, 1.0652812106627705, 0.08267960989295366, -0.01901574120898264, 0.7658024115903717, 0.36993655472940684, 0.08329897054716026, 0.22284829889508068, 0.04648916096050066, -0.33924691367877086, 0.2696857792615588, 0.14621456126916366, 0.14990245354512746, -0.42264288048586285, 0.3821552314251746, -0.09852114531482181, 0.4693491602790742, -0.27078819159746415, 0.39786491732941154, -0.5188387068272498, -0.31302719932957435, 0.09622211999188479, -0.21713821040523126, -0.20463891828192352, -0.40670405760734407, -0.23378895857711968, -0.47794490422919045, -0.3392315880373443, -0.11705426210971348, -0.3513137608553541, 0.08751530916100732, -0.36105728947861576, 0.3077083967393079, -0.08716718377270129, 0.08510005670308961, 0.011868011616002018, -0.06987020539396407, 0.45762287808286745, -0.3405941657248463, 0.2276526707821665, 0.33057468331094264, 0.3845185349156475, 0.520610554428826, -0.20879548088172797, -0.3119244892983977, 0.415974750583156, -0.2802023396793558, -0.038979061010353505, 0.2274219825301995, -0.4435827818258837, -0.012356368886999711, 0.12588945756111408, 0.29926357892957145, 0.558106922553968, -0.23118223803096893, 0.18254312217333293, -0.3968229383231024, 0.5902362776846563, -0.3942933186674522, 0.3675803873146638, 0.06167497776613566, 0.1469696355352505, 0.08322674692664278, 0.060156410376480576, -0.01772224392087905, 0.5571326139587186, -0.07264107070224544, 0.6459835709217174, -0.7207859585298596, -0.15927156368642773, -0.6529884217648854, -0.017412895285130223, -0.2177537028709012, 0.8755737685031861, -0.5656479402341447, 0.22489062318745798, 0.6615377200555107, -0.12958314790746142, -0.5207152942980002, -0.18407357961182969, -0.0012289948500378164, -0.5083103763752421, 0.21439088762948091, -0.17134091136851948, -0.15542360594935062, -0.32238232850481546, -0.11054087226119653, 0.2723145907314751, -0.009614709997055246, -0.787158417033418, 0.7986236069324799, -0.11337746064272242, 0.0021862292002085915, 0.07001932866720043, -0.4523613286503077, -0.3411811556855682, -0.6849177361709721, 0.4189119922808936, 0.7044850288991678, -0.13826759164817384, -0.2635814615009478, -0.3262626488184873, 0.5736995386940821, 0.008549143862245727, 0.4330855917848057, -0.10818617470651108, -0.04318274093244651, -0.19970716986034215, 0.23083470545414442, -0.08293986713819856, 0.3523151101273442, -0.13614515333624605, -0.6523119404566764, 0.7493937437627014, -0.5371059997319084, 0.07533649602577629, 0.4661995023749603, -0.266990604715703, -0.08644096455205813, 0.3722934504739905, 0.36561884259736693, -0.3447926450083079, 0.3897485788089334, 0.08067917738350655, 0.3393668275292957, -0.03554943598925343, 1.576799091348946, 0.5328182679966348, 0.5956545831702386, -0.04711948601297797, 0.26763440779884357, 0.6771480285745383, 0.618739515058643, 0.49439934434849725, -0.02039648859135252, 0.1654766722711499, 0.26875835034784423, 0.8369575011942494, -0.36880853552847537, 0.4332173875161673, -0.44884544515081093, -0.3291868105299657, -0.18110445915755355, 0.04174553695449122, 0.22360115737953878, -0.2920776286515179, 0.7012922110412912, 0.010514680470202714, -0.17691232769292875, 0.38290011854967293, -0.3393725912912368, 0.02314674691528002, -0.20691284659651082, -0.139366742578039, -0.21073934539600656, 0.11966090784824497, -0.060421465504237486, -0.12431471321575974, 0.2504112866250432, -0.19310771203720972, 0.740427478183008, -0.4475203035401771, -0.3750999097527002, -0.09458847162974297, 0.5670866249736197, -0.07194548244807722, 0.42926608485087725, 0.03757451239475426, 0.07178423583084276, -0.15351610056565018, -0.132706774431918, 0.2807827237886871, -0.18363905851907558, 0.20245457764011163, 0.20247668122609594, -0.6990075883212987, 0.5794568183411882, -0.2351769115228161, 0.1671353633897351, -0.13597849395612416, 0.007668257851229959, -0.3583879426185132, 0.1531118554000325, -0.11788935295616346, -0.4812947646628505, -0.5730692683965674, -0.4664598736738776, 0.8921744986229018, 0.3736253842281111, -0.5198589295360527, -0.2643997537314019, -0.24352596232376122, -0.1312541848039233, -0.055799438031069064, -0.3640509040666468, -0.26150139296254377, -0.7492011013733811, -0.1688157691917754, -0.5367665425475706, 0.1585667849643364, 0.10671078556890054, 0.01737865732723117, -0.5082189902231568, -0.21268581379192014, 0.19782957989913932, -0.5518357502461096, 0.28756312990295246, 0.16231911384812514, -0.3170450587878512, 0.33473994241410115, 0.3037431873429727, 0.06792659610471931, 0.32397489032941584, -0.17985093115131753, 1.1043708100607146, -0.2957198628267781, 0.16927684780112318, 0.2649534027554761, -0.6215496911372169, 0.2795863590297686, -0.3079610514357341, 0.09722469680396195, -0.22206416361266634, 0.3672747181663092, 0.12305225869777907, -0.0292687086953329, 0.1536369793767264, -0.42931811933566216, -0.2582506875715069, -0.2886453900587401, -0.6100248812108088, -0.21402757381139792, 0.09396641985166292, -0.19735047914683504, -0.09540910586850762, 0.7860533825043509, -0.4325742945888434, 0.5571660116859791, -0.1279664025038568], \"y\": [-0.2484375938811862, -0.08761241151080304, -0.15186599546750726, 0.049157396357184, 0.2319217471834448, 0.2319713892997369, -0.4000686541516871, 0.26365578415257634, 0.2393240654142804, -0.07851331943733793, 0.15707458964013554, 0.13407538816003822, 0.1702046626118686, -0.31719886670815695, -0.5459598531724048, 0.11506867341579331, 0.35147692236490574, 0.1687387184898649, -0.23796437882144914, 0.025344902429457035, -0.011956231006129608, -0.0021021500126732354, 0.09482990401988559, 0.04550033310142928, 0.30112816935449765, -0.7732962668258023, -0.17817625881271876, -0.5332247851480915, -0.075720174825648, -0.03858815502063792, 0.46118116307135104, -0.02354058759466558, -0.005951771443691538, -0.33970429606627395, -0.43576240686693846, -0.23764550298222695, -0.09728169121984304, -0.002418761540800174, -0.5352270774178971, 0.5570273893344317, -0.319508306156202, -0.2786741308955317, -0.016452816130860876, -0.1224212703381586, -0.2603297769569146, -0.0754359704691655, -0.136300601644388, 0.18921023608472956, 0.25016683136303197, -0.021104342331988508, -0.20807040684542774, 0.16421486686534417, -0.012746138743399532, -0.2234397568932471, 0.5361616476558533, 0.06695862772869461, 0.030892554104322633, 0.1686180601938279, -0.47108628296684735, -0.016414718581294105, -0.24454773863300375, -0.10623100082863535, 0.5851949667648911, -0.15681761316380763, 0.5181698372309224, 0.027501513337535907, 0.25620950131055026, -0.22973060396497735, -0.02468111540583227, 0.10399421668997688, -0.5827024769668423, -0.0012763820123621171, 0.14519627548320227, -0.08826951797268649, -0.4647502326368526, -0.056578511752050975, -0.15931749740012985, -0.3386370653730749, -0.5005352582692258, 0.05791177409055683, 0.2485959622507686, -0.04808980499908959, 0.13271421014206503, 0.03300517517180939, 0.04208228683020302, 0.007096781722677416, 0.3468603361893856, 0.22395204984665662, -0.22106239638465253, 0.20348350756860695, -0.2900529838268165, 0.485483399285932, 0.08447508453372479, 0.43466999745500257, 0.21185270956745478, 0.1915279421700021, 0.5244746517496173, -0.02791222598985155, 0.3203336202636814, 0.23012160085270494, 0.2361221260659159, 0.5350765537063842, -0.25677498410304295, 0.4551110438413286, 0.3199651114735804, 0.5549773150888997, 0.2649992284033384, 0.4229496424765546, 0.4677657806811641, 0.4225242066600267, 0.26328530964632113, 0.15784483030319363, -0.15678794996067208, 0.21629749181246125, 0.31095648242222573, 0.2907160464834083, 0.3841000652658404, 0.26348988755075214, 0.05315135108054999, -0.125264204858202, 0.19559014650486223, 0.020856226507012406, 0.3935331295746088, -0.13211884022587997, 0.028635928602320657, 0.2810319083687727, -0.32452030869960474, 0.052473998522479644, -0.04989564825513978, 0.34323073958563605, 0.23418469612498072, 0.4784224757672609, -0.19267205690876643, 0.12003254381732327, 0.21802669211456985, -0.14839355486967604, 0.03569403507553481, 0.4797327943650724, -0.13464073826853298, 0.7176795408802333, 0.2917109770829594, -0.14986595360589017, 0.40743808813346283, 0.4771683172704807, 0.3912481097744869, 0.34489839518055854, -0.291025284626223, 0.11357404483567393, 0.07290996960092368, 0.16965309933098216, 0.4150168908085969, -0.3121270979736172, 0.1703601445689357, -0.19238521808023962, -0.3831871544634719, -0.9012685001830408, -0.20960989669435734, 0.1674838479012913, -0.049569941591845836, -0.42615875814077875, -0.6391515811536711, -0.449114314609866, -0.4908543983085484, -0.38442718382238394, -0.24668177747840045, -0.36723378687771796, -0.6022527213197778, -0.939912928461547, -0.020573305101015512, -0.5121862018498223, -0.17718149030799304, -0.619389638737552, 0.4886421263432086, -0.1656097968105809, -0.3869661590568822, -0.29007639279725045, 0.14452231771082022, -0.43053708477285424, -0.10168176329017695, -0.1859128794473198, -0.09169905665254878, 0.16663005175891113, -0.5297872251547813, -0.632558294543243, -0.49628716204937445, -0.41456741971137867, -0.7839065627326096, -0.3127129095556699, -0.08194834139131392, -0.43546348475499286, -0.439764793169597, -0.2661267119092573, 0.26170524450796895, -0.12341014638914413, -0.13925807800600884, -0.2665756628359206, 0.23508648639678525, 0.03948008005920769, -0.2862694255986759, -0.20978767587341485, -0.2213829923615556, -0.09088644725181505, -0.34257657298395977, -0.4627433259996764, -0.46312858647438576, 0.0289473562254614, 0.04842451022772141, -0.7863523861774213, 0.1213220210359408, -0.46064554804251173, 0.06900809905735972, -0.20916339086282992, -0.15897359014239695, -0.32520389523263366, -0.5110693987284702, -0.17375792340848936, 0.6495550597436632, -0.16479944127626753, -0.5284869528754756, 0.2960794573529914, -0.21146920572454866, -0.13350349960148492, -0.20108878287047133, 0.1592459203394088, -0.4775885603057947, -0.39887426027712625, -0.7092314381500205, 0.7496255527724732, -0.40995261573664343, -0.4219319948529413, 0.20770086340455204, 0.17812735673422342, -0.13386600841803883, -0.31996248650517567, -0.4501043908521222, -0.5085839716805992, -0.8434810211083285, -0.04270763537035212, -0.18215997404460385, 0.04417350864270567, -0.16820671876088306, -0.20644463179978584, -0.24145428075584946, 0.1044664725080306, -0.1617171920311094, -0.26895434935465445, 0.38984063406247443, -0.5516647557166229, -0.2269761897459657, -0.4225942829725043, -0.056646886949394334, -0.34846737630309566, -0.25784126367417126, -0.39990798255190496, -0.10088316618713211, 0.24965799632338953, 0.09644169887900887, 0.7548714894796527, 0.3819387836148897, 0.18503854335795197, -0.26404613328397886, -0.08803813180595135, 0.2736729312809116, 0.692047589131511, -0.2174681864906433, 0.47366048506951663, -0.22165546625741875, 0.4026841337833404, 0.4554538513453666, -0.09437842113999781, 0.5987686800284759, -0.523058481102965, -0.10226561677447651, -0.1110851580596574, 0.16780115611283858, -0.0017705030333405867, 0.022975795486572363, -0.27026797536683755, -0.1545312077302022, -0.26662200556443627, -0.17426078641692094, 0.4880973812151243, 0.25284614030126273, 0.14639040238282494, 0.2680379266660569, -0.2590705557907344, 0.2995508194796065, 0.31026287445883677, -0.04162266617504969, 0.13121756010975602, 0.8615731266753166, 0.22832230019063712, 0.5312886256671517, 0.8510204164608307, 0.8862588657288571, 0.12476671192497465, 0.2258783577603376, 0.1586556297401338, 0.21359535309730066, 0.6669891332088276, -0.12246209990169075, -0.34310962745832085, 0.797094457385536, 0.24856369123085148, 0.0211942079499552, 0.3183688408750559, 0.3089040811286289, 0.30360360459209307, -0.0967134912982353, 0.5344156803928587, 0.13532186528031204, -0.6532905457351628, 0.2746982672343148, 0.10700545552871613, 0.18747142616113585, 0.6482510903940412, -0.32014390482815724, -0.1913849166876482, -0.10528522855071154, -0.38090320194863936, -0.03603060435341499, -0.6381209659419107, -0.09003785146704968, -0.06947448180418184, 0.412091830529019, -0.22846405683543577, 0.033063975244895585, 0.14567737449171447, -0.23945733460948584, 0.1108668812733951, 0.34197434227387546, -0.1342306289943718, 0.28430048881609443, 0.3674501776057363, -0.2291331468909068, -0.5884295460451983, 0.15190861298777825, -0.14362502200617644, -0.053049804782707884, -0.37246143859307096, -0.24141045427820712, 0.15810494905999345, 0.19290476077200006, 0.27286971867576254, 0.0417054209493628, -0.11462169147985299, -0.10473255504974392, -0.2861675958523852, -0.012356876960832819, -0.07158895173175217, -0.17980138523458342, 0.1405764674730727, -0.3457212807912984, -0.06546589012098421, -0.41151489331787855, -0.39275120539268377, -0.42848632885632865, -0.571670335315672, -0.28786633918820337, 0.13386027062163217, -0.19374517634484628, -0.5448607901624015, 0.27539440528095116, 0.10413928382865702, -0.5106600050771356, 0.0394322425095963, 0.17704110731775977, -0.01732902944805177, -0.5017021992319493, -0.4029784922656431, -0.888747283116195, -0.32013201602941654, -0.12319594585312474, -0.1269087609167759, -0.06369744346505532, -0.2988855691590776, -0.43493544275132606, -0.7224928505544531, 0.17968953639950935, -0.4125484863789346, -0.2886128340442755, 0.267635888633735, 0.33349895123171336, -0.1375982654377731, 0.20419148373304497, -0.29930863385875817, 0.2863839218432456, -0.044721148510875164, -0.061983711877134536, 0.5372419332221952, -0.1106628621532171, -0.0058788824766406855, -0.19662610932901106, 0.2760338931825219, 0.8232223541513418, 0.22896175773588182, -0.1838441309913878, -0.18156457213991856, 0.10563199859518219, -0.017886035139167433, 0.06803855188151123, -0.453180202142322, 0.20052700845647053, -0.1585064769015944, -0.2717937087205676, -0.1626598115212028, 0.49655938560354074, 0.4649776365880738, -0.4695904178307352, -0.09572594613435872, 0.12160058925139265, 0.08668961970311503, 0.23603650008516847, -0.2920031374363802, -0.051035714358084995, 0.06101212891209225, 0.774661749406443, -0.256220975637654, 0.1556686065600308, 0.7620213903859321, 0.5700157786724017, -0.01970981746723477, 0.6090312616306683, -0.11227149325892659, 0.06395034753286766, 0.7135741255567786, 0.4326186877669854, -0.1550293501024107, -0.4666719104406902, -0.12674282125383066, 0.40473749869825326, -0.14427351164288382, 0.28749768718194374, 0.33249390609166546, 0.40282474292648646, 0.16006576088437965, 0.7138803971370515, 0.0585556731412707, 0.5249376865278496, -0.11028881659426304, 0.3103580595258831, 0.08514095370786225, 0.458120717917161, 0.1523184939164624, 0.4184166537949907, -0.03157323681487413, 0.3899008144892556, 0.3460613121000538, -0.11401586587754514, 0.5471797176354, 0.059124105055142546, -0.1810108795504749, -0.0619101092103297, -0.17629249680640274, 0.12269195501256815, -0.30194728916610436, 0.0202442235244685, -0.3894010420786545, 0.0991821730288872, 0.7194791517978424, -0.11041391340564728, -0.09968320024614188, -0.03650390391484167, -0.09647795029572145, 0.2746719760595438, -0.4687804590042511, 0.36010576967597147, -0.13904177776479085, -0.33203744927058276, -0.10591319101012765, -0.08140732244410769, 0.01774570872269862, -0.5710885981718534, -0.30530354283690825, -0.6940169633721938, 0.11516908520299983, 0.14915180243508977, 0.21784861016142698, -0.021449707853736247, 0.8423177993270633, 0.022127920376074663, 0.03503715339997325, -0.2015436282190664, -0.14969894461583863, 0.015232218847317599, -0.796499408014431, -0.13488036329323447, -0.18504023391327615, -0.3186638017118428, -0.22635578370254353, -0.12880969245442028, -0.38140108325503425, 0.3085597894733508, 0.2625472823279571, 0.38627048045613294, 0.19107551249043417, -0.06088717900281347, -0.10411638016566943, 0.6408927144052916, 0.09738252734940687, -0.26735195072050894, -0.15270266127869503, -0.06783098566529216, 0.4287041027112556, 0.2500655357938035, -0.3005278487398025, -0.3435454737733285, 0.16134211262155954, -0.05446386155401261, -0.16880178917788996, 0.40535855446770674, -0.3083315138335307, 0.27527226588109, -0.30883048369422483, 0.900624991698849, -0.07386806661621938, 0.023428046270728888, -0.1252670405487016, 0.3502448934995201, 0.329959116384621, -0.16269259415221282, 0.19243542097728972, -0.08006221758117582, -0.19590098492127098, 0.15387782740681183, 0.16997818560228914, -0.18293728322944397, 0.3769271940108028, 0.15019143226615136, -0.13278274516997407, -0.3261617042990045, 0.1648682200220741, 0.07894613340937508, 0.298372718216501, 0.15914721987448852, -0.09461647988044926, 0.22824152706175205, -0.4437446653036616, -0.08510291244908753, 0.12833663458665862, 0.40898086406656037, 0.14960218467289116, -0.23924476130339173, -0.10359345895147416, 0.15397031956034157, 0.4472414783728188, -0.06917673708482906, 0.1806970567893366, 0.32522951355645097, 0.5217787476235468, 0.20745217225377094, 0.009160937594797837, 0.4464085997909326, 0.39178254114263816, 0.2345220207122057, 0.48093468446021015, 0.7748600432125962, 0.15109823809223952, 0.8043183186558343, 0.7451630859666846, 0.8885193271517223, -0.025501598798660704, 0.11354220374542551, 0.12661602421643822, 0.40664288935077275, 0.13623325226895097, 0.28365387201281084, 0.12669637933185882, 0.1452387982049343, 0.5265570878144058, 0.19128430791459455, 0.09993584691479382, 0.41869358039203913, 0.3115446451563728, -0.437923684470834, 0.6803727575867056, 0.242693828283223, -0.020663138535178753, -0.034425409094799436, 0.13831847873046738, 0.06053545307150623, -0.050090289602795816, -0.42621424038275535, 0.21581598244354447, -0.08505479794530292, 0.18018805426533485, -0.10265155342989965, -0.12068865992363675, -0.05039390277117172, 0.38524366305057633, -0.07469363917983807, -0.07698626381820318, 0.0464690650403867, -0.05589977187533542, -0.046116566904061324, -0.20823195548064793, -0.6445870102058499, 0.10218845610317456, 0.07282108144153217, -0.11343283889998913, 0.050407752595980515, -0.2750976119638354, 0.3807075082963905, 0.18229348990587607, -0.15235600738142552, 0.08618331658329674, 0.6152983441196387, 0.5232650125168556, 0.3708251699678563, 0.2624109777985191, 0.01674646186473988, 0.6196997510399036, -0.08152694184311692, 0.4488466812238444, 0.5949814502136277, 0.03324674645669385, 0.18386854362624575, -0.23243265824657786, 0.04604837159579457, 0.044698759660021126, 0.30709538346441373, 0.5491873456365388, 0.0984834810006854, -0.15613911204428285, -0.05824031312197379, 0.5750101517687716, 0.3098937061867474, -0.15830308107607818, 0.22758231618930072, 0.19395315022873322, 0.4419821471385598, 0.5422888690265636, 0.07314751101444952, -0.11827886600906942, -0.09632934781265301, 0.018903589721301368, 0.05064810565662097, 0.2430721578307822, -0.06820937028367315, 0.047186847075560485, 0.28015054167017606, 0.21488210623676138, 0.6218316336889304, 0.05561600425091152, 0.6111005185800191, -0.17152225419633976, 0.35493368042641, 0.0598476118193756, 0.34634751510375955, 0.2547511464891542, 0.10357924435067267, 0.7842481239100513, 0.14519134860745236, 0.4545158052418721, 0.15232423967195968, 0.6012643437880015, -0.05920984996436818, 0.23925433517062017, 1.1711608560231537, 0.43142666439904953, 0.2976561002278383, 0.01800937582073477, -0.24564839206372346, -0.0397296009161217, 0.2673631975342999, -0.1500779750517844, -0.4251022571385538, -0.23567958099974345, 0.20238645656618684, 0.1383330515424065, -0.4117620521932361, 0.01816751827164304, 0.2584686762756392, 0.17579887463635277, 0.298860899251986, -0.06477492821184037, -0.2388882988450119, -0.12012024862244235, 0.4221236314796044, 0.10010774907621028, -0.13064720702737292, -0.09885290068145595, 0.2608453582215981, 0.41043557034550776, 0.6593052801136644, -0.02045246604890741, -0.16381674347574054, -0.12115230103499355, 0.3308301657889528, -0.07618279710508487, 0.5487822544878146, 0.492913318724306, -0.19773913515406613, 0.17099113646051092, -0.16743646550918234, 0.4918179593155693, -0.2981720738322466, 0.05170240965947199, -0.2710638487967883, -0.007280392566982483, -0.5157055997136838, 0.467103523254245, 0.2804521509042937, 0.3939249449951074, -0.3218833728213559, 0.17109128064621568, 0.44077640119108774, 0.4543076586753418, 0.4189422618532864, 0.7846085084275869, -0.18927430945133533, -0.04238941999737128, 0.22394982901440302, 0.5638710080613732, -0.6928559460470396, -0.2047266766430775, -0.160035674018466, -0.23919090263381973, 0.06845086750862668, -0.3823200822009117, -0.2726354572677817, 0.7275085253440847, -0.7116815191131218, -0.6038682927207425, -0.5281717399996121, -0.09958262761833334, -0.541596973346637, -0.2780593236355294, -0.5570571696175057, -0.5930958375582501, -0.4757474056521108, -0.2135160610271671, -0.3561072941591805, -0.4489563273093906, -0.35664441292545523, -0.5471358966997306, -0.7738459078258091, -0.20733108089529606, -0.21484241877851232, -0.12317756309633643, -0.6483111215140198, -0.3698867493029257, -0.6570113203034498, -0.38000187498187804, -0.6231519105544198, -0.28987373463553845, -0.2843330131594485, -0.40952176816031216, -0.5729370341861103, 0.11923526085723721, -0.4767010482554732, 0.29035602658157955, -0.2559863390618566, -0.7368304124565458, -0.4854947933982345, -0.5017431792508077, -0.4848397776261164, -0.7802964816190787, -0.9104011309329202, -0.3548095119689656, -0.03308819162613761, -0.5212675573412325, -0.3737804773885968, -0.625990931100563, -0.15685603047099278, -0.682715219642867, 0.602002234743416, 0.38790900131097206, -0.038957711102832575, 0.2960275557990916, 0.4068109413942167, 0.3636460184879944, 0.26639028467566234, 0.16294450853208967, 0.41081547504356, 0.38162468184335324, 0.6855899740612329, -0.29525491140201593, 0.38008566436992286, -0.06582876592908131, 0.12886351588586545, 0.2835857955079357, 0.3575288966042353, -0.04877457075025676, 0.8337308475614477, -0.27151211142679094, 0.2556393972345801, 0.045763764495949794, 0.12941208435217383, 0.2139818426033007, -0.4391333004003404, -0.24085949883619595, 0.2441685831141849, 0.12436425947405849, 0.5438135146850683, -0.09846868415985688, 0.44479117265954904, 0.2298843443977555, 0.19929976551061565, -0.15267629547578887, 0.25201023398052963, 0.008482692510330314, 0.005364276444200928, 0.19711582368124875, -0.1320014034923157, 0.6252033961528866, -0.07829797696533708, 0.22568365824647216, 0.17722884436795502, 0.07822588013231675, 1.1893541242969923, -0.12804978665266495, -0.5557752719735457, 0.6368637532186435, -0.27659713403119096, 0.04640208970677364, 0.6822647259308715, -0.09324297377098395, 0.1154300801728467, 0.03979038276025777, 0.5644332881646851, 0.21874106850049288, 0.028206634461672767, 0.2128170869061144, -0.24442595428401892, 0.28861644608850945, 0.032287368934858125, 0.5100836435484207, 0.5734704170095435, -0.04102012770286874, -0.3359918381886524, -0.4259797301404893, 0.34160186628847206, -0.036946104290198394, -0.18368140118293957, -0.014740063924312638, -0.4031499091745727, -0.24428476114194442, 0.6040326184496614, -0.14852759470847673, 0.4311083525722285, 0.1093175525388552, 0.008734977419418855, 0.2795945810734411, -0.38368717696829746, -0.2612398896519304, 0.30203627071322087, 0.25207694403727593, 0.5957167704981904, -0.2855285469208078, 0.15298317176471518, 0.27508703812347607, 0.4667271943922865, -0.25049905932525823, 0.05268165556535695, -0.3385976043822355, -0.6237020408689863, -0.013128961610321633, -0.16958855154620806, 0.05705058782942064, 0.30601235528121884, -0.10741146333129246, 0.16244549195853042, -0.17161165620267507, -0.7140883776993985, -0.17242037676913552, 0.28630634187687276, -0.3593416515453828, -0.2636329308997451, 0.2176812147346656, -0.0017182031104064775, -0.3156373949813401, -0.06734920979090828, 0.1312599019604975, -0.48419654349621943, -0.2241450981258964, -0.1159638418380075, -0.1899509556511479, -0.5347609673169915, -0.6879763999716004, 0.22234248911622076, -0.04938820662422309, -0.11797824028346451, -0.16846002782979894, 0.5485057302213047, -0.04667779933427036, 0.13569735756834966, 0.4222415740728786, 0.04365872128649953, -0.7662002667997209, 0.22668125860951321, -0.36520577620245537, -0.06363174824008326, -0.27852558517480724, -0.19772822010576216, 0.08972629318011634, -0.37977949712600034, 0.15802322974968544, 0.020479924546293778, -0.5087724280667786, -0.04742690969652241, -0.3018344272993401, -0.24485040849534448, -0.4052869153129741, 0.20668234105950217, -0.11364146386110556, -0.24390302150564577, 0.34840191756199795, -0.01050508256465918, -0.3426850105482115, -0.6868089048821283, -0.3411932599549546, 0.04605013551313377, -0.49835493648885937, -0.5292066199967952, -0.20991908158837552, 0.8605228068761674, -0.18496527971336787, -0.6539613605803938, -0.4048746432998475, -0.8775296081886025, -0.463374346426798, -0.5080232070231694, -0.5528226965372708, -0.3893664338000643, -0.3044056661134333, -0.08426540145215852, -0.1845837350367163, -0.11894365424029574, -0.5797992616233358, -0.2573346255904101, -0.44188681454180323, -0.14466517622298286, -0.29237900229631264, -0.28374980102348496, -0.5197051506113068, 0.13891143220254704, -0.1271686463795, -0.8920360337658317, 0.3096844370733529, -0.5482823368000324, -0.07446490562196297, -0.17842217783459097, -0.704658764780106, -0.24943002114371524, -0.35242010841026644, -0.5536424918816686, -0.9194765820593291, -0.049968480991633694, 0.06226439004087439, 0.05155169698194, -0.5015465957171847, -0.5996259908887708, -0.07104100980008675, 0.33759985753518984, -0.07227025276334816, -0.43573517182307625, -0.5032271894973003, -0.39351424428610576, -0.33678775287157864, 0.05287616852691282, -0.6826118631367717, -0.005799409618842861, -0.40717906481506827, -0.2503577240093681, -0.4483390931217715, 0.17274219947557157, 0.34503299759492934, 0.04653021736624928, 0.08273516209607028, -0.14634506808107137, -0.07795868794414627, -0.2544778644314627, 0.007547279375204697, -0.3219140008984787, -0.3538201007981748, -0.3072237397304321, -0.24777717831004217, -0.055835649530464854, -0.21309281355671597, -0.4499412255863385, -0.03822169337653968, -0.3615576108728656, -0.3085589127677781, -0.6400318171119135, 0.9161188699940583, -0.09712963390692897, 0.21734543709527873, -0.10780631300159584, -0.27616665352722686, -0.23854690083316274, -0.12870416617231173, 0.031361385143566844, -0.4921523765079852, -0.42284174606302966, -0.2251390699243987, -0.6491408605514618, -0.3652361128011262, -0.6207793230532713, -0.47860889255510075, 0.10253737558430262, -0.7070390521280802, -0.6000677427332671, -0.9856745135188998, -0.3034577922310213, -0.30778656312093994, -0.005530654085383846, -0.11338763551292495, -0.29975050721212226, -0.4462139196136917, -1.1249945286338177, -0.10207670092342945, -0.5039827091327908, -0.4088056664557884, -0.1463784545994073, -0.2038496730369556, -0.1467294524874601, -0.3107861232487365, 0.11438318667081211, -0.18949777360465767, -0.7269991652346516, -0.5190890223166577, -0.4331707893707798, -0.26845927913097756, -0.4083721916602491, -0.036521278337009716, -0.1921249110536581, -0.5723029435560502, -0.7051187097072843, -0.006893521502740512, 0.2414234142934516, -0.35827990224628503, -0.36500925963925535, -0.3887987013371621, -0.08302064712005894, 0.10573062263375428, -0.21472843754785914, 0.19360083266071135, 0.1278458978702572, -0.7311064543936144, 0.019329872365725854, -0.10401294103378261, -0.14550833423694742, -0.1582648565246634, -0.1681827128940938, -0.5041383480993055, -0.7422394798905657, -0.5019683991917, -0.5728806470235972, 0.4475856968399154, -1.0211050739528682, -1.1667261905156263, 0.06113736208707314, 0.27927132645925, 0.5907073379351127, -0.0681788951110902, -0.1383485684026666, 0.2452812770068968, -0.3022939104512682, -0.17011178198782392, 0.001753335616654886, -0.20215312303423064, -0.24423786681233792, -0.001075860762797013, 0.0470175392119905, -0.18153428150315445, -0.6448678615029241, 0.3027907775385025, -0.27410452469863533, -0.5812053450156335, -0.37061069652842143, 0.2414040450526148, -0.14529603029900984, -0.38252255970364235, -0.2510550121856342, 0.3807461326703318, 0.582769942540643, -0.5301251548653091, 0.12035410965380965, -0.275900777558445, -0.18048888333044855, 0.8343416918907719, 0.16021644032467913, 0.4790200945759117, 0.3953807549164865, 0.028475877845651313, -0.004051785048463145, -0.1250905349468963, 0.027283004295998926, 0.15911282803664856, 0.36545420761213876, 0.3645522337178618, 0.5213109363588184, 0.8889069613431699, 0.12661093665058737, 0.381006218763197, 0.2816605952164877, 0.45540211851426315, 0.16667040435844557, 0.011049374321551958, 0.21087402254130877, -0.02194807649226204, 0.4398454055741627, -0.06173914550883644, 0.019533440762743583, 0.4461322519979003, -0.17419471502621217, 0.7673949620176379, 0.25677115590962535, -0.4382450690439874, -0.0029209416288840987, 0.39940457874637636, -0.5846780879089217, 0.09158730748711158, -0.17919136008034306, 0.0753006136042557, 0.3883458567899391, -0.542490086457079, -0.6064398225429801, -0.21235425837448554, -0.19732453103954, -0.2137697549332999, -0.37288333771744275, 0.20237848185708196, 0.05949300872327462, -0.49776217353123975, -0.10773868543619526, -0.7261155114654715, -0.26836714403777856, -0.3088157258417767, -0.1563939029378957, -0.25014251407713184, -0.42808615928888183, -0.1429213418451292, -0.22647594701152296, -0.023756031362843356, -0.17822226196215693, -0.07561547448927136, -0.3597195199453024, -0.45992445901306295, -0.19052837836781553, 0.4060636608578047, -0.3801119162711062, -0.33963846458601377, 0.03227654561119932, 0.20437797202994806, -0.15817253054850478, -0.08064559077538312, 0.30003935013450517, 0.42546595277498345, 0.024675692914265097, 0.1773431436795396, 0.025083345320704536, 0.1712185303081954, 0.4379897441274361, -0.531581675209491, -0.07751760150026824, 0.10840149212120209, -0.015899086395545634, -0.03782533491870948, -0.19366786488758733, 0.4537769050674477, -0.29459588032994966, 0.06352147107557955, 0.5045958534368585, -0.016279150686166883, -0.1530608928694248, 0.4946952973605996, 0.08170368784744567, 0.1423261095541748, -0.18127733298260382, -0.03604726366042418, -0.3771271915098227, 0.16433343756351876, -0.43707738051857353, 0.05093635817084629, -0.18172756822447908, -0.24228525686942082, -0.3633538047130079, 0.18231595627538583, -0.32707023929499146, 0.12036301849112616, -0.0027085307167137233, -0.8627809046488961, -0.9295243006148748, -0.6475786903952476, -0.7074102438753521, -0.1758170427385653, -0.5375140865032085, -0.9170139207151277, -0.47751927988509213, -0.6542247139598872, -0.34843182081953283, -0.19951210626387003, -0.42584806711523027, -1.051929051049467, -0.24139313954649855, -1.047093830848614, -0.6473163794216694, -1.1936136123919685, -0.46136528270246296, -0.6388467834501547, -0.8918766226310256, -0.6078538272538228, -1.367782511301321, -1.3215845164228637, -0.7806303573797447, -0.6146468211007077, -0.4140878957944922, -0.3508745977946486, -0.49013598456415536, -1.3659295033737044, -0.8856647898422114, -0.8497248856648634, -1.3895319718882735, -0.6846111888202775, -0.4536689448944712, -0.8000871182674806, -1.1926335339854737, -1.0538381967047663, -1.101319600749144, -0.5617486747753455, -0.7944949762828127, -0.5627354964695722, -1.1299038334037326, -0.498786434941673, -0.6663096855563698, -1.290892020360006, -1.2168217225630182, -1.0433283751168092, -1.0491940492360374, 0.225474496908721, -0.6770485946755214, -0.5272644220489128, -0.9832383822113465, -0.7401993365242351, -0.5108225690777711, 0.7714138060357403, -0.2592438230668478, 0.0027048493432150367, -0.717275463250884, 0.0885495262582563, 0.31275646682889147, -0.10976030680106112, 0.2437828798890175, 0.19820432386606646, 0.4528279203155606, -0.13897802981363835, 0.13386288640620891, 0.4854919343169359, -0.36393652067224624, 0.060646710338123355, -0.15996061719236704, -0.1575548551025257, -0.06412406476172415, -0.344134179620696, 0.06768158046141971, 0.14859319922965886, -0.04983773904804439, 0.35004227253451226, 0.4517255103438289, 0.7434686077551925, 0.3255761052634192, -0.005063407299982907, -0.4588205134812782, -0.12491478360140497, -0.020489027776449023, 0.0917024335643731, 0.004637884070202125, -0.2111347102163355, -0.28390748316435555, 0.09933949623484212, -0.1173921522421372, -0.08920033120055754, 0.10225652712057633, 0.08949193076456158, -0.09781907182013591, -0.31249707560347256, 0.452962062987629, 0.22797167223801498, 0.45231019573014286, -0.27459916787797134, 0.20999304122690507, -0.40879887814849764, -0.05624119606977717, -0.25748028263231904, -0.20183089863550024, 0.07102077356894461, -0.13370336452354248, 0.15074890096985025, 0.012289920175372388, 0.1937463650553922, 0.36340661124674234, 0.22060292101881016, -0.0605067488077978, -0.18824590435342176, -0.1155137195390319, -0.14964498554562874, 0.021534766595542324, 0.30224058513439434, 0.26397172217567233, -0.14340608024992757, -0.2603610668192403, -0.10807906218473469, -0.3009698012798857, -0.12413010267079402, 0.10965507842375856, 0.24615967883857634, -0.06872723547268768, 0.11885351106807901, 0.2719366414391297, 0.3420559982631795, 0.36133003342720504, -0.025582490040487564, 0.13801633218985873, 0.1266384351062031, 0.46701802614350385, 0.38418534677816096, 0.27877788506147716, -0.005398760842915172, -0.2127415117881349, 0.17890487593416188, 0.36825754559184376, 0.3714212330893127, 0.28375088363489814, 1.1127225242683694, 0.4706705691607229, 0.7670962291211596, -0.2598199685449432, -0.25455503229008886, -0.03155357099340964, 0.5464543455139707, 0.42386701638162855, -0.3292453671636678, -0.08704830097168265, 0.4096246879814999, -0.11380668592198334, -0.32207958064663716, -0.32269183329667234, 0.3094925678483886, -0.22220808019437757, 0.26496031676479664, -0.5161804733906935, -0.25809260017326796, -0.14487693740615656, 0.5163907138853339, -0.20746570707865583, 0.06303868913547812, -0.060028754813180256, -0.1386823060628122, 0.16109513935354405, -0.14022437562135873, -0.06684234387238737, -0.19107606605089308, -0.4731828070668915, -0.08094028249354025, -0.37071048761721215, -0.4341942231709492, 0.20945751928132286, -0.435869761802689, 0.27586998397413365, 0.5801609639164861, -0.3407102500467384, -0.11245942421675292, -0.06775486088619018, 0.3534376919480032, 0.33779705472917076, 0.296335952481006, 0.5508844371922146, 0.04074178670485026, 0.26870102921831746, 0.0416698018537927, 0.025850440078417764, 0.14698832066805181, -0.44229701182506964, -0.15131622285010904, 0.040268033715536784, 0.08714373063018381, 0.17914250758314573, -0.33718273858533354, 0.16845734000711152, -0.1329228518458573, 0.25326680165715587, -0.11875781402702969, -0.36460412017078253, -0.4850786359589781, -0.3171338784476079, -0.2845831097651222, -0.14352960721406036, -0.09982451429386352, -0.28430689404982784, -0.2694739025527822, -0.37757533445618835, -0.1564529551738895, -0.029164068562836577, -0.26146981521946655, 0.5363587996261601, -0.17259800305132705, -0.12380014754357015, -0.0186186959028989, -0.053491027554209744, 0.036520768266489395, 0.12361426700692515, -0.08612932006373185, -0.2698565688542859, 0.347079042344288, -0.1498898949419851, -0.4313472812067236, -0.07886406403213361, 0.03064704883958799, 0.39682154245589824, 0.03909897860030996, 0.5904169104111425, -0.09194186440229951, -0.543267386986247, -0.30904953801475366, 0.003178165889932885, -0.5819985389669211, 0.3651211443648565, 0.2496305423294417, -0.27624027827018294, -0.02909664714070179, -0.38441069455720495, 0.12251133634348331, 0.55574693179846, -0.34649976370665636, -0.25977464802207273, 0.06801163592124264, 0.5528935880783123, 0.19574192148591218, 0.8065267475474155, 0.348501908246729, 0.443433172913816, -0.07970363745866005, 0.2502274061500187, 0.03846261045128589, 0.40020635329477033, -0.22847297585278573, -0.03067590605271059, 0.2985199453488613, 0.13145963361015092, -0.6055688236901375, 0.20654245722842549, -0.09845633789659597, -0.40090900771288907, 0.49578989177817134, -0.33976659267714915, -0.34743425933002464, 0.43771614473625925, 0.19183459966458574, -0.19147007109880998, 0.7502217906676154, 0.03135388689936776, 0.21676494430784157, 0.6463467301539312, -0.25050653228095693, -0.38115700447382134, 0.2204660519045221, 0.5456514679276998, 0.33647858676802894, 0.19607354974606445, 0.5391290801766663, 0.11342761315040252, -0.034947647939179476, 0.5217295454670614, 0.4762302914703586, 0.24331652635870943, 0.17906700808034598, -0.1880588770676958, 0.3202314988726216, 0.36777402001329773, 0.5149537715512535, 0.2743082577960224, -0.011895271693286686, 0.3335104822582005, 0.4040420701039241, 0.1469428898648227, 0.40011034309791005, 0.02038374570697025, 0.05274017871615833, -0.24546358493604595, -0.10636682126644208, 0.8438245566287698, -0.22021419933167688, 0.3957172119987556, 0.2155242286248419, 0.43318940280782053, 0.3371092900672797, 0.4006969514525127, 0.21730499775212161, 0.14442806764905455, 0.15239297869364707, 0.4628364810694434, -0.23813113521462567, 0.0222206792484831, 0.390947822704924, 0.177151533742463, 0.08652971758735133, 0.5089616496591602, 0.5379265998266539, -0.2615024746625731, 0.04368615854437391, 0.5425104983305952, 0.5674826401033405, -0.3806076241811948, 0.14621883314470033, 0.7876163221480648, -0.035206969965145496, 0.23070747063912805, 0.3106714616765635, 0.5137460252954927, 0.6382925045495014, 0.5799679409434398, -0.04996986374612314, 0.3217800210285908, -0.1301498828695717, -0.04059000120251714, 0.21852066456784927, 1.011853357251084, 0.10780728086675007, 0.3466635865307487, 0.09570037426661833, -0.1962582091721456, -0.023219595631806086, 0.03770206820876277, 0.09000502474046505, 0.1636304543113935, -0.2693845046286798, -0.27835808160048564, 0.4672365811926826, 0.17661967721291497, 0.3187736592993496, 0.19151640169213396, 0.3441872398493004, -0.19288955669857655, 0.2702169139068757, 0.06371523744309944, 0.09038553824272867, 0.027287782542608396, 0.2869297904964142, -0.4157308703822033, 0.09533717365499919, -0.14836837860026914, 0.001649899275747403, -0.21094608585117328, 0.11256277784530357, 0.11409216637712769, 0.06893981256623975, -0.15381239374972808, -0.2842118974200328, 0.16150530661645607, 0.05228200385298573, -0.10217073551071125, 0.052309989182119966, 0.2878848174645693, 0.10886548043771657, 0.7320893066652909, 0.15915448306695454, -0.3739299066487276, 0.3268302490590833, -0.08377188046556557, 0.2068914043522419, -0.18150507643681169, -0.2055581513454542, 0.14960691804103718, -0.20478846872030698, 0.04187948332735052, -0.012788091129231531, -0.14275040717494705, -0.26350148922096683, -0.11382780671246265, 0.1679720067686086, -0.26056568068755864, -0.20380881207368734, 0.056630144054141726, 0.5218488010005294, 0.23780986642605245, 0.029288541664171875, 0.20256461312121254, 0.07505511235730672, 0.08975478361520907, -6.7220967076128e-05, -0.4714487850546814, 0.02230367067259415, 0.16980789935080134, 0.31119363356181645, 0.7437352508169313, 0.2833291643858529, 0.2477255943597442, -0.22660145636042484, -0.016285583454786298, 0.5217203716384188, -0.1544751600282973, 0.3103620683739945, -0.16247934202127887, 0.18239601165595254, 0.1483066390359908, 0.3263200283689017, -0.47645656253752805, 0.2938028728949987, 0.3354898990970881, -0.40104531073194766, -0.017213563761378836, -0.5161865710750101, -0.5074159945468006, -0.7336219940331143, -0.3645514702797579, -0.7691232895108814, -0.37661204230943046, -0.6179200576301379, 0.20973153846049056, -0.6933389253793221, -0.15062237976040513, -1.129168700432988, -0.6790280658900085, -0.5116976366886347, -0.4629036192704323, 0.16127493714088423, -0.31256160226490987, -0.4951442530993528, -0.871072071390489, -0.6554403792569292, -0.5526294116710848, -0.48506528666241894, -0.9788417228457172, -0.5181252552351265, -0.6034275162164454, -0.5399927248441361, -0.7590002054472996, -0.3507670492184519, -0.448846322298825, -0.20742214835198444, -0.35441430529270473, -0.43478295074617457, -0.5133528516350889, -0.26991546286865326, -0.3200156883398298, -0.59511951731455, 0.08333596928593798, -0.37857968697321376, -0.019743973538251573, -0.5235780451396154, 0.4686044935287054, -0.21583605400732728, -0.22888775844260603, -0.605645038281768, -0.6759331101371281, -0.10632187493052805, -0.39972920014377566, -0.04821367938534836, -0.41333342834918585, -0.7641664010077031, 0.2629571089705203, -0.07734240653630708, -0.3157840221219713, -0.35959449820449085, -0.13702918911655784, 0.09085721044953259, -0.5650599680471414, 0.10652296960924007, -0.327824559142409, -0.7745754358610698, -0.24692015295107086, 0.05481551244204117, 0.25528338627215513, -0.3078712059005759, 0.22721540189620482, -0.31933520607111465, -0.4097323346216265, -0.08973813882208705, -0.6460150938294036, -0.40227636665141975, -0.31778166574537103, 0.39455508261161837, -0.1844063610903012, -0.1974660999280737, 0.056239330631850784, -0.8006888629911325, 0.02490564716771, -1.0643523359770024, -0.7077705659219751, -0.664560391083765, -0.303398804267328, -1.013688130430156, -0.395957047879723, -0.4197424593840063, -0.37150665948524375, -0.4688304225968228, -0.46381322437514944, -0.057464581993949375, -0.22775841368735872, -0.27492844663002247, -0.12457388722421761, 0.10349203586968753, -0.1548255748296305, -0.5046433667905735, -0.5052517192367552, 0.0690442645530615, -0.02543309525902589, -0.5302215272640179, -0.42670846303359505, -0.6067492194373277, -0.8988286939888075, -0.6400977088752852, -0.8225944513606976, -0.4372306887359332, -0.6914495984171469, -0.4880000338492476, -0.14780339745498647, -0.3759828996533832, -0.7163440590038868, -0.02507152853560612, -0.49062563561856876, -0.4201703976692623, -0.6604021084544762, -0.4431789680319295, -0.6293590410669869, -0.48193332397182326, -0.365934583598669, -0.41780472877741015, 0.13558718370933723, -0.5835885234806764, -0.4649933020750656, -0.7344154774520779, -0.5178600500012582, -0.4576889566889425, -0.3860255445615565, -0.40847842998426614, -0.11323418423858493, -0.7096259738038031, -0.20500702897626602, -0.6014386985138475, -0.06909387284191408, -0.42775658473040024, -1.1403473255368224, -0.371145301941827, -0.5465884966663775, -0.26524366533265364, -0.5250561260170329, -0.8044498001399839, -0.2795028090051024, -0.25373073762199755, -0.44002594597066413, -0.6541272361923383, -0.05432560897325249, -0.24201964718597535, -0.08683605238188379, -0.2187112519474528, -0.18041984104873202, -0.07193032301840326, -0.09224893887327419, -0.4198615048154859, -0.8563654796948019, -0.10410944118199943, -0.6224373752886794, -0.058800385452044884, -0.4767917644236675, -0.43616277705371836, -0.8091063524070201, -0.5348078151350689, -0.4860298877104209, -0.5287413375889244, -0.8675348961451226, -0.4243689871700598, -0.03929019535751792, -0.18026915725874484, -0.8159777773276516, -0.36328236974731126, -0.35368924900818327, -0.38128386817708865, -0.1978597354032594, -0.44410191592959075, -0.5547100613871153, 0.030893753095705353, -0.3345612838047251, -0.23955137793163056, -0.5225154594355284, -0.6260899624052846, -0.4926112729634827, -0.2437023441714618, -0.07139867399348962, 0.4516753712136663, 0.05027147550514639, 0.29161072910370306, 0.36641544150627814, 0.0885939645022521, 0.24514602263910562, -0.1136103614488035, 0.0531133645838433, 0.06082039436487117, 0.11518955183060121, 0.16361015772721418, 0.5202440739817734, 0.08726818251373941, 0.230909144538028, 0.02686995960205195, -0.10345610547405998, 0.10184352677459052, 0.11754294330828172, -0.18338127483555447, -0.1852114360719508, 0.4759998635363113, 0.38782103772435705, -0.4907554426338615, 0.06867366808195413, 0.04696662215641936, 0.33053444811953014, -0.19196926225067326, 0.40995350387538976, 0.11491527798465045, -0.2685584267421264, -0.4647339746881766, 0.04853980306072638, 0.0027826897016386444, 0.35310442419544397, 0.03675000738909402, -0.31045490653512176, -0.061495505701617235, 0.4391814485672781, 0.10504678953459201, 0.2424163733474595, 0.398093216949132, 0.48686863128239655, 0.2971037252288617, -0.4304463576481646, 0.6785657326871104, 0.01502327588237743, -0.19058459675660536, 0.026629373257113103, -0.21577415517117593, 0.3783893150597104, -0.019330999563015948, -0.21579943817298616, 0.2522306004063892, 0.022298933966690394, 0.285531722681427, 0.42463726599225804, 0.16731984227153157, 0.11180205198282309, -0.1712971318017924, 0.6873675440725641, -0.10237215125981762, 0.3877655626170827, 0.4055426462164497, 0.04130283914335497, -0.06016648545372061, 0.6687907649429713, 0.1789740739833075, 0.056331138534127356, 0.020038982246709056, -0.0876172277757526, 0.2775288324051601, -0.27468751489695653, -0.29251276177726965, -0.0027734550742457235, -0.41456907399494036, -0.4391758591404119, -0.2571555418591799, -0.38970623405501453, -0.2963481851302973, -0.3830839825272541, -0.3468679540307825, -0.22405446766747594, 0.14842390079293122, -0.5449074361227173, -0.29400760496818706, 0.1080054340150223, 0.10234813109815923, -0.28976575059272563, -0.09458183635048817, 0.35527020450598495, 0.12392916429620164, -0.2412193760623966, 0.07629141820770406, -0.130190711063645, -0.40279096195105946, 0.1353001237938728, -0.507115750527327, -0.06509035754757382, 0.07867253728068722, 0.06574337744726833, -0.4195333901428695, -0.7222570953490669, 0.09868280231378204, -0.2513569673417181, -0.10269571145650627, -0.10308907995170635, -0.4399150335833303, -0.16517705321879433, -0.381522626655757, -0.2717609363622127, 0.07210554025742343, -0.07470190087774406, 0.24368211521034425, 0.14518251475969865, -0.19085996856577592, -0.128592577032148, -0.09447904710079168, -0.1317423047717459, 0.816761041524748, 0.03402817454184835, -0.07084009121154858, -0.2586069701345452, -0.16285469681098624, -0.6095392254557771, -0.23275967003634765, -0.16695004905446684, 0.12925560343800266, -0.4419134413619022, -0.2230767717709027, 0.2633448458314635, -0.014252879802942662, 0.7268804037292655, 0.1182952458478772, 0.03314700478280466, -0.37251913988162727, 0.24899863948214232, -0.560641536882497, 0.285754851067136, 0.21910722606231486, 0.21384683534134782, 0.016419939439227173, 0.18290103210386485, -0.4509192884147666, -0.04723358367753314, 0.36665545070635863, 0.08692133250251587, 0.10022159298939363, 0.5343114661729318, 0.09624811493848616, -0.03818608766998223, -0.06578377272634243, 0.0010231466459111576, -0.014281875128006587, -0.001657080718155839, 0.20572292319159338, 0.32438977651545337, -0.2586339697774807, 0.033426934744397875, -0.14645721396483702, 0.04561110710994976, 0.12819739645067554, 0.41409882707297907, -0.16920307296636763, 0.12135513730306652, 0.1460728628732531, -0.09581011347834083, -0.006350887251727869, -0.2595962356088361, 0.2336708172615585, -0.09433135907221878, 0.0898407288893607, 0.5489366371932131], \"z\": [-0.663014004090425, -0.7452811104442051, -0.5433751852413042, -0.5000759544047103, -0.3318059888077039, -0.4161962975632146, -0.28272247317165977, -0.3452649746930533, -0.4077343679442918, -0.4438074989204607, -0.37479951896701164, -0.3552947541976308, -0.4543020212541582, -0.7047302846447336, -0.46034641343160704, -0.25400989610358543, -0.08974449929834735, -0.024794744145138436, -0.4179840188472852, -0.5445140604578008, -0.5278714729888808, -0.36567824676944743, -0.31772571327721655, -0.254546392279097, -0.366400739250099, -0.4647195297531581, -0.47697817940065795, -0.6198901216877613, 0.10735644275343616, -0.513362332457204, -0.5672595776153393, -0.36850381422843864, -0.400542806521863, -0.4049718662048587, -0.7226847281342477, -0.4437730869749954, -0.6050926933201154, -0.5846619705073267, -0.5250158884142649, -0.38960348264396966, -0.2968097315172008, -0.40172777618897293, -0.448579085595503, -0.5648265693315447, -0.8024746530947486, -0.5811510093474694, -0.6137006849248423, -0.3561545663014215, -0.7344727480771178, -0.5753776022136001, -0.20269285942058116, -0.6077896551580605, -0.537841894671625, -0.6212565091274915, -0.022354900708841052, -0.4061014657372267, 0.014055124399912829, -0.704771806158424, -0.39342409338872375, -0.3793153925094502, -0.8115362355124973, -0.37617346668056617, -0.3971067502152772, -0.39658580701401897, 0.13092083364769155, 0.04567997603973337, -0.5303874123443996, -0.5510828927002936, -0.504610082349274, -0.6763524148669232, -0.6190353454608721, -0.6406936982650457, -0.6370041829566742, 0.025338375418547127, -0.15032403990923587, -0.6367021848443927, -0.4428412536236669, -0.5688780302664107, -0.7499352809319042, -0.5192743576757448, -0.4456776726593437, -0.1980918762562709, -0.5608004181130577, -0.44209669116356765, -0.5831320709764065, -0.6662196837155296, -0.2724188431957878, -0.24548104469628138, -0.6376184234510236, -0.38885686457148433, 0.028184534982273392, -0.2707602555389479, -0.5078335371669355, -0.5009363829279982, -0.4351329183869328, -0.6493009708491291, -0.35796609800475787, -0.3233757398204605, -0.24663327485957381, -0.5271532097698254, -0.18107445516198792, -0.32263928951240045, -0.42947527118914613, -0.3334083671331955, -0.42439504960922697, -0.09619568208956523, -0.5684463061603356, -0.31760148602867977, -0.4362451859464361, -0.38971742888558103, -0.22631846979890866, -0.5060094134528141, -0.5627199071620734, -0.6052176568268859, -0.6321141106395222, -0.5614487219441674, -0.3115313554267576, -0.17262882672721486, -0.5001637946830646, -0.19063129227110295, 0.00048085454448614266, -0.11690848985363557, 0.16851595449544032, 0.39945163801069333, -0.2225181007942484, 0.3531731752969554, 0.1961890286585412, 0.19359453544395794, -0.022870958025376992, -0.0805686331172392, 0.06409388043910859, -0.0325368252602288, 0.028143670028295976, -0.2199294934610599, 0.5478249436591764, -0.148441313560809, -0.13594455578010292, -0.0715077583559333, -0.08784236476075802, 0.097465813035204, -0.06635385395379104, 0.1779609361717752, 0.021759715773725367, 0.21108506903478177, -0.127908264926573, 0.45907076260188057, 0.041750706191009464, 0.10604984478543536, -0.014474240721402187, -0.1485057464303538, -0.005138049699569416, -0.1225551969655148, 0.09747371085280329, 0.4263721138494885, 0.3286064567128409, 0.062176328115615624, 0.543481647563025, 0.6678741599707998, -0.020612180115279096, 0.43383118082650596, 0.4809655935255212, -0.11751651723056634, 0.05469446650993691, 0.30253913994221654, 0.2716969079745539, 0.33022616513739556, 0.1670506675491388, 0.005051833090892041, 0.15861741911870644, 0.011131464448712361, -0.1658306554099378, 0.3050466277094772, 0.25201353587233605, 0.3245904061564642, 0.1443989154005724, 0.27111603221955516, 0.37062674446116417, 0.7081067817531264, 0.7245826876930269, 0.20024479871131626, 0.06985089805695696, 0.3877267500156133, 0.3195289535187452, 0.17957814848913217, 0.7268522937726041, 0.23787532420350865, 0.2925401129448882, 0.02969431356835294, 0.3389677100509919, 0.20573766200748314, 0.3758244286424566, 0.7531974843938937, -0.4085921100076734, 0.6730521806082117, 0.12532767827924768, 0.3532762814243674, -0.1434755282306836, 0.15682173707594685, 0.17615831138201088, 0.3803462430712152, 0.19483166619258868, 0.3425012100274694, 0.5457840827493078, 0.8789942716604385, 0.45379602842865807, 0.22850553678495752, 0.5402071973117891, 0.7123951620498344, 0.20218554819275683, 0.20999263927048867, 0.45162969974192246, 0.41352064728763166, 0.5735782183393136, 0.2200335038142846, 0.2590656922543917, 0.16650107387503446, 0.5075001577770412, 0.6869968223335753, 0.3511607499244043, 0.03754227410467364, 0.4152863573770691, 0.7544530392099356, 0.6476456725710814, 0.3609564615379113, 0.27745478427207376, 0.503684084004616, 0.23097571716742957, -0.13124495424655705, 0.5041948920782827, 0.6061098451824346, 0.3807157621971292, 0.17530732744676433, 0.6739640342428216, 0.385824706430408, 0.14410328587437976, 0.29155329190361745, 0.31846116283326326, 0.46410053894826214, 0.4271988075394911, 0.6748566532138713, 0.19574240594556283, 0.21059747865998915, 0.18897591546761106, 0.45523140803648204, 0.5216997827170031, 0.5602116818850754, 0.2546017007438807, -0.06553794570220438, 0.22449431193971017, 0.38712895905144007, 0.3104180602534728, 0.32865574307282147, 0.6923650307678632, 0.7425845369328166, 0.33719305032936986, -0.14885043716620236, -0.0695876733711154, -0.23409009729597813, -0.2109194389148862, -0.2244468329189834, 0.04372265758154658, -0.1939285915440108, -0.002940178524288236, -0.15414006654480647, -0.28165971350501323, -0.046554093699330265, -0.34647889024591094, -0.41288766241733454, -0.31882955067964786, -0.17494833616751362, -0.48281185567496254, 0.26956127078912673, 0.2517728782716128, 0.5283399005933241, -0.34596442240263364, -0.6330929642709812, -0.09405781811374436, 0.06594320939512983, 0.04839256470554422, -0.15643321859535073, 0.04800138940882093, -0.11517359060041046, -0.16170553561054712, -0.19048262791085652, 0.6239658336150972, -0.20204758694935748, 0.39681935061862383, 0.021723247822957058, -0.3264357750908688, -0.11731532272606174, -0.2416830183391852, -0.2660650921344737, -0.09335144484618041, -0.02808049185380196, 0.5508123192000325, -0.0841291458701412, -0.06658336621425391, -0.02427966907139394, 0.0018626057620293223, -0.25421795643083367, 0.03839158786255856, 0.14725178270854136, 0.1767321283363214, 0.0044132328294685655, -0.36510070877416717, -0.28551584835671084, -0.19508855057857005, 0.2504834613645795, 0.11688969531120319, -0.10238925331109323, -0.2944961765849346, -0.3367309682991927, -0.11687394713497758, 0.0031698835570864218, -0.36121672139204747, 0.18957715370239034, -0.2321823098695311, 0.0705274976151056, 0.2548548192800742, -0.18185113654968652, 0.22643084754942427, -0.26150388084456205, -0.2616236299650588, -0.05838004218768503, 0.1524947810033899, -0.0636274850643126, 0.4130375303755361, -0.16184811667124882, 0.04935381075773311, -0.2830416015452847, -0.05626067138975251, -0.06328475411153346, -0.2714886673234361, 0.18102345119462507, 0.1226009694414223, -0.25105285226695206, 0.37786930411057423, -0.30100750634639517, -0.1629628605206743, -0.43224351474952916, 0.21635128311564242, 0.05452306451950011, -0.20361439756391986, 0.31500046494735745, 0.15272811472278727, 0.028438565028557888, -0.2919393170745895, -0.1119532650392315, 0.16865603465272583, -0.10456724591364264, -0.11345787477785378, 0.5046498391889249, -0.21600727714159415, 0.21358372672713952, -0.10632637482068018, -0.012741132154379546, -0.13474549216825424, -0.373108544970641, 0.19013706769835123, 0.7528541694000074, 0.3131461586894379, -0.09055130835095868, -0.06856976380824867, 0.33982924991720515, -0.5057241782131936, 0.23364569644578953, -0.19093018371910414, 0.0416179008031887, 0.0705693415253627, -0.16554172981065388, 0.5005295045251678, 0.47139840954111045, 0.3982620140915716, -0.17489966323329678, -0.134158628732726, 0.7804664281474012, 0.14196478704831839, 0.15311569683091977, -0.15268861583943114, -0.16265923362242715, 0.3248667148901294, 0.4003700798438764, 0.1843822685897852, 0.8018793878734318, 0.0034653061914446588, -0.18862367243140812, 0.17682535376066444, 0.01704908935008758, 0.7250237943492512, -0.13701791973858943, -0.05753635948422175, -0.12493930645485767, -0.12324177468076909, -0.2972001568180065, 0.018275451919046063, 0.14240477563573198, 0.1352861431393846, -0.3166899887991917, 0.1844176577437757, -0.1830980279021877, -0.15617467231417012, 0.3400222092787579, 0.503665177635794, -0.09228758666914338, 0.35009397382688684, 0.20085589871719062, 0.0011305772276427408, -0.050019834967242764, -0.07283249037380966, 0.13353106942740728, 0.08450652138934928, -0.002183723752789854, 0.5882186381245795, 0.4950071018071726, -0.07367884012446581, 0.19235940730879114, 0.3936058201720237, 0.06039262611290309, 0.18916863364942818, 0.14848412498318453, 0.21907459252614936, 0.11085700491689465, 0.06868579312035901, -0.00813770543448538, 0.005172116475937501, -0.054036926175353564, 0.036663395066024944, 0.32204641433171854, 0.15276003320900106, 0.2575241531223012, -0.001215469432931156, 0.292494986191051, -0.09224059768449934, -0.06335643591254458, -0.0030542061416743865, 0.1313804209049259, 0.44724789521325564, 0.1839417305762541, 0.1015556224320624, 0.14415967844719668, 0.36440455460034665, 0.24139987823777598, 0.16273239791260274, 0.13191147620113516, 0.3240027201616093, 0.15867225076802155, -0.06682361630723875, 0.47247205382415064, -0.12354374361449967, -0.03188950504863044, -0.07118769388941236, -0.1442270848129566, -0.30440974877035226, -0.5505855281974921, -0.21717936260295156, -0.42710444400424724, -0.5010757416640002, -0.176884556741429, -0.616677289509451, 0.29997767584873086, -0.4102075818689372, 0.013262654730130543, -0.014804473369911387, -0.3349784129106615, -0.21168669684267127, -0.7083263897776997, 0.1525187076617097, -0.3139413563431936, -0.4630616477309293, -0.399911748517659, -0.38110497115450104, -0.348291992300667, -0.4334975415090367, -0.5053692028794332, -0.33211177093122896, -0.15266843990134835, 0.00410354849456178, 0.0009597658061005635, -0.0252713153274229, 0.3026707868464527, -0.07517563674784496, -0.3816286807116598, -0.08451316625961842, -0.454378449339858, -0.17534855247628098, 0.18618253594258868, -0.17686276600686535, -0.233835140553596, 0.003918846838468961, -0.23153729102345516, -0.06252643669220904, -0.14265594415487878, -0.35888382303462746, -0.09278805495274899, 0.18307196266183845, -0.15385500158970872, -0.019031608102193075, -0.3259509973425815, 0.19066090853785445, 0.007752053786390695, -0.06067229418308529, -0.10000278901721525, 0.06195601806897316, 0.040472149474798554, -0.5506394280232546, -0.14653619029980672, -0.24473403375163974, -0.15262190075281812, -0.21116479195802454, -0.25316887540211197, 0.6335381007554715, 0.012970735671441722, -0.39569189700438784, -0.5069075735914876, 0.8888531052962579, -0.3732070278942213, -0.2399596957629893, 0.0023238128998068833, -0.1515293525406345, -0.05163037929417329, -0.30288137526639675, -0.22711782007075262, -0.26612856128503776, -0.2534595733389018, -0.11633748115971014, 0.1911312787859776, 0.15077693884417007, -0.20871884582907332, 0.19706664236475943, -0.18157036908453456, 0.33574551827967164, -0.27182910470572036, -0.1991137628927995, -0.20863273471414126, -0.08738956767486196, 0.04046830001141773, 0.04393741551069416, -0.26638851910843203, 0.25087457812368047, -0.053313614676865094, 0.20565486033004846, -0.3104895588619856, -0.2909768059517913, -0.09199246559291743, -0.12496195671234331, -0.22521812298368882, -0.01978377013975881, -0.13115544805415996, -0.05177116417720363, -0.209494600813409, -0.21341660312626906, -0.21092626798955988, -0.11203299233248536, -0.1119088785068872, 0.0606936184959078, 0.2662024436392559, 0.6407498732758481, -0.026521557816903484, 0.7521524566818365, 0.17335906318378577, 0.08284254643314765, 0.09458455684182054, -0.04973924933887305, -0.181389130221873, 0.6371786351879323, 0.11663303384397487, 0.3496271888809376, 0.013363505186912945, 0.11871510649567744, 0.029610056844951015, -0.04032393224422487, 0.16327832334626202, 0.6776794025270318, -0.16385756701756807, -0.16059343042239313, -0.04615612471443851, -0.030373270030925614, 0.19859794090379776, 0.11668767797452095, 0.44348470472836193, 0.04375411485147445, -0.009519523505250968, 0.10082470327723567, 0.3378730219641695, 0.04909360238734467, 0.2058196622193762, 0.0947039174749927, 0.2170915108245664, 0.18941159006260894, 0.08105071878513068, -0.07146131375489116, 0.22972457937186616, 0.027207677342397006, -0.06624054799526653, -0.2036222880708055, -0.11648568977794027, 0.0605425389093737, 0.1310194750643396, 0.060697840132170416, -0.19463812239161438, -0.2768659162998274, 0.025415256535649505, 0.29559891861920706, 0.19736177617796694, 0.26589931070966294, 0.35254429219523004, 0.3900920544830207, -0.079954428312922, -0.04607528972080226, -0.011007105317250852, 0.03259446656480207, -0.355163327731492, -0.12559502796865724, 0.270377649157432, -0.20849623789159125, -0.26036810030696333, 0.08801105837598198, -0.09652611975569773, 0.18073218705488991, 0.25189752494869266, 0.03418679683058394, 0.2748008709212321, 0.037480346458199705, -0.19890963498433376, -0.19114953346296806, -0.1661884309277984, -0.21221299920286973, -0.4392294717202971, -0.027005612002658712, -0.10768609956314013, 0.17288908921614082, 0.06978343161448287, -0.21356904279875735, 0.12620538041733118, 0.03793066123423101, -0.2347279908635972, -0.12590774723185177, 0.11661780550044777, 0.038390019496124105, 0.04327811057823564, 0.18623971999791922, 0.5002713177077468, 0.160123629311935, -0.23891720475279113, -0.05641495995713845, -0.08236788126301825, -0.055775451918668395, -0.0957197953549075, 0.5671728062738775, 0.1793573310844727, 0.038101190597882056, 0.708397325937971, 0.12181978153784224, 0.1452095200041847, -0.06549585530433327, 0.5256273269889559, -0.20894007682226126, -0.07392697397673174, 0.6586287757803678, 0.5277849982038336, 0.2486445409465028, 0.944904568786518, 0.6366578127244249, 0.38776623618782774, 0.13716096931882849, 0.28409868095438495, 0.148012660080818, 0.32020101235263926, 0.1633891241454839, -0.2065175541639521, 0.0677436376985545, -0.01538918716519792, 1.0016134993092392, 0.25990218241690305, 0.6840689204452931, 0.11597482253175342, -0.15903167639878155, 0.16916703568581254, 0.376706600191841, -0.00994715303336837, 0.17073737897636365, 0.21788805498288488, 0.45396780798703884, 0.5526930326368517, 0.5744414295072041, 0.3148775026320487, 0.11346521170304519, 0.2978184421337449, 0.4113856244754796, -0.07836657402098682, 0.3144103741276467, 0.38458212645349804, 0.4166736257032572, 0.4411297019916115, 0.4125634297469302, 0.12117927750136466, 0.35236092218161646, 0.3055670114331908, -0.2564440135714195, 0.01764598472524506, -0.6015418402901127, -0.2699381131743557, -0.23109072090440416, 0.01212258300641957, -0.5584259402176667, -0.5459877673566704, 0.07787446840903833, -0.2961217273171546, -0.5188306655276085, -0.34022221211220327, 0.04013745336444344, -0.27354048662265174, -0.47926698615558094, -0.3402285655535685, -0.17579238693472313, -0.403910768897813, -0.46273919270366975, -0.26409088366448125, -0.3842007178080458, -0.23597673733433688, 0.373040729761467, -0.3568799746393455, 0.26245252113998546, -0.09233405488095349, 0.34463185355736636, 0.23941858543818034, -0.22138150606793375, 0.30333313294126646, 0.17068654906955608, -0.05061094372383801, -0.052116412240043784, 0.2911045650427567, 0.013380481453300607, 0.12103099769658719, -0.2526003880848769, 0.004127871479953777, 0.08777604767759171, 0.3474750580763217, 0.5124598417298641, -0.22384390379416366, 0.22248446651992435, 0.06799741159757379, -0.13346057770146746, 0.0650783850132509, 0.3338949193963591, -0.059103941327164185, -0.3705711219865638, 0.046401088836311326, 0.08009001284498715, 0.27715282542664105, 0.48147901101751356, 0.5665010545408038, -0.05590376821478178, -0.015114626831607058, 0.10265580222527228, 0.7674590699191507, 0.26098973280422305, 0.060354727177320745, 0.3266769896371478, 0.2715542737848438, -0.12746009596646343, 0.40401362688296866, 0.07451291779136202, 0.18421475711856386, -0.10674125815730927, -0.06112278133942283, -0.47004029600997116, -0.2772528831088741, -0.22302109416224447, -0.30203459997724197, -0.47491049970588656, -0.39117312522527575, -0.17334172343413945, -0.34072026471533534, -0.3002995493031678, 0.07341955268260102, -0.4237602790128011, -0.38833438806967413, -0.46034600765112943, -0.4615872432593429, -0.5277288996243648, -0.35933507522253744, -0.33759310943573034, -0.4112977130643662, -0.33978338032740796, -0.4357247023801925, -0.667217878313525, -0.40051989268158483, -0.295814810128456, -0.37980724028964014, 0.08500400156357515, -0.5053885163643833, -0.4409595149506344, -0.06662039358397759, -0.3032687501743261, -0.35496698643463614, -0.2530801920162828, -0.4381284960498433, 0.3656582275423314, -0.1899434886981601, -0.15850393177840436, -0.30114950083644243, -0.38650558953738184, 0.13679123635723145, 0.07509697925471559, -0.18285373244629247, -0.36336092364220735, 0.005550103662091162, -0.10375597267346877, -0.09146916379733669, -0.489386397460077, -0.3536201485481411, -0.34123318899717053, -0.0441401742587472, -0.04447716075326808, -0.17360394615378189, 0.5631757191418473, -0.6999912870944984, -0.3624186414496164, -0.4055523664769074, -0.11587952693695891, -0.41722614571454886, -0.5636998370792659, -0.010378403084746751, -0.5460711287874295, -0.20158388093836632, -0.3807342771854627, -0.03733592675734558, -0.35705599342182476, -0.029354476779959202, -0.017761641754448464, -0.584545894748557, -0.056214740036405066, 0.15229723583166885, -0.44792551543715337, -0.20128887875618637, -0.34324701649405015, -0.26872092766923483, -0.189963759198349, -0.00745059234251947, 0.0066233868134980495, 0.13675735687002294, 0.12340000562864747, 0.11966547065137434, -0.2403437170667052, -0.17918696161286402, -0.17852752192399116, -0.28002681690159337, -0.17192292956061853, -0.178426133623326, -0.30103861230468515, -0.35060112649888775, -0.0109408192253964, -0.282105236286566, -0.12012509771951631, 0.12226708584913387, -0.3161712401227883, -0.08164525483818662, -0.14764495277261347, -0.007702870213298119, -0.07606006767891095, -0.3956557384244373, 0.04650625336574708, -0.27356186472884436, -0.2755320352042677, -0.3058478689035632, -0.24360560143842225, -0.2413269235642944, -0.22350384799361042, -0.21394040171943363, -0.016971942502302634, -0.262810916880105, -0.47510080745781574, -0.14571409543683864, -0.07757795397409639, -0.2443703095432007, -0.19633380205851805, -0.02099995541743752, -0.18239424496362425, -0.25700689747043926, -0.4011477169944769, -0.300548024244878, -0.3105757196137149, -0.47174811226610514, 0.002839159036800385, -0.36861450281549146, -0.013243500489404127, 0.08447816143155805, -0.3464154469997044, -0.6431398756669292, -0.31894647395881176, -0.4530284328522865, -0.40942698223560203, -0.12410438753329552, -0.0671382035139053, -0.36128561224700145, -0.5107546158624707, 0.07502940951097145, 0.29746864348207086, 0.03323023213979614, -0.4935950263034264, -0.5261509328655387, -0.29255029657530074, -0.17749721361048923, -0.32136648153923936, 0.06923635230526788, -0.31491670690537976, -0.36102407949383225, 0.007444615057167548, 0.1821961201233262, 0.19947303932570198, 0.4598491183279591, -0.022722438521292826, -0.18264956841876864, 0.4685393079036316, 0.772882556138744, 0.3938811378496092, 0.046709774340648574, 0.5620867409682978, 0.7962177551850022, 0.26356155595555647, 0.6336180828477078, 0.07228050250480127, 0.381633812030785, 0.31852595850050036, 0.1308433247775808, 0.12699121349687703, 0.002640956227200129, 0.23428354920789765, -0.122224822229439, 0.40326994337617306, 0.09525819508467272, 0.36782069146847873, 0.037891390676166474, 0.2929146342444136, 0.17748660204631667, 0.48821233697852073, 0.037470922271884435, 0.20443277570957086, 0.3688508407316176, 0.3091789309773373, -0.13314788701764801, 0.4116320083756575, 0.36941835581299337, -0.44606581036196913, -0.2585047153858602, -0.054345816815203674, -0.08904705998934641, 0.1677926992838814, -0.07154474531599565, -0.27755252253217205, -0.3115358340101643, -0.28574913240776917, -0.05741466047975463, 0.02063383102671499, -0.40460357292348476, -0.4818096197666169, -0.24218592950776868, -0.01331451858981724, -0.07808425181231753, -0.4586681287278828, -0.1744456907625927, -0.2541611402920644, 0.11199581516803132, -0.2263133754226825, -0.45201566305734947, 0.09304822424164524, 0.1334101545122507, 0.04855883565013173, -0.12629146775030886, -0.35075715148681297, 0.2682036682733056, 0.01176398231148031, -0.3414733765242951, -0.3165665349090865, -0.3589557571376143, -0.13653871581517013, -0.34171437216332023, -0.3694357879388886, -0.4213887720405509, 0.0732860037699497, -0.32691512443845944, -0.3447114347322078, -0.24660981613463168, -0.2290975585992877, -0.07761672911257102, -0.10670107527178943, 0.2665667197406628, 0.07118182156985951, 0.2809064533872466, -0.006025955403305439, -0.05619820581673143, -0.7298917021806197, -0.3991539173788836, 0.08480180327595548, 0.11165539815914638, -0.22104626162875107, 0.03837031571976991, -0.19255047998575223, -0.21679533176303828, -0.350527203935554, 0.1279970873007449, 0.1938281967769262, -0.2173447331050593, -0.14837539701047753, 0.003116556402145556, -0.3108102691931993, -0.3445943708710661, -0.22970536114444817, -0.13099395591171437, 0.24401440382202969, -0.2989536018697211, 0.04449016679276359, 0.08322217228424425, 0.022432412592208732, 0.005371498707410715, -0.43321880640307636, 0.4051495533058135, 0.5494146237160372, 0.5768606993618668, 0.4006594693752783, 0.4193831083745916, -0.6030370393853055, 0.22316653447455423, -0.005369951134322458, 0.268438738088182, -0.13825336610935543, -0.10129162351349735, 0.6910423732129334, -0.10548099471463421, -0.4808770986149019, 0.3821400550543543, 0.6589362750742819, 0.42255858600199914, 0.700705553136654, -0.282473217040122, 0.47461052838006224, -0.2796313780881224, 0.039704337984129395, -0.07625798840992774, 0.10049319886407063, -0.31457032257587725, -0.2044856545875468, 0.26954171470534855, 0.2730058479469277, 0.1579514107373897, -0.07085212761556826, 0.49072795304921046, 0.18972847529709255, -0.059398918411500475, -0.05914260157285496, -0.09185775787617773, -0.20528268372016692, -0.04623006885313099, -0.2818887590682825, -0.20381154919804, -0.09982911723990122, -0.16767782344155538, -0.08618553214582843, -0.5475065716016355, -0.22302528207063668, -0.09426304712967652, -0.27530177535600714, 0.15106879301563655, 0.15157616521606024, 0.14284852633872538, -0.5587053729964173, -0.15949747288753358, -0.269843771089754, 0.41722560265275827, -0.5796587981132633, -0.2469060808970804, 0.134319238235995, -0.5506294773950667, -0.15560060514117038, -0.01204874313151165, -0.0947417128338999, -0.4354001385635808, -0.25507788700267275, -0.1590959899379452, 0.0062577912134255875, 0.8241109958045074, 0.3639321319212137, 0.2861905916498288, 0.3530334702165307, 0.38645711579251957, 0.034030553038744894, 0.02907663881745914, -0.06781152236811279, 0.2620343613810614, -0.009752145453953061, 0.3004177777779902, 0.37782227803188995, 0.45732810166711824, 0.10969686777810832, 0.14506261005471613, 0.3254016505703074, 0.5677811372444053, 0.19673783132769318, 0.08213539766608376, 0.48352253580557814, 0.04155534377339622, 0.7938822721557759, 0.20727293068399244, 0.26434696043548767, 0.3922464547229376, 0.1090230509131666, 0.4560115919610368, 0.8338863006569213, -0.1590899342883545, 0.07464129960287055, 0.20911667475372137, 0.23418773556267877, -0.20955439430491904, 0.25689020292330605, 0.37225393377796195, 0.44765786987165807, -0.05922865425804647, 0.4013578350715812, -0.012542650997081298, 0.1184869554967015, 0.40304914552459925, 0.3607876138438739, 0.41240732653400586, 0.49074831239066435, 0.32499389113087296, 0.278709826586906, 0.3419229001124753, -0.06646883680721043, 0.004541316529042512, 0.3192753669992004, 0.43996681530481685, 0.6716496489549307, 0.4879561759041061, 0.18066895834170893, 0.7050637270023692, 0.2097469719234275, -0.13327042529718067, 0.2995307307756966, 0.6207360514575687, 0.24460120439809868, 0.2576620774315724, 0.01143389032117496, 0.15665408018279206, 0.7327387375273355, 0.45628283775459744, -0.08670462362965616, 0.43800110668623926, 0.5759070505085587, 0.32002444133594443, 0.3974869447293018, -0.12212282315485068, 0.6355302817367638, 0.2356410955394036, 0.96463089770523, 0.8870857571607326, 0.013189498015189123, 0.6745637562828452, 0.1470360366292091, 0.6580788284651911, 0.32116045330532383, 0.9620187793824431, 0.03081929210228879, 0.26091888821884507, -0.03557869835951453, 0.8934470061512221, 0.17575296285575887, 0.07740863835313572, -0.1305015173082741, 1.079060471478313, 0.20314660031211695, 0.7445495369322375, 0.3551912034643951, 0.5499094415282574, 0.20172273530628582, -0.012981908012364153, 0.6538364802359656, 0.44551025987595877, 0.7135945061141183, 0.3026858001439365, 0.32373339124583633, 0.5000370774242624, 0.3946870288778351, 0.16011479325148215, 0.3828644904642839, 0.6315716198314274, -0.02729516415933229, 0.3441003095582046, 0.025862816046752436, 0.1159494410354685, 0.12024426828764213, 0.5387441942211931, 0.29804355653292436, 0.27809448915810064, 0.1281270456135163, 0.5804674090186104, 0.29934345799661505, 0.15455641859052338, -0.02314016694251005, 0.73030273934747, 0.12081674547798409, 0.5440946329156785, 0.09647310253288843, 0.24521404389603632, 0.4894754935283021, 0.4796227500486454, 0.1396384467491713, 0.11758738609430815, 0.5559408083993975, 0.22490296219651046, 0.04373699891117064, 0.6280241930949635, 0.5542203800122034, 0.2714154713796586, 0.14434966624221907, 0.22550841594591162, -0.029530055772718517, 0.0959511372363831, 0.3979789494857909, 0.18533716490939736, 0.27676122024323957, -0.08616311234834027, 0.08492684719018782, 0.127839093906973, 0.3409453537921191, -0.175218441282365, -0.01594893485187311, 0.3344285806783352, 0.24853432134864759, 0.6129736192653017, 0.214837622914551, 0.0389827271089891, -0.25832803606629184, 0.0647369009082117, 0.26912185446375825, 0.10925823063701233, 0.24793230555147303, -0.20231335956405078, -0.40460464033267834, 0.6121622860389161, 0.1852472776036505, -0.11442133333456767, 0.21594679256737592, 0.027456430727913175, -0.35270495169328325, -0.14745376168805088, -0.2458043473064326, -0.24209200279248658, -0.05862970986582944, -0.17159958237417855, 0.30177549651048274, 0.12044621389366794, -0.2601797379368045, 0.1947249972216921, -0.10690657618491564, 0.3238696062091647, -0.18191807844732308, 0.07366143441890524, -0.33587264137304507, -0.03402744974696402, -0.23529677128535206, 0.22099237690520915, -0.054433205146877814, -0.15004490711206267, -0.25469623724750456, -0.26166466026288365, 0.10812371509819636, 0.029163605011641423, 0.010393777493335478, -0.06980028698948572, 0.13105059156603438, 0.2617778915015676, 0.06171289690192395, -0.054226888503330524, 0.21221873187689563, -0.33888489944680933, 0.05013528594275552, 0.15753460152413962, -0.2181525727723319, -0.0012221531166055036, 0.44010316063272975, 0.16793790721651555, 0.27440994665361246, 0.11576487445242721, 0.3529292860600148, -0.12423334391391702, 0.09045368402921808, 0.15958356059787746, 0.05340783919327902, 0.06206451328889856, 0.019034606228697088, 0.1800503784156978, 0.27667951407896996, 0.4211389125620185, 0.13978331721756318, -0.3602983514929632, -0.10758002476143161, 0.3116556510858822, -0.024547693954041508, 0.1542624629320051, 0.44770107553319355, -0.01653602005023554, 0.26993443196139005, 0.5279963905308666, 0.10263304045610115, 0.44026487802401987, -0.17361998829969363, 0.5883285015510699, -0.04354974655438228, 0.10429355281908691, 0.9048015681480291, 0.30320010996503505, 0.132803846439446, 0.22111856803853308, 0.38121295897359153, 0.3513201416008799, -0.15971058882230801, 0.3032153888507324, 0.09061859565534973, 0.01329990808070837, 0.09627210570375805, 0.18430271836992046, 0.5305984527676029, 0.1729763635389707, 0.2717985455558447, 0.8662982098102561, 0.5762765539154766, 0.19789462287467405, -0.29786485343081126, -0.4876901813759538, -0.16342326946121835, -0.25817386256862573, -0.14320554477309214, -0.5305656128201219, -0.26826659694623545, -0.4738319581935108, -0.03377463668965753, -0.5072577314412179, -0.2615087111556247, -0.13055588787411734, -0.6577610283477543, -0.3245638771240949, -0.5136057426267431, -0.03544954599023475, -0.02487523841812686, 0.0070298118326230594, -0.47892800883960684, -0.2344092029573309, -0.018977523647977647, -0.18576266654508286, -0.16607006011855568, -0.439460342237967, -0.3010544637558454, -0.11152852420950897, -0.40473023039888373, 0.20531298682259846, 0.19820196465561948, 0.09316379107865748, -0.10130656071563132, -0.3236601127387032, -0.5324440566970391, -0.4065435222977474, -0.49050906529904353, -0.0589025751862189, -0.3447780597717304, 0.05442388961650697, -0.4551795648339004, 0.03150091983280831, -0.28460502409800364, -0.15767338856173965, -0.11932711403490279, -0.17729581545868553, 0.05729410452262445, -0.18512877594489616, -0.05441698599847631, -0.25143487060518976, -0.3105593935302003, 0.16588903562261945, -0.06773419643884725, -0.2751050141611544, 0.10528614632298283, -0.12193580858403862, -0.07752552107324252, -0.21976483039832698, -0.18257443972861756, -0.3447641948785892, 0.3392464952929625, -0.06355455793805892, -0.26995518968412685, 0.4610020692104482, -0.001942052683129439, -0.04114463972678944, -0.16486004060597084, 0.26316163065022286, -0.22530178061847733, 0.2595851504998802, -0.09675328455365154, -0.03713661322107905, 0.03861924390288123, -0.3528363019020394, 0.48870342990731364, 0.18940025321400064, -0.10836588087586008, 0.22981809667138578, -0.05689777093942264, 0.25026493436023756, -0.19243383109831533, 0.07217584057608967, 0.0465026641388384, -0.027405578034355563, 0.018233423502702503, 0.2193800288738476, 0.0037379777707263096, -0.042934755394708785, 0.27837407239571366, -0.6778329108254868, -0.154944167267015, -0.5444878544159617, -0.05287843164752464, -0.23536001364534, -0.40858720974473334, -0.2358786284782282, -0.4884190836848825, -0.3316551106871578, -0.6163255353109898, -0.5802075284993438, -0.45379786413651496, -0.44517026188975095, -0.19341235176592225, -0.5801289244424196, 0.009376719497412438, -0.539545843697271, -0.2610296218063132, -0.14794974578555561, -0.4701643624075909, -0.4433049873491512, -0.6120160308452325, -0.22315162203734148, -0.6110161277399064, 0.04430030534512313, -0.5635730311433822, -0.4478503025226931, -0.4354373808807744, -0.2926207297529901, -0.5576384905628977, -0.5209936774402661, -0.601146709392712, 0.21289645618372338, 0.032998717002609236, 0.12592971051230573, -0.15355076408543897, 0.7123916569453441, 0.02698483358626095, -0.12445783067650742, 0.2660288963687769, 0.09825539783333131, -0.21190559575241194, 0.03868502877585368, -0.22206274510655974, 0.10813062979936251, -0.021558261374972274, -0.33084625779992766, -0.16885152648460955, 0.4402207302565992, 0.4693937405256907, 0.09432284292600933, -0.04991389657919946, 0.025855655215877987, -0.40880990793067606, -0.005478074791451309, -0.2584316730282914, -0.4507441281970545, -0.4106431329771162, 0.02416290191683632, -0.2836986300214714, 0.4593028748228471, -0.2762845419825293, 0.0660417459628116, -0.306481228825708, -0.20169105927404266, -0.40883153788440413, -0.5400884962529383, -0.4439167132109961, -0.20996610630281584, -0.2162433245367281, -0.03200791581557262, 0.04174795343559717, 0.2148141764991058, -0.13304572396626285, -0.23578291226516632, 0.145197735458683, -0.0780950605086951, -0.21914959868492292, -0.32096687340133756, 0.10483673408712235, 0.1293362385318609, 0.24502191185366848, 0.025396644035706885, 0.1286969525946275, 0.08023572994037688, 0.22065653302079022, -0.2474026786227289, -0.378231464388455, 0.011160316335420853, -0.06642124036341275, 0.0598248429123593, -0.043159948788364336, 0.15781022867051195, -0.11069015348781586, 0.02342525872313417, 0.07738977639052712, 0.39097699900811217, 0.38675932748734204, 0.205209043459232, -0.15322568598085268, -0.08397594311530605, -0.08523048145103171, -0.2740880669552847, 0.20491120098105828, -0.45480672503996067, -0.4989475798555874, -0.40008451334856726, -0.07309546965417997, -0.23395600692508073, -0.38065389639738206, -0.27803865855441245, -0.012710299620599292, 0.20070836129498285, -0.07821740030642209, 0.15158992679765526, 0.0945253675507728, -0.08869261337745261, 0.07184062860845451, 0.25290084847328076, -0.06902997225626364, 0.18788024616015028, -0.022036059376785152, -0.2459555876757946, -0.24338967163051145, -0.18116188742124892, -0.1696959654242513, -0.12498001794824673, -0.01531467378306099, 0.21420148289784066, -0.04661639047370387, 0.01627074954894329, -0.21483577710731755, 0.12599255142976232, -0.2780974702865581, 0.02318387916587264, -0.04747507107020775, -0.10701241505580857, 0.28331119728027154, -0.252247893962875, -0.009868208583398935, -0.09249528795729596, -0.13705730107707614, -0.07532544552433622, -0.172050455631653, 0.4106885684748621, 0.11429498901923112, -0.20474774647311572, 0.021577661214292235, -0.120173391159299, 0.1328517803894956, -0.2650842464191439, -0.07963866534185467, 0.22602906424476535, 0.061221943243817425, 0.04436585262932779, -0.20675354562320206, -0.11159774491666148, -0.03805765694471911, 0.18035454403661894, -0.252772691843971, 0.4621215933597625, -0.15185447359518758, -0.3892030261907393, -0.4199114311467334, -0.18406127305839007, -0.0134806779684973, -0.1226979883164532, -0.04103398186529479, 0.5299515280983302, -0.1968118813538814, -0.27969619168336995, 0.01128221178730337, -0.15794073542815307, -0.10596495324535415, 0.08619798725068444, -0.08750505776430059, -0.05487964022937951, 0.13134578794529467, -0.14203052339224317, -0.3983712785675018, -0.006887476301194595, -0.05764608164547656, -0.15015656220161272, -0.19358701332873623, -0.09626692151037841, -0.08925149544187569, -0.25077950865596477, 0.12321706840403562, 0.6290365412426533, 0.024683770312398254, -0.04352091462443513, 0.2465798230208612, 0.2499293500759046, -0.022341836271137654, 0.19125449773302525, 0.2305059042869639, 0.010289944907347096, 0.2282804607301494, 0.3414754206382848, 0.09349421218448457, -0.09088388111327475, 0.1816154585582599, 0.3778523967666061, -0.028763378502611837, -0.2786322459037677, -0.1398604143478845, 0.04935448486692821, 0.014767744546674039, 0.00496448984925593, 0.5307617347941245, -0.045106975387654034, 0.038516678456185865, -0.05608558799585797, 0.24338214723646298, 0.030771150165987807, 0.22282535414306676, 0.3505407403235468, 0.24415592354226082, 0.25665656780213647, 0.41878516154928963, -0.20455087992794538, 0.3986540641527743, 0.03252360686189144, -0.2208058341732959, 0.123432075299678, 0.6296467326733988, 0.0661701990648164, 0.2924786350063266, 0.35130551815378364, 0.09033940641080655, 0.6371817736479205, -0.3286738589210622, 0.43013602092712666, -0.302803238502818, -0.184076493363571, 0.24866569927379148, -0.42207035515027463, -0.15649858253987234, -0.36314785451372084, 0.021431998762553334, 0.04936443731577002, 0.5387685727982855, 0.047356602103971725, 0.10811606775625004, 0.2742228383696747, 0.06083043981216242, 0.08875097067137218, 0.2885354881776465, 0.06935406825860266, 0.0747866658949692, 0.8455465815067116, -0.0876754915446412, 0.06750060770257979, -0.08310586172967507, -0.08430148353469832, -0.04185198707650454, 0.07005931497419304, -0.04862438664399673, 0.26967250412751786, 0.03056182139447966, -0.05037337221847891, 0.4324793144046182, 0.3688034652216638, 0.10020631605984665, 0.053434607721785723, -0.023689876428673106, 0.2932569442601561, -0.24397316431251365, 0.20278870779709104, -0.11350415837614695, 0.13798883076292587, 0.6025828772948807, 0.4987234919743949, -0.007680149142868994, 0.48403375984982683, -0.1618957744254775, -0.043286035959206326, -0.013742712788964533, 0.351977967924892, 0.28514191386808035, -0.006644482648237361, 0.013015613647900614, 0.9959223028171181, 0.37775133500542035, 0.16505000315180837, 0.2992391759239192, 0.08737484374635472, -0.010583629861706778, 0.13086117825841048, 0.06810807867921118, -0.2855500964672982, -0.25525247224109376, 0.12419800056640465, 0.2275078955183129, -0.013691091944034117, 0.12978865259854028, -0.012150368712761482, 0.00749550082622045, -0.10024264942323699, -0.04707371240669503, 0.018860269473704887, 0.16672604606413793, -0.1623073649620493, -0.24344999178300483, -0.02288523514049656, -0.3012702910211172, 0.269500906116647, 0.20813782023271354, -0.07189720629318967, -0.03365553532874176, 0.05376721275344439, 0.06947901985001159, 0.23911601345447578, 0.14332016907689493, -0.32813794486990244, 0.28876942011923706, -0.024503165357922886, 0.03606336988699288, 0.10708116417512734, -0.06112161861309489, -0.24854142711133417, -0.10559771037605907, 0.13349349987092368, 0.10303359265428028, 0.23196951243378788, -0.037900367827342914, -0.0444995696909354, 0.21847410265072845, 0.15134886670879533, -0.3908638308425968, 0.05844765038979497, -0.1704945859399027, -0.11027325688035729, 0.40539323721297715, 0.27396879788509915, -0.04926491004586343, 0.06923856304997923, -0.15144772765359618, -0.041607663122227405, 0.06344676244070918, -0.15225521742065207, 0.3113960074606794, 0.29602158277281543, -0.17306097323025632, 0.09591356962536284, -0.11094768470947815, 0.14299960373951068, 0.14168026012148427, 0.010630686008964007, 0.11471951600801496, 0.18902556333743778, 0.21192296197306568, -0.033009600293173, 0.24766489212904924, 0.47253637025693523, 0.16646768237152945, 0.29783097404323144, 0.783066533353426, 0.0473509005852849, 0.20638230856801937, 0.2319087834533537, 0.36138019372499625, -0.06613589113593578, 0.27913850665335493, 0.31917076670064914, -0.21695894287513356, 0.2682146446281348, -0.5092047838850622, -0.36387134287279493, 0.1136768954062034, -0.17973656285770626, -0.20832918540127998, 0.1958797236869627, -0.2004333530630499, -0.2220866732005745, -0.06308545250608737, -0.2601825598185722, -0.18880139097488371, 0.05821901769640563, -0.2886596631919277, 0.0007967717639502631, -0.06694785517415747, -0.08984975858923308, -0.14885365216940274, -0.3178151188261831, 0.23172048130508424, 0.1515611672103233, -0.24231073077561985, -0.18158236499005156, -0.14990831205808558, 0.05586785845101107, 0.10695289105181434, 0.041924491021486515, -0.338705273408237, -0.11797732549527408, -0.20214736089969937, -0.18997351558884393, -0.02884597604084905, -0.2995253898042779, -0.36594955723070066, -0.1834015787366424, -0.41716757634856083, -0.15156121647903226, 0.13246710874944867, -0.26747791437180535, -0.015930409383042972, -0.3349583038174552, -0.038590682143447234, -0.3365758877530081, 0.15849971368782398, 0.025675406558042145, -0.22479727950469233, -0.18651534169232936, -0.3519952392880374, -0.3818708361100903, -0.0559486801057799, -0.18261765596138504, -0.2179570213564439, 0.14706887004590735, 0.1861232279271102, 0.09569985969102224, -0.387411509173972, -0.23725291559668893, -0.4612432749240661, -0.5143999836743881, -0.12337176704463479, -0.27409570042461107, -0.1251240781415386, -0.03486912198325409, -0.4101337786693636, -0.1126738469055058, -0.36580197267084824, -0.08553292912014909, -0.013536685916573154, 0.11983952412933024, 0.1817107733738519, -0.12397044673402899, -0.172123500691034, 0.31974424620503916, -0.2592929678171757, -0.6442065885014301, -0.40330508963152073, -0.5540836696117906, -0.6573276102850669, -0.6564854815263429, -0.6385847046971151, -0.49174757380734313, -0.5388592867043687, -0.4399093597348086, -0.5624882255289444, -0.6543221029497496, -0.4018377866140821, -0.5432998889779621, -0.39499777008193343, -0.4400733074909707, -0.540146301090434, -0.481116769070636, -0.5820375762654816, -0.4289746427619099, -0.6544080598914935, -0.5236948200034739, -0.5186516906424404, -0.7867669691302019, -0.7982817595301, -0.6615189852281271, -0.6984269787212812, -0.40970095019492997, -0.7172585618761758, -0.48810515300427476, -0.8402921982227665, -0.7779745549510342, -0.20396616515789007, -0.778486847531131, -0.7284637558674771, -0.5698504564644011, -0.7096610245816372, -0.4332538182245733, -0.5035674735870386, -0.43091929650426347, -0.38864008762036445, -0.3886667209065982, -0.17878018563814385, -0.4826120985131396, -0.3229772975652437, -0.47156344564311337, -0.7312195588309763, -0.14260853314780433, -0.32498086819096617, -0.5910589343279135, -0.303803044630269, -0.38466632162145853, -0.5246190836137545, -0.18117334096321286, -0.5612323282505098, -0.30756425415572175, -0.2983119443669981, -0.4705642502361902, -0.44223974485071105, -0.3966619952585348, -0.5876284429027676, -0.14332918309104864, -0.3459824342533843, -0.44038794343499704, -0.5071236850706324, -0.014957656710351264, 0.3685390003293781, 0.07734558467582063, 0.03915865433238263, 0.060619949251781, 0.1159493655298219, 0.5353488570713973, 0.4529048825653827, -0.16865983104780263, 0.5713507208614043, -0.23387945830864998, -0.047257215081885254, -0.16871809965037327, 0.30295062327297345, 0.03740805612596381, 0.1614416972234945, -0.17730600785259581, -0.09763197109705445, -0.1573074502562561, -0.11065170853697134, -0.006611678722706167, 0.12217063111480224, -0.09356067849382788, 0.4218180974502396, -0.20587373614626883, -0.010576238197677673, 0.15128005557998347, -0.18511208551957073, -0.04827369058948406, -0.08563375411785443, 0.05669616426277446, -0.12379051900504508, 0.42902049456243924, -0.02421953965161729]}, {\"marker\": {\"color\": 2, \"opacity\": 1.0, \"size\": 3}, \"mode\": \"markers\", \"name\": \"positive\", \"type\": \"scatter3d\", \"x\": [-0.3787802210256817, 0.10413317606449886, 0.1373857214223214, -0.31612050380446294, 0.08939732143684434, 0.449928726291491, 0.05450221469332277, 0.6244336087116407, 0.3197417058648361, 0.24155875121703393, -0.00799822774425262, -0.05590823793779172, -0.22475266035124905, -0.4184377595471741, -0.21393439272626197, 0.42006133596097067, 0.5662713912700327, 0.5515299644903152, 0.21348641254322898, -0.1563753539645682, 0.45302411651162855, 0.6438411856890885, 0.48553592412198604, -0.09297502345014039, 0.5850215608866235, 0.4549818432777443, 0.14169827772740576, 0.18559896149128816, -0.6332496355592496, 0.0828963056740594, 0.15079905949548716, 0.6945025721374529, -0.18248203644010147, 0.05023896979485236, 0.592798722845034, 1.2380434829369071, -0.29498660840406743, 0.2453778497492384, -0.18036096742853067, 0.05792793148484222, -0.5402202139722888, 0.47783923520164456, 0.6916457480778523, 0.066718174054371, -0.35382355369258656, 0.19590664307047687, 0.2609250289246041, 0.369961622690012, -0.23618186851123812, -0.18488958366591496, -0.019489468576726798, -0.05434337222607659, 0.5993579686155227, 0.001449510526689313, 1.2479645728193958, -0.18423900469738758, -0.027438653264118977, -0.4055994372373549, 0.31176408852319526, 0.013607940655297057, 0.4333703602480339, -0.06267166747557822, -0.17945770624078033, -0.2864140874201243, -0.071699230196292, 0.18812509171755457, 0.3955092631764543, 0.3980069083419899, -0.39837873380481587, -0.27229848989873984, 0.598498661229663, 0.6263273748242988, -0.2811357914450407, -0.16498869236763947, 0.10184578490246435, 0.774581389403587, -0.213335803663902, -0.09137468261701469, -0.469040589024924, 0.6086670978029756, -0.6144489005224449, 0.2771335334032952, 0.3880854040391923, 0.34207130081386505, 0.16327854316047496, 1.080411392713294, 0.2274795109143326, 0.5753006389440708, -0.09009733957710922, -0.17095635453445016, -0.10265690799865212, 0.39885807271175316, 0.5167867440709409, 0.21604197998805333, -0.05666636803999252, -0.4347676072878607, 0.6227596351263305, 0.25505444214519174, 0.39221129993153236, -0.43187595204028933, -0.23929497745945735, -0.1710129261902918, 0.48591466166556163, 0.827440681252247, -0.01748941207355031, 0.17623855910488448, 0.1106357983546636, 0.5971201092455303, -0.08409596101260607, 0.2999472833967149, -0.3776258671391625, 0.2445678861820897, 0.5945101910651722, 0.9439854024993549, 1.1420054098410037, 0.4433612511543596, 0.7481273731378187, -0.0515993352355677, -0.06653712874340947, 0.6057906737864533, 0.12137864995318164, -0.5085542746452713, 0.23112252271311967, 0.36988241274722633, -0.02635192479759597, 0.2675061697209056, 0.5734790484771969, -0.005035063431382794, -0.07562599178640043, 0.28033051649398394, 0.16114407545809983, 0.03270458263214395, -0.03939592283956106, 0.2993579140269424, 0.1738260476717437, -0.1232520054440332, 0.17627067012032277, 0.22884821218600218, 0.5960069208727117, 0.049626710877163936, 0.1082495564095168, 0.6227720708731856, 0.08825350562264753, -0.19352222588121462, -0.34901579373272634, 0.49986173216621693, 0.13400192067548358, 0.6722930942083458, -0.10444498775367074, -0.40364352643255524, -0.007000217008714309, 0.24972312740353747, 0.16740622165719604, -0.2859744656214478, -0.6458899133779843, -0.5216148945683903, 0.00450057371702086, -0.36244983206071946, 0.34878045354627085, 0.2660624793809157, -0.5570184402566186, -0.152679462664455, 0.3680959186182063, -0.3190240274628113, 0.16625855193917838, -0.016216870601776606, -0.2882576369686205, -0.023640357122562614, 0.16214435971109337, -0.599674874994833, 0.3587314309947914, 0.35210182839918475, -0.039142518965870725, -0.36583467842138656, -0.08956850685592026, -0.20436606513474198, -0.6168439350684489, 0.26674511755479985, -0.32630369093277634, 0.15006558862074829, -0.1899236574346118, -0.6009568032162803, 0.0819286896522203, -0.3139990194576343, -0.8323493811644513, -0.03571469167164092, 0.17964364668776764, -0.2785056251535875, 0.424001321402682, -0.03065828462294276, 0.8108075065886191, -0.24441990296898047, -0.14867367586259883, 1.0339258524543404, 0.3522862789036249, -0.08587401526714017, 0.33217100268168137, -0.17363287799220123, 0.1673376386130427, 0.8519801620520666, -0.2659393904534766, 0.22041601334059643, 0.1924569170444584, 0.9615300124449766, 0.7538786292696653, 0.6618995311093719, 0.16582539016600684, 0.2058573788711085, 0.1386520683950886, 0.5286245191919403, 0.3602925591970499, 0.5155067047953219, 0.5457427051624475, 0.13192801746946714, 0.13534163700961443, 0.2705779454631613, -0.08476194892151308, -0.4336758948043432, 0.048074739660061254, 0.47115293478283904, -0.18732363718546235, 0.231190698840724, 0.07166568474349934, 0.45430531089035475, -0.19028989849086517, -0.3750939470882815, -0.05401757599147443, 0.02354440972123008, 0.17449875127225214, 0.10517143193760405, 0.3940145954135626, 0.7721457620915844, 0.2974021115754148, 0.0943987525436743, -0.1671715491617536, 0.1847549882750338, -0.15566206571529123, 0.45793284466264506, -0.059256803827381, 0.6456036080628875, -0.036484304612091505, -0.22054487723690333, 0.12342547266160676, 0.20838874528803802, 0.24664010813427728, 0.1521032944350479, -0.07321392418939998, -0.010871181152506973, -0.35837049419061145, 0.09507046060146801, -0.2652599141843654, 0.002940650426376769, 0.1762753585944014, 0.8765904796613856, -0.04154817132706247, -0.3677628359674458, 0.48729799667467094, 0.019429269231858736, 0.05336407212670099, 0.02682437847750043, -0.028143914132141724, -0.07471410541379563, 0.6214165956866351, -0.3226599032486766, 0.4885096101620835, -0.3323639202878969, -0.2915048610705197, 0.114940090987503, -0.04596063077574922, -0.0075041856830145885, -0.0132419285769382, 0.7844587210072457, -0.3969915179478031, 0.36379369461998023, 0.8553334622907591, -0.1899056646597241, 0.5237334021842613, 1.0797346512521708, -0.1448140627187584, -0.3116733919992884, 0.0030042133319160415, 0.03635690137189925, 0.6677459129268134, 0.1204477537277896, -0.057265769572165864, -0.030880284089156947, 0.6891247112359563, -0.15701049878452544, 0.11932992056098092, 0.08465134265660597, 1.1014494678250426, 1.0771757993637148, 0.9699062474528631, 0.36457201393666216, -0.3804960901854791, -0.09116825121972663, -0.46803623533035, -0.809616566635306, 0.30058564132433474, 0.9999428056979206, -0.439169296892248, -0.13646522876718614, 0.9155464592353197, 0.3451152313412298, -0.4162790963873006, -0.08242353797392907, 0.18401566398505997, 0.09140563368051513, 0.17880199531349944, 0.30887607676928863, 0.05829214955670894, 0.11674465467781671, 0.3358081024278409, -0.29625991020472137, 0.2638158403548189, 0.4468916980785166, 0.5812045821852588, 0.8571859356878013, -0.22513305209012197, 0.2822048913515501, -0.3193090562865458, -0.20227079291683034, -0.008084552323252149, 0.34782724491030165, -0.07221111361776164, -0.6421208655915045, 0.2438173049732213, 0.40230624915098845, 0.35392610983180306, 0.2060850162956418, 0.04123721026837192, -0.21676328974101303, -0.44669389597528225, 0.14565346005564137, -0.5912483254898647, 0.10620496043561892, -0.64423264204656, 0.0214473821098434, 0.2330966096978659, 0.1225501813306063, -0.6148295143558472, -0.31994377203674185, -0.33096386648782683, -0.21297210155060767, 0.41213107126575943, 0.3333611374369314, 0.4294088726500082, 0.14030088852948852, 0.20686476440567178, -0.16374820857406977, 0.10553785262451737, -0.17385433743515874, 0.12782887734614623, -0.3589517286004286, -0.22027736220642272, -0.32175201102738493, 0.37303600875064047, 0.49832257873765073, -0.007912812116767604, 0.413069471893092, -0.22759461322780455, -0.007318373251760579, -0.10645513104288062, 0.6777829928464856, 0.1368051692941434, -0.287919454571394, -0.29967756626708303, -0.37860008024513164, 0.3692128321970789, 0.04592602187673641, -0.40760357302663586, 0.6756229208117392, -0.08243091787743426, 0.6172579804785546, 0.013375911961776142, -0.0244846178315507, 0.06955742347362706, -0.28342876446546456, 0.37675253771197686, -0.10270119478901345, -0.13562417668475937, -0.27687193684397987, -0.35000318100615985, -0.49116920726282287, 0.42515867846183697, 0.7880148109322698, -0.34236396665073227, -0.3539302843881968, 0.41284424998963337, -0.5669162450423071, 0.038787466498663783, -0.3462799666793806, 0.15199804027602476, 0.01272665728165487, 0.4453877370272836, -0.2472053879370181, 0.601272972027261, -0.7191987464264952, 0.20113545060836874, -0.41112521526466356, -0.21029096079858695, -0.535778875590966, -0.1716484603247352, -0.5088126628553439, -0.39939729375134997, -0.20803986910708697, -0.45164455851333185, -0.5161759493787703, 0.021039196923805223, 0.19144721519377297, -0.025863679169472468, 0.38780316414482263, -0.11069636714902023, -0.12977086606550758, 0.13341677549500722, -0.377388693764741, 0.46118681928293237, -0.6694133062456682, -0.49536490857399146, -0.47928043823345046, 0.03439860568851338, -0.2475516253419298, -0.11290093921061159, 0.27375403322847114, -0.3958809600370199, -0.1806470973934261, -0.46915633154318165, -0.45407921356690645, 0.20111722273480645, 0.713495682817263, -0.22586795557164863, -0.7487025344154727, -0.2478108775372988, -0.4282255387506388, -0.4364159888022421, 0.286368264340618, -0.5200692579824532, -0.6485763839921657, 1.6038950790533464, 0.3478658275673146, 0.777005050895667, 0.42407121016517235, 0.40045359996163604, 0.5526630980330731, 0.901598874579025, 0.701575154502778, 0.1181598973889247, 0.33463053272553156, 0.5008236662560908, 0.702136738899792, 0.5024007358563622, 0.7952862684059353, 0.6471533617246897, 0.33436353971423843, 0.22697688435516164, 0.5022185055184423, 0.5303778763795656, 0.050669861668824354, 1.1170974140330348, 0.8131962272415383, 0.5587252254462061, 0.021529816754222178, 0.4985453257268267, 0.42493317013529125, 1.0594766462855199, 0.768526957131372, 0.7331981086781132, 0.8512044742394239, 0.7973635911175857, -0.18968587846642823, 0.15779171673489906, 0.8049212453368095, -0.09368338714811487, 0.5526921845139784, 0.10074482393248829, -0.08731954630956476, -0.4361363831770628, 0.39807588119756404, -0.34148194772815255, 0.02001027585962444, -0.3155806342138559, -0.2306779385337861, -0.006328362825935717, 0.17925060624706662, 0.033882168743602635, 0.26757957089156786, 1.258590719869029, 0.37703828686053525, -0.1197354540380526, 0.13342900767349986, -0.1885109033194079, -0.17371071267592048, 1.1575026134320543, -0.17133229588287385, 0.21590090735994577, -0.41174130331971703, 0.30321748466267484, 0.02503399764161487, 0.49475771157357373, 0.6098170563176346, 0.05883334846020389, 0.40144620230214334, 0.6502361718930969, 0.19444819022133014, 0.22712646581156393, 0.4598574845797586, 0.49640892916326057, 0.5536113066699327, 0.39601456611844715, 0.09805179622576989, -0.1610165388230515, 0.6352323721913102, -0.15200809663839063, 0.6383139426221446, 0.9458338643185473, 0.19076017432261114, -0.3119987366516356, -0.6437628225845187, 0.5369791429181143, 0.07458558495430426, 0.5702685252621802, 0.954913713954997, 0.31119096926380246, 0.7830626751372533, 0.1427131984247249, 0.05774065202621541, 0.1483276937515597, 0.749036332628196, 0.49568028745150083, 0.05825829723147491, 0.8862812155582558, 0.6327953586590581, 0.6501288976950246, -0.07893396994296227, 0.27941334421343567, 0.24692942177246646, 0.5318818244461022, 0.9366147369414972, 0.8710759423654735, -0.16665524987191435, 0.6092132426389301, 0.837212330735182, -0.14550507507938532, -0.32355347505050697, 0.06776857004349171, -0.16127700772657333, 0.06907457400154778, 0.4093288332720554, 0.07928466071683284, -0.48406253915575176, -0.6065421044605933, -0.08014125037911078, -0.3684109203569563, -0.19401108720316304, -0.291812109339895, 0.43642752833353476, 0.370071946694054, -0.3811053117623982, 0.08495094267668762, -0.05862314868395691, 0.125532098771813, 0.2629545030508776, 0.4926352210642708, 0.5536054210886143, -0.17242498665990005, -0.21193191412840018, 0.13330287514615347, -0.3692157932646791, -0.3425184749942034, 0.39202282054046894, 0.9942791478972213, 0.7389585660053244, -0.2048409219920045, 0.43398952164515964, -0.16594953074122987, 0.09238197857186238, -0.7696057425626474, -0.2077817278916477, -0.3011927290260634, 0.7069309630127185, -0.2117554718142201, -0.08869846940475005, 0.4659257988659263, -0.0985954169295394, 0.42766080592320543, 0.8026348087952261, -0.17125800879985129, -0.4226667470163837, -0.15483296435203986, 0.3977336113980873, -0.47401749754492145, 0.4712440590822716, -0.10666216583518226, 0.05348559589886303, 0.17707320724906941, -0.48906976125728036, 0.5613620580320483, -0.13916482551536638, 0.2185165437130592, 0.46779217933162354, 1.0911612609601962, 0.4116084080283665, 0.3320389768948286, -0.0830694090413007, 0.464595120293863, -0.26575900545407133, 1.1499331991545487, 0.29250164279265944, 0.49283956445075217, 0.5536943059645164, 1.0328534682111576, 0.2918364081778745, 0.26367396055647774, 0.4632484380526353, -0.04643989576044075, 0.366494604478761, 0.417548046899061, 0.28361878987657646, 0.3825839533472411, -0.17566111620795136, 0.8619089078530486, 0.10968901332977504, 0.4932719253243037, -0.22370008872166944, -0.4282500639258375, 0.4066780663351665, -0.5750823140049809, 0.4992995641478193, 0.5830872173187792, -0.10260494350094146, -0.699956352080467, -0.6087805038215117, 0.6351046189701834, -0.3079685031901366, -0.004170620271691246, -0.45192250754054886, -0.19579819354101793, 1.302783954522321, 0.0035408963137213653, -0.23618046019988795, -0.33731515609547447, -0.15187092668975896, 0.35692946406710163, -0.10974904137560872, 0.31544779730758243, 0.2301848660864143, -0.17394002836199157, 0.36768428127794023, 0.5923143511582374, 0.367033002535103, 0.580674240756948, 0.44938688579514713, 0.33908014427244676, 0.7672111989338325, 0.21858359035546154, -0.5451943795278685, 0.8439054346471285, 0.5665938328870315, 0.6040269046725312, -0.8405093046208794, -0.28366114873267606, 0.22692094520058634, -0.5194528797933171, 0.22012071421450488, 0.3300871039018805, 1.056554476924484, -0.08790066703923241, 0.42303708311035637, 0.9963126994580206, 0.7373568910402569, 0.3395066154718513, 0.23037414245777477, 0.3432759686944087, -0.1590529369739891, -0.3084891166307345, -0.26841631184108056, -0.30540532407292276, 0.16822667651885448, 0.4431301456521357, 0.22834453828409174, -0.3019421777720116, -0.11079090513581606, 0.025001044739153367, -0.014392326005825318, 1.0767558707137501, -0.03996647231043411, 0.0453651596398776, -0.14233789496345708, -0.3273124080771035, -0.5394200255513093, -0.24362093623896863, 0.403332190514364, 0.6324969056751717, -0.06122569609575933, -0.5703804402528424, -0.35436318110909537, -0.28504217176747954, 0.06487354238405979, -0.2515562104159717, -0.2919342335339144, 0.8921668507369601, -0.32257968469213594, 0.38502521546898394, 0.31448686266975046, 0.7045734407948827, -0.5948201701042298, 0.12968818528288387, -0.13399598616424052, -0.33456208992165765, -0.44623500230556357, 0.4672492984826137, 0.5994857726638789, 0.02972508441648707, 0.5143933809858395, 0.12683187484105707, 0.054668892055780294, -0.04444768754604044, 0.07692118438041994, -0.32812664781424866, -0.29864687286531066, -0.00837675802453691, -0.08450059602489803, 0.33701870736565037, 0.3979006338452015, 0.05560138558807046, -0.065821750055405, -0.19375923219219518, 0.18289280787631187, 0.028106041586426482, -0.026887339549481856, 0.7660889659817306, 0.22807206826869456, -0.007728725295739771, 0.20631405084899201, 0.21996295979402966, 0.10570237555475008, 0.6460647167631084, -0.17110601289809788, 0.632471937103249, 0.1757662253827525, 0.6762028072131744, 0.03167850911287, -0.26593814320566855, -0.02889341855037936, -0.023290329191022825, 0.7398282625675432, 0.39679286024093696, 0.6848601397208868, 0.5387409136178894, -0.3281517214091918, 0.6582146646854667, 0.7920911031556602, 0.06559774055081372, 0.4359229510130014, 0.13354575621931636, 0.052433918616977236, 0.4909278466961282, 0.04436687338905708, -0.43672358170202685, -0.06625420331633161, 0.7139456779442589, 0.2595533594579336, 0.03341652609881274, 0.32749843477034934, 0.0881083852242993, 0.48362702458241386, 0.6363226908337907, -0.2458514560931076, 0.1327254210655178, -0.35313745128226803, -0.26673839119373105, -0.4108421615150978, 0.2327296823954852, 0.5100888825759943, 0.8523155967374514, 0.40340799425918755, 0.13262165425817818, 0.5678785023025997, 1.001111978505413, -0.13421937791103797, 0.6010626670100264, -0.23070064286996245, 0.5014072434296424, -0.2346123464361662, 0.32818920716827593, 0.5012099585133796, -0.36903501923972754, 0.44950638612909927, -0.13690674063364486, -0.13036663472615356, -0.3912122892952208, 0.1863508510260761, 0.505254238598265, 0.14722431676069214, -0.20733221651497885, 0.6795867114511488, 0.6089350671502477, 0.14148339092433024, -0.14729434764735175, 0.5419830714471197, 0.06963186499132766, -0.1964741084909724, 0.3719189083976224, 0.31850648948185506, 0.1868350569338004, 0.0107703833482245, 0.45713688261252367, -0.46978596535908945, 0.28224726379118975, -0.20178248514301192, 1.3130207846394553, 0.7038524451035834, 0.28797057885739635, -0.014557272932671625, -0.07847729263863777, -0.2415692325608369, 0.5139994185021389, 0.24527276603986417, 0.34918854108154734, 0.6696205935322582, 0.25139559067657613, 0.5145414862607235, 0.06842566682851395, -0.1475466392689731, 0.5607526501985618, -0.016421468731131234, -0.8031103512159163, 0.6916440612262392, -0.35275441653396405, -0.3231776233788919, 0.4426721341691732, 0.2212634347257768, -0.2813894774162851, 0.07496628069969997, 0.12443657592541342, -0.49491816244097564, 0.16777936803522966, 1.1336261939278354, -0.20191214531303694, 0.629546693265016, -0.3801389924714507, 0.33066465820054497, 0.8597393036284894, 0.8699344373752886, 0.23534835262949508, 0.21048301028633548, -0.18251522246417584, 0.6065182507375826, 0.07872779356054922, 0.3858960238734239, 1.3728231088970038, 0.8760086679516077, 0.39267030593791363, 0.5062006981402687, -0.598419318317746, 0.3181794834406496, -0.19923634612700278, -0.7000551826887004, 0.6428819484177759, 0.07191992339527181, -0.18696110764687496, 0.15606658375558388, 0.13127572760794018, -0.8308663932122837, 0.8643420925650085, 0.7174786042758067, 0.5225217180826699, -0.7703565668412179, 0.7536722958872869, -0.5438708523291295, -0.2640855193830971, 0.43025785446074294, -0.48319103998273616, 0.7665106362814558, -0.29076184284831486, 0.22931545560763072, -0.24710108385434676, -0.05937201738102056, -0.37302132279140715, 0.2597858447176659, -0.06945868113192195, -0.036578481432672574, 0.02021083155051155, 0.7645683460428006, 0.12167367227405382, 0.33616021812259994, 0.19471316526272442, -0.33917794069474033, -0.13913455075363335, -0.47883722788109095, -0.42771961685684523, -0.017491861229858956, 0.09424381508240183, -0.16479549438449292, -0.5672552695912406, -0.5994132643997572, 0.23632583139564595, -0.36021647827346687, -0.17168904000636817, -0.5013534073308458, -0.6023191337951913, 0.2197400597252687, 1.3601248251471114, -0.22397905548908892, -0.3138276094544233, -0.3993147828679262, -0.1654584383537744, 0.42171278577780424, -0.3172501631927675, 0.8416204302093703, 0.07138999523157717, 0.38282104037093495, 0.06559846589530755, -0.162566044364733, -0.3720439008330145, 0.13462025731758306, 0.14080423555359287, 0.07000845475004046, -0.25918308728545164, -0.5921053015312481, -0.740929725630299, 0.023944421879047693, 0.5439440081436835, 0.00701625981290003, -0.22950308040549589, -0.22545395838575544, 0.6283667355772969, 0.24564559159421934, 0.42220053349161313, 0.3243816928321405, 0.2991210340439055, 0.5132600534123238, -0.05656868735875653, -0.08200498920846447, 1.0467287413883983, 0.011989756450028945, 0.5353863161210523, 0.6016331107601322, 0.5403595265732944, 0.27468407844522036, 0.37769345928196496, 0.8638423691405164, -0.546223139374194, 0.10736826516888001, -0.13471311747065637, 0.7461427971071927, 1.1163386429634052, 0.18777742247031923, 0.2502425172478017, 0.2892870912866769, 0.4910878910261051, 0.34476960598412976, 0.0660521535126782, 0.3576403647950925, 0.5748720021983905, 0.25228586685137816, 0.23037623836856777, -0.27983828180882764, -0.010933757170257121, 0.7081383956457518, -0.28233550868279844, 0.3881552981509487, 0.281349112042883, 0.2579168633042241, 0.023689190436115632, 0.4360265052761603, 0.19061833767465025, -0.14661162765140673, 0.5561073081969714, 0.5414726682560029, 0.427506650513216, 0.9347138733418721, 0.15748722724731423, 0.45485962167058414, -0.006109200152791939, -0.2979849490115247, 1.005271336453366, 0.6662628708357845, 0.2008686918702275, -0.4487462312121641, 0.609072747836787, -0.09845786032002074, 0.7830842528202389, 0.2737015415745118, 0.2842901749778932, 0.4301436475363652, 0.8509536720586772, 0.5715849563786348, 1.0957737287664298, -0.14790483593038586, -0.5912637027059856, 0.51996244656468, 0.8413905342362951, 0.016428457639983768, -0.041630871186799784, -0.27930597771612525, -0.16179730036883788, 0.44980418687420476, -0.36074217172981266, 0.8359562535495524, -0.03187689146393014, 0.5046082980133002, 0.700595990322241, 0.06583006272650974, -0.14076879696457253, 0.12150581551923703, 0.1989952341441563, 0.8248765178770777, -0.07408923581996119, -0.0014495773854680924, 0.41308337932872013, -0.500246060658415, -0.004144182341900542, -0.4819433405336004, -0.01655735790001093, 0.3527564347706109, 0.5203384452605084, 0.575713188908895, 1.0222200770935268, 0.18984433058634886, 0.5186957732125279, 0.43392201443924483, 0.05574163659406635, 0.6296808762889357, -0.7705877056790507, 0.7865576267974478, -0.7479704177576755, 0.4988758038222303, -0.32226671615914276, -0.265415334795794, 0.2559845319397278, 0.2658062139797765, -0.22459388198945776, -0.06696601716256578, -0.4932940393635496, -0.2513821413006098, -0.006216960533156119, 0.2402492969848622, -0.44853978684263, -0.07289852709849819, 0.8651360061125628, -0.032068723629203405, -0.07462701981028452, 0.29932331902470755, -0.8122979909667933, -0.6842728338932319, -0.09919660808605445, -0.011716660751137847, 0.061375317855055164, 0.17629692534397187, -0.16430132316279522, -0.0014246806589260812, 0.7889840239516392, -0.6543446217863798, 0.7593158201674457, -0.4563280941376099, -0.41447823076095247, -0.31898500184167294, -0.00335620353056713, 0.2097419932254028, 0.8364174913067348, 0.22288948433870043, -0.45970675893090457, -0.3277113812112826, 0.5276425962829442, 0.21319381524839148, -0.157753097074833, -0.22146621685560886, 0.43768043092378217, 0.05434439323582442, 0.27947174978010164, 0.1568989520790807, 0.13378094941120855, 0.03427183252736209, 0.9823114120523765, -0.1086494967622514, 0.21474208463618594, -0.14529345540311986, 0.044070677661168706, -0.12730199568546186, -0.6911480819487528, 0.2772770920411791, 0.29991454036211324, -0.21417184730837122, 0.1428038736005867, -0.2582364532256169, -0.2749437504400551, -0.4608639190296359, -0.011680799133615558, -0.0752492699259161, -0.39610038784224944, -0.3137081170678647, 0.6173364534142394, -0.22720507265848394, 0.5978471115611619, 0.843434991233733, 0.790465203425621, 0.34827857216496944, -0.4259318872944244, 0.08947351765310164, -0.025009677232175162, 0.059345478334739604, -0.2468304565805538, 0.41516091722368054, 0.9968782062250516, 1.1282648935621529, -0.45496455316629186, -0.12694569370338274, -0.3793653072873117, -0.5639309369585701, -0.10936801273957268, -0.508412435531917, -0.025466031671138336, 0.43445388651617173, 0.2670282095519278, -0.12797939482470908, -0.4501672865143229, 0.4313424133846146, -0.9456362833141502, -0.05887335001065571, 0.24146845103867548, 0.36010324022954043, 0.8909920736257319, -0.022262400401929155, -0.386501469829464, -0.025563647943790457, -0.004599657655963059, -0.6843418192821799, -0.4647843335463494, 0.5969814842437361, -0.5193935519089304, -0.2150650845014679, 0.6808548071503319, -0.3180955653801033, -0.034821618612906294, -0.3416579180920154, -0.664819353010422, -0.10166718998704406, 0.5709411250565268, -0.15338154514645033, -0.5110283807080408, 0.020558954193463923, -0.6560783191146604, 1.231233186720419, 0.3875367144075488, -0.07777012391233991, -0.0711726751228443, 0.44940019852670965, -0.5320135276016724, -0.43794542077756693, -0.19733377644281205, 0.5225942576439796, -0.2734108817047407, -0.04264794676226948, 0.18722976545572628, 0.18087120933177803, -0.2075147117988126, -0.21640613549518467, 0.20157660057369223, 0.5904852344352242, -0.039731942045668114, 0.29349658366680553, 0.461772402513506, -0.16914274751717642, -0.2727418441553438, 0.16740967276233096, 0.3144267771035813, -0.027604149533631862, -0.4809207737939315, -0.14105019710737018, -0.11123342013068217, -0.16571607995871515, 0.2438414693351004, 0.7205320926202987, 0.37945765445057794, -0.7343981568023216, 0.0741438969939025, 0.6203521487707163, -0.1386282948517873, -0.5162603346643697, 0.027421705574015954, -0.21134396865598426, 0.10318831590176825, -0.38728434712586784, -0.1997383233044547, -0.40403484944379053, 0.39576666163880675, -0.07230491589810675, 0.18305353524565796, 1.0596034966331958, 0.7662754264279592, 0.04541004116777399, -0.6661540569096022, 0.2962749230813526, -0.08527497377418015, 0.025587659607347952, -0.21922645018941603, -0.10727973001736214, 0.46236048083613646, 0.4280450549222985, 0.3079704219492022, 1.1790526064464117, -0.002764901582743528, 0.8172170492881968, 0.4187954297845924, 0.192128900477286, -0.08883526090014408, 0.21185627431204426, 0.25191327711615297, 0.13485038687467982, 0.3496619134195776, 0.49498798252237297, -0.18578386027621455, 0.39827907672886503, 0.2868461243771054, -0.23059835210943444, 0.391395198443677, -0.02317276767072377, -0.6424954478564874, 0.19632814433807041, 0.657438081689267, 0.10071307807825158, -0.3312155036131519, 0.2035425008699856, 0.06695184620670544, 1.1688471569752357, 0.07754634452604219, -0.7536252502532276, 0.5004581498823292, -0.5740397537127223, -0.21356474381540136, -0.2793431615562095, -0.07037440092540444, 0.03730740678660355, -0.2298238908158476, -0.07032127790732388, -0.09957398559852604, 0.38718998646581443, -0.20325689109002198, 0.09583676648964204, -0.29119980420834013, 0.2765019965267599, -0.08887494734538871, 1.055519133028903, 0.011080401174808765, -0.01120633603944398, -0.14908780921016657, 0.7103522738776814, 0.13389938942129267, 0.6563128670169776, -0.4230996767214955, -0.41561346849964464, 0.3578957957845178, -0.15434372608897412, 0.27263128690501776, 0.55468869783823, -0.11629123792487864, 0.4400687131510676, 0.42246747416508657, -0.01879297661958876, 0.24530476305290697, -0.28940604432073225, 0.6252709430512501, 0.8299739838277791, 1.1664211855426407, 0.23717460898914025, 0.27977098759701946, 0.30024672143047504, -0.04927976366760388, -0.34895415251916084, 0.11739686381986274, 0.11939139267934115, -0.4304215616083256, 0.1883177556809061, 0.8477128770393725, 0.5316844976266395, 0.04029849025346824, 0.5042599381344135, 0.09060226304532593, 0.5096858762717519, -0.0344057880332669, -0.21436312913812566, 0.3928445289157506, 1.078799148306901, 0.7742790875329186, -0.27960398042841944, 0.2184123199996155, 0.5959493246791228, -0.10468394783929912, 0.44257634840537385, 0.26766050196354463, -0.20312386460788312, 0.6097187161247916, 0.6153769510583522, -0.5543159146246015, -0.2358809835167517, -0.21411011461521268, -0.4893004369732688, -0.07281280740904801, -0.3085388358303772, 0.6933819837664084, -0.2159673701711565, 0.48777834611118853, 0.2090453333709613, 0.38271337978566794, 0.2074843128914335, 0.9654624609795929, 0.008335613784154575, 0.2463452652396777, -0.09326849431850423, 0.5429964191036463, 0.6350017436992229, -0.36530474447678, -0.8957985870521529, 0.16147330805158822, 0.5914371352107786, -0.4258406743665466, 0.6689568860084848, 0.3059061783641597, 1.022694420629743, 0.04188445027970298, 0.5142004157974481, -0.20473935277973537, 0.5556807451382456, 0.04047058714029956, 0.8483254438810801, 0.5313122253016228, -0.5316232936288539, -0.3814025490806789, 0.11281628534377679, 0.07311818412334409, 0.927368039083803, 0.10932528215920516, 0.8146388868132244, 0.4666798025826954, 0.3233283353908618, 0.3532899966793344, 0.3948311523007989, 0.1253219781734651, 0.713139001668508, 0.42746868799488774, 0.21136531257262342, -0.11149780160811741, 0.022526525354068006, 0.3950992249922191, 0.22747444527246694, -0.19842173610947456, 0.1587207088064307, 0.7745199494665684, 0.06609832538528944, -0.13137645769174638, 0.10058312527871846, 1.0181890861309237, 0.23125372947882925, -0.5275645777058511, -0.3972171584933248, 0.6173489727031477, -0.4545486991170409, -0.6221816412287569, -0.6250973269361749, -0.35891851595716057, 0.3912500273568681, 0.3446761346290225, 0.47624299243519014, -0.2508913603122782, 0.5777707357155968, -0.2604391193813799, 0.11602325737047121, 0.26980299856703405, -0.466721722815796, 0.3545044871949145, 0.7845088996823995, 0.6934809115191586, -0.535158788061299, 0.23616636690517437, 0.07552368179689303, 1.171512197882661, -0.5793164412193065, -0.33324999540814754, 0.9397082992401365, 0.10486672106560788, -0.07556070615690656, 0.7948235354687879, -0.3751734575980286, 0.31588051622555097, 0.19540826868084177, 0.23318623046883175, 0.08437472112241284, 0.4349994600810857, 0.10700350053597121, -0.013805121978262582, 0.470037991172699, -0.17648715240189664, -0.011234718589501421, -0.25838975541756887, 0.5740801168418277, -0.6191249635272197, -0.6937102206039125, 0.14694251700013472, 0.23769772132040073, 1.013091230714372, 0.6989082132696173, 0.8897470486543373, 0.7802227905052302, 0.5182821717405997, 0.27250937172355216, 0.08719192645407195, -0.02792410211707554, 0.7502250413192347, 0.2389045739524107, 0.5851979189069011, 0.5204425573722267, 0.5175364003125353, -0.19910843552899976, -0.009119538798685904, -0.09429813347895043, 0.18304234874937997, 0.3796351579792722, 0.030900776782230948, -0.08949499938164633, 0.728198803404362, 0.2764635977842793, -0.07753620570223846, 0.3668165344443233, -0.12502956431803472, 0.15291833932063376, 0.13674218548724024, 0.8779341976418613, 0.18219270422921074, 0.33340903560886687, 1.0387750652419083, -0.22976455934169832, 0.6641415999977793, 0.07065638831418528, 0.9776114068620638, 0.31437322632893333, 0.05707971268634743, 0.35120430374655925, 0.5677675949293807, 0.7718582642855422, 0.3398905065147608, -0.17871356373456762, 0.39830295785211867, -0.09947249266046003, 0.5163809555412282, -0.34929074443923613, 0.4294470681563, 0.56862258772781, -0.32459353666162344, -0.11065733930538704, -0.19374374722726198, 0.7602915581919872, 0.5138728502967457, 0.6847093999894447, -0.11199669848410655, 0.4202009185145761, -0.376901545019069, 0.25391195566557656, 0.3183338566309131, 0.08936693817341584, 0.47142584535331344, 0.8752394546936103, 0.40726163810471017, 0.17998712646896345, -0.007597114983824628, 0.24257421624528314, -0.4179953259778117, -0.2076054245467959, -0.09034421850384772, -0.27243909426433877, 0.9652431213118443, -0.017420948844923456, 0.5633333790771652, -0.24389377690040537, 0.44172161525070647, 0.6182149552784225, -0.052486339603704406, 0.9352036550186974, -0.06507921340580237, -0.22074637897556088, -0.35161795022525005, 0.07866868437516025, 0.6769014367692965, 0.6148872025594685, 0.23874424854098883, -0.21304768286288817, 0.3065980836603773, -0.025578069769779527, 0.1952409747189372, 0.02005709996298846, 0.005047068435992192, 0.21643459252917654, 0.4006367720119918, -0.3260619472062869, 0.009343612312812803, -0.49152583207921235, 0.1413301318100123, 0.13217846470680353, 0.5706419104083714, 0.45981450902998505, 0.7622757543961077, 0.4974590528764505, 0.538011716651317, 0.46531876808391526, 0.08871266490448579, 0.6228599301297525, -0.010029789575755281, 0.3235727455533886, 0.04553115978506963, 0.053674288624718076, 0.2708595051759428, 0.07652270941750537, 0.25016480077033404, 0.33269135867113553, -0.13452804234952004, 0.22752328433374847, -0.2131595712577903, 0.5794994314616196, 0.22405032852043846, -0.35918055654434844, -0.03624315448582301, 0.3682312699097335, 0.4335117367865171, 0.12650753748760973, 0.5506136598816544, 0.05875691568263232, 0.3319420723290927, 0.9469898198584351, 0.4585116372993011, 0.19604353599065424, -0.5465008806617551, 0.9085129581329437, -0.20649866284388813, 0.2533710433713612, -0.18164110674715434, -0.15761197769258836, 0.7002894431785069, 0.9076917362355189, -0.2875991865215877, -0.20053109734903735, 0.5702225662576861, 0.48884030424929953, 0.7075045284692298, 1.015088454073165, -0.2025674775679358, 0.29472811120420556, 0.07437872513526056, 0.6528364787394236, -0.11450765054905275, -0.14647448993979545, -0.48831780525491403, 0.33348668078220467, -0.12622711873506637, -0.5305293880968227, -0.3847722468480722, -0.27849623964023973, -0.020634595433149345, 0.2581260745965699, 0.05717859075517162, -0.24783236875923384, 0.6886110236532702, 0.1820290177261006, 0.23713983016220605, 0.16661835202189995, -0.3274185900723358, 0.5328388706681679, 0.5618412812552385, 0.13082403985955895, 0.05952088133883417, 0.07168985909700631, 0.2242284548781572, -0.01759498038874204, 0.050313450929163624, -0.1385347815385285, 0.13433394006478788, 0.4706237497129359, 0.312652580792821, 0.2876779060188029, 0.2324630072540068, 0.428261400597305, 0.7671242676165425, 0.07426343738163788, 0.8622366917259927, -0.12272345744996051, 0.23593401235386216, -0.03314734687198841, 0.05434809687112303, -0.2982560981592791, 0.5674040286317855, 0.20394137737517828, 0.07691600253810352, 0.18303267712415663, -0.36876977965158236, 0.5408421254104905, -0.3489371219412824, 0.3441547588271196, -0.476578874177453, -0.6624310313369571, 0.1640847410235537, 0.6560722016507845, -0.13717595301057373, -0.450685707243809, -0.3144033194875618, -0.12080704703913081, 0.17396552595688555, -0.09586768200788787, -0.18647304501592, -0.43444452974886816, -0.2157335045385448, -0.17480299910899602, 0.1162665216761374, -0.3983780679683907, 0.21986936858953757, 0.624084523778165, 0.39131140847995055, 0.3979375817867024, 0.4399232740192256, 0.39044297137807155, 0.04594761238842781, 1.0369280019653002, -0.14607102619237078, 0.05380640346698338, 0.3435211624445311, -0.27074594111579947, 0.22445989629034666, 0.18204675517902924, 0.35109729299349823, -0.45917773169306425, 1.2538794733931549, -0.24479103794326687, -0.004895773383273195, 0.2741444130597725, -0.04314805761754375, 0.7365376575886496, 0.7999819491348003, 0.9218565455720763, -0.4567718209386608, 0.37750860585953655, 0.2507117345434912, -0.39090166497117224, 0.8898593565066159, 0.7325342395941531, 0.25717211107365745, 0.9322155152862144, 1.026724468725261, 0.6290387025784872, 0.8750475012546627, -0.33507170906823797, -0.09901628635949745, -0.05074235553114973, 0.21314222107059133, 0.4791968753257297, 0.7745707330855715, -0.1865230540032298, 0.1700017603397419, 0.5769575050063461, -0.11901793163745038, -0.20731502234060603, -0.26202151688365966, 0.1372339084399276, 0.3142090225294606, 0.5256281573486127, 0.18117302608802593, 0.06667971689422778, -0.16818656573509053, -0.00428818431879279, 0.2736194624502613, -0.25350144819446596, -0.6144025313169958, 0.6132623097206721, -0.03541414987280171, 0.273613064571126, -0.41651164029925, 0.06728892644979848, 0.9785470966390587, 0.577749589826537, 0.019902595043189076, -0.4225415617969446, 0.08701014712068939, 0.17739387369028428, 0.3212002901701069, -0.536256317204101, -0.20498619849393074, 0.5591806319018605, -0.42901967001892916, 0.38791515560329903, -0.36701521011770766, 0.7666087787123627, 0.4654876683983494, 0.6437211128846458, -0.2148224847575818, 0.4246573689521079, 0.026109583935194438, -0.4002875126417477, -0.3344284863104929, -0.2366520895491705, -0.20303069206196056, 0.10245495653366615, 0.2085643166484608, 0.5235925731970974, 0.11233117827551843, 0.3414584969587492, -0.23511193921615464, 1.0695216970064463, -0.16528341928054935, -0.16191440649394676, 0.3528795992691999, -0.2343140363277765, -0.45230580319665936, -0.049991280377368955, 1.0641803890621055, -0.44003415389781997, -0.30732108536239544, 0.2763270150063412, -0.13189189941131085, -0.3675191175974032, 0.4030864327365335, 0.11593847229034224, 0.47779252002378536, 0.14223230506511378, 0.12154796306898757, 0.18498413715187118, 0.9097962965396049, -0.5179144829472726, -0.08835148402558879, 0.4590526646621275, -0.1986022518626932, 1.0576852699833683, 0.24089141152675672, -0.2591598716978146, 0.7302110353675882, -0.027562680127807267, -0.34831345197863806, -0.2688572006912305, 0.7571586796190426, 0.3668333002814753, 0.01439334804523922, 0.7102693604898437, 0.6138171457323072, 0.745203629524759, 0.6438631044259138, 0.8943535563158653, 0.9712814260362761, -0.14855225461656396, 0.7858880390484672, 0.43071660182137217, 0.3951233018360208, 0.5860558772327795, 0.3390278690018644, 0.9611997765480552, 0.4571059115316513, -0.04658696567634685, 0.5656105881000902, -0.4406245822176072, 0.45189159209036595, -0.14130507830058986, 0.2003338941632305, 0.19220148198039916, 0.5832177865545264, -0.05452189288749363, 0.33974949429603357, 0.2695843729128876, 1.1368167439033638, -0.2594709612711323, 0.10422044846530411, -0.052784443374582234, -0.44844162616488814, -0.6091199104894386, 0.5783284531980641, -0.29432645692824544, -0.5661171467014329, 0.2035269786157137, -0.33129770724186336, -0.33792175738282987, 0.1607949388174199, -0.21705012599114426, 0.2517083298908783, 0.9809270230227675, 0.6110970080229822, -0.35288023053649886, 0.10585380832147985, 0.6873789432073271, -0.09340678682365891, 0.3641522148545138, 0.39670024514899066, 0.4288842504584253, -0.23167591745726623, 0.34001404164049986, 0.3378374129627441, -0.21075888086820457, 0.4908014088586777, 0.7673314970704389, -0.08515848418470254, 0.21871984019170487, 0.41905046385033545, -0.48359262817919346, -0.0042142260931264525, 0.5319908018204219, 0.6356568995416365, 0.00717922752289322, 0.006405595160604048, -0.23949030272247535, -0.10640500958924763, 0.5874944841807394, -0.5455376916946725, 0.0784443494674007, -0.07415987274028918, -0.18580335510228355, 0.020002917031767268, 0.059479655038690925, -0.21061406554838127, -0.1926730249477827, 0.1529702550983305, -0.6084241109884522, -0.10210367892775499, 0.08709233883947447, -0.14180544879939863, 0.17531490583171208, 0.3108088554883478, 0.705373123763368, 0.20456826122699429, 1.207847282561857, -0.6852716006892897, -0.00566660021711145, 0.278545170990206, 0.22748745721735894, 0.6913911257034361, -0.6268576484505474, -0.17950981952643955, -0.5443820969026496, -0.26034512802831533, 0.18431075458217608, 1.0493989968721933, 0.3060116524560197, -0.031756268248701924, 0.3768955278742777, 0.3921058067214501, 0.17125833847188882, 0.5906493432442191, -0.06844947365829636, -0.3157960832910305, 1.0593485508637253, 0.1943708701354984, -0.20828286853093997, -0.13884885983260456, 0.01925997360397171, 0.37927081510490435, 0.6713070540184998, 0.08349902294440557, 0.2905465089085646, 0.737015820075979, 0.42697362857959925, 0.16053046680306404, 1.2322741218969566, -0.6125232964448911, -0.18358086776960697, 0.8078991891954854, -0.45322781452620303, -0.06322359113576116, 0.06956773935990045, 0.6206360380892121, -0.1249993936090609, 0.5345107227477419, 0.5757873896520656, -0.24177226741071825, 0.3038905654632335, -0.09725895952172973, 0.17693913423244548, 1.0663727034839714, -0.027945387291864965, 0.4707919529122893, 0.2553221671000028, 0.12806685299035875, 0.9646433044051044, -0.6976325064958755, -0.18924802149024378, 0.07080394997557178, 0.19070782922674553, 0.6239025828408917, 0.4827205585483516, -0.11200688191294364, -0.7347383875779465, 0.2652314690954609, -0.24180808705193838, 0.5074283224352694, -0.2259753153311606, 0.04583812896139001, 0.7476281944118602, -0.26094518430045655, -0.07125962293514014, -0.1674785736743964, -0.2878666052663306, -0.01680792109909686, -0.2948635411819816, 0.027097871454043083, 0.4774284221405226, -0.35403001313076643, 0.02723403555011213, 0.20029175335145763, 0.8649762508570997, 0.2742071280701741, 0.1956494128697375, -0.07912854415854365, 0.1164603154461082, -0.24351576015670687, 0.2038426231106302, 0.06952126693399067, 0.820045251163833, 0.46539941143829777, -0.03992423790860098, 0.08782673808990112, 0.2511745579394281, -0.3980043377513247, 0.07324703591502246, -0.3562875676536287, 0.17024589047361482, 0.17571613388314708, 0.24834754951962654, 0.18800668960577102, 0.31641437258309174, 0.22356577008879439, 0.18294883550276977, -0.564002000680866, 0.543918894930671, 0.3041989110397931, -0.3981740671096485, -0.25564637966648035, -0.11275260601498206, -0.4250543664298058, -0.7751260570858122, -0.43132210147149547, -0.9615690484646794, -0.531743271562257, -0.1435691257434116, -0.11865648675151072, -0.46685703355385777, -0.138614762724741, -0.24978076424533058, -0.08388923568453494, -0.30990001132090156, 0.031676814851355484, -0.4714056122124836, 0.2079118936778824, 0.34352156409441964, -0.2209412237330243, 0.22510055342538746, -0.4052279127687436, 0.6233046071248951, -0.2296790156458302, -0.12013260530497466, 0.34534878538494335, -0.03905094261425569, -0.15585811023544946, 0.21082586404083636, 0.2333921997075308, 0.2399953645923867, -0.25115314181087384, 0.29400421688836786, -0.5561147830783612, -0.029633649469472365, -0.2562628777312817, 0.5405724788299665, -0.4557605123912371, -0.10622650374538731, 0.5412725408544614, 0.4856192314041168, 0.3933603765018785, 0.1399645311331129, 0.16836300061864096, -0.09328303022068699, 0.004723125359892635, 0.1557763102029326, -0.8875825887480195, 0.05640247523654794, -0.19554828959730636, 0.024882653562658376, -0.29619548617592434, 0.06847495400181429, -0.09504452647476873, 0.07197083024303312, 0.25088513725045336, -0.3849270936776324, -0.1614520931539865, 0.4392653265140869, -0.10416564182720504, 0.22032654869089513, 0.29967077519554036, -0.13847922303708193, -0.003591229237338846, 0.8730813358971813, -0.24698306717656965, -0.22794843518110774, -0.2955812101742217, -0.3762197203854618, 1.1389904913540012, 0.11621504854358423, 0.39911006341016286, 0.06898978710850609, 0.2112601912632179, 0.28388385766166657, 0.31891926277554616, -0.3148494917667599, -0.19496132177418643, -0.4862052226725594, 0.16791131604157944, 0.2070732428772342, 0.25642916144046546, 0.4078766700933395, -0.4341515660204222, -0.09566453765658046, 0.03111927594905113, 0.13672455035204298, -0.35081345590525725, -0.12202707766121863, 0.02482714760795641, 0.08642766862562948, 0.16506908936310488, 0.10282040470981488, 0.549675008183303, 0.94856152865082, -0.393900585767934, 0.22239244494956353, -0.23626614005094246, 0.9939965589932174, -0.20168591125244886, -0.3461052510376081, -0.17023695523524726, -0.06063741221634173, 0.6365186598747262, -0.47416910471289314, -0.5200124096287783, -0.015433108501309514, -0.2899055413472929, 0.22154823847644947, -0.1847487368929342, -0.5464042121930129, 1.3126881490668973, -0.10821252931490304, -0.4455200497522121, 0.07819482376590213, -0.25504344137717155, 0.1925042326834996, -0.2650897416651485, -0.4178289238775983, 0.10289635910338296, 0.4169631506311048, -0.131927432166753, -0.3372456204269859, 0.2991151930052754, -0.23071255304872884, -0.45353074938903704, -0.19422872752084552, -0.7186156000586342, -0.08651136599416906, -0.5424609901413562, -0.5135056661886652, -0.45922396938489857, -0.5028665335373591, -0.2253099151577338, -0.11462062340729334, -0.11083993191804899, 0.1895672337432356, -0.29198679240289654, -0.6539950207227696, 0.01368946042118375, -0.26012944734732196, -0.04052470695943001, 0.08027112674536226, -0.1983581821111907, -0.1434469332899055, 0.3065365393135418, 0.1666277730679618, 0.9518560180117986, 0.13398311472814933, -0.2547477073487313, 0.915708388185268, -0.27565735644116374, -0.016377348954570103, -0.3672546817274818, -0.010329588500238915, 0.14397746931261327, 0.12828733680502322, -0.24506018860644677, 0.14472669588688333, 0.03207416721773392, -0.11055685690597147, -0.15375236974819667, -0.024750489336816374, 0.6525240129850891, -0.028440485217253265, 0.22579777316563585, -0.18971786752514913, -0.161058303932194, 0.3458999268975834, 0.37193660355252417, -0.07524466856888179, 0.4732409403222931, 0.3376793317684824, 0.732919013050392, -0.05903692832436595, 0.03513854912594921, -0.06087444498183514, 0.723580424541548, 0.39668716904140616, 0.17797111684129893, 0.49587570034250783, 0.42376152145875484, 0.35973109441746537, -0.0011827486403152834, 0.25943709078053556, 0.25602311985218423, 0.42207030273108737, 0.06319767851075055, 0.4572922702830786, 0.19283455945790545, -0.11515443552431015, -0.4422239991546696, -0.004144696499416445, -0.20926118046547154, 0.1993737455281837, -0.4354784532126219, 0.060074836907195193, 0.3303440093365301, 0.2608654608096548, -0.38290964002822825, 0.1422244672069229, -0.24903811327293338, 0.6241000662995179, 0.004154070467636727, 0.08884794515427473, -0.05594100758992735, 0.03736874129879715, 0.28649576029363966, 0.6370530455777556, 0.5078654819006528, 0.021866859728846597, -0.11616923850484803, 0.6847175185339697, 0.933353905285907, -0.20900950005491567, 0.2668670719913559, 0.4047426571976257, -0.3866427555428644, 0.9049883672853921, 0.357289740051683, 0.07413519510318362, -0.48213674727922495, 0.086108751840914, -0.4683171380760398, -0.22770516061693244, 0.4637005082088344, 1.1523218743211927, -0.2597307105775057, 0.3153432187866376, -0.19773630680327814, 0.23334335430770944, -0.19766554335015593, -0.6550187567541287, -0.06747412751067909, -0.2549523774359981, 0.6329902188513793, 0.5133369352487634, 0.049485593498003716, 0.25397607483006374, 0.18052189146134826, -0.14036225436029026, 0.6529844181448833, 0.6600359451320168, 0.7295335950444772, 1.0720424602005245, 0.2097788920578645, 0.19848912957348808, 0.6221769990434456, 1.0374307496219608, 0.13324752643153956, 0.18858404414461555, 0.35709772863036504, 0.6758058038167943, -0.004339909987160481, -0.5637018025345544, -0.07805688866104989, 0.13299356200972826, 0.021285527313942648, -0.1141034550290974, 0.4813392950805176, 0.33229254019667204, -0.21728863291953027, 0.10262021073763465, -0.02580363829222091, -0.42289999308104453, -0.007103231895138283, 0.0827303386098133, -0.47845485347597155, -0.5059381906732923, -0.406499437320176, -0.038791533254371124, -0.2982563949407005, 0.09549794365233218, -0.4293052275276179, 0.21194068060274704, -0.173452014077171, 0.007447092123966499, 0.7177194799327146, 0.07044433033097482, -0.13957045504297377, -0.022753622211535977, 0.7337059885231193, -0.3102144695181492, 0.18851738965429368, -0.6413622977326234, -0.40801324943948003, -0.22737894456837512, -0.271593177775001, -0.08187440523470803, -0.08463872996173691, -0.02522890218653389, -0.2766111408959719, -0.47023871323118316, 0.04725893291392251, 0.22893695922402504, 0.38806387778090806, 0.37026346087197914, 0.4066661779568607, -0.09638738517570489, 0.5705361864259517, 0.3603737955480606, -0.3953638040550673, 0.9335288751184814, 0.3276218498302479, 0.05058982681875951, -0.4379819605948973, -0.014822059187109398, 0.6029795355845425, 0.011537916857174734, 0.45712029727283776, 0.269991847365573, -0.6381222764279356, -0.2143018815204497, -0.20254753043514484, 0.28457636418142385, -0.19269894773782548, -0.07063875830145602, 0.4612698271956462, -0.6056322815936788, -0.217691618919914, 0.2928847643155349, 0.15459357054112272, 0.08100723822078107, -0.020202247819310227, -0.5533698037063398, 0.28367215968822174, -0.19938898546097697, 0.4675925954477236, 0.3835759151815158, -0.0023388053583764798, -0.31552809002551147, 0.5527614995753974, 0.3573792074356423, 0.32877643050620686, 0.2773532061751053, -0.4778535244331972, 0.2977292096322617, 0.6444741841172796, -0.3790336479233594, -0.190449193008555, 0.08088030592214064, 0.07776299446080427, 0.12763008886351956, 0.014153775065929354, -0.34834188742456607, -0.5736967447673263, -0.2339349879674141, 0.15620623425335894, -0.38554217439078375, -0.6161275416787837, -0.009593350500023901, 0.2370950664858552, 0.900677171027602, 0.5363131542290872, 0.4379974421451879, 0.10517346545581364, 0.7722078576398114, 0.48424680063797576, 0.3999954827827877, 0.10529607574921948, 1.0909699730014233, -0.1308905746827342, -0.018893246716018542, 1.031178192626812, 0.6179046088290925, 0.6116229716600732, 0.1771267830226113, 0.34430605477521303, 0.30416363927124396, 0.3789280391459884, 0.6396924605638699, 0.6035703254411329, 0.26600754518818454, 0.86619965124969, 0.0841972240444642, -0.015857579989502473, 0.0883010357551915, 0.07428986520313105, -0.012484135073873711, -0.1297115403930714, 0.03715807315073402, -0.4183427289111937, 0.4480392972550132, -0.27643051178085054, -0.20487699587676766, 0.3325478841929953, -0.44757666074092134, -0.2095824553928426, 0.814017636840129, -0.3775739093460957, -0.14170558858732302, 0.5462898636893442, 0.05290119093246763, -0.07911561406562856, 0.0005369078693380141, 0.22684821608784572, 0.4787162306052434, -0.2094009466028733, 0.16061943508558937, -0.6554637596613847, 0.4378268909548227, 0.11921230472279896, 0.9106560449298261, 0.5367566906256538, 0.22420047210136354, -0.09353020645654818, 0.5751423956520058, 0.15401927578814503, -0.21987783257167828, -0.3000784417367174, 0.7020970181270106, 0.04605647856690452, 0.15737263990544906, -0.10891535695293125, -0.05334653624280351, 0.7965951050912801, -0.17380571502469044, 0.021282548418568314, 0.2269260625576643, 0.12596888807664394, -0.5036307078250736, 0.8916537260757015, 0.7248896340577154, 0.16887300543273373, -0.25838852167347287, -0.29780506393314193, 0.3370615013841327, 0.6989919531767677, -0.39001031140684933, -0.12609430042931402, 0.15192075418538853, 0.08112071113479485, 0.04506518054593564, 0.09726636142037297, -0.03981497111092534, 0.20780233805446116, 0.17147404880978157, 0.14434952799192147, -0.07344895838624645, 0.33841375264822116, -0.028113001392394737, -0.08546726512416358, -0.3755556747025009, -0.27777130505198705, 0.18475911559943092, -0.1918236534866826, -0.23982043472997433, -0.3118727792732141, -0.4102408947790464, 0.09280583396861662, -0.47458230807489865, 0.6247537445992313, -0.4856971424464223, 0.35466646890294007, -0.23559164182771564, -0.0071326186687698115, 0.058913527092904705, 0.025988393169055133, 0.3210515450361368, -0.009221512950041396, -0.38711674479186187, -0.4535249180623896, 0.06360915202519565, 0.10575987869869183, -0.2073865510593777, 0.1352772843820468, 0.017288901789674155, -0.08705394890266378, 0.6217497034640327, -0.1627950776472584, -0.3901456117950739, -0.08601074279913894, 0.2163478355780971, 0.16065271275057932, 0.317132406903092, -0.148875950146276, 0.14862929993618404, -0.019896414459813737, 0.5660344714158634, 0.10934265885267601, 1.1684525027827612, -0.2926626517470449, 0.4927331058128208, 1.3030977583024488, -0.10233172486056226, 1.1277317519131096, -0.12955128035648678, 0.5248068638699472, -0.04784805487622259, -0.08104573299900691, 0.4597620082091251, -0.1624709460583636, 1.292459703281845, 0.21705802387082124, 0.23560302165413335, 0.3413106222668658, 0.48238130187837475, 0.10889311867497115, -0.10381315127306759, 0.008533312499176084, 1.0237393295783435, 0.38766345773162053, -0.5289227021348152, 0.14376400130189113, 0.6984123279717074, 0.8374624144326129, 0.5627214363523279, 0.2914739963689357, 0.20974160953630583, 0.7826956268775812, 0.551338733889167, -0.07541026818793554, -0.027018972719089384, 0.027681919592173424, 0.4581658011577509, -0.10255470281897046, 0.07434883120797056, 0.0634239126889972, 0.210494819314235, 0.23391631820495626, 0.3469270113449765, 0.33434327795413865, 0.3695836013987044, -0.04374381990838183, 0.9077204846495043, 0.12640512671740034, 1.0756526251349374, 0.11097413514570628, 0.05351484787098548, 0.002545251607198246, 0.32710107390562293, -0.4277386053583194, -0.12372857458375747, 0.534460519550591, -0.21973543780097737, 1.2265781358447954, 1.011477703899439, -0.11359598047513607, 0.5154466383370117, -0.31449665042888897, -0.05845721862552119, -0.4327860082850236, -0.18671816491487775, -0.20862872666325946, -0.4417456504929416, 0.24132473742521776, 0.0890235627497997, -0.4127350692775732, 0.24018547449206434, 0.6559670716028542, 0.6321859735407952, 0.5107578406574652, 0.11875692482810789, 0.7210614719008132, -0.46289204019209357, 0.07811297359498333, 0.24049997570374418, -0.12683498397103946, -0.010477110243667126, 0.45293664773738307, 0.7582541239339694, -0.2626983224826973, 0.3159724841078479, 0.19311117184251558, -0.007988379842206449, -0.51606807748691, 0.4209971728445312, 0.3229906317418473, -0.4043259010403914, 0.3846008751217756, 0.20493150304255678, -0.32154126414824846, 0.5164539575289484, 0.11848894746940081, -0.11606710881227152, -0.35955834762128935, -0.40888303098751805, 0.28851342718028994, 0.18939352952106392, 0.628528921350362, 0.6618108355500576, -0.30849697445676266, -0.5061594032119126, 0.138671758386127, 0.43229669691378686, 0.41815068994811583, -0.04374119710142886, -0.39221481389129514, 0.22384017840111975, 0.01350121243348387, 0.19062517393330924, 0.016296596896483058, 0.11412813128694073, 0.6663156064517407, -0.5250185038809354, -0.11154776189394322, -0.533887019520021, -0.28103129325104614, 0.3224470146007014, 0.28954499546391926, -0.5215119037786947, 0.2718157431258385, -0.20781196295428622, 0.10070373779023409, 0.33732571628455815, -0.8108218927264997, -0.8074148073068703, 0.04657221486131281, 0.263935122620631, -0.15675635692818043, 0.5794035949905855, -0.3489054493269143, -0.39833361476358176, -0.4684284001928568, -0.4683807153995139, 0.3786713575774107, -0.18468403435028494, 0.1510448586521449, -0.3866881906010839, 0.05107359088258193, -0.2576706855257898, 0.48899480379690335, -0.5770226964879229, 0.3408179114118397, -0.0876253856988119, 0.40496404144060544, -0.030314105480112395, 0.6204892787692488, -0.2849937198491249, 0.5221355931623543, -0.34605353193424576, -0.2186902766121205, -0.0012640061345620159, 0.3254399059931259, 0.2846919303312601, -0.43020383725609723, -0.3838427084066108, 0.16721559608331144, 0.6762333059997652, 0.011900715880961275, 1.1306820910439543, 0.5604586909620182, 0.5370550333314649, -0.5736584655025394, -0.57016716019864, 0.4124718432230756, -0.361153432848272, 0.008121698390023318, 0.6517497199204575, 0.5756597193430931, -0.14668995999971618, -0.2855959008590231, 0.5399126182857819, -0.17800744841568672, 0.09828768650493505, 0.3266594849272895, -0.29381082350339854, 0.7550283094113246, 0.3021265147832006, 0.27046319586314216, 0.48636965710199004, 0.28454360835780296, 0.6263597689500782, 0.1446001954794318, 0.3896836084488016, 0.06984872271759703, -0.2235614891873342, -0.13682631011178606, 0.6277880143888719, -0.4269685595852543, -0.2713551393406464, -0.1061852219815288], \"y\": [-0.07567667439358382, -0.05487269188016909, -0.3381548689955649, 0.004575849046793519, -0.3142629979014353, 0.42649580727266456, -0.4353095398309872, -0.05386937514028714, -0.2559870093436197, -0.09151467011350752, -0.11694485155183304, -0.18509557494651607, 0.1001442561326618, -0.6039587475171896, 0.045362247227879716, 0.42232243059527796, -0.6231649753531266, -0.29436161361771607, -0.10891676598379195, 0.05707591209860227, 0.039907552583708726, 0.4330873832548893, 0.3242802042186137, -0.2296804146846235, -0.4013546133762498, -0.09397396668404627, -0.29663257063971854, -0.21155916097861496, 0.20248846662245026, -0.41567523336184786, -0.16134413929363162, -0.1825207441056442, -0.0720240472412036, -0.11970703481399034, 0.3674347777806659, 0.16883175451058302, 0.5595083964212756, 0.4148008979194144, 0.008185727803879985, -0.254406646144152, -0.0031975318163402744, 0.17878177042398535, -0.2908314679770965, -0.14308080282381577, -0.2041548112717025, 0.01416753753623112, 0.27071508242287695, 0.3809587303398483, 0.17264072381259885, 0.19104732810333283, -0.18513232665507715, 0.041964720543445404, 0.05152114492913585, 0.10735938242193066, 0.35343902696778157, -0.21150930201978965, 0.38228130633440427, -0.06945706105574072, -0.16913439725352608, -0.19581781905841844, -0.12342567000730044, 0.17872282583148164, 0.5774696211917534, 0.3670992581071331, -0.16531460692846803, -0.35334043714962626, -0.09386354258045544, -0.10199755702010932, 0.0717128313620548, 0.49741344739840193, 0.3147098493199664, 0.3189380060017497, 0.13063647222773708, 0.12603643433549794, 0.1325319106244461, 0.04906325206342939, 0.11157895506315338, 0.2609183863486115, 0.11524000024733592, 0.1168367127578107, -0.525252018231294, -0.05497692742300077, 0.31653749424321187, -0.16879470873006241, 0.3755344467507868, 0.14546157145694955, 0.05441320784136067, 0.37894200639033043, 0.2732841161533709, -0.22543006997374646, 0.5015652040709306, -0.22584136788889234, 0.20693021419897073, 0.12609583891210532, -0.28903662395720686, 0.08942892577342418, 0.5262459353325271, -0.21423749838975897, -0.05760636297408344, 0.14999716373916194, 0.430155343592105, 0.14071656371801156, -0.27708884588774824, -0.2420634804673659, 0.6637120231202922, 0.16846658807344814, 0.20588127470802553, -0.2757817862040736, -0.03088711355364736, -0.028660380408329186, 0.2247627068049771, -0.10142325430182111, 0.10682454181759933, 0.3880265590041681, 0.47277008746281984, -0.5284826372825319, 0.29839468201486724, 0.19464317737813985, 0.06045638482936414, -0.11721449895870685, -0.19781828060807097, 0.17465888792436915, 0.037856978281616604, -0.6590022969356306, -0.23342959113403103, -0.172611252970925, 0.30507849965483735, -0.00013719852703504985, 0.12108632223090908, -0.22445276680054396, 0.2266714539505192, 0.13411851303532452, 0.51726805346419, -0.091626557986753, -0.3130617714025845, 0.03196698582773799, -0.05841079263809044, 0.257838156626739, 0.03931786406798809, 0.4208386478274544, 0.3983630865253618, -0.05015529585208017, 0.2274821422253775, -0.15264027193132118, -0.04356908597089825, 0.3886254816874894, 0.11461074182931758, 0.07267554319584221, 0.4567231347023367, 0.9418388485576427, -0.3332869223038028, 0.08572530509668136, 0.13435317497257476, 0.43305204036093053, 0.09171037126431521, 0.5884339900485632, -0.28022025451180915, 0.3781678490147624, 0.6167098873372202, -0.23566604603449645, 0.33774533634387194, 0.2677556780369457, -0.07267557270099372, -0.031401259689356205, 0.12267149336646596, 0.0749360477948046, 0.4144199853927751, 0.04861057710528398, 0.4590021225585803, 0.4571376188064339, 0.29389257181961875, -0.28288342382375475, -0.07992555384530135, 0.0327571800039748, -0.005373442581400784, 0.49309693462935067, 0.5250733698979396, 0.17845247797477212, 0.3224411523937504, 0.4820025535624705, -0.10463515142542935, 0.36625369908017164, -0.0465314775343122, 0.9951680347462442, 0.43280130462200717, -0.12062368694068065, -0.041910536332811436, -0.2362483406481007, 0.15306851012582998, 0.34676453068964236, 0.07125819788320238, 0.05126788165960481, 0.09960016762935697, 0.444846585235127, 0.5382838677094446, -0.1457198519084224, 0.3098972106081447, 0.0707676008891212, -0.11681711412809642, 0.49949941825615674, -0.438427115161615, 0.371955540187673, 0.22129634007588594, 0.24082159388851354, 0.18130754627993861, 0.521002241335698, -0.07956565826664354, 0.4542673809234666, 0.9203528381443146, 0.12992873979281613, -0.25457100535122357, -0.045430511686798236, -0.1194804847086252, 0.14281592259388717, 0.4701319882518973, -0.3074289267892148, -0.0030596819861501852, 0.362527401859856, -0.0701433839050881, 0.3474391746388617, 0.04271735769815245, 0.01323900874987412, 0.0996954410945199, -0.05220449578143297, 0.017283522379690816, 0.9541475025537539, 0.44873660188074826, 0.3835013402377577, 0.639271222466043, 0.19166944050024623, 0.11079535547852039, 0.07698077328024454, -0.24344601827545584, -0.6154510538024218, 0.004639685790067594, 0.03323508218698126, -0.4382650466249727, 0.015459116058405175, -0.37311944480984194, -0.46916170717149197, -0.10145767710545693, -0.4133624552041473, 0.027955227690502522, 0.050888152023430805, 0.247700735780513, -0.04808667632836711, -0.4025693768394413, -0.14850829381143324, -0.11528180398299166, -0.3047833348494214, -0.2649986684393405, -0.3476415234316937, -0.0805148024604766, 0.2827117771051588, -0.440011048895687, -0.13953624922586655, -0.29041648758033106, -0.49364835673597157, -0.21958802768490346, -0.3051194079744793, 0.7689821790532274, 0.2621110267898935, 0.1550875295497297, 0.16695250623408256, -0.4020734626161403, -0.08691069076458541, 0.4417233298780321, 0.21610073759508827, -0.024833405937188413, -0.08154607087224089, 0.1489536076444801, 0.13948531855835059, -0.1509501482169448, 0.029766427945065635, 0.2520086997609186, 0.48951360011043765, 0.18836274645847237, 0.5183991520391857, 0.22575593357057455, -0.10118985440921137, 0.2098610817466744, 0.25430040902442175, -0.11844768707763259, 0.4345113176008519, 0.42074872836264543, 0.15643151545664552, 0.060901111989003255, 0.29757792412429246, -0.14417461089504077, 0.34016974723061033, 0.013619094883416451, 0.43378419060979234, 0.36024580936112743, 0.32215209510711507, -0.14770908057186635, -0.13455594201382962, 0.35387578347397836, 0.4991021385199254, 0.5092165196439837, 0.7757568403848952, 0.3184541427316661, 0.4107673406344177, 0.3354530368418231, 0.005158653748111955, 0.16052019060241512, 0.021765430364869387, 0.36370095665379343, -0.0317101843973244, 0.6952004339027911, 0.41350325023852313, 0.5528613744854142, 1.0592039466522514, 0.1576548827048456, 0.2825164975663031, 0.3438809134656185, -0.11189031641668858, -0.07932008865974477, 0.3069054449931121, 0.8793080633392009, 0.6323280785954436, 0.5843484911209937, 1.000530786865879, 0.6652358467661172, 0.9361911987406847, 0.5152600469627034, 0.2547852308543998, 0.5910977546720356, 0.08842922640611246, 0.29522207181270294, 0.2754313609395112, 0.4204586684145289, 0.18349020908764324, 0.25984803681808905, 0.37691667020331354, -0.024543168403798145, -0.06355213540085158, 0.3874706239181964, 0.03941978371193101, -0.2814137425701059, 0.2440239963458019, 0.9785387260376596, 0.2668463111110835, 0.3798966883964085, 0.47014835766673463, 0.4079996229581453, 0.0898680848207371, 0.3543396546579601, -0.19216586368588773, -0.10214953508470775, -0.4403657260275219, 0.09248293505426367, -0.4886514516487272, 0.34672510332276585, 0.09366757668754731, 0.35818735786187694, 0.4734921866627786, -0.20603532143719114, 0.27776616554090905, 0.42842159283899195, 0.33377378428998994, -0.13912366789134853, -0.5277812180347301, 0.04170793672619581, 0.02862007892859824, 0.25560446977668927, 0.3796517650235124, 0.25446035326310323, 0.18560817020982287, 0.7835727055820326, -0.18814775743551848, 0.1763420650809968, 0.10303842781251812, 0.22497973899649243, 0.3970195436161928, 0.20556253619571516, 0.12627686530006957, 0.15495954710940202, 0.2605587384536329, 0.04987424740015081, 0.37519966521418563, 0.00851252617081318, 0.3374029617519487, 0.3527714302462819, 0.40239098078264246, 0.047833077082851706, 0.6246812439936041, 0.4710994641858955, 0.4243003202105331, 0.23171198598205395, 0.2789780337478071, 0.44733153773120476, 0.39969853574770253, 0.19083032449308854, 0.18927115742598283, 0.1973732161507624, 0.2539903698770124, 0.21039543572936786, 0.7339153899615121, 0.9359684943847968, 0.25873826585882675, 0.48090640228456466, 1.3557966039197165, 0.3653994845556194, 0.6501835320796416, 0.47199679073091555, -0.022401619278839813, 0.524100225832867, 0.5857438040213429, 0.34130258867471486, 0.032218119222055995, -0.37587565731263484, -0.22963377820075043, 0.43819639353554124, 0.7670717478770559, 0.17949775800512507, 0.17984408304680677, -0.2509995520183992, 0.6191152991465368, 0.3440394727342734, 1.0407411786444078, 0.2013803875725912, -0.16282676688066736, 0.28114224976484514, 0.0017210830517538482, 0.30621833576618324, 0.1946872512001885, 0.28634020430175994, 0.5049926505663752, -0.024529968550723837, 0.35694786103953996, 0.12453081416534358, 0.5274470029250856, -0.03919881827966765, 0.7418852090774283, 1.0782918812760893, 0.2974903721277463, 0.537066007376631, -0.061850744097224304, 0.5957665780740851, -0.2415386235801655, -0.18495158856508162, 0.4264539710962603, 0.15172016306407665, -0.24515289536566295, -0.36108430583202317, 0.3482092374314467, -0.022590580831733913, 0.3855595064422062, -0.17979235637332616, 0.541624434074862, 0.17880810399851807, -0.12252536317330791, 0.6213753097697673, -0.35363655503150965, 0.13636338455349822, 0.12117026109375481, -0.3042284837530883, 0.027133574573581003, 0.004852925948296445, -0.2747217655894498, -0.41317689751898434, 0.0571114312954548, -0.32564912165907234, -0.1077231318764815, -0.17738858938580188, -0.06312761650109942, 0.6666879689667737, 0.20069880257797756, 0.32344400990329186, -0.18819577619071637, 0.0072487270371837205, -0.32009228121746924, -0.09763102239464296, -0.17098051887701565, -0.03856745323507225, 0.2761890969776309, 0.3300784859495265, 0.9114900147128902, 0.6478096650785234, 0.6986348377071423, 0.44415224355696337, 0.35720950039648774, -0.3627548286152735, 0.4382920508773934, -0.014930289102726382, -0.18667464385316027, 0.16427736831927423, 0.3737339641592716, 0.06196175972071136, 0.8223237546305892, 0.34138156635034167, 0.057863948973637884, 0.08009920283310375, -0.06661322386435602, 0.38098741472399106, -0.3439373999519617, 0.30235611376767535, -0.046540958311565205, 0.2962505011685958, -0.32277741487612027, -0.1501926663420057, 0.30313933504981727, -0.2518838720283858, 0.13681824886639682, 0.2925455266077411, 0.10733359296678215, 0.5251840399388489, 0.48632407450528115, 0.1775155606686205, 0.13875370186401864, 0.28785530215946487, 0.31781310295155235, 0.1575906330524923, 0.4084702460056407, 0.34791107054772313, 0.8645472958721389, -0.132284105730643, 0.35620487710061177, 0.6707460861309289, 0.31619462849060304, 0.3448026140328972, 0.4456509732778252, 0.07457933426438701, 0.19227149603192795, 0.8216299436152943, 0.8383666143043427, 0.40594826900145314, 0.46582821287970305, -0.17530543202002394, 0.9873476776287072, 0.4445168542484274, 0.35765483414512184, 0.20150575729450024, 0.27894078509967046, -0.10695661904166241, 0.6414767970751688, -0.28797879630113604, 0.07564144301128825, 0.44179397068569126, 0.27667294410256443, 0.40096172883712283, 0.7091785479290311, -0.2729225012945788, -0.06577363445698307, 0.3256143571367644, -0.3575666707693436, 0.28287702450920815, 0.17665696993758312, -0.25534321633410073, 0.4479375838574812, 0.5577746139965624, -0.1760755515086473, -0.40910629424032763, -0.33501387823331813, 0.2658041524294183, 0.2013625779309657, 0.14801407698625377, -0.4200079832037213, -0.11800374363637206, 0.13077932573359782, -0.01895434610915241, -0.06236078597361924, -0.13896634562213162, -0.309525359208122, 0.5506659628388221, 0.2000020956981178, -0.2391906986688848, 0.33582149477681805, -0.38073395165701795, -0.049707852674680225, -0.42713623800818534, -0.20474716780346405, 0.37836302207984623, -0.5507722407226039, 0.13447331038985486, 0.4001444923609787, 0.640454430986583, 0.2508563692946694, 0.009733203729289042, -0.2730243312119883, 0.12033644031725331, 0.049136660633311395, -0.3518580161015348, 0.18753015334358686, 0.32993543228198047, 0.08850339168992198, -0.6740476924755764, -0.2552509003853046, -0.04049968863438352, -0.34469829858274886, 0.553851489457527, -0.32915631186558936, -0.07582506257385457, -0.4089124763650041, -0.48961426948780123, 0.14887984192054723, -0.4820156967924196, 0.12591168930800445, 0.08762937208616654, 0.3660717336798048, -0.13245948339225683, -0.5086029728827134, -0.5393566454407566, -0.05348674543549655, 0.6103320577258284, -0.39296748828392053, -0.20367089442611944, -0.20891566960193322, -0.1514899496391645, -0.10519989009102315, 0.22455236922540642, 0.1645303583842975, 0.05867130785328199, -0.13507850531643303, -0.22251916563996954, 0.29176093100188816, -0.502525813965127, -0.5172844762525998, -0.6647044081910256, -0.4874473051248836, 0.06177627839815518, 0.7897782538003726, -0.3061664246953525, 0.0721637260903357, 0.23453280661732612, -0.03531274979127097, 0.7665172407331775, -0.32878479713312786, -0.45489918821635206, 0.7986248269241185, 0.20719327563011974, 0.2702307128523443, 0.14126976428280089, 0.08159954106818036, -0.4558294548179471, -0.08250843723189837, -0.019900801884744388, 0.14293878862975984, -0.5254365343456174, 0.5124578909271281, 0.045040311585251486, 0.030147446113431325, 0.17466802776953838, 0.2445131794767411, 0.22206204292155296, 0.7465390925732999, 0.3096349823281899, -0.4743248009650817, -0.1047206799484119, 0.4362789298117337, -0.40449436325242316, -0.03148711396407686, 0.07045505058794652, -0.22058196209973416, 0.04597419863061041, -0.014767369616791181, 0.00826489633506521, 0.08991239526329432, 0.09278125596172052, 0.1983486838258291, 0.0075593544442606395, 0.04633625750788972, 0.5166352610168908, 0.3384036381612266, 0.4841042160703863, -0.09601054053161584, -0.2161476691718562, 0.0245379093301948, 0.04204856760087746, -0.0343606756211438, 0.4087856895268843, 0.4774046783776443, 0.046271138663939275, 0.2994124311267297, 0.25502955977007663, 0.3099888334387677, -0.2203910255046546, 0.3167589810409461, 0.3750353106285596, 0.2770586821721837, 0.901017396388973, 0.008976973568536573, -0.18243799660647922, 0.6213722754587274, 0.10861380998739259, 0.15305332997861704, 0.2859422629013728, 0.2355865463764383, 0.09197298744636348, 0.044764693945671376, 0.2150870546004711, 0.11977176125990269, 0.3449563156955377, -0.28682366213875954, 0.24672802777503347, 0.11557598073404557, 0.38775708641317413, -0.028987276937810672, -0.2448577379281922, 0.8899972221683293, -0.05573190195820029, -0.051314353426387876, 0.24371375479311874, 0.2974614618930441, 1.1229102398174304, -0.17753428314627295, -0.30597086194678386, -0.053235047012289, 0.16904094915435128, 0.06777447101449048, 0.20896122807518627, 1.161789848075095, 0.4609043764684546, -0.08709117765433506, 0.595097043566707, 0.6847812055780051, -0.09234644818875361, 0.30777617708050986, 0.4750139324340367, -0.09391488684627608, 0.002163176048088342, 0.21678088037197885, 0.2096696795452584, 0.32013475060962576, 0.08041175142929848, 0.3830290673420196, -0.21950012473058608, 0.47756217015044683, 0.2858944061037509, 0.3076650236557728, 0.3295424267604803, 0.4141644201458885, 0.2080600672157251, 0.6365307328952499, 0.24834100111387153, 0.12996124208495433, 0.41689447250783856, 0.02299831267030005, 0.013625774757525421, 0.2260011131425269, 0.2262634127226118, 0.5323188377030413, 0.6226146150065965, 0.22290606114961944, 0.3367555383421156, 0.6982994924204574, 0.6200988928558974, 0.5378476824452636, 0.5702070308800788, 0.481175115071085, 0.26512213564054116, 0.6073054544091141, 0.06105619330835972, 0.6331011646162674, 0.8057463065022853, 0.3461384273615006, 0.5568289474845955, 0.2876362870897092, -0.0003379093434488078, 0.7688897212397884, 0.4545508300694953, 0.34571776781151126, 0.23183714648960396, -0.12371454864782047, 0.4747778819625971, 0.44203127744891163, 0.6541867003270733, 0.11098457519986414, 0.4817378413512049, 0.6168856676005104, 0.06681970959546882, 0.25372231942636597, 0.5771966331090732, 0.3317497968615229, 0.27844246214290713, 0.5687940763780877, 0.6632057915190249, 0.504697864121443, 0.5331301253578637, 0.2816633762796305, 0.14467887390197223, 0.04095669655265481, 0.5796968248961875, 0.31402976032631297, 0.8529397132783776, 0.1780614368208217, 0.54735845986497, 0.01876511184497063, 0.12374566969852377, 0.46555445287361574, 0.07708476378814434, 0.27375125105368026, 0.4505391342842659, 0.40365891655585534, 0.38391128203789554, 0.09551940150326631, 0.42072820160339497, 0.2606116100752424, 0.3437833958720006, 0.08592549971466444, 0.5023389574386353, 0.04664635938199193, 0.013352312783973285, 0.522924696326654, 0.5188061702375377, 0.1390997748168734, 0.4173720776110115, -0.5051635931401559, -0.21681765492216512, 0.8510557270768767, 0.6120380529173768, 0.07096490406784615, 0.4721741732237926, 0.7175601648641297, 0.2753392713367682, 0.5555776618429008, -0.1885472331361953, 0.40518019023473745, 1.2346887030824272, 0.2876568452707544, 0.1688043276438237, 0.30026030337574333, 0.531440573353963, 1.2057308093614019, 0.8220155227508794, -0.033038331991154135, 0.432457945108114, 0.39369457053990237, 0.3536104903491649, 0.8588473702070906, 0.36115385282918344, 0.41009819002976133, 0.11477099384006736, 0.07529585254642093, 0.1765589475367178, 0.26424033930151597, -0.2766676257524476, -0.16892942489129095, -0.006426532753090386, -0.06485582812647545, 0.46663099565456506, 0.12435240268867888, 0.15964696399892306, 0.1923265457221125, 0.07631488857396905, -0.047478228378619605, 0.3160960425486952, -0.1198794543577181, -0.42534941151628824, 0.16824630056810871, -0.161056343500462, -0.3610957602052477, -0.1437030511033961, -0.22790300120221463, 0.12399843585207325, -0.028370157056700512, -0.49144634328027054, 0.6357370454381587, -0.1841102465966928, 0.010454477703675887, 0.10371605204003587, 0.01536765252633153, -0.26751041555117283, 0.4725491727110488, -0.3249805985926343, -0.49554414951807374, 0.03388145207628596, 0.48552478703913604, -0.3328867439145057, 1.1155919748312841, 0.3475896166736508, 0.4656550181070308, -0.31823361852513593, 0.14238643088410932, -0.3663653773261114, -0.4135169852646007, -0.1801525517024336, -0.14054391245506107, 0.14137785801495498, -0.037567546979296824, -0.07524832110407723, 0.1944217796327266, -0.14182545143176026, -0.17866678554718962, 0.1239422859353112, -0.4337278567587766, -0.30405548341520733, 0.7230954686902046, -0.09620803862723518, 0.43448062934599657, 0.3843477262279241, 0.33778006535493277, 0.5269226668793283, 0.18883765140712536, 0.8193813496831103, 0.3458860974440177, 0.25805617420512383, 0.8310488755912321, 0.34204180802494466, 0.37207824551686897, 0.3154390864544722, 0.024536862484008697, 0.47261534290942003, 0.3481715810436374, 0.6756479244544425, 0.1133525007539272, 0.24732126725455228, -0.27315273142996194, 0.3215981399587176, -0.08179681972214582, 0.051570731809910925, 0.5001588638220301, 0.05484570515205811, 0.02294822738639168, 0.22284159339480203, -0.10881811007132641, 0.4735760355470494, -0.028769845189266587, 0.7098236345621087, 0.3928624362324397, 0.5047644270412883, 0.08102396163714633, 0.5495164414209972, 0.29492101075117005, 0.12178240396355668, 0.21450295740125022, -0.05688999823072321, 0.16320404952414938, 0.11215092369142676, 1.1537841064194247, -0.05978651970914499, 0.43131506426742705, 0.30475260281679406, 0.25308136988017, 0.2680712304089363, 0.030319266845041028, 0.16277587449117373, 0.5531454414117248, 0.14596312432296546, 0.21448230223387685, 0.3788471511251459, -0.5433464198125474, -0.016780063731760077, -0.373618620539875, -0.018775462297760396, 0.3892770713887072, 0.822884238122702, -0.11328710000441086, 0.5686532209173265, 0.15314655032920585, 0.7366630173435308, 0.1699544820969558, 0.11339643296556633, 0.5014672271941361, 0.3500224563332997, -0.009533529125444707, 0.34838336692651184, -0.1446325085614243, 0.4422776552418913, -0.2861137563847399, 0.6746785186900147, 0.09748043419948706, -0.0016709204255025594, -0.062080602061761955, 0.3422611804648616, -0.12772102624845466, 0.24776645529116356, -0.183942649234037, 0.2469217491939353, 0.1127766199313407, 0.1985916729417661, 0.14967276141867236, 0.4249872565099421, 0.26259443037496133, -0.10084368824556586, 0.5250553414835679, 0.28946386913726846, 0.31693132341883545, 0.1866481985687138, 0.27596641122522303, 0.411140036730066, 0.33385625397784324, 0.29642841066690573, -0.21925266810369087, 0.28327682592119746, 0.43697926396279463, 0.3819935743588979, 0.03500946479069876, 0.12243967768626872, 0.1184137231461081, 0.39896016522931116, 0.025073897482898042, 0.1456421431233912, -0.16846717250731755, 0.4315357431190125, -0.1246275056233083, 0.5873511699914074, -0.1501832486532737, 0.6652936406685389, -0.03279741556066314, -0.2439248917955625, 0.33656499828627995, -0.2114373807465824, -0.1974780121446162, 0.24009614106298818, 0.20011851693029778, 0.10128694166665324, 0.37829372159733526, 0.05963405648322199, -0.22281831426404056, 0.06254187130470062, 0.31580252864002994, -0.23270473284899224, 0.5876675419166717, 0.8042049209468509, 0.4870253922441256, -0.11312023775542301, -0.010728112342318477, 0.19128373207506022, -0.3872325589181289, 0.5793614474252979, 0.22479431876029146, 0.5626034139221255, 0.0010136852786540324, 0.09723539555819648, -0.36258113392513075, 0.35732748695801386, 0.2143151461194016, 0.31753677960991106, 0.6862738291950586, 0.18727341844098916, 0.7161210666985695, 0.28340573460971674, 0.08693974591341652, 0.5873688898778577, -0.15182009956515408, 0.22940840160437825, 0.10101124036145741, 0.15822701357736763, 0.5199746837432758, 0.20648594029559683, -0.10784842438076149, 0.4420793435771832, 0.1770516776684331, -0.303477455891489, 0.9081958888811164, -0.02355162136139273, -0.21111142136926786, 0.23184043102885316, 0.11874485003198586, 0.39471085005640966, 0.1627504975573689, 0.0025874652081037623, -0.16529424542632656, 0.39250217025153783, 0.13541022476100648, 0.16096690040933326, 0.9651509013917531, 0.6479974175536246, 0.027002004259611495, 0.3179295063920597, 0.7726857719923841, 0.47018123111676613, 0.44501987997315273, 0.4609190132389757, 0.5327022789219544, 0.37231163500773473, 0.2562635882274543, -0.1755124710461477, 0.2695353377829663, 0.537004012941078, 0.13936543332995813, 0.05801495151739856, 0.2705123194660866, -0.12147344890271423, 0.37324460955516015, 0.5876922245297147, 0.08846343711008374, 1.0639646624631973, 0.04857173396405394, 0.5489506044216432, 0.37403108135132884, 0.7231030072303328, -0.22364977209689058, 0.03698837170887619, 0.3262471236122072, 0.328924810039061, 0.4694510993657437, 0.36233914873074025, 0.21779794084611712, 0.1514435059393879, 0.2565316349174089, 0.15254525034886343, -0.05620036479383322, 0.4869887609953726, 0.39057524242045016, 0.03036148165812209, -0.766733079282835, 0.4281628848689663, -0.09743004164659623, -0.8373917893053648, -0.8913916077457442, -0.30223673251285427, -0.5895770575712401, -0.2861091464524652, -0.3932062624412838, 0.4067548460968697, 0.5909333643160158, 0.33148791317060083, 0.6741957296904416, 0.0572987011914704, -0.027910687382292014, 1.0274527994221903, 0.03839325881206695, -0.2139185577848156, 0.7684632656134951, 0.4770853320701146, -0.33988155569057077, 0.9259193170238277, 0.058744103834917474, 0.9197908441177622, 0.41115129906209436, -0.132024243357648, 0.5168277883517113, 0.20963512175162868, 0.9699640771911459, 0.11508517074680291, 0.44170076250543455, 0.7980598445389512, 0.7729523172413238, -0.4058224288563046, 0.2468987410140466, 0.019699110867466087, -0.129799289597232, 0.08096117795556267, 0.3666460134787322, 0.2178913402686395, 0.26102704598462617, -0.13837782393784837, 0.177017792745662, 0.5613615568859182, -0.01440088724303353, 0.013011034455125926, 0.0011266425989672113, -0.21115242566382728, 0.08118565725864192, 0.38969715709627395, 0.660482536886721, 0.3664163796088249, 0.5705426453529066, 0.33866802849174066, 0.25850749282877306, 0.48731003437523757, -0.20541339838611908, -0.238189380678773, 0.0808539411453018, 0.6984124525758957, -0.05848781959879265, 0.06255184498188587, -0.4078738666762975, 0.27254774188320474, 0.19319633834024594, -0.24051121699829492, 0.13048604192101526, 0.16120231127572504, -0.054800950563819006, -0.013447569195112816, 0.21754318920734034, 0.25959551204484244, 0.3170575996596269, 0.36069070837287115, 0.49581385877519085, -0.12515264303414014, 0.467518411471853, 0.23314080142595284, -0.22094360630646376, 0.4064030463107276, -0.3855165234779438, -0.030088271216810177, 0.47109496277936375, -0.27746954584355266, 0.44241605673481205, 0.5167399930905999, 0.3413049639325506, -0.12296109490987253, 0.7808463466527311, -0.3240531011677921, 0.23747017211116417, 0.048623352755804795, 0.1779284062121333, -0.36008670053460823, 0.4013592841072948, -0.08340505149642977, -0.08016798006221817, 0.9024443526251648, -0.011374360894368036, -0.370058917470365, -0.27363562950024783, 0.080698202120696, -0.09691079965562507, -0.22169236070599094, 0.5085150772449535, 0.42504490608339474, -0.12173058768358525, 0.5304049121812453, 0.038733585743454785, -0.21895840842228673, 0.11984186191464825, 0.07478414296422031, -0.15961500499909534, 0.1142763909487189, -0.10517084885829513, 0.25982880656502194, -0.0645339123586899, 0.2393148084357486, -0.08623940691031397, -0.06597283702436285, -0.07899468035074379, -0.07525705861112159, 0.11100663545452882, -0.2006631944465533, 0.3156751842517133, 0.4764670074589639, -0.08544454266849193, 0.28542836685917883, 0.3557561295011319, 0.228503448091518, 0.24787472113558406, 0.21528126394456168, 0.16285947769544443, 0.17232953977467122, -0.32226809185997984, 0.053416752333008834, 0.08900591041996112, 0.04838430553616467, 0.21011681474562416, -0.1444166728857548, 0.14157679484530292, 0.038787600299114725, 0.5346185850634753, 0.7112675480646272, -0.14510732465019704, -0.1604197504982438, 0.10252119909152389, -0.11006748425608956, 0.055193891458719044, 0.29249078816079965, -0.01592790533273725, -0.16442025812898384, 0.17405961032720646, 0.2253049069732046, 0.42098138152264397, 0.6278758395665943, 0.0031833000654244454, -0.5438510116023089, -0.8288112079374855, 0.19777330167046994, -0.4144444236556152, -0.16074907467057917, 0.17014475226533615, 0.5232611535754479, 0.3039028002034245, -0.2901176415232576, 0.5793149596085014, 0.34949173620983676, -0.34740550388077823, -0.24048357290166517, -0.11093659198933478, -0.14344258891520276, 0.038218562908743585, 0.3662003744098672, 0.08494900208070114, 0.13213094737202782, 0.18009057459522954, -0.27025306615145184, 0.24392621994540994, 0.11871267545706798, 0.47346704618016694, -0.07589303289556054, -0.031792983962601745, 0.06384647156388977, -0.14391551108368822, 0.6822070843936163, 0.7049131624046662, -0.25020296172898204, 0.6983953245988445, -0.78199776835968, 0.22956184117810732, 0.48662331427828487, -0.0482094545185188, 0.10255951205380964, 0.11029693037310721, 0.12124312967812326, -0.1478005293104708, -0.10389414704282357, -0.14512272827044867, -0.39934424099337695, -0.507610522784474, -0.16105741932138198, -0.6913916014811318, -0.09806020322593842, -0.23543443170176787, -0.43659609323494436, -0.09165112353490201, -0.773532251308946, -0.929460007894285, 0.13563246604009285, -0.013463412068801372, 0.036862966914201156, -0.5961611277840378, -0.22791420473892204, -0.0061174610919858975, -0.3876588053801217, 0.007215753865129853, -0.06706807227406637, -0.5448944520064255, -0.08334813665295429, -0.2111471211846993, -0.29758905131932606, -0.4072575510763992, -0.08108331018553147, -0.8877789936560743, -0.5709681026043074, 0.2556933339110505, -0.09062358096386101, 0.3341472002593222, -0.3934944443309664, 0.394281928871068, -0.008296556001733343, 0.3074392647540554, 0.0029997140295845138, -0.3155710214609627, 0.4067725218110326, -0.04594619541223619, 0.23084631495268923, -0.3442508038567568, -0.35515900675183837, -0.3288875046515384, -0.3123788808458208, -0.4563411394204634, 0.42603011521156814, -0.30639065847383495, 0.3171787670582566, -0.5035439404011761, -0.6195959464770253, -0.10477211064476283, 0.17226481601916338, -0.09785407016829478, 0.06371530048955196, -0.270346925752348, -0.11195281720803399, -0.2964156129964642, -0.18854855696126543, -0.48373632208339606, -0.1258420517339352, -0.5081437568962444, -0.4232520896795732, -0.36671048909982845, -0.6264407140502933, -0.6056258539621954, -0.3813841327249677, -0.0027397112270753205, 0.05453501115261658, -0.07273244390213339, -0.560886524628337, -0.42482616360277886, -0.7913881395041895, -0.30399961654507923, -0.16804429428781534, -0.6328970267836899, -0.07142696322593257, -0.5189166191076547, -0.37422316365090624, 0.4113995127630724, -0.5270678126227897, -0.4516003935295632, -0.15369898136177781, -0.06690415662321327, 0.127538636717136, 0.10292734555827124, -0.4868057689300487, -0.23510393362416068, 0.01998536206642401, 0.00571370036152301, -0.3068017382648068, 0.42325135341957587, -0.3086192848767354, -0.3645490392539677, -0.04934944195197337, -0.35100472053897164, -0.08469451825343455, -0.746658298675377, -0.3259176314914318, -0.3609590911449656, -0.7409161706334118, -0.15999604153527772, -0.5516999754657647, -0.23444702779958299, 0.05750481122081754, 0.06105639705603127, 0.11046029280619228, -0.6837008254592831, -0.3663408678773358, -0.05590311021198148, -0.6822503475519799, -0.05511923808650647, -0.43408551899305237, 0.25076932734044155, 0.022732616840534185, -0.6507759541245561, 0.07297793875394618, 0.3283550288402645, -0.5132844425544031, -0.017710159045709647, -0.09090698018037631, 0.9462198707944051, 0.10484705385243787, 0.30920344274966055, -0.173551604457478, -0.24370983393521672, -0.12319524229421326, 0.0007896122574133198, 0.35142359812822127, -0.1336374108194368, -0.12477040062254467, 0.2957878170089602, 0.056388198263278635, 0.17936866225232928, 0.042638364847228306, -0.04906107537293956, 0.12330714157693741, -0.0833928929363236, 0.05232182491897235, 0.10564419760655758, -0.007521897542918174, 0.007604277250530638, 0.19987054826508932, 0.006103478020473785, 0.08360090465075515, -0.25116800149336677, 0.012944787848363466, -0.08850212338690308, -0.07080975215872583, -0.20566956531824124, 0.12539393879247332, 0.07381052243149963, -0.10284217249071277, 0.10061045749169614, -0.13235541703693632, -0.05056215654984851, 0.35409755978230767, -0.6184598147970547, -0.2569834806528958, -0.16427691846589376, -0.2680101514975546, 0.10158830042101047, 0.17125607099805246, -0.05313979911385288, 0.41848316276323905, 0.058538603081506026, 0.14077972259096275, -0.0510074590164729, -0.20436649355237413, 0.39464372904617595, -0.15049668546389097, -0.3067826279337394, 0.3049694560317566, 0.22840276414468236, 0.38902949153882865, -0.12094796359089009, 0.0701324940018894, 0.6568259388499094, 0.7125320576033867, 0.047877277690615526, 0.12266648715763458, 0.13454980709538372, 0.2884602001546673, 0.24051218421242604, 0.11844058430464427, -0.03094718447227763, 0.8206919999611246, 0.19347102325860718, 0.5137726421951231, -0.26907918714598494, 0.6149446397078111, 0.6588825806160743, 0.6088028832101045, 1.1756215319734955, 0.7516313453325474, 0.37340146796480433, 0.6003141336481583, 0.12488416129136228, 0.2541686950194543, 0.6197189616526544, 0.7817290687485374, -0.10745841629197737, 0.6288363604150823, 0.8093780997300571, 0.5637610921266676, -0.20020680137424135, 0.4474006199080845, 0.7551485308772755, 0.5633319643498785, 0.486963340069528, 0.716085701426237, -0.2993733508796381, 0.03326432342943723, 0.6386029826724181, 0.3579551381158313, 0.03427293367106623, 0.10102837786543344, 0.4185244911970672, 0.17375790493017618, 0.06283035588582307, -0.10737919918948946, 0.3887678867536255, 0.4905846219226072, -0.14683566945936186, 0.19739228457107127, 0.02893145383712141, 0.027240740040731348, -0.319594947072859, -0.6179697582471673, -0.02959045761457995, -0.1891688595863083, -0.20478292959554836, -0.7657272519850192, -0.13675422631546974, -0.5038971659702806, -0.006670945226263287, 0.07441448551709276, 0.3998437812685878, -0.4470740224365632, -0.5712005418872684, 0.1276139704041734, 0.09634943078155982, -0.052609156586415115, -0.7475952937462875, -0.4303400516919733, -0.6520294912627164, -0.520585078997608, 0.15919290073197215, 0.07181673763635335, 0.28635657458381397, 0.08581492571017238, 0.2654485671260532, -0.8275279703630776, -0.44926323067410634, -1.0050720228431442, -0.8757728655527253, -0.05208752594184063, 0.12661406605254316, 0.2102062520332494, -0.34809147969662446, -0.47727229246934366, -0.0256544449018896, -0.6072433845598499, 0.4579730885971262, 0.9640117350982957, 0.31106157612256713, 0.157508951037873, -0.10320900758338003, -0.5664180156773565, -0.06104358499836677, 0.14301303892252104, 0.15532451428118507, 0.5570751295972467, -0.10074829064693305, -0.0800571095872278, 0.8039442662543572, -0.20396682957591422, 0.28985920568214524, 0.2652178225549427, 0.2197113089853827, 0.3855068641771028, 0.0797969099089804, 0.43929892560844913, 0.0665706224274571, 0.12764762445382882, -0.0358592942480719, 0.6191425923630114, -0.022973611902613957, 0.13029097900794617, 0.970543407257347, -0.17165708971388058, 0.29142172503590674, 0.3261773195988713, -0.10594142375543944, 0.24455695620534929, 0.6061419430479321, -1.0089340925681745, 0.20397760104516463, -0.0038220605442735676, -0.0849609995866068, 0.08279946270408944, -0.16059916558857795, -0.20217632716711556, 0.0032320533829317977, 0.5628183403486949, 0.3136398325905448, -0.12087163794569838, 0.30872385747211967, 0.2878629540043567, -0.4764170672900146, 0.09384898615784887, -0.2780533777033213, 0.2972460747795109, 0.8997653183365073, 0.07052270992870119, -0.03792750819912355, 0.5154955090994484, 0.14539379785067172, -0.2622449314797965, 0.1766459204471558, -0.010878660697618284, -0.28084440658827836, -0.3507304893683194, 0.1196582175857924, 0.025897228167043453, 0.4118660696519827, -0.15902746057790015, -0.07296322988043885, 0.18998201944229343, 0.28377641575011714, 0.22022014109747484, 0.07620056168649442, 0.09036673307302252, 0.0789268450548307, 0.12919687854458364, 0.026055401716094818, -0.5150659444733285, 0.3723681390364041, 1.568394431041317, 0.22725138168121503, -0.10073003925733036, 0.1556682173869745, 0.2447621656143837, -0.32011964081337513, 0.08441769961281281, 0.39061182709599024, 0.21673096458972926, -0.188188222917363, -0.3403736925697262, 0.23681171946604446, 0.029201665557183714, -0.07653884398576258, 0.05696141458133292, -0.27810221353939163, 0.04675025442952781, 0.4217161834151964, -0.227203447336649, -0.23207056607533647, -0.25166661813954483, 0.027524888771641248, 0.5230567881128626, -0.2085109477041585, -0.04235964875587157, -0.00594668110644007, -0.06424724101274795, 0.0739017765815663, -0.42889032944490857, 0.06272146873026466, 0.1122200468607525, 0.8838059113702205, 0.40892476329906724, 0.7114706201605989, 0.2898174708903814, -0.17126433678602887, 0.02147482285954281, 0.6476086685537351, 0.8254842003186762, 0.6150101087690841, 0.24033672028164912, 0.22929805814979623, 0.7067852625371354, 0.7453120915627466, 0.4347732562411213, 0.2854321270290759, 0.6099353391030051, 0.16177608963991855, 0.37924811598838937, 0.21817599605405275, -0.46315576812825326, -0.24929726074318626, 0.23145262150274273, 1.117782722920061, 0.677220233876116, 0.1468213302254677, 0.37493239163717695, 0.4562080559144605, 0.09374793574239863, 0.19695087271780556, 0.1426821675598833, -0.10334563814316992, -0.26244888072006084, 0.21003001509162897, 0.14907697930951266, 0.5801008401707995, 1.2312985780407486, 0.707525130084325, -0.03943279889846499, 0.13774245121882484, 0.05067913498208421, 0.7921577077857563, 0.34393897876895924, 0.48395719607231574, 0.5828119181369938, -0.17272509777854933, 0.6055124690673999, -0.09117772658625914, 0.215543500782739, -0.020476716729097576, 0.836640336512456, 0.04128336087504934, 0.07101330768475937, 0.436435321208126, -0.11268844949098823, 0.3607253246252073, -0.15619882367766785, 0.2773625376456996, -0.491913703551682, 0.26334498736695733, 0.13044206418753673, -0.14048253816063275, -0.28124210009619866, 0.29567306422141865, -0.3306900544741144, -0.21972812774997447, -0.3475727897257048, 0.36605304323705085, -0.05371234223294173, -0.4503409883041494, -0.10714423859275966, -0.30332381778693707, -0.17852513421104566, 0.05828560939985054, -0.4109300795606919, 0.05517934188940422, -0.5198179073332633, 0.18684876490167449, -0.4094313511578385, 0.6856986389810614, 0.1281967038120018, -0.3781095477776721, 0.1610859288344083, -0.28108464355009605, -0.30637520803351254, 0.3726283405761272, -0.17505851587275856, 0.10770641640725467, -0.022826229985460224, -0.2562997645414148, 0.07122288388901071, 0.13828386691414724, -0.08978282378475623, 0.1403568773659062, -0.14480044539796091, -0.1946241574107417, -0.055116412037544985, 0.24281847524753025, -0.29621713083799794, 0.21869811435366224, 0.02300049321223185, 0.5561429243608754, -0.001161367845928085, -0.6374100079902459, -0.11155390423871947, 0.1782409068119958, -0.13046757477149082, 0.13533427140229368, -0.2659418004095304, 0.23970661042151686, 0.7022317726182741, -0.12708282355217276, -0.5140715175607595, 0.3289345431481713, -0.2428414916742749, 0.43815162362847543, -0.45800489430325614, 0.2519767784182402, 0.04552256835168893, 0.052565385411827516, -0.45926056741082877, 0.32304930374672075, 0.02414873073252822, -0.09173609955574764, 0.2195292225537638, -0.08502961167686507, 0.009720600847026894, 0.7901901476014095, 0.004405801529179007, 0.19797506435567003, 0.3554797877474869, -0.41458573941289434, 0.0055072002329060645, -0.3407260992529991, -0.14477020429810963, 0.0713491008940798, 0.12546115908061958, -0.15828551739105062, 0.07236034829963067, 0.1918655127091606, 0.1790490376954507, -0.0956922037137804, 0.2350158198847061, 0.205510403864731, 0.07741941759749411, 0.30722616143765114, -0.18349851746042384, -0.21440872447134918, 0.38743514691846354, 0.19519939022709581, -0.396848353204553, -0.400536318777065, -0.3674056573212465, -0.22122139929925266, 0.09255954121816398, 0.015291164976060867, -0.14271986759087635, -0.12341469218059503, -0.16405122702626887, 0.47110384321343857, 0.5079967833780071, 0.21514836500444004, 0.32093672099562076, 0.3241718339575127, 0.08511986165810506, 0.007852651568517478, -0.16353959262999537, 0.05245700955442835, -0.2608373563676384, -0.05896550018948703, 0.1746863796558094, 0.23390560612193523, 0.02205324027177353, -0.18966927222393892, 0.6124632713179295, -0.03964552723657671, 0.08775451324580626, -0.33850123479240013, -0.011231174406138996, 0.5211899486261975, -0.07839103742511917, -0.11247030105200198, -0.11949066895713724, 0.11865220489637217, 0.4775793668715784, 0.12869715142388777, 0.31696469115652626, 0.2852645997780539, 0.057611485282713565, -0.1822142391691456, -0.1973406995327477, -0.12170875770057715, 0.48215731308436477, 0.4981156192238098, 0.28831184989677855, 0.4622842882448071, -0.3487730865315029, 0.13132730651318758, 0.8816298677199033, 0.007337789678826528, 0.21166185555278863, 0.453137951558024, -0.04259580112956389, 0.1815710442236743, -0.24876228366161474, -0.3648218294813605, 0.5108313436665421, -0.023661321482417386, 0.15567741439916918, 0.46052572132968866, 0.11839274148888963, -0.15778355538726493, -0.3154677365539751, 0.15351097579434034, -0.3081652317106011, -0.4843092040770292, -0.21458785163136823, 0.2578030290803646, 0.9894705154344805, 0.290569555655086, -0.13123322036404356, -0.46787992999490796, -0.056448249774608, 0.10112549499715945, 0.3371657917302395, 0.15533283359162856, -0.1289391562904538, -0.2133482952536143, -0.4745552043283028, 0.154635569572117, -0.23701626767203476, 0.3664890327832413, -0.030420120647729764, 0.46293728934652995, 0.04047685710268473, 0.06101871932838291, -0.3327475122766472, -0.24833691764989274, -0.38538280992770274, -0.11048067414200402, 0.3763131539086353, 0.48945098275543536, -0.35209988217166244, -0.35641959439907367, 0.31386221329864156, 0.18731879050282396, 0.07805549414751185, -0.33194046265810784, 0.48356548408075267, 0.33835438168012005, 0.0049167934999195416, 0.4957357584532288, -0.12455820323769265, 0.2644674773461719, 0.5659382931246868, 0.566441962683765, 0.5534191609874489, 0.6617232428023114, 0.4002423017230074, 0.2249733664869979, 0.0653037058748196, 0.30693553005553936, 0.018224442136070367, 0.5078022564830952, 0.750185632445859, 0.11908540315953531, 0.0022230121184935825, -0.05752543408784437, 0.04188135471013249, 0.021388991342588374, 0.2536776308853027, 0.5505508991746332, 1.0659515999029794, 0.5057238697224753, 0.2252693448185769, 0.22453299183713657, 0.00036579844789733394, 0.7569050982328418, 0.8650625829439249, 0.4201097188475667, 0.028868365734063553, 0.7514324787905767, 0.2690333901366473, 0.3660067061221092, 0.23434953284252227, 1.0883567952237754, 0.970468364959213, -0.0449380802377786, 0.1487028270779439, 0.24497845689735592, 1.0511003565683505, 0.4278185013601663, 0.9665735318221831, 0.3304814673449434, 0.5438750774063192, 0.22145731128688403, 0.25283004042459956, 0.5286235337061309, 0.15695152955004768, 0.35532474046959645, 0.9369857377467249, 0.5466070520466199, 0.5726418791780318, -0.12858057628759992, 0.13124464964639931, 0.41796146825503794, 0.026089173039270407, 0.3578045260364318, 0.27927076365649356, 0.022012069372052585, 0.809163972721493, 0.08281802239412142, 0.5305318350715472, 0.1531869106906919, 0.07439167509087327, 0.44885692698947727, 0.11433220249034781, 0.057962734606682324, 0.34131814460190435, 0.10939749860092186, 0.48257704983158556, 0.33053383936191916, 0.9169381798543529, 0.29539380720719854, 1.1128263569147947, 0.5655147086552481, 0.24551371849841908, 0.41702719475897826, 0.48918441025693493, 0.14143425674145524, 0.02711895454294961, 0.2977305073927539, 0.20467547269208, -0.06193912219488586, -0.06274954144544018, -0.1129298686598366, 0.6544726876744436, 0.5997870199304117, 0.12679496695652345, 0.26493069276667963, 0.6272892868914164, 0.5409057257756139, 0.2551785690480663, 0.13452481802647623, 0.6349228455061987, -0.06061602632934185, -0.17489532066168081, 0.5643804321057396, -0.20605743971462429, 0.5538114041887783, 0.5743970803900267, -0.38548947385147236, 0.2969276636114163, -0.08031569641396497, 0.2966074363934933, -0.08473597883019686, 0.009101958305756861, 0.5378931681557052, 0.19435482594744025, 0.33431963616839455, 0.6535401924219453, -0.2663912504190058, 0.4766273201450323, 0.7763707563234865, 0.13396752283924704, 0.6114926834794052, 0.7005531778529037, 0.4105208127319275, 0.3203109854536877, 0.37374127054118533, 0.22108247904091188, 0.5452519131367021, 0.18077293221130372, 0.3498678418234985, 0.49324197819862303, 1.1287735137598929, 0.6598381598195525, -0.0435752738420234, 0.5339024028976762, -0.030755057580009234, 0.41210710798347305, 0.2283595150811928, 0.5203794912763453, 0.4512524546701521, 0.4484348389544447, 0.8526147166964657, -0.0044331446770233965, 0.27425409777495596, 0.3678299374586666, 0.41527233845342715, 0.3823735191838239, 0.07105124383264767, 0.5006981078765034, 0.6822396168323968, 1.0206619437077022, 0.4615686819513181, 0.3005545706178662, -0.18163922015990275, 0.20874293636290628, 0.31695419158973065, 0.09192122047986111, 0.5266837744726344, -0.02225181152028691, 0.6708952388317024, 0.5424205816587345, 0.7414854694071767, 0.4089617281764958, 0.24462776376938428, 1.534493087454843, 0.24090101325949204, 0.2161186139093937, -0.05011551343507589, 0.3603935726357712, 1.040377993710359, 1.0046699039828122, 0.6902513977923793, 0.03032719293108553, 0.6876152837038711, 0.9972993346406042, 0.5266330514514984, 0.26033527136238266, 0.058722533489078715, 0.10507178181665079, 0.13997698433491532, 0.39530821396568167, 0.6799701539572223, 0.38087566129598294, 0.637155601682192, 0.9453770740798964, -0.019466730972085372, 0.285694778222933, 0.3723686654910198, 0.6934487327718951, 0.8824931408317698, 0.5830552068149722, 0.7538473010809872, -0.054905525915078864, 0.6758070388375204, 0.3886590581088099, 0.20198816040588355, 0.6150738790338187, -0.031483397550781236, 0.47871759956597854, 0.7786433769955581, -0.08724351704634244, 0.4905839625905569, 0.2565533278872965, 0.38247196859433213, 0.6184075919549661, -0.2798350932590411, 0.01332546775976297, 0.3497316664192844, 0.024042980648173538, 0.2112137631947305, 0.7751829176988277, 0.7121313212004542, 0.4681470540024198, 0.901370972595982, 1.2782480458883916, 0.6367393189263526, 0.19433929218772486, 0.14229980883642135, 0.3319817699713442, 0.4131819973244039, 0.04663608801664934, 0.6794086720732347, 0.26752182145030207, 0.05503458173522326, 0.0677761543429719, 0.07388626622364643, 0.8145794910229689, 0.5487968641030244, 0.2753658708856899, 0.5718925708317686, 0.7777631046423922, 0.5958703841094108, -0.040413840259689894, 0.5799072925875405, 0.5992068771190611, -0.16665996813072936, 0.4107506121183362, 0.16835887071425817, -0.22911470774328493, 0.0031306989779735037, 0.3579869858760459, 0.07774909613193065, -0.07259388125420053, -0.028296136441024293, -0.027192030504388995, -0.1788955582355797, 0.29350406662220646, -0.30521097154559057, 0.13093270019339479, 0.2675374230151682, 0.1965782154061011, -0.03382661060371537, -0.109507857032808, -0.018182510494439138, 0.17655998650878524, 0.5653780736509996, 0.4891487735849169, 0.00845912942099462, -0.4307938896620317, 0.5443996907454034, 0.08298490663902194, 0.3265746777330686, -0.2160120124762265, 0.3385464240682528, -0.5039365914411948, -0.2748826359764634, -0.11722459704246259, -0.09663389603128254, 0.0697950809330054, 0.20183560480852747, -0.24813923787032138, -0.2628145741161676, -0.25857744359580254, -0.3986452006238726, 0.13042171909366032, -0.003573171731629394, 0.16550992378314996, 0.13044544080246004, 0.2793163708875603, 0.01842340433329055, -0.33150139099537984, -0.06236547898784347, -0.007610165214997274, -0.5021747230602154, -0.08571141555803215, 0.613777343986987, 0.5034428726727207, -0.40899590134087394, 0.16742265668404188, -0.36175255140823204, 0.1274035602796552, 0.26287592105198965, -0.009870480477511767, 0.432740182959841, 0.08453802696379838, -0.020847416855856588, 0.3935086507178211, 0.5431769595466824, 0.17971148041576457, 0.5587182102349592, 0.1991329502690911, 0.14834905979627264, -0.10875686703163154, 0.05634678210198678, 0.04843475963252825, 0.3827332051893083, 0.36163053712813037, -0.33725417951703884, 0.26648342900100286, 0.3838537337687199, 0.10337526867440533, 0.15686284303792888, 0.5709419056005535, 0.17598179998966867, 0.0349630555570621, 0.037422686817316676, -0.47356215547403535, -0.21306971809371336, -0.02661271936884516, 0.8263084033411542, 0.15367677149074935, 0.1298763989916279, 0.3980825150024259, 0.14824717147385658, -0.02890418192348264, 0.025637206494835963, 0.5092102852084734, 0.41354877098915194, -0.1550716075432846, -0.7746991711899465, -0.31361477713769403, -0.24206400753595028, 0.22275823641598308, -0.36226592981835276, -0.3277867318751443, 0.19130530939781443, 0.5685158639891245, 0.10999290551407724, -0.05199327019818792, -0.22625338623856692, -0.3423773125848935, -0.4200399025406045, -0.7603817147692945, -0.5753269319900635, 0.3800808095861939, 0.09188125371065947, -0.04739559327635786, 0.2840121764785043, 0.11740793888162342, -0.470735727672575, 0.33487284373940734, 0.3906868629209433, 0.049252658823976836, 0.1305126442901785, -0.6441462456783756, 0.8307127466139432, 0.3649484532036833, 0.10748533961249712, -0.6800789195473266, -0.7758298436300313, 0.481877889988595, -0.5524640527816376, -0.6908892295754243, -0.2606338098666268, -0.23545109813835086, -0.3180615830953202, -0.3341282814056495, -0.3911947882254286, -0.4286294799551437, -0.40846222011009425, -0.9390494017266289, -0.39121942174833085, -0.2516984656091304, -0.9573593173554984, -1.1340713238184077, -0.31767508202188816, -0.028518006327178283, -0.7255607983141703, -0.32982885087817865, 0.15640785265512794, -0.2946397231600804, -0.683210172684026, -0.4558603379625441, -0.7441140289503724, -0.5112657036628494, 0.23544745796343308, -0.33645798780349323, -0.6258724138572168, -0.6017953156928872, -0.18079124860865278, -0.4645910974125927, -1.1334760055587356, -0.23488812443363874, -0.01406730753723333, -0.5686213487748385, -0.5185031470006014, 0.6947041226074983, 0.4927276708419657, 0.5885381353362509, 0.07799297356266825, 0.031416054572331965, 0.33103043142414956, 0.4484134160856185, 0.10482263494203281, 0.4012803706096063, 0.20198371927371467, 0.546578757511667, 0.28408791529821004, 0.12301704205358066, 0.042960436120343164, 0.009326360994999863, 0.020330789936632412, 0.35668454363915847, -0.06730336824802027, 0.1639653781754082, 0.12722980059025502, -0.36528481959147024, 0.4051842508305374, -0.2841034289374424, 0.8478824704618301, -0.09488694880739762, 0.29726038769964125, 0.25986653993962655, 0.917481757765845, 0.414268241152156, 0.13770207313059887, 0.15663153875433786, -0.0559657814606833, 0.22630716372305218, 0.22468857177046028, 0.26347218860447325, 0.49301013784229064, 0.1732858177703074, 0.3697774420886383, 0.1254079615617419, 0.3309450093266065, 0.1043044750769821, 0.2321022893839204, 0.2899130702652875, 0.2675826336126507, 0.35676395015902296, -0.012893856318756393, 0.11150852922745143, 0.14080160016960008, 0.26327656699358076, 0.5197035524070802, 0.6142729161399996, -0.43696876976480287, -0.17990803882107495, -0.010433744740133496, -0.44992233624689615, 0.6446343045445266, -0.1945092752398094, 1.2212274228683067, 0.20931007423555778, 0.19597300044689178, -0.1458078743616613, 0.2820813123331356, 0.01258744169376287, -0.186032048184194, 0.33059824659155024, 0.6364559312253534, 0.23927728049129554, 0.17747896223628404, 0.48486026665587123, 0.586334551644814, 0.34317448751085433, 0.1277792425707752, -0.34220385735613723, -0.050124183974680124, 0.11383818514049579, 0.058781876971945105, 0.044615178475686496, -0.13695260863670825, -0.048394810524856044, 0.5436862755016543, -0.08563216092832737, 0.056430081730004016, 0.18291972377236487, 0.7757396941068446, 0.3279878515631549, 0.25408651072637245, 0.17686530779573542, 0.11547594724756909, 0.36397577467590697, 0.252029850861896, -0.09183207079549414, 0.336422311599938, 0.4087143948220514, 0.16858305947182003, 0.06406334952109555, 0.33912117573807515, -0.3453341056542922, 1.2455053829090967, 0.33395758664659236, 0.6083982324715911, 0.3224888225798084, 1.0881918077504522, 0.7526290854290077, 0.46591548139998185, 0.2921981369239419, 0.05086328113141552, 0.2620580620753435, 0.33111688014749857, 0.31684748901002285, 0.31498116817233285, 0.3477873141815617, 0.2699319462020875, 0.7310465059869417, 0.14879416238473867, 0.3544181743575405, 0.6895184943120751, 0.3896085337927725, 0.010928253307201886, 0.1924341334173122, -0.0757959975719927, 0.35495806980887407, -0.051414123076440284, 0.28973488071072967, 0.5845406366950431, 0.3961585287562843, 0.08080116441750075, 0.6562759729587798, 0.8615690479590838, 0.5010917080662942, -0.10931631117175718, 0.08039523022981904, 0.2986675583736728, 0.26672146595314894, 0.9428922736429955, 0.2031272036752434, 0.5032402287181926, 0.3998661476257102, 1.0828017333891242, -0.0007791671457572211, 0.006135721382379675, 0.3102333680050165, 0.36086917162381144, 0.24495764017088364, 0.7371041023005112, 0.09593462625721814, 0.6903159997946651, 1.048189731566363, 0.6566386165224861, 0.9836259765428046, 0.8559292392719039, 0.02540009313061971, 0.1745831921908133, 0.35927833949963195, 0.7390387863844885, 0.6243943512563895, 0.4597115561180146, 0.2512505144702186, 0.23451795783188795, 0.1788252863415238, 0.20111768674887767, 0.24817354916575257, 0.10538563855902539, 0.7042393489962995, 0.05952119229759122, -0.30325662499699146, -0.13800712566396311, 0.10032489484588214, -0.05413646087438572, -0.6161488801239956, -0.4948277326281738, -0.346996766140733, -0.3062670263231388, -0.3685617714471866, -0.24495220404855977, 0.1093963818463773, 0.03525739429330326, 0.13863766499794095, -0.557244250749479, 0.07893481830730753, -0.5572862381649952, -0.2740227841800965, -0.050136905989434266, -0.1217689409485145, -0.04425020614770569, 0.22091210529309324, -0.08466648070491202, -0.39337827872519454, -0.23570793208894092, 0.15993555278964627, -0.4582533713664962, -0.4597050995613439, -0.3108021086999694, -0.4276483545096403, 0.2203160281013894, -0.016832158950247332, 0.4186513265750768, -0.2400702441794504, -0.04398014134386799, -0.18596339174990423, -0.3022665390238136, 0.26358144013832063, -0.0388158816478267, -0.5965696644223466, 0.7518604385428388, 0.6893158261079296, -0.06798879433253685, 0.03631525410000164, 0.3598905654731407, -0.2556561208300154, -0.19377206813171835, 0.2971474683165907, 0.478201272613186, -0.03390187186329866, -0.02602351690330513, -0.5278433524790822, 0.33728174111564946, 0.4375507143842551, 0.419257784721509, 0.15097784548129384, -0.11110814086421647, 0.35110529124494017, 0.07163087583161364, 0.2208039893233403, 0.507581226216233, -0.0673259641346507, 0.22595849177398922, 0.22183705951662577, 0.3269234517189788, 0.23871617602989906, 0.42016343930822475, -0.022153482172911493, 0.12865136030256943, 0.16263234463927023, -0.13361458036067403, 0.599120024134788, 0.16416746989901654, 0.38339877815398665, 0.09437087651212231, -0.24774948623004994, 0.30472825216517185, 0.3327140417605924, 0.6141939924895725, 0.059427103930578, 0.5860073034973762, -0.08520379739166595, 0.3928089486440991, 0.17047101593990371, 0.5819715806284268, -0.22458663092747516, -0.13383380721142824, -0.0928676795848168, 0.5516273348533719, -0.31144465616252365, 0.46645047692199054, 0.1442564509855631, -0.4153789905261205, -0.266918662242696, 0.09601384595432702, -0.16366910015614672, -0.2127486864365717, 0.2476272581404699, 0.1649367366597135, -0.22940421814944237, 0.4284301518446961, -0.5598442533410025, -0.08044748762550788, 0.5811276620965294, 0.5768504709884645, 0.10039400987346435, -0.007475675689021092, 0.6327374083777259, 0.530345735072233, 0.3666018307954882, 0.6428493114563781, 0.010433063788527612, -0.3148941402466025, 0.07143376630287214, -0.04229164273065172, 0.24096184959416053, -0.03604728411482119, 0.06089816142089372, 0.041675791183052764, 0.2845466771746252, 0.44726863792399485, 0.07936223582093083, -0.34642315453001776, 0.07786342735089934, 0.00010358072424568531, -0.33597315400496686, -0.6700209366051825, 0.12194717957655414, -0.04962486723627556, 0.030299860311886688, -0.29155934690830626, 0.3214215290146533], \"z\": [-0.6244329382484921, -0.811035769562817, -0.6378098358130471, -0.4298439373676914, -0.3312015461148444, -0.052211457328297385, -0.5597917190567463, -0.42717095324821397, -0.3302054292481635, -0.21479382860785465, -0.6123888749763959, -0.4737001756222325, -0.4799847173697779, -0.3658385120019185, -0.40148675887812924, -0.6009575024436196, -0.5489945774163325, -0.5513645292235149, -0.3021860940149192, -0.46935485887495015, -0.3544357287034609, -0.17801607175996828, -0.3643129178235444, -0.4672450868024444, -0.6920335818105458, -0.780044423461368, -0.5428579291069636, -0.47857064557063134, -0.5704048750998635, -0.4034717345563997, -0.30920352290758135, -0.14328215685379173, -0.5838857917000458, -0.6243853173481755, -0.4129063008025091, -0.01941791986625518, -0.3675181027898484, -0.6084849434914055, -0.6387078603782159, -0.33264102462711453, -0.4780097671472017, -0.612903265356452, -0.6228922875531896, -0.41059532174962476, -0.3189187131251034, -0.4271797185762529, -0.5228561734525586, -0.4248843775051844, -0.2787279178419759, -0.4999543360828799, -0.19332343659613319, -0.595143166043709, -0.26910824161147057, -0.08531656708757426, -0.4135813580435244, -0.6144290531062594, -0.5524264509272487, -0.6209176349569989, -0.14009733955277928, -0.605298922695217, -0.3605606053942737, -0.6431678720022784, -0.6102149403035526, -0.47441003053295183, -0.6723462237072102, -0.602016084627563, -0.344510868284711, -0.5347117635977072, -0.4359752147445014, -0.23652955845413778, -0.30240566471429936, -0.5312877475332428, -0.3504510492433054, -0.42170605754749246, -0.5246600113074149, -0.3987121677740968, -0.26213470171876396, -0.16718551316156116, -0.5207764794734188, -0.5598185714990438, -0.7897256728237766, -0.6665013928651335, -0.3748799071706244, -0.43349312723708416, -0.29247467023537665, -0.41175536972019905, -0.45991518900220635, -0.27011951780481447, -0.4780633817989823, -0.4169723698486734, -0.206270306249689, -0.6530650359633386, -0.4710203412868342, -0.42979191783769666, -0.5311779929306374, -0.49944970215939843, -0.5980250090801791, -0.4435597808388037, -0.6120109298324143, -0.6643183760224045, -0.4758205055400756, -0.6802127183054658, -0.3611560860494705, -0.40746954046957395, -0.5960586588503916, -0.4996221112548874, -0.4605328210569274, -0.6035968722759869, -0.6594897524243113, -0.1868488712084873, -0.29114095437083254, -0.4003433255057971, -0.4304991004194334, -0.5137115150257406, -0.27584494660849557, -0.46291573950808484, -0.39408283925222926, -0.56905568464028, -0.44674893590511505, -0.18532571190863303, -0.6333152015499498, -0.5075875806591511, -0.3092835674430327, -0.49653954883526663, -0.18301519689908036, -0.2616148692257943, -0.28560545455273717, -0.6172747446846416, -0.6636630674090241, -0.56019175843556, -0.6226123281841208, -0.7446894177817036, -0.48741572073199896, -0.1593447513229225, -0.4997681186588419, -0.7170103829204222, -0.3230162187695399, -0.6438955822248699, -0.49317797610737596, -0.705178401323095, -0.32028402858731914, -0.49624512999670933, -0.3349612484077318, -0.6902399897937883, -0.5742168654438878, 0.13029871471882096, -0.5980915932695013, -0.19976479954361412, -0.6089906299051145, -0.6069273917284504, -0.16316534975249472, -0.4190277117126319, -0.3969882494800272, -0.42560677484460135, -0.24527476838476925, -0.17739409398953954, -0.4089002561084558, -0.4314842756533542, -0.3364936852918929, -0.5322070463444397, -0.4839769357422561, -0.21342220810853244, -0.3266831286722728, -0.22496527291871107, -0.2593488808998347, -0.6931770601615934, -0.5134087418558246, -0.36823747214150165, -0.3617759056186567, -0.6594221880778081, -0.5287759354582546, -0.34399124682731397, -0.39405773432593744, -0.43123591722485893, -0.34618737593381355, -0.31246639176564506, -0.6689204234283246, -0.17035931509786506, -0.3807850275735846, -0.14593929421661309, -0.5117197280928026, -0.518519338518119, -0.12519876317921322, -0.2118773719919068, -0.48321937872092297, -0.256825002314668, -0.06412144936077713, 0.226813105731287, -0.17828779638956346, 0.28232666062499934, -0.12555452978646597, -0.16138877226667653, 0.23248868993037392, 0.21850916102048437, 0.14125074642443813, -0.1994811433059233, 0.009765448852291888, 0.18605914934543719, -0.37617117278746065, 0.18544165838724433, -0.18896218386749444, 0.2435845853909201, 0.20352461426570878, 0.3845632851301317, 0.1275952434821407, -0.021152626651742345, -0.0747914923802092, 0.20486260042006074, -0.016777588096227602, 0.07692618885003043, -0.2758578701922042, 0.739907902928103, 0.11540446995596214, -0.1750728004332331, 0.18171482571961833, -0.12347244021563156, -0.13402433947825107, -0.03415129137845468, -0.03189431347303152, 0.3502697716293444, -0.13984141336609124, 0.4236662071823385, 0.046907443165629586, 0.21190974117761574, 0.3424645017995393, 0.26834033671817387, -0.06179017864232612, -0.12343893965544879, 0.3836012763130551, -0.09423468882544013, 0.3367128233534068, 0.8825883163224855, 0.36163914049644713, 1.2509199114676957, 0.37320825157673776, 0.2984035099943334, 0.06661248377239483, 0.27752454495157886, 0.036495078315237635, 0.2825898741433868, 0.20276342881384926, 0.1048680555831276, 0.5495246863467581, 0.348764373756046, 0.3194028380570558, 0.23501309494676131, 0.3739069592160435, 0.3101748019506212, 0.16599933768437386, 0.682674717647753, 0.8872100628743369, 0.6785992909694633, 0.39018694149981026, 0.9457241178154652, 0.3747657942129845, 0.09499410730817118, 0.4812317351267353, 0.28922713032796793, 0.3736794389078577, 0.37816938467586747, -0.14766117189130132, -0.025046168406737873, -0.41500576844678266, -0.24220781118225926, -0.031583755586725853, -0.5749596855891181, 0.19247706323989422, -0.1357783167885558, -0.24589562012502655, 0.056351613298535275, -0.29246444447781805, 0.12976737243246028, -0.24400236728595592, -0.3440091414256173, -0.14689779297900185, -0.4245776444672019, -0.29000389119083586, -0.1040002026820595, -0.2470270258704199, -0.32271863530641814, -0.16041859131293956, -0.3220948136545378, -0.3486717183629382, 0.15485885475220235, 0.010172420839141346, -0.4225752048096078, -0.22656730349276155, -0.32488207371271893, -0.18228087184745342, -0.2879515453706627, -0.3066609532011253, -0.3372878166606727, -0.21991838765788752, -0.31937017311041166, -0.3353010559848183, -0.14129245220987727, -0.16718447064600428, -0.05236327165953254, -0.14819553989502265, -0.4237981449928096, -0.297712864828834, -0.06115766453810211, 0.14142384069531586, -0.30612425616155464, -0.20815290682910242, -0.0593045725073278, 0.0028900658325572465, -0.16955603667697253, 0.16001862689592278, 0.09658445364504907, -0.3634485083764143, 0.051405754289295044, 0.08123987175612538, -0.32833320005534655, -0.07426203456931152, 0.01264564065554808, -0.2329529205448339, -0.10568767726091301, -0.17121312718028864, -0.20708004667152938, -0.28573460853251664, -0.2130939073907653, -0.3335732189391219, -0.329663899568389, -0.09027010305014628, -0.360654384089694, -0.30443348907327605, -0.1721942212764189, -0.026278294823137562, 0.0997741701671503, -0.3049839673363378, -0.24857039302139206, -0.4866557515120256, -0.02275773702188566, -0.35040170540315196, -0.2699107406560185, -0.2861735774071652, -0.37154421055255893, -0.02401948099188735, -0.368788320548027, -0.38675296313281404, -0.2818574334354572, -0.4055648976508258, -0.29949941730637736, -0.24312684221507294, -0.20426416827702149, 0.23904066667982266, -0.3677954386750028, -0.18680221102320055, -0.4692813444555945, -0.3084304898986473, -0.30361554663626045, -0.34394162893021707, -0.15619169676364072, -0.08717788238151511, -0.5539758370100671, -0.3346881405351247, 0.038997588519213665, -0.4796235751365531, -0.35839433574180196, 0.012296778785894526, -0.23834926874403467, -0.05561310163851987, -0.2640609699939861, -0.2972927848499751, -0.1563436070197875, -0.4072203285288641, -0.3763377110911218, 0.2244409873037497, -0.5347004060819134, -0.21176334491843787, -0.04027563561738515, -0.3046406347021826, -0.022165774037156274, -0.14504733921174728, -0.23230541125372176, -0.4562936646083252, -0.18351189292604264, -0.20074746386248993, -0.25714132121153416, -0.4462478352832659, -0.35546360471720556, -0.4296664822392201, -0.39572412131168816, -0.5806604812638756, -0.16542250831453942, -0.4570532971583715, -0.32526075309121566, -0.39423672101199125, -0.34320915550023146, -0.007503374737981371, -0.1851702263478641, -0.04934883495425485, -0.3798249622308285, -0.3863844067803644, -0.1075424974962748, -0.12322359775941358, 0.18649552633580918, 0.33155751292130814, -0.21479880487565678, -0.22058222005982717, 0.09128666695709997, -0.2915310473229409, -0.1998016380979233, -0.0724220703260539, -0.2834958778079863, -0.4879516518743656, -0.14414516578919903, 0.005385072413607326, -0.06953823275027252, 0.07716897274114706, -0.043215106379114826, -0.38976612311131154, -0.07568653665903219, -0.2955177581184544, -0.43236944298641994, -0.27540387340316863, -0.34302735936307716, -0.24262754761896113, -0.1849182977561133, -0.17665272095334075, -0.2623501713279829, -0.27149238232764467, -0.03549084890015735, -0.40537881506861717, -0.5167585353595335, 0.050301739256354276, -0.18565568277336264, -0.4032591361767321, 0.06995639244428599, -0.3229488948958786, 0.08447494657594348, -0.1777378243851041, -0.1461797366597232, -0.042504658169109574, 0.09683294709171747, -0.30774784553701595, -0.4159544523755717, 0.3558552008674722, -0.2542658167471696, -0.3444209802341203, -0.3248668748623639, 0.003750840855526666, 0.042374432304189594, -0.12597620073400134, 0.45554485006100637, 0.01626728952003123, -0.1676332823059487, -0.1376598649165356, 0.21588013189937422, 0.31702666424442916, -0.24732395942310095, 0.42299909902453964, -0.015572243483517215, 0.1250604603126825, -0.04359599832250241, -0.26290621425381966, -0.39554987736882485, -0.010806964560556503, 0.27939694655618563, 0.056424563611032756, -0.3914510360893947, 0.0017548365723282287, -0.023900441234556393, 0.0350842904933085, -0.018420121110027343, 0.1897413799580002, 0.16588092722719922, -0.3578327204212241, -0.22764788093420563, -0.42702329447710763, 0.3479248486738847, 0.1719018060359556, 0.836243912178047, -0.1988476742744679, -0.21087293944232388, -0.1378081845675849, 0.49876460031582753, -0.46937986581594043, -0.24198681730416527, -0.1838288057669534, 0.16553202835715386, -0.28302522287116594, 0.053706788482653034, 0.21709964861133726, -0.01933183845204816, -0.01579276401719023, -0.03202723213602267, -0.019861885791231285, -0.20584522320285747, -0.27201276804936, -0.16521070738139942, -0.08832747416103554, -0.1226273410314154, 0.3043875314457584, -0.29817240987571664, 0.06307176003430286, 0.2513177933195416, 0.009519241949885893, -0.2927692881788682, 0.1258986790905776, -0.05162067433322562, -0.1837788488534633, -0.14550575724068954, 0.24474020074048916, 0.15655414479410343, 0.08874288706899308, 0.07172660430607235, -0.08264906228583373, 0.6767725787489783, 0.12968649208547983, 0.10629724899639939, 0.012897153485050791, 0.5230316558055657, 0.27713986269947705, -0.0415147392242289, -0.05299256582220548, -0.1336977743278646, 0.3389562012132051, 0.22574974892255836, 0.23243696653510537, -0.021266834412413203, 0.3573741921716649, 0.011766746683051263, 0.14745502236236102, -0.032060506073643184, 0.040109544215513895, 0.1099484548376338, -0.16499797312298478, 0.1572861858802578, 0.42226788215047434, 0.09067029203236299, -0.021239654701070962, -0.008121261798646294, -0.04024736114170481, 0.024445087360015747, 0.3173518811377489, -0.09199461136164577, 0.5001221987763216, 0.013841807784249822, 0.3699824881505675, 0.370557587500444, 0.1480135527285769, 0.12209378927517749, 0.05853754452096268, -0.5222318160409972, -0.3165962472845948, -0.2731339949260239, -0.34593152599393107, 0.1050942611298462, -0.15349653083507164, -0.30730261086245053, -0.45843859151329847, -0.3895958162103139, -0.4084687130751095, -0.49421382089126964, -0.5307007809499688, -0.17719901853734282, -0.21538076567121348, -0.39277767313520406, -0.1500717759119424, -0.5223190858025246, -0.1331758569468667, -0.026366831512041625, -0.12032324728315284, -0.562016416716831, -0.29322899774186156, -0.07327918619134324, -0.2199801954082426, -0.15992804228788016, -0.07805278420793071, -0.3032152016711427, -0.011939316980278164, -0.29582429470935184, -0.5122402012170234, -0.478099296911714, -0.3310751807473652, -0.12926983010835297, -0.5466981825329053, -0.35192664078331676, -0.2996954662492149, -0.5676671073420694, -0.23197092871409436, -0.48933002476920007, -0.011540614138089789, 0.16758459561474523, -0.6058821556683637, -0.5511887345866122, -0.5550021855739028, -0.291030326388822, -0.04147455359428429, -0.29380634684160106, -0.2309855427384793, -0.3663064491746483, -0.6443803304392985, -0.5502116797804564, 0.3336503367417947, -0.2986542178669717, -0.1113595598982365, -0.036457787631303466, 0.08800872305892277, -0.19547167628802015, -0.4078455109531483, -0.3813197579933453, -0.4014731489296292, -0.26437049420716274, 0.0740622237330697, 0.09467064997745074, 0.14209113976842627, -0.24026571696041388, -0.1379804931036119, -0.09276461557721097, 0.09062256037270486, -0.33271931398333704, -0.25669274263809944, -0.3810545592994195, -0.16524899327474757, -0.21165686491166202, -0.2769344528375619, -0.18252081575328738, -0.11981824982609321, -0.025961206851253697, -0.27704222067337175, -0.4049068281859908, -0.4737007286249272, 0.009055657228236999, -0.10821058013889989, -0.28241391451943815, -0.30056395494064436, -0.0128936843035833, -0.16339277955958584, -0.38910636055722, -0.2907482796681954, 0.0511002974949189, -0.6740551236065889, -0.4502747527825283, -0.5429959862038223, -0.16902029248834388, -0.4461030244493584, -0.4553824566117829, -0.5656593655720369, -0.4725051760901355, -0.18887662015948445, -0.38084635680183065, -0.45301952457252426, 0.1271431383733781, -0.21393028135575717, -0.054784586577159025, -0.17699639761530547, -0.4468616498348333, 0.1328908233725376, 0.10716963669717738, -0.03788135668857133, -0.18108607563196874, -0.4129622752496819, -0.010895169324629925, 0.07866778783129871, 0.05164815452705882, -0.04894250660598062, -0.11936740027758046, -0.341553365939621, 0.040710270255230274, -0.25313919521308836, -0.2730592708077773, 0.09736660673897715, 0.028177410855146384, -0.20064204673022656, -0.23550157701842617, -0.1695957467286778, -0.11424334608635835, 0.05488174562318681, 0.21020332264620284, -0.35932602598442787, -0.27600165607631677, -0.1271293004056089, -0.2795697413285179, 0.05899896732779754, -0.16419877827423346, -0.04798362589212066, -0.15375560770789695, -0.050699944545462575, -0.07741792449960802, -0.0065814742246072, -0.32222408680319964, 0.06166142095494448, 0.15611798774953348, -0.22148377487149948, -0.43221169516871094, 0.014131239313319674, -0.20169115174199723, -0.486922850062317, -0.09537531394786986, 0.07859178263399101, -0.1764548329910147, -0.4541133822568558, -0.021028816903507615, -0.314742176429139, -0.15450141105242626, -0.2724256812794091, 0.23023048681114655, -0.23552226653603298, -0.32802092732827837, -0.2369471178790577, 0.004183660043637083, -0.22146612601715485, -0.16134390569723653, 0.24935245811926834, 0.2164764675993618, -0.07561774645450449, -0.27782677605669137, 0.07724030327896596, 0.2732582799394742, -0.21575126863905225, -0.09640605635739118, 0.2353140034283857, -0.0815549749827879, 0.020544645224552162, -0.047730273322839106, -0.22328702040189258, -0.3963862171021003, -0.4085216945510471, 0.1491818226183624, -0.12368361918452837, -0.21665061206740763, -0.27860704914884815, -0.0620106302704897, -0.26004246634076783, 0.2785373270447042, -0.013141873324833454, -0.34340492597810507, 0.32193928037774855, -0.31225113173824515, 0.007457138382641635, 0.20697841623879942, -0.020738906812032578, 0.12242996131846745, -0.011036781486777588, -0.19704588095086947, 0.3267630862968681, -0.17106434256863412, -0.2731949940370276, 0.07824076974127225, -0.17403540920103774, -0.11442844391190521, -0.29148113428163674, 0.015602260567461395, 0.14614676645937905, 0.25536236725161693, 0.07512567034287591, -0.16683099422799103, -0.008790563647720039, 0.40399865890702075, -0.06658752994541, 0.4197087867842181, -0.22401130137905007, 0.07103616129767125, 0.009734907656500424, -0.2028609948613852, -0.11280359026680323, -0.19739105342958815, -0.2885596122860147, -0.2794703880390161, -0.04457936007084683, 0.17218530235438834, 0.29157200854790716, -0.048155674499118194, -0.06614449398747595, -0.05491910993438227, -0.1754134833129546, -0.1405783319408826, -0.22384834841962556, -0.009438628156459669, -0.28587945359118194, 0.022164173081573244, 0.02641379901003877, -0.07108234993858194, -0.15507013751612464, -0.1185086894906501, 1.0593521245248734, -0.2140142584196488, 0.5749501946582389, -0.051039133148815245, 0.4259719444048772, 0.24570307411331677, 0.41714131727889175, -0.21130602398123569, 0.24082870643637724, -0.004225516664615424, -0.02153934930851868, 0.04592275969881799, -0.15361946492202613, 0.19628727330234763, 0.20927766061372588, -0.33922224166604936, 0.09972493194772916, -0.15337788343782202, 0.32516332471728376, 0.17907911838008053, 0.22639094448800262, -0.19974596673648154, 0.16753987808070872, 0.1226907434152792, 0.09799750866508862, 0.3617418898013244, 0.3735610377244887, 0.13062968013197518, -0.026536748350951603, -0.3237660448281271, 0.06583173622362741, 0.1164021595863675, 0.5943671038483272, 0.393463084604852, 0.3210301576915915, 0.3860701530089724, 0.04704101936454369, 0.3901792507386753, 0.028217426444198238, 0.6434338629148705, 0.8313633430743752, -0.11892564185540758, 0.27129958020497763, 0.038868995733716036, 0.3235983704461326, 0.17145773269783465, 0.1713384735833594, -0.23929481169908395, 0.09639231878186673, 0.3481105227522219, 0.009948512819997613, 0.06367121944512369, -0.004113581900835462, 0.05644172326616764, -0.15283642701527772, 0.10464857624830178, -0.1251133383624804, -0.3031481444557533, 0.08057341515694924, -0.42611341044924855, -0.342567197408662, 0.11604898345110838, 0.18985162206258566, 0.3396763171411452, 0.12069223393810782, -0.03492853943774202, 0.24037471573445415, 0.13524705830342876, 0.13515886259067714, 0.07171219226318717, 0.04160216979579685, 0.3389691384025557, -0.29364401695822917, -0.0009336580295203889, -0.1913448989060983, 0.6481377756295376, 0.1347191098633454, 0.3238909912590301, -0.33115604694944795, 0.06863896306915131, -0.22396692359997805, -0.21338080189510172, -0.022811214351600256, -0.23963374310640334, -0.05234180549820964, 0.08640008380144674, -0.10485498742381724, -0.21201299835206142, 0.5461708116281141, -0.2800967803107289, -0.13031936181557494, -0.3780777489403549, -0.14341064609257873, 0.04242618202741744, 0.1098585922421598, 0.1897335855540327, -0.017132913929497097, 0.08320373950657611, 0.17062911243818202, -0.25393571077434657, 0.23013590087049438, 0.012458465410120668, -0.2800931220445089, 0.25894427434226674, -0.1546985247918134, -0.27573143898300256, -0.04955930490969996, 0.13328239756831872, 0.024857792892266452, -0.1724704132951834, -0.34864675731584954, -0.17106280816853148, -0.20543425551061684, -0.4475832868469163, -0.07139335999806252, -0.3566245354165925, -0.1517964652246889, -0.4094241902074376, -0.251994786327982, -0.39481842602484846, -0.3086111457974457, -0.38986855949100957, -0.2648972148032645, -0.009685475900758375, 0.020054212513501226, -0.4452338793453418, -0.03274484917708461, -0.46821299293417923, -0.18627146345454662, -0.20416841764665503, -0.29962716806780954, -0.20762688551149305, -0.10191435488186404, 0.3497409942055751, -0.3606163047097923, -0.29976034081915776, -0.48781110017622575, -0.15018906471546947, 0.05250989903554585, -0.4144841939870223, 0.037104792151952434, -0.2997376534145235, -0.05544786131282246, -0.28468590541310157, 0.36528490031423555, -0.23426542540319759, -0.37057143465559417, -0.5691756030918151, -0.12314875999273406, -0.3491724084654108, -0.27132622508231713, 0.035857235973243, -0.19254891123070944, 0.067535104529991, -0.24354939202814369, -0.0869185995086748, 0.1478265331658676, -0.2729865295029585, -0.3596176500769161, -0.06954449892872129, -0.09962057192082589, -0.46883323453522163, -0.04279101703549871, -0.3726206738989958, -0.12237915023358494, -0.2863305179600816, -0.11141057701675128, 0.26984373349587204, 0.6287648724119974, 0.07929045947569668, -0.015457749272381811, 0.22680036783975113, 0.4238394897924461, 0.09508590138940516, 0.05557852668025515, 0.2334222655361764, 0.17181529490050163, -0.06418695389550214, 0.04123230941704348, 0.193993705349399, 0.006947279777340285, -0.13717143524479827, -0.23350428005040502, 0.3069237398827318, 0.2964494305633, -0.16174811531499844, -0.10364005796444994, -0.06403454232941942, -0.1921876194514528, -0.09832726351247707, 0.11149218027455281, -0.031004805082688294, 0.2107778631417933, 0.04603481191015289, 0.06495236063271914, 0.34962315741677513, 0.08077507664221847, 0.1338584585144754, 0.19055491190325585, 0.08197647706949063, 0.005733899480225497, 0.08239440637858757, -0.17167749447354735, 0.08504010282585364, 0.19073587378601992, -0.2192100766294999, 0.005813700401567775, 0.023007211031594723, 0.2910362233065188, 0.282603293380599, -0.2233026303864465, 0.14342922040794967, 0.14432496824172622, 0.002387460514156069, 0.33164648006397873, -0.026849037878779833, 0.04580151034810802, 0.024826778731776362, 0.3253304806080693, 0.4175163313192087, 0.1834830767433721, 0.3992513007803513, -0.04143410113939754, 0.4724803461569889, 0.12407929270064652, -0.06177621980846377, 0.22546465207857808, 0.256189762550393, 0.21139406551650067, 0.28962729109242585, -0.13340596739261718, -0.08767470317703992, 0.21055942369724978, 0.31797648733869277, 0.248636348870376, -0.13914781318829636, -0.10562865209926048, 0.07635152013260799, -0.11337335500134496, 0.45047678894367893, 0.4707736181526417, -0.0017047139452461798, 0.3571174937636181, 0.2259871906431304, 0.13811422315049965, 0.6455030473259505, 0.41306421999551574, 0.14074243168167946, -0.473287809795618, -0.24878175000383482, -0.26542261001320344, -0.5298038986328053, -0.22210747299088915, -0.16045864524215125, -0.27193014682851807, -0.664116868987969, -0.4720338989359022, -0.4769169020578476, -0.201041176136853, -0.5273069925563636, -0.28499903946037547, -0.6039386648755826, 0.3909841774551995, -0.6656951531663944, -0.47882185006935635, -0.1838408218432724, -0.5503590602125532, -0.2920242738702435, -0.44640939212450964, -0.18469510813233317, -0.3919587666025783, -0.38850787460775416, -0.5053619342175979, -0.29100581597579867, -0.5062479881160686, -0.22281676798893663, -0.5299324354757381, -0.5933476734146667, -0.31023931945747957, -0.28756556428149055, -0.06338043110689089, -0.5214035329344624, -0.2688884137457143, -0.16169685781323365, -0.40690916736117666, -0.45019929312634566, 0.09644503620459569, -0.43073381665098515, -0.6623312271549163, -0.26067336071268365, -0.4706868158272437, -0.5483886842885765, 0.22443136750683845, -0.41741184612970683, -0.23599780072503193, -0.2918268480819184, -0.21006871554725876, -0.23400379757595216, -0.3192289267699805, -0.5499952712022703, -0.47688173669250905, -0.2020154235929521, -0.4422998838774149, -0.15051882038155115, -0.35674579061334893, -0.2476069350142649, -0.18655633348769962, -0.2185364640922139, -0.3521549837629361, -0.2792330801580368, -0.26744688641983705, -0.4529947279388831, -0.48065394292880853, -0.5588469647725095, -0.33285071280964545, -0.23987880213450552, -0.12923852119097923, 0.16110100443234468, 0.16224954171163036, 0.01762173663475098, -0.263601430150602, 0.004022293708874596, 0.0071392742967523026, -0.13934907204409505, 0.11774889965793217, -0.0012545264666265208, -0.017982245450140058, 0.8140051806643799, -0.3476292651191652, -0.40084628563049307, -0.11162595432174403, -0.03878353406997037, -0.4639884221435231, -0.44625536749414313, -0.45741469964393167, -0.5183252085067669, -0.4093779563424297, -0.4467459229619439, -0.15998771043512172, -0.2583068400414158, -0.37701629546519827, -0.017033354966296144, -0.3258990732683756, -0.5193549309438479, 0.2110858645638992, -0.39430319609314873, -0.4329099070519502, -0.2544840555923761, -0.2950304506072384, -0.4941286756793789, -0.21211389014502627, -0.44486048941136086, -0.5534572403821444, -0.24586122190240287, -0.37228503666071466, -0.5539786746412467, -0.2769291976697338, -0.11127306428106164, -0.46082113229475524, -0.19252238049204912, -0.14877320307893527, -0.46071506457927136, 0.1204231359075695, -0.032821010156872964, -0.40204099604824595, 0.12061931346613874, -0.4097687898756705, -0.2310891047937592, -0.47037573993667625, -0.45895440423099626, -0.3995893412799283, -0.49987150258332425, -0.5160372768163263, -0.32607888367713783, -0.38965241801346345, -0.3671145344352615, -0.18440900800003315, -0.2587866144500147, 0.039053119097540855, -0.2666138364778113, -0.11339428890686698, 0.047551057810279226, -0.22022916545948173, -0.23219913674735226, -0.5191095628705541, -0.20063212781084325, -0.08967061367782869, -0.3154082990591904, -0.6667790853843621, -0.10461550978097753, 0.019616888509018507, -0.2784478838167772, -0.48933699567017735, 0.12158554250368361, -0.2833953064256257, -0.36496164571440354, -0.45679577329739324, -0.17775864955349102, -0.16154120777919226, -0.7028439232548489, -0.44775996485599795, -0.30351914005682296, -0.40199935742827425, -0.48756478478841625, 0.13759006992981476, -0.23315045786834904, -0.23713614929934448, -0.3594334826377723, -0.3311412752786532, -0.6234761724496612, -0.4073806707361855, -0.15187246600044216, -0.296316659281502, -0.052825794114289865, -0.27764058407766723, -0.14233163222739215, -0.23955668229375762, -0.18110323371047837, -0.14701629772541355, -0.09263453736140292, 0.11814202730881304, -0.03431741486963494, -0.049179129030628155, -0.09507589369971836, -0.2402643424062441, -0.32063554253390814, -0.06694281731290923, -0.31568769880783365, -0.0011294110962624072, -0.2715198723876909, -0.3771110026174978, -0.3611774723420015, -0.13906119979570525, 0.08306607553411771, 0.29497966261283287, -0.35607757145732416, -0.51894105510938, -0.3303306370122274, -0.5272848850769744, -0.310333052077501, -0.4296978887437308, -0.548415580358366, -0.07397230587706584, -0.3302591573104173, 0.03477409410577599, 0.044182366053530174, -0.3840857613925839, -0.022074910490391914, -0.17703996122390833, -0.45778439394195863, -0.4081666857925883, -0.2209493580022365, -0.4112369694507315, -0.3348559603560928, -0.028580137639427527, -0.3394094199351381, -0.37769571981445843, -0.2997256503119895, -0.3693446650341416, -0.18404345508894748, -0.2117704128760075, -0.2236751686804065, -0.03519060333074152, -0.34497639425476895, -0.38373676551466906, -0.30322348720984343, 0.11722639597342804, -0.47301688064925795, -0.2563915867606373, -0.08897986044530706, -0.4160397052480452, -0.343687632720088, -0.34110048971491413, -0.2449510412687916, 0.0359838920926235, -0.5377035692737959, -0.3357453634606099, -0.24686766868611149, -0.48103641865515057, -0.5130114150822164, -0.19510566652592806, -0.007933261432308237, -0.3557603585308669, -0.3247566138568608, -0.19702479900580025, -0.057725937231470834, -0.5915074106007976, -0.37763598424296974, -0.3945220613221303, -0.3729364571488351, -0.44512078704588504, -0.5199782488644448, -0.345646153618295, -0.4316585936618931, 0.09424201985172227, -0.3341907135604134, -0.5726952010544227, -0.6240511931049096, -0.36793947006582356, -0.631412885139999, -0.3097011490697124, -0.14959263481733784, -0.2538555537973186, -0.2197596023106262, -0.4575101995156306, -0.3836149133245955, -0.32633694258949686, -0.16407290779569186, -0.500339833491847, 0.0009596083588114269, 0.04188743743754074, -0.46701262347519923, -0.2884115775144509, -0.352036300684634, -0.3754990596259225, -0.36025182975497616, -0.27131508014052236, -0.5012209376425641, 0.3358450632098761, 0.1238264906649248, 0.0302020006674017, -0.2556207371286837, 0.3770381697716109, 0.34695233289281135, 1.1778343603712977, -0.3161187467794926, 0.2749275898859356, 0.35368305326505317, 0.6049696055080082, -0.08124407189595094, -0.06746350253598418, 0.22472232329003203, 0.249580381144082, -0.24275026560821195, -0.19711530831100096, 0.007526126318300361, -0.3044258299339507, -0.20752665735005238, -0.0527233953707515, -0.3474643673540705, -0.35625501956309347, -0.05902648837137061, -0.3936985773588713, -0.1634771110199452, -0.14920263120375124, -0.03411723642482207, -0.3240353890320329, 0.2426281567375103, -0.5462466884195584, -0.22313966596100124, -0.4510548911851473, -0.2821232322430868, -0.46120337824498797, -0.4637528056902733, -0.010691073889432618, -0.6178811107521653, 0.06577044710258356, -0.31681113112094805, -0.4888368658759173, -0.34132818434530887, -0.23794532291577944, -0.1932459907630158, -0.06066944072846461, 0.14348391324302356, -0.27948111869480935, -0.5180833411314645, -0.3749088930124991, -0.4352699567639906, -0.36528591473768046, -0.26370777814292695, -0.10212198596210545, -0.08835509802880394, -0.6021558804615773, -0.06380257632098299, -0.323300561319157, -0.6531892449632959, -0.30448016545063245, -0.05500570267718935, 0.7870156590363145, -0.034837704461993184, -0.23968106995791563, 0.16912804760161876, 0.006784325142550004, -0.3326776325889379, -0.41742397306009826, -0.2664462343288315, -0.3005064644801513, 0.09286215524143711, 0.16258791403563574, -0.2391899067114127, -0.6383701782815222, -0.009045102173078587, 0.1633420508601659, 0.5010799107043254, 0.14140542805637685, -0.3478042679281665, 0.02743140596268523, 0.5372404733187688, 0.16344534797670668, -0.14060326958745192, 0.1554116271289133, 0.10385243114279646, -0.17369116630418052, 0.157455631708893, -0.1868828270644359, -0.27006128359161247, 0.3001628126983326, -0.062178661819390336, 0.0466924243605337, -0.021160834236573535, -0.21214698730818027, -0.04174227522263566, -0.037937792620870506, 0.13751303995719366, 0.04126089899254096, -0.20334769573424932, -0.27639104905258904, -0.07542899468172806, 0.11585261344104347, 0.14879148161027836, 0.08723196699173169, 0.11692980449573036, 0.9005502001974505, 0.17777010862529374, -0.07749047007900209, 0.7660829112033463, 0.3147695138540568, -0.13094710164175755, 0.11679911877061548, -0.12689258646228896, -0.27283264016041064, -0.0037146805943451978, -0.24615498072311703, 0.0689162214310364, -0.31016224566996126, -0.2831650556597473, -0.1825277538073024, 0.13919482041463727, -0.3811436325172711, -0.07162044038359981, -0.38995686669119334, -0.44992650140375207, 0.17477373050846187, 0.1790525423818229, -0.48713455524002075, -0.004712518674813645, -0.08748040529298583, -0.0947839352945609, -0.08709962725195301, -0.34178381846141637, -0.16676301251156667, -0.10266859125672002, 0.21324215098604568, 0.09479070374033322, 0.12126929793870996, -0.19940888956285718, -0.40272494761324484, 0.0020194183413756186, -0.4674820769679651, -0.4472201229150863, -0.3736843476424544, -0.23063653896763744, -0.39154341749194777, -0.3313118051932256, -0.10234598360854659, -0.2979794329503132, -0.10757607498691561, -0.0705992700542901, 0.1004328442613523, 0.15068445681101805, -0.32655020336556567, -0.2098894438097982, -0.17876815828033754, -0.18081163261130453, -0.020678096618064083, 0.00782194847441844, -0.6528748465367595, -0.11124462411598239, -0.10405257519710272, -0.2662823394459582, 0.39115924241164834, -0.3973564329336108, -0.41047666472145405, 0.3668596310997286, -0.24362210817973032, -0.11898294949288817, -0.26271295204614376, -0.23190432383508963, -0.18067506119309096, 0.15703468834732595, 0.16693720087789754, 0.3854687126228511, 0.24989067640983123, 0.16320715225511467, 0.3460078421007631, 0.04076879608865082, 0.16912482791651792, 0.4337717012611776, -0.1444071083920087, 0.6719701065416669, 0.0024597796740754214, -0.22189913372051467, 0.04792382772645327, -0.41453213359313656, 0.3140355773745761, 0.2542508036606286, 0.6469711028455047, 0.30682531175106864, 0.3432332870405839, 0.3914223345793646, 0.33650334549164695, 0.343535878052776, 0.3206315856320506, 0.2826001600959883, 0.5302689318513004, -0.015226038731353942, 0.35888911468697954, -0.07860117962116264, 0.4044462921412712, 0.41168290305852645, 0.2912031724865339, -0.139427061642543, 0.4081274560093571, 0.31463416731404703, 0.40620789447384364, 0.13956732630057023, 0.12671425001966524, 0.3105822008529422, 0.15418805823831697, 0.578627483601615, -0.2592210748679922, 0.1570531160772734, -0.15135978630518832, -0.25150627545024234, 0.3512875586848164, 0.2545248808752793, 0.37419095457692597, -0.14895879867977102, 0.10479671826480948, 0.06666350124735118, -0.08436956777910185, 0.2959659104515026, -0.026623583761114258, 0.01959878273756215, 0.23759280519049383, -0.04251777686060759, 0.0031388894885203134, 0.06876874937397583, -0.1072685704545612, 0.07915280789323416, 0.21666265726478742, 0.4501309488588738, -0.12743511288180384, 0.2213292342083123, 0.058151750181075754, 0.2810047311397302, 0.213696327362972, -0.21362745407969735, 0.8789314661759892, 0.5241270371052372, 0.39010907271592316, 0.03341029782121181, 0.09389198954533885, 0.1071231410745837, 0.3869963653226131, 0.12119917414209382, 0.12206582819113923, -0.003292620427185651, -0.05677840183599188, 0.254023515858647, 0.29532215309320653, 0.37914233432430594, 0.14532437436095744, -0.026559424199059573, -0.20286150889284377, -0.07180288733242293, -0.061497193634832935, 0.018035008954949815, -0.35452600749676766, -0.24235452859255677, -0.20752418874538678, -0.33688992879563523, 0.11502423440314655, 0.1274872936308797, -0.12296930903606054, 0.14987936327966409, -0.08126914671284474, 0.08818671652353834, 0.2631808888331943, -0.411216761380505, -0.027287142360102844, -0.15950688865829868, -0.040170760962865315, -0.08469215587654215, -0.022316095113939935, -0.44576713014143765, -0.018130387406719024, 0.18557898536638623, -0.18138321713154135, 0.005535111316910549, -0.1403018069113307, 0.214658390054086, -0.020510189551252615, -0.18529903145283202, 0.31283405392714964, 0.0233932649268949, 0.13593619835607754, -0.20791981019849526, -0.1921000549381442, -0.30563753354447404, 0.3227280760932025, -0.31389954096807526, -0.09648092153715805, 0.22178411454345032, 0.09563108755948121, 0.08998801052700506, -0.11706859522273733, 0.04999166803254424, -0.16878511853835237, -0.025110860544295444, 0.03640078137246506, 0.13971101486668272, -0.2907820621574155, -0.2594044661491117, -0.10584045700977246, -0.20626577969613533, 0.013190272566535913, 0.19826535909193613, -0.1992773957491896, 0.05363257458159482, -0.23851884173865895, 0.003423168763494267, 0.3507508092036337, -0.15333638060503268, -0.1130149451649378, 0.3942835719604852, 0.24911296646295866, -0.4722643716904516, -0.23873927936677863, 0.06824784998008109, -0.009756639883736005, -0.05516705286123567, -0.17712429457779214, 0.03816000068959163, -0.0934519173770741, 0.08024190620968111, 0.08614666433368859, 0.1877427811373641, 0.1790152333824673, 0.028835788950117996, 0.02219838847242012, 0.041315749542099045, -0.05777309031460977, 0.0677510344943937, -0.10272522841177235, 0.44135701522642434, -0.005085180460375978, 0.11653162028765937, 0.004335384077658867, -0.11582013695019916, 0.03844197521944454, -0.008208495379169968, 0.32331349356197914, 0.07579975676909434, -0.08409614176375257, 0.33229833540239695, 0.08094541091369963, 0.10173043848815704, 0.06505200274305765, -0.05082274257413385, -0.13591090555270566, 0.13650395645212568, -0.16891524905291275, -0.31503925878772715, -0.04446415235666209, -0.233821758835209, -0.1729058995387298, 0.10698498454856446, 0.010568737219772341, -0.17845807923259122, 0.016818595742663315, -0.011451312144872846, -0.12093692803231937, -0.0068240493489895295, 0.24545907390239402, 0.40958203106688323, 0.11099716286439035, 0.4955214461267887, 0.08255975681652154, -0.06776394660923629, -0.2924012203401354, 0.1368808292250955, 0.5037390139384016, 1.0337105205744004, -0.2159786242237204, -0.27190450788182213, 0.2477231830226358, 0.11457260346278482, 0.06127470787511899, -0.11418826878166125, 0.1908183032131802, 0.41862706779206876, 0.12450247548637733, -0.03173295933038452, 0.12006181341561206, 0.05263839744716714, -0.052963706999473004, -0.16801557996744604, 0.11627938499701153, 0.21554236279652042, 0.61093103406738, -0.1353084593470649, -0.41685097628667706, 0.46496832360031604, 0.3643808574128498, 0.033112050084840416, -0.05888976345761516, -0.13150244914722767, -0.08636260942502091, 0.20267559550336064, 0.03447296032017744, 0.6604790202614274, 0.03873009769629361, -0.04498725465362865, -0.16472353684271812, 0.8727220248634598, 0.09224743257433192, -0.14194908561227176, 0.3190964907874995, 0.01231617260778773, -0.07571386711970211, 0.650470357181482, -0.14346430919412748, -0.18332668922873552, -0.16376280303644508, -0.21807724100986697, -0.306543729031444, -0.47221455837282134, -0.2535253781533167, -0.3240232107019259, -0.29850907024133533, 0.17774263360437656, -0.23148647405553682, -0.46320052973398806, -0.21968033130011522, -0.3420336366859063, -0.4718313893412645, -0.3681242443516721, -0.35770126453431705, -0.6811135635671903, -0.30794799282359525, -0.1842593586575232, -0.30683106137735106, -0.20572954985349368, -0.2894044544141784, -0.5081718452928858, -0.2706385442244066, 0.08160250279781305, -0.40915834880858776, -0.2637673145479435, -0.32312037041394404, -0.27224806722552697, -0.031039783009554737, -0.1768346117772299, -0.20384455818059563, 0.009119816523140659, -0.5804387541178605, -0.4040584744935477, -0.5838276190118917, -0.08157148427696144, -0.3978556298785137, -0.3888758221133569, 0.2016410463313032, -0.2424017477334951, 0.14297218228325898, -0.1292643569784172, 0.44025481652840676, 0.040066880261653955, -0.3760691889882455, -0.05374511490481663, 0.039446820900658604, -0.30076750617536463, -0.43281595982012866, 0.06346671145129346, 0.32933447597787563, 0.15163225045035444, -0.13566816111119362, -0.28937264836799365, -0.4046170313480782, -0.2378844364333648, -0.04336806734444287, -0.22340168958486992, -0.24238895096796864, 0.04943405987071907, -0.22032494248391615, -0.3650159876186085, -0.13306606352042014, -0.23058684724632147, -0.3318533529562496, 0.08604171527210486, -0.31293171572693645, -0.20724691781064972, -0.34623586013511554, -0.11271708089219395, -0.22611890963608589, 0.19276035566473765, -0.272164825833385, -0.27608744623659903, -0.21238228071953172, -0.019300044711038283, -0.45652473116360376, 0.02923623984338135, -0.16758686130613606, -0.20642829740835283, -0.1930517295370201, -0.4010598377487426, -0.4748326468626854, -0.229353249200168, -0.3473250704950045, 0.4456019179590328, 0.28113360180932623, -0.2726093546099306, -0.14329383403852042, -0.18731650362181534, -0.21509269126215805, -0.26963241179536773, -0.09628092209688908, -0.09448314896446985, -0.1358597407590083, -0.023928526140150376, -0.2005477039971641, -0.45601846176467753, -0.3930772576792074, -0.11127998684612482, -0.2480471763827844, -0.29489970925571085, -0.1111880218193108, 0.07356123079303672, -0.33538782984997695, -0.4144455903867203, -0.17865063311537116, -0.15389778183778047, -0.2270104616622447, 0.9688812246062167, -0.030177753253036503, 0.061069295808720885, 0.05692496306858434, 0.1148251054273006, -0.0013993805450872852, -0.19551157807790248, -0.22230670642655, -0.3628751276579458, -0.21824017887045563, -0.07988240435886958, 0.047709152641238754, 0.21070502981945569, -0.1235090152716057, 0.2755515510202307, 0.05419589765683493, 0.09334749020441413, 0.1967415199565521, -0.03808456433161783, -0.3988833485120971, 0.41297253063808814, -0.34446967844628723, -0.016284029265495922, 0.08476292689276843, 0.1011216699148962, 0.15408427411048106, 0.2920361198924649, -0.018764355053036277, -0.2733732979796994, -0.2357761064621183, -0.19130231490213, -0.35879679027998285, 0.14938935668251083, -0.32450830171448997, -0.18706272528682366, 0.230453354893647, -0.10405014603909236, 0.30180560163135545, -0.3183606655849105, 0.158066718049335, 0.1668255093575439, 0.055557980537453144, 0.09879367515938842, 0.13061392271192, 0.11730037321942344, -0.18741396819735942, -0.03717722447902935, 0.7522570002005796, -0.5092682292196702, -0.04433924601889806, 0.34148684615532415, 0.16961375972210183, -0.010022716913749221, -0.29076252151011567, -0.32783391060722633, -0.2039208412890664, -0.5740058742700369, -0.17419549525017494, -0.2628598131223874, -0.24662139901826097, -0.39863233966486866, 0.01397418685376506, -0.7261161644799576, -0.1240142976773591, -0.5794610694889574, -0.21225103260625328, -0.27124254683641824, -0.1560557989191656, -0.5429042510355016, -0.3879586120252705, -0.3760336371940401, -0.4518244283809432, -0.6371615557796351, -0.4559903891976413, 0.05269468343600433, -0.2893921189735186, -0.34331089966161693, -0.48882752804058005, -0.15541121752287418, -0.4495507728663563, -0.4607288221855516, -0.4472494742997315, -0.396161922958228, -0.7226468869372431, -0.5598421163398501, -0.5015250701033077, -0.25819592254253254, -0.21458705203176767, -0.4484968937021026, -0.17336809459313102, -0.49391687170952725, -0.37810159966587575, -0.46426034957574813, -0.5901309005730486, -0.26606081013380967, -0.11065854554737876, -0.2650739508154344, 0.02781941939574268, 0.1013341163562741, 0.02081722235781581, -0.35132592299806953, -0.048500681645018466, -0.3415028134668489, 0.02153291515399608, 0.042946780606293054, -0.3961872213344213, 0.052563796950830126, -0.29084995569491173, -0.21910213477802518, -0.19786127819930213, 0.06873322480484914, -0.28616886003402253, 0.06211243345810481, -0.2369993717035645, 0.10183438016142643, -0.3333391445177271, -0.1060726106978169, 0.07113244678658845, -0.17087644096600701, 0.1555173316045183, -0.07236893745648726, -0.1864987746730467, -0.1334900942845715, 0.0438038036640876, -0.1364229952289247, -0.30099379809339416, -0.008916733169899285, -0.24463401966792117, -0.31069048101854874, -0.11435619817480117, -0.21316950018545228, 0.3404164248063733, -0.03076319849354689, 0.061087210620084174, 0.029282743159069143, -0.3574104750339574, -0.21311094707025455, -0.055895990047152684, -0.24380217298423462, 0.07033575596521718, 0.2104820614407967, -0.054014746659848255, 0.2761701991713489, 0.32587325515460674, -0.02708731533703358, 0.06151229171750971, -0.22951820649949142, -0.1801148386542475, -0.46632032268362617, -0.19587685284464018, 0.024088722599556443, -0.2270946006218829, -0.3830383245214862, -0.5150246578941774, -0.12394939227688564, -0.4294763844845939, -0.35647736603798297, -0.20768256242125185, -0.3295495779418331, -0.19606243951633376, -0.45098570797838905, -0.4023966197258431, -0.27752420133076294, 0.2113838344460495, -0.32351448027608437, -0.3678423004129544, -0.4103950291484839, -0.16304855938559726, -0.22472512087427068, -0.44730602956556914, -0.3218263083449903, -0.2407858035086288, 0.21462311016160612, 0.2807720381841783, -0.37242021937213043, -0.3091724722539728, -0.29596887752801404, -0.27524890477735986, -0.025523997154452284, 0.0066769865629958385, -0.49061814974669826, -0.28584793962442817, 0.024973189575955988, -0.3167613583438376, 0.13413738827049357, -0.3956668361864269, -0.36620774391925576, -0.5063997466691986, -0.09144559712719147, 0.015100829313416358, -0.048382341021120524, -0.41343867431000947, -0.2771346717974102, -0.2689398976306413, -0.420801007342397, -0.4117735685721261, -0.40803026711472706, -0.5154778666242749, 0.3771594759913723, -0.2395593321113323, -0.17684702608415567, -0.18846234281507793, 0.1105406831302178, -0.4930739991078662, -0.3087071136279829, 0.19875837577120775, -0.33587154447307865, -0.11611125008103167, 0.10500178202242094, -0.015156910866473137, -0.3359321838286097, -0.09836548415337765, 0.01815170408912246, -0.06074478776032342, 0.13480291418798118, 0.37921658737140135, 0.2230809693908646, -0.09071367458740681, 0.10203852794858016, -0.13801672991250424, -0.28797400285231584, 0.16057931794456898, -0.15908568895589664, -0.3096687195381035, 0.2628904513205249, -0.06624164865973867, -0.10484900931596171, -0.19692918008138974, -0.23722162595076407, -0.13812437936189748, -0.29828547711794884, -0.2174462943870452, -0.2129502684607321, -0.13587816856226143, -0.35752482913723466, -0.16868914061320883, -0.2227655991514103, 0.14768617582582466, -0.13305219903567675, 0.16187245945179016, 0.15093309989099118, -0.1842769738388903, -0.2730925872747612, -0.31463905861057706, -0.19139138823896817, -0.029276704052015788, -0.18768850909834525, -0.2329499405689599, -0.14914227129936253, 0.07730569084890586, -0.31093501964674014, -0.14161644586743183, -0.40457153310148386, -0.3085750748260426, -0.05952134917001912, -0.24859492243517628, -0.05673542969155348, -0.6156332165407084, -0.09098689843755367, -0.42453406107030045, -0.20036993804654515, -0.4208245638295136, -0.2550380089748842, -0.2178271757519178, -0.351560610366465, -0.4244897868572482, -0.5635854875071723, -0.5193970375309851, -0.44262985908343216, -0.21398408558157764, -0.07163895095196766, 0.026030711082668183, -0.4718839100678131, -0.47890298996703373, -0.04018077447404059, -0.06514561356148028, -0.47780611521436267, -0.1339871557422785, -0.2098931167683644, -0.2223304827644569, -0.30969509725545485, -0.41218063696054696, -0.3997101991487172, -0.08504274623769419, -0.23231232912222838, -0.40690087634034944, -0.15030296700030946, -0.3965057496596522, -0.5248776203951785, -0.2284846439781737, -0.4730516741548768, -0.4175587238677955, -0.1636964730873195, -0.2451356044613218, -0.09393529470870372, -0.10065290176319872, -0.21913215266267685, 0.05303111352193371, 0.08148205257724067, -0.25131644109732776, -0.14428231518505577, -0.5117351360519025, -0.5098109464278918, -0.2262068763665821, -0.42239710667191516, -0.25174157258612356, 0.03787074192408326, -0.2756670928541454, 0.08242687473719162, -0.09502893193325124, -0.5296947355348083, -0.23308498532749072, 0.273524950117997, -0.023103714315621457, -0.30216141452537937, -0.06410756762775176, -0.2452226936265204, -0.13463336223308311, -0.16542872529937108, 0.05510079780469589, -0.2867993958153277, -0.444656355444344, 0.3567529790737804, -0.0670122176807173, 0.07050646123242253, -0.03234584405901036, -0.1334158186781175, -0.4220179436820444, -0.28706201821059707, 0.026818302817944603, -0.05983246025484765, -0.07802624194286414, -0.2373850974392119, 0.1271484361945717, 0.051165704660439126, -0.013787945951109336, -0.14012617878226877, -0.17067312336074367, 0.27099268397601156, 0.05191341233165978, 0.22997542509154317, 0.14429719198461566, -0.08470264104708793, -0.2916131500209843, -0.01751648044761351, -0.03405269915764938, -0.2103108262529166, -0.10033827772677724, 0.451460716041525, -0.08892898479033466, -0.1542684951895437, 0.12934929998685976, -0.06022258771547771, 0.08221635719816658, 0.13098396915795754, -0.12921129494605224, 0.03827023262341602, -0.11384266809257591, -0.1379582644827961, 0.2287864637418351, -0.2606866927811176, -0.09484043030532302, -0.09477934035141712, 0.05828560221950333, -0.3329010484078056, -0.022464720086755086, -0.41339639880825907, -0.1270241405130176, -0.07690207458205837, -0.1754326414194134, -0.28144009863761693, -0.21480232040755484, -0.10228879917865068, -0.09881026916995254, -0.19271072503077963, 0.03440847018691328, 0.1399090239104632, -0.019489657892943175, -0.13408467639276822, -0.02261425776744251, -0.2090636352639108, 0.36871129384664875, 0.025011734351531267, -0.26017490232933854, 0.08720484131191042, 0.15745213157475427, -0.07293045338729617, -0.19787834815148012, -0.21268314105040076, -0.12850578948129032, 0.24367864114243945, -0.09167123151434814, -0.37737379452834086, 0.13164485797430664, -0.22623299590223092, -0.05442201766923594, -0.15137513546599338, -0.1359601292220027, 0.038348879962632386, 0.012071871028936778, -0.17537517380472953, -0.1827994475948999, -0.09516859011895377, -0.12768328325268297, 0.0710189941468677, -0.24260685739596496, 0.09734012046050344, -0.2714074203946225, -0.09411348484260382, -0.10626119145656025, 0.14314561961724898, 0.2875649129299765, -0.28125495342254164, 0.04786112565979051, 0.14629793962859694, 0.11838661566282666, -0.1668649900352128, 0.10150826560467979, 0.02787852039408544, -0.17682888169964384, -0.0321072881203974, -0.27077375146966454, -0.19355835420876022, 0.22887896480101796, 0.04528697226845561, 0.08613744326694442, -0.2393193259504913, -0.28460699367865566, -0.006168967864440045, 0.6468328814341445, 0.17674830043562556, 0.3164739010211258, -0.2575068606175653, -0.0832589568542969, 0.04119596974778406, 0.11136544210210458, 0.25111925684985387, -0.04477145309521396, 0.24472095108892256, 0.20293203930496534, 0.3138195601778749, 0.45393328278531936, -0.20157517727968463, 0.5304632265532743, 0.04801071964735416, -0.12987854527838802, -0.09155627015608608, -0.14587345453631984, 0.020927706943999615, -0.14336993572374124, -0.04143183165554689, 0.02125722577147083, -0.013940842146689681, 0.08805611662867086, -0.29541584928043146, 0.17620434786198014, 0.1527821050008525, 0.0827825403408628, 0.10206812514366034, 0.003910638869720316, 0.10437934510412211, -0.2463457550448288, 0.06382410065436554, 1.0138992982948702, 0.36325809010164417, 0.0062139788670189265, 0.13618376688480188, 0.713182322021079, 0.017208931133995766, 0.1939984141465081, 0.027675263331435836, -0.36943773469573393, -0.019726006843168373, 0.060001380977570205, 0.27607444434153033, -0.07642585816750597, 0.24776505054902873, 1.3148742370692663, 0.3371311910205391, 0.3009897327122969, 0.2561865060203496, -0.37643075039081453, -0.5941322346344474, -0.2978385517524217, -0.27696861030262737, -0.2863615559705304, -0.20819021669376797, -0.24472793504453166, -0.34254709359778407, -0.19951110208096548, -0.3260019854648255, -0.23033725991174656, 0.0856493044950821, -0.38784520656817945, -0.5059522322106892, -0.22616263302967413, 0.09367015709561534, -0.35966876746337756, -0.16511620057992266, -0.3497467769562414, -0.18383074555427073, -0.38718264860740104, -0.18508002365293247, -0.20798634064969448, 0.30247806790769854, -0.3554530208220473, -0.2235340326846898, -0.2693514505807231, -0.5761089811662232, -0.2573057489772593, -0.2769983117190409, -0.3953263216078245, 0.19791692445155007, -0.30149454998205777, 0.0221884238466302, -0.23217777480128104, -0.2275410118062091, -0.052368731024042464, -0.3854121072028122, 0.3354737736878195, -0.36128248779030037, -0.24345500574644827, -0.3173471022788351, 0.1309968132653462, -0.2158889084440336, 0.08499760933311312, -0.3960743693824656, -0.1505361721519331, -0.35354625124416766, -0.0036393527029835396, -0.04883817195856223, 0.1708165290437981, -0.5828374524455113, 0.16156151090798426, -0.2989907985508948, -0.3872467426922421, -0.07212994448522411, -0.3171320044176491, 0.032007853312031626, -0.15576164191240366, -0.24927972399866033, -0.18660243846160848, -0.27064817208055414, -0.3747394384506769, -0.536682612204477, -0.23642444692409936, -0.07880881576443234, -0.12871047260841217, -0.38792479817408515, 0.0783894188930301, -0.20828026408839034, 0.10792240559935339, -0.4895730119624616, -0.14573425742981302, -0.07904400885177898, -0.2559230272876221, -0.5111656207947441, -0.35992540372659454, -0.02626316072987011, -0.2742849227565201, -0.24333511949795852, -0.31228652479588076, -0.016870539782876125, -0.39153759389743514, -0.021484563108148343, -0.14201730979621613, -0.2671978882883781, -0.10543369991787294, -0.3028304731354556, -0.42959895598034537, -0.11758704374412085, -0.3283518849992573, -0.10250701690378562, -0.04648764179050378, -0.49716870584303063, -0.18238696378465005, -0.2784163276536767, -0.030661462541263337, -0.39409533157771787, -0.03801041936154575, -0.24261690294670712, -0.16943217248267017, -0.3596604221748627, -0.022132796446791416, -0.16593944030769495, -0.3400958070929112, -0.3271341363194244, 0.12156851348634719, -0.3340268052914343, 0.08308854317922129, -0.1716509696626582, -0.2859474754875058, -0.06271002409204883, -0.1999387651476637, -0.13582996888492058, -0.26836826644427114, 0.4801596562997428, 0.03279333454070354, -0.4714899211205521, -0.12952256950271593, -0.13806007636436174, -0.3609737247052711, -0.13422560314308077, -0.3216402641373876, -0.17151506968023023, 0.061009794300941736, -0.5582524333143795, -0.3255676371253972, -0.2572946784329353, -0.03217759984110858, 0.12682715464250585, 0.05166413366318517, -0.11134604888486502, -0.39788553773773316, 0.007832896350903845, -0.23798688823569694, -0.3163858241925403, -0.010349790250169855, -0.3084306298065329, -0.271246735456268, -0.18093149079688356, -0.4567036133484412, -0.2755601945354244, -0.2941543795254605, -0.11014388393762287, -0.14207121114456636, 0.08078758183270791, 0.02236457751365943, -0.01773068110021016, -0.15266003215566046, 0.10178587043587276, -0.46948848002341914, -0.06959245871727086, -0.0207889092462696, -0.34799971424284365, -0.5730949446992605, -0.3093766663067788, -0.3681945404281927, -0.4192577842604431, -0.3228632611192023, -0.11291326355529455, -0.2117974417166385, -0.25018100188210834, -0.23352029755969844, -0.8830453643425985, -0.70761969887398, -0.5560732998826048, -0.6173082885407146, -0.5230990888110236, -0.4751678479838641, -0.3147737360835781, -0.554603110552387, -0.18375910770995801, -0.5903115341020237, -0.00510087433857383, -1.0269250666744718, -0.566583432720251, -0.4785078280846986, -0.2661110906701385, -0.6083061652422583, -0.9224763327349391, -0.6750267611402824, -0.5639618506101437, -0.6802810704652931, -0.7230281689569052, -0.5598111123351831, -0.4827108971680421, -0.8131556099881814, -0.427664519126721, -0.2699331470546255, -0.4165674853374631, -0.4958664467335918, -0.5683612937352113, -0.6634080521006206, -0.5058804839217943, -0.7974268664297849, -0.6112736931552396, -0.48854300272443474, -0.5768354125755573, -0.7772919554841633, -0.5242711139149073, -0.6845014289345942, -0.6970334809655745, -0.2599863985522938, -0.0404461382845509, -0.36649557105000585, -0.4725202092594392, -0.6013152776888601, -0.6022742697663932, -0.23323179504170002, -0.5606085373686152, -0.33038633605374473, -0.4105122031396986, -0.37229944090317746, -0.3794662877470042, -0.5584494800224343, -0.4926648959138687, -0.2143862110987177, -0.4496534098080371, -0.5649329180515182, -0.3527335946451186, -0.1083654171310014, -0.4524691161216839, -0.16339010679583751, -0.4023007062279324, -0.2001046319953375, -0.5385770123430187, -0.41642205621453815, -0.3769530682396672, -0.4547603880334369, -0.31546392638147025, -0.648634211599671, -0.43687348462644565, -0.412936003372931, -0.4993360282882704, -0.420515706066953, -0.419038952022221, -0.3466055656519621, -0.36364016582557107, -0.3202948337146497, -0.38191005997053123, -0.4329177401401934, -0.4361872261790955, -0.4253242580018401, -0.36054994888430786, -0.5967880826703377, -0.6370439909349067, -0.5833763483169175, -0.4990796193433427, -0.46013267484016485, -0.32755215956960737, -0.5045862542735645, -0.27857803811933196, -0.40864155951511255, -0.043237510205761526, -0.0647723024507433, -0.18530608748921124, 0.07934579637610696, -0.027435424148862898, 0.281743140981045, 0.005859509066875108, 0.15018746304390285, 0.26506321347500217, 0.21553673905913165, 0.6167150183273419, 0.1125770135788667, 0.1950317868763718, -0.35779047006510584, -0.12120509020699909, 0.43746712896639545, -0.00491887338934679, 0.24073973401198198, 0.1773284969766524, 0.0936760131665591, 0.0905838043614329, -0.5025749166470834, 0.05262821461075524, -0.0016604676004197483, -0.19217322760436165, 0.257492952694157, -0.010858096055112282, 0.4350886381424828, -0.09111428287758798, 0.13354991076126013, 0.44075515703422025, -0.028992351779591002, 0.6019676251338202, -0.08358439447098535, -0.08269236245514858, 0.11194063519788462, -0.5564858718604715, 0.21874734365762907, 0.25565389339378275, 0.4093605528993007, -0.16097416882669816, 0.09855198241820722]}],\n",
              "                        {\"margin\": {\"b\": 0, \"l\": 0, \"r\": 0, \"t\": 0}, \"scene\": {\"xaxis\": {\"title\": {\"text\": \"Principal component 1\"}}, \"yaxis\": {\"title\": {\"text\": \"Principal component 2\"}}, \"zaxis\": {\"title\": {\"text\": \"Principal component 3\"}}}, \"showlegend\": true, \"template\": {\"data\": {\"bar\": [{\"error_x\": {\"color\": \"#2a3f5f\"}, \"error_y\": {\"color\": \"#2a3f5f\"}, \"marker\": {\"line\": {\"color\": \"#E5ECF6\", \"width\": 0.5}}, \"type\": \"bar\"}], \"barpolar\": [{\"marker\": {\"line\": {\"color\": \"#E5ECF6\", \"width\": 0.5}}, \"type\": \"barpolar\"}], \"carpet\": [{\"aaxis\": {\"endlinecolor\": \"#2a3f5f\", \"gridcolor\": \"white\", \"linecolor\": \"white\", \"minorgridcolor\": \"white\", \"startlinecolor\": \"#2a3f5f\"}, \"baxis\": {\"endlinecolor\": \"#2a3f5f\", \"gridcolor\": \"white\", \"linecolor\": \"white\", \"minorgridcolor\": \"white\", \"startlinecolor\": \"#2a3f5f\"}, \"type\": \"carpet\"}], \"choropleth\": [{\"colorbar\": {\"outlinewidth\": 0, \"ticks\": \"\"}, \"type\": \"choropleth\"}], \"contour\": [{\"colorbar\": {\"outlinewidth\": 0, \"ticks\": \"\"}, \"colorscale\": [[0.0, \"#0d0887\"], [0.1111111111111111, \"#46039f\"], [0.2222222222222222, \"#7201a8\"], [0.3333333333333333, \"#9c179e\"], [0.4444444444444444, \"#bd3786\"], [0.5555555555555556, \"#d8576b\"], [0.6666666666666666, \"#ed7953\"], [0.7777777777777778, \"#fb9f3a\"], [0.8888888888888888, \"#fdca26\"], [1.0, \"#f0f921\"]], \"type\": \"contour\"}], \"contourcarpet\": [{\"colorbar\": {\"outlinewidth\": 0, \"ticks\": \"\"}, \"type\": \"contourcarpet\"}], \"heatmap\": [{\"colorbar\": {\"outlinewidth\": 0, \"ticks\": \"\"}, \"colorscale\": [[0.0, \"#0d0887\"], [0.1111111111111111, \"#46039f\"], [0.2222222222222222, \"#7201a8\"], [0.3333333333333333, \"#9c179e\"], [0.4444444444444444, \"#bd3786\"], [0.5555555555555556, \"#d8576b\"], [0.6666666666666666, \"#ed7953\"], [0.7777777777777778, \"#fb9f3a\"], [0.8888888888888888, \"#fdca26\"], [1.0, \"#f0f921\"]], \"type\": \"heatmap\"}], \"heatmapgl\": [{\"colorbar\": {\"outlinewidth\": 0, \"ticks\": \"\"}, \"colorscale\": [[0.0, \"#0d0887\"], [0.1111111111111111, \"#46039f\"], [0.2222222222222222, \"#7201a8\"], [0.3333333333333333, \"#9c179e\"], [0.4444444444444444, \"#bd3786\"], [0.5555555555555556, \"#d8576b\"], [0.6666666666666666, \"#ed7953\"], [0.7777777777777778, \"#fb9f3a\"], [0.8888888888888888, \"#fdca26\"], [1.0, \"#f0f921\"]], \"type\": \"heatmapgl\"}], \"histogram\": [{\"marker\": {\"colorbar\": {\"outlinewidth\": 0, \"ticks\": \"\"}}, \"type\": \"histogram\"}], \"histogram2d\": [{\"colorbar\": {\"outlinewidth\": 0, \"ticks\": \"\"}, \"colorscale\": [[0.0, \"#0d0887\"], [0.1111111111111111, \"#46039f\"], [0.2222222222222222, \"#7201a8\"], [0.3333333333333333, \"#9c179e\"], [0.4444444444444444, \"#bd3786\"], [0.5555555555555556, \"#d8576b\"], [0.6666666666666666, \"#ed7953\"], [0.7777777777777778, \"#fb9f3a\"], [0.8888888888888888, \"#fdca26\"], [1.0, \"#f0f921\"]], \"type\": \"histogram2d\"}], \"histogram2dcontour\": [{\"colorbar\": {\"outlinewidth\": 0, \"ticks\": \"\"}, \"colorscale\": [[0.0, \"#0d0887\"], [0.1111111111111111, \"#46039f\"], [0.2222222222222222, \"#7201a8\"], [0.3333333333333333, \"#9c179e\"], [0.4444444444444444, \"#bd3786\"], [0.5555555555555556, \"#d8576b\"], [0.6666666666666666, \"#ed7953\"], [0.7777777777777778, \"#fb9f3a\"], [0.8888888888888888, \"#fdca26\"], [1.0, \"#f0f921\"]], \"type\": \"histogram2dcontour\"}], \"mesh3d\": [{\"colorbar\": {\"outlinewidth\": 0, \"ticks\": \"\"}, \"type\": \"mesh3d\"}], \"parcoords\": [{\"line\": {\"colorbar\": {\"outlinewidth\": 0, \"ticks\": \"\"}}, \"type\": \"parcoords\"}], \"pie\": [{\"automargin\": true, \"type\": \"pie\"}], \"scatter\": [{\"marker\": {\"colorbar\": {\"outlinewidth\": 0, \"ticks\": \"\"}}, \"type\": \"scatter\"}], \"scatter3d\": [{\"line\": {\"colorbar\": {\"outlinewidth\": 0, \"ticks\": \"\"}}, \"marker\": {\"colorbar\": {\"outlinewidth\": 0, \"ticks\": \"\"}}, \"type\": \"scatter3d\"}], \"scattercarpet\": [{\"marker\": {\"colorbar\": {\"outlinewidth\": 0, \"ticks\": \"\"}}, \"type\": \"scattercarpet\"}], \"scattergeo\": [{\"marker\": {\"colorbar\": {\"outlinewidth\": 0, \"ticks\": \"\"}}, \"type\": \"scattergeo\"}], \"scattergl\": [{\"marker\": {\"colorbar\": {\"outlinewidth\": 0, \"ticks\": \"\"}}, \"type\": \"scattergl\"}], \"scattermapbox\": [{\"marker\": {\"colorbar\": {\"outlinewidth\": 0, \"ticks\": \"\"}}, \"type\": \"scattermapbox\"}], \"scatterpolar\": [{\"marker\": {\"colorbar\": {\"outlinewidth\": 0, \"ticks\": \"\"}}, \"type\": \"scatterpolar\"}], \"scatterpolargl\": [{\"marker\": {\"colorbar\": {\"outlinewidth\": 0, \"ticks\": \"\"}}, \"type\": \"scatterpolargl\"}], \"scatterternary\": [{\"marker\": {\"colorbar\": {\"outlinewidth\": 0, \"ticks\": \"\"}}, \"type\": \"scatterternary\"}], \"surface\": [{\"colorbar\": {\"outlinewidth\": 0, \"ticks\": \"\"}, \"colorscale\": [[0.0, \"#0d0887\"], [0.1111111111111111, \"#46039f\"], [0.2222222222222222, \"#7201a8\"], [0.3333333333333333, \"#9c179e\"], [0.4444444444444444, \"#bd3786\"], [0.5555555555555556, \"#d8576b\"], [0.6666666666666666, \"#ed7953\"], [0.7777777777777778, \"#fb9f3a\"], [0.8888888888888888, \"#fdca26\"], [1.0, \"#f0f921\"]], \"type\": \"surface\"}], \"table\": [{\"cells\": {\"fill\": {\"color\": \"#EBF0F8\"}, \"line\": {\"color\": \"white\"}}, \"header\": {\"fill\": {\"color\": \"#C8D4E3\"}, \"line\": {\"color\": \"white\"}}, \"type\": \"table\"}]}, \"layout\": {\"annotationdefaults\": {\"arrowcolor\": \"#2a3f5f\", \"arrowhead\": 0, \"arrowwidth\": 1}, \"coloraxis\": {\"colorbar\": {\"outlinewidth\": 0, \"ticks\": \"\"}}, \"colorscale\": {\"diverging\": [[0, \"#8e0152\"], [0.1, \"#c51b7d\"], [0.2, \"#de77ae\"], [0.3, \"#f1b6da\"], [0.4, \"#fde0ef\"], [0.5, \"#f7f7f7\"], [0.6, \"#e6f5d0\"], [0.7, \"#b8e186\"], [0.8, \"#7fbc41\"], [0.9, \"#4d9221\"], [1, \"#276419\"]], \"sequential\": [[0.0, \"#0d0887\"], [0.1111111111111111, \"#46039f\"], [0.2222222222222222, \"#7201a8\"], [0.3333333333333333, \"#9c179e\"], [0.4444444444444444, \"#bd3786\"], [0.5555555555555556, \"#d8576b\"], [0.6666666666666666, \"#ed7953\"], [0.7777777777777778, \"#fb9f3a\"], [0.8888888888888888, \"#fdca26\"], [1.0, \"#f0f921\"]], \"sequentialminus\": [[0.0, \"#0d0887\"], [0.1111111111111111, \"#46039f\"], [0.2222222222222222, \"#7201a8\"], [0.3333333333333333, \"#9c179e\"], [0.4444444444444444, \"#bd3786\"], [0.5555555555555556, \"#d8576b\"], [0.6666666666666666, \"#ed7953\"], [0.7777777777777778, \"#fb9f3a\"], [0.8888888888888888, \"#fdca26\"], [1.0, \"#f0f921\"]]}, \"colorway\": [\"#636efa\", \"#EF553B\", \"#00cc96\", \"#ab63fa\", \"#FFA15A\", \"#19d3f3\", \"#FF6692\", \"#B6E880\", \"#FF97FF\", \"#FECB52\"], \"font\": {\"color\": \"#2a3f5f\"}, \"geo\": {\"bgcolor\": \"white\", \"lakecolor\": \"white\", \"landcolor\": \"#E5ECF6\", \"showlakes\": true, \"showland\": true, \"subunitcolor\": \"white\"}, \"hoverlabel\": {\"align\": \"left\"}, \"hovermode\": \"closest\", \"mapbox\": {\"style\": \"light\"}, \"paper_bgcolor\": \"white\", \"plot_bgcolor\": \"#E5ECF6\", \"polar\": {\"angularaxis\": {\"gridcolor\": \"white\", \"linecolor\": \"white\", \"ticks\": \"\"}, \"bgcolor\": \"#E5ECF6\", \"radialaxis\": {\"gridcolor\": \"white\", \"linecolor\": \"white\", \"ticks\": \"\"}}, \"scene\": {\"xaxis\": {\"backgroundcolor\": \"#E5ECF6\", \"gridcolor\": \"white\", \"gridwidth\": 2, \"linecolor\": \"white\", \"showbackground\": true, \"ticks\": \"\", \"zerolinecolor\": \"white\"}, \"yaxis\": {\"backgroundcolor\": \"#E5ECF6\", \"gridcolor\": \"white\", \"gridwidth\": 2, \"linecolor\": \"white\", \"showbackground\": true, \"ticks\": \"\", \"zerolinecolor\": \"white\"}, \"zaxis\": {\"backgroundcolor\": \"#E5ECF6\", \"gridcolor\": \"white\", \"gridwidth\": 2, \"linecolor\": \"white\", \"showbackground\": true, \"ticks\": \"\", \"zerolinecolor\": \"white\"}}, \"shapedefaults\": {\"line\": {\"color\": \"#2a3f5f\"}}, \"ternary\": {\"aaxis\": {\"gridcolor\": \"white\", \"linecolor\": \"white\", \"ticks\": \"\"}, \"baxis\": {\"gridcolor\": \"white\", \"linecolor\": \"white\", \"ticks\": \"\"}, \"bgcolor\": \"#E5ECF6\", \"caxis\": {\"gridcolor\": \"white\", \"linecolor\": \"white\", \"ticks\": \"\"}}, \"title\": {\"x\": 0.05}, \"xaxis\": {\"automargin\": true, \"gridcolor\": \"white\", \"linecolor\": \"white\", \"ticks\": \"\", \"title\": {\"standoff\": 15}, \"zerolinecolor\": \"white\", \"zerolinewidth\": 2}, \"yaxis\": {\"automargin\": true, \"gridcolor\": \"white\", \"linecolor\": \"white\", \"ticks\": \"\", \"title\": {\"standoff\": 15}, \"zerolinecolor\": \"white\", \"zerolinewidth\": 2}}}},\n",
              "                        {\"responsive\": true}\n",
              "                    ).then(function(){\n",
              "                            \n",
              "var gd = document.getElementById('8e0f0b2e-e354-418c-b961-525edac61a63');\n",
              "var x = new MutationObserver(function (mutations, observer) {{\n",
              "        var display = window.getComputedStyle(gd).display;\n",
              "        if (!display || display === 'none') {{\n",
              "            console.log([gd, 'removed!']);\n",
              "            Plotly.purge(gd);\n",
              "            observer.disconnect();\n",
              "        }}\n",
              "}});\n",
              "\n",
              "// Listen for the removal of the full notebook cells\n",
              "var notebookContainer = gd.closest('#notebook-container');\n",
              "if (notebookContainer) {{\n",
              "    x.observe(notebookContainer, {childList: true});\n",
              "}}\n",
              "\n",
              "// Listen for the clearing of the current output cell\n",
              "var outputEl = gd.closest('.output');\n",
              "if (outputEl) {{\n",
              "    x.observe(outputEl, {childList: true});\n",
              "}}\n",
              "\n",
              "                        })\n",
              "                };\n",
              "                \n",
              "            </script>\n",
              "        </div>\n",
              "</body>\n",
              "</html>"
            ]
          },
          "metadata": {
            "tags": []
          }
        }
      ]
    },
    {
      "cell_type": "markdown",
      "metadata": {
        "id": "aC8yQ79AdHJg",
        "colab_type": "text"
      },
      "source": [
        "## Train+Test split"
      ]
    },
    {
      "cell_type": "code",
      "metadata": {
        "id": "JJP9Cdym9BJG",
        "colab_type": "code",
        "colab": {}
      },
      "source": [
        "seed = 13\n",
        "\n",
        "X_all = df[\"Processed\"].values\n",
        "\n",
        "X_train, X_test, Y_train, Y_test = train_test_split(\n",
        "    X_all, Y_all, test_size=0.2, stratify=Y_all, random_state=seed)"
      ],
      "execution_count": 0,
      "outputs": []
    },
    {
      "cell_type": "markdown",
      "metadata": {
        "id": "VjWntUpZhkHN",
        "colab_type": "text"
      },
      "source": [
        "## Test some `sklearn` machine-learning models"
      ]
    },
    {
      "cell_type": "code",
      "metadata": {
        "id": "14y99DfYdMcW",
        "colab_type": "code",
        "outputId": "5272bfc4-d961-41e0-b8b4-5ccbe9d871b9",
        "colab": {
          "base_uri": "https://localhost:8080/",
          "height": 124
        }
      },
      "source": [
        "from sklearn import metrics\n",
        "from sklearn.feature_selection import SelectKBest, chi2, SelectFromModel\n",
        "from sklearn.naive_bayes import BernoulliNB\n",
        "from sklearn.linear_model import SGDClassifier, Perceptron, LogisticRegression\n",
        "from sklearn.ensemble import RandomForestClassifier\n",
        "from sklearn.pipeline import Pipeline\n",
        "from sklearn.svm import LinearSVC\n",
        "\n",
        "\n",
        "def benchmark(clf, X_train, y_train, X_test, y_test, verbose=True):\n",
        "  if verbose:\n",
        "      print('_' * 80)\n",
        "      print(\"Training: \")\n",
        "      print(clf)\n",
        "\n",
        "  clf.fit(X_train, y_train)\n",
        "  pred = clf.predict(X_test)\n",
        "  score = metrics.accuracy_score(y_test, pred)\n",
        "\n",
        "  if verbose:\n",
        "    print(\"accuracy:   %0.3f\" % score)\n",
        "\n",
        "    if hasattr(clf, 'coef_'):\n",
        "        print(\"dimensionality: %d\" % clf.coef_.shape[1])\n",
        "\n",
        "        if feature_names is not None:\n",
        "            print(\"top 15 keywords per class:\")\n",
        "            for i, label in enumerate(target_names):\n",
        "                top15 = np.argsort(clf.coef_[i])[-15:]\n",
        "                print(\"%s: %s\" % (label, \" | \".join(feature_names[top15])))\n",
        "        print()\n",
        "\n",
        "    print(\"classification report:\")\n",
        "    print(metrics.classification_report(y_test, pred,\n",
        "                                        target_names=target_names))\n",
        "\n",
        "    print()\n",
        "  clf_descr = str(clf).split('(')[0]\n",
        "  return clf_descr, score\n",
        "\n",
        "vectorizer = TfidfVectorizer(sublinear_tf=True, max_df=0.5, ngram_range=(1, 3))\n",
        "X_train_tfidf = vectorizer.fit_transform(X_train) \n",
        "X_test_tfidf = vectorizer.transform(X_test)\n",
        "feature_names = vectorizer.get_feature_names()\n",
        "target_names = list(map(lambda x : x[0], sorted(mapping.items(), key=lambda x : x[1])))\n",
        "\n",
        "# Extracting 'select_chi2' best features by a chi-squared test, \n",
        "# if select_chi2 is set to number (k best features will be selected)\n",
        "select_chi2 = None\n",
        "if select_chi2:\n",
        "  ch2 = SelectKBest(chi2, k=select_chi2)\n",
        "  X_train_tfidf = ch2.fit_transform(X_train_tfidf, Y_train)\n",
        "  X_test_tfidf = ch2.transform(X_test_tfidf)\n",
        "  feature_names = [feature_names[i] for i\n",
        "                    in ch2.get_support(indices=True)]\n",
        "\n",
        "feature_names = np.asarray(feature_names) if feature_names else None\n",
        "\n",
        "for clf, name in (\n",
        "  (Perceptron(max_iter=50), \"Perceptron\"),\n",
        "  (LogisticRegression(), \"Logistic Regression\"),\n",
        "  (RandomForestClassifier(), \"Random forest\"),\n",
        "  (SGDClassifier(alpha=.0001, max_iter=50, penalty=\"elasticnet\"), \"SGD\"),\n",
        "  (BernoulliNB(alpha=.01), \"Bernoulli Naive Bayes\"),\n",
        "  (LinearSVC(), \"SVC\")\n",
        "  ):\n",
        "  name, score = benchmark(clf, \n",
        "                        X_train_tfidf, Y_train, X_test_tfidf, Y_test,\n",
        "                        verbose=False)\n",
        "  print(name, score)\n"
      ],
      "execution_count": 30,
      "outputs": [
        {
          "output_type": "stream",
          "text": [
            "Perceptron 0.6241457858769932\n",
            "LogisticRegression 0.6438876233864844\n",
            "RandomForestClassifier 0.621867881548975\n",
            "SGDClassifier 0.6575550493545937\n",
            "BernoulliNB 0.5968109339407744\n",
            "LinearSVC 0.6583143507972665\n"
          ],
          "name": "stdout"
        }
      ]
    },
    {
      "cell_type": "markdown",
      "metadata": {
        "colab_type": "text",
        "id": "Mjois0-ISzPu"
      },
      "source": [
        "## GloVe + LSTM"
      ]
    },
    {
      "cell_type": "code",
      "metadata": {
        "id": "fe245wf0XVvC",
        "colab_type": "code",
        "colab": {}
      },
      "source": [
        "X_train, X_valid, Y_train, Y_valid = train_test_split(\n",
        "    X_train, Y_train, test_size=0.2, stratify=Y_train, random_state=seed)"
      ],
      "execution_count": 0,
      "outputs": []
    },
    {
      "cell_type": "code",
      "metadata": {
        "colab_type": "code",
        "outputId": "49484092-a5e0-47e1-e058-c2be16fd07a0",
        "id": "XvPMNi0lSzPw",
        "colab": {
          "base_uri": "https://localhost:8080/",
          "height": 99
        }
      },
      "source": [
        "from keras.preprocessing.text import Tokenizer\n",
        "\n",
        "train_tokenizer = Tokenizer()\n",
        "train_tokenizer.fit_on_texts(X_train)"
      ],
      "execution_count": 32,
      "outputs": [
        {
          "output_type": "stream",
          "text": [
            "Using TensorFlow backend.\n"
          ],
          "name": "stderr"
        },
        {
          "output_type": "display_data",
          "data": {
            "text/html": [
              "<p style=\"color: red;\">\n",
              "The default version of TensorFlow in Colab will soon switch to TensorFlow 2.x.<br>\n",
              "We recommend you <a href=\"https://www.tensorflow.org/guide/migrate\" target=\"_blank\">upgrade</a> now \n",
              "or ensure your notebook will continue to use TensorFlow 1.x via the <code>%tensorflow_version 1.x</code> magic:\n",
              "<a href=\"https://colab.research.google.com/notebooks/tensorflow_version.ipynb\" target=\"_blank\">more info</a>.</p>\n"
            ],
            "text/plain": [
              "<IPython.core.display.HTML object>"
            ]
          },
          "metadata": {
            "tags": []
          }
        }
      ]
    },
    {
      "cell_type": "code",
      "metadata": {
        "id": "jv5v9_GMIs7r",
        "colab_type": "code",
        "outputId": "ac07584a-4c19-4d6e-d877-2810e5ab93ce",
        "colab": {
          "base_uri": "https://localhost:8080/",
          "height": 33
        }
      },
      "source": [
        "max_lenght = 0\n",
        "for line in X_train:\n",
        "    max_lenght = max(max_lenght, len(line.split()))\n",
        "\n",
        "max_lenght"
      ],
      "execution_count": 0,
      "outputs": [
        {
          "output_type": "execute_result",
          "data": {
            "text/plain": [
              "48"
            ]
          },
          "metadata": {
            "tags": []
          },
          "execution_count": 43
        }
      ]
    },
    {
      "cell_type": "code",
      "metadata": {
        "id": "6qCRD-aoI6TQ",
        "colab_type": "code",
        "colab": {}
      },
      "source": [
        "max_lenght = 128"
      ],
      "execution_count": 0,
      "outputs": []
    },
    {
      "cell_type": "code",
      "metadata": {
        "id": "BifjMAg-7C0i",
        "colab_type": "code",
        "outputId": "7e838337-bbeb-4233-878f-6569a78e79fc",
        "colab": {
          "base_uri": "https://localhost:8080/",
          "height": 70
        }
      },
      "source": [
        "import os\n",
        "from keras.layers import Embedding\n",
        "from keras.initializers import Constant\n",
        "\n",
        "embeddings_index = {}\n",
        "with open(os.path.join(PATH_TO_DIR, 'glove.twitter.27B.100d.txt')) as f:\n",
        "    for line in f:\n",
        "        word, coefs = line.split(maxsplit=1)\n",
        "        coefs = np.fromstring(coefs, 'f', sep=' ')\n",
        "        embeddings_index[word] = coefs\n",
        "\n",
        "EMBEDDING_DIM = 100\n",
        "vocab_size = len(train_tokenizer.word_index) + 1\n",
        "embedding_matrix = np.zeros((vocab_size, EMBEDDING_DIM))\n",
        "\n",
        "for word, idx in train_tokenizer.word_index.items():\n",
        "    embedding_vector = embeddings_index.get(word)\n",
        "    if embedding_vector is not None:\n",
        "        embedding_matrix[idx] = embedding_vector\n",
        "\n",
        "embedding_layer_pretrained = Embedding(vocab_size,\n",
        "                            EMBEDDING_DIM,\n",
        "                            embeddings_initializer=Constant(embedding_matrix),\n",
        "                            input_length=max_lenght,\n",
        "                            trainable=False,\n",
        "                            mask_zero=True)"
      ],
      "execution_count": 0,
      "outputs": [
        {
          "output_type": "stream",
          "text": [
            "WARNING:tensorflow:From /usr/local/lib/python3.6/dist-packages/keras/backend/tensorflow_backend.py:66: The name tf.get_default_graph is deprecated. Please use tf.compat.v1.get_default_graph instead.\n",
            "\n"
          ],
          "name": "stdout"
        }
      ]
    },
    {
      "cell_type": "code",
      "metadata": {
        "id": "tXCnPcHcJMIz",
        "colab_type": "code",
        "outputId": "58fd1ab8-605f-4708-b498-23c17047733c",
        "colab": {
          "base_uri": "https://localhost:8080/",
          "height": 33
        }
      },
      "source": [
        "from keras.preprocessing.sequence import pad_sequences\n",
        "\n",
        "X_train_seq = train_tokenizer.texts_to_sequences(X_train)\n",
        "X_train_seq = pad_sequences(X_train_seq, maxlen=max_lenght, padding='pre', value=0)\n",
        "\n",
        "X_valid_seq = train_tokenizer.texts_to_sequences(X_valid)\n",
        "X_valid_seq = pad_sequences(X_valid_seq, maxlen=max_lenght, padding='pre', value=0)\n",
        "\n",
        "X_test_seq = train_tokenizer.texts_to_sequences(X_test)\n",
        "X_test_seq = pad_sequences(X_test_seq, maxlen=max_lenght, padding='pre', value=0)\n",
        "\n",
        "X_train_seq.shape, X_valid_seq.shape, X_test_seq.shape"
      ],
      "execution_count": 0,
      "outputs": [
        {
          "output_type": "execute_result",
          "data": {
            "text/plain": [
              "((4214, 128), (1054, 128), (1317, 128))"
            ]
          },
          "metadata": {
            "tags": []
          },
          "execution_count": 46
        }
      ]
    },
    {
      "cell_type": "code",
      "metadata": {
        "id": "w8NtrmL6KVbD",
        "colab_type": "code",
        "outputId": "f1ddd718-6e0b-42b7-aa9c-922162f4bfd1",
        "colab": {
          "base_uri": "https://localhost:8080/",
          "height": 217
        }
      },
      "source": [
        "X_train_seq[0]    # exemplary sequence"
      ],
      "execution_count": 0,
      "outputs": [
        {
          "output_type": "execute_result",
          "data": {
            "text/plain": [
              "array([   0,    0,    0,    0,    0,    0,    0,    0,    0,    0,    0,\n",
              "          0,    0,    0,    0,    0,    0,    0,    0,    0,    0,    0,\n",
              "          0,    0,    0,    0,    0,    0,    0,    0,    0,    0,    0,\n",
              "          0,    0,    0,    0,    0,    0,    0,    0,    0,    0,    0,\n",
              "          0,    0,    0,    0,    0,    0,    0,    0,    0,    0,    0,\n",
              "          0,    0,    0,    0,    0,    0,    0,    0,    0,    0,    0,\n",
              "          0,    0,    0,    0,    0,    0,    0,    0,    0,    0,    0,\n",
              "          0,    0,    0,    0,    0,    0,    0,    0,    0,    0,    0,\n",
              "          0,    0,    0,    0,    0,    0,    0,    0,    0,    0,    0,\n",
              "          0,    0,    0,    0,    0,    0,    0,    0,    0,    0,    0,\n",
              "          0,    0,    0,    0,    0,   90,   83,   36, 1815, 1306,  274,\n",
              "       2240,  221,  483,  201,   17,   17,  613], dtype=int32)"
            ]
          },
          "metadata": {
            "tags": []
          },
          "execution_count": 47
        }
      ]
    },
    {
      "cell_type": "code",
      "metadata": {
        "id": "Xax7qfToKdEw",
        "colab_type": "code",
        "colab": {}
      },
      "source": [
        "def get_model_checkpoint(name):\n",
        "    return ModelCheckpoint(PATH_TO_DIR + 'models/' + name,\n",
        "                     monitor='val_loss',\n",
        "                     mode='min',\n",
        "                     verbose=1,\n",
        "                     save_best_only=True)"
      ],
      "execution_count": 0,
      "outputs": []
    },
    {
      "cell_type": "code",
      "metadata": {
        "id": "0P3YoJ4fKmX1",
        "colab_type": "code",
        "colab": {}
      },
      "source": [
        "def plot_history(history):\n",
        "    plt.figure(figsize=(12, 12))\n",
        "    plt.plot(history.history['loss'])\n",
        "    plt.plot(history.history['val_loss'])\n",
        "    plt.title('Loss')\n",
        "    plt.legend(['train', 'val'], loc='upper left')\n",
        "    plt.show()\n",
        "\n",
        "    plt.figure(figsize=(12, 12))\n",
        "    plt.plot(history.history['acc'])\n",
        "    plt.plot(history.history['val_acc'])\n",
        "    plt.title('Accuracy')\n",
        "    plt.legend(['train', 'val'], loc='upper left')\n",
        "\n",
        "    plt.show()"
      ],
      "execution_count": 0,
      "outputs": []
    },
    {
      "cell_type": "code",
      "metadata": {
        "id": "n4BGaPL0KwK7",
        "colab_type": "code",
        "colab": {}
      },
      "source": [
        "from keras.models import Sequential\n",
        "from keras.layers import *\n",
        "from keras.callbacks import ModelCheckpoint"
      ],
      "execution_count": 0,
      "outputs": []
    },
    {
      "cell_type": "code",
      "metadata": {
        "id": "g6GexXduK2gj",
        "colab_type": "code",
        "outputId": "3f464523-a152-4c76-8841-2d1ff4c5d5c3",
        "colab": {
          "base_uri": "https://localhost:8080/",
          "height": 538
        }
      },
      "source": [
        "model = Sequential()\n",
        "\n",
        "model.add(embedding_layer_pretrained)\n",
        "\n",
        "model.add(LSTM(100, dropout=0.2, recurrent_dropout=0.2))\n",
        "model.add(Dense(3, activation='softmax'))\n",
        "model.summary()\n",
        "\n",
        "model.compile(optimizer='adam', loss='categorical_crossentropy', metrics=['acc'])"
      ],
      "execution_count": 0,
      "outputs": [
        {
          "output_type": "stream",
          "text": [
            "WARNING:tensorflow:From /usr/local/lib/python3.6/dist-packages/keras/backend/tensorflow_backend.py:541: The name tf.placeholder is deprecated. Please use tf.compat.v1.placeholder instead.\n",
            "\n",
            "WARNING:tensorflow:From /usr/local/lib/python3.6/dist-packages/keras/backend/tensorflow_backend.py:4432: The name tf.random_uniform is deprecated. Please use tf.random.uniform instead.\n",
            "\n",
            "WARNING:tensorflow:From /usr/local/lib/python3.6/dist-packages/keras/backend/tensorflow_backend.py:148: The name tf.placeholder_with_default is deprecated. Please use tf.compat.v1.placeholder_with_default instead.\n",
            "\n",
            "WARNING:tensorflow:From /usr/local/lib/python3.6/dist-packages/keras/backend/tensorflow_backend.py:3733: calling dropout (from tensorflow.python.ops.nn_ops) with keep_prob is deprecated and will be removed in a future version.\n",
            "Instructions for updating:\n",
            "Please use `rate` instead of `keep_prob`. Rate should be set to `rate = 1 - keep_prob`.\n",
            "WARNING:tensorflow:From /usr/local/lib/python3.6/dist-packages/keras/backend/tensorflow_backend.py:3239: where (from tensorflow.python.ops.array_ops) is deprecated and will be removed in a future version.\n",
            "Instructions for updating:\n",
            "Use tf.where in 2.0, which has the same broadcast rule as np.where\n",
            "Model: \"sequential_1\"\n",
            "_________________________________________________________________\n",
            "Layer (type)                 Output Shape              Param #   \n",
            "=================================================================\n",
            "embedding_1 (Embedding)      (None, 128, 100)          1036300   \n",
            "_________________________________________________________________\n",
            "lstm_1 (LSTM)                (None, 100)               80400     \n",
            "_________________________________________________________________\n",
            "dense_1 (Dense)              (None, 3)                 303       \n",
            "=================================================================\n",
            "Total params: 1,117,003\n",
            "Trainable params: 80,703\n",
            "Non-trainable params: 1,036,300\n",
            "_________________________________________________________________\n",
            "WARNING:tensorflow:From /usr/local/lib/python3.6/dist-packages/keras/optimizers.py:793: The name tf.train.Optimizer is deprecated. Please use tf.compat.v1.train.Optimizer instead.\n",
            "\n",
            "WARNING:tensorflow:From /usr/local/lib/python3.6/dist-packages/keras/backend/tensorflow_backend.py:3576: The name tf.log is deprecated. Please use tf.math.log instead.\n",
            "\n"
          ],
          "name": "stdout"
        }
      ]
    },
    {
      "cell_type": "code",
      "metadata": {
        "id": "rnYUw-z-ONX-",
        "colab_type": "code",
        "colab": {}
      },
      "source": [
        "def to_one_hot(data, cls=None):\n",
        "    if cls is None:\n",
        "        cls = len(np.unique(data))\n",
        "    sh = len(data)\n",
        "    hot = np.zeros((sh, cls))\n",
        "    hot[np.arange(sh), data] = 1\n",
        "    return hot"
      ],
      "execution_count": 0,
      "outputs": []
    },
    {
      "cell_type": "code",
      "metadata": {
        "id": "RDyFfjK-LUtM",
        "colab_type": "code",
        "outputId": "78ba42b8-11aa-44f0-f065-85a1471fac25",
        "colab": {
          "base_uri": "https://localhost:8080/",
          "height": 1000
        }
      },
      "source": [
        "model_name = 'lstm_20e'\n",
        "\n",
        "history = model.fit(X_train_seq, to_one_hot(Y_train, 3), epochs=20, batch_size=64,\n",
        "                    validation_data=(X_valid_seq, to_one_hot(Y_valid, 3)), \n",
        "                    callbacks=[get_model_checkpoint('best_' + model_name + '.h5')])\n",
        "\n",
        "model.save_weights(PATH_TO_DIR + 'models/' + model_name + '.h5')"
      ],
      "execution_count": 0,
      "outputs": [
        {
          "output_type": "stream",
          "text": [
            "WARNING:tensorflow:From /usr/local/lib/python3.6/dist-packages/keras/backend/tensorflow_backend.py:1033: The name tf.assign_add is deprecated. Please use tf.compat.v1.assign_add instead.\n",
            "\n",
            "WARNING:tensorflow:From /usr/local/lib/python3.6/dist-packages/keras/backend/tensorflow_backend.py:1020: The name tf.assign is deprecated. Please use tf.compat.v1.assign instead.\n",
            "\n",
            "WARNING:tensorflow:From /usr/local/lib/python3.6/dist-packages/keras/backend/tensorflow_backend.py:3005: The name tf.Session is deprecated. Please use tf.compat.v1.Session instead.\n",
            "\n",
            "Train on 4214 samples, validate on 1054 samples\n",
            "Epoch 1/20\n",
            "WARNING:tensorflow:From /usr/local/lib/python3.6/dist-packages/keras/backend/tensorflow_backend.py:190: The name tf.get_default_session is deprecated. Please use tf.compat.v1.get_default_session instead.\n",
            "\n",
            "WARNING:tensorflow:From /usr/local/lib/python3.6/dist-packages/keras/backend/tensorflow_backend.py:197: The name tf.ConfigProto is deprecated. Please use tf.compat.v1.ConfigProto instead.\n",
            "\n",
            "WARNING:tensorflow:From /usr/local/lib/python3.6/dist-packages/keras/backend/tensorflow_backend.py:207: The name tf.global_variables is deprecated. Please use tf.compat.v1.global_variables instead.\n",
            "\n",
            "WARNING:tensorflow:From /usr/local/lib/python3.6/dist-packages/keras/backend/tensorflow_backend.py:216: The name tf.is_variable_initialized is deprecated. Please use tf.compat.v1.is_variable_initialized instead.\n",
            "\n",
            "WARNING:tensorflow:From /usr/local/lib/python3.6/dist-packages/keras/backend/tensorflow_backend.py:223: The name tf.variables_initializer is deprecated. Please use tf.compat.v1.variables_initializer instead.\n",
            "\n",
            "4214/4214 [==============================] - 40s 9ms/step - loss: 0.8818 - acc: 0.5883 - val_loss: 0.7877 - val_acc: 0.6290\n",
            "\n",
            "Epoch 00001: val_loss improved from inf to 0.78768, saving model to /content/drive/My Drive/STUDIA/SEM 9/emd/models/best_lstm_20e.h5\n",
            "Epoch 2/20\n",
            "4214/4214 [==============================] - 22s 5ms/step - loss: 0.7752 - acc: 0.6431 - val_loss: 0.7671 - val_acc: 0.6376\n",
            "\n",
            "Epoch 00002: val_loss improved from 0.78768 to 0.76713, saving model to /content/drive/My Drive/STUDIA/SEM 9/emd/models/best_lstm_20e.h5\n",
            "Epoch 3/20\n",
            "4214/4214 [==============================] - 23s 5ms/step - loss: 0.7532 - acc: 0.6533 - val_loss: 0.7590 - val_acc: 0.6509\n",
            "\n",
            "Epoch 00003: val_loss improved from 0.76713 to 0.75901, saving model to /content/drive/My Drive/STUDIA/SEM 9/emd/models/best_lstm_20e.h5\n",
            "Epoch 4/20\n",
            "4214/4214 [==============================] - 23s 5ms/step - loss: 0.7322 - acc: 0.6664 - val_loss: 0.7585 - val_acc: 0.6414\n",
            "\n",
            "Epoch 00004: val_loss improved from 0.75901 to 0.75848, saving model to /content/drive/My Drive/STUDIA/SEM 9/emd/models/best_lstm_20e.h5\n",
            "Epoch 5/20\n",
            "4214/4214 [==============================] - 23s 5ms/step - loss: 0.7213 - acc: 0.6718 - val_loss: 0.7524 - val_acc: 0.6565\n",
            "\n",
            "Epoch 00005: val_loss improved from 0.75848 to 0.75238, saving model to /content/drive/My Drive/STUDIA/SEM 9/emd/models/best_lstm_20e.h5\n",
            "Epoch 6/20\n",
            "4214/4214 [==============================] - 23s 5ms/step - loss: 0.7029 - acc: 0.6766 - val_loss: 0.7578 - val_acc: 0.6603\n",
            "\n",
            "Epoch 00006: val_loss did not improve from 0.75238\n",
            "Epoch 7/20\n",
            "4214/4214 [==============================] - 22s 5ms/step - loss: 0.6908 - acc: 0.6913 - val_loss: 0.7638 - val_acc: 0.6537\n",
            "\n",
            "Epoch 00007: val_loss did not improve from 0.75238\n",
            "Epoch 8/20\n",
            "4214/4214 [==============================] - 22s 5ms/step - loss: 0.6692 - acc: 0.6996 - val_loss: 0.7670 - val_acc: 0.6414\n",
            "\n",
            "Epoch 00008: val_loss did not improve from 0.75238\n",
            "Epoch 9/20\n",
            "4214/4214 [==============================] - 22s 5ms/step - loss: 0.6616 - acc: 0.7084 - val_loss: 0.7747 - val_acc: 0.6556\n",
            "\n",
            "Epoch 00009: val_loss did not improve from 0.75238\n",
            "Epoch 10/20\n",
            "4214/4214 [==============================] - 23s 5ms/step - loss: 0.6391 - acc: 0.7167 - val_loss: 0.7693 - val_acc: 0.6452\n",
            "\n",
            "Epoch 00010: val_loss did not improve from 0.75238\n",
            "Epoch 11/20\n",
            "4214/4214 [==============================] - 22s 5ms/step - loss: 0.6286 - acc: 0.7205 - val_loss: 0.7719 - val_acc: 0.6632\n",
            "\n",
            "Epoch 00011: val_loss did not improve from 0.75238\n",
            "Epoch 12/20\n",
            "4214/4214 [==============================] - 22s 5ms/step - loss: 0.6095 - acc: 0.7290 - val_loss: 0.7931 - val_acc: 0.6556\n",
            "\n",
            "Epoch 00012: val_loss did not improve from 0.75238\n",
            "Epoch 13/20\n",
            "4214/4214 [==============================] - 23s 5ms/step - loss: 0.5910 - acc: 0.7387 - val_loss: 0.7893 - val_acc: 0.6490\n",
            "\n",
            "Epoch 00013: val_loss did not improve from 0.75238\n",
            "Epoch 14/20\n",
            "4214/4214 [==============================] - 22s 5ms/step - loss: 0.5722 - acc: 0.7525 - val_loss: 0.7932 - val_acc: 0.6509\n",
            "\n",
            "Epoch 00014: val_loss did not improve from 0.75238\n",
            "Epoch 15/20\n",
            "4214/4214 [==============================] - 23s 5ms/step - loss: 0.5531 - acc: 0.7644 - val_loss: 0.8187 - val_acc: 0.6528\n",
            "\n",
            "Epoch 00015: val_loss did not improve from 0.75238\n",
            "Epoch 16/20\n",
            "4214/4214 [==============================] - 23s 5ms/step - loss: 0.5384 - acc: 0.7627 - val_loss: 0.7984 - val_acc: 0.6575\n",
            "\n",
            "Epoch 00016: val_loss did not improve from 0.75238\n",
            "Epoch 17/20\n",
            "4214/4214 [==============================] - 22s 5ms/step - loss: 0.5045 - acc: 0.7879 - val_loss: 0.7951 - val_acc: 0.6528\n",
            "\n",
            "Epoch 00017: val_loss did not improve from 0.75238\n",
            "Epoch 18/20\n",
            "4214/4214 [==============================] - 23s 5ms/step - loss: 0.4964 - acc: 0.7890 - val_loss: 0.8215 - val_acc: 0.6471\n",
            "\n",
            "Epoch 00018: val_loss did not improve from 0.75238\n",
            "Epoch 19/20\n",
            "4214/4214 [==============================] - 22s 5ms/step - loss: 0.4837 - acc: 0.7981 - val_loss: 0.8451 - val_acc: 0.6376\n",
            "\n",
            "Epoch 00019: val_loss did not improve from 0.75238\n",
            "Epoch 20/20\n",
            "4214/4214 [==============================] - 23s 5ms/step - loss: 0.4496 - acc: 0.8132 - val_loss: 0.8431 - val_acc: 0.6546\n",
            "\n",
            "Epoch 00020: val_loss did not improve from 0.75238\n"
          ],
          "name": "stdout"
        }
      ]
    },
    {
      "cell_type": "code",
      "metadata": {
        "id": "PEs8ELxwPTYe",
        "colab_type": "code",
        "outputId": "572aefb0-048a-4fd2-c4f2-56bd79211b4e",
        "colab": {
          "base_uri": "https://localhost:8080/",
          "height": 1000
        }
      },
      "source": [
        "plot_history(history)"
      ],
      "execution_count": 0,
      "outputs": [
        {
          "output_type": "display_data",
          "data": {
            "image/png": "[encoded data removed]",
            "text/plain": [
              "<Figure size 864x864 with 1 Axes>"
            ]
          },
          "metadata": {
            "tags": []
          }
        },
        {
          "output_type": "display_data",
          "data": {
            "image/png": "[encoded data removed]",
            "text/plain": [
              "<Figure size 864x864 with 1 Axes>"
            ]
          },
          "metadata": {
            "tags": []
          }
        }
      ]
    },
    {
      "cell_type": "code",
      "metadata": {
        "id": "FHvIRzGEQQM8",
        "colab_type": "code",
        "outputId": "cd6344cf-deb2-4f89-8e73-48d9f7f6b688",
        "colab": {
          "base_uri": "https://localhost:8080/",
          "height": 50
        }
      },
      "source": [
        "model.evaluate(X_test_seq, to_one_hot(Y_test, 3), batch_size=64, verbose=1)"
      ],
      "execution_count": 0,
      "outputs": [
        {
          "output_type": "stream",
          "text": [
            "1317/1317 [==============================] - 2s 2ms/step\n"
          ],
          "name": "stdout"
        },
        {
          "output_type": "execute_result",
          "data": {
            "text/plain": [
              "[0.8119856597079231, 0.6522399387580478]"
            ]
          },
          "metadata": {
            "tags": []
          },
          "execution_count": 55
        }
      ]
    },
    {
      "cell_type": "code",
      "metadata": {
        "id": "xh0QEBwWQajW",
        "colab_type": "code",
        "colab": {}
      },
      "source": [
        "model.load_weights(PATH_TO_DIR + 'models/' + model_name + '.h5')"
      ],
      "execution_count": 0,
      "outputs": []
    },
    {
      "cell_type": "code",
      "metadata": {
        "id": "DzVEbnIVQcYd",
        "colab_type": "code",
        "outputId": "186a6b4b-cb06-4cfb-952e-b6cb868a09a9",
        "colab": {
          "base_uri": "https://localhost:8080/",
          "height": 50
        }
      },
      "source": [
        "model.evaluate(X_test_seq, to_one_hot(Y_test, 3), batch_size=64, verbose=1)"
      ],
      "execution_count": 0,
      "outputs": [
        {
          "output_type": "stream",
          "text": [
            "1317/1317 [==============================] - 2s 2ms/step\n"
          ],
          "name": "stdout"
        },
        {
          "output_type": "execute_result",
          "data": {
            "text/plain": [
              "[0.7394337886739338, 0.6499620341132243]"
            ]
          },
          "metadata": {
            "tags": []
          },
          "execution_count": 57
        }
      ]
    },
    {
      "cell_type": "markdown",
      "metadata": {
        "id": "1N5Lr5iI3aIs",
        "colab_type": "text"
      },
      "source": [
        "# Albert"
      ]
    },
    {
      "cell_type": "code",
      "metadata": {
        "id": "ih57UwrTpFVV",
        "colab_type": "code",
        "colab": {}
      },
      "source": [
        "! pip install simpletransformers\n",
        "! git clone https://github.com/NVIDIA/apex\n",
        "! pip install -v --no-cache-dir ./apex"
      ],
      "execution_count": 0,
      "outputs": []
    },
    {
      "cell_type": "code",
      "metadata": {
        "id": "c36sYz1peP-G",
        "colab_type": "code",
        "colab": {}
      },
      "source": [
        "def create_data_frame(X, Y):\n",
        "    df = pd.DataFrame([])\n",
        "\n",
        "    for x, y in zip(X, Y):\n",
        "        row_df = pd.DataFrame([[x, y]])\n",
        "        df = df.append(row_df)\n",
        "\n",
        "    return df"
      ],
      "execution_count": 0,
      "outputs": []
    },
    {
      "cell_type": "code",
      "metadata": {
        "id": "F4y6JFJLvi6J",
        "colab_type": "code",
        "colab": {}
      },
      "source": [
        "train_df = create_data_frame(X_train, Y_train)\n",
        "eval_df = create_data_frame(X_test, Y_test)"
      ],
      "execution_count": 0,
      "outputs": []
    },
    {
      "cell_type": "code",
      "metadata": {
        "id": "ADlQHZonBWdl",
        "colab_type": "code",
        "outputId": "77c8e548-500c-4735-c12b-a73121540d5a",
        "colab": {
          "base_uri": "https://localhost:8080/",
          "height": 863,
          "referenced_widgets": [
            "3c8feee64e114e9eb7253c4210facf7a",
            "0ea51bbf87f946ddad5f059e962eca8a",
            "f38f41ba6afe4117b4a3134853ec2b59",
            "b09ab1d810904b6b8bec0548d855f3b7",
            "e0384197884f4d9c98d57e17b7496f98",
            "81b68e88ca4c4eecae5719725b2823dd",
            "ba3602be7dd441a49d7e15f5a790f804",
            "4dab48308f464a239772efa3c8cec04d",
            "6cd04a9eee574b469ac8e41bec4241bf",
            "705c595396c84baa8d2c0793e2fbe124",
            "46e60aa3892e41429b73319754f81201",
            "09e453b48f6d4eccaaeced817c0310b6",
            "9fd208a534534e80bebdbd4daa022fb3",
            "f13d366abb5543ea92bf131ab1dcea91",
            "62e6d6c18856443185b97ba257b6e0c5",
            "909cb5514ab54ada912db14877d95660",
            "dca2ae1cb0884f3aa3ba9adc68fe6d83",
            "9faf4a4dee74470ea2c7ef9fa7771f9a",
            "9b47cb39427c41689abd703704f767bc",
            "5834800ed91a4e778d1c599f437f8e84",
            "cce6fbeb13ad4fefa19840fc26d06328",
            "c44c5eeae727437cad2ee62f4ff6376f",
            "3d4f119053154cc2b0010c7039e20a79",
            "34c201ee60b844a6a3d4b6ae597427ec",
            "03f87d5ce6b649b9971cb1560e824e08",
            "eaeeb49e2ad742c5b9cd5dd3b6614059",
            "ea9150abd4c948e2b849192de0115f0a",
            "179ebfe135dd43ff9ca82bf8416d80f2",
            "44c06ce173f2460ea4332725939c0258",
            "850d56d843004893a217640eb607ed85",
            "859dacb85027436ab9d20384227f1a02",
            "6fdd7e4f89094773ac729c2f233c322a",
            "91fa3b71430a43388fdc9ab079c4e4e6",
            "d7ad9569c58d4dcea6666fd4b9ff909f",
            "83d565c217bc4264ab7a7b57a22c2984",
            "5f01e2a3ab46426eac3b68d95e9209e5",
            "d64a0bc3987541f980278fc52d20366c",
            "d0f640aafe314ff1913af888c92be598",
            "93ca801271074ee089580d9f28b76b88",
            "7ea57ad75aee49569534948e98fd91be",
            "5c935a50c3094daeb9806b288b19f226",
            "2c067ae052db4c16ba068130a89151c9",
            "de805bcec69f41368396a4299188c7fb",
            "2b50b00b0be44a2f9d00cc5f8a29ea61",
            "8c764a4004904f9b8b2a0a7bc843eb58",
            "7ed4cb338e344d7a995a9dccd9b566e5",
            "8e9ff448b5714c67b636a078287a5adc",
            "7009b0f1849b4edb81a31b79d2c3f7e6",
            "081c2cb530ec46ed8d46065f31a7c086",
            "6e082f8b5d144d808a29421c0756be67",
            "3d21eb31fdde4a4f9b0d02c8d7cf8bb2",
            "39a2855bd9cd48eda4c25df3341f186e",
            "ff8eb85ab88948b183c7dbf729ec4311",
            "e1f140413a3d422697bdbd98177a5048",
            "56d1732298504e6c8a4cf123523f443b",
            "4e95463b24ec47b39590033013ce5650"
          ]
        }
      },
      "source": [
        "from simpletransformers.classification import ClassificationModel\n",
        "\n",
        "model = ClassificationModel('albert', 'albert-base-v1', num_labels=3, args={'overwrite_output_dir': True})\n",
        "model.train_model(train_df, args={'num_train_epochs': 5})"
      ],
      "execution_count": 0,
      "outputs": [
        {
          "output_type": "stream",
          "text": [
            "Converting to features started. Cache is not used.\n"
          ],
          "name": "stdout"
        },
        {
          "output_type": "stream",
          "text": [
            "/usr/local/lib/python3.6/dist-packages/simpletransformers/classification/classification_model.py:291: UserWarning: Dataframe headers not specified. Falling back to using column 0 as text and column 1 as labels.\n",
            "  \"Dataframe headers not specified. Falling back to using column 0 as text and column 1 as labels.\"\n"
          ],
          "name": "stderr"
        },
        {
          "output_type": "display_data",
          "data": {
            "application/vnd.jupyter.widget-view+json": {
              "model_id": "3c8feee64e114e9eb7253c4210facf7a",
              "version_minor": 0,
              "version_major": 2
            },
            "text/plain": [
              "HBox(children=(IntProgress(value=0, max=4214), HTML(value='')))"
            ]
          },
          "metadata": {
            "tags": []
          }
        },
        {
          "output_type": "stream",
          "text": [
            "\n",
            "Selected optimization level O1:  Insert automatic casts around Pytorch functions and Tensor methods.\n",
            "\n",
            "Defaults for this optimization level are:\n",
            "enabled                : True\n",
            "opt_level              : O1\n",
            "cast_model_type        : None\n",
            "patch_torch_functions  : True\n",
            "keep_batchnorm_fp32    : None\n",
            "master_weights         : None\n",
            "loss_scale             : dynamic\n",
            "Processing user overrides (additional kwargs that are not None)...\n",
            "After processing overrides, optimization options are:\n",
            "enabled                : True\n",
            "opt_level              : O1\n",
            "cast_model_type        : None\n",
            "patch_torch_functions  : True\n",
            "keep_batchnorm_fp32    : None\n",
            "master_weights         : None\n",
            "loss_scale             : dynamic\n",
            "Warning:  multi_tensor_applier fused unscale kernel is unavailable, possibly because apex was installed without --cuda_ext --cpp_ext. Using Python fallback.  Original ImportError was: ModuleNotFoundError(\"No module named 'amp_C'\",)\n"
          ],
          "name": "stdout"
        },
        {
          "output_type": "display_data",
          "data": {
            "application/vnd.jupyter.widget-view+json": {
              "model_id": "6cd04a9eee574b469ac8e41bec4241bf",
              "version_minor": 0,
              "version_major": 2
            },
            "text/plain": [
              "HBox(children=(IntProgress(value=0, description='Epoch', max=5, style=ProgressStyle(description_width='initial…"
            ]
          },
          "metadata": {
            "tags": []
          }
        },
        {
          "output_type": "display_data",
          "data": {
            "application/vnd.jupyter.widget-view+json": {
              "model_id": "dca2ae1cb0884f3aa3ba9adc68fe6d83",
              "version_minor": 0,
              "version_major": 2
            },
            "text/plain": [
              "HBox(children=(IntProgress(value=0, description='Current iteration', max=527, style=ProgressStyle(description_…"
            ]
          },
          "metadata": {
            "tags": []
          }
        },
        {
          "output_type": "stream",
          "text": [
            "\rRunning loss: 1.064928\rRunning loss: 0.901948"
          ],
          "name": "stdout"
        },
        {
          "output_type": "stream",
          "text": [
            "/usr/local/lib/python3.6/dist-packages/torch/optim/lr_scheduler.py:91: UserWarning: Seems like `optimizer.step()` has been overridden after learning rate scheduler initialization. Please, make sure to call `optimizer.step()` before `lr_scheduler.step()`. See more details at https://pytorch.org/docs/stable/optim.html#how-to-adjust-learning-rate\n",
            "  \"https://pytorch.org/docs/stable/optim.html#how-to-adjust-learning-rate\", UserWarning)\n"
          ],
          "name": "stderr"
        },
        {
          "output_type": "stream",
          "text": [
            "Running loss: 1.262667Gradient overflow.  Skipping step, loss scaler 0 reducing loss scale to 32768.0\n",
            "Running loss: 0.952852Gradient overflow.  Skipping step, loss scaler 0 reducing loss scale to 16384.0\n",
            "Running loss: 0.899691Gradient overflow.  Skipping step, loss scaler 0 reducing loss scale to 8192.0\n",
            "Running loss: 1.553740Gradient overflow.  Skipping step, loss scaler 0 reducing loss scale to 4096.0\n",
            "Running loss: 0.374448"
          ],
          "name": "stdout"
        },
        {
          "output_type": "display_data",
          "data": {
            "application/vnd.jupyter.widget-view+json": {
              "model_id": "03f87d5ce6b649b9971cb1560e824e08",
              "version_minor": 0,
              "version_major": 2
            },
            "text/plain": [
              "HBox(children=(IntProgress(value=0, description='Current iteration', max=527, style=ProgressStyle(description_…"
            ]
          },
          "metadata": {
            "tags": []
          }
        },
        {
          "output_type": "stream",
          "text": [
            "Running loss: 0.476216"
          ],
          "name": "stdout"
        },
        {
          "output_type": "display_data",
          "data": {
            "application/vnd.jupyter.widget-view+json": {
              "model_id": "91fa3b71430a43388fdc9ab079c4e4e6",
              "version_minor": 0,
              "version_major": 2
            },
            "text/plain": [
              "HBox(children=(IntProgress(value=0, description='Current iteration', max=527, style=ProgressStyle(description_…"
            ]
          },
          "metadata": {
            "tags": []
          }
        },
        {
          "output_type": "stream",
          "text": [
            "Running loss: 0.944632"
          ],
          "name": "stdout"
        },
        {
          "output_type": "display_data",
          "data": {
            "application/vnd.jupyter.widget-view+json": {
              "model_id": "5c935a50c3094daeb9806b288b19f226",
              "version_minor": 0,
              "version_major": 2
            },
            "text/plain": [
              "HBox(children=(IntProgress(value=0, description='Current iteration', max=527, style=ProgressStyle(description_…"
            ]
          },
          "metadata": {
            "tags": []
          }
        },
        {
          "output_type": "stream",
          "text": [
            "Running loss: 0.797851"
          ],
          "name": "stdout"
        },
        {
          "output_type": "display_data",
          "data": {
            "application/vnd.jupyter.widget-view+json": {
              "model_id": "081c2cb530ec46ed8d46065f31a7c086",
              "version_minor": 0,
              "version_major": 2
            },
            "text/plain": [
              "HBox(children=(IntProgress(value=0, description='Current iteration', max=527, style=ProgressStyle(description_…"
            ]
          },
          "metadata": {
            "tags": []
          }
        },
        {
          "output_type": "stream",
          "text": [
            "Running loss: 0.850885\n",
            "Training of albert model complete. Saved to outputs/.\n"
          ],
          "name": "stdout"
        }
      ]
    },
    {
      "cell_type": "code",
      "metadata": {
        "id": "FzfCCI9aJD1Q",
        "colab_type": "code",
        "outputId": "e3e5d1f4-6f98-45d7-835c-d8009f96b36d",
        "colab": {
          "base_uri": "https://localhost:8080/",
          "height": 234,
          "referenced_widgets": [
            "c239935d72584bd8a2abf8e686783a85",
            "c2f88879d755487383b5ab2057ff7082",
            "f22f9e0f4df54cf4b60eef1ff4242970",
            "490708afb24a4971b3cd154eb98ed418",
            "09a2b09deaae40d1b764c44534935d3e",
            "4dfc1e27ec0441ecaf653f996af57964",
            "60d541eca4f9443db7f8b959ee5aa45a",
            "6dbc91e5e1c2416a8c6c8afe040fa481",
            "2a4db1abe6164d3c9e750babc3145df0",
            "a4158015e3044174892b7cf330b2c376",
            "35242bf14569424b85c7f8cfea685489",
            "36956de552a14f6eaaf7032fbe1f87e7",
            "853a5046ada845e18faefdad412f47e4",
            "867e279040ba4f00ae4033b0d5d5961a",
            "b5d2c8313e8140abb281805aae0711eb",
            "a7b896ae09664be286734335cfefe81a"
          ]
        }
      },
      "source": [
        "from sklearn.metrics import accuracy_score\n",
        "result, model_outputs, wrong_predictions = model.eval_model(eval_df, acc=accuracy_score)\n",
        "result"
      ],
      "execution_count": 0,
      "outputs": [
        {
          "output_type": "stream",
          "text": [
            "Converting to features started. Cache is not used.\n"
          ],
          "name": "stdout"
        },
        {
          "output_type": "stream",
          "text": [
            "/usr/local/lib/python3.6/dist-packages/simpletransformers/classification/classification_model.py:686: UserWarning: Dataframe headers not specified. Falling back to using column 0 as text and column 1 as labels.\n",
            "  \"Dataframe headers not specified. Falling back to using column 0 as text and column 1 as labels.\"\n"
          ],
          "name": "stderr"
        },
        {
          "output_type": "display_data",
          "data": {
            "application/vnd.jupyter.widget-view+json": {
              "model_id": "c239935d72584bd8a2abf8e686783a85",
              "version_minor": 0,
              "version_major": 2
            },
            "text/plain": [
              "HBox(children=(IntProgress(value=0, max=1317), HTML(value='')))"
            ]
          },
          "metadata": {
            "tags": []
          }
        },
        {
          "output_type": "stream",
          "text": [
            "\n"
          ],
          "name": "stdout"
        },
        {
          "output_type": "display_data",
          "data": {
            "application/vnd.jupyter.widget-view+json": {
              "model_id": "2a4db1abe6164d3c9e750babc3145df0",
              "version_minor": 0,
              "version_major": 2
            },
            "text/plain": [
              "HBox(children=(IntProgress(value=0, max=165), HTML(value='')))"
            ]
          },
          "metadata": {
            "tags": []
          }
        },
        {
          "output_type": "stream",
          "text": [
            "\n"
          ],
          "name": "stdout"
        },
        {
          "output_type": "execute_result",
          "data": {
            "text/plain": [
              "{'acc': 0.6560364464692483,\n",
              " 'eval_loss': 0.9411221116781234,\n",
              " 'mcc': 0.480245040709782}"
            ]
          },
          "metadata": {
            "tags": []
          },
          "execution_count": 67
        }
      ]
    },
    {
      "cell_type": "markdown",
      "metadata": {
        "id": "WBhz5ORIezeI",
        "colab_type": "text"
      },
      "source": [
        "### Creating submission file"
      ]
    },
    {
      "cell_type": "code",
      "metadata": {
        "id": "h2hChKOrRr_q",
        "colab_type": "code",
        "outputId": "ca19a6df-738e-4dcd-bdc8-5c36c9f389b9",
        "colab": {
          "base_uri": "https://localhost:8080/",
          "height": 195
        }
      },
      "source": [
        "test_examples_url = PATH_TO_DIR + 'test.csv'\n",
        "test_dataset = pd.read_csv(test_examples_url, delimiter=',')\n",
        "test_dataset.head()"
      ],
      "execution_count": 0,
      "outputs": [
        {
          "output_type": "execute_result",
          "data": {
            "text/html": [
              "<div>\n",
              "<style scoped>\n",
              "    .dataframe tbody tr th:only-of-type {\n",
              "        vertical-align: middle;\n",
              "    }\n",
              "\n",
              "    .dataframe tbody tr th {\n",
              "        vertical-align: top;\n",
              "    }\n",
              "\n",
              "    .dataframe thead th {\n",
              "        text-align: right;\n",
              "    }\n",
              "</style>\n",
              "<table border=\"1\" class=\"dataframe\">\n",
              "  <thead>\n",
              "    <tr style=\"text-align: right;\">\n",
              "      <th></th>\n",
              "      <th>Id</th>\n",
              "      <th>Tweet</th>\n",
              "    </tr>\n",
              "  </thead>\n",
              "  <tbody>\n",
              "    <tr>\n",
              "      <th>0</th>\n",
              "      <td>628949369883000832</td>\n",
              "      <td>dear @Microsoft the newOoffice for Mac is grea...</td>\n",
              "    </tr>\n",
              "    <tr>\n",
              "      <th>1</th>\n",
              "      <td>628976607420645377</td>\n",
              "      <td>@Microsoft how about you make a system that do...</td>\n",
              "    </tr>\n",
              "    <tr>\n",
              "      <th>2</th>\n",
              "      <td>629023169169518592</td>\n",
              "      <td>Not Available</td>\n",
              "    </tr>\n",
              "    <tr>\n",
              "      <th>3</th>\n",
              "      <td>629179223232479232</td>\n",
              "      <td>Not Available</td>\n",
              "    </tr>\n",
              "    <tr>\n",
              "      <th>4</th>\n",
              "      <td>629186282179153920</td>\n",
              "      <td>If I make a game as a #windows10 Universal App...</td>\n",
              "    </tr>\n",
              "  </tbody>\n",
              "</table>\n",
              "</div>"
            ],
            "text/plain": [
              "                   Id                                              Tweet\n",
              "0  628949369883000832  dear @Microsoft the newOoffice for Mac is grea...\n",
              "1  628976607420645377  @Microsoft how about you make a system that do...\n",
              "2  629023169169518592                                      Not Available\n",
              "3  629179223232479232                                      Not Available\n",
              "4  629186282179153920  If I make a game as a #windows10 Universal App..."
            ]
          },
          "metadata": {
            "tags": []
          },
          "execution_count": 123
        }
      ]
    },
    {
      "cell_type": "code",
      "metadata": {
        "id": "NgUs9Y4TTeXL",
        "colab_type": "code",
        "outputId": "1fc2de80-ca2a-4054-9dc5-64dba3e6dbc6",
        "colab": {
          "base_uri": "https://localhost:8080/",
          "height": 34
        }
      },
      "source": [
        "len(test_dataset)"
      ],
      "execution_count": 0,
      "outputs": [
        {
          "output_type": "execute_result",
          "data": {
            "text/plain": [
              "4000"
            ]
          },
          "metadata": {
            "tags": []
          },
          "execution_count": 124
        }
      ]
    },
    {
      "cell_type": "code",
      "metadata": {
        "id": "OJuHdQWwTaj3",
        "colab_type": "code",
        "outputId": "34c5a315-640e-42fc-bffd-3d9c9be62fa9",
        "colab": {
          "base_uri": "https://localhost:8080/",
          "height": 34
        }
      },
      "source": [
        "len(test_dataset[test_dataset.Tweet =='Not Available'])"
      ],
      "execution_count": 0,
      "outputs": [
        {
          "output_type": "execute_result",
          "data": {
            "text/plain": [
              "360"
            ]
          },
          "metadata": {
            "tags": []
          },
          "execution_count": 125
        }
      ]
    },
    {
      "cell_type": "code",
      "metadata": {
        "id": "NYRznvNHRfkm",
        "colab_type": "code",
        "outputId": "5ae7a05e-9385-4d90-8b98-333ac2421a03",
        "colab": {
          "base_uri": "https://localhost:8080/",
          "height": 131,
          "referenced_widgets": [
            "0d4e029298bd4061ab5785ee03d536f6",
            "e2732a44cca94962be68808aa7518bca",
            "a298723a3cd64ac2a5ec24b87a164780",
            "4b7cff8ddb024cf094eb0df544d21c38",
            "071e2d09d7e04c549598682cabb55186",
            "45577a9662a6418aac807e826dd54a83",
            "b576bac90da24808a893f2043f95ba4a",
            "f999621d2ef945e0a727c48c8f91cf5f",
            "96fb92889f6644378a64041b794fc6c1",
            "b8a14df58f2043e0ae8fc7cd64d0d18d",
            "c5473a3986524ed18d88dcf92b9d2f27",
            "e4447ae181ba45b0b430d07e42b34731",
            "3fddd4434636462aba8d207e93a86bb8",
            "def61d6bca4949508c109b653edae062",
            "587ffb796b7f4f1bbb792d78015ae7c8",
            "961b8ba4689043fe8f0d8f57b0221608"
          ]
        }
      },
      "source": [
        "predictions, raw_outputs = model.predict(list(test_dataset.Tweet))"
      ],
      "execution_count": 0,
      "outputs": [
        {
          "output_type": "stream",
          "text": [
            "Converting to features started. Cache is not used.\n"
          ],
          "name": "stdout"
        },
        {
          "output_type": "display_data",
          "data": {
            "application/vnd.jupyter.widget-view+json": {
              "model_id": "0d4e029298bd4061ab5785ee03d536f6",
              "version_minor": 0,
              "version_major": 2
            },
            "text/plain": [
              "HBox(children=(IntProgress(value=0, max=4000), HTML(value='')))"
            ]
          },
          "metadata": {
            "tags": []
          }
        },
        {
          "output_type": "stream",
          "text": [
            "\n"
          ],
          "name": "stdout"
        },
        {
          "output_type": "display_data",
          "data": {
            "application/vnd.jupyter.widget-view+json": {
              "model_id": "96fb92889f6644378a64041b794fc6c1",
              "version_minor": 0,
              "version_major": 2
            },
            "text/plain": [
              "HBox(children=(IntProgress(value=0, max=500), HTML(value='')))"
            ]
          },
          "metadata": {
            "tags": []
          }
        },
        {
          "output_type": "stream",
          "text": [
            "\n"
          ],
          "name": "stdout"
        }
      ]
    },
    {
      "cell_type": "code",
      "metadata": {
        "id": "MdS2OCg_T1to",
        "colab_type": "code",
        "outputId": "713cdfa9-69e9-4417-a2c9-b82140587c05",
        "colab": {
          "base_uri": "https://localhost:8080/",
          "height": 195
        }
      },
      "source": [
        "test_dataset.head()"
      ],
      "execution_count": 0,
      "outputs": [
        {
          "output_type": "execute_result",
          "data": {
            "text/html": [
              "<div>\n",
              "<style scoped>\n",
              "    .dataframe tbody tr th:only-of-type {\n",
              "        vertical-align: middle;\n",
              "    }\n",
              "\n",
              "    .dataframe tbody tr th {\n",
              "        vertical-align: top;\n",
              "    }\n",
              "\n",
              "    .dataframe thead th {\n",
              "        text-align: right;\n",
              "    }\n",
              "</style>\n",
              "<table border=\"1\" class=\"dataframe\">\n",
              "  <thead>\n",
              "    <tr style=\"text-align: right;\">\n",
              "      <th></th>\n",
              "      <th>Id</th>\n",
              "      <th>Tweet</th>\n",
              "    </tr>\n",
              "  </thead>\n",
              "  <tbody>\n",
              "    <tr>\n",
              "      <th>0</th>\n",
              "      <td>628949369883000832</td>\n",
              "      <td>dear @Microsoft the newOoffice for Mac is grea...</td>\n",
              "    </tr>\n",
              "    <tr>\n",
              "      <th>1</th>\n",
              "      <td>628976607420645377</td>\n",
              "      <td>@Microsoft how about you make a system that do...</td>\n",
              "    </tr>\n",
              "    <tr>\n",
              "      <th>2</th>\n",
              "      <td>629023169169518592</td>\n",
              "      <td>Not Available</td>\n",
              "    </tr>\n",
              "    <tr>\n",
              "      <th>3</th>\n",
              "      <td>629179223232479232</td>\n",
              "      <td>Not Available</td>\n",
              "    </tr>\n",
              "    <tr>\n",
              "      <th>4</th>\n",
              "      <td>629186282179153920</td>\n",
              "      <td>If I make a game as a #windows10 Universal App...</td>\n",
              "    </tr>\n",
              "  </tbody>\n",
              "</table>\n",
              "</div>"
            ],
            "text/plain": [
              "                   Id                                              Tweet\n",
              "0  628949369883000832  dear @Microsoft the newOoffice for Mac is grea...\n",
              "1  628976607420645377  @Microsoft how about you make a system that do...\n",
              "2  629023169169518592                                      Not Available\n",
              "3  629179223232479232                                      Not Available\n",
              "4  629186282179153920  If I make a game as a #windows10 Universal App..."
            ]
          },
          "metadata": {
            "tags": []
          },
          "execution_count": 126
        }
      ]
    },
    {
      "cell_type": "code",
      "metadata": {
        "id": "mp06HhoMUAqA",
        "colab_type": "code",
        "outputId": "7685a31b-d66c-4d8e-d0d9-ec7f91801e12",
        "colab": {
          "base_uri": "https://localhost:8080/",
          "height": 34
        }
      },
      "source": [
        "predictions[:10]"
      ],
      "execution_count": 0,
      "outputs": [
        {
          "output_type": "execute_result",
          "data": {
            "text/plain": [
              "array([0, 2, 1, 1, 1, 1, 1, 1, 0, 1])"
            ]
          },
          "metadata": {
            "tags": []
          },
          "execution_count": 127
        }
      ]
    },
    {
      "cell_type": "code",
      "metadata": {
        "id": "MylelFFsV16M",
        "colab_type": "code",
        "colab": {}
      },
      "source": [
        "preds_df = test_dataset.drop(columns=['Tweet'])"
      ],
      "execution_count": 0,
      "outputs": []
    },
    {
      "cell_type": "code",
      "metadata": {
        "id": "Tt9G20NvWZ_m",
        "colab_type": "code",
        "outputId": "2de3d248-4507-4fef-b75a-62d5acd9ea67",
        "colab": {
          "base_uri": "https://localhost:8080/",
          "height": 195
        }
      },
      "source": [
        "preds_df['Category'] = predictions\n",
        "preds_df.head()"
      ],
      "execution_count": 0,
      "outputs": [
        {
          "output_type": "execute_result",
          "data": {
            "text/html": [
              "<div>\n",
              "<style scoped>\n",
              "    .dataframe tbody tr th:only-of-type {\n",
              "        vertical-align: middle;\n",
              "    }\n",
              "\n",
              "    .dataframe tbody tr th {\n",
              "        vertical-align: top;\n",
              "    }\n",
              "\n",
              "    .dataframe thead th {\n",
              "        text-align: right;\n",
              "    }\n",
              "</style>\n",
              "<table border=\"1\" class=\"dataframe\">\n",
              "  <thead>\n",
              "    <tr style=\"text-align: right;\">\n",
              "      <th></th>\n",
              "      <th>Id</th>\n",
              "      <th>Category</th>\n",
              "    </tr>\n",
              "  </thead>\n",
              "  <tbody>\n",
              "    <tr>\n",
              "      <th>0</th>\n",
              "      <td>628949369883000832</td>\n",
              "      <td>0</td>\n",
              "    </tr>\n",
              "    <tr>\n",
              "      <th>1</th>\n",
              "      <td>628976607420645377</td>\n",
              "      <td>2</td>\n",
              "    </tr>\n",
              "    <tr>\n",
              "      <th>2</th>\n",
              "      <td>629023169169518592</td>\n",
              "      <td>1</td>\n",
              "    </tr>\n",
              "    <tr>\n",
              "      <th>3</th>\n",
              "      <td>629179223232479232</td>\n",
              "      <td>1</td>\n",
              "    </tr>\n",
              "    <tr>\n",
              "      <th>4</th>\n",
              "      <td>629186282179153920</td>\n",
              "      <td>1</td>\n",
              "    </tr>\n",
              "  </tbody>\n",
              "</table>\n",
              "</div>"
            ],
            "text/plain": [
              "                   Id  Category\n",
              "0  628949369883000832         0\n",
              "1  628976607420645377         2\n",
              "2  629023169169518592         1\n",
              "3  629179223232479232         1\n",
              "4  629186282179153920         1"
            ]
          },
          "metadata": {
            "tags": []
          },
          "execution_count": 134
        }
      ]
    },
    {
      "cell_type": "code",
      "metadata": {
        "id": "0vZ0A1yqUdMf",
        "colab_type": "code",
        "outputId": "d5dbdeff-6f42-4892-dd9c-2697ec3b6de1",
        "colab": {
          "base_uri": "https://localhost:8080/",
          "height": 101
        }
      },
      "source": [
        "training_dataset[training_dataset.Tweet == 'Not Available'].groupby('Category').count().Id"
      ],
      "execution_count": 0,
      "outputs": [
        {
          "output_type": "execute_result",
          "data": {
            "text/plain": [
              "Category\n",
              "negative     87\n",
              "neutral     172\n",
              "positive    289\n",
              "Name: Id, dtype: int64"
            ]
          },
          "metadata": {
            "tags": []
          },
          "execution_count": 130
        }
      ]
    },
    {
      "cell_type": "code",
      "metadata": {
        "id": "xBSKQfVdWnLL",
        "colab_type": "code",
        "outputId": "8b564de5-2a70-4c9d-dad1-423e6ef9f0e4",
        "colab": {
          "base_uri": "https://localhost:8080/",
          "height": 195
        }
      },
      "source": [
        "preds_df.loc[test_dataset.Tweet == 'Not Available', \"Category\"] = 0\n",
        "preds_df.head()"
      ],
      "execution_count": 0,
      "outputs": [
        {
          "output_type": "execute_result",
          "data": {
            "text/html": [
              "<div>\n",
              "<style scoped>\n",
              "    .dataframe tbody tr th:only-of-type {\n",
              "        vertical-align: middle;\n",
              "    }\n",
              "\n",
              "    .dataframe tbody tr th {\n",
              "        vertical-align: top;\n",
              "    }\n",
              "\n",
              "    .dataframe thead th {\n",
              "        text-align: right;\n",
              "    }\n",
              "</style>\n",
              "<table border=\"1\" class=\"dataframe\">\n",
              "  <thead>\n",
              "    <tr style=\"text-align: right;\">\n",
              "      <th></th>\n",
              "      <th>Id</th>\n",
              "      <th>Category</th>\n",
              "    </tr>\n",
              "  </thead>\n",
              "  <tbody>\n",
              "    <tr>\n",
              "      <th>0</th>\n",
              "      <td>628949369883000832</td>\n",
              "      <td>0</td>\n",
              "    </tr>\n",
              "    <tr>\n",
              "      <th>1</th>\n",
              "      <td>628976607420645377</td>\n",
              "      <td>2</td>\n",
              "    </tr>\n",
              "    <tr>\n",
              "      <th>2</th>\n",
              "      <td>629023169169518592</td>\n",
              "      <td>0</td>\n",
              "    </tr>\n",
              "    <tr>\n",
              "      <th>3</th>\n",
              "      <td>629179223232479232</td>\n",
              "      <td>0</td>\n",
              "    </tr>\n",
              "    <tr>\n",
              "      <th>4</th>\n",
              "      <td>629186282179153920</td>\n",
              "      <td>1</td>\n",
              "    </tr>\n",
              "  </tbody>\n",
              "</table>\n",
              "</div>"
            ],
            "text/plain": [
              "                   Id  Category\n",
              "0  628949369883000832         0\n",
              "1  628976607420645377         2\n",
              "2  629023169169518592         0\n",
              "3  629179223232479232         0\n",
              "4  629186282179153920         1"
            ]
          },
          "metadata": {
            "tags": []
          },
          "execution_count": 135
        }
      ]
    },
    {
      "cell_type": "code",
      "metadata": {
        "id": "-4fNCK_lYi2N",
        "colab_type": "code",
        "outputId": "c97e9e3a-8144-496b-fb2b-d86081ba90df",
        "colab": {
          "base_uri": "https://localhost:8080/",
          "height": 195
        }
      },
      "source": [
        "mapping = {0: 'positive', 1: 'neutral', 2: 'negative'}\n",
        "preds_df.Category = preds_df.Category.replace(mapping)\n",
        "preds_df.head()"
      ],
      "execution_count": 0,
      "outputs": [
        {
          "output_type": "execute_result",
          "data": {
            "text/html": [
              "<div>\n",
              "<style scoped>\n",
              "    .dataframe tbody tr th:only-of-type {\n",
              "        vertical-align: middle;\n",
              "    }\n",
              "\n",
              "    .dataframe tbody tr th {\n",
              "        vertical-align: top;\n",
              "    }\n",
              "\n",
              "    .dataframe thead th {\n",
              "        text-align: right;\n",
              "    }\n",
              "</style>\n",
              "<table border=\"1\" class=\"dataframe\">\n",
              "  <thead>\n",
              "    <tr style=\"text-align: right;\">\n",
              "      <th></th>\n",
              "      <th>Id</th>\n",
              "      <th>Category</th>\n",
              "    </tr>\n",
              "  </thead>\n",
              "  <tbody>\n",
              "    <tr>\n",
              "      <th>0</th>\n",
              "      <td>628949369883000832</td>\n",
              "      <td>positive</td>\n",
              "    </tr>\n",
              "    <tr>\n",
              "      <th>1</th>\n",
              "      <td>628976607420645377</td>\n",
              "      <td>negative</td>\n",
              "    </tr>\n",
              "    <tr>\n",
              "      <th>2</th>\n",
              "      <td>629023169169518592</td>\n",
              "      <td>positive</td>\n",
              "    </tr>\n",
              "    <tr>\n",
              "      <th>3</th>\n",
              "      <td>629179223232479232</td>\n",
              "      <td>positive</td>\n",
              "    </tr>\n",
              "    <tr>\n",
              "      <th>4</th>\n",
              "      <td>629186282179153920</td>\n",
              "      <td>neutral</td>\n",
              "    </tr>\n",
              "  </tbody>\n",
              "</table>\n",
              "</div>"
            ],
            "text/plain": [
              "                   Id  Category\n",
              "0  628949369883000832  positive\n",
              "1  628976607420645377  negative\n",
              "2  629023169169518592  positive\n",
              "3  629179223232479232  positive\n",
              "4  629186282179153920   neutral"
            ]
          },
          "metadata": {
            "tags": []
          },
          "execution_count": 137
        }
      ]
    },
    {
      "cell_type": "code",
      "metadata": {
        "id": "n_1_j2jWZUMS",
        "colab_type": "code",
        "colab": {}
      },
      "source": [
        "preds_df.to_csv(PATH_TO_DIR + 'submission.csv', index=False)"
      ],
      "execution_count": 0,
      "outputs": []
    }
  ]
}