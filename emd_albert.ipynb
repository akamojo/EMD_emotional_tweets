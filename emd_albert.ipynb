{
  "nbformat": 4,
  "nbformat_minor": 0,
  "metadata": {
    "colab": {
      "name": "emd_albert.ipynb",
      "provenance": [],
      "collapsed_sections": []
    },
    "kernelspec": {
      "name": "python3",
      "display_name": "Python 3"
    },
    "language_info": {
      "codemirror_mode": {
        "name": "ipython",
        "version": 3
      },
      "file_extension": ".py",
      "mimetype": "text/x-python",
      "name": "python",
      "nbconvert_exporter": "python",
      "pygments_lexer": "ipython3",
      "version": "3.7.3"
    },
    "accelerator": "GPU",
    "widgets": {
      "application/vnd.jupyter.widget-state+json": {
        "0d4e029298bd4061ab5785ee03d536f6": {
          "model_module": "@jupyter-widgets/controls",
          "model_name": "HBoxModel",
          "state": {
            "_view_name": "HBoxView",
            "_dom_classes": [],
            "_model_name": "HBoxModel",
            "_view_module": "@jupyter-widgets/controls",
            "_model_module_version": "1.5.0",
            "_view_count": null,
            "_view_module_version": "1.5.0",
            "box_style": "",
            "layout": "IPY_MODEL_e2732a44cca94962be68808aa7518bca",
            "_model_module": "@jupyter-widgets/controls",
            "children": [
              "IPY_MODEL_a298723a3cd64ac2a5ec24b87a164780",
              "IPY_MODEL_4b7cff8ddb024cf094eb0df544d21c38"
            ]
          }
        },
        "e2732a44cca94962be68808aa7518bca": {
          "model_module": "@jupyter-widgets/base",
          "model_name": "LayoutModel",
          "state": {
            "_view_name": "LayoutView",
            "grid_template_rows": null,
            "right": null,
            "justify_content": null,
            "_view_module": "@jupyter-widgets/base",
            "overflow": null,
            "_model_module_version": "1.2.0",
            "_view_count": null,
            "flex_flow": null,
            "width": null,
            "min_width": null,
            "border": null,
            "align_items": null,
            "bottom": null,
            "_model_module": "@jupyter-widgets/base",
            "top": null,
            "grid_column": null,
            "overflow_y": null,
            "overflow_x": null,
            "grid_auto_flow": null,
            "grid_area": null,
            "grid_template_columns": null,
            "flex": null,
            "_model_name": "LayoutModel",
            "justify_items": null,
            "grid_row": null,
            "max_height": null,
            "align_content": null,
            "visibility": null,
            "align_self": null,
            "height": null,
            "min_height": null,
            "padding": null,
            "grid_auto_rows": null,
            "grid_gap": null,
            "max_width": null,
            "order": null,
            "_view_module_version": "1.2.0",
            "grid_template_areas": null,
            "object_position": null,
            "object_fit": null,
            "grid_auto_columns": null,
            "margin": null,
            "display": null,
            "left": null
          }
        },
        "a298723a3cd64ac2a5ec24b87a164780": {
          "model_module": "@jupyter-widgets/controls",
          "model_name": "IntProgressModel",
          "state": {
            "_view_name": "ProgressView",
            "style": "IPY_MODEL_071e2d09d7e04c549598682cabb55186",
            "_dom_classes": [],
            "description": "",
            "_model_name": "IntProgressModel",
            "bar_style": "success",
            "max": 4000,
            "_view_module": "@jupyter-widgets/controls",
            "_model_module_version": "1.5.0",
            "value": 4000,
            "_view_count": null,
            "_view_module_version": "1.5.0",
            "orientation": "horizontal",
            "min": 0,
            "description_tooltip": null,
            "_model_module": "@jupyter-widgets/controls",
            "layout": "IPY_MODEL_45577a9662a6418aac807e826dd54a83"
          }
        },
        "4b7cff8ddb024cf094eb0df544d21c38": {
          "model_module": "@jupyter-widgets/controls",
          "model_name": "HTMLModel",
          "state": {
            "_view_name": "HTMLView",
            "style": "IPY_MODEL_b576bac90da24808a893f2043f95ba4a",
            "_dom_classes": [],
            "description": "",
            "_model_name": "HTMLModel",
            "placeholder": "​",
            "_view_module": "@jupyter-widgets/controls",
            "_model_module_version": "1.5.0",
            "value": "100% 4000/4000 [00:01&lt;00:00, 3992.07it/s]",
            "_view_count": null,
            "_view_module_version": "1.5.0",
            "description_tooltip": null,
            "_model_module": "@jupyter-widgets/controls",
            "layout": "IPY_MODEL_f999621d2ef945e0a727c48c8f91cf5f"
          }
        },
        "071e2d09d7e04c549598682cabb55186": {
          "model_module": "@jupyter-widgets/controls",
          "model_name": "ProgressStyleModel",
          "state": {
            "_view_name": "StyleView",
            "_model_name": "ProgressStyleModel",
            "description_width": "",
            "_view_module": "@jupyter-widgets/base",
            "_model_module_version": "1.5.0",
            "_view_count": null,
            "_view_module_version": "1.2.0",
            "bar_color": null,
            "_model_module": "@jupyter-widgets/controls"
          }
        },
        "45577a9662a6418aac807e826dd54a83": {
          "model_module": "@jupyter-widgets/base",
          "model_name": "LayoutModel",
          "state": {
            "_view_name": "LayoutView",
            "grid_template_rows": null,
            "right": null,
            "justify_content": null,
            "_view_module": "@jupyter-widgets/base",
            "overflow": null,
            "_model_module_version": "1.2.0",
            "_view_count": null,
            "flex_flow": null,
            "width": null,
            "min_width": null,
            "border": null,
            "align_items": null,
            "bottom": null,
            "_model_module": "@jupyter-widgets/base",
            "top": null,
            "grid_column": null,
            "overflow_y": null,
            "overflow_x": null,
            "grid_auto_flow": null,
            "grid_area": null,
            "grid_template_columns": null,
            "flex": null,
            "_model_name": "LayoutModel",
            "justify_items": null,
            "grid_row": null,
            "max_height": null,
            "align_content": null,
            "visibility": null,
            "align_self": null,
            "height": null,
            "min_height": null,
            "padding": null,
            "grid_auto_rows": null,
            "grid_gap": null,
            "max_width": null,
            "order": null,
            "_view_module_version": "1.2.0",
            "grid_template_areas": null,
            "object_position": null,
            "object_fit": null,
            "grid_auto_columns": null,
            "margin": null,
            "display": null,
            "left": null
          }
        },
        "b576bac90da24808a893f2043f95ba4a": {
          "model_module": "@jupyter-widgets/controls",
          "model_name": "DescriptionStyleModel",
          "state": {
            "_view_name": "StyleView",
            "_model_name": "DescriptionStyleModel",
            "description_width": "",
            "_view_module": "@jupyter-widgets/base",
            "_model_module_version": "1.5.0",
            "_view_count": null,
            "_view_module_version": "1.2.0",
            "_model_module": "@jupyter-widgets/controls"
          }
        },
        "f999621d2ef945e0a727c48c8f91cf5f": {
          "model_module": "@jupyter-widgets/base",
          "model_name": "LayoutModel",
          "state": {
            "_view_name": "LayoutView",
            "grid_template_rows": null,
            "right": null,
            "justify_content": null,
            "_view_module": "@jupyter-widgets/base",
            "overflow": null,
            "_model_module_version": "1.2.0",
            "_view_count": null,
            "flex_flow": null,
            "width": null,
            "min_width": null,
            "border": null,
            "align_items": null,
            "bottom": null,
            "_model_module": "@jupyter-widgets/base",
            "top": null,
            "grid_column": null,
            "overflow_y": null,
            "overflow_x": null,
            "grid_auto_flow": null,
            "grid_area": null,
            "grid_template_columns": null,
            "flex": null,
            "_model_name": "LayoutModel",
            "justify_items": null,
            "grid_row": null,
            "max_height": null,
            "align_content": null,
            "visibility": null,
            "align_self": null,
            "height": null,
            "min_height": null,
            "padding": null,
            "grid_auto_rows": null,
            "grid_gap": null,
            "max_width": null,
            "order": null,
            "_view_module_version": "1.2.0",
            "grid_template_areas": null,
            "object_position": null,
            "object_fit": null,
            "grid_auto_columns": null,
            "margin": null,
            "display": null,
            "left": null
          }
        },
        "96fb92889f6644378a64041b794fc6c1": {
          "model_module": "@jupyter-widgets/controls",
          "model_name": "HBoxModel",
          "state": {
            "_view_name": "HBoxView",
            "_dom_classes": [],
            "_model_name": "HBoxModel",
            "_view_module": "@jupyter-widgets/controls",
            "_model_module_version": "1.5.0",
            "_view_count": null,
            "_view_module_version": "1.5.0",
            "box_style": "",
            "layout": "IPY_MODEL_b8a14df58f2043e0ae8fc7cd64d0d18d",
            "_model_module": "@jupyter-widgets/controls",
            "children": [
              "IPY_MODEL_c5473a3986524ed18d88dcf92b9d2f27",
              "IPY_MODEL_e4447ae181ba45b0b430d07e42b34731"
            ]
          }
        },
        "b8a14df58f2043e0ae8fc7cd64d0d18d": {
          "model_module": "@jupyter-widgets/base",
          "model_name": "LayoutModel",
          "state": {
            "_view_name": "LayoutView",
            "grid_template_rows": null,
            "right": null,
            "justify_content": null,
            "_view_module": "@jupyter-widgets/base",
            "overflow": null,
            "_model_module_version": "1.2.0",
            "_view_count": null,
            "flex_flow": null,
            "width": null,
            "min_width": null,
            "border": null,
            "align_items": null,
            "bottom": null,
            "_model_module": "@jupyter-widgets/base",
            "top": null,
            "grid_column": null,
            "overflow_y": null,
            "overflow_x": null,
            "grid_auto_flow": null,
            "grid_area": null,
            "grid_template_columns": null,
            "flex": null,
            "_model_name": "LayoutModel",
            "justify_items": null,
            "grid_row": null,
            "max_height": null,
            "align_content": null,
            "visibility": null,
            "align_self": null,
            "height": null,
            "min_height": null,
            "padding": null,
            "grid_auto_rows": null,
            "grid_gap": null,
            "max_width": null,
            "order": null,
            "_view_module_version": "1.2.0",
            "grid_template_areas": null,
            "object_position": null,
            "object_fit": null,
            "grid_auto_columns": null,
            "margin": null,
            "display": null,
            "left": null
          }
        },
        "c5473a3986524ed18d88dcf92b9d2f27": {
          "model_module": "@jupyter-widgets/controls",
          "model_name": "IntProgressModel",
          "state": {
            "_view_name": "ProgressView",
            "style": "IPY_MODEL_3fddd4434636462aba8d207e93a86bb8",
            "_dom_classes": [],
            "description": "",
            "_model_name": "IntProgressModel",
            "bar_style": "success",
            "max": 500,
            "_view_module": "@jupyter-widgets/controls",
            "_model_module_version": "1.5.0",
            "value": 500,
            "_view_count": null,
            "_view_module_version": "1.5.0",
            "orientation": "horizontal",
            "min": 0,
            "description_tooltip": null,
            "_model_module": "@jupyter-widgets/controls",
            "layout": "IPY_MODEL_def61d6bca4949508c109b653edae062"
          }
        },
        "e4447ae181ba45b0b430d07e42b34731": {
          "model_module": "@jupyter-widgets/controls",
          "model_name": "HTMLModel",
          "state": {
            "_view_name": "HTMLView",
            "style": "IPY_MODEL_587ffb796b7f4f1bbb792d78015ae7c8",
            "_dom_classes": [],
            "description": "",
            "_model_name": "HTMLModel",
            "placeholder": "​",
            "_view_module": "@jupyter-widgets/controls",
            "_model_module_version": "1.5.0",
            "value": "100% 500/500 [00:18&lt;00:00, 26.57it/s]",
            "_view_count": null,
            "_view_module_version": "1.5.0",
            "description_tooltip": null,
            "_model_module": "@jupyter-widgets/controls",
            "layout": "IPY_MODEL_961b8ba4689043fe8f0d8f57b0221608"
          }
        },
        "3fddd4434636462aba8d207e93a86bb8": {
          "model_module": "@jupyter-widgets/controls",
          "model_name": "ProgressStyleModel",
          "state": {
            "_view_name": "StyleView",
            "_model_name": "ProgressStyleModel",
            "description_width": "",
            "_view_module": "@jupyter-widgets/base",
            "_model_module_version": "1.5.0",
            "_view_count": null,
            "_view_module_version": "1.2.0",
            "bar_color": null,
            "_model_module": "@jupyter-widgets/controls"
          }
        },
        "def61d6bca4949508c109b653edae062": {
          "model_module": "@jupyter-widgets/base",
          "model_name": "LayoutModel",
          "state": {
            "_view_name": "LayoutView",
            "grid_template_rows": null,
            "right": null,
            "justify_content": null,
            "_view_module": "@jupyter-widgets/base",
            "overflow": null,
            "_model_module_version": "1.2.0",
            "_view_count": null,
            "flex_flow": null,
            "width": null,
            "min_width": null,
            "border": null,
            "align_items": null,
            "bottom": null,
            "_model_module": "@jupyter-widgets/base",
            "top": null,
            "grid_column": null,
            "overflow_y": null,
            "overflow_x": null,
            "grid_auto_flow": null,
            "grid_area": null,
            "grid_template_columns": null,
            "flex": null,
            "_model_name": "LayoutModel",
            "justify_items": null,
            "grid_row": null,
            "max_height": null,
            "align_content": null,
            "visibility": null,
            "align_self": null,
            "height": null,
            "min_height": null,
            "padding": null,
            "grid_auto_rows": null,
            "grid_gap": null,
            "max_width": null,
            "order": null,
            "_view_module_version": "1.2.0",
            "grid_template_areas": null,
            "object_position": null,
            "object_fit": null,
            "grid_auto_columns": null,
            "margin": null,
            "display": null,
            "left": null
          }
        },
        "587ffb796b7f4f1bbb792d78015ae7c8": {
          "model_module": "@jupyter-widgets/controls",
          "model_name": "DescriptionStyleModel",
          "state": {
            "_view_name": "StyleView",
            "_model_name": "DescriptionStyleModel",
            "description_width": "",
            "_view_module": "@jupyter-widgets/base",
            "_model_module_version": "1.5.0",
            "_view_count": null,
            "_view_module_version": "1.2.0",
            "_model_module": "@jupyter-widgets/controls"
          }
        },
        "961b8ba4689043fe8f0d8f57b0221608": {
          "model_module": "@jupyter-widgets/base",
          "model_name": "LayoutModel",
          "state": {
            "_view_name": "LayoutView",
            "grid_template_rows": null,
            "right": null,
            "justify_content": null,
            "_view_module": "@jupyter-widgets/base",
            "overflow": null,
            "_model_module_version": "1.2.0",
            "_view_count": null,
            "flex_flow": null,
            "width": null,
            "min_width": null,
            "border": null,
            "align_items": null,
            "bottom": null,
            "_model_module": "@jupyter-widgets/base",
            "top": null,
            "grid_column": null,
            "overflow_y": null,
            "overflow_x": null,
            "grid_auto_flow": null,
            "grid_area": null,
            "grid_template_columns": null,
            "flex": null,
            "_model_name": "LayoutModel",
            "justify_items": null,
            "grid_row": null,
            "max_height": null,
            "align_content": null,
            "visibility": null,
            "align_self": null,
            "height": null,
            "min_height": null,
            "padding": null,
            "grid_auto_rows": null,
            "grid_gap": null,
            "max_width": null,
            "order": null,
            "_view_module_version": "1.2.0",
            "grid_template_areas": null,
            "object_position": null,
            "object_fit": null,
            "grid_auto_columns": null,
            "margin": null,
            "display": null,
            "left": null
          }
        }
      }
    }
  },
  "cells": [
    {
      "cell_type": "markdown",
      "metadata": {
        "id": "y38PprNWUWon",
        "colab_type": "text"
      },
      "source": [
        "# EMD: Emotional tweets"
      ]
    },
    {
      "cell_type": "markdown",
      "metadata": {
        "id": "-FdeLhrv_PYl",
        "colab_type": "text"
      },
      "source": [
        "## Installing packages"
      ]
    },
    {
      "cell_type": "code",
      "metadata": {
        "id": "PTTzs91c_OaI",
        "colab_type": "code",
        "outputId": "c84f2c31-86d4-44e3-804e-555747ea9a7e",
        "colab": {
          "base_uri": "https://localhost:8080/",
          "height": 641
        }
      },
      "source": [
        "! pip install unidecode\n",
        "! pip install contractions\n",
        "! pip install wordsegment\n",
        "! pip install emoji --upgrade\n",
        "! pip install plotly --upgrade\n",
        "! python -m spacy download en_core_web_md"
      ],
      "execution_count": 373,
      "outputs": [
        {
          "output_type": "stream",
          "text": [
            "Requirement already satisfied: unidecode in /usr/local/lib/python3.6/dist-packages (1.1.1)\n",
            "Requirement already satisfied: contractions in /usr/local/lib/python3.6/dist-packages (0.0.24)\n",
            "Requirement already satisfied: textsearch in /usr/local/lib/python3.6/dist-packages (from contractions) (0.0.17)\n",
            "Requirement already satisfied: Unidecode in /usr/local/lib/python3.6/dist-packages (from textsearch->contractions) (1.1.1)\n",
            "Requirement already satisfied: pyahocorasick in /usr/local/lib/python3.6/dist-packages (from textsearch->contractions) (1.4.0)\n",
            "Requirement already satisfied: wordsegment in /usr/local/lib/python3.6/dist-packages (1.3.1)\n",
            "Requirement already up-to-date: emoji in /usr/local/lib/python3.6/dist-packages (0.5.4)\n",
            "Requirement already up-to-date: plotly in /usr/local/lib/python3.6/dist-packages (4.5.0)\n",
            "Requirement already satisfied, skipping upgrade: six in /usr/local/lib/python3.6/dist-packages (from plotly) (1.12.0)\n",
            "Requirement already satisfied, skipping upgrade: retrying>=1.3.3 in /usr/local/lib/python3.6/dist-packages (from plotly) (1.3.3)\n",
            "Requirement already satisfied: en_core_web_md==2.2.5 from https://github.com/explosion/spacy-models/releases/download/en_core_web_md-2.2.5/en_core_web_md-2.2.5.tar.gz#egg=en_core_web_md==2.2.5 in /usr/local/lib/python3.6/dist-packages (2.2.5)\n",
            "Requirement already satisfied: spacy>=2.2.2 in /usr/local/lib/python3.6/dist-packages (from en_core_web_md==2.2.5) (2.2.3)\n",
            "Requirement already satisfied: catalogue<1.1.0,>=0.0.7 in /usr/local/lib/python3.6/dist-packages (from spacy>=2.2.2->en_core_web_md==2.2.5) (1.0.0)\n",
            "Requirement already satisfied: blis<0.5.0,>=0.4.0 in /usr/local/lib/python3.6/dist-packages (from spacy>=2.2.2->en_core_web_md==2.2.5) (0.4.1)\n",
            "Requirement already satisfied: srsly<1.1.0,>=0.1.0 in /usr/local/lib/python3.6/dist-packages (from spacy>=2.2.2->en_core_web_md==2.2.5) (1.0.1)\n",
            "Requirement already satisfied: plac<1.2.0,>=0.9.6 in /usr/local/lib/python3.6/dist-packages (from spacy>=2.2.2->en_core_web_md==2.2.5) (0.9.6)\n",
            "Requirement already satisfied: numpy>=1.15.0 in /usr/local/lib/python3.6/dist-packages (from spacy>=2.2.2->en_core_web_md==2.2.5) (1.17.5)\n",
            "Requirement already satisfied: murmurhash<1.1.0,>=0.28.0 in /usr/local/lib/python3.6/dist-packages (from spacy>=2.2.2->en_core_web_md==2.2.5) (1.0.2)\n",
            "Requirement already satisfied: wasabi<1.1.0,>=0.4.0 in /usr/local/lib/python3.6/dist-packages (from spacy>=2.2.2->en_core_web_md==2.2.5) (0.6.0)\n",
            "Requirement already satisfied: requests<3.0.0,>=2.13.0 in /usr/local/lib/python3.6/dist-packages (from spacy>=2.2.2->en_core_web_md==2.2.5) (2.21.0)\n",
            "Requirement already satisfied: thinc<7.4.0,>=7.3.0 in /usr/local/lib/python3.6/dist-packages (from spacy>=2.2.2->en_core_web_md==2.2.5) (7.3.1)\n",
            "Requirement already satisfied: setuptools in /usr/local/lib/python3.6/dist-packages (from spacy>=2.2.2->en_core_web_md==2.2.5) (42.0.2)\n",
            "Requirement already satisfied: cymem<2.1.0,>=2.0.2 in /usr/local/lib/python3.6/dist-packages (from spacy>=2.2.2->en_core_web_md==2.2.5) (2.0.3)\n",
            "Requirement already satisfied: preshed<3.1.0,>=3.0.2 in /usr/local/lib/python3.6/dist-packages (from spacy>=2.2.2->en_core_web_md==2.2.5) (3.0.2)\n",
            "Requirement already satisfied: importlib-metadata>=0.20; python_version < \"3.8\" in /usr/local/lib/python3.6/dist-packages (from catalogue<1.1.0,>=0.0.7->spacy>=2.2.2->en_core_web_md==2.2.5) (1.4.0)\n",
            "Requirement already satisfied: certifi>=2017.4.17 in /usr/local/lib/python3.6/dist-packages (from requests<3.0.0,>=2.13.0->spacy>=2.2.2->en_core_web_md==2.2.5) (2019.11.28)\n",
            "Requirement already satisfied: idna<2.9,>=2.5 in /usr/local/lib/python3.6/dist-packages (from requests<3.0.0,>=2.13.0->spacy>=2.2.2->en_core_web_md==2.2.5) (2.8)\n",
            "Requirement already satisfied: chardet<3.1.0,>=3.0.2 in /usr/local/lib/python3.6/dist-packages (from requests<3.0.0,>=2.13.0->spacy>=2.2.2->en_core_web_md==2.2.5) (3.0.4)\n",
            "Requirement already satisfied: urllib3<1.25,>=1.21.1 in /usr/local/lib/python3.6/dist-packages (from requests<3.0.0,>=2.13.0->spacy>=2.2.2->en_core_web_md==2.2.5) (1.24.3)\n",
            "Requirement already satisfied: tqdm<5.0.0,>=4.10.0 in /usr/local/lib/python3.6/dist-packages (from thinc<7.4.0,>=7.3.0->spacy>=2.2.2->en_core_web_md==2.2.5) (4.28.1)\n",
            "Requirement already satisfied: zipp>=0.5 in /usr/local/lib/python3.6/dist-packages (from importlib-metadata>=0.20; python_version < \"3.8\"->catalogue<1.1.0,>=0.0.7->spacy>=2.2.2->en_core_web_md==2.2.5) (0.6.0)\n",
            "Requirement already satisfied: more-itertools in /usr/local/lib/python3.6/dist-packages (from zipp>=0.5->importlib-metadata>=0.20; python_version < \"3.8\"->catalogue<1.1.0,>=0.0.7->spacy>=2.2.2->en_core_web_md==2.2.5) (8.0.2)\n",
            "\u001b[38;5;2m✔ Download and installation successful\u001b[0m\n",
            "You can now load the model via spacy.load('en_core_web_md')\n"
          ],
          "name": "stdout"
        }
      ]
    },
    {
      "cell_type": "code",
      "metadata": {
        "colab_type": "code",
        "id": "LP7i81J8twMn",
        "colab": {}
      },
      "source": [
        "import numpy as np\n",
        "import pandas as pd\n",
        "import matplotlib.pyplot as plt\n",
        "import seaborn as sns\n",
        "from sklearn.model_selection import train_test_split\n",
        "from bs4 import BeautifulSoup\n",
        "import unidecode\n",
        "import contractions\n",
        "import gensim.downloader as api\n",
        "import re\n",
        "import wordsegment\n",
        "wordsegment.load()\n",
        "import pkg_resources\n",
        "import emoji"
      ],
      "execution_count": 0,
      "outputs": []
    },
    {
      "cell_type": "markdown",
      "metadata": {
        "id": "kOWGCPhL1ooD",
        "colab_type": "text"
      },
      "source": [
        "### Mounting drive"
      ]
    },
    {
      "cell_type": "code",
      "metadata": {
        "id": "BKFacKxupkVY",
        "colab_type": "code",
        "outputId": "cbd353b7-274a-46be-f47b-94578498db0f",
        "colab": {
          "base_uri": "https://localhost:8080/",
          "height": 35
        }
      },
      "source": [
        "from google.colab import drive\n",
        "drive.mount('/content/drive', force_remount=True)\n",
        "# PATH_TO_DIR = '/content/drive/My Drive/STUDIA/SEM 9/emd/'\n",
        "PATH_TO_DIR = '/content/drive/My Drive/000 STUDIA/000 EKSPLORACJA MASYWNYCH DANYCH/'"
      ],
      "execution_count": 397,
      "outputs": [
        {
          "output_type": "stream",
          "text": [
            "Mounted at /content/drive\n"
          ],
          "name": "stdout"
        }
      ]
    },
    {
      "cell_type": "markdown",
      "metadata": {
        "id": "dXtKi4bVUmV3",
        "colab_type": "text"
      },
      "source": [
        "## Loading data"
      ]
    },
    {
      "cell_type": "code",
      "metadata": {
        "id": "uJWMlpHmtZtm",
        "colab_type": "code",
        "outputId": "3b977364-b5b2-4d9f-8076-75d85db5f347",
        "colab": {
          "base_uri": "https://localhost:8080/",
          "height": 368
        }
      },
      "source": [
        "pd.set_option('display.max_colwidth', -1)\n",
        "\n",
        "training_examples_url = PATH_TO_DIR + 'train.csv'\n",
        "test_examples_url = PATH_TO_DIR + 'test.csv'\n",
        "\n",
        "training_dataset = pd.read_csv(training_examples_url, delimiter=',')\n",
        "\n",
        "print(training_dataset.shape)\n",
        "print(training_dataset.describe())\n",
        "training_dataset.head()"
      ],
      "execution_count": 398,
      "outputs": [
        {
          "output_type": "stream",
          "text": [
            "(5970, 3)\n",
            "                        Id  Category          Tweet\n",
            "count   5970                5970      5970         \n",
            "unique  5964                4         5418         \n",
            "top     637775514896306176  positive  Not Available\n",
            "freq    2                   2888      548          \n"
          ],
          "name": "stdout"
        },
        {
          "output_type": "execute_result",
          "data": {
            "text/html": [
              "<div>\n",
              "<style scoped>\n",
              "    .dataframe tbody tr th:only-of-type {\n",
              "        vertical-align: middle;\n",
              "    }\n",
              "\n",
              "    .dataframe tbody tr th {\n",
              "        vertical-align: top;\n",
              "    }\n",
              "\n",
              "    .dataframe thead th {\n",
              "        text-align: right;\n",
              "    }\n",
              "</style>\n",
              "<table border=\"1\" class=\"dataframe\">\n",
              "  <thead>\n",
              "    <tr style=\"text-align: right;\">\n",
              "      <th></th>\n",
              "      <th>Id</th>\n",
              "      <th>Category</th>\n",
              "      <th>Tweet</th>\n",
              "    </tr>\n",
              "  </thead>\n",
              "  <tbody>\n",
              "    <tr>\n",
              "      <th>0</th>\n",
              "      <td>635769805279248384</td>\n",
              "      <td>negative</td>\n",
              "      <td>Not Available</td>\n",
              "    </tr>\n",
              "    <tr>\n",
              "      <th>1</th>\n",
              "      <td>635930169241374720</td>\n",
              "      <td>neutral</td>\n",
              "      <td>IOS 9 App Transport Security. Mm need to check if my 3rd party network pod supports it http://t.co/fmtcfUAdgj</td>\n",
              "    </tr>\n",
              "    <tr>\n",
              "      <th>2</th>\n",
              "      <td>635950258682523648</td>\n",
              "      <td>neutral</td>\n",
              "      <td>Mar if you have an iOS device, you should download our app too: http://t.co/gl3tn2uDnD</td>\n",
              "    </tr>\n",
              "    <tr>\n",
              "      <th>3</th>\n",
              "      <td>636030803433009153</td>\n",
              "      <td>negative</td>\n",
              "      <td>@jimmie_vanagon my phone does not run on latest IOS which may account for problem the other day .. time it was replaced</td>\n",
              "    </tr>\n",
              "    <tr>\n",
              "      <th>4</th>\n",
              "      <td>636100906224848896</td>\n",
              "      <td>positive</td>\n",
              "      <td>Not sure how to start your publication on iOS? We'll be live helping with ask me anything sessions today and Friday http://t.co/KPqqGjjh3x</td>\n",
              "    </tr>\n",
              "  </tbody>\n",
              "</table>\n",
              "</div>"
            ],
            "text/plain": [
              "                   Id  ...                                                                                                                                       Tweet\n",
              "0  635769805279248384  ...  Not Available                                                                                                                             \n",
              "1  635930169241374720  ...  IOS 9 App Transport Security. Mm need to check if my 3rd party network pod supports it http://t.co/fmtcfUAdgj                             \n",
              "2  635950258682523648  ...  Mar if you have an iOS device, you should download our app too: http://t.co/gl3tn2uDnD                                                    \n",
              "3  636030803433009153  ...  @jimmie_vanagon my phone does not run on latest IOS which may account for problem the other day .. time it was replaced                   \n",
              "4  636100906224848896  ...  Not sure how to start your publication on iOS? We'll be live helping with ask me anything sessions today and Friday http://t.co/KPqqGjjh3x\n",
              "\n",
              "[5 rows x 3 columns]"
            ]
          },
          "metadata": {
            "tags": []
          },
          "execution_count": 398
        }
      ]
    },
    {
      "cell_type": "markdown",
      "metadata": {
        "id": "QB-KGnBXpxxU",
        "colab_type": "text"
      },
      "source": [
        "Detecting repeating or duplicated tweets with Counter (aside from Not Available, there are a few - are train.csv and test.csv the same?):"
      ]
    },
    {
      "cell_type": "code",
      "metadata": {
        "id": "97_2vDOYpYVV",
        "colab_type": "code",
        "outputId": "14fc25b5-172a-4a39-a9c9-65d7f153af4c",
        "colab": {
          "base_uri": "https://localhost:8080/",
          "height": 375
        }
      },
      "source": [
        "from collections import Counter\n",
        "\n",
        "c = Counter(training_dataset[\"Tweet\"].values)\n",
        "c.most_common(10)"
      ],
      "execution_count": 399,
      "outputs": [
        {
          "output_type": "execute_result",
          "data": {
            "text/plain": [
              "[('Not Available', 548),\n",
              " ('Finishing Jurassic park for like the 100th time tomorrow. Film class is gonna have a lot of reruns for me. All the batman films, Star Wars..',\n",
              "  2),\n",
              " (\"I really hope that Obama attends Serena's match on Saturday...Ciara's doing the National Anthem. Give us deze ratings biches.\",\n",
              "  2),\n",
              " (\"Skimmed it  May not LIKE the SCOTUS decision but it's THE LAW. No offense, but your Pope? Climate Change? seriously? https://t.co/xg2ErQjdvH\",\n",
              "  2),\n",
              " ('@meldrum @iainmartin1 65-70% of Tory &amp; UKIP voters still want to renationalise the railways, as do the 1st &amp; 2nd place cands for Lab Leader.',\n",
              "  2),\n",
              " ('@pperrin @nellesapelle Very wise. Hard to see UKIP going any further tho. Lab &amp; Tory split may open up new space like you said.',\n",
              "  2),\n",
              " ('IOS 9 App Transport Security. Mm need to check if my 3rd party network pod supports it http://t.co/fmtcfUAdgj',\n",
              "  1),\n",
              " ('Mar if you have an iOS device, you should download our app too: http://t.co/gl3tn2uDnD',\n",
              "  1),\n",
              " ('@jimmie_vanagon my phone does not run on latest IOS which may account for problem the other day .. time it was replaced',\n",
              "  1),\n",
              " (\"Not sure how to start your publication on iOS? We'll be live helping with ask me anything sessions today and Friday http://t.co/KPqqGjjh3x\",\n",
              "  1)]"
            ]
          },
          "metadata": {
            "tags": []
          },
          "execution_count": 399
        }
      ]
    },
    {
      "cell_type": "code",
      "metadata": {
        "id": "VVXG30J1GKga",
        "colab_type": "code",
        "colab": {}
      },
      "source": [
        "training_dataset = training_dataset.drop_duplicates(subset='Tweet')"
      ],
      "execution_count": 0,
      "outputs": []
    },
    {
      "cell_type": "markdown",
      "metadata": {
        "id": "e3LIsPZKU6kN",
        "colab_type": "text"
      },
      "source": [
        "### Class imbalance"
      ]
    },
    {
      "cell_type": "code",
      "metadata": {
        "colab_type": "code",
        "id": "hMEzRiyEsxDV",
        "outputId": "ce9ca814-aa30-4b20-94c2-6934fad53394",
        "colab": {
          "base_uri": "https://localhost:8080/",
          "height": 392
        }
      },
      "source": [
        "sns.set(font_scale=1.0)\n",
        "countplt=sns.countplot(x='Category', data=training_dataset, palette ='hls')\n",
        "plt.show()\n",
        "\n",
        "print(training_dataset.groupby('Category').count().Id)"
      ],
      "execution_count": 401,
      "outputs": [
        {
          "output_type": "display_data",
          "data": {
            "image/png": "[encoded data removed]",
            "text/plain": [
              "<Figure size 432x288 with 1 Axes>"
            ]
          },
          "metadata": {
            "tags": []
          }
        },
        {
          "output_type": "stream",
          "text": [
            "Category\n",
            "Tweet       1   \n",
            "negative    867 \n",
            "neutral     1953\n",
            "positive    2597\n",
            "Name: Id, dtype: int64\n"
          ],
          "name": "stdout"
        }
      ]
    },
    {
      "cell_type": "code",
      "metadata": {
        "id": "8W3AeaERwDRz",
        "colab_type": "code",
        "outputId": "60480195-525e-4e45-f062-a439bbb772af",
        "colab": {
          "base_uri": "https://localhost:8080/",
          "height": 215
        }
      },
      "source": [
        "training_dataset = training_dataset[(training_dataset[\"Category\"] != 'Tweet') & (training_dataset[\"Tweet\"] != \"Not Available\")]\n",
        "\n",
        "X_train = list(training_dataset.Tweet)\n",
        "X_train[:10]"
      ],
      "execution_count": 402,
      "outputs": [
        {
          "output_type": "execute_result",
          "data": {
            "text/plain": [
              "['IOS 9 App Transport Security. Mm need to check if my 3rd party network pod supports it http://t.co/fmtcfUAdgj',\n",
              " 'Mar if you have an iOS device, you should download our app too: http://t.co/gl3tn2uDnD',\n",
              " '@jimmie_vanagon my phone does not run on latest IOS which may account for problem the other day .. time it was replaced',\n",
              " \"Not sure how to start your publication on iOS? We'll be live helping with ask me anything sessions today and Friday http://t.co/KPqqGjjh3x\",\n",
              " 'Two Dollar Tuesday is here with Forklift 2, QuickKey for iOS and Suite for Pages for just $1.99 today:   http://t.co/BNMFOEACw5',\n",
              " \"If you're not already signed up to test my iOS game, nows your chance! https://t.co/eZhIU6EDpQ\",\n",
              " 'YouTube Gaming Officially Launches On Web, Android, iOS On August 26: YouTube is finally going to r... http://t.co/qbhyA3kaWP #webseries',\n",
              " 'YouTube Gaming Launches Tomorrow with iOS and Android Apps to Go Head-to-Head with Twitch http://t.co/yZOATToeJC #ios #game',\n",
              " \"@astrill Yashan from BBC @bbcchinese the VPN access on IOS may be limited during China's military parade? Any chance to have a chat on that?\",\n",
              " \"Parkrun app for iOS downloaded Where have you been before ?Great app easier access of info &amp; ready for Saturday's run http://t.co/ZyOFhZeRIO\"]"
            ]
          },
          "metadata": {
            "tags": []
          },
          "execution_count": 402
        }
      ]
    },
    {
      "cell_type": "code",
      "metadata": {
        "id": "OJQyuy1_v3hL",
        "colab_type": "code",
        "outputId": "b91dbcb1-869f-4d89-822e-7c413276ba20",
        "colab": {
          "base_uri": "https://localhost:8080/",
          "height": 35
        }
      },
      "source": [
        "mapping = {'positive': 0, 'neutral': 1, 'negative': 2}\n",
        "\n",
        "Y_train = list(training_dataset.Category.replace(mapping))\n",
        "Y_train[:10]"
      ],
      "execution_count": 403,
      "outputs": [
        {
          "output_type": "execute_result",
          "data": {
            "text/plain": [
              "[1, 1, 2, 0, 1, 1, 1, 1, 1, 0]"
            ]
          },
          "metadata": {
            "tags": []
          },
          "execution_count": 403
        }
      ]
    },
    {
      "cell_type": "markdown",
      "metadata": {
        "id": "Oe_Q9D-Dr_ym",
        "colab_type": "text"
      },
      "source": [
        "## [optional] Add more data from SemEval 2020 Task12"
      ]
    },
    {
      "cell_type": "code",
      "metadata": {
        "colab_type": "code",
        "id": "mER1mPUtiaPl",
        "outputId": "7ba3f1f7-87c7-4fbc-813f-bb5436f00684",
        "colab": {
          "base_uri": "https://localhost:8080/",
          "height": 312
        }
      },
      "source": [
        "training_examples_url = 'https://raw.githubusercontent.com/piotrjaniszewski1/SemEval-2020-Task12/master/data2019/olid-training-v1.0.tsv'\n",
        "training_dataset_semeval = pd.read_csv(training_examples_url, delimiter='\\t')\n",
        "training_dataset_semeval.head()"
      ],
      "execution_count": 404,
      "outputs": [
        {
          "output_type": "execute_result",
          "data": {
            "text/html": [
              "<div>\n",
              "<style scoped>\n",
              "    .dataframe tbody tr th:only-of-type {\n",
              "        vertical-align: middle;\n",
              "    }\n",
              "\n",
              "    .dataframe tbody tr th {\n",
              "        vertical-align: top;\n",
              "    }\n",
              "\n",
              "    .dataframe thead th {\n",
              "        text-align: right;\n",
              "    }\n",
              "</style>\n",
              "<table border=\"1\" class=\"dataframe\">\n",
              "  <thead>\n",
              "    <tr style=\"text-align: right;\">\n",
              "      <th></th>\n",
              "      <th>id</th>\n",
              "      <th>tweet</th>\n",
              "      <th>subtask_a</th>\n",
              "      <th>subtask_b</th>\n",
              "      <th>subtask_c</th>\n",
              "    </tr>\n",
              "  </thead>\n",
              "  <tbody>\n",
              "    <tr>\n",
              "      <th>0</th>\n",
              "      <td>86426</td>\n",
              "      <td>@USER She should ask a few native Americans what their take on this is.</td>\n",
              "      <td>OFF</td>\n",
              "      <td>UNT</td>\n",
              "      <td>NaN</td>\n",
              "    </tr>\n",
              "    <tr>\n",
              "      <th>1</th>\n",
              "      <td>90194</td>\n",
              "      <td>@USER @USER Go home you’re drunk!!! @USER #MAGA #Trump2020 👊🇺🇸👊 URL</td>\n",
              "      <td>OFF</td>\n",
              "      <td>TIN</td>\n",
              "      <td>IND</td>\n",
              "    </tr>\n",
              "    <tr>\n",
              "      <th>2</th>\n",
              "      <td>16820</td>\n",
              "      <td>Amazon is investigating Chinese employees who are selling internal data to third-party sellers looking for an edge in the competitive marketplace. URL #Amazon #MAGA #KAG #CHINA #TCOT</td>\n",
              "      <td>NOT</td>\n",
              "      <td>NaN</td>\n",
              "      <td>NaN</td>\n",
              "    </tr>\n",
              "    <tr>\n",
              "      <th>3</th>\n",
              "      <td>62688</td>\n",
              "      <td>@USER Someone should'veTaken\" this piece of shit to a volcano. 😂\"</td>\n",
              "      <td>OFF</td>\n",
              "      <td>UNT</td>\n",
              "      <td>NaN</td>\n",
              "    </tr>\n",
              "    <tr>\n",
              "      <th>4</th>\n",
              "      <td>43605</td>\n",
              "      <td>@USER @USER Obama wanted liberals &amp;amp; illegals to move into red states</td>\n",
              "      <td>NOT</td>\n",
              "      <td>NaN</td>\n",
              "      <td>NaN</td>\n",
              "    </tr>\n",
              "  </tbody>\n",
              "</table>\n",
              "</div>"
            ],
            "text/plain": [
              "      id  ... subtask_c\n",
              "0  86426  ...  NaN     \n",
              "1  90194  ...  IND     \n",
              "2  16820  ...  NaN     \n",
              "3  62688  ...  NaN     \n",
              "4  43605  ...  NaN     \n",
              "\n",
              "[5 rows x 5 columns]"
            ]
          },
          "metadata": {
            "tags": []
          },
          "execution_count": 404
        }
      ]
    },
    {
      "cell_type": "code",
      "metadata": {
        "colab_type": "code",
        "id": "-xHoiMYYlJQk",
        "colab": {}
      },
      "source": [
        "X_train_semeval = training_dataset_semeval['tweet'][training_dataset_semeval['subtask_a'] == 'OFF']\n",
        "Y_train_semeval = [2] * len(X_train_semeval) #(training_dataset_semeval['subtask_a'][training_dataset_semeval['subtask_a'].notnull()] == 'OFF').astype(int) * 2\n",
        "\n",
        "X_train_semeval = list(X_train_semeval)\n",
        "Y_train_semeval = list(Y_train_semeval)"
      ],
      "execution_count": 0,
      "outputs": []
    },
    {
      "cell_type": "code",
      "metadata": {
        "id": "T51lkWl3Msfx",
        "colab_type": "code",
        "outputId": "53c6edfa-fe9e-40e7-f391-e805cf94794d",
        "colab": {
          "base_uri": "https://localhost:8080/",
          "height": 215
        }
      },
      "source": [
        "X_train_semeval[:10]"
      ],
      "execution_count": 406,
      "outputs": [
        {
          "output_type": "execute_result",
          "data": {
            "text/plain": [
              "['@USER She should ask a few native Americans what their take on this is.',\n",
              " '@USER @USER Go home you’re drunk!!! @USER #MAGA #Trump2020 👊🇺🇸👊 URL',\n",
              " '@USER Someone should\\'veTaken\" this piece of shit to a volcano. 😂\"',\n",
              " '@USER Liberals are all Kookoo !!!',\n",
              " '@USER @USER Oh noes! Tough shit.',\n",
              " '@USER was literally just talking about this lol all mass shootings like that have been set ups. it’s propaganda used to divide us on major issues like gun control and terrorism',\n",
              " '@USER Canada doesn’t need another CUCK! We already have enough #LooneyLeft #Liberals f**king up our great country! #Qproofs #TrudeauMustGo',\n",
              " '@USER you are a lying corrupt traitor!!! Nobody wants to hear anymore of your lies!!! #DeepStateCorruption URL',\n",
              " '@USER @USER @USER gun control! That is all these kids are asking for!',\n",
              " '@USER @USER @USER @USER LOL!!!   Throwing the BULLSHIT Flag on such nonsense!!  #PutUpOrShutUp   #Kavanaugh   #MAGA   #CallTheVoteAlready URL']"
            ]
          },
          "metadata": {
            "tags": []
          },
          "execution_count": 406
        }
      ]
    },
    {
      "cell_type": "code",
      "metadata": {
        "id": "m3VZUJmtN-rl",
        "colab_type": "code",
        "outputId": "0ef05a3c-c80b-434a-bfff-9b853e22e8d0",
        "colab": {
          "base_uri": "https://localhost:8080/",
          "height": 35
        }
      },
      "source": [
        "X_train = X_train + X_train_semeval[:1169]\n",
        "Y_train = Y_train + Y_train_semeval[:1169]\n",
        "len(X_train), len(Y_train)"
      ],
      "execution_count": 407,
      "outputs": [
        {
          "output_type": "execute_result",
          "data": {
            "text/plain": [
              "(6585, 6585)"
            ]
          },
          "metadata": {
            "tags": []
          },
          "execution_count": 407
        }
      ]
    },
    {
      "cell_type": "markdown",
      "metadata": {
        "id": "o2bNpHc9qMpw",
        "colab_type": "text"
      },
      "source": [
        "## Preprocessing"
      ]
    },
    {
      "cell_type": "code",
      "metadata": {
        "id": "MMeoPN7WBbkQ",
        "colab_type": "code",
        "outputId": "4cdad79d-6eb2-4e82-ac10-559ad6fbf6c8",
        "colab": {
          "base_uri": "https://localhost:8080/",
          "height": 35
        }
      },
      "source": [
        "from sklearn.utils import class_weight\n",
        "\n",
        "class_weights = class_weight.compute_class_weight('balanced',\n",
        "                                            np.unique(Y_train),\n",
        "                                            Y_train)\n",
        "class_weights /= max(class_weights)\n",
        "class_weights"
      ],
      "execution_count": 408,
      "outputs": [
        {
          "output_type": "execute_result",
          "data": {
            "text/plain": [
              "array([0.75202156, 1.        , 0.95970516])"
            ]
          },
          "metadata": {
            "tags": []
          },
          "execution_count": 408
        }
      ]
    },
    {
      "cell_type": "code",
      "metadata": {
        "colab_type": "code",
        "id": "Bt_SBy1lsv1U",
        "colab": {}
      },
      "source": [
        "# remove html tags if exist\n",
        "def strip_html_tags(text):\n",
        "    soup = BeautifulSoup(text, 'html.parser')\n",
        "    stripped_text = soup.get_text(separator=' ')\n",
        "    return stripped_text\n",
        "\n",
        "\n",
        "# remove unnecessary whitespaces\n",
        "def remove_whitespace(text):\n",
        "    text = text.strip()\n",
        "    return ' '.join(text.split())\n",
        "\n",
        "\n",
        "# remove accented chars (e.g. caffè -> caffe)\n",
        "def remove_accented_chars(text):\n",
        "    text = unidecode.unidecode(text)\n",
        "    return text\n",
        "\n",
        "\n",
        "# remove hashes and split words (e.g. '#fortTrump' -> 'fort trump')\n",
        "def split_hashtags_remove_userlogins(text):\n",
        "    splitted = text.split()\n",
        "    new_word_sequence = []\n",
        "\n",
        "    for chunk in splitted:\n",
        "        if chunk[0] == '#':\n",
        "            chunk = chunk[1:]\n",
        "            new_word_sequence.extend(wordsegment.segment(chunk))\n",
        "        elif chunk[0] == '@':\n",
        "          continue\n",
        "        else:\n",
        "            new_word_sequence.append(chunk)\n",
        "        \n",
        "    return ' '.join(tuple(new_word_sequence))\n",
        "\n",
        "\n",
        "def substitute_emojis(text):\n",
        "    demojized_text = emoji.demojize(text)\n",
        "    return re.compile('[_:]+').sub(' ', demojized_text)\n",
        "\n",
        "from urllib.parse import urlparse\n",
        "def remove_links(text):\n",
        "  return ' '.join([word for word in text.split() if 'http' not in urlparse(word).scheme])\n",
        "\n",
        "\n",
        "def preprocess_common(text):\n",
        "    text = remove_links(text)\n",
        "    text = strip_html_tags(text)\n",
        "    text = contractions.fix(text)\n",
        "    text = split_hashtags_remove_userlogins(text)\n",
        "    text = substitute_emojis(text)\n",
        "    text = remove_whitespace(text)\n",
        "    text = remove_accented_chars(text)\n",
        "    return text.lower()"
      ],
      "execution_count": 0,
      "outputs": []
    },
    {
      "cell_type": "code",
      "metadata": {
        "id": "asnEfpzkAzqd",
        "colab_type": "code",
        "outputId": "78c68a64-696e-4d38-e075-dffe19ae0a39",
        "colab": {
          "base_uri": "https://localhost:8080/",
          "height": 570
        }
      },
      "source": [
        "for example in X_train[:10]:\n",
        "  print(example)\n",
        "  print(preprocess_common(example))\n",
        "  print()\n",
        "X_train = [preprocess_common(example) for example in X_train]"
      ],
      "execution_count": 410,
      "outputs": [
        {
          "output_type": "stream",
          "text": [
            "IOS 9 App Transport Security. Mm need to check if my 3rd party network pod supports it http://t.co/fmtcfUAdgj\n",
            "ios 9 app transport security. mm need to check if my 3rd party network pod supports it\n",
            "\n",
            "Mar if you have an iOS device, you should download our app too: http://t.co/gl3tn2uDnD\n",
            "mar if you have an ios device, you should download our app too\n",
            "\n",
            "@jimmie_vanagon my phone does not run on latest IOS which may account for problem the other day .. time it was replaced\n",
            "my phone does not run on latest ios which may account for problem the other day .. time it was replaced\n",
            "\n",
            "Not sure how to start your publication on iOS? We'll be live helping with ask me anything sessions today and Friday http://t.co/KPqqGjjh3x\n",
            "not sure how to start your publication on ios? we will be live helping with ask me anything sessions today and friday\n",
            "\n",
            "Two Dollar Tuesday is here with Forklift 2, QuickKey for iOS and Suite for Pages for just $1.99 today:   http://t.co/BNMFOEACw5\n",
            "two dollar tuesday is here with forklift 2, quickkey for ios and suite for pages for just $1.99 today\n",
            "\n",
            "If you're not already signed up to test my iOS game, nows your chance! https://t.co/eZhIU6EDpQ\n",
            "if you are not already signed up to test my ios game, nows your chance!\n",
            "\n",
            "YouTube Gaming Officially Launches On Web, Android, iOS On August 26: YouTube is finally going to r... http://t.co/qbhyA3kaWP #webseries\n",
            "youtube gaming officially launches on web, android, ios on august 26 youtube is finally going to r... web series\n",
            "\n",
            "YouTube Gaming Launches Tomorrow with iOS and Android Apps to Go Head-to-Head with Twitch http://t.co/yZOATToeJC #ios #game\n",
            "youtube gaming launches tomorrow with ios and android apps to go head-to-head with twitch ios game\n",
            "\n",
            "@astrill Yashan from BBC @bbcchinese the VPN access on IOS may be limited during China's military parade? Any chance to have a chat on that?\n",
            "yashan from bbc the vpn access on ios may be limited during china's military parade? any chance to have a chat on that?\n",
            "\n",
            "Parkrun app for iOS downloaded Where have you been before ?Great app easier access of info &amp; ready for Saturday's run http://t.co/ZyOFhZeRIO\n",
            "parkrun app for ios downloaded where have you been before ?great app easier access of info & ready for saturday's run\n",
            "\n"
          ],
          "name": "stdout"
        }
      ]
    },
    {
      "cell_type": "markdown",
      "metadata": {
        "id": "MUo9zPmKjpYK",
        "colab_type": "text"
      },
      "source": [
        "## Data exploration"
      ]
    },
    {
      "cell_type": "code",
      "metadata": {
        "id": "KGcXSyXRjogq",
        "colab_type": "code",
        "outputId": "8930bbc8-a073-49b8-de4b-b2c123d689f7",
        "colab": {
          "base_uri": "https://localhost:8080/",
          "height": 261
        }
      },
      "source": [
        "# df.reset_index(inplace=True)\n",
        "df = pd.DataFrame()\n",
        "inv_map = {v: k for k, v in mapping.items()}\n",
        "\n",
        "df[\"Processed\"] = X_train\n",
        "df[\"Label\"] = Y_train\n",
        "df[\"Category\"] = df[\"Label\"].apply(lambda x : inv_map[x])\n",
        "df[\"Length\"] = df[\"Processed\"].apply(len)\n",
        "df.head()"
      ],
      "execution_count": 411,
      "outputs": [
        {
          "output_type": "execute_result",
          "data": {
            "text/html": [
              "<div>\n",
              "<style scoped>\n",
              "    .dataframe tbody tr th:only-of-type {\n",
              "        vertical-align: middle;\n",
              "    }\n",
              "\n",
              "    .dataframe tbody tr th {\n",
              "        vertical-align: top;\n",
              "    }\n",
              "\n",
              "    .dataframe thead th {\n",
              "        text-align: right;\n",
              "    }\n",
              "</style>\n",
              "<table border=\"1\" class=\"dataframe\">\n",
              "  <thead>\n",
              "    <tr style=\"text-align: right;\">\n",
              "      <th></th>\n",
              "      <th>Processed</th>\n",
              "      <th>Label</th>\n",
              "      <th>Category</th>\n",
              "      <th>Length</th>\n",
              "    </tr>\n",
              "  </thead>\n",
              "  <tbody>\n",
              "    <tr>\n",
              "      <th>0</th>\n",
              "      <td>ios 9 app transport security. mm need to check if my 3rd party network pod supports it</td>\n",
              "      <td>1</td>\n",
              "      <td>neutral</td>\n",
              "      <td>86</td>\n",
              "    </tr>\n",
              "    <tr>\n",
              "      <th>1</th>\n",
              "      <td>mar if you have an ios device, you should download our app too</td>\n",
              "      <td>1</td>\n",
              "      <td>neutral</td>\n",
              "      <td>62</td>\n",
              "    </tr>\n",
              "    <tr>\n",
              "      <th>2</th>\n",
              "      <td>my phone does not run on latest ios which may account for problem the other day .. time it was replaced</td>\n",
              "      <td>2</td>\n",
              "      <td>negative</td>\n",
              "      <td>103</td>\n",
              "    </tr>\n",
              "    <tr>\n",
              "      <th>3</th>\n",
              "      <td>not sure how to start your publication on ios? we will be live helping with ask me anything sessions today and friday</td>\n",
              "      <td>0</td>\n",
              "      <td>positive</td>\n",
              "      <td>117</td>\n",
              "    </tr>\n",
              "    <tr>\n",
              "      <th>4</th>\n",
              "      <td>two dollar tuesday is here with forklift 2, quickkey for ios and suite for pages for just $1.99 today</td>\n",
              "      <td>1</td>\n",
              "      <td>neutral</td>\n",
              "      <td>101</td>\n",
              "    </tr>\n",
              "  </tbody>\n",
              "</table>\n",
              "</div>"
            ],
            "text/plain": [
              "                                                                                                               Processed  ...  Length\n",
              "0  ios 9 app transport security. mm need to check if my 3rd party network pod supports it                                 ...  86    \n",
              "1  mar if you have an ios device, you should download our app too                                                         ...  62    \n",
              "2  my phone does not run on latest ios which may account for problem the other day .. time it was replaced                ...  103   \n",
              "3  not sure how to start your publication on ios? we will be live helping with ask me anything sessions today and friday  ...  117   \n",
              "4  two dollar tuesday is here with forklift 2, quickkey for ios and suite for pages for just $1.99 today                  ...  101   \n",
              "\n",
              "[5 rows x 4 columns]"
            ]
          },
          "metadata": {
            "tags": []
          },
          "execution_count": 411
        }
      ]
    },
    {
      "cell_type": "code",
      "metadata": {
        "id": "at4iCAE-yi2t",
        "colab_type": "code",
        "colab": {
          "base_uri": "https://localhost:8080/",
          "height": 88
        },
        "outputId": "c0093e38-c630-4979-a26d-bf5499b8a13c"
      },
      "source": [
        "df[\"Category\"].value_counts()"
      ],
      "execution_count": 412,
      "outputs": [
        {
          "output_type": "execute_result",
          "data": {
            "text/plain": [
              "positive    2597\n",
              "negative    2035\n",
              "neutral     1953\n",
              "Name: Category, dtype: int64"
            ]
          },
          "metadata": {
            "tags": []
          },
          "execution_count": 412
        }
      ]
    },
    {
      "cell_type": "markdown",
      "metadata": {
        "id": "WcKTZmbatj9B",
        "colab_type": "text"
      },
      "source": [
        "### Tweets lengths in words"
      ]
    },
    {
      "cell_type": "code",
      "metadata": {
        "id": "R9qt_hx3l8VH",
        "colab_type": "code",
        "outputId": "49ec736a-4ca8-4e75-fb80-38a50e3690f6",
        "colab": {
          "base_uri": "https://localhost:8080/",
          "height": 553
        }
      },
      "source": [
        "df[\"Length\"].plot(bins=25, kind='hist', title='Tweet lengths in words', figsize=(8,6))\n",
        "print(df[\"Length\"].describe())"
      ],
      "execution_count": 413,
      "outputs": [
        {
          "output_type": "stream",
          "text": [
            "count    6585.000000\n",
            "mean     106.382688 \n",
            "std      41.928546  \n",
            "min      5.000000   \n",
            "25%      83.000000  \n",
            "50%      108.000000 \n",
            "75%      125.000000 \n",
            "max      453.000000 \n",
            "Name: Length, dtype: float64\n"
          ],
          "name": "stdout"
        },
        {
          "output_type": "display_data",
          "data": {
            "image/png": "[encoded data removed]",
            "text/plain": [
              "<Figure size 576x432 with 1 Axes>"
            ]
          },
          "metadata": {
            "tags": []
          }
        }
      ]
    },
    {
      "cell_type": "markdown",
      "metadata": {
        "id": "N6Rg79Ls15BO",
        "colab_type": "text"
      },
      "source": [
        "### Example Tweets per class"
      ]
    },
    {
      "cell_type": "code",
      "metadata": {
        "id": "9TypnnBn14XT",
        "colab_type": "code",
        "outputId": "6055ae26-75cd-4c37-99a5-86989c77881d",
        "colab": {
          "base_uri": "https://localhost:8080/",
          "height": 357
        }
      },
      "source": [
        "for label in mapping.keys():\n",
        "  print(f\"{label.upper()}:\")\n",
        "  sub_df = df[df['Category'] == label]\n",
        "  random_sample = np.random.permutation([i for i in range(sub_df.shape[0])])[:5]\n",
        "  print(sub_df[\"Processed\"].values[random_sample])"
      ],
      "execution_count": 414,
      "outputs": [
        {
          "output_type": "stream",
          "text": [
            "POSITIVE:\n",
            "['oracle is proud to be a sponsor of the dgi government customer service conference, august 26 in dc! learn more'\n",
            " 'can i just go soak up the california sun on venice beach one more time before school starts?'\n",
            " \"it is going to be on valentine's day so at least it will not be hot and alright i will go after your practice thursday\"\n",
            " 'the ford gt has won its 2nd vln race at the nordschleife, lexus of is 2nd in front of walkenhorst bmw z4'\n",
            " '\"limited government leads to unlimited opportunity...the constitution is my owner\\'s manual...10th amendment.\" gov rick perry dream 15']\n",
            "NEUTRAL:\n",
            "[\"2015 wyndham championship tee times, pairings for sunday's round in greensboro tiger woods was bounced from the sunday final pairin...\"\n",
            " 'oh there ue monday ok. i wonder what days we will have because of the pope'\n",
            " 'the only time michelle obama would lower the flags on her property is if they were blocking the sun while she was sunbathing. chattanooga'\n",
            " 'food giants call a truce w/ michelle obama, reports (tho some wld say the 1st lady raised a white flag)'\n",
            " 'the quote \"tgif\" does not exist when you work retail, it is more like \"thank goodness it is tuesday\"']\n",
            "NEGATIVE:\n",
            "['please!!! watch fox news 9pm central tonight (friday) to see what planned parenthood is doing with with millions of our tax dollars.'\n",
            " 'antifa are not fascist they are terrorist'\n",
            " 'also, my fucking ipod got stolen at snipes & the only thing i can not let go of is the music. take the 1st gen ipod, just want my jamz back'\n",
            " 'tgif but even tho it is friday i am not happy'\n",
            " 'let us put a stripper in the white house. and rwnjs say michelle obama has no class.']\n"
          ],
          "name": "stdout"
        }
      ]
    },
    {
      "cell_type": "markdown",
      "metadata": {
        "id": "wxY274QStmyq",
        "colab_type": "text"
      },
      "source": [
        "### Stopwords removal"
      ]
    },
    {
      "cell_type": "code",
      "metadata": {
        "id": "_oeP0zoylUho",
        "colab_type": "code",
        "outputId": "db03a276-3cba-42d0-914a-bed1a4f6626b",
        "colab": {
          "base_uri": "https://localhost:8080/",
          "height": 70
        }
      },
      "source": [
        "import nltk\n",
        "nltk.download('stopwords')\n",
        "\n",
        "from nltk.corpus import stopwords\n",
        "print(stopwords.words('english')[:5])\n",
        "\n",
        "df[\"Processed_NoStopwords\"] = df[\"Processed\"].apply(\n",
        "    lambda x : ' '.join([\n",
        "      word for word in x.split() \n",
        "      if word not in stopwords.words('english') \n",
        "    ])\n",
        ") "
      ],
      "execution_count": 415,
      "outputs": [
        {
          "output_type": "stream",
          "text": [
            "[nltk_data] Downloading package stopwords to /root/nltk_data...\n",
            "[nltk_data]   Package stopwords is already up-to-date!\n",
            "['i', 'me', 'my', 'myself', 'we']\n"
          ],
          "name": "stdout"
        }
      ]
    },
    {
      "cell_type": "markdown",
      "metadata": {
        "id": "38N1gcGp0In8",
        "colab_type": "text"
      },
      "source": [
        "### Analysis using `CountVectorizer` (words counts)"
      ]
    },
    {
      "cell_type": "code",
      "metadata": {
        "id": "ImRNoNVHk-Gi",
        "colab_type": "code",
        "outputId": "bd64496c-8c6e-48aa-8f78-677acf620219",
        "colab": {
          "base_uri": "https://localhost:8080/",
          "height": 1000
        }
      },
      "source": [
        "from sklearn.feature_extraction.text import CountVectorizer\n",
        "\n",
        "cv = CountVectorizer(ngram_range=(1,2))\n",
        "\n",
        "for label in mapping.keys():\n",
        "  print(f\"{label.upper()}:\")\n",
        "  sub_df = df[df['Category'] == label]\n",
        "  \n",
        "  vec = cv.fit(sub_df[\"Processed_NoStopwords\"])\n",
        "  bow = vec.transform(sub_df[\"Processed_NoStopwords\"])\n",
        "  sum_words = bow.sum(axis=0)\n",
        "\n",
        "  words_freq = [(word, sum_words[0, idx]) for word, idx in vec.vocabulary_.items()]\n",
        "  words_freq = sorted(words_freq, key = lambda x: x[1], reverse=True)\n",
        "  for wf in words_freq[:10]:\n",
        "    print(\"\\t\", wf)\n",
        "  bigrams_freq = list(filter(lambda x : len(x[0].split()) == 2, words_freq))\n",
        "  for bf in bigrams_freq[:10]:\n",
        "    print(\"\\t\\t\", bf)"
      ],
      "execution_count": 416,
      "outputs": [
        {
          "output_type": "stream",
          "text": [
            "POSITIVE:\n",
            "\t ('tomorrow', 442)\n",
            "\t ('may', 416)\n",
            "\t ('day', 301)\n",
            "\t ('see', 241)\n",
            "\t ('going', 231)\n",
            "\t ('friday', 182)\n",
            "\t ('time', 179)\n",
            "\t ('new', 161)\n",
            "\t ('sunday', 158)\n",
            "\t ('one', 154)\n",
            "\t\t ('magic mike', 80)\n",
            "\t\t ('star wars', 79)\n",
            "\t\t ('mike xxl', 79)\n",
            "\t\t ('jurassic world', 76)\n",
            "\t\t ('jurassic park', 73)\n",
            "\t\t ('venice beach', 72)\n",
            "\t\t ('labor day', 70)\n",
            "\t\t ('pride parade', 61)\n",
            "\t\t ('valentine day', 60)\n",
            "\t\t ('mariah carey', 59)\n",
            "NEUTRAL:\n",
            "\t ('may', 404)\n",
            "\t ('tomorrow', 241)\n",
            "\t ('day', 157)\n",
            "\t ('1st', 133)\n",
            "\t ('like', 127)\n",
            "\t ('going', 124)\n",
            "\t ('time', 113)\n",
            "\t ('new', 99)\n",
            "\t ('sunday', 98)\n",
            "\t ('get', 90)\n",
            "\t\t ('jeb bush', 58)\n",
            "\t\t ('joe biden', 51)\n",
            "\t\t ('valentine day', 43)\n",
            "\t\t ('tiger woods', 42)\n",
            "\t\t ('windows 10', 41)\n",
            "\t\t ('kurt cobain', 41)\n",
            "\t\t ('michelle obama', 40)\n",
            "\t\t ('tom cruise', 40)\n",
            "\t\t ('sarah palin', 39)\n",
            "\t\t ('labor day', 34)\n",
            "NEGATIVE:\n",
            "\t ('may', 227)\n",
            "\t ('like', 184)\n",
            "\t ('face', 164)\n",
            "\t ('liberals', 162)\n",
            "\t ('url', 143)\n",
            "\t ('gun', 136)\n",
            "\t ('trump', 133)\n",
            "\t ('people', 120)\n",
            "\t ('control', 118)\n",
            "\t ('shit', 108)\n",
            "\t\t ('gun control', 106)\n",
            "\t\t ('face tears', 58)\n",
            "\t\t ('tears joy', 58)\n",
            "\t\t ('planned parenthood', 54)\n",
            "\t\t ('sarah palin', 51)\n",
            "\t\t ('jeb bush', 45)\n",
            "\t\t ('rick perry', 41)\n",
            "\t\t ('joy face', 35)\n",
            "\t\t ('rolling floor', 27)\n",
            "\t\t ('floor laughing', 27)\n"
          ],
          "name": "stdout"
        }
      ]
    },
    {
      "cell_type": "markdown",
      "metadata": {
        "id": "5hbNSqZv25Bu",
        "colab_type": "text"
      },
      "source": [
        "### More analysis with `TfidfVectorizer`\n",
        "Use `max_df=0.1` for (hopefully) better unique words insights"
      ]
    },
    {
      "cell_type": "code",
      "metadata": {
        "id": "10U50OMA2tl_",
        "colab_type": "code",
        "outputId": "7cb3efd5-1ddb-4a4a-a05a-72c1f93e58de",
        "colab": {
          "base_uri": "https://localhost:8080/",
          "height": 1000
        }
      },
      "source": [
        "from sklearn.feature_extraction.text import TfidfVectorizer\n",
        " \n",
        "tf = TfidfVectorizer(ngram_range=(1, 2), max_df=0.1)\n",
        "\n",
        "for label in mapping.keys():\n",
        "  print(f\"{label.upper()}:\")\n",
        "  sub_df = df[df['Category'] == label]\n",
        "  \n",
        "  tf_vec = tf.fit(sub_df[\"Processed_NoStopwords\"])\n",
        "  tf_bow = tf_vec.transform(sub_df[\"Processed_NoStopwords\"])\n",
        "  tf_sum_words = tf_bow.sum(axis=0)\n",
        "\n",
        "  words_freq = [(word, tf_sum_words[0, idx]) for word, idx in tf_vec.vocabulary_.items()]\n",
        "  words_freq = sorted(words_freq, key = lambda x: x[1], reverse=True)\n",
        "  for wf in words_freq[:10]:\n",
        "    print(\"\\t\", wf)\n",
        "  bigrams_freq = list(filter(lambda x : len(x[0].split()) == 2, words_freq))\n",
        "  for bf in bigrams_freq[:10]:\n",
        "    print(\"\\t\\t\", bf)\n",
        "\n"
      ],
      "execution_count": 417,
      "outputs": [
        {
          "output_type": "stream",
          "text": [
            "POSITIVE:\n",
            "\t ('see', 27.70963408709759)\n",
            "\t ('going', 27.45402484215707)\n",
            "\t ('friday', 21.886849082956473)\n",
            "\t ('time', 21.697347936193307)\n",
            "\t ('jurassic', 19.719865624082395)\n",
            "\t ('sunday', 18.792219489852123)\n",
            "\t ('new', 18.505380509538742)\n",
            "\t ('one', 18.297088620448903)\n",
            "\t ('want', 17.7506947106338)\n",
            "\t ('night', 16.705568715929424)\n",
            "\t\t ('jurassic world', 12.129474584284846)\n",
            "\t\t ('magic mike', 11.87524515115537)\n",
            "\t\t ('mike xxl', 11.734351240821093)\n",
            "\t\t ('star wars', 11.351604877032436)\n",
            "\t\t ('venice beach', 11.221771743644386)\n",
            "\t\t ('jurassic park', 10.701767697848988)\n",
            "\t\t ('labor day', 9.642796797695619)\n",
            "\t\t ('taylor swift', 9.507608265591214)\n",
            "\t\t ('pride parade', 9.39593167704427)\n",
            "\t\t ('valentine day', 9.349580576578653)\n",
            "NEUTRAL:\n",
            "\t ('day', 17.5280985387279)\n",
            "\t ('going', 15.71330881714562)\n",
            "\t ('like', 15.297763182925722)\n",
            "\t ('1st', 14.173561709808412)\n",
            "\t ('time', 14.092648561449193)\n",
            "\t ('sunday', 11.876803096969777)\n",
            "\t ('new', 11.776161165208984)\n",
            "\t ('one', 11.59459243105789)\n",
            "\t ('friday', 11.250540093012953)\n",
            "\t ('get', 11.088314059373783)\n",
            "\t\t ('jeb bush', 7.938091207705635)\n",
            "\t\t ('joe biden', 7.2014039373137315)\n",
            "\t\t ('valentine day', 6.6707827406018065)\n",
            "\t\t ('teen wolf', 6.484436510129675)\n",
            "\t\t ('kurt cobain', 6.465034873044694)\n",
            "\t\t ('windows 10', 6.381570325010214)\n",
            "\t\t ('tom cruise', 6.225090526026026)\n",
            "\t\t ('michelle obama', 6.175341891293153)\n",
            "\t\t ('tiger woods', 6.139275295483146)\n",
            "\t\t ('sarah palin', 5.7094213902110384)\n",
            "NEGATIVE:\n",
            "\t ('liberals', 19.087815538709982)\n",
            "\t ('like', 18.775179700418793)\n",
            "\t ('url', 16.731542969794855)\n",
            "\t ('fuck', 16.629594532283818)\n",
            "\t ('shit', 15.231083134418336)\n",
            "\t ('face', 14.329936098011336)\n",
            "\t ('trump', 14.325617353910479)\n",
            "\t ('gun', 14.040565763923466)\n",
            "\t ('people', 12.562750245148894)\n",
            "\t ('tomorrow', 12.47552757536758)\n",
            "\t\t ('gun control', 11.406189051014712)\n",
            "\t\t ('planned parenthood', 7.6294532070338255)\n",
            "\t\t ('sarah palin', 7.477675279100032)\n",
            "\t\t ('jeb bush', 6.165784176757294)\n",
            "\t\t ('rick perry', 6.0458750012691596)\n",
            "\t\t ('face tears', 6.028002028956877)\n",
            "\t\t ('tears joy', 6.028002028956877)\n",
            "\t\t ('teen wolf', 4.578135039160752)\n",
            "\t\t ('joy face', 3.4919227324529465)\n",
            "\t\t ('valentine day', 3.3376753922951314)\n"
          ],
          "name": "stdout"
        }
      ]
    },
    {
      "cell_type": "markdown",
      "metadata": {
        "id": "UrCmfbam_BBr",
        "colab_type": "text"
      },
      "source": [
        "## Transforming sentences into average embedding vectors"
      ]
    },
    {
      "cell_type": "code",
      "metadata": {
        "id": "UBTsKBLc4G3i",
        "colab_type": "code",
        "outputId": "96bcbd66-8d65-48f2-85ac-005cd1bdcdd6",
        "colab": {
          "base_uri": "https://localhost:8080/",
          "height": 266
        }
      },
      "source": [
        "import spacy\n",
        "\n",
        "# Load the spacy model that you have installed\n",
        "nlp = spacy.load('en_core_web_md')\n",
        "\n",
        "vectors = np.zeros(shape=(df.shape[0], 300), dtype=np.float64)\n",
        "# process a sentence using the model\n",
        "\n",
        "for idx, sent in enumerate(df[\"Processed\"].values):\n",
        "  doc = nlp(sent)\n",
        "  vectors[idx, :] = doc.vector \n",
        "  if idx % 500 == 0:\n",
        "    print(\"... processed\", idx)\n"
      ],
      "execution_count": 418,
      "outputs": [
        {
          "output_type": "stream",
          "text": [
            "... processed 0\n",
            "... processed 500\n",
            "... processed 1000\n",
            "... processed 1500\n",
            "... processed 2000\n",
            "... processed 2500\n",
            "... processed 3000\n",
            "... processed 3500\n",
            "... processed 4000\n",
            "... processed 4500\n",
            "... processed 5000\n",
            "... processed 5500\n",
            "... processed 6000\n",
            "... processed 6500\n"
          ],
          "name": "stdout"
        }
      ]
    },
    {
      "cell_type": "markdown",
      "metadata": {
        "id": "pJdoEUe-_F19",
        "colab_type": "text"
      },
      "source": [
        "### **Principal Component Analysis** over mean embedding vectors"
      ]
    },
    {
      "cell_type": "code",
      "metadata": {
        "id": "KHX5EZMW83q4",
        "colab_type": "code",
        "outputId": "09b203e6-beaf-40a8-9baf-e261be6d272d",
        "colab": {
          "base_uri": "https://localhost:8080/",
          "height": 194
        }
      },
      "source": [
        "from sklearn.decomposition import PCA\n",
        "\n",
        "pca = PCA(n_components=3)\n",
        "principal_components = pca.fit_transform(vectors)\n",
        "principal_df = pd.DataFrame(data = principal_components\n",
        "             , columns = [\n",
        "                          'principal component 1', \n",
        "                          'principal component 2', \n",
        "                          'principal component 3'\n",
        "                          ])\n",
        "pca_df = pd.concat([principal_df, df[['Category']]], axis = 1)\n",
        "pca_df.head()\n"
      ],
      "execution_count": 421,
      "outputs": [
        {
          "output_type": "execute_result",
          "data": {
            "text/html": [
              "<div>\n",
              "<style scoped>\n",
              "    .dataframe tbody tr th:only-of-type {\n",
              "        vertical-align: middle;\n",
              "    }\n",
              "\n",
              "    .dataframe tbody tr th {\n",
              "        vertical-align: top;\n",
              "    }\n",
              "\n",
              "    .dataframe thead th {\n",
              "        text-align: right;\n",
              "    }\n",
              "</style>\n",
              "<table border=\"1\" class=\"dataframe\">\n",
              "  <thead>\n",
              "    <tr style=\"text-align: right;\">\n",
              "      <th></th>\n",
              "      <th>principal component 1</th>\n",
              "      <th>principal component 2</th>\n",
              "      <th>principal component 3</th>\n",
              "      <th>Category</th>\n",
              "    </tr>\n",
              "  </thead>\n",
              "  <tbody>\n",
              "    <tr>\n",
              "      <th>0</th>\n",
              "      <td>0.492322</td>\n",
              "      <td>-0.248833</td>\n",
              "      <td>-0.663064</td>\n",
              "      <td>neutral</td>\n",
              "    </tr>\n",
              "    <tr>\n",
              "      <th>1</th>\n",
              "      <td>-0.107336</td>\n",
              "      <td>-0.087497</td>\n",
              "      <td>-0.745384</td>\n",
              "      <td>neutral</td>\n",
              "    </tr>\n",
              "    <tr>\n",
              "      <th>2</th>\n",
              "      <td>-0.136233</td>\n",
              "      <td>-0.514065</td>\n",
              "      <td>-0.585558</td>\n",
              "      <td>negative</td>\n",
              "    </tr>\n",
              "    <tr>\n",
              "      <th>3</th>\n",
              "      <td>-0.378924</td>\n",
              "      <td>-0.075506</td>\n",
              "      <td>-0.624459</td>\n",
              "      <td>positive</td>\n",
              "    </tr>\n",
              "    <tr>\n",
              "      <th>4</th>\n",
              "      <td>0.753847</td>\n",
              "      <td>-0.152426</td>\n",
              "      <td>-0.543428</td>\n",
              "      <td>neutral</td>\n",
              "    </tr>\n",
              "  </tbody>\n",
              "</table>\n",
              "</div>"
            ],
            "text/plain": [
              "   principal component 1  ...  Category\n",
              "0  0.492322               ...  neutral \n",
              "1 -0.107336               ...  neutral \n",
              "2 -0.136233               ...  negative\n",
              "3 -0.378924               ...  positive\n",
              "4  0.753847               ...  neutral \n",
              "\n",
              "[5 rows x 4 columns]"
            ]
          },
          "metadata": {
            "tags": []
          },
          "execution_count": 421
        }
      ]
    },
    {
      "cell_type": "markdown",
      "metadata": {
        "id": "2RcRnP45c-xv",
        "colab_type": "text"
      },
      "source": [
        "### Visualize PCA in three dimensions"
      ]
    },
    {
      "cell_type": "code",
      "metadata": {
        "id": "tT47TGB6--Dx",
        "colab_type": "code",
        "outputId": "058efc04-2ab0-4aa5-dcfd-ab993b01801c",
        "colab": {
          "base_uri": "https://localhost:8080/",
          "height": 542
        }
      },
      "source": [
        "# Import dependencies\n",
        "import plotly\n",
        "import plotly.graph_objs as go\n",
        "import plotly.express as px\n",
        "\n",
        "fig = go.Figure()\n",
        "\n",
        "colors = [0, 1, 2]\n",
        "for target, color in zip(sorted(mapping.keys()), colors):\n",
        "  indicesToKeep = pca_df['Category'] == target\n",
        "  fig.add_trace(\n",
        "       go.Scatter3d(\n",
        "        name=target,\n",
        "        x=pca_df.loc[indicesToKeep, 'principal component 1'],\n",
        "        y=pca_df.loc[indicesToKeep, 'principal component 2'],\n",
        "        z=pca_df.loc[indicesToKeep, 'principal component 3'],\n",
        "        mode='markers',\n",
        "        marker=dict(\n",
        "          size=3,\n",
        "          color=color,   \n",
        "          opacity=1.0\n",
        "          ),\n",
        "        ),\n",
        "  )\n",
        "\n",
        "fig.update_layout(\n",
        "    showlegend=True,\n",
        "    margin=dict(l=0, r=0, b=0, t=0),\n",
        "    scene = dict(\n",
        "      xaxis = dict(\n",
        "          title='Principal component 1'),\n",
        "      yaxis = dict(\n",
        "          title='Principal component 2'),\n",
        "      zaxis = dict(\n",
        "          title='Principal component 3'),\n",
        "    )\n",
        ")\n",
        "fig.show()\n"
      ],
      "execution_count": 422,
      "outputs": [
        {
          "output_type": "display_data",
          "data": {
            "text/html": [
              "<html>\n",
              "<head><meta charset=\"utf-8\" /></head>\n",
              "<body>\n",
              "    <div>\n",
              "            <script src=\"https://cdnjs.cloudflare.com/ajax/libs/mathjax/2.7.5/MathJax.js?config=TeX-AMS-MML_SVG\"></script><script type=\"text/javascript\">if (window.MathJax) {MathJax.Hub.Config({SVG: {font: \"STIX-Web\"}});}</script>\n",
              "                <script type=\"text/javascript\">window.PlotlyConfig = {MathJaxConfig: 'local'};</script>\n",
              "        <script src=\"https://cdn.plot.ly/plotly-latest.min.js\"></script>    \n",
              "            <div id=\"5d835ce4-d9c2-48db-937e-809ec7e608a9\" class=\"plotly-graph-div\" style=\"height:525px; width:100%;\"></div>\n",
              "            <script type=\"text/javascript\">\n",
              "                \n",
              "                    window.PLOTLYENV=window.PLOTLYENV || {};\n",
              "                    \n",
              "                if (document.getElementById(\"5d835ce4-d9c2-48db-937e-809ec7e608a9\")) {\n",
              "                    Plotly.newPlot(\n",
              "                        '5d835ce4-d9c2-48db-937e-809ec7e608a9',\n",
              "                        [{\"marker\": {\"color\": 0, \"opacity\": 1.0, \"size\": 3}, \"mode\": \"markers\", \"name\": \"negative\", \"type\": \"scatter3d\", \"x\": [-0.13623323246183688, 0.1815798371192204, -0.029457132462125238, 0.15621693498392408, 0.35344399630570633, -0.21031823546977604, -0.6331054419814428, -0.16743807303675626, -0.007990085747910824, -0.12777684981673196, -0.7852956752828393, -0.38693846627894224, -0.5499161829336234, 0.2156155323278504, -0.35777185368981385, 0.1628881173613403, -0.4232063857623301, -0.13083592264467045, 0.35795826257839597, -0.6248649861295366, -0.7165194373804394, -0.24028253094268626, -0.4281953122490857, -0.7732701138722845, -0.11895649142443374, 0.03153149052361423, -0.28640308718830615, 0.12049180393678131, -0.3354836900924202, 0.12885058157485751, -0.19043388307057726, -0.3312379860340869, -0.0661984848362556, 0.04689792443726606, -0.23989748672662264, -0.1798626813894147, -0.539569999754211, -0.28324620099248865, -0.4073791344992683, 0.46500654134401276, 0.01024370645820283, 0.0716391153334525, 0.26756771999327406, -0.008937657939846784, 0.5070745166854121, 0.010090178026894686, 0.014602778715646957, -0.24430248700432292, -0.05918368400833749, -0.09402019427287259, 0.06410550614914531, 0.6699303688577867, 0.579645540001695, -0.2743924123382044, 0.2034958753328098, 0.1707959571462442, 0.10233477708505345, -0.01919020573585923, 0.1514845741386312, -0.08132135678173574, -0.08952135721256392, -0.34632978400186887, 0.07781231414438462, -0.5021091140660069, -0.4165653242405136, -0.05757780280121512, -0.14285802675231987, -0.39592825390310016, 0.2585188245851439, 0.010623734889848383, -0.06075680809047865, -0.3100305792265517, 0.00941970550945288, -0.3392371350925498, -0.12842911875289859, 0.2860061232620906, 0.20122420480078868, -0.5574478184469447, -0.05340042874056449, 0.11488348550304939, 0.10785951436552252, 0.3329209833151221, -0.409733267781403, 0.8872006686128442, -0.30696072975016075, -0.07693576500833402, -0.20804759064585024, -0.14766557178066475, -0.004301743512791769, 0.17354267532628329, 0.06401382718707885, -0.5411409831932698, 0.31451244396705097, -0.37223342873889825, -0.08666939425481765, 0.15341338966678592, 0.05004420813106863, 0.3976423259338558, 1.066236610722117, 0.12211587769474262, 0.2354003968693319, -0.17377412979421938, 0.33969493039752563, -0.5074137555100064, 0.3038015929696426, 0.009596586734006502, 0.19459145990750926, -0.09720471638477579, 0.1538951656100978, -0.025452322766214355, -0.3070110012458987, -0.494335695743211, -0.30744293066823264, -0.25910020187789523, -0.07420530077697636, -0.2790594984533224, -0.06761400572179038, -0.21113493692406915, 0.05007472315446737, 0.1870633628162265, -0.5779392426328454, -0.1332683495250348, -0.1473442927992841, 0.05248534899328809, 0.009849538395661774, 0.03356050019027517, -0.20593320874798526, 0.15695638870341594, 0.3600165752600484, 0.034764250723788824, -0.048265443273658504, -0.2643167758311598, -0.3055877141266699, -0.21190713173795553, -0.7574361623741878, 0.8810268103583411, 0.5985115216228413, -0.5752716114828362, 0.9562382592289391, -0.33620158598053246, 0.9731881848863951, 0.2510734963788391, 0.33197445181940155, -0.04284351333063205, 0.11401261189386691, -0.6056142639057928, -0.2190954907561845, -0.08427295265702031, 0.020379831413844487, 0.03306225431649153, 0.15067516063399386, -0.14293761556621704, 0.25099775851674977, 0.7975923493141187, -0.03556674592269736, -0.2462442136243557, -0.602159235843491, 0.24503242399793806, -0.24987932558928982, -0.08203797676017524, 0.12503029555771655, -0.11854244994152649, 0.060468801170439436, -0.30533206868388163, -0.6150585892687107, -0.47710555560519735, -0.013763816828153646, 0.17527713049778224, 0.5171215482177701, -0.10018925757610399, 0.842211695530718, 0.08252905105868179, 0.3065727178436304, -0.4632856319832112, 0.634888557973736, -0.5825760011185314, 0.4066429354914028, -0.2376038306762963, -0.15985201019863338, -0.19861498650533177, 0.5063284706581372, -0.41819132494909766, -0.3952414977117009, 0.1152726665957643, 0.4310144801968899, -0.2220611705771742, -0.21029862580924447, -0.14518957807776997, -0.9701653180981594, 0.017905510135701623, -0.6060301935076445, 0.009234660764650144, -0.6522252822999525, -0.4039425344142103, -0.31629573392613136, -0.499113155848619, -0.25904956645425004, -0.3943140658898204, 0.20143716541252896, 0.5553750554206064, -0.5663542433782955, -0.18677537465499586, -0.1449324203296399, -0.3320282451463517, 0.07071113062497365, -0.043409643322009146, -0.30612575950670995, 0.14837312079542384, 0.058458928115352325, -0.43757793513748505, -0.30178972278466215, 0.5593442418581526, -0.9135343433262305, 0.0983777669577289, -0.3776127819753615, -0.5570978631187572, -0.013139575903821811, -0.4420583661604556, -0.4215610120802575, 0.15809260920857637, 0.2999651901094354, 0.03443377284554647, -0.07887289931029702, -0.347777272392924, -0.5415325126267357, -0.5849611724981816, -0.6577358979976826, 0.009401426105647401, 0.03266307750964433, -0.31624049470359605, 0.19359383665793203, 0.5466891406968478, -0.3125655021532827, -0.45094145116890305, -0.2229849563606274, 0.26789181176218496, -0.48949976270200657, -0.20631195892822327, -0.25625917813025323, 0.04513214551307556, -0.11248338472962156, -0.4653816239250735, -0.08488511258659501, 0.24827593664016812, -0.581605636202327, 0.5261756370861619, -0.3292641542808882, 0.264760011572241, 0.15333327012076842, 0.02724939722787163, -0.34567509768362575, 0.533070492200866, -0.15344442682393294, -0.1483629962033169, -0.353147634451013, -0.15198104847865024, 0.018815294500747714, 0.08428881533799226, 0.7860321756573453, -0.3285106652492801, 0.2431204406282798, 0.6719293677370671, 0.21503830630799628, -0.740354946386894, -0.7488288345684935, -0.23275613561443273, 0.42270075278511515, 0.23893059644311712, -0.153062164903819, 0.418643459317365, -0.07572629331572711, 0.14268060061146176, 0.31738910862572767, -0.7398766385319603, -0.39008396573845533, -0.2188100400423478, 0.13133612413434032, 0.5008971550246532, 0.7380433646013291, 0.7447584934656187, -0.05281214406716604, -0.3790901134622745, 0.32900632249863854, -0.34906866087960475, -0.009467628384165655, 0.19368829909797305, 0.04127056260142697, 0.15397297636106672, 0.4311155098770258, 0.14985805062746535, -0.14776609773232988, -0.14216055204691846, -0.7043783070582615, -0.11116177395921309, -0.542992212110954, -0.39396390195272196, -0.3159794800739777, -0.6043927962929863, -0.1748482790228488, -0.2882576095609109, -0.027162439910798742, -0.2998933423655909, 0.33390151803616636, -0.4585225746465793, -0.7186074980057772, -0.48949498016221793, -0.6733593291999975, -0.1441350305996603, -0.07792896640577157, -0.7604842984725745, 0.18308679474596085, 0.21864547507667967, -0.11573519090539768, -0.13061395103868526, -0.16252664756450894, 0.8598427996703618, -0.3976732229155925, 0.15289684817316976, -0.020194785218958528, -0.38543170705769353, -0.21418567337518685, -0.3272637073372484, -0.4783683329152485, -0.5184695022451439, -0.409696183243482, -0.6282958512804394, -0.17716203751389853, -0.4013283850993396, -0.03826765198284415, 0.12818964708949354, -0.15738622579900902, -0.34935819185993505, 0.03918699759877679, 0.11479733423095337, -0.5894650796766459, -0.5202831375495689, -0.10537133283870906, 0.026564050684239282, 0.1866425813526917, -0.08767127179805528, -0.2570319885855301, 0.1846895130438013, -0.5284858731262891, -0.5325492359450223, -0.2184128845375734, 0.3266565036453779, -0.37731003730760854, -0.6001298655269419, -0.354136421881508, 0.36673990883322805, 0.2905448502636965, 0.19293350086367897, 0.11850788479078966, -0.4537081310579786, -0.2591807289446661, 0.05930601521978841, -0.14424895805320637, 0.3406646011528961, -0.3027258869334732, -0.22512112739021164, 0.33980654934419363, -0.43206429035934774, -0.1459840633268675, -0.12068994561243977, -0.19918882300020113, 0.024558550238535426, -0.6308678558175363, 0.038104183859413755, 0.08954917191307536, 0.10080203104526439, -0.07441507571350807, 0.3420632678979798, -0.5166978253325973, 0.3497885025681998, 0.047495563711522644, 0.5811056902838988, 0.2787113537268569, -0.07713448685152512, -0.3547891953080272, 0.27004752510453045, 0.15805092986227956, 0.3009332077135735, -0.19900355924475613, 0.32349104354651054, 0.3997823060894056, 0.23978094998462338, 0.13374166617650948, -0.19451988798500217, 0.3748526334878722, -0.07391946411729929, -0.28981650871835546, 0.38945777088641115, -0.43716085362981927, -0.10425570062218821, -0.02132267479844651, -0.020470714696227073, 0.011141490888278786, -0.008757326026827973, 0.40892928724253774, 0.1798893960126552, -0.6566497112073929, 0.6295341699341173, 0.5917937488132745, 0.07954555047660444, 0.2952710557626667, 0.3031906153862356, -0.3672537632308855, -0.4715549287447689, 0.6130851395572041, -0.3881338091875388, 0.17151326793305802, 0.19248379727763598, -0.4589306914486417, -0.398194345240588, -0.5315193832044887, 0.5320989615900092, -0.24717137200385866, -0.3528574541251086, 0.1864472923929623, -0.1192613050953116, -0.6305630933238323, -0.1674305243383654, -0.42731944261809635, -0.8853013576826199, -0.1383210773018498, -0.25802173290681124, -0.6113898979414937, -0.1956443791561193, 0.1304798756021043, 0.08053275340994462, 0.5259171873538615, -0.49845190151037433, -0.19968318417240008, 0.3972267563040983, 0.09632205090041433, -0.09266370884652045, 0.16019342582869858, -0.4029663988225617, 0.16847769099682486, -0.012967374256739004, -0.00449520415950041, 0.32690898876843694, 0.10351426436549158, -0.3667894449659256, 0.2030460170508862, 0.10387258581838571, 0.1731845446804272, -0.09813710284076041, 0.14776187827607987, -0.30981533080534457, -0.30918835141398054, 0.35446828508096173, -0.24130157390528362, 0.4820918528542667, -0.2481536673128266, 0.08490291008940379, 0.6094753000839306, 0.546955371528707, 0.6767739790373108, -0.21768473052038195, -0.14736056733830835, 0.4220507665280836, -0.3437850537216179, 0.16659901708374353, 0.4043006855450908, 0.21596213272567616, 0.2564208789363227, 0.4427313331030646, 0.40176451928944723, -0.023353727551955517, -0.21894276942921026, -0.13836286628919867, 0.26446793578520544, 0.31884530328605654, -0.2778382213828052, 0.34234084171876583, 0.18135361145356785, -0.10305130522243469, -0.008384944367800273, 0.3251583049731124, -0.7634564954870724, -0.1385919731475365, -0.36962546472192315, -0.24873290468118514, -0.17425355619316685, -0.09596675473201606, -0.2687844458023403, -0.14639686100166024, 0.07116904376374694, 0.3490017468989312, -0.14147246128055013, 0.05217213405782524, -0.4371165361902995, 0.14613203179495235, 0.4149542086005753, 0.03028701683395057, -0.5542174054995748, -0.3464816856214137, -0.15654469348454764, -0.4019550051047034, -0.0821759331998917, 0.09275771803608253, 0.06776840785339545, -0.5746848206294325, -0.3005041947604159, -0.42289203027759503, -0.45425432412814115, -0.050424405393040765, -0.07793754150702469, -0.3241735864163049, -0.40228434035886285, -0.33633581859685946, -0.20108997818957308, 0.1740889473723067, -0.015526592319629374, -0.10475610042788135, 0.035498713581766886, -0.25001271392026436, -0.06750745477208357, -0.32689127340004065, -0.3183048980397496, -0.3105989946590114, -0.5416154338209581, -0.1351515445008108, -0.3077843890633676, -0.6525021485061477, 0.3340149453449773, -0.3013942144574808, 0.15041794241738332, -0.17644898807840914, -0.2178555589366409, 0.30253428102192587, -0.24886406634873998, -0.353541039323975, -0.1744851497254454, -0.20178595593878595, -0.1968199316711659, 0.12188797251204013, 0.5196497552567149, 0.30296444762783514, -0.12855357543063392, 0.35018604968641115, 0.07376367402283901, -0.0889293237410028, 0.08177315123019133, 0.631054218217789, -0.07976038753055491, -0.4108889671132873, 9.653804135607437e-05, 0.5582261711434149, 0.18736140465847662, 0.06298905736140088, -0.019891574582617325, -0.3290380489596242, -0.0787783382339433, 0.03165030904828329, -0.14793864874916382, 0.7998221257389276, 0.14278401228741427, 0.046273959295150636, 0.18853177490038675, 0.4046563850459226, -0.6104634463094958, -0.19557057156793148, -0.27697512195716123, -0.43171441591135196, -0.31857923273806726, -0.31949232743352557, -0.3163038286845107, -0.3184557113455683, 0.11165435755743316, 0.11764302039073313, 0.35941140192648613, 0.0748073152310607, -0.19552204731577422, 0.08995988871185565, -0.22564788232852337, -0.33462534015617984, 0.30612265336272915, 0.3922962488486419, -0.4727127563411718, -0.21909121372194135, -0.001411225820810073, -0.05728835528248703, -0.16525797462482436, -0.3225776686341163, -0.691387037215339, -0.30267964136961295, -0.039110429493982225, -0.034448150734881715, -0.3996609677279556, -0.19621245763171263, 0.06012690705114622, -0.2270554487434962, -0.2528684497294836, -0.32417807409958443, -0.5214603656875835, -0.4110692652859398, 0.10831056465036942, -0.2951824466304519, 0.5134528559960825, -0.5108592627546491, -0.21864403761549853, 0.03715399637512261, -0.3516097015487113, -0.4812253004814707, 0.014808682905891688, 0.1702649939010436, -0.2162624589084806, 0.06384557342808651, 0.4115595166081972, 0.6633508614892609, 0.5402347633098726, -0.2536042610983404, 0.4195072806281706, -0.061291633794132425, -0.22390740482860372, -0.6449971279385497, -0.32250192832838387, -0.20119192184533485, -0.5958120231273585, -0.48968497367948444, -0.4111660814057215, -0.5028045776959914, -0.1031801618572139, -0.12560738018716308, -0.9662972977803712, 0.17603368313538795, -0.10937012286774724, -0.1881107431056806, -0.3245846173882139, -0.3213257186311662, -0.5139080033861743, -0.32925797342571816, -0.6613140308829735, -0.45378113412082904, -0.5722694445591454, -0.30346732964225, -0.43188171340534626, -0.5660300345598844, -0.552583014574857, -0.22797882060373653, -0.12186667349399981, -0.5239367922492913, 0.6245660932338764, -0.47523142830839593, -0.35041034726303255, -0.005811665119359946, -0.3089370043921682, -0.11660124277165516, -0.39119667214282644, -0.11350813677553032, 0.06458374344939756, -0.5875046105406883, 0.03337441809699919, -0.028925890924435996, -0.12607123764343453, -0.3517587223211796, -0.05958458808273055, 0.030262887129835003, 0.32206325713814904, -0.05860305588045639, 0.6847463755433891, 0.4402554583545575, -0.18686233798402993, 0.46350766136604654, 0.48934401942827377, 0.4696605772756343, -0.8377635007141979, 0.07595609494802381, -0.2716731849362093, -0.17648741264824772, 0.19609622152844583, -0.32420026513004646, -0.3930229569968757, 0.6387952935154269, -0.414931505514048, -0.06625966391908913, -0.12494688430335783, -0.11345405187987334, -0.3678071868367437, 0.1521066851431864, -0.663593066803509, -0.7153098815269969, -0.3164766293447127, -0.010689127609148804, -0.12558907745064982, -0.6375880380790981, 0.797002495597117, -0.36411731774684053, 0.06005478364395293, 0.17985463287108586, 0.19788202696399915, -0.2576221535620193, -0.6753745466779469, 0.018772572958478728, -0.12487746240463363, -0.25243135358404273, 0.0626440017679898, 0.0760626605624075, -0.04832675307736048, 0.6112442108827607, -0.4406317497409059, 0.0464939253954066, 0.0054628674931181615, -0.5765801631204812, -0.8052263831945375, -0.25959890008527214, -0.20187656513745642, -0.4497565216541092, -0.1627283926978063, -0.40562077990442136, 0.3382621296563289, -0.414742939091294, -0.13089486939868866, -0.12774213101014292, 0.1980624813146643, -0.3652650201181096, -0.037677849032419865, -0.25831871129795553, -0.15567719078525818, -0.48300272338378203, 0.36365420835146, 0.2133948537351472, 0.07017803296878503, 0.5181448646739472, 0.21008360954206848, -0.047543785886076884, 0.3131450973337733, 0.5798508732668908, -0.5420435545219949, -0.35875366870796044, -0.14846240914469924, -0.4517751157825988, -0.01907076215311576, -0.24330770157494383, 0.3154502575611206, -0.649677748559741, -0.5005038606878333, -0.46670901916574276, 0.17726178264647754, -0.7161564473634386, -0.4542478573779651, -0.07448311244176804, 0.40131197279807196, -0.7958247070727065, -0.5994355893853919, -0.2895095565704, 0.03741143550931218, -0.30064770722190537, -0.672369193135719, 0.20013423564843083, -0.5580320998596576, -0.16819816931671083, -0.30220198763069406, -0.13251845049598035, 0.12912874225741655, -0.13508810258823134, -0.05099386814405995, -0.3596542725460665, 0.039102981011142325, -0.19285218295873044, 0.018684845639544048, -0.21594367939619158, -0.0802404082353337, -0.2662200046635309, 0.5314206287031997, -0.41098623813890944, -0.16012958156115847, 0.11129731027487476, -0.07444264982914994, 0.18026184524639569, -0.12019656447485154, 0.09181587851575994, -0.17103571751051208, -0.15315752567097965, -0.40730273451440435, 0.3416062941869113, -0.33530024462533564, 0.04581244370927643, -0.07911925093661627, -0.06780216045586979, 0.1562278532021927, -0.13548537154943407, 0.22360954163244615, -0.0314758598966525, -0.026984601124085798, 0.3753186780828582, -0.10680767375727737, 0.012676585715681218, -0.037983786105642216, -0.2693067420977393, -0.2690136592666325, 0.040452242601846204, -0.11040814283483769, 0.5868338193474097, -0.1664232746441248, 0.21890118702044536, -0.8077627119644574, -0.2763155409643626, -0.5827006252421066, 0.2002102988349709, 0.17414954393286353, 0.35919064500073644, -0.3758512445529448, -0.6689103172669899, -0.20339291854668715, -0.2615329773283117, -0.06112328596438879, -0.5164654289660521, 0.4066627627457091, -0.0788520317991933, -0.2672228149430456, 0.0260949216219726, 0.3028105749019087, 0.5804393150551358, -0.3577322587226015, 0.5687043068443324, 0.47761358019274136, -0.31972777607292163, -0.21347115731425295, -0.49894554786014983, 0.10424005431573952, 0.1572611554092345, 0.6307332547248611, -0.06446549023768564, 1.0142458100918432, -0.40508699338898185, -0.12402066442665095, -0.1431474865684144, 0.18112506581465537, 0.13163616317632473, 0.5344847695801511, -0.440306799432612, -0.7878988870559882, -0.18618634368565393, -0.07904070719663904, 0.09385165013983976, -0.4220834897614016, 0.36910682899897085, -0.3511915947739648, -0.22113189753541787, -0.11048190958006396, -0.05828846932358624, -0.139560854366357, -0.14994274970591456, -0.16346510027229563, -0.051223716933033216, 0.18835700774442193, -0.3301601072356946, 0.19538793771517637, 0.017414188430991236, -0.07139011925983878, -0.3408596511029315, -0.22800096795631997, -0.16929792265003324, -0.15137667280192554, -0.5470140417444652, 0.09851489519285005, -0.28498712898003165, 0.00721852583842787, 0.8280545797981615, -0.17825938451348747, 0.3602983389782478, -0.016265140498792446, -0.5024548488521132, -0.6892581097537862, 0.2549258542681138, -0.12190308485726839, -0.31828089625110967, -0.5169099729434169, -0.49508856968393383, -0.3269284479894871, -0.36231925792606134, -0.5425867463368327, -0.05540884087251782, -0.5698718611180492, -0.3839449073095444, -0.7998567326791762, -0.411318389132315, -0.33435435822681325, -0.5362884441962977, -0.2600809764583637, 0.1603928662654906, -0.7520727660188776, -0.36794167539029216, -0.8077280299574849, -0.44142703318608867, 0.1635335750021251, -0.4403219009223189, -0.34583710752776525, -0.9093517441878843, -0.39125973049451657, -0.49856457512939323, -0.9638777425264318, -0.45433087941901906, 0.46585314628467617, -0.3739206260384216, -0.37317656380472924, -0.7159278275205658, -0.17507657049333786, -0.5880736480454094, -0.5673987457139822, -0.39760361227520213, -0.9182581629431137, -0.35787565023144335, -0.3779817707673662, -0.6053779979252205, -0.5410764010698751, -0.7147352843293802, -0.5833701552995189, 0.05479336184073486, -0.0990004605316435, -0.6408908794033552, -0.12732286979131308, -0.12501424052996593, -0.2822652682790268, -0.41869687223599417, -0.2832314426877565, -0.16034240350514578, -0.5330927157684239, -0.3871389866842551, -0.4534898503738405, -0.09559815885544971, -0.5618072871366949, -0.6995430240958967, -0.35503418995749075, 0.46140175647364245, -0.3156944797809155, -0.46078542047691756, -0.023724915782753403, 0.03872863505429698, -1.127833109618762, -0.8043328836354363, -0.9866236813736614, -0.45358147658718756, -0.8729840877201217, -0.16088684057228833, -0.5911795536643497, -0.12960870204542516, -0.9376709665091058, -0.37151691968507566, -0.8114078114206199, -0.6608623967971755, -0.5533011384792571, -0.9496479490109707, -0.6315503943464016, -0.5108200639475966, 0.05664027516392631, -0.9297994615357229, -0.4650282795067884, -1.1348928847401925, 0.6799621467171176, 0.16702627714624113, -0.2968362588959876, -0.9559986298005747, 0.28556157088343576, -0.2432369457730045, -0.7140188925057205, -0.85767810426244, -0.8388454811470506, -1.0504494261986763, -0.08889654181361477, -0.6321603982271545, -0.06561191061109961, 0.4180449266973679, -0.4564792289726788, -0.3191149995634911, -0.4413035880103851, -0.7696092580898869, -1.033328822741227, -0.8815749630054059, -0.8191493745495905, -1.0219247439989751, -0.41850593058249524, -0.2517806154326012, -1.0055420097725747, -0.21379240974583796, -0.43412376659247615, -0.23484625817775642, -0.7206879997527765, 0.11509957413559764, -0.26414513944771884, -0.8857533758513852, -0.33581719578648517, -0.2514059475942138, -0.3133712967866531, -1.025511125207997, 0.14374339569588998, -0.6507098599135861, 0.37884529770398695, -0.5919879571444984, -0.5574114660490935, 0.40417946860222365, -0.5096772358282844, -0.06176285345017912, -0.4271987790750444, -0.4200066192655598, -0.0890274392200046, -0.4492985158047847, 0.11605367844988097, -0.38529995008872747, -1.26580632533876, -0.5871489863424012, -0.5931760731999445, -0.49005868420396653, 0.12205278251884823, 0.6371170542460245, -0.09706986088440195, -0.641550215496467, 0.43898708089952937, -0.8937713400479201, -0.456493153758185, -1.1102413594961704, -0.6020446852117152, -0.7397169995710566, -0.19242600264252613, -0.41968049193583734, -0.3402280735664888, -0.2447530741976706, 0.3042337418162304, -0.5489018242164001, -1.0115262022982954, -0.13248112968414558, -1.1476810278834486, -1.255517648516056, -0.7170085751501436, -0.7168759957926709, -0.8790985170498116, -0.2424787009886963, -0.3409428678727021, -0.34979836555534005, -0.1292016882706292, -0.2583518126744625, -0.596871991087956, -0.3773909246886176, -0.7515208260287305, -0.37561323918379186, -0.7718113383280131, -0.4793813784774096, 0.04963666443853232, -0.6711487035759162, -0.8973712344672563, -0.21739659240418624, -0.3887603997556386, -0.9739333974491602, -0.3967864025408844, -0.5661751073099599, -0.016436906260690446, 0.5791431877527007, -0.7615230753780644, -0.0992932438769334, -0.33835300994266754, -0.49696894538538716, -0.4626151926590522, -0.43468153156642225, -0.921361044168267, -0.318985560257574, -0.3849384718681676, -0.524189624693627, -0.7465532794544951, 0.1895523726578514, -1.0362323166858103, -0.4620389236784136, -0.39970823452550597, -0.5446896191634546, 0.13232205791985613, -0.06624966867905327, -0.40583861894461215, -0.7924175133381984, -0.598897917782087, -0.7231819625016195, -0.2203837899069158, -0.916288591590629, -1.2812491299192594, -0.683832928364691, -0.18812858354996206, -1.2075681233863091, -0.6863664698231159, -0.17078068754267667, -1.3201867805917216, 0.2335311611998143, -0.6512559637373051, -0.5470329177657799, 0.14247483122476176, -0.8366692726169352, -0.5490992362716295, -0.2009130406315314, 0.11312353977087075, -0.7026340050454396, -0.45967132566873187, -0.13094927497011344, -0.8695184846358549, -0.1137508717596788, -0.13535496388854115, -0.7926081202417868, -0.20446487812462272, -0.4470912653537254, -0.9217935984080251, -0.7520727660188776, -0.26349831611925195, -0.6723064119930016, -0.7430819284588336, -0.3312220262535625, -0.5649387775136073, -0.6665180604800461, -0.7670903634991719, -0.5032003863814265, -0.45727491957723737, -0.6711967118511021, -0.5645990008573637, -0.1556914867609777, -0.7747075913860842, 0.06519604265232791, -0.45643519004281924, -0.34674371524508346, 0.3983543486431851, -0.682742823109597, -0.456710071304418, 0.49229138034234415, -0.44871509121948344, -0.26337640223373765, -0.5810228030764741, -0.1535486753274536, -0.7604543969031204, -0.5371478472005001, -1.0937911812675616, 0.22617800565839202, -0.6468426325587276, 0.21453990093743805, -0.3855653638012534, -0.5246230348646949, -0.46995229064616945, 0.020206346926790637, -0.012835172365479808, -0.11827455459601788, -0.6700071826496687, -0.47598169625601094, 0.4178095381989105, -0.3983091240012141, -1.2458922359709923, -0.9206816439098073, -0.8462182154440726, -0.08896866400260676, -0.7196112510372001, -0.6682199300854397, -0.5518704319941138, -0.5592492856371644, -0.6199942748617648, -0.40753066974608154, -0.4946488011358645, -0.23931219127083958, -0.4486847429686447, 0.05654898653715449, -0.7737178787219202, -0.36893914750397144, -0.002343626032379687, -0.5423884439732573, -0.07622559501112465, -0.12245714163508689, -0.5117310742811418, 0.45271441005530766, -0.5924008041228536, -0.18669638772969882, 0.23113191102327565, -0.22924909428991552, -1.451395454598448, -0.5840336731357223, -0.044691814569960894, -0.6979769928686435, 0.13784971836727355, -0.34981893976124906, -0.2408289275968964, -0.40195716089720296, -0.42380366789919244, -0.28826734293099704, -0.27642398232062704, -0.27154715336824875, -0.5884623644945796, -0.6146964896574328, 0.33398551025789763, -0.3957857685827055, -0.4938198346338823, -0.45116720894203666, -0.6103446944173831, -0.7258062916186335, -0.59491223581773, -0.3361350832816932, -0.839094048585787, -0.42495561185741954, -0.6094299494804606, -0.23136357280006203, -0.5972772794935647, -0.23687807288798998, -0.6747186688460848, -0.4582626521591945, -0.64176638658842, -0.6052819830566528, -0.054045505890386654, -0.5213011017517605, -0.9212055505118582, -0.40123518149409193, 0.0023152745255684533, -0.7138067537283129, -0.2959591336457642, -0.509001556794958, -1.078272755971675, -0.6872984069632484, 0.033826163099692844, 0.10191460384932845, -0.6490698247272385, -1.2379394296443509, -0.45996186808846085, -0.13143046800172933, -0.16602192758236284, -0.5960914472992964, -0.06998455358850963, -0.33805265404506124, -0.462411239221016, -0.45555443994045286, 0.1296174586831057, -0.4375116790184528, -0.35704155366653134, -0.47402702453265444, -0.1047046875550707, -0.7477099626650678, -0.30136287145641805, -0.5119409292468327, -0.32760660530923463, -0.2568650598664143, 0.5244934562924484, -0.7419269752028168, -0.3208706896203057, -0.4630948262558735, -0.3107462681674776, -0.358233735263513, -0.2752261398883721, -0.7228543665020862, -0.27121797734285774, 0.008539527693221326, -0.024488039714500608, -0.30654453583533775, -0.6463950608011182, -0.9950006430776953, -0.5303919216416827, -1.3030234622157115, -0.40404009579161154, 0.30573722082741794, -1.1113196690155152, 0.10293938403633549, -0.6611916281054244, -0.23947015077211967, -1.0172299446359396, -0.5506671583774764, -0.6955989268066429, -0.6487345318202719, -0.580494604735038, 0.08275273877739618, -0.6886162724861495, -0.4547553235614549, -0.4751495785639355, -0.21481717707854725, -1.1860486588139083, -0.9366278628635812, 0.0022631944941281994, -0.5160938657727523, -0.48523786115425305, -0.911718640835356, -0.8574573255713525, -0.7266951408900294, -0.5464104470265494, -0.5580652873759037, -0.4572496902543363, -0.36706221190354227, 0.16748359938689864, 0.09254211735943899, -0.7180089711241794, -0.0895744582755466, 0.11687332607772614, -0.0906125591153251, -0.35994374029477005, -0.5760274654541555, -0.7493961925330679, -0.3441782968743194, -0.49011254858004094, -0.2946157990929218, -0.5163924138933933, -0.5769415511429338, -0.3092547940024893, -0.8192977951417332, -0.2177800687624282, -0.7863106667192248, -0.49265221188992486, -1.0261957506270047, -0.32058854047297386, -0.3543848690428505, -0.38726930770621004, -1.0308313747369338, -0.5797268122696254, -0.11964044311030195, -0.40810353865919335, -0.09259352293055882, -0.2836275461832651, 0.46849654974052884, -0.5336451250541364, -0.7125042081769057, -0.8192460708264928, -0.7250997813191951, -0.46825791044665216, -0.4860345469530164, -0.4259586008640782, -1.1789821324299818, 0.06275245612164876, -0.6409403417803875, -0.0667939579334502, -0.7067043024994859, -0.5077405569292728, -0.5673615044617224, -0.6262871384992607, -0.5552563021271173, -0.8798063412927536, -0.7044793334092031, -0.3330044685405145, -0.2683834562379698, 0.1009568321032735, -0.28304358588853995, -0.9369705217461508, -0.01720106235100258, -0.35221569756440724, -0.0448249489175506, -0.46330977578798194, -0.38037705259190685, -0.40094326355799487, -0.5312443246973675, -0.9392477597935462, -0.46428380978593714, -0.7428484382125808, 0.3247804622630299, 0.3481127601536086, -0.07598536137588158, -0.2890837130466261, -0.6217298823646181, -0.3198829041993643, -0.9452431925481196, -0.1333130602878925, -0.5760060736491452, -0.0722945046885909, -0.17764435603426554, -0.7756861463370881, -0.6263287735507896, 0.0020508256105823126, -0.33375177448127497, -0.4059237914111308, -0.6390249838619773, -0.5767120066300346, -1.0291564704342535, -0.25009643465918796, -0.7985163012442471, 0.24232491674973358, -0.5090431335653492, -0.2397813638530189, -0.9665831926866224, -1.5652204322756034, 0.23926312799618701, -0.10106269006939361, -0.8805496409588092, -0.10492908209891545, -0.06293174400848214, -0.5773814566592929, -0.6126419959241113, -1.0000409794298393, -0.828959632023608, -0.7183431479123232, -0.27488739984526617, -0.6602319811491727, -0.34601334673123946, -0.5163581004168767, -0.4931828767557113, -0.8977286250082096, -0.719768093935105, -0.2434195219381429, 0.019874401363325744, -0.8107280275070476, -0.43625067180314053, -0.4218219051208558, -0.11233796032816944, -0.2312139368826089, -0.01543842822392379, -1.2480207807747832, -0.23530984054831902, -0.5083977997963955, -0.198050736984073, -0.7418988470951269, -0.3714481453284272, -1.057905459642963, -0.6498535286881523, 0.11426569583676496, -0.4707945597747328, -0.38869503918990583, -0.2915068792321682, -0.9250619437224303, -0.31068235411748424, 0.032096496358574256, 0.026883660765631187, 0.012073796029165145, -0.2910810894489671, -0.236636127321755, -0.22565700498464503, -1.0424746058355838, -0.5383177875089531, -0.19295718840839926, -0.39143791379175, 0.16084909726404095, -1.0653490782707122, -0.7112506780288703, -0.649043238077125, -0.07874951021192032, -0.3048837757672012, 0.9681608797087995, -0.7673411789235164, -0.8969359711013075, -0.46482571699523917, -0.5513657661426232, -0.7982025945483934, -0.4494184250356667, -0.8073154697364874, -0.30833640157099984, -0.6547908597669794, -0.6239353229264858, -0.30497234515116023, -0.35216002489235515, -0.13989000182726685, -0.7258436515027702, -0.4978707709888486, -0.6108917850586475, -0.2904461254950536, -0.2300576321146465, -1.0968559255561752, -0.7322594750822422, -1.1260297158826866, -1.0332262679578152, 0.020372409392679463, -0.3786387416161209, 0.22938477418256417, -0.9278929505655383, -0.04311855961801479, -0.23572773909502642, -0.32281812426428447, -0.6397516013615845, -0.8477941326314768, -0.7347414761544743, -0.3799216165819107, -0.20703155161615067, -0.6480998111510674, -0.7287736043093267, -0.10590953955334784, -0.4588515789159552, 0.21668831310539957, 0.029001310953407914, 0.8567469125194999, -0.15944346157262407, -0.6438018393992005, -0.4502446678211779, -0.3551122745643289, -0.48774117172522874, -0.41627862173949415, -0.4301596792051214, -1.3356767071166373, -0.953818924889485, -0.48028329333582526, -0.5235357763204374, 0.3215759479899624, -0.7566315237062016, 0.2298645212178462, -0.033423441753714256, -1.2024822983965513, -0.17399750429194083, -0.39013060589357473, -0.31461075482226897, -0.8687536573284456, -0.520019674422522, -0.6130121426841312, -0.06832653559222056, -0.5247731101732115, -0.19062546798000957, -0.054197696810977636, -0.436756875043103, 0.13111792723130736, 0.2998805293662395, -0.5373620801898037, -0.9937971041249712, -1.1227025600014033, -0.5356475110748031, -0.7324727121555272, 0.24585907239912067, -0.33088770136649254, -0.22085938792438106, -0.8188501761755267, -0.2790466416727546, -0.8799724480788159, -1.131334218876701, -0.8958675497165647, -0.5974301784830491, -0.719006304493556, 0.7205777593361752, -0.5901026541497434, -1.0950200617531984, -0.8604718952742605, -0.762666831810418, -0.5011308480282021, -0.45456289517034926, -0.5295088231076222, -0.6466621942458256, -0.20272765112722863, -0.3512481335419747, -0.4537427208206335, 0.032780338838840246, -0.42447361922327703, -0.4391278656130987, -0.020370518594455437, -0.24104333437911432, -0.21250950908572228, -0.16431193926840007, 0.6819356427029823, 0.24973437479005806, 0.40163779178558345, -0.6562080167761002, -0.4105737872999186, -0.8004879918687821, -0.15973969594983237, -0.49123366069807906, -0.7918740965212933, -0.3393472881873189, -0.5001576847817848, -0.9704688670340773, -0.8293826003054282, -0.07855471521790053, -0.5413064437240628, -0.3412735297611592, -0.30513614778510617, -0.3116260026756537, -0.3511408147590351, -0.1615317910203298, -0.6001569499463444, -0.017196082812707757, -0.4659133577956053, -0.7533044604215555, -0.40733217141192213, -0.303050592502864, -0.5847856188672647, -0.8072060684271203, 0.04298304383715331, -0.1161264529842568, -0.45400389103069905, -0.15373477056896384, 0.3088697732689323, -0.778798416350092, -0.07916759355127155, -0.612722480660515, -0.5833284990884936, -0.5661593841654852, -0.5326921800885887, -0.36342524026801254, -0.7284915713451455, 0.012115557276123814, -0.40537650487435534, 0.48217643131950083, -0.2695453048132871, -0.7624723726014291, 0.34766564264227146, -0.05602018337471849, -0.09389673714414803, -0.5490223269653497, -0.7782769319317664, -0.9612626211622163, -0.2027303717274352, -0.7641228005055462, -0.3037586129463837, 0.5962493651760595, -0.10548895886529767, 0.44890973033762355, -0.7031786858852443, 0.17862976985973641, -0.14620594026871622, -0.6294928887528365, -1.2508492785346037, 0.283310762225135, 0.10987088694534695, -0.9652397869465155, -0.5130356776179408, -0.6705099709365396, -0.6784896043138309, -0.4306884839093229, 0.08810796880190568, -0.12042406505834877, -0.6426499070638374, -0.4692719065580868, -0.48860373627872045, -0.7424860996124807, -0.2174131932840147, -0.34220960921915394, -0.7713679264552263, -0.2630374736143479, -0.30819990131908775, -0.8162160568402927, -0.5311277537841201, 0.1039831330281053, -0.2214997400645793, -0.08275225353743687, -0.4377915591484185, -0.6297667790696648, 0.07050471035736319, -0.5585091456313133, -0.6655894586979253, -0.8385427663445425, -0.8499077842015036, -0.02225851077697348, -0.3651831278280733, -0.6042606919339965, -0.8447203100492559, -0.7899936321108435, -0.16582480057633445, 0.10650924880862872, -0.8070983099540077, -0.5749598699957569, -0.4905551479766749, -0.4466241606973182, -0.194023650009088, 0.000790887308729601, -0.43944743655548707, -0.6985738211649678, -0.6528874780338041, -0.6956249260309236, -0.633376077744467, -0.7640630446382118, -0.9657184999559879, -0.9627846257406548, -0.5838354944348227, 0.10369316205651323, -0.2632391850999063, -0.68231867195236, 0.05054182401781841, -0.3525633507618234, -0.7942862094934272, -0.5632665684874888, -0.7856424927364928, -0.4016889042717021, -0.928642860984035, -0.4503244380970075, -0.08081807911358925, -0.6448937781634848, -0.4077674074221638, -0.33606902480624085, -0.9471607562869316, -0.5006538876895575, -0.5926118784230365, -0.6462526350482362, -0.4600081872157511, -0.5006064072909203, -0.7566899425268176, -0.4390298752700145, -0.6070986239878794, -0.1807624029402748, -0.7376289103825081, -0.2005053201599672, -0.3887874005348583, 0.04106159667606704, -0.6877918753647011, -0.3832582063004951, -0.2817084194054652, -1.384703798256255, 0.3970365676106258, -0.829686377123695, -0.5768879567332544, -0.603246915938405, -0.7564182782170737, -0.3544626232131499, -0.5754351915102537, -0.2932973317542487, -0.5298222834833041, -1.5054000704628625, -0.7662894405175914, -1.580275139733039, -0.4274188740316786, 0.003988120361202101, -0.4829270488881246, -0.8857992168065347, -1.0667093580175595, -0.4394674901071428, 0.012871010935642697, -0.12081313868887009, -0.9141709975295177, -0.2208270097587941, -0.5784971694813342, -0.6896758733807778, -0.43036134541245025, -0.7048514397350268, 0.13317846267117886, -0.14602107640262943, -0.4412093327738204, -0.05022673218275899, -0.5720227930756362, -0.9752560868046767, -0.6393573660168914, -0.2916032445309278, -0.4500045816707758, 0.18222749996581755, -0.2886827804238099, -0.4313609363707667, -0.48938199267341154, -0.7495330642810759, -0.2574118399203355, -0.6142634764677604, -0.28778636369746685, -0.4995489580272357, -0.16981384588420606, -0.10387864117056013, -0.37298377696062207, -0.6555067777692741, -0.6167892896362364, -0.6314867311441344, -0.06885529133767619, -0.5975180064270723, -0.470464909423514, -0.6260319437566199, -0.4612796611618005, -0.0897116189352258, -0.8971012490456641, -0.3725016359644135, -0.10825542919170336, -0.8572918114986321, -0.20365667312831112, -0.4539112177831761, -0.6640260596663701, -0.21425921241068396, -0.35978912605634233, -0.46732077578822656, -0.23580122060697137, -0.23052609471702384, -0.5012669989430069, -0.7535776407625241, -0.4896555640299975, -0.34395138016938015, -0.6111213272719943, -0.3978728115879388, 0.06653952303813503, -0.44122326373140797, -0.9371307148103551, -0.35533029592467263, -0.9415735667332995, 0.48100605603804397, -0.8640018124886438, -0.8842210318212089, -0.8958494046000414, -0.3053034925615686, 0.018346844959076788, -0.3802247695791872, -0.3006505335667453, -0.19200717721008717, -1.0681397625839095, -0.8300375092117377, -0.3264557775963935, -0.7900098022921889, -0.575190209263715, -0.3315999922834679, -0.31445268594440273, -0.3897120673965406, -0.7654725247536328, -0.4194245977050216, -1.1426746678583914, -0.7255611492200141, -0.4924833222391226, 0.30661382579783864, -0.8210655919610994, -0.643956223748637, -0.5952247708033044, -0.7047082342327631, 0.1996878484134164, -0.1467368652094339, -0.5974115019276054, -0.5889126696815357, -0.13954425504557502, -0.41677057328656847, -0.40147171211246924, -0.5357355817119147, -0.5013245688414016, -0.2617422377649145, -1.2682190008356147, -0.6218164199859085, -1.4290500950250928, -0.49821775067498353, -0.6393104649259744, -1.0633958770438787, -0.8609116996788126, -0.9357254363119161, -0.3620712967203938, -0.6673052708076658, -0.7150625118734418, -0.3977939452205978, -0.718533330270927, -0.4621821563447831, -0.5712629710335299, -0.535522399972359, -0.8018839226951494, -0.7805548608849747, -0.17627184537878396, -0.3238504094753215, -0.16784757263735964, -0.911358688454934, -0.07137806907879325, 0.1730972190415112, -0.4672834479890564, -0.9287422820738889, -0.09706853270959427, -1.1950244267046668, -0.6816087296731669, -0.5624783404393706, -0.7388208278418255, -0.8115087437154457, -0.3656901898135793, -0.36787289273329565, -0.5427374986926766, -0.3218628553058281, -0.20298754870165472, -0.5292555089374575, -0.45319271383860504, -1.0565516862757123, -0.7306698443411707, -0.7562724598664324, 0.01118186944982005, -0.04896845167447034, -0.32876385561908306, -0.2041249521588221, -0.3545859679179583, 0.05922681400466293, -0.37050171055443587, -0.2448309189028377, -0.6541063575627789, -0.6822378608434583, -0.06423925923680565, -0.32388631856157407, -0.6604567955062809, -0.5319650890439971, -0.9868861555186369, -0.6871377119942801, -0.4541381971420457, 0.3366931993170523, -0.2945771625897824, -0.896177438751726, -1.1702565297038607, -0.7756835594300009, -0.6068608552650749, -0.0023321065301160197, 0.6079534439045431, -0.49007793363248825, -0.8678184082612773, -0.9467354437365513, 0.5488992861648812, -0.9212251236329964, -0.17384780684315673, -0.4504904002782816, -0.7249055729321775, -0.38372471098913824, -0.7353733591819988, -0.06645308319593636, -0.3178733646902228, -0.8350166432170875, -0.3321811622748603, -0.5188401621782085, -0.209616088053785, -0.5215219286775707, -0.43692595922502664, -0.641780143618917, -0.18842197206643296, -0.25708870632742903, -0.15295438953156726, -0.5644325106931192, -0.701816438765239, 0.049144696301580436, -0.4153278270165183, -0.26187501379149664, -0.7561991050727991, -0.4871570576776713, 0.0049827534843507396, -1.4521995286534475, 0.22377360294747997, -0.4862160998373385, -0.24774324624579055, -0.6569250396751413, -0.5136685361618584, -0.20060702317789164, -0.783168494032089, -0.6065623442993237, -0.5236950819341044, -0.360593417167601, -0.5366741511359197, -0.48398724290394823, -0.3370260288392935, -0.5064331985995395, 0.49915251246352543, 0.48970551654567435, -0.5892406184024375, -0.1879810452451685, -0.20468196466262648, -0.1755091241580292, -0.5500650130814306, -0.3649047045905106, -0.8679078657924741, -0.61060432541016, -0.6291186866791317, -0.5640267414345087, 0.025858567768783185, 0.3359158674122922, -0.7255127002535248, 0.1609375099538773, -0.7268703658291277, -0.29948906025391836, -0.6661721746209018, -0.8972572203494787, -0.583544234522664, -0.39776823898471025, -0.5210702349118216, -0.5954521053664854, -0.6442519232402517, 0.3429540174668421, -0.44853030494843515, -0.23163053077342957, -0.7980617678096912, -0.16516528104088835, -0.2803842906615186, -0.47921694860027886, -0.6445626462575381, -0.43529601541509766, -0.7520727660188776, -0.3093418467658721, 0.32682933514348755, -0.6240152659565882, -0.809457237198457, -0.3509231763890168, -0.5677456891303122, -0.7472573825153479, -0.6349238727221747, 0.8079509371461762, -0.10913874888077264, -0.05576189579671913, 0.07970859100397787, -0.5936680393726452, -0.8280641632521866, 0.23611413803781997, 0.21939140339896676, -0.6843880067463307, -0.1933790585919512, -0.49328488081687744, -0.3205980591326589, -0.508201252250942, -0.6983681665997915, -0.9900173898965622, -0.3131271745519829, -0.8800189122211771, -0.12756142987040286, 0.74240588906979, -0.9081320083504172, -0.25454547502101893, -0.11621635672561181, -0.04862446343149382, -0.4493928522509493, -0.22744221289130892, -1.0514092886036535, -0.2361830454050645, -0.28627152131779815, -0.552197296753593, -0.8770807221245797, -0.8915335380623471, -0.6445463199223049, -0.3920475359947948, -0.8210909185369515, -0.3865878261667765, 0.3680816604387922, -0.33249866795412786, -0.35867237172756894, -0.7451101688058999, -0.6404164860127068, -0.6150023546507365, -0.12073990375868258, -0.9972909046315828, 0.017271659665011534, -0.4895548753759806, -0.6539091354716478, -0.8221443465153315, -0.4141432791287609, 0.3922283579971183, -0.8734496588048322, -0.2998362368878614, -0.4058853393564286, -0.28555490643614323, -0.14459544167625457, -0.5517942750826168, -0.7489894700127419, -0.3687622532314022, -0.6518707914963724, -0.7439543325710367, -1.0034424859910307, -0.4829857657293493, 0.3340735037935901, 0.0781121201031921, -0.03738107260088693, -1.520655819081675, -1.4433246918721996, -0.10454059431587968, 0.24372701697043703, -1.075163477538187, -0.7199488501435508, -0.5107933182917908, -0.7555808512282567, -0.7020418998296653, 0.14781326326673974, -0.5152446262407512, -0.6937383776629175, -0.41349070497111723, -0.5879151662276172, -0.9546190962401051, -0.8307663071825989, -0.39480542966272336, -0.10012035175562184, 0.24714571799926408, -0.5573791354134463, -0.1754398057794554, -0.2317151731378932, 0.6431002404456876, -0.7215660102949705, -0.2133983264920458, -0.5740466810834539, -0.7092923036716479, -0.2961737757360216, -0.281702365866988], \"y\": [-0.5140651850859064, 0.014499601624293099, 0.021955837838031674, 0.0767995781569705, 0.0859464635511844, 0.36524582526075716, -0.3720921806248134, -0.10243643454733226, -0.4843819124343957, -0.021595730051025813, 0.319815083849949, 0.16727432874313866, -0.022768026778690574, 0.03240535565669681, 0.2646513831037588, 0.5023468024318618, 0.02427019510719789, 0.4041548706501331, 0.249433725450792, 0.42614999067354165, 0.36446057194942527, -0.08730695904882568, -0.054917413608259885, 0.22792338803585951, 0.20541067228152907, 0.4922062199855408, 0.18698807023152614, 0.4546531269422838, -0.11050296353117427, 0.18564591050513776, 0.19626550544370625, 0.5114485903049462, -0.016177250378091864, 0.19825893019009116, 0.4434540100447949, 0.23429476214610118, 0.6640596368733493, -0.2701977111581924, -0.005085751512370771, -0.027638985116869987, 0.49667427448802176, -0.06463811330289129, 0.1612478956734219, 0.37993601496550916, 0.03897643956706919, 0.05416812783913518, -0.294131680827203, 0.4262580957513503, 0.121394585827914, 0.039105572474541876, -0.052597815428577104, -0.3779085158223294, -0.14196109965411888, -0.3504593257492267, -0.6327281721292769, -0.30036185441960056, -0.15804387919793977, -0.5398729856552825, -0.21320290289274754, -0.3541024567108621, -0.5213774385991219, -0.43994475725549076, -0.3015540060551377, -0.49823557308573735, -0.5827139792228817, -0.371861604130593, -0.6480456526446803, 0.0052540122413707565, 0.5403423925421652, -0.3807474545977598, -0.33333314181324136, -0.1671477860356705, -0.022790316965227257, -0.06341703777097363, 0.33707032350233995, -0.21805941841224535, -0.1921483890295879, -0.010382365242301102, -0.36593163475590995, -0.4342411864898721, -0.4353977030580378, -0.3647112582067976, -0.49416678915207407, 0.17718584159323672, 0.1594665810160428, -0.05849407425632951, -0.2110586476791572, -0.0938020716581139, -0.27591096858053565, -0.38436999414013745, -0.40590680430038695, -0.18900230428321307, -0.5370837626902517, 0.04777055833107361, -0.27319005554861225, 0.04403189981114103, 0.08445746206514916, -0.005789861019607298, 0.09379787247255864, 0.20949127110739788, -0.002036082244273214, -0.6511489779686002, 0.31237576047410676, -0.002078483009524222, -0.28381939364993525, -0.5416114975439127, -0.1783216718637166, 0.1670857841905248, 0.012946682098595152, -0.20032050467575646, 0.19735410843384915, 0.5693283051986544, 0.18724168303013192, 0.20675978749122814, 0.49178378668888184, 0.2792304457339675, 0.504516415761148, -0.08706804429163709, -0.10630231426272559, 0.09448451837849918, 0.447834254581404, -0.1144098332870914, 0.011302365102509235, 0.3042218247485593, 0.35989857381145185, -0.325639108226497, 0.16477135822855268, 0.5438008169670894, -0.11210689168299574, 1.2349447527728203, 0.06395391629235923, 0.16034232018395098, 0.357243015507258, -0.16668860553520337, 0.44429210083723775, -0.14566593561727345, -0.2753180991889907, -0.37498349059313385, 0.24947474893895924, -0.1919841856276287, -0.29190272409791046, 0.11262770696491528, -0.3349928674789551, -0.25909346882042056, -0.4601695319478433, -0.42822594282784204, -0.3269148712475996, -0.09906989656345119, 0.2623918936398078, -0.26494821657043366, -0.6194876625140938, 0.014957094961461357, 0.05402628935048237, -0.8393988567789384, -0.013784112514974283, -0.6116188831616243, 0.11517523471920664, 0.10463215322132495, 0.18858555084258655, -0.4149054516517379, -0.3396888765993887, 0.12306772631599505, -0.06723032498766984, 0.3194740119742229, 0.36299761935933694, 0.29339287152673366, -0.1240843962514525, -0.050668387636923655, 0.07800239750696891, -0.06479186937224632, 0.13001737240024897, 0.6747631132735519, -0.11694850939230544, 0.46605509942337614, -0.6161926540806136, 0.570291490374765, -0.32793163292186867, -0.27244006374048574, 0.3918786760487726, -0.24824526998938073, -0.5435005260349401, -0.3377975719590831, -0.11789327193085945, -0.3426878248689055, -0.02358867787110412, 0.38649939129985594, 0.18536849128703511, 0.27185219919784875, 0.55344468524584, -0.2379694882593173, 0.1395747360238226, -0.04225533414215177, 0.36976650982027365, 0.33037703223274173, 0.5477634246812063, 0.3349233491546258, 0.3764017966238563, 0.2692652380340245, 0.12136660099579565, 0.015296826896120826, 0.45607813231856675, 0.20532648115920976, 0.5369745758372912, 0.5906773349830478, 0.11639387132376502, 0.05214400915952586, 0.2200620631819738, -0.05754232347151738, 0.11093904181460694, 0.07569950630388565, 0.18618881172356017, -0.3885416355667366, 0.11535665375082316, 0.7699702186593792, 0.046718647338350586, -0.13720557417905282, 0.20285386539595032, -0.23904993665426028, 0.289101343766217, -0.03406882978710193, -0.0033674121840335464, 0.35118354111348865, 0.17151355491235754, 0.13003563576601104, -0.15366843734901933, 0.2664218899036934, 0.6126112979840361, 0.41416736162491524, 0.7549218434074909, 0.0017925460680912756, 0.11898489952829629, -0.31015358406350013, -0.6149753377288047, 0.1354590596220099, 0.40885073124999594, -0.27366628461338266, -0.27826873997042223, -0.3727197695760642, 0.06066153958653414, -0.5821497948459482, -0.0693922079105981, 0.0020141829589834528, -0.15854325071449318, 0.1153761333267774, 0.013626451072873046, 0.08520568493651397, -0.06515333003225937, -0.2867602932531291, 0.20096704711469915, -0.11791069174090008, 0.7487445910595751, -0.42796393977742575, 0.2681029368598542, 0.5573614272574156, 0.2657860110803112, 0.5868367052337489, -0.13535892662218024, -0.12692899611324543, -0.7800279308831468, -0.532679092679653, -0.5403714578834359, -0.24451166695416907, -0.8708187188652121, -0.3287685424948307, -0.548323359225226, -0.3398783891269109, -0.7098186603104709, -1.1876142195193147, -0.4610672710010693, -0.3570169638502448, -0.48657559691869917, -0.5715778986880733, -0.3719297765857322, -0.48185091699171767, 0.035882924679857826, -0.35493331832240854, 0.41547710995501425, -0.46746104692066354, -0.5428408563620875, -0.5267070253324336, -0.5059457830180403, -0.21252203586890114, -0.16252395741220532, -0.7784848487224186, -0.602101321015793, 0.059694321663778756, -0.360091216930454, -0.502825635678354, -0.5184111952242156, -0.4802486876674645, -0.11490820607043946, -0.610153671624849, 0.3390955192310128, 0.22155675701849992, 0.2678901585335652, 0.37607072030999605, -0.023071077349696805, 0.037963115376273886, 0.49722164246095035, 0.48050784132403895, 0.21940884250630796, 0.4587840108403205, 0.4400678191095193, -0.45581980006724787, 0.26155553294543366, 0.5806527760710806, -0.6854037272549817, 0.6467476584245487, 0.30466659765731574, 0.031779139877336084, -0.011463095747950507, -0.15343563244937178, 0.45869449413102753, -0.5504388379893883, -0.13008994338840135, -0.3397288132684383, -0.49004102743622985, -0.015599627997266465, -0.30264449622820244, -0.3421279664626334, 0.3553097315406276, 0.05764728520209585, -0.3971078230256106, -0.3809174136740068, -0.21665410565789237, -0.8071260007724598, -0.41787503879942567, 0.2691630971520115, -0.675747117340362, -0.47086386880588854, -0.2694786581526808, 0.14236574574515043, -0.797295608905834, -0.2566915671020844, -0.669774964688319, -0.7364458558017835, -0.3474623353079334, 0.12747198347397035, -0.4471942963160403, -0.34391877816862854, -0.19350115249724834, 0.1398908941466225, -0.7275131014578193, -0.4115044079699253, -0.10575863944502618, -0.48738424386794327, -0.2850246787335003, -0.37237207709782566, -0.3751554846213714, -0.5491734438050109, -0.21247417454278783, -0.37509995041220207, -0.40311640675300453, -0.7715927539487846, -0.6331437874367104, -0.38295951131773276, -0.39325238829699183, -0.013211029838342376, 0.10709050706196399, -0.17038438798681854, 0.07248194627134956, 0.08734028833185838, 0.380997864363924, 0.1665012643270749, -0.29130146281313196, 0.13754163920752785, -0.46958923525132995, 0.09980533969675356, -0.35494331409991703, -0.6899410193743168, -0.45796197554303497, -0.850534100608046, -0.8144951219855588, -0.3967077517724512, -0.9486177214999845, -0.4360680063044802, -0.0347022526948103, -0.24554426122530915, -0.4985627652844917, -0.4730897127120341, 0.13414813628296396, -0.40967595599590495, -0.12945062313517489, -0.1723028253103301, -0.7728573684129053, -0.6101199631074684, -0.9684489445263543, -0.6606985690491491, -0.34684148147916455, -0.4409512824720732, -0.46823749578005885, -0.5487090173381192, -0.36025219451972784, -0.13377839581966194, -0.3779540823329918, -0.9785909122530614, -0.5227419734356116, -0.3225478806802556, -0.8224629605357692, -0.5280482788029789, -0.5097629609669521, -0.003706383705982453, -0.7637393063424666, -0.7419848127468941, 0.05039600804337143, 0.07516952968985663, -0.4655129441663452, 0.19336537154246242, -0.046560452074388546, -0.06575719320668438, -0.5504501963959934, -0.6416607544901876, -0.5244873353384396, -0.5197702439180866, -0.8257646230158359, -0.29701567814045676, -0.6803660174101445, -0.7040729821933908, -0.36748968479977134, -0.6975137347173667, -0.4031174614403743, -0.21656065708057748, -0.43600912505008727, -0.2081568288229872, -0.15892379913003227, -0.5611974397631032, -0.15640687089401384, -0.002207036080267448, -0.2943398040071517, -0.5893754597954686, -0.2504433488278622, -0.05190022621282018, -0.14000604158152619, 0.24499790760082096, -0.4202076851732081, 0.11406579620544444, -0.27410272784918804, 0.03102316853135107, -0.21018813311977685, 0.026085977607200078, 0.09595005480751286, 0.42533707196089543, -0.30318688106454317, -0.24980960692572543, 0.39899943311704567, -0.23628057888258677, -0.3541956917216318, -0.2376297455464335, -0.2499613827703176, -0.24994549171915906, -0.3823515879011367, 0.4508919104699804, -0.33213323125613164, 0.2592492434103376, -0.20090981673563205, -0.34935291551438324, -0.7785366475778265, -0.5179373649887125, -0.16881930877688534, -0.021665337389747297, -0.2318329590354458, -0.09571605062714554, -0.2176547678048267, -0.3772109895532106, -0.17174893562935808, 0.030333160120684564, -0.0692278062207583, -0.254380698840754, -0.61564711159724, 0.18405257659485988, 0.25272071363662163, -0.06126962836766607, -0.48083577660722954, -0.3778088506843538, -0.13110722237254627, -0.7599671368000671, -0.30332446793696566, -0.5894875691742643, 0.08546163875118966, -0.578628450875318, 0.04853027527084657, 0.3963477303205522, -0.21684163570589798, -0.41762345571375364, 0.6143117720102985, 0.007114697925162369, 0.1774777089933346, -0.14863435574049652, -0.023348594548496283, -0.04692942163851749, -0.3025118274628499, -0.14943089037518198, 0.07345408445218755, 0.10117190784720596, 0.23847948060294752, -0.04140481162994219, -0.19413512133347197, 0.009103664158737047, 0.008184743334051331, 0.19409166157790664, 0.04874975226949819, 0.23375480923660957, 0.010347128493690435, 0.11768394583305017, 0.1608438835006896, -0.25322553475894993, -0.00976449965162881, -0.06413163756980933, 0.023221473589209046, -0.2070166130226991, -0.48618673198720236, -0.39674694869124905, 0.06194882280802974, -0.14933177291065505, -0.035895817601298424, 0.04839567532548667, 0.2058201942098409, -0.050793176637268275, -0.024522886681256746, 0.03365204039541326, -0.4416398368202036, -0.2906254975991843, 0.02752809978116099, 0.11789442935396012, -0.06721385449785887, 0.02641215443266763, -0.002335884723386439, -0.26597730084724586, -0.0896857504267923, -0.3672652720895156, -0.5753099197442341, 0.03159095569885509, -0.34454346118793305, -0.5226241345930988, -0.9108864213437333, -0.9808221101676504, -0.4105217289995044, -0.979517872794583, -0.8957952487667101, -0.8846015538852103, 0.40943564527466886, -0.7469111335726073, -0.44830044796208884, -0.2656393643816929, -0.7074159317456343, -0.6267719704926756, -0.9006148268973516, -0.7576545138392968, -1.2958529540999486, -1.0774839348876077, -0.4918965656840103, -1.1484152947017245, -0.24972256658403844, -0.39084744778322467, -0.7567048812737722, -0.7247461998453458, -0.9664094914826447, -0.7689558311148237, -0.21510978870580827, -0.45037580436554553, -0.33181904554351027, -0.8942734066559163, -0.4163664939556168, -0.9081127268477063, -0.5085654703592907, -0.786148176136576, -0.27825655384155074, 0.157648876255158, -0.0277541070029913, -0.16754338210168054, 0.17802204847599315, 0.10534586626199403, 0.019651338795730208, -0.008714869732029751, 0.1617861396763741, -0.38652054440081324, 0.20381226751392117, 0.33979888556336413, -0.16068294387143092, -0.08304843141570815, 0.2808305417145343, -0.5741624418748137, -0.0909240010240873, -0.20419051128726026, 0.23279280439673106, -0.27826820023228177, 0.1031888644735943, -0.48526633028105426, 0.251638763010811, -0.23561264962285253, -0.0005441639084886907, -0.18188026684796782, 0.09786247630594544, 0.3873734186832932, -0.16780693814836664, -0.37077133863737793, 0.03173853314372522, 0.1440833660684887, -0.1323399992878402, 0.07171776081124975, -0.0647730029273652, 0.06970786600637449, 0.10092178730601967, 0.7192495732947909, -0.5526511994440854, 0.19639307629902325, 0.06506810027542995, 0.18087797105020786, -0.32524179702561284, -0.2247280864934491, -0.13497152694968262, -0.05664504908348369, 0.009997991515505606, 0.24138154314154642, -0.1862781546254083, 0.11168525910711224, -0.22056503554510917, 0.6952509760178642, 0.28005163468145816, 0.2029697436472961, 0.6336657622565, 0.1569873308912131, 0.5075372955878293, 0.44571063977931047, 0.048742083263982605, 0.17605673576530562, 0.5355296306659855, 0.3440613574994407, 0.1347365709760484, 0.5737903983921612, 0.03624667614258317, 0.5398474240783429, 0.17442793018444788, 0.18941287443792715, -0.015366100247599592, 0.9342829329835678, 0.41350371551112247, -0.031107705437470903, 0.6286452935247987, 0.11341035562163715, -0.09228173770029605, 0.35384398354098096, -0.16241753835358905, 0.22336554964809063, -0.055322802999711984, 0.15918547170862335, 0.013262758220447209, 0.36082202967256605, 0.870805661290141, 0.021600802311740074, 0.3232359286837056, 0.6323234354232713, 0.49571135756928, 0.8378252741194852, 0.024345430453921624, 0.36479852050922323, 0.07377085950055047, -0.024210815981465367, -0.0959681178596974, -0.1359997387717305, -0.23851766632080348, 0.6566907957854173, -0.08716164577016546, 0.7391336931754862, 0.3557652246849954, 0.18730658537207834, 0.11886909668833318, -0.4104901256811043, -0.2819545275915246, -0.49252989323949314, -0.1448841395895908, -0.15730761790619543, 0.011474818177773804, 0.01187118500823852, -0.07104559385551383, 0.026850005919917982, 0.4051576995183945, -0.23215321244005654, -0.33975421973409936, 0.20282235943315788, -0.702764396719362, -0.700859068131988, 0.006117075423101782, -0.003364016719960124, -0.053678969745609185, -0.6044297696699573, -0.36305852188294246, 0.18030028539427168, -0.1092898573489007, -0.3294541208367529, -0.7086418191814502, -0.7813805015168757, -0.8036987702525983, -0.48187442882821796, -0.22809387297463296, -0.5092518561561856, 0.09257264828989596, -0.3078131175908987, -1.2244279216747729, -0.9498749750199799, -0.38082481480057034, -0.4031973539188915, -0.6190018052101296, 0.24381606542795947, -0.7355263621609907, -0.24574780670848215, -0.35459836815395873, -0.0600800086629887, -0.43049481124216593, 0.0028857833717345362, -0.0002359311211634996, 0.1407946113259264, -0.424887921505779, -0.5217287277384735, -0.2708192645291482, -0.6846641977176288, -0.1531915735869307, -0.05150897392762407, -0.7887309121456285, -0.2930379363139213, -0.33478991075903564, 0.3040728805993716, 0.04699560236900184, -0.3101241908580311, -0.4253951739595017, -0.17911764591215304, -0.5650245938845813, -0.5633680825511534, 0.06701766898832581, -0.10637195942352866, -0.5687336622497988, -0.17000779005088684, 0.2033139549862117, -0.04100440542313494, -0.45257167923023356, 0.023507012063716574, -0.3437933189486696, 0.06562810421539629, -0.7596692937381402, 0.41968115475237555, -0.712598819616225, 0.2011265324256, -0.3745794863201657, -0.5899685735018502, 0.02589610080504282, -0.6085241495348099, 0.15572478051478306, -0.2247447114715532, -0.18112933003645415, -0.5487404049676081, -0.6692148521155239, -0.4731410338417438, -0.5500332587900377, -0.561778578467158, -0.6410694969720694, -0.6895502846352537, 0.08774276440091108, -0.25976241522376364, -0.5777335975256996, -0.3367800987927973, -0.5321821070922861, -0.21172088084707505, 0.021523083553842085, -0.515777241190001, -0.6813454165996579, -0.40753203237459346, -0.6163559090140478, -0.5574028857992428, -0.5392650652707025, -0.9058380539175507, -0.6689702234100408, -0.8458978421525579, -0.3221444780956765, -0.6028495449671801, 0.13318011188273238, -0.27149631754903336, -0.7187824853410799, -0.3819030899193307, -0.8241228729334202, -0.7526668830985104, -0.39287519769457124, -0.019328251769884633, -0.34549805894872626, -0.6466569469936335, -0.35053594844949143, -0.439913364703595, -0.6022272720266758, -0.7244269281534136, -0.2927529992008433, -0.008634562863313777, 0.13540554314321182, -1.038279296102349, -0.1613114350995407, -0.3792002225220909, -0.6722017158594764, -0.5241483347711399, -0.47036967638966803, -0.7698558688340418, -0.2775687911415747, -0.5721939591748074, -0.19127098091419745, -0.29556370145293065, -0.11679484694952759, -0.2241755042034475, 0.6629799835533239, 0.14543154654126822, 0.041347420979903134, -0.20749933590097117, -0.6821291894352497, -0.07570783087239782, 0.23799395850596036, 0.4089004592232837, 0.2792790562866984, 0.9358995707803499, 0.5102087019555729, -0.21711298193308373, 0.13620912111071182, -0.22103836741894514, -0.3943547810939665, -0.17133411510355123, -0.209695813269612, 0.1287097193837595, -0.2858406330253541, -0.13772192981422626, -0.1391859502868427, 0.4563992896786602, -0.02303403846742065, -0.09603620196197435, -0.5035729608482818, -0.2933834876168086, -0.19920742590114754, -0.4416689791650927, 0.08156905245939067, 0.18440262361245227, -0.16215888930362385, -0.07051780503228872, -0.39678326854643925, 0.07292090645534334, 0.06494385404470616, 0.3477456440446008, -0.1920483779376175, 0.009966589470418674, -0.5912408895459108, -0.2392078246873929, 0.1634779826482462, -0.372666983256609, 0.35776062504521167, -0.013806838124318125, 0.28591394979245943, 0.5740909306293959, 0.2548376687125266, 0.3987295639078341, -0.06619113498208973, 0.23089299073263092, 0.11154868609994, -0.03219581939895577, 0.19332784915788534, -0.13934211783629422, -0.14762032592068308, 0.7752733404620328, -0.4581186300756773, 0.37604761806661047, -0.5554288781771739, -0.5808631524699018, 0.3560541530327543, 0.6124368072610451, -0.4053567478688559, 0.383600492335057, -0.184075193283548, 0.40065904897066945, 1.6961361149176761, -0.5277434764578145, -0.0672440938658119, 0.06396029758866549, -0.28839574934280104, 0.39111764051198894, -0.6944157597571848, -0.08298904792159491, -0.02885799221072002, -0.42840556804786867, -0.3060263429275087, -0.12919487510854763, -0.546220509864935, -0.10051320159923678, 1.7192823253809384, -0.532970002750892, -0.45299625003337807, -0.3717425240885539, 0.5678165534889711, -0.5450927222725315, -0.6184648745048066, -0.5015591594888404, -0.0842692639724472, 0.11926036967312664, 0.0855663106667159, 0.2813168522468271, 0.3195089124910496, -0.11065962477369387, 2.60951016216973, 0.007646811255766668, -0.6048526912098391, -0.8102870514297486, -0.04746585949286654, 0.2710011873074545, -0.4219790555151651, 0.3053926535055969, -0.559286028478052, 0.46470288105161095, 0.2536466667895006, -0.2966035923811487, -0.6607890953236254, -0.7933829389423306, -0.8274573985539443, -0.4496089821687139, 0.9258966518729231, -0.30311845920186276, 1.0617554612476698, -0.29793715137054466, 0.38909237304239097, -0.591051645104826, 1.0469445439001093, 0.061476647866899624, -0.6203765700819143, -0.5042825787134247, -0.6822988679724226, 0.050955540736244774, -0.5670729349796155, -0.3076158045925515, 0.6274895166828887, 1.071827800766185, -0.13403467223638488, -0.04354374800164005, -0.5183424379207807, 0.21677314019505134, -0.4967486319591336, 0.22672444352385457, -0.20965263745790644, -0.13014914462905733, -0.5642098988161786, -0.583304092066848, -0.18208212889058206, -0.557958248542961, 0.18553857764989495, -0.5549141726604327, 0.4128630320038757, 0.0021483964454316103, -0.043492333554610026, -0.6609545421836764, -0.6011793225009547, 0.15710497401149892, -0.3894933671157441, 0.865272236967207, 1.1234022341727297, -1.0172534915405298, 0.40757804324772234, 0.29876551659204953, -0.09578515547303432, -0.6760528176812013, 0.4696712390378354, 0.3304692703551602, 0.6788292247640941, -0.5742910778284395, 0.5760330104307355, -0.7847475748425611, 0.050907550291773275, -0.8010348890888516, -0.1985642073711332, -0.8432843047537247, -0.5749590101149564, 0.4102418104325472, 0.03133103023743626, 0.02991912194477328, -0.277396569916963, -0.40990265613181404, -0.2653430455013624, -0.46487314280359765, 0.11138894977201896, 0.772527056398689, -1.0555118071044962, 0.5771213392772981, -0.1310600387488361, -0.009172895189577477, -0.283396832483428, 0.3144907177960409, -0.60036651657503, -0.4652885514934083, -0.25972879958837647, -0.36888972010953536, -0.07362903300247745, -0.4503977550566172, 2.099261010745437, -0.3963679446472236, -0.23538631752247932, -0.1797479246239682, 0.38298436742173064, 0.10570328280080958, -0.520782069057745, -0.4529291621386573, -0.4673371504956322, -0.23426399209269222, -0.1694266155415523, -0.6955856370982969, 0.28443501369945023, -0.10560158318817484, -0.3232762175727146, -0.359663529213162, -0.7673625447417557, -0.33916316498447924, -0.3247475366338558, 0.550140904561135, 0.04266316671662548, 1.944853239185192, -0.03288796095303749, 0.08639350193905973, -0.13919518728013885, -0.5495833432534617, 0.21418068295152615, 0.060507291483336674, 0.0700366878090088, 0.3480376620748336, 1.067353356468324, -0.263314575381932, 0.13693244814371436, 1.7317573422156258, 1.4178551631549172, 0.5250039573701484, -0.12161306637287782, -0.32328737211059233, -0.03628324550019849, 0.09145326922828186, -0.28772221748879956, 0.27890079260675993, -0.6345731547877851, -0.17535606220691607, -0.10274340568726016, -0.5871111861535842, 0.04112704653381789, -0.509509240960179, -0.19002346372929702, -0.21597672782809801, 0.13973043726013298, -0.593879831412948, 1.3729937640170178, -0.4066054665027696, 0.5548564851745771, -0.1585209930883473, -0.2842312768355845, 0.2086131413015075, 0.29625272640521183, 0.2672706664647069, -0.27998562118954634, -0.14075694009907563, -0.43626942115365247, -0.756048516104925, -0.4164899228606364, -0.5042372987765118, 0.05599228133046775, -0.2836942221241519, 0.03714435268040602, -0.322846828863445, -0.3947419657126335, 0.17974523876132026, 0.0036087366504970815, -0.22509234834029587, -0.44468317817890407, -0.5753354683899436, 0.08297385365814779, -0.1294329578107654, -0.6965104342541928, -0.5341131525898759, -0.5164049128673055, -0.14625000540014751, -0.1166072996512814, -0.034481880945163995, 0.3450726517603191, -0.47408310736893955, 0.025592447054792675, 0.39775986052832546, -0.6612409538414756, -0.29957214347632005, 2.867487845515788, 0.8081805613765893, -0.36585570010051355, -0.21046693893989987, -0.21223019741423102, -0.7533604926686528, -0.5589178960442883, -0.12132401889900415, -0.5007549608101232, -0.9131558726313351, 0.6651911944039649, 0.5941243180453833, 1.6799547998821371, -0.7146336725409388, 0.48986478840213715, -0.6933870581738106, -0.6800321274778794, -0.3908149643689089, 0.3492769560007039, 1.7192823253809384, -0.0858184482727485, -0.2194551094331034, 0.17426436572233814, 0.010250469235292152, 0.4023349875054009, 0.4034462009957977, 0.23182207416135556, -0.16617792398534187, -0.24740654182327074, 2.50516417960054, 0.6343016692497295, -0.008828836010513113, -0.38696772568103366, -0.2185849030317334, -0.475719417577145, -0.09076391501730584, 0.09668068896750663, -0.028361745152901182, -0.7588071785660735, 0.12474346459075894, -0.41597861792856533, 0.042025687394922684, -0.4436704267257293, -0.5346149451826473, -0.32398774411189385, -0.4190653039630039, 0.23086587881479215, 0.35485368115727917, -0.6307077067099517, -0.6986726596283179, -0.5436521022003998, 0.001173455911941377, -0.3945696150147249, -0.48356324319678834, -0.05889660078701373, -0.21949273291326113, -0.44720860454103417, -0.04271843058722864, -0.02275640723020531, -0.05724074031481412, 0.4227181978620425, -0.5983938957046839, -0.48763554351349536, -0.5193116528126664, 0.08543786092792369, -0.31228132704613937, -0.3268188015820267, -0.24880384194435043, -0.418673371686426, -0.4475366782450082, -0.036574827211497664, 0.021264338405835567, -0.6288605409394521, 0.25105482863033435, 0.011378704752822287, -0.08069430081983146, -0.3954162667288908, 0.12904403348156207, -0.6249982200858639, -0.9462768207971693, -0.11729358758905428, -0.9911824397967312, -0.624863568225049, 0.029026354393625574, -0.3991292961500819, -0.4178519349913506, 1.677652120090945, 1.1297780254417855, -0.5586033419675617, -0.35460083477970805, -0.8035153476763058, 1.8330932999951208, -0.2859266055550648, -0.227139158357696, -0.7261686931117827, -0.38119905382025526, -0.3941875111212546, -0.4012008785542178, -0.43949049869831974, -0.12041687836041481, -0.31782795401024455, -0.21564214997357528, -0.4308886357501, 0.24000478014863816, -0.12800355219189033, 0.838299245150187, -0.04501775388869963, -0.39290634768766836, -0.13770554427329965, -0.49450495523354565, 0.11333396771121039, -0.1639037394565011, -0.7406675768103589, 0.3869315767331257, -0.4121670083979126, -0.03540913526730267, 0.10796149197768458, 0.49015107752407944, -0.3849339176968067, -0.5240757665911142, -0.4595953508143451, -0.14804401760873045, -0.530040634659162, -0.8505192961224649, -0.1684085010975275, -0.7752327225247221, 0.6612059886850529, 0.013923262198480245, -0.41267281550035284, -0.07052247752755439, 0.12696433799577111, 0.8935162984327085, -0.37344254193599385, -0.13832175719065146, 0.1645213239143462, -0.2371992438793852, -0.09699178106818883, 0.43613957258108, -0.36915153587408356, -0.6856550803581806, -0.1498620482805255, 0.8997836577006076, -0.5728658326718433, -0.3768120472225992, -0.22725126172516824, 1.0253990702816806, -0.5380751452940388, -0.6277985200695574, 0.05390093790339345, -0.2236666853075436, -0.44044404843684476, 0.3351414181963696, -0.40919788833971343, -0.5142903053327917, 0.3845957623456078, -0.06899356632940047, -0.4763279765966898, 1.1967004319576142, -0.766469433546724, -0.8078641464087497, 0.25096829860926645, -0.3254230800690294, -0.3083822480667206, -0.020176818335937322, 0.9527913176814882, 0.9864118181471455, -0.5834647499523878, 1.3908168815859614, 0.3931595109718875, -0.38334321195494253, -0.3859327831057315, -0.05724920404107028, -1.2420085670554717, -0.16585813646659867, 0.08419864613568323, 0.023033111034942207, -0.440189740627122, -0.9917173233225373, -0.2529430625707431, -0.8149720273617977, -0.1629974870569485, 0.06952742854029759, 0.7566934226448851, -0.42222407163938813, -0.47121463338442365, 0.38326281213447466, -0.5439248962927257, 0.7940908361251973, 0.3906541702718662, 0.22179808779553234, -0.5092702888499305, -0.5457825325868993, -0.5005078204477074, -0.2965213778270706, -0.4752660108155116, -0.2873613071094887, -0.6423752801829774, -0.15875620786011663, 0.4429134722573703, 0.39192452426124624, 0.0005454775115324641, -0.33563451916049064, -0.2883534260283849, -0.6286859099757858, -0.7877089695783525, -0.43677888816980254, 0.16180421776283638, -0.2894980992617766, -0.07976855415401048, -0.8813691749021253, 0.060817033959900284, 0.0959447607019572, -0.29882113938283594, -0.33034413868202156, 0.3167429664012287, -0.5893529548489823, -0.23063327211346632, -0.12723091705055956, 0.2546810322383112, -0.607904093266308, -0.7857208215541106, -0.5524124497120717, -0.7519935157688933, -0.17921423039016746, -0.5368925726197544, 0.2514572558085827, -0.08356145858754804, -0.1315113888323522, -0.08671911128916326, -0.18271432377585722, 1.0424281483236193, 0.04293288217973885, -0.591574128672139, 0.08254965744824526, -0.26409490315846107, -0.09725079405246197, 0.2795201852998849, -0.04998506819705795, 0.6657003127801561, -0.5956724239116455, -0.04149022638567903, -0.4974010206359307, 0.16617514012619605, -0.8296932133608094, 0.11528384752070088, -0.5638149058368502, 0.010779070249694862, -0.48860997127517636, -0.12296857536355292, -0.955451056249819, -0.4626483777988708, -0.14161272257734997, -0.10877687517093111, -0.04659915229259825, 0.40408363929726604, -0.7494150583244096, -0.4703023627094574, 0.36725977264142484, -0.4199155531191234, -0.367567238856522, -0.2156384849993354, -0.05487635988828037, -0.6389238251691496, -0.034666054916313256, -0.32771532081216953, -0.6358806593848592, -0.6774701335150534, 0.008068019875196805, 0.47952852703822263, 0.1224292409815109, -0.6602261467948155, -0.8565037713463418, -0.15495411829240524, -0.05839062809010318, -0.19110579392150429, -0.057582349825888196, -0.4342162363629369, -0.4209073540967264, -0.20047467819336068, 0.1366879603828233, -0.6658857494859443, -0.6963779747765881, 0.17136655973666418, 0.15328733505309847, -0.09502849664400412, -0.14235900351763592, -0.3042055480482103, -0.9067546844720836, -0.3161754323385269, 0.5346169380629325, 0.5234797017610491, 0.2221447951104534, 0.11644880408401502, -0.7805876713589123, 0.03019674713308892, -0.37759368691278994, -0.2543965367674295, -0.4364933247987494, -0.23565077674354667, -0.18393708995294347, 0.09431301736204255, -1.0721453832574088, 0.23991217823902686, -0.1995664412869432, -0.03422027556778588, 0.09690283743386546, -0.3253113377930811, -0.4453328343106327, 0.9937575367836142, 0.05718188603234747, -0.29294236750706554, -0.5027388132673932, -0.7823132253257206, -0.5343334378470473, 0.6262788874790834, -0.6735359464858446, -0.4141501097752367, -0.19185076978931728, 0.8697889320303767, -0.045899260501146094, 0.2829973600808234, -0.7578203549794854, -0.17804658921467673, -0.47762013151532123, 0.06717668096835466, -0.4993520369589129, -0.4819694931894095, -0.7528693534715051, 0.7087920177124983, -0.4067611463448159, -0.13292568400364527, -0.6306183189609841, -0.988902806191736, 0.2749638745298632, 0.5231188868426552, -0.2454305194948878, -0.39052079823178304, -0.05688152505025225, 0.0771321218833962, -0.2625635134762462, 2.071085970720097, -0.8322751775791982, 0.32854724436255006, -0.5994989836463642, -0.6859794541464168, 1.0898142562766941, -0.5767041371401703, 0.10452514258459213, -0.15110647169695748, -0.11704864597334078, -0.2779951043608338, -1.1918996976357208, -0.3710213268264138, 0.1915457898720195, -0.7407073212833145, -0.3291436693672684, 0.0278870572231549, 1.8054524542188874, -0.4438982038420299, -0.8538495616266848, 0.043539163747347204, -0.46394479569430785, -0.09360774322721889, -0.07839488669872562, 0.7029461429928785, -0.25399520650210006, -0.25825758413408506, -0.38257948272305026, -0.20357057413475485, -0.587092341311058, 0.1992008172916652, -0.3114613067360076, -0.24782585588228995, -0.3473895766742183, -0.06234624888518814, 0.18386208305746757, -0.7744255915515059, 0.17136651923592525, -0.9397831021155857, 0.7799376077165635, -0.33326797750172715, -0.6562978174827364, -0.2909611427054671, 0.18385226978827948, -1.004430908198912, -0.7438989627538756, -0.620833607071073, -0.025477255142822314, 1.1041607547916863, 0.07888399401743391, -0.6579587820680578, -0.5137165555219622, -0.15984965429114917, -0.3993219903415334, -0.39259716271251427, -0.14246133561310004, -0.3918466826082718, 0.021438353659931415, -0.31564226134513607, -0.5648470024984423, -0.5097662823622222, -0.6922401275793573, -0.07371876046615969, -0.3784925129530354, -0.14503797859223494, -0.49726157509792124, -0.4641029073779919, -0.04884004264817177, 0.10036373610012558, -0.48738915611706674, 0.37956348346203683, 0.9689341978551366, -0.5836958136665362, 0.1126407711513581, -0.7382086903565931, -1.1214944710337515, 0.1935278014738357, 0.09881690677159352, -0.07121346168220344, -0.5703550998128916, 0.5473946588876593, -0.4129090132831678, -0.36310847022189513, 0.025453249922318472, -0.4960204238463014, -0.469356420063409, 0.10645259089582773, -0.2560315883938854, -0.5785985151952535, -0.46744415619977764, 0.500595567981974, -0.5871464722844174, 1.6110648301880361, -0.2783696000374715, -0.35383879221090214, -0.37369234328168494, -0.6808553512048089, -1.440150435377174, -0.42283779590476006, 0.0740135182100905, -0.19820115222353718, -0.31271806881346703, -0.6566984879823461, -0.5549263119990389, 1.36186270753468, -0.16810406717301907, -0.0769342275082, -0.49539889990352703, -0.4016270558726366, -0.6737582493800685, -0.6625152431821545, -0.37668243341866886, -0.15235133314780847, -0.23080319376604166, -0.5147522807698861, -0.2655146564893668, -1.059216594486679, -0.5590085144500487, 0.12046656868258118, -1.1018732087280156, -0.6820820729852635, -0.3330142730858992, 0.0011840883526029384, -0.30260370074491416, 0.6303444313111796, -0.23059158958877565, -0.16668973017467903, -0.10613210830628003, -0.5286485953796374, 0.029362779850594604, -0.5474487960339954, -0.7184592754074818, 0.19280602722742154, -0.3788705311808321, -0.33600894520799185, -0.04881311282976258, 0.07037778366842198, -0.47074545389460787, 0.37213356402453546, -0.3844395060305554, -1.3281449693400698, -0.6325182818590133, -0.11740182282228934, 0.3214273844053021, -0.5805811930316839, -0.16919395367601833, -0.2631125004074677, -0.5539075223502792, 0.034286163484275524, 0.2912525038114806, -0.5315617859844555, -0.8091225652901795, -0.07801557854032289, 0.0507290675504668, -0.06850217015750762, -0.9195525431907596, 0.23248548708213826, 0.33879211729464964, 1.2262998812170927, -0.2727816818263933, -0.36684149886767103, -0.655028680892203, -0.12050881473484235, -0.27422196367268253, 0.17134277578109697, 0.12983775848762447, 0.6449155209153653, -0.7894484432305859, 0.18284237766492537, -0.5650922062797515, -0.3244387876474241, -0.05508107806412602, -0.10297706164066596, -0.6174543466158842, 0.07260608954159219, -0.46928089933312417, -0.6258497186920973, -0.5686035679925961, -0.6044220273490802, -0.34270444931892713, 0.06218870374024765, -0.6188175176055464, 0.5786944309385103, -0.5171125689601607, -0.2673404704256693, -0.7121231427078489, -0.37588108234849044, 0.27130657210505166, -0.46736855818869466, -0.11769771829310319, -0.06679038785909895, 0.07731391580657038, -0.4716626125629439, -0.31219546266390175, 0.03666907695697635, 1.3635773660632469, -0.7100373269388388, -0.2967449955408002, -0.06839084378097715, -0.12984603070757966, 0.26769130682169767, -0.18917366543984343, -0.1505986410594255, -0.44566485510546167, -0.21059793499654414, -0.5254972327830657, -0.32636418865858435, -0.6796855716980721, 1.3944255561423655, 0.5095837560150471, -0.05330969406253348, 0.5389361259333585, -1.0943214589550707, 0.2411339547667443, -0.18387813037393172, 0.4936455488217671, -0.11202006892258073, -0.341058942775022, -0.4076187713936329, -0.8098617041730263, -0.22035576163962067, 0.3110386134176837, -0.578902240909303, 0.2845015764235956, -0.01958934823326936, -0.23227577086437198, -0.5065274400955943, -0.5005282632392949, 0.7563928766104193, -0.6652481010552896, 0.16262964751605177, -0.25969222278857285, -0.5231903449385752, 0.14584610513285903, -0.22009228557064275, 0.3736113181078661, -0.2814511402892612, -0.24892612692324392, 0.7218808423767729, 0.6242060168024336, -0.2001939593170421, 0.7155992782906668, 0.018923269849229856, 1.7018695302979188, -0.267144352586288, -0.7004654372270384, -0.9413461602109915, -0.5382001933593051, -0.1891507996521219, -0.7323256254224325, 1.3794982434831027, 0.23337912336629735, 0.07651964078806639, -0.3466696718135661, -0.1800606259678222, 0.33894877361538, -0.4368806584966656, -0.6031619905333173, -0.37785377736818543, -0.6743261317237264, 0.2076329961917485, -0.39467724033591384, 0.0013216549892351174, 0.024817198140389456, -0.74919095140649, -0.4715147591361763, 0.1805142671791806, -0.19778722397986226, 1.0638914710004803, -0.6993015232388721, -0.054575804409524954, -0.1643242722798573, -0.38112307038345256, -0.5251477063004355, 0.09917724850371672, -0.29216321472539936, 0.13567442437481583, -0.8021019849759248, 0.47152033757328, 0.11491085934929396, 0.05433778423574362, -0.20951089752758012, 0.34701573663402113, 1.8052276701311203, -0.17606758729681643, -0.10301546661896566, 0.331503529620851, -0.36797247421304824, 0.10018737993138206, -0.33952211613166217, 0.19008683321941267, 0.7637766723071738, -0.09083160375019174, -0.284613475855387, 0.3070725920711034, -0.604450186912311, -0.42080116843041016, -0.47665548691693405, -0.2896510018770812, -0.049112575460046375, -0.6516481677045987, -0.35405175081539764, -0.34016735691940336, -0.15809158040507515, -0.37067759034386344, -0.27658734669154783, -0.5793164949710891, 0.23517571715745567, 0.3470779715986063, -0.40979417741915564, -0.15473530189987558, -0.5226804477698492, 0.9912630020783434, -0.33085008108653763, -0.2892004428397369, -0.05797161135965995, 0.6313699558250313, -0.7570999245723, -1.007313366638502, -0.20983659228250098, -0.3204599876141456, -0.009763692386525743, -0.5117205534381613, -0.11230256166760408, -0.2711400251949054, -0.37907480358451984, -0.01247367763994681, -0.06704290988576933, -0.00021016093167364173, -0.23851558264356734, -0.17649045092991422, 1.03757593121269, -0.10642391822618813, 0.4944094468714643, -0.3404323321544272, -0.43338979063115296, -0.48156891641787747, -0.01524317909651026, -0.42964799595157005, 1.2926820968427557, 0.6911999027647655, -0.3612927452045361, -0.4528789397595759, 0.07584628719140063, -0.6507799831335366, -0.39419836391273855, -0.7924614794356425, -0.20554969464244577, -0.20546510994703976, 0.45561516639327626, 0.7382583993662792, -0.5432518909672308, -0.404871541371813, 2.025059780158351, -0.21165982304490627, 0.057444428750643824, -0.22327872149568864, -0.2602140473253664, -0.3267404992535858, 0.25234341570878444, -0.02558394802212266, -0.13066811877338172, -0.4367610701694152, -0.5123960826208765, -0.1618037203159752, -0.31234527200039086, -0.1825592176186111, 1.0924790100639474, -0.029947247299313765, 0.3939598340117814, 0.4394721386142075, 0.25046955061866993, 1.4076346623900906, -0.47153394417572037, 0.7488609513486794, -0.8342935128827689, -0.08300718724658326, -0.21093328372511008, 0.3856408317120693, -0.4240773238989791, -0.5024221340524512, 0.2952704180091071, -0.8120034417109336, -0.9724389910460888, -0.33666096889772473, 0.1651303239122117, -0.3322573215270218, -0.07720774410528455, 0.3454786984793586, -0.3280670913347782, -0.1540658168997438, -0.13193869691370927, -0.2891210746894909, 1.010265086542571, 0.07587553163074139, 1.1619191599143708, 0.01414423966781358, -0.42544056162290994, -0.08828886158479346, 0.4360995543299902, -0.2244308925028196, 0.4570049724288888, -0.5012295529264879, 0.23696767932057017, -0.2652993834981138, 0.287255135413458, -0.0516687032798009, 0.09102411500086995, -0.40467997738800837, -0.7622618106476223, -0.23545159185371387, 0.8832962688456454, -0.09778318379839658, -0.29953036387079884, -0.29368995359239497, -0.22008000510833467, -0.14274161980035158, -0.4510582805551946, 0.1012553321226679, -0.4358776489083697, 0.13586445453789853, -0.5261686167054861, -0.4424380760566284, 0.09963451699269456, -0.46462035926874107, 0.23097995412618055, -0.41920334817599764, -0.12145305909903795, -0.023823236133985064, 2.035380304793982, -0.8162039364166154, -0.8632042362180272, -0.782982335899197, -0.36026506014727055, -0.2996236840886894, 0.8035764854247813, 1.1026784220010144, 0.8265528175281646, 0.14142985749943662, 0.001888892963499073, -0.35053552485763334, -0.6026918266683433, -0.6781071492316524, -0.724740579501158, 0.26512391897202686, -0.6392639704108876, 0.15998916283448417, -0.1998566526801203, -0.09558469465429062, -0.22340167501339875, 0.08339306354435182, -0.6034014768170873, -0.44299330934691006, 0.7813176997652451, 0.1623162112169347, -0.6130170949688961, -0.08259995327522889, -0.18179625096670365, 0.4609132592100978, -0.22917527751070998, 1.648409436417156, -0.6925173457006149, -0.17385988664201563, 0.27331407842238936, 1.726610413437826, -0.1849123556357546, -0.2260849486491392, 0.5118317592172525, -0.305454256519812, -0.4564447160938683, -0.5447719257720174, 1.3663772774612475, -0.24725850536305213, -0.33880434217443534, -0.7978471445018682, -0.2743986799148156, 0.24532357419358805, 1.9267270378069379, -0.4360088558927616, 0.002092049551161017, -0.3173953151668282, -0.5370917724959708, 0.7389129829985325, 0.1268137313426747, 0.3323361039501935, 1.3040947187510046, -0.15601335531848443, -0.010356017007733385, -0.3007533805274645, -0.10265506800238153, -0.4929523446878492, -0.311403991384265, -0.20788603729700736, 0.07984064246069054, -0.9875021684702541, 0.8152332010971485, -0.46389780055710006, 0.21185260191474778, 0.7862729388565995, 0.11677505995344038, -0.4007193022172144, -0.7514127668224128, 0.10706129083653501, -0.47737658200384875, -0.26790102242468283, -0.3497518590051028, -1.180229335482121, -0.16753358491351691, -0.8204523522639532, 0.9292296531012799, -0.13205970476040346, -0.07736068999307671, -0.6067150575881304, 1.7192823253809384, -0.5128091918225128, -0.1267281976676714, -0.04503121430103894, 0.31993983796486397, -0.4680469423468969, -0.4858169675055526, -0.2834044647023667, 0.15575525449867283, 0.7413030217869601, -0.2951488475740163, -0.029011403931739066, -0.08004237875100137, -0.8974061772254676, -0.04532774766689463, -0.009217593654837004, -0.3227910337048789, -0.17517871295614973, -0.008456419363694168, -0.5059388960043786, -0.6245919062765073, -0.5995767988999825, -0.16948990564724475, 0.4812304498868007, -0.3682351163372561, -0.32456368438344574, -0.18171092386851986, -0.07814209403519447, -0.46382658771214946, 1.7180513832923243, -0.02416038996047353, -0.6357031768820854, 0.13973407184455552, -0.29114749787510324, -0.10875960435578666, -0.17079245365628942, -0.026096635683958265, 0.8439207420639762, 0.12381477165527198, -0.09749763211903194, -0.34843340788697796, -0.3259419326326179, 0.1264914231534537, -0.8441606169756849, -0.1669916055269239, 0.009758950077439887, -0.4954017477417168, 0.6977370450366905, -0.7369051622583946, -0.3794031763730851, -1.1171211387810225, 1.255478463793894, -0.5128064177762763, -0.650270883797075, -0.2783406071797664, -0.31496666472628587, -0.26170440829281105, -0.46159724981789313, -0.4263827383908548, 0.07808179188543037, -0.12285025360411302, -0.6013241374770231, -0.3402019605596292, -0.23183746362530644, 0.3537290822202145, 0.21552506861266182, -0.52312722270249, 1.2728555427601, -0.13008253564468872, -0.44276349236117785, -0.42603375830330326, -0.29468313107582944, -0.5556593623316893, 0.0990899695832032, 1.3978300025596677, -0.0042747900691735416, -0.6142474418906388, 0.37304444571832196, -0.3186918162085983, 1.6062457665152179, 0.5786083232670144, -0.03542590110250506, -0.018698168377766004, 0.2101779853241808, -0.14739249828848794, -0.3963137898938603, -0.5797293032564974, -0.23310208993962167, 0.0636262862775793, -0.2044426398258589, 0.09524635810966543, -0.8841831148406561, -0.39353991457388926, -0.2529138022157567, 0.2973659201708027, 0.8182393734309932, -0.5245027031301519, 0.16767563143994743, 1.9692134921959674, -0.5643409455004251, -0.47905330866344586, -0.4009905066981696], \"z\": [-0.5855582191447312, -0.4084906524628536, -0.3649814472827242, -0.22149539595125164, -0.8604254443893905, -0.2572709716740835, -0.4148637750341304, -0.48628392583792723, -0.5075112230365526, -0.17525065856686498, -0.3137351952020649, -0.3453808246222449, -0.0329686592280308, -0.29130807621412, -0.019175227309291023, 0.06365284809345957, -0.4228946016930601, -0.5978534181177015, -0.03593109530221463, -0.37313288463613575, -0.2646030687842878, -0.3234323299267975, -0.3126457089447999, 0.22855356237697472, -0.3514306753938899, -0.39570560147277484, -0.3764594804597217, -0.46042732753832877, -0.42701574247918767, -0.3914228644226096, -0.5074996670350038, 0.08213552165185938, -0.68499104121709, -0.48022815123307644, -0.29466548408894483, -0.2550076117002699, -0.18790317118727345, -0.1873923285233062, -0.19563221530207056, 0.26187754551142894, 0.5113379579617391, 0.1886235352858795, 0.1866656099877807, -0.019731503119929605, 0.3238441458613126, -0.1533104838216089, 0.042426224015922866, 0.1410640581910002, 0.1634486525012335, 0.15254687072622386, 0.03807072981539465, 0.2648983754213639, 0.7422846920145524, -0.04406827030854829, 0.2815950473714844, -0.07275686863495445, 0.2539554755992555, 0.1920098345944279, 0.23606363112611187, 0.4273799496866244, 0.1329370765267533, 0.12304554282466125, 0.6250520071560103, -0.022007674481481873, 0.1378906291266606, 0.7270794610173971, 0.03154815259891428, 0.3731318712398681, 0.2742549572494691, -0.18744080420251286, 0.06307418919325283, 0.3239299609602008, 0.09769587403544333, -0.05038786626483055, 0.058566222689598574, 0.6427534346552953, 0.2825281181548593, 0.06545935966508441, 0.09103134329227433, 0.2706869980096324, 0.38649655267071226, 0.6314960129449478, 0.10042066372132659, 1.1449441596970464, 0.42478390437213287, 0.337527474268282, 0.04246966673286253, 0.26365842069497253, 0.2882613348998345, 0.13273906283162326, 0.38324506952306664, 0.0880274805771115, 0.4034746505720973, 0.4193467914692131, 0.364103554485217, 0.4821905325815716, 0.5322413062389997, 0.7533211417262067, 0.4002136549144655, 0.730328189868147, 0.27196112121546157, 0.3349275128365248, 0.050660038565146455, 0.01560490595531644, 0.760582680665375, 0.13534930436208228, 0.6960643454955033, 0.4096820432489806, -0.15201106406567602, -0.12946224458634284, -0.27629026154275643, -0.21841691924484333, -0.18479473880451625, -0.3807869817402631, -0.12753929777867673, -0.1995002637498424, -0.30761288528787933, -0.29294466252595985, -0.253629196528519, -0.18525690205632148, 0.13731633207799473, 0.01318012605002028, -0.12534071483906126, 0.14705230394343127, 0.10691547639153846, 0.005872184615498649, -0.027817359306133993, 0.08507243553743375, -0.1242918076656034, 0.36654271835454727, -0.0186112458768366, -0.4106821648398978, -0.49733017153859416, -0.065673278857151, -0.22649514230143167, 0.4235518708902406, -0.337663307862656, -0.33815357767758975, 0.01880384650765404, -0.1908957413370553, -0.1770305829555224, 0.13715283509722434, 0.05542487763146283, 0.44090293776431266, -0.16655682651325285, -0.05145749360390874, 0.4554768561884034, 0.508019332678264, 0.5383418990499902, -0.08605627249417504, 0.2540358033281015, 0.3376884399137321, 0.42794128327481495, 0.7007107031127122, 0.018664159289008716, 0.09603958805512969, 0.0024430606969553198, 0.13420696021967654, 0.12477198410677118, 0.4919800149637592, 0.6491232805793817, 0.2222896099408542, 0.17059027776807953, 0.22667859761052186, 0.11198522863724356, 0.3373379727831091, 0.13723223538675633, 0.07222832737311899, 0.07257050470854491, 0.2116544174942768, 0.45389694520637264, 0.3504676023582419, 0.6250275050201987, -0.09573874006968422, -0.009088503429524246, -0.01440848714267874, -0.06965690828405663, -0.4702147765318393, -0.12987169269253504, -0.3186092323912438, -0.05444740163823268, -0.37026088978069044, -0.4097459634904408, -0.31473879223447465, -0.08847584149052368, 0.015576118507319993, -0.24428812274738532, -0.22252314712113694, -0.23058557322798273, -0.5703994907872445, 0.10722467422001065, 0.24981130581123526, 0.21159845405257166, 0.2549112455758175, -0.18634098147109654, -0.14618285536760747, -0.14280221539923305, 0.09493034765942229, -0.07689240342863635, -0.17553167693071162, -0.2509074118976319, 0.09549577820208116, 0.10078368465169499, 0.38285754186456356, -0.1395675242441836, 0.062276610150866836, 0.3838564239280812, -0.1714439546483142, 0.29624460758830706, -0.13182961669111273, -0.002781951287656519, -0.08361713893705001, 0.09732193884936156, 0.0668898330464196, -0.1808346145467345, 0.3626841473238915, 0.08916944935441798, -0.26947495809795546, 0.1198763869435914, 0.23980084551215206, 0.11646367145528565, -0.0277370401216195, 0.13823910095808742, 0.10468577724117874, -0.045694972577442344, 0.11222853310704747, 0.44476378485299356, -0.05729383139705073, 0.3491091455196137, -0.06864694276860829, 0.15429029894823065, 0.33593599368731025, 0.36056238046712114, 0.08799332410869463, 0.5313283600362274, 0.06557134803849975, 0.28324003355237304, 0.2775526790195552, 0.26843797938804315, 0.4585371590882941, 0.03955874551049909, 0.2661921423404021, 0.23218464189082766, 0.18529249459339378, -0.09725889326908137, 0.3444184013002586, 0.26378978236217066, 0.869760446462573, 0.4043701256272683, 0.3115826468031217, 0.31849715441645854, 0.2852218191382239, -0.1438921185674333, -0.2905089249814083, -0.14007734866999783, 0.24331617943269615, 0.2283103933164728, 0.9803574550940102, 0.6809449158451619, -0.26314575849289784, 0.3291838589019389, 0.4097820463311946, 0.25336244447270884, -0.08565718395247597, -0.13884421402651845, 0.2697081769870063, 0.21356324054690312, 0.14899569603278745, 0.2293486198611903, -0.01796550755981421, 0.04446554724064113, 0.36527201102432505, 0.5570363787023259, -0.11866448086135392, 0.0850067557948302, -0.17602602198501968, 0.10681062729536249, 0.3484788588502051, 0.5613920808538706, 0.16253757594956186, -0.025447852140179708, -0.28207592970298706, 0.3899619888293899, 0.1899321911233549, 0.23251841332495052, 0.3840908631274305, -0.004402600983487777, 0.11699232441476357, 0.19393920451307253, 0.000930463359756105, 0.1404119592842979, -0.06775535302836094, -0.33029976761659224, -0.3194799569858499, -0.06420792821031816, -0.38847911525429185, -0.09254587226462256, -0.16942787938844783, -0.0847782754977986, -0.021571889591584487, -0.15948004916019035, -0.29460549700024596, 0.05335824421551897, -0.22914023487747398, -0.5305794446678226, -0.2990075669111006, -0.22997248422675864, 0.13489754135426435, 0.06001924565138331, -0.39131097445267354, -0.2640544754896953, -0.25052709542731827, -0.18358867742909862, -0.3980731591318301, -0.11245586382807965, 0.24423312751794352, -0.3970856883235821, -0.5283780189254029, -0.46500738960253657, -0.7158113732474158, -0.23217617578754618, -0.3720532208731048, -0.19263996541746484, -0.398804333112801, 0.2884381959783063, 0.34851452899293556, -0.0761395812309137, 0.1566802231810747, 0.08767350525685556, 0.006980558147045467, 0.26593891379274903, 0.05815927625357142, -0.03410381468531916, 0.2577355479781921, 0.19579491799030851, -0.141901145464445, -0.05848560694100812, 0.22968410139350298, 0.2993750302378109, -0.1051436401696629, -0.0669811789354854, 0.29798661114985076, 0.35007460121866824, 0.5471351488356342, 0.13233745925422072, 0.3486101705493384, 0.03886161754820196, -0.1953614185160595, 0.1460298006212017, -0.169917803252646, 0.5320568509115364, 0.16545219624219967, 0.32975421759965995, -0.3458142233553613, -0.021153396554466273, 0.22926846381547397, 0.0726588750963147, -0.018383668100303247, -0.017488662150008983, -0.11383415984472892, -0.5973507590561774, 0.11745913061615545, -0.15718277138571954, 0.00924607898223178, -0.019541203267610004, -0.24501932768725376, -0.01753808142662501, 0.015165706549660464, -0.13869566548267773, 0.034724875595943526, -0.00791765800515218, -0.08222520336346124, -0.3473524873917813, 0.1949533911522771, -0.3320982619487464, 0.22768890823706364, 0.47329173015022563, 0.014858493958773129, -0.24461428223770962, -0.14957256558713464, 0.3649455121209598, 0.054278247942177546, 0.3183084130988917, 0.06597280748304242, 0.17781352778059661, 0.3917839345843645, -0.039377543385092015, -0.5236241869870626, 0.264430323784916, -0.12979592559043432, 0.15962257531068966, 0.20929326241590462, 0.13521009273363543, -0.28130288094327877, 0.06820769081559817, 0.03413641952957413, 0.16245334340174952, 0.10493604654120695, -0.05409285051686659, -0.26656569609838526, 0.043953192228148925, -0.07870345118046136, -0.0574984354055901, 0.1796411643651956, -0.3427023213388346, -0.2822665992641311, 0.2212145546981264, -0.12864298168648783, -0.02313133716552524, 0.009004773664727638, -0.08490468151792846, 0.017244636163205502, 0.046083881048371016, -0.05832996046695912, -0.24269649625766462, -0.05961869277895087, -0.015360129882149137, 0.01722486266067613, 0.10472993676586939, 0.29249809510574154, 0.08306021454318537, 1.119803124070261, 0.028757909663438393, 0.4003685930178776, 0.1493071379729435, 0.2297369621677027, 0.344765918053339, 0.22728980228819684, 0.01197347119343204, 0.03487345211419673, 0.3578838662441571, -0.10768339409018832, -0.24505448137972638, 0.3384272952090295, 0.4379458466206462, -0.29433406680675916, 0.21698927878596422, 0.06480119764432586, 0.049990830998462014, 0.156912386995327, 0.2977891769198387, 0.3642472832890349, 0.24618354819441401, 0.08544286782175503, 0.8262684504339882, -0.0008781389901917716, -0.007092854323247697, 0.13770733617727962, -0.08796774198762962, 0.16676263343662284, -0.03994711267673663, 0.6193921340901174, 0.16321420696389835, 0.734894272892397, -0.02507667618482561, 0.2701083661455839, 0.5180382798900084, 0.23307646355511155, -0.024072497950556805, -0.1760589125300448, 0.024335360245628657, 0.43599279238036986, -0.016980003485001206, 0.4712060520456845, -0.0037901015445804525, 0.49691172298952174, 0.04887364193241328, 0.09301575442716481, -0.05033858303255552, 0.42618517775439435, 0.22140990351375434, 0.28952458981232315, 0.44664049550392315, 0.5314467873071714, 0.17678568151523402, 0.19960264412908332, 0.5481630829372658, 0.29153567806243885, 0.5438978602521445, 0.11669602773665583, 0.10045470372194716, 0.3029764731168807, -0.12567721564231654, 0.388039439246383, 0.668682629488665, 0.34918444104799967, 0.23892921833066036, 0.3381354617598498, 0.2814627970609473, 0.39608787536533574, 0.3548860982925973, 0.48698353157382346, 0.2997398670092462, 0.4497111218835884, 0.5617410135086018, 0.24117511383636647, 0.22828233423454183, 0.39634140755887837, 0.3362981745613403, 0.29348220085294313, -0.1572653863740904, 0.32862571932146634, 0.353829814749713, 0.5450473141882726, 0.6865101502176396, 0.02741337028546082, -0.03552971876973992, 0.3334818478847048, 0.6567473667431575, 0.34569624386799835, 0.3862939423177981, 0.40458118388889086, 0.2324278278561898, 0.4647904121565738, 0.8791659501011073, 0.3164904337920567, 0.8344137464836259, 0.2729268057409444, 0.27959581434710096, 0.549730856879147, 0.4170388702281392, 0.12906856120162297, 0.29341206706920275, -0.025390827082603252, 0.4642076482905954, 0.466498941679627, 0.25964139442543965, 0.09160580680680362, 0.2099449253477919, 0.41609576856210284, 0.2343979975381755, 0.21671183646438347, 0.4531486730759824, 0.23177944714797447, -0.2078029159633884, 0.25207242387741535, 0.024104368917941394, 0.2714067495560298, 0.09372830857665136, 0.27360163039178875, 0.19021764986027767, 0.1632572658193125, 0.25053255162662713, 0.3480909502488812, 0.4050803941141992, 0.6437474804805913, 0.2792455926868193, 0.11720607356320427, 0.4054767186687547, 0.403670143301096, 0.4219378174479019, 0.7179083393434069, 0.01572505232464611, 0.05216058176796642, 0.406260420837226, 0.2906566093924214, 0.3963887767739018, 0.9444157591252181, -0.23570608082829114, 0.2144949731663585, 0.41235192501060286, 0.29902468108230557, 0.008172325350073449, 0.4279848058256438, 0.305853434623095, 0.2352071991735845, -0.1327056365171721, -0.20970995633124948, -0.1399008666590693, -0.05666068986105343, 0.42728043755742207, 0.047623710980598186, 0.3304345172987112, 0.20629719279612937, -0.009531045667990632, 0.4400889269980932, -0.19336257470290177, -0.08904760838808438, 0.12694486958279388, -0.16710753298675368, -0.40000400385104096, -0.5470636400397385, -0.03512204190619311, -0.2329425255816234, 0.004067455463686358, -0.31044192074235905, -0.37497056249672495, -0.5197598037680164, -0.5581884751695108, -0.36329654826884233, -0.2014858293826024, -0.3796211610481708, 0.029811403798306477, -0.11979197241305198, 0.034249725882043995, -0.10064560135129227, 0.14442332261414137, -0.397335469110059, -0.4653746927374244, -0.20995539827627335, -0.38239443574575155, -0.3332934728478853, -0.4392424465368447, -0.08658952461961374, -0.5101174296623322, -0.2078160328136217, -0.33269672358204383, 0.26734248668333516, -0.4933837154804018, -0.20465184256989247, -0.10832890532117388, -0.32589640769315026, -0.33889596122575566, -0.3360207736534023, -0.035060047382024326, -0.35707410493457575, -0.4846374623237611, 0.252302510119015, 0.37630490535656286, -0.20990696603622114, -0.007904304678237465, -0.3290275930862411, -0.3464098543947857, -0.12274797136996593, -0.06505932243460917, 0.43463167856358476, 0.01303141432038497, 0.24903502163631483, 0.0834024406953582, -0.039234857604223586, 0.4129438459403515, -0.027498132703933177, -0.037634602078274355, 0.09051980023855931, -0.22477157665324188, 0.5160001833349235, -0.16766926630948484, -0.3063219957209873, 0.08572823831096793, 0.24036824247709712, 0.14849460099422424, 0.5021989792989475, 0.17775525425129615, 0.2509829568766674, -0.0382041741022763, -0.10805567939723733, -0.17136150176662152, -0.04228147785530979, -0.16882576232024807, -0.3121701402133886, -0.11553367018299272, -0.24018126616786495, -0.2596297276727693, -0.10720157823566961, -0.24788877940862727, 0.34408115738418404, -0.08572615700799033, -0.13912744519118628, -0.026946171239120787, -0.10821419713392083, -0.11818931455193453, -0.018035610736129443, -0.16678303808482806, 0.464618716777912, -0.019768944663338926, 0.11398323545562554, -0.13577271606757838, -0.030836660575324474, 0.021432634074892896, 0.2968890034004379, -0.2263940941343072, -0.28671494039766443, -0.2057218540924178, -0.22023237911371274, -0.14635718071422116, 0.5634479867881546, -0.04970449446188478, 0.06777904841442296, 0.11903897422972158, 0.09069407680290358, 0.10628920709844593, 0.03536964165631028, -0.20277818819637106, 0.35237377977787904, 0.18318033176312243, 0.42524539104174325, 0.22134547449173897, 0.056196186888155655, 0.06997244555012315, 0.21887262482329858, 0.21792053990453933, 0.6011834460927834, 0.29651214247693236, 0.13995072818282575, 0.13616906602110257, 0.07618973279702984, 0.11849374657254841, 0.22459455282609297, 0.3464598686345389, 0.0385188020360898, 0.19629566329293072, 0.449632948390706, -0.046661813666648004, 0.2569872004177454, 0.09038648367713562, 0.24639169069129024, -0.27563394110684925, -0.019867179301363287, -0.2019176349862011, 0.11845723358988751, 0.1590646699491662, 0.2653658563227382, 0.1840850020210498, -0.16442042613200702, 0.08992983516914956, 0.4722436647621592, 0.06681525445948072, 0.4316458126845449, 0.03535324757907095, 0.10528532618945002, 0.1920768089953099, -0.47455854119993596, 0.27359285520355214, 0.14024894266462412, -0.1151706440467759, 0.3118869388681489, 0.7498103451905692, 0.23450983931071118, 1.2125650844249032, 0.25467572627415425, 0.04400673232642829, 0.2852577257603937, 0.34622400528367153, 0.8777918209791264, -0.3417933000422208, 0.1088920549524442, 0.042996673032566546, 0.24806734634911362, 0.0832600880530865, -0.025872326467753295, 0.26399115766437853, 0.12250005115884516, -0.29212478746364895, 0.20502567273695482, 0.2503944885466704, 0.3507714427814579, 0.014031757356600479, 0.3597059930921159, 0.18532953146317163, 0.2311911172673532, 0.32239057298951534, 0.05856740308240333, -0.2820134069378986, -0.007530656868495802, 0.1757903469072864, -0.13106593829506197, -0.23530035743948577, -0.2782835771443698, -0.06266877355170151, -0.2012174492552379, -0.12612048411794263, -0.013178635810560838, -0.01731018859960641, -0.00801971691592564, -0.05468707348723561, -0.07531077760648093, 0.4464286760849401, -0.18263910356193455, 0.027192681112849407, 0.21711868491052544, -0.07763424150063106, -0.046317043235179996, 0.05716541433783129, 0.26231139600837766, -0.065951872922017, -0.1424499151380253, 0.28930401970407504, -0.0810248851875912, -0.1426107385692622, 0.0317248962078661, 0.3972697989075595, 0.12465145255183938, 0.2945868366780843, 0.17483472442005074, 0.3498223911434063, 0.20747947657784044, -0.06896593216008233, 0.2648332308729229, 0.5098112390581371, -0.16101852085792473, 0.45661499103537956, 0.045749515039423934, -0.01021122511874103, -0.11427875032545814, -0.17597928773394556, 0.06592396190864346, 0.1486008249430207, 0.1982410406081689, 0.48977549338489135, 0.15922363260803019, -0.12100518729337928, 0.46871089641638913, -0.0187928521050446, -0.020918392009302483, 0.17070304211756474, -0.3432541883580354, -0.1914402741124129, -0.16319555567706795, -0.040040255664960424, -0.05793142503450343, -0.1705483374571263, 0.037612043905721454, -0.21773838829446732, 0.1452757646848346, 0.3310869904941284, -0.345379550021333, -0.06361966097810123, -0.19816498968746024, 0.13275942649419128, -0.10827264751724619, -0.4022784423004042, -0.3868802330684143, -0.30891687594616807, 0.08111299421555723, 0.36607103556616266, 0.16682813859056944, 0.04340457433685049, -0.6509160493350025, -0.29040378202381995, -0.5948839975652886, -0.684487624344684, -0.5122800453920433, -0.5786572322942866, -0.356626378407009, -0.6000789029607232, -0.5634409436193375, -0.5378759979863279, -0.18687713454523996, -0.32026710585379475, -0.3749492378036966, -0.4088254115597952, -0.43043259841875514, -0.6143757999496005, -0.6552887081089064, -0.43380605189357957, -0.40966121470308614, -0.23843769772332205, -0.5636183998331111, -0.37391449652045305, -0.312448315224921, -0.40524763834901667, -0.5305987857512716, -0.38610029695700193, -0.48790507968015334, -0.18680004564633715, -0.09168742991813318, -0.11051135241238243, -0.15967569831199285, -0.010632154627713256, 0.852532283918438, -0.3651611257062111, 0.38871757620858904, -0.10724016069326427, -0.3576942533431366, -0.1633127630727294, 0.04278839894838257, -0.11856359019225696, 0.3355380831284461, 0.20860351049261816, 0.5949416556097676, 0.9529197791083187, 0.07200202750087584, 0.2037412985037396, 0.30227000781291397, -0.20406095446695416, 0.2845953908544405, 0.33478331345148593, -0.006353956959769418, -0.22820472155063093, 0.40694636224224473, 0.4240066366064445, -0.02891640587991553, 0.5750123686024591, 0.053994568358398255, 1.1858425810414623, 0.08813868149913362, -0.0804676069961716, 0.3282329675277955, 0.517519728914721, 0.14151330551025665, -0.03654523465978576, -0.06410122279586883, 0.2191175375770551, -0.048580212054543166, 0.561435181554426, 0.14787091119836673, 0.38447187484052514, 0.4076263005276049, 1.7532045044218283, 0.37597722652023263, 0.2130394592521526, 0.034344737105637124, 0.025934157220486385, 0.9767374872831127, 0.0012987608349686868, -0.31192191322907936, 0.07406274015090551, 0.22955689235937712, 0.46012229867418997, -0.10650107591298909, 0.17731260798264561, 0.7444329871467986, 0.7576295885277821, 0.043457437163173504, 0.7117382451995229, 0.20662346771029344, 0.16851958724864696, 0.15705478238150125, 0.004021965198099805, 0.017521191682252395, 0.6130998808331997, 0.635747275630203, 0.6753919735630465, 0.2770085230191186, 0.04858397786265215, 0.5438899845800759, 0.2893484624120611, 0.01190255317785192, 0.6575876359797038, 0.5154313342293838, 0.7895926936152919, 0.3924313671975789, 0.33232283003563085, 0.7224462224678625, -0.15234456489917975, 0.43274651259644226, -0.16402404970168977, 0.20862256510424146, -0.012685087991809525, 0.2672061287037682, -0.10790399604718587, -0.09335381992041678, 0.9317156059235776, -0.024866187521125866, -0.2462136886796424, 0.5296933487839987, 0.16228951756781346, -0.2116595235264792, -0.030384844961897455, 0.7252383273457924, -0.07277280302350864, 1.005698984961422, 1.3434465147567076, 0.6701050725980637, 0.2912169458475125, 0.04492318044546067, 0.4830888290064147, 0.0696684267414356, 0.7684099584832067, 0.3856480726993392, 0.7603838109829212, 0.5501397843742547, 0.08699803129625681, 0.261045276796197, 0.13166494867640655, -0.3387026780556768, 0.27708476773680635, 0.2046664160707916, 0.11085400187712736, -0.006264783958561669, 0.7777950219823383, 0.07981448519027214, -0.11005456537784822, -0.3163273716051918, 0.5562690630389207, 0.3560584483605678, -0.001241610435925884, 0.8732447104890761, 0.2623185618150572, 1.275702167108141, 0.3577059216692074, 0.18415251249075706, 0.12063100418003782, 1.0792991527629001, 0.034208186305779445, 0.29179972545541444, 0.28948684009764963, 0.6200823800963946, 0.020293457544195353, 0.0276256251195381, 0.6292724478155682, 0.13802566279697687, 0.26131348795090564, 0.4046192149950591, 0.3862185577387341, 0.18513967694463393, 0.16061394912358395, 0.5800627504294172, -0.09564739470413887, 0.34181858529697834, 0.537040520226638, 0.15043548898603593, 0.09424405039804161, -0.04385443363562571, -0.26586390278977645, 0.4726723655818759, 0.23712125217186864, 0.9280325993412856, 0.03846548715806095, 0.3404001077838624, 1.1569909437802668, 0.6422206312338966, 0.026521224637259005, 0.17837251682723285, 0.13255000192917837, -0.10467150474334755, 0.07835648783907279, 0.014723344117626169, 0.7287883792017327, -0.021282771256275233, 0.39521551504272107, 0.07860380210219386, 0.20047071996600538, 0.38226928546297484, 0.13914964414980802, 1.2543212235781112, 0.2877058391696944, 0.04713845603896581, 0.5362112694103736, 0.22744959138583248, -0.3322756828523338, 0.31938252164774655, 0.02753408626758383, 0.0031148754368201482, 0.17977135564577426, 0.49529566921419876, 0.002594870328119543, -0.06815416180796129, 0.35374883382902117, -0.2310404671962415, 0.6601596360922125, 0.2863326116364192, 0.06218178396907561, 0.5440633780633843, 0.39094495404238355, 0.059112926472074064, 0.3475391184941211, 0.3839306937277024, 0.6744569393544975, 1.1123746153799405, 0.351644464407003, -0.09157453690323587, 0.12826182711219547, 0.19768333806747743, 0.1846763609230306, 0.21228366540141197, -0.4869994965355969, 0.38256371513528936, -0.15403810612929442, 0.05114252352349314, 0.641164633035203, 0.8348291218342756, 0.12159949915739718, 0.1410365416300659, 0.3980128109398957, 0.009606462697547976, 0.4670276248889211, 0.12622496662410942, 0.13306701554140904, -0.16364344267617073, 0.28392461701098726, 0.32182004437422623, 0.4480423850989337, 0.11444962080735133, -0.1366322612856834, 0.270779543348771, 0.6808015919500807, 0.5211190562064847, 0.16802414389679549, 0.050179806350241364, 3.1609188089859175, 0.2870158444262891, 0.04741828418028803, -0.09724482455021669, 0.4537323752000513, 0.3825282953441009, 0.014727582593195856, 0.1942614755551244, 0.7306065502136867, -0.09749992111194117, 0.18825330632689458, 0.19108884671242612, 0.792765607939748, 0.2416304131579069, -0.033313717204950875, 0.2846855182209112, 0.031184261133367475, 0.38239845005663436, 1.0520372047755153, 1.1858425810414623, -0.00989625175972393, -0.037204449172082654, 0.23922436147392243, 0.03245699501505949, 0.5041298477138967, -0.2067441399870165, 0.04917936679226924, 0.38061815092594475, -0.11449744695162063, 1.9481289727973612, 0.6142288100604515, 0.5723392265481341, -0.22602825180884328, 0.2833265289571045, 0.293559222642666, -0.08481460340376913, 0.5924053324991246, 0.8016953531026213, 0.11694013125057506, 0.5609894179404546, 0.6751030284012947, 0.5722631678066002, 0.15520762840295657, 0.3403034286675504, 0.5763087766969083, 0.1751826442451283, 0.2588400633029902, 0.16942768012770745, 0.5020245807669884, 0.1966959114956409, 0.2801185957592326, 0.14599701448896868, 0.36967072541417206, 0.7823244667213872, 0.00845401843459514, 0.09241552255621778, 0.3201364040168191, -0.23791950252569338, 0.2942693016041973, 0.6586931243151641, 1.6899870263511914, 0.26030925299503993, -0.030655891968382983, 0.008170826349747692, 0.6637440831795016, 0.13789309589045598, 0.3030300067398896, 0.003980558153875514, 0.2277359068237096, 0.5786394267619847, 0.20533042312009142, 0.2016262039643979, 0.08975885915350137, 0.5178457135969793, -0.2014248944149288, 0.43994599242695653, 0.24367706861936383, 0.10220239646104608, 0.17208080080556484, 0.2708754043815459, 0.23228239298850695, 0.33628606140508294, 0.15318562602818903, 0.21006624569959187, 0.45008139028470495, 0.10909688115104599, 0.9219071701405637, 0.5681545220386433, 0.15020465199758526, 0.2067079009677092, 1.3343888115658065, 1.0095594028733739, -0.16970479588147394, 0.054434191629093714, 1.254315105550053, 0.1250073642301501, -0.23175587241181395, 0.18050517534478322, -0.05177553472869719, 0.22004881303885956, 0.1468412377957334, 0.07941377464854055, 0.00418397118542091, 7.265152372191e-05, 0.5611554803716272, 0.7793526837972848, 0.020708262689583385, -0.015567366088575755, 0.9462905964883896, 0.01893769825071302, -0.26693161242738284, 0.11843422628727256, -0.10776803360609159, 0.24400421342170894, 0.44657956300132623, 0.2956434685510175, -0.16970576977020976, 0.4193204878873279, 0.6560792348435043, 1.0131828488327697, 0.07839178509892608, 0.09930907007990411, 0.5934636709139787, 0.3298472845028567, 0.28777152074096746, 0.01713195323573974, 1.2965754533232767, 0.5968506505564386, 0.7467856054889584, 0.9064692592337092, 0.050437021795305924, 0.682269373935601, 0.3078577985944001, 0.40865832474416663, -0.11284200222473846, 0.2549503688118864, -0.05814095038965122, -0.19021716627724952, 0.20661044752170554, -0.1330586307484638, 0.25316728448642534, -0.15850400558355787, -0.1090632083890795, 0.17947890246395562, 0.5339958014643725, 0.0946031673289403, 0.05917697986767178, 0.2383206751396851, 0.09431678328860495, 0.20946990235890436, 0.8341497955835211, -0.009027363922692197, 0.2616756885764439, 0.3408231378629489, 0.2324212415205158, 1.3927703725388592, -0.06167971240183707, 0.8401156180369895, 0.32172657256353543, 0.3331646883999738, 0.5495837148824574, 0.33338314678543846, 0.004299109444352266, 0.16204725547654955, 0.8741293933165961, 0.4548822897019648, 0.20704757245265476, 1.06833476331236, 0.23850962850484467, 0.10198916044758463, 0.35876136023147914, -0.13309866987836008, 2.532013295264401, -0.06343238251846818, 0.38603459019953845, 0.2203097379866644, 0.2419837171911325, 0.41673631968161795, -0.10699568828465648, 0.19056632646526048, -0.11015627777598241, 0.06602932759504027, -0.12975731066399146, 0.2577966413252694, 0.11335124626052401, 0.0050382779357339294, 0.1292084677467651, -0.12580329314529654, 0.10432167798905762, -0.07113728727012175, -0.07541890843688964, 0.661815089551026, 0.3398391043509776, 0.3150565427385304, 0.14954720233760793, 0.8518821428975425, 0.5860159278383195, 0.380989020381581, 0.7436407639517826, 0.3866087599091238, 0.3383251088406945, -0.08922271252562636, -0.036805808400171794, 0.1110225996604974, 0.1635635069622759, 0.22423991646955768, 0.7672031276243605, 0.07826169056020257, 0.6026660356472592, 0.3424759344473084, 0.1259913643733642, -0.22849925329898618, 0.5773804392266788, 0.2018910884248822, 0.6268569139777277, 0.016822127328540406, -0.22301613940839116, 0.316452421414218, -0.4819575563627574, 0.436135704643599, 0.8374876934707208, 0.33487730995910137, 0.520945928827739, 0.5382484136279089, 0.10450737822230194, 0.05250141543403072, 0.22640845978917354, 0.12544394672707676, 0.30867880360255656, 0.2628973262913575, 1.441989298485611, 0.16284572488693375, 0.6342039194156521, 0.37348095675683374, 0.7837333805079649, 0.05933775639798554, 0.13477477269120172, 0.22690931243195034, 0.3764864884388153, -0.11970639659508976, 0.2273029391596805, 0.08072107820891308, 0.48389443025361634, 0.47381268462111215, 0.691376563544356, 0.22070200151024508, 0.35097309548588357, 0.3456691604841212, 0.20898269130642555, 0.6042590947796787, 0.14105343172018336, 0.10315273878798643, -0.1488846127948428, 0.38082015813488235, 0.22517845805041353, 0.05737406416645774, 0.278962093693002, 0.7130051058595331, 0.41880697168579856, 0.2622484277646856, 0.3471437171553191, 0.07841224623349721, 0.7066865931122537, 0.08352033020094857, 0.39149189736863893, -0.07663297946019723, -0.028044099239451246, -0.053948854258430184, 0.09883075892200427, 0.32049623256306076, 0.055767405748612955, 0.36909726958881267, 0.1274802692419306, -0.05357922038664618, -0.03921494668440272, 0.23288702481710188, -0.10315324547580942, -0.24563018541885234, 0.252015436014778, 0.19180249670594837, 0.2307974906919453, 0.4835565431015433, -0.05344046490108509, 0.8123248132509993, -0.04706167978722371, 0.9065365358186945, 0.6213912720239739, 0.060430180071931815, 0.15494718557134385, -0.13122240207547728, 0.49521234257677726, 0.3542459710234973, 0.3036607886146642, 1.7663547242637825, 0.4177375721294916, 0.03393709920258192, 0.4031416085540285, 0.2436178359830343, 0.17118264970793, 0.25029315549041375, 0.05145012018018013, 0.2832363433111317, 0.19194573505490395, 0.34268228468566314, 0.2961911907026247, 0.05254815353077579, 0.10273402062870877, 0.06252116476066975, 0.7153343435029759, 0.22701630081748939, 0.28352152447538587, 0.32391034986702383, 0.15983573901415576, 0.2468795436110587, 0.1786075013119767, 0.4186996717747253, 0.09946010653665385, 0.1481683824713873, 0.14996607618136304, 0.4185479600419469, -0.14261054922987423, -0.07797749196360378, 0.32837173011991827, 0.6501891043711261, 0.080250735962672, 0.36382424902938487, 0.44819693377479175, 0.06466318535005161, 0.13288062148204668, 0.19923811655123502, -0.20362234075926028, -0.10740181147279519, -0.008365354682762805, 0.8155560324767149, 0.7258814008060472, 0.15533630581130936, 0.15043053295946898, -0.21360663799031787, 1.360341072433948, 0.23129094969032415, 0.7486347036058687, 0.25031996029066683, 0.292943607490587, 0.9955255113432236, -0.11038025264545225, 0.5667418613725922, 0.158084690154025, 0.6368785624141827, 0.02429879922224192, 1.765352455694801, 0.13504986313925163, 1.1477239983910836, 0.16394930779917252, 0.34781685599431594, 0.4432935846049419, 0.1509391725899917, 0.16751546745032714, 0.7869523000097602, -0.022838260001099394, 0.4724356427002688, 0.37020468850823074, 0.23659922710828563, 0.38292681107844073, 0.2778560167329569, 1.2681713352832504, 0.013318535072158633, 0.8499007007502104, 0.3668132988013161, -0.010263311311983582, 0.077825537698143, 0.2230058732124468, 0.21924761264193215, -0.13876052622677598, 0.14672868470892522, 0.08983229965948701, 0.37944979742829427, 0.18309999678669006, 0.0612603616082814, 0.23202954266346035, 1.6063187200868352, 0.7536166808784397, 0.1416107388220426, 0.11127148667491543, 0.09193386738316925, 0.018902152249303153, 0.10169901233674315, 0.16989308926836066, 0.17429755461212862, 0.36130994971772656, 0.26770292767482284, 0.12499180361938819, 0.10684394596801074, 0.044119588556707515, 0.3942244303213596, 0.10809616149868222, -0.08828985252822494, 0.23089714692639482, -0.1967595473300388, 0.15427448052128784, 0.290450519369471, 0.15443948279065708, -0.022068433386268113, -0.05566214046494662, 0.119972137965689, 0.23232941001050042, 0.18189101085273812, 0.10370988631634072, 0.41124882024780507, 0.7135718832235927, 0.06862243054661026, 0.019589813105884365, 0.5832152012744697, 0.12352458384059455, 0.12892144639619155, -0.13322410358102307, 0.4910500260918702, 0.1349739648037127, 0.18000281925922226, 0.19242729339500997, 0.24675771080295802, 0.4430371227397354, -0.11760679424256477, 0.6745871097467824, -0.054643995216338254, 0.1834263755458815, 0.37899633554650997, 0.7896376355713359, -0.09347837017886293, 0.21653182106519991, 0.021189355624638737, 0.421656460804484, 0.8003304092978525, 1.6585764784085921, 0.24997454763746868, 0.12853727907706086, 0.16332538502605515, 0.21144272355410376, 0.30818088704199437, 0.16470144299427789, 0.32392085681491284, 0.2599206339745669, 0.4604195219080918, 0.11563453746533583, 1.4811914986461772, 1.2779919341099613, 0.6847092023436645, -0.12899680375819347, 0.10672512183272952, 0.10832840772844415, 0.4703635391313166, 0.22037202106707604, -0.0843331087893866, 0.24334740690815818, 0.2636871461605459, 0.00769823341917979, -0.007161458539773886, 0.14460093669638946, -0.04425797218783456, 0.1299723238880161, 0.8849355811333985, 0.05140979941634938, 0.48400949147038436, 0.3691279762227952, -0.035143095720370957, -0.02629635668476993, -0.021483806888734944, 0.0633256319711216, 0.5759160922656082, 0.19681916896665172, 0.0002652822486757067, 0.2984821386640622, 0.2795284382963551, 0.238072021234079, 0.2722462244894724, 0.3725395478658642, 0.9262070422976393, 0.03196620818695428, 0.06236396371691286, -0.42778872023971226, 0.06455441744982718, 1.0979736054480316, 0.10608718811512804, 0.33658044081946303, -0.07516012700743674, -0.010412233341299298, -0.0527467431580175, 0.5851329197167067, 0.17998319875494415, -0.08089777182697847, 0.1629928196342765, -0.06466500648898889, 0.25260174188789813, 0.7131623568815327, -0.28599901305557207, 0.0639345437270749, 0.1678410434657659, -0.2763542113412702, 0.974958779022544, 0.9261102749335899, 1.1934305548515325, 0.6315887752532239, 0.00824044374803012, 0.7101392283031627, 0.10732388969332562, -0.13008538969954306, 2.241444882330986, 1.8592483113554181, 0.2518046374672092, 0.35169285177652143, -0.03756955717967608, 0.27838305531982965, -0.23738522484503335, 0.10035463641664773, 0.7187447591494349, 0.09768863692322856, -0.04068597115531196, 0.11898897892758824, 0.3370768109739995, -0.027183139789848647, 0.06747000472300536, 0.024705135832797837, -0.09913073095362701, 0.2169807142363199, 0.30256349951203254, -0.10967911547255195, -0.16247614012504238, 0.35619055248684844, 0.11159410078841892, 0.028417681790017642, 0.09726982399109417, 0.08455526383599912, 0.08222044355351615, -0.2444239846243339, -0.014452928301425532, 0.3359480209335354, 1.2210037774861846, 0.10299269462670933, 0.3853222121102439, 0.25472055361622503, 0.08604420613313266, 0.026146014611882158, 0.16952681394609928, 0.668944794454578, 0.24938830415835214, 0.08949087535311663, 0.062393054262674955, 0.1799706778462664, 0.3406891663660041, 0.8228225183462513, 0.3849176769362649, -0.06936453929371927, 0.06019785546322603, 0.10238536190733337, 0.14993756680284884, 0.2098816565453848, 1.2423001467649395, -0.11697354797688712, 0.030121577970009316, 0.3341494797225312, 0.6051171110007348, -0.2760990336727209, 0.4547284426536262, -0.014690452550759155, -0.4667651428466345, 1.0022678981514324, 0.4688508718067875, 0.16489254086098037, -0.08057933877098847, -0.19581534347998386, 0.20639103324884425, -0.03216351766351859, -0.19044041491750868, 0.012462730035843817, 0.6601312971266107, 0.4040073697899775, 0.21914153738242528, -0.270012622970465, -0.03795934544674208, 0.341828490021206, -0.2656691357895098, 0.4615841469382282, 0.8534057003635422, 0.3475502890301875, 1.6058475652049051, 0.40807704281133145, -0.09670392401862887, 0.21194771771125426, 0.03996646506609947, -0.17883501463948062, 0.09106768670852217, 1.4576839270556354, 0.5684441951058694, 0.4812443752316542, 0.21276785887141542, -0.04945840794852913, 0.2583112856546726, 0.6132991770145425, -0.09917637095239827, 0.06500229354046898, -0.1687840597488598, 0.21221485618444025, 0.2381020663087106, 0.6871482673578279, -0.022552347822726172, 0.589358263407278, 0.8188111123472654, 0.6926417823537856, 0.08057096461666771, 0.7284759113300037, -0.1152080558038531, 0.0460684949390035, -0.14779181763276483, 0.3580464770790925, 0.20890111268407863, -0.34286096304668945, 0.36514401648545397, 0.2991920159265887, 0.47422388143841726, 0.4165332426135019, 0.34131735449899986, 0.2951482322506925, 0.5303884474463927, 0.023486291203731025, 2.2191619747980185, 0.06834324434132942, 0.17749733658185823, 0.42286121816163397, 0.061248503852489596, 0.17027929768188296, 0.3326343750753883, 0.007131410513681898, 0.8050857090072264, -0.3369578425894779, 0.3574925223931029, -0.28182280389504594, 0.6818242706673149, 0.4095438989951064, -0.0248467706476244, 0.1083647188991072, -0.10471893570817352, 0.0962492342874545, 0.6273608035691314, 0.8383769045892179, -0.2134867323731761, -0.23612911360518304, 0.15283412792071796, 0.08224393710390311, -0.0917267495479625, 1.3991614973274222, 0.1440862021312723, 0.1400523807717087, 0.09406093672105924, 1.1780307581575107, 0.2398460494299145, 0.10544387902676426, 0.09330739564214016, -0.21163896651085368, 0.4465660773210099, -0.031044677342608115, 0.2518724792439185, -0.05970095931145901, 0.1928158286762025, 0.16065458043997527, 0.4271807188467168, 0.49565991470465326, 0.11062597805931244, 0.04097624135757469, -0.1628885586785393, 0.27994671097120166, 0.3797416526699808, 0.6409599355738514, 0.5659127418336852, 0.18723109628297288, 0.1639027134753654, 0.4376029104111478, -0.19629470800292076, 0.2800144118907223, 0.31964448300502035, 0.21579053171468396, 1.307249431536194, 0.05506358622075643, -0.4160028266149137, 0.12312275426514056, 0.3687044808275536, 0.28313751566466694, 0.4404109146558807, 0.09585297543372472, 1.3941579368361934, 0.38348798877362966, 0.3730118998373299, 0.3651295641559543, 0.08594521356407638, 0.42404075651398027, 1.4660546777973256, 0.16023787572057538, 0.2919258329967787, -0.042431202028029844, 0.886060527314922, 0.5811699110679491, 0.6324298436895665, -0.004549979628032991, 0.29630493906182476, 0.4185942230635751, 0.289703065253629, -0.09886537619593493, -0.01485338691852343, 0.1477623984905931, 0.2664260823583907, -0.1375931481672173, 0.8327277254534541, 0.5744475553029031, 0.32069182591081297, -0.41521304890786104, 0.219934677360104, 0.4225569769269024, 0.02814542422867669, -0.1949646860638683, 0.10392471138469868, 0.5863128184619747, -0.1368068166645805, 0.046858504734694266, 0.12812865581646582, -0.24188257389886506, 1.1084448896417967, -0.48737101334002436, 0.3489869382808423, -0.15919799032663928, 0.2052178018425843, -0.535046475660992, 0.2595758917199874, -0.2883712199311559, 0.22175688341551214, -0.1181721886159629, 0.6381366581412656, -0.03665550668509814, 0.07358234197995205, 0.10455428017779413, -0.01306396992304062, -0.1820558790997784, -0.20817665043233013, 0.07291949667515531, 0.3593921402930624, 0.0056853254424790835, -0.015414416245194441, 0.055517475040150005, 0.17805221237873045, 0.02801868880525802, 0.04678679876962289, 0.01939671357749335, 0.379742062897252, 0.1944360396767984, -0.047676014288552886, 0.15191067344357612, 0.4311418216598798, -0.07736938642876276, 0.2253904036743183, 0.6128001586276898, -0.0511394491394516, 0.16658746572243882, 0.06276096988208965, 0.8684652365726101, 0.3140132366431923, -0.008310562298937656, 0.7332336866581567, 0.04319661326312148, 0.4176779165092837, 0.6470778130033039, 0.5924373067306958, 0.12888716442602033, 1.9691332560518013, 0.07689197959258362, 0.2937131488645132, -0.151537253507164, 0.2309351712942613, 0.1150779636133805, 0.25151140989108245, 0.6272756170813832, 0.802152554156627, -0.13765948633577854, 0.5914825165708165, 0.1656534697986208, 0.19234833989689257, 0.6653002043758186, 0.3581903491018478, -0.10982491759190954, -0.14118579940010711, -0.17420919709112026, -0.02011258915715648, -0.008948434838178079, 1.3498921091096927, -0.28296569398477517, 0.9317058825129947, -0.28169577052761346, 0.7749828757866533, 0.8605056683976487, 0.07959768623768543, 1.241145295427886, 0.06019531311471284, 0.7189081871887278, 0.08092463397997392, 1.9063919823423083, 0.8956836983133044, 0.5242489950227723, -0.3378649221348307, 0.6763437390518449, 0.017902741473505932, 0.03939173372201595, 0.30756531565306616, 0.2397981329827448, -0.04204272053608115, -0.17569730904028197, 0.6170618637712314, -0.03744057603795585, -0.060017554649805356, 0.32174985891453844, -0.002273311386779802, 0.3897565835815295, -0.08000011820396542, 0.08101540226846135, 1.4662934748655474, 0.05300651982460128, -0.07885302176464275, 1.0626095699325737, -0.10936665197067567, 0.06946065421067478, 1.2500433607330064, -0.059540406926742, -0.06260796746984278, -0.22458089547307739, 0.19630995461858108, 0.5756831845254164, 0.608010569666712, -0.04557452186912036, -0.0010034063131861878, 0.2414992422765142, -0.2163749932416544, -0.05744878857686349, 0.6622123964595896, -0.004382778398400852, -0.07738355853371087, 0.061594588896221644, 0.43041518687668756, 0.18143949036076165, -0.1595368752277325, 0.6771765897649002, -0.22979069965617913, 0.5275297539705335, 0.35501661780191224, 0.3286282380536205, 1.19712693365388, -0.040512481570696965, -0.01253165540318704, -0.2544331344087677, 1.1858425810414623, -0.06295701170424661, 1.0474829685663072, 0.015813785590365365, 0.23626931119290634, 0.28795841952515705, -0.05468251772748644, 0.3006663777433599, -0.2901183769497089, 1.534368409017374, 0.43332350546733994, 0.36852499255544324, 0.5239419578512788, 0.39341968444275477, 0.39100324289976973, 1.2067618621300857, 0.7283481404424262, 0.945816811141817, 0.026538076361751695, 0.28295256771443855, -0.1601137161004713, 0.1650979537889152, 0.25663877214438485, 0.6060931544836554, 0.20031549292641718, 0.13777734675236594, 0.40542114582827093, 0.7580840738994618, 0.1775591847493507, 2.0346460470712286, 0.5741476155459051, 0.5194176342036173, -0.01940653662835746, 0.018532578312724708, 0.5287901530662882, 0.6357394299610901, 0.7574948249100977, 0.12666750704767094, 0.591115428891199, 0.28901155818422974, 0.2639379591023654, 0.14424791374788423, 0.295173110613971, -0.03546678114241779, 0.158745433349554, 1.0942771555233823, 0.1178417035729054, 0.16537562530429886, 0.08476370930336156, 0.4370006003170131, 0.22301300735436574, 0.12602755914310484, 0.2820335989005354, 0.010363516764906617, -0.0970035562821625, 0.19093489015301895, 0.08612224367569873, 0.8578271181029244, 0.34127428111847097, -0.03228841647641014, 0.539406993321473, 0.5898051028796429, 0.20284790787403215, 0.011604726830527158, 0.33996182797502, 0.5709476339929501, -0.18744350434505955, 0.5938675773780829, -0.042042785938107625, 0.1414892987321655, 0.6144407043544434, 0.3720744659107755, 0.23669400453143286, 0.11190358437758358, 0.8463326138050612, -0.17487414623780975, 0.13476007218812489, 0.037365360647533895, -0.031896686872873656, 0.8663233118922282, 1.0447914918765036, 0.6882870818484689, 0.4769671643554194, 0.22817239094357694, 0.22401743188304862, 0.6173003899388381, -0.07906405018420437, -0.26439168393220647, -0.1835022791431054, 0.07273994692524559, 0.2558191699073052, 0.7240233016231478, 0.1305120832531004, 0.19718822447614792, 0.8266731025683413, 0.7174692446363893, 0.4224916109931802, -0.1468559978990236, 1.3006568841670918, 0.8019183674201845, 0.3334528924837286, 0.33383751940615153]}, {\"marker\": {\"color\": 1, \"opacity\": 1.0, \"size\": 3}, \"mode\": \"markers\", \"name\": \"neutral\", \"type\": \"scatter3d\", \"x\": [0.49232154191038924, -0.10733632017103875, 0.7538468704966352, -0.3399705100716804, 0.770507569587872, 0.6508327838469342, 0.36331546091946376, 0.005219031255091204, 0.15509745974191244, 0.10332091272423198, 0.3268634356134145, 0.36829384738969395, 0.006320392358367637, 0.2768629597446546, -0.22003386128744823, -0.5260653511418102, 0.8326001203247339, -0.16486543944834162, 0.21598664150334387, -0.27796371903827843, 0.3204280709723572, 0.2210212030679558, -0.34070790258865086, 0.7064035082177365, -0.09867226594101033, 0.06050032420968834, 0.08250772510274113, -0.24028014303057899, 0.11207816681561408, -0.07599713934324025, 0.5486681955612853, -0.049779492844587485, 0.773791829205997, 0.07795023653384084, -0.1465442312205672, 0.21694183513439608, -0.03172436194254658, 0.13385556926099584, 0.02405818284402694, -0.5752937144264494, 0.7648958647633691, 0.2790871368661194, 0.3717363573951891, 0.13709498248033425, -0.39293045896576617, -0.3730843161418021, 0.19372587509910094, -0.11947424109791373, -0.5087977550920063, 0.3293240622965347, 0.11105663023511911, 0.5260612259244072, -0.5061307737124645, 0.5792005214693351, -0.42840696975786735, -0.12538696904920535, -0.39898535139742647, -0.503576331351905, -0.29696261622485765, 0.6217881610542286, 0.9723721083619403, 0.012180738498727075, 0.027375345421486404, -0.029962302865113283, 0.150160265340847, -0.2123010893857135, 1.1127607288836106, 0.003715199227162838, -0.31765475769523704, 0.42911637020021, -0.10300017878347693, 0.5429176614992302, -0.2123184001099711, 0.1276635079825284, -0.16979996545022036, 0.123193575563116, 0.1004777701480385, -0.18261535903376566, 0.13101303862699099, -0.43064901616375206, -0.8359026553969328, 0.3033304734305057, -0.15556400294504294, -0.3587987106733343, 0.25081807770771686, -0.17454578702147705, -0.151679228595284, 0.27254628381750223, -0.043839583881355164, -0.4113178468224704, 0.007077929589970586, -0.20668344313945597, 0.9079604416622356, 1.2399631817792187, -0.05716716563323027, -0.29645025873789993, -0.24145005381531975, 0.06852800025008708, -0.6620421626133569, 1.203086779312879, 0.1924976678457083, 0.028861653824091206, 0.24987502813456797, 1.0324612863305003, 0.0879694662764959, 0.3877485522108027, -0.2798012000369651, 0.02025382344160389, -0.2587273989986381, -0.4325899586837131, 0.22999847513351604, -0.26395461534455694, 0.31521932399865593, 1.2234110723147713, -0.29345216469615837, 0.21484450485065235, -0.4715545056903464, 0.18736979900126627, -0.17491544391044828, 0.005967654123128466, -0.22520957655709953, -0.1387173209200095, 0.5125075709590673, 0.8380673189159471, 0.09036765349037604, -0.37525116885200366, 0.7584344343114766, -0.06759502598416715, -0.09944399571488936, 0.13845826585011314, 0.38078992345060214, -0.3650546368870312, -0.0025829203620657657, -0.5450642685627557, 0.40309344747384157, 0.26618432246898416, 0.2478962507807615, 0.3932539585572709, -0.3529819493104215, -0.16940134613123015, 0.02939739194361936, 0.4537243135594298, 0.0745446909587517, 0.33554800136285523, -0.5012528567819924, 0.8176147563517231, -0.2865568347076761, 0.10428028393697154, 0.26520556338375467, -0.3492782685856116, 0.8951064346243127, -0.18697422839166142, 0.6409935907872512, 0.14795181115378359, -0.11402219093413779, 0.23440594326553615, 0.49965401959454997, 0.5357148170502765, 0.61192325702906, 0.4421564044018048, 0.3499909917572565, 0.05101373418959782, -0.2310903343088692, 0.39299184435313606, 0.38454066375059964, 0.37610655502995183, 0.716266342948449, -0.08279065604224232, 0.10495283589267447, -0.06402467639090133, -0.009192523448403765, 0.16545072225172305, -0.009423414698480063, 0.14765186517655568, 0.5826317348128378, 0.4815281934296345, 1.179648692416994, 0.30908350570822385, 0.7528010987420082, 1.0101253290553545, 1.3107279841723942, 0.06813210611980329, 0.0519870339437158, 0.3150942693927444, 0.4499520855912046, 0.7244170190083311, 0.16665733391567525, 0.4753319028849571, -0.01726260945825806, 0.7011971879586693, 0.0006102296512304426, 0.5706573278553038, 0.187259520262253, 1.0787204520276046, 0.2936711631669383, 0.552989393650349, 0.30360941245539347, 0.17826485873850167, -0.04086493986763137, 0.9067848750070058, 0.22542187066613195, -0.37849376674400814, 0.6026648889161476, 0.22423772747783033, 0.6093173631079492, -0.42892118317634564, 0.43670946106647013, 0.6198308048263956, -0.36115954627528457, 0.31355513605660684, 0.994919728940508, -0.10786920140656135, 0.5799345759849697, 0.25358815875103174, 0.4577737837215185, -0.3292222360982725, 0.13097855323520902, 0.2104962841594333, -0.23800394955458032, 0.16482219924566566, 0.285702594193281, 0.1595352620417214, 1.0360636965462044, 0.6656191671293911, -0.0272534628891808, 0.8683745892493797, -0.09546218560787184, 0.16293423681085256, 0.364464479832979, 0.9063435509047075, 0.46500436609398604, 0.8477046019434027, 0.6863457756834409, 0.26884462289361083, 0.37257432192820994, 0.7204273065631643, 0.04542883207808673, 0.003575895356724432, 0.012336314653211852, 0.31380329164643816, 0.3041776297984, 1.1066486246139409, -0.29689322359621195, 0.2169956746056899, 0.44447878304499094, 0.7275302490802589, 0.09402631539749831, 0.20339653436725263, -0.2087097347912311, 0.2843052618329162, 0.5786644314753149, 0.20452291096981057, 0.7213126951520318, 0.7943658039217961, 0.14073251922498464, 0.2728842323560366, -0.0264528313660361, 0.48289464875256116, -0.3090033081475201, 0.14079904262347037, 0.3803576431729863, 0.40773294588748793, 0.5028451374717003, -0.1973547541729196, -0.24368137799931977, 0.046491037824103756, -0.388259529004361, 0.21950104105556859, -0.2564626989037064, 0.21188584997635726, -0.784406356185111, 0.36021785660105937, 1.0674484696483146, 0.16808566783303389, 0.33039818126703335, 0.7219574212251733, -0.12363927702146287, -0.0012588169639274572, 0.20850462653378946, -0.18115681034734715, 0.16523081844173665, -0.22026597343919632, -0.48277640052421084, -0.5178861774860619, 0.4300951413283199, 0.1544127572579107, -0.013974764650790021, -0.1672418097857644, -0.5607398040244225, 1.492254419100091, -0.2302023327991228, -0.39321971317608234, -0.33000028843619167, -0.24770602241790757, 0.5720733282718258, -0.108825225700209, 0.8914999427563082, -0.052197336150138204, -0.4541950217775342, -0.7064612006443031, -0.12729878315662263, 0.2472582870638126, -0.5513774840142655, 0.896003179187519, -0.5664372624736692, 0.08366041362584845, 1.0930969272291737, -0.20693789416651373, 0.1618104695219457, -0.5257048327493937, -0.43835396461370685, -0.2666378275519249, -0.027513235639066484, 0.22819189118543584, -0.06552059316668749, 0.18666086036324692, -0.35276953954269086, -0.07730349343278935, 1.2413286389147975, 1.0693782656709427, 0.36272522151658093, -0.24287720632461215, 0.4721905508985482, -0.28888055461874834, 0.24655639163270077, 0.5779795444126828, 0.948859744969051, 0.6428832806207069, 0.461032283393385, 0.25777977455914064, 0.1430287381538705, 0.49450179708256703, -0.35548692356757855, 1.0410253605632838, 0.29395787290034886, 0.012361585371969491, 1.3912641648941038, 0.6181146567913879, 1.0572306512326244, 0.09524269577468263, 0.6547344960871094, 0.7268581770075362, 0.027204645843527768, 1.2974804778274271, 0.7659955282159965, 0.7562222072898989, 0.8198934484178021, 0.9969401313203142, 0.9715996878141738, -0.2022798274505569, 0.23067242934783602, 1.388337598815899, 0.6308631411368142, 0.1490984696119707, 0.3042809477587659, 0.35914208769653155, 0.009301868771173971, -0.3661258299571529, 0.7829193201388792, 0.9102110153138037, 0.6014747566518261, -0.12753047000288678, 0.3091773597506025, 0.6200450188630231, -0.11543585511048357, 0.6973170363584433, 0.6362530651190526, 0.2323770844334256, -0.4704967102790295, -0.12623698975499759, -0.13163552399610742, 0.0738925168776552, 0.1654462094875532, 0.5079793319536322, -0.170187100112617, 0.22321415053930307, -0.17897940670712723, 0.2470270099719496, 1.2802894779160516, -0.13357202843101887, 0.06887470038507505, 1.5808389732298824, 0.06909081628036164, 0.7813265668456384, 1.0395246470748165, 0.7201787725468219, 0.19240934630119053, 0.12017243259419147, 0.8872640708723727, -0.28082135133876485, -0.3004725879773629, -0.2699444262464598, 0.4593866460710758, 0.31475518904978506, -0.771064726738338, -0.16156187420785556, 0.9714707750518566, 0.6968614690321323, 0.6654439698497555, 0.20562480204098654, -0.06742664534798931, 0.5428427448331694, 0.1384703334205887, 0.07483960712420366, 0.025698124302390848, 0.9501692168862093, 0.7574656505048205, -0.1272732295047381, -0.46622340038230525, 0.1547370407199491, -0.14908943032744731, -0.4187888335535896, -0.6723354345501463, 0.17137508543843694, -0.6642106551172683, 0.22517578942847014, 1.0375566410631643, 0.031127401839456784, 0.7180418724873147, -0.38332801181486365, 0.02398645018539192, 0.08758611121312335, -0.1632314813992626, 1.2506143802674508, 0.689152936447549, -0.054908486023442234, -0.27025384800247154, -0.05084985840241646, 0.29911844846469887, 0.6488817991616264, -0.1496032676205242, 0.1672779074164988, -0.26805967278358594, -0.33772175770686585, 1.0964167610651017, -0.09897235935799463, 1.028792297633472, -0.4749093294632565, 0.32806796427869317, -0.11648839928355711, -0.3873001196360692, -0.39783012597838097, 0.38525969558597767, 0.1432318685727087, 0.22753995010657413, 0.8321402202121809, 0.9427554863931522, 0.28797984166733503, 0.0023541572751278298, -0.07133814802377336, -0.22931966967034284, -0.19170848848226962, -0.14789772099458756, -0.3441844385371964, -0.3793412379293505, -0.008634017496434356, 0.12367042675753039, 0.27040216045623333, 0.34631818144090787, 0.009201120925713157, -0.20869057830555054, 0.051527068919704315, 0.516372624536177, -0.5247237835766763, 0.045223620526364805, 0.1947403013985049, -0.0695196063822009, -0.07674729413207104, -0.2484162146834745, 0.018748574043652738, -0.05717620217900116, 0.19069646185609873, -0.23278245767348824, -0.31882101949661623, 0.46589007937735955, -0.307842137069157, -0.34648910850419895, 0.4423957229852548, 1.356783298491576, 0.08086594498084385, 0.06846026115334708, -0.810004216910432, 0.7396172473029061, -0.28710666671985346, 0.3124598609929594, 0.2698816619224107, 0.6190883082993409, -0.2180602486708839, 0.19618644236309354, 0.3835379102310829, 0.19133467077458644, 0.02554793387695386, -0.7141841065897708, -0.32290316456359014, 0.8534286079830277, -0.14074670567673397, -0.35783324561062385, -0.31141130062734795, -0.5967093752989562, 0.2713597939416054, -0.26422989977614547, 0.6862571971499093, 0.02598494920558454, 0.023628408939932843, -0.8560073662193389, 0.745624191966457, 0.11890232927561606, 0.6088226394015904, 0.30134319976350876, 0.7104378981459396, -0.04854086412035164, -0.6955939778471972, -0.11149404413562992, 0.4381499010612068, 0.34347951064407123, 0.39895176163766766, 1.2962949023233388, 0.6713606086837652, -0.11134555374829896, -0.5005473584116413, 0.44365747836201735, -0.6807264521134093, 1.0231900241655247, -0.44175956307695363, -0.39976222882548496, 1.2204256734580323, -0.8068923239638612, -0.10457227764682307, 1.1848288100978737, 0.8176956521034591, 0.16966500324894965, -0.47768123676374447, 1.0451662834795605, -0.25311811689745023, -0.0021737615337749793, -0.1437457872595336, 0.8636378170518069, -0.4416389564008502, -0.30611176380680866, 0.7247033728453713, 0.5944369159924028, -0.28654875227559995, 0.44714639986353366, 0.4029615162548157, -0.08630937106571744, -0.11083847845835645, -0.3455718168955199, 0.6172898829588581, 0.2773581503116567, 0.07486247083351806, -0.11612388230745807, -0.1698137234507203, -0.2816016028869715, -0.25773514299811284, 0.357618160807729, 0.9216952593454035, 0.3514200928498171, -0.21836157782448615, 1.158862512546542, -0.40878052787891495, -0.228734085896533, 0.33283721510115427, 0.3501056760571783, 0.26617818541054306, 0.6163207409758742, -0.08547930802521697, 0.1800593145622397, 0.154765527136726, -0.18333273948752646, 0.06253336448461974, -0.18788474544956876, -0.6695482120101451, 0.45374793997407364, -0.3740221993385613, -0.728116353339998, -0.1307432938559007, 0.9225896766699826, -0.0608137819584667, -0.1582646279503364, 1.0193043926500724, 0.39255934137732185, 0.47649437061080263, 0.7389370722182752, 1.038179867992244, -0.4014582796758526, -0.6325669441151061, 0.06856768779335388, -0.010455921100111778, 0.4559640791866021, 0.3995717377351833, -0.39477945823792726, 0.0895029238544379, 0.5984236290369527, 0.2038345423246683, -0.1388803654607629, -0.30769528160696274, 0.39962432737327924, 0.974239524207178, 0.22511369164976228, 0.7520701953538297, -0.14598861306465444, 0.6029745504027433, 0.7677361861181999, 0.8848481198040865, 0.2560573251865171, -0.49344831564641617, 0.19451688775038578, 0.04731624847192277, -0.4190453895107393, -0.19894178064572363, 0.03990278662077039, -0.037840086488267505, 1.1619296214811503, -0.270904487399881, -0.18965583798393637, -0.5774320743972085, -0.23546608114834797, -0.6316907060582455, 0.2793128257625523, -0.3725483138929029, 0.8275517155904661, 0.8374302711706043, 0.017989767672741023, 0.10105170652077401, 1.28955108108504, 0.010086296795128786, 0.21027038770825565, -0.16552009087508462, -0.8203615329235922, 0.08261926026826906, -0.22758617661891123, 1.5595891944129203, 1.0871503060228205, 1.1678039082939369, -0.2395492613368557, -0.27471740393022737, -0.24878437442038331, -0.024635887762118405, 0.9765065966497162, -0.08609998061579105, -0.26944365733011166, 0.4278304510606392, -0.4285028995479071, -0.1931470238098965, -0.21981183134030197, 0.7045267869592233, 0.4952825607412326, 0.9189928451753077, 0.20251029578408694, 0.8778719987494744, 1.1430097261759455, 0.5898601883807747, 0.9065515768496208, 0.9885039795645315, -0.008919267549735231, 0.7873923255744829, -0.2985814485639262, 0.19718119451539726, -0.20356845764217224, 1.0114704906542755, -0.5499337760712698, 0.5700115215264426, 0.42532596864675415, 0.08572518787571624, -0.5073099109852445, 0.6444973620721203, 0.42051178864736083, 0.13133311292663713, 1.019370943705039, -0.24891137935648425, -0.09682180418861117, 0.32253636099372274, 0.30919848239677505, 0.2625380756512595, 0.21796985180819795, 0.030158762336701568, -0.26940932796541855, -0.2926648303846854, -0.19920713553821673, 0.11274121874243978, -0.1763716861894378, 0.2536815052471115, -0.031351973009992214, 0.2302549558678377, -0.15740019674070088, -0.11708440459717438, -0.08157285029977834, -0.2546880206103654, 0.7211931744609092, -0.49986113441591706, -0.21400826431679706, -0.13630256463086707, -0.7908854545369568, -0.284306343515396, 0.4345781495815041, -0.546247642574877, 0.46680532930145596, 0.751188384547024, -0.3028350383226967, -0.14881771917100733, -0.34426393956891543, -0.7034965702323469, -0.5004677474083051, 0.29315623583636885, -0.08866427893189237, -0.2185884503916673, 0.1509844797099643, -0.09994740079781803, -0.1108963632265007, -0.12323682695827838, 0.8163598158810605, -0.32631343695084686, -0.20877034954752358, -0.5220423535922185, -0.08258095267623329, -0.5275581766790628, -0.4103966313372687, -0.37505352081695936, -0.20754574825715857, -0.46294465310590527, 1.1044041300903356, 0.12155613376208028, -0.43811101105848355, -0.09955289088399957, 1.0389992970012056, 0.9751884606417487, -0.6397422425614572, 0.79952520023274, 0.9804735546269261, -0.38168278373360054, -0.3835962564722162, 0.6184551176442729, 0.0031226301907992587, 0.23719109438465877, -0.21381477744604782, 0.020110956160531806, -0.2342515728512747, 0.3086211533260264, 0.63406962734665, 0.19743614722114433, 0.42692202410981717, -0.2566827133794186, -0.20824691628891143, 0.07806017239851445, 0.17336832768660232, 0.3325660630082432, 0.7945639740619612, 0.11119881425949135, 0.24103815625645722, 0.11123230467661989, 0.7125021202870919, 1.3985164048837244, 0.1734345002047212, -0.0960695183981773, 0.8053113293178843, 0.5644056372834074, 0.7556166630973776, -0.32932643576910564, 0.03554437006356362, 0.5397454418340839, -0.12414924475507792, 0.7027610255634165, -0.30821775640457527, 0.11079369999553991, 0.9813983462652563, 0.37828120739145016, -0.599794416522302, -0.3844549847481502, -0.27439437270378664, -0.5707825582991334, -0.24233184424555954, -0.4039654409431917, 0.12622677326789994, -0.22968632534302855, 0.05140611184225725, -0.3211982732747283, -0.390117240634649, -0.03475272841543395, -0.6485205445347773, -0.6291807147599421, -0.3722648223303085, -0.3273174735428835, -0.21603695176173807, -0.20954029766072127, -0.3364707680676846, 0.24545439746423708, -0.1333249681790847, -0.15157805258839818, 0.28234327834359246, -0.6258957051791032, 0.05266695793052404, -0.22039554512616152, -0.4818617158228378, -0.16163571532109391, -0.31724874589272817, -0.4562660647906387, 0.0627122113742944, 0.47433318469655295, -0.29874777809814845, -0.3375936979811706, -0.14100234072125606, -0.1836302533834966, 0.27602205472957736, 0.4871984720488334, 0.7320095980266276, -0.31474077732825134, 0.8229290318654449, -0.56730498858613, 0.2363381894106411, 0.2854979308529375, 0.05551308348158533, 0.10753574557631085, -0.16240718676849702, 0.3472161488252563, -0.2673529025088325, 0.3465283826775408, -0.2759430632444115, -0.16241001542422126, -0.316113134734488, -0.5318596567658083, -0.39134827286490836, -0.48250352742266434, -0.4970443751101253, -0.5789746015499018, 0.1037739944734676, -0.08191792988483942, 0.1470407227201005, -0.2963235327651588, -0.33277587514467455, 0.27930992139983135, 0.17442471839780396, 0.21393257729350193, 0.2787630356097257, 0.3616195030694073, 0.6747939439727529, -0.8262758572825961, -0.38499758035181497, 0.028929218913374393, 0.946427170632891, 1.225751261559418, 1.2171156963479275, -0.2673867389656526, 0.6711099696736892, -0.3222628721222972, 0.3494333801118432, -0.27450206776059505, -0.48576275614331177, -0.2728914848796041, 1.6655461036999382, 0.9983248172355003, -0.7299646465984531, 1.1116116308752817, 1.2751787379366288, -0.17053890011743839, 0.11518099429142437, -0.2656850045828005, -0.09868391045911515, -0.3129442849190434, -0.3719724170544566, -0.21716491635261384, -0.2662035421893401, -0.8708016635125794, 1.2750906612244977, 0.03792026502030522, -0.1827208422348805, -0.21708295667516067, -0.08939413622960654, -0.29335947731473877, -0.6546562381310912, 0.544713179197618, 0.11565498368955227, -0.3484934413922687, -0.15387446735241, -0.8324929349217681, -0.5162370892541215, -0.5259069745005167, -0.5432251861855837, -0.22693829117982864, 0.5005366327240433, -0.02830701836178615, 0.4001623129194568, 0.30646309153736995, 0.06659408752103982, 0.03411732478388627, 0.035070764733235844, -0.03548790673627993, 1.022026209744406, -0.6625878202376679, 0.848734923183916, 0.023975431906037077, -0.09416549824317552, -0.34779837447428646, -0.09773899809261341, 0.4022204572847223, 0.3849385965887458, 0.7438084361852221, -0.0669479805544652, 0.8846503683599598, 1.3931103787763828, 0.4995814949206489, -0.33712500044897126, 0.08302538578721852, 0.7901731934860747, 0.4858876901797187, 0.011924419452145693, 0.7023313028878566, -0.11035248265074869, 0.38852843928390396, -0.9894599203083752, -0.37654899507446254, 0.06297332728662175, 0.5458294399771078, -0.12124783751552656, -0.18864062316495042, 0.25613028354333256, 0.7009946526505508, -0.4013347286313452, -0.13685706910482934, 0.13205932127070522, 0.6181560569046506, -0.31978792613980944, 0.5936441398989991, 0.6694296839115031, 0.21141753591368154, 0.029558407467421235, -0.262796683944255, 0.24711397798352244, -0.14458603249237256, 0.11509488429561034, -0.06961834081268824, 0.31637268181063094, -0.26070830094376723, 0.1584903828797748, -0.28425628551379706, -0.11563043202137419, 0.26277045015428085, 0.7460884753947187, -0.44210919710534424, 0.23397120467616853, 0.2376681624439798, 0.4000053885138558, -0.06999751412443173, 0.5038102732038833, 0.29283079662097633, -0.3002577815264542, -0.2151963369556021, 0.9742269349200862, 0.6665453810749359, 0.17656904827331743, -0.2993207330205058, 0.7841286369985815, 1.3308578560197044, 0.5873922696332459, 0.9756063404216134, -0.21601711899148998, -0.019611384951706338, -0.11991874727852363, 1.200593692302579, 0.7370853254784266, 0.6839569373570886, -0.10534874737435677, -0.08340068343603779, 0.193110131981306, 0.6604338376020411, 0.19747892284941915, 0.5934832448876419, 1.2224976597734898, 0.15611510674958765, 0.6697234514639271, 0.28452599726456995, -0.3414643823645983, 0.9673314307575152, 0.2866329977208929, 0.08485403181481267, 0.16563596695901886, 0.011105808027989562, -0.2932185932737467, 0.4347603836413444, -0.6129706046716551, 0.6431274281407051, 0.6476841536542501, 0.33680112889927805, -0.034053998314091734, -0.023862610428112784, 0.9051402905703728, 0.013293376511246145, -0.3016549280181129, -0.06496235170516036, 0.13766185499732225, 0.5959260080818186, 0.3100234058843776, 0.03771561096089489, 0.06474927607985813, -0.1573040107723938, 0.578694589357871, -0.3959985466371262, 0.2995471231950269, 0.8504785476656423, 0.016724208104957384, 0.28260905273348896, 0.07654896087381034, 0.7254771762113859, -0.15022005586938147, -0.20026142541845626, 0.24637728675567908, 0.2782470943480277, 0.31568750225106856, 0.3979182149827234, 0.20261946855537316, -0.014450079305928934, 0.4039305978854202, -0.5632244066016311, 0.18836423422935564, 0.010148741474725654, 0.1304249095021209, 0.5910595398056838, -0.028855760602908287, 0.6995419214653366, -0.34038373959021073, 0.5320726770901189, 0.8922996160154897, 0.42044928528358627, 0.49344660961316533, 0.8299579216049431, -0.44352436119926575, -0.40938744800666643, 0.30630996540622984, -0.3745415756349739, 0.619021301552978, 0.6071591237383922, -0.22313611475432582, 0.45583218369971684, 0.8145438149965735, 0.2817179384666384, 0.856475311948522, -0.23733063492499648, 0.9552289185092426, 0.010266306418503927, -0.47795240230243746, -0.39078097888030294, 0.6980699479361345, 0.47766678276613284, 0.6059276343235106, -0.07727744760703727, 0.1929060148973677, -0.05819737859544962, -0.1070755585446126, 0.4463122235744715, -0.47425661434064886, -0.5144988590302144, -0.10151690816394769, -0.05876607589552833, 0.7814786930047449, -0.458628780326342, -0.6011763840397291, -0.22138666685488756, 0.025325727690421126, 0.24547839648440192, 0.1534044434574323, 0.11563122738544233, 0.31069324300539053, 0.6969492158972651, 0.6251477715695842, 0.2113241678255434, 0.8020584492619712, 0.7795059410343914, 0.1960467908893459, 0.044993824781074124, 0.09259001519805615, -0.27086853791107496, 0.15909457685784129, -0.35229207378751687, 0.3008375697981084, -0.007405531700190257, 0.7421848400496762, 0.029171983224170438, 0.031812579722984936, 0.02420142605852968, -0.4031241287591692, 0.9021208103626308, -0.1839576764872348, 0.552564368488087, 1.3471204781810608, 0.16570459466523976, -0.4596650989237544, 0.6472033546074701, -0.09487032976148861, -0.04810265764412299, -0.3472427273069528, -0.24937102722495397, -0.16311447709685648, 0.3620850526010647, 0.4218235798338133, 0.514318936228524, -0.10817145262778717, -0.04011302287942326, 0.27102515055081516, 0.828027623793249, 0.47746804526065023, -0.04218082770346811, 0.32661413774706066, -0.22900876429511535, 0.64898208615977, 0.19683308339840266, 0.09214281965686319, 0.5662654083860879, 1.108015472391002, 0.12474397085121113, 0.3524252933605912, 0.18650777956624404, -0.11332415819671439, 0.30043646050557044, 0.1961016976339489, 0.3820360119315826, 0.36160881690696234, 0.3123647797619215, 0.6100311397674697, -0.1126932373499213, 0.05142071406062602, 0.33758013357338384, 0.02527404947526196, 0.04258751482973652, 0.15694522184714416, 0.5135714394006636, 1.1818489738793445, -0.012927596055674754, 0.5622474727992288, 0.3759536444119729, 0.010977011216991387, -0.19281095338167678, -0.2207685434590702, -0.21285557108406258, 0.5020697729818207, 0.255944509645745, 0.19694897024425886, 0.37519399262715103, -0.15328745401202432, -0.3934727495672281, 0.4924806688878934, 0.2306185488514191, 0.04834211879305394, 0.14089492099868317, -0.11763883511303012, -0.3384977518441682, 0.490242818060031, 0.6978391672532663, -0.35624720931260445, 0.7661911234525132, 1.0271382118960939, 0.029796625678380928, 0.7072466654263093, -0.3403719230452791, 0.4257287497461212, 0.14018808854942952, 1.2636057281962927, 0.7447751863751587, 0.151698603817007, -0.20341072304921934, -0.2491516328241184, 1.1227553616992252, 0.5497196951663555, 0.9980679460225304, -0.3525724125815583, 0.6948319619725934, -0.17933283673761055, 0.4954674824060751, 0.39091386608695217, -0.15834897355747757, 0.08632400898993922, 0.7303986731218831, 1.1142077930479775, -0.05193434316407963, -0.0636492691499464, 0.5775177486209999, 0.43732401835732987, 0.589206122410698, 0.5848135844722429, -0.49373200813803014, 0.4216871189085106, 0.4564176618076154, -0.04707201913275844, 1.015512355272264, 0.28700520111386857, -0.13504830972325277, -0.480774608604552, 0.38116690744567894, 0.13552992152226084, -0.5267395503236556, -0.3864412250847173, 0.1259684100054816, 0.13019755034833053, 0.4218655653345017, 0.02299226624070862, -0.4330818759952246, -0.8018799478781304, 0.10027372607999051, -0.07935348376969145, -0.14252430668360833, 0.04080724793813018, 0.2519995391849586, 0.5687307339005603, -0.34434785909019944, -0.2122465290872874, -0.10774131781457047, 0.35824986921837987, 0.443250905768177, -0.13096481140817431, -0.1384726797355933, 0.5788018962762294, -0.20139925482940388, -0.6218051505641476, 0.17860905832502597, 0.4038805175899678, 0.14079153435905906, 0.15248963260815174, 0.05953701413893756, -0.3037052962229226, -0.09795039406780641, 0.43340814991180265, -0.04901953756978346, 0.039417554263392864, 0.007714227982536453, -0.04801021746770795, -0.2974397251091993, 0.3487960931529071, -0.7246027939389061, -0.2783902082927136, 0.30879669456397374, 0.28758864747539065, 0.5011272890341946, 0.1755916893993823, -0.1546516443701035, -0.45085574822636465, -0.33744792845047505, 0.2352395691859251, -0.1753660227311111, 0.25296780969270954, -0.21008817271711402, -0.0676384240239716, 0.20684497682124736, -0.13552358330612305, 0.07709030669556216, -0.024416666176560686, -0.03987422273580011, 0.058984752097882995, 0.007214678311802346, -0.28650915420475537, -0.7386016204878952, -0.058122183531494835, 0.3630579393861723, 0.5936683479535403, -0.42938179158068984, -0.4991391830839027, -0.1478795630731192, 0.15843204486997575, -0.15872671377403294, -0.4509366956405871, -0.4795137672992309, -0.02505435242116756, -0.6470488638870331, -0.034161409168358685, -0.04401169676201056, 0.06367889822422611, -0.12660814072780033, 0.6340576733698606, 0.4375893935688339, -0.11114243850942902, -0.24504735013870976, 1.1379979412869412, -0.4321405308505226, 0.04585272333007586, 0.08216334472547294, -0.19407535509362372, -0.3734077876977316, 1.0500094354574576, -0.13606458177129002, -0.3632277283265852, 0.5034961652736748, -0.393125342053341, 0.5774619229176574, 1.2108995129133524, 1.1437739936281912, 0.8541036948691609, -0.3268863253574735, 0.9675113298681791, 0.3192426479130117, 0.29354607177903885, 1.002780808302099, 0.7590401392408825, 0.12483599246941687, 0.43779508651226245, 0.009013969603618817, 1.1971862781876608, 0.882134963997266, -0.053903401882087254, -0.120416374648412, -0.3968735896090415, 0.5242467125043494, -0.16149062264492617, 0.8245681512468762, 0.7489471958177409, 0.23074282072693098, -0.18610646375908219, 0.41456818181299715, 0.14655997083615477, 0.2548295942457698, -0.4171917760857273, 0.5914002110317979, 0.7293922200899619, 0.10681751067616047, 0.5247811971440011, -0.2952068114588413, 0.5056520455690674, 0.09130765684671134, 0.3293924801835129, 1.0875186091023212, -0.48776003370531273, -0.11612420320835821, 0.029593292627700385, 0.6941562657258787, 0.6800814274613827, 0.4491658101600543, 1.0161565955451208, 0.038543264302002, 0.26203796240411364, 1.1907855424028895, 0.038385676503883644, -0.15110289689894732, 0.015735223858926145, -0.1744477066327256, 0.6653586209124567, 0.9950242366779198, 0.09737026984804428, -0.12087656663969572, -0.45701198707644874, -0.17168764593829372, 1.0238078446838206, 0.28643050344328963, 0.5906487261112994, 0.7784605418883301, 0.8033855268057245, 0.16744286638319472, -0.25801236846307957, -0.4660131603703573, 0.1991633071298894, -0.7649927483666592, -0.08036067957207428, 0.5695352996458201, -0.05033173355513006, -0.48157325623486247, 1.3027351024041973, -0.608614217441232, 0.9162306789675493, 1.294907943365616, 0.12514429443926056, 0.4641747620025768, 0.5723587248400874, -0.2619040760838033, -0.33348533855613655, -0.16162717221842457, -0.4555892219358993, -0.28186062251582905, 0.45851569918818047, 0.19901895214432325, 0.2440459927317877, 1.0193538883135103, -0.18282842321385961, 0.8199507973915319, -0.34288113671440285, 0.07415151918421055, 0.8673171549899283, 0.26659526622597424, -0.166272676943155, -0.384648127280375, -0.7431559119987625, 0.6659746830827988, -0.23705087105699316, -0.8034364159011246, 0.6790502120602719, 0.5252623330486367, 0.4952718215862206, 0.43001810590921963, 0.11107701858671995, -0.36916028413733526, 0.6755158592237696, 0.44900911652465453, -0.6901408585601779, 0.08076071632024287, 0.5484519631217399, -0.04316379357343178, 0.07892030751988233, -0.2146722331354542, 0.1137966224130362, 0.5761990286647125, -0.4193702598205935, 0.36128971120773534, -0.1789467822716204, 0.4013509357999279, -0.15332459470417345, -0.5146685463521871, 0.3890225449427333, -0.4713378765729284, -0.3439881676163231, 0.21321717905248683, -0.14348969594226452, 0.20548431935204206, -0.3985719724378112, -0.11302130496494373, 0.4619402260092407, 0.8593741900150605, 0.8288998360189352, -0.20732566116193119, -0.08205171721053892, 0.17448731421851787, 0.24848632716439198, -0.38041162586984717, -0.07885290444004911, -0.1727866693215826, 0.04671133659948253, -0.017397978545081023, -0.02187949728942795, 0.032052347518603294, -0.09493831964886734, 0.5935756915303244, -0.08546515078319407, 0.5465499832582682, 0.8792984234340251, -0.029831352589658997, -0.5984654665654139, -0.14276726799299436, 0.14931659153669735, 0.07924234818638577, -0.21509770185599222, 1.0711997678707759, 0.8852678156430487, -0.2719711141102062, -0.6504722295123815, 0.9792680207456963, -0.436269800509787, -0.1971323388750941, 0.0019735048092648054, 0.294518975738358, 0.14240458550166432, -0.03255680372854106, -0.3440875233008073, -0.4786254190822146, -0.10538155734043242, -0.1891103157296281, 0.05670082071190626, -0.12308092204879109, -0.44518549903645854, 0.6192447394764852, -0.17370687362604878, -0.3539091956078882, 0.21572953655697208, -0.0015409950071993844, 0.08059870832810591, -0.15989481539025763, -0.09924865956461756, 0.650631546980883, -0.3950049929591573, -0.3780180464456402, -0.37906577406898434, 0.3515102194828214, 0.931100532077707, -0.09228703154244446, -0.12893890860587037, 0.03825117974009338, -0.4396114650008654, 0.9151049135869516, -0.614847722698933, -0.5764142787323514, -0.27315085520377325, -0.040739535706189586, -0.047664387712945115, 1.2123228270448063, 1.4095689927990676, -0.02723953229606315, -0.35166731065047685, -0.20235056426444797, 0.3651445907311371, 0.20342636017536875, -0.02918489911572487, 0.12959285500208753, -0.36346892285499116, -0.19169637479192672, -0.7079177229077166, -0.4730106715814036, -0.15937084851751568, -0.35092727313300603, -0.7299206144703767, 0.01020519114483185, -0.47296445843894125, -0.23792196168803448, -0.17384234638634358, -0.24669001863290438, -0.3990092584654994, 0.0007705937439164465, -0.3251077845167819, -0.5494659460206721, 0.41139211351956834, -0.05186811624053333, -0.1525853739222217, 0.07324954094550788, -0.06975880091323161, 0.030581622998009702, -0.21008724501486195, 0.10836333369073711, -0.019990785456402083, -0.23981808022585835, -0.38601922845344455, -0.05191102447411315, 0.030289958464447132, -0.11341866201380699, -0.2876554306412483, 0.08465505170997736, 0.8161506466439856, -0.5267060912844339, 0.6351855746959642, 0.1097598218344658, 0.012802988896036519, 0.07571154136865274, -0.31211428241696026, -0.5184794123149241, -0.34123577910244013, -0.06688953648140933, 0.8538701062554817, 0.47918309623731337, -0.045299863973765134, -0.23765265309413885, 0.8499651692240946, 1.2114640543888455, 0.9753519795739491, 0.3234561747181202, 0.046140345847782496, 0.2555612755828217, 0.485027677658814, -0.11296843679570051, -0.3609499566154804, 0.6502783152397302, 0.22484734460287834, -0.08310915589344028, 0.6240570031700576, 0.6849878762967281, 0.22475342921391547, 0.15471726672727196, -0.1645109154213491, 0.46995506264668163, -0.3134791289693642, 0.7031262624428043, -0.016478911552426687, -0.005125209067623507, 0.7746921573236317, 0.459122949223211, 0.485680938119615, -0.23408129586532417, -0.18314847550417257, -0.1816485205119733, 0.21204543059789094, 0.24870533903909595, -0.2682876472352292, 0.5590580219633373, 0.7223819559479221, 0.037146204877242864, 0.8796747365915766, 0.11012490674142814, -0.8643101325080197, 0.2857510551260345, 0.2877218538089797, 0.5805268577525765, -0.1772027802446869, -0.09728639834082738, 0.4211693678153735, 0.42190514917088373, 0.1479268434067091, 0.6122314117022121, -0.3504273209802837, -0.3235630576701112, -0.608859686962927, -0.3674992883907823, -0.460684476456602, 0.3408172234344301, 0.15042138329837798, 1.251890348894233, -0.05786403830272695, 0.013443141878669879, -0.07771550458302642, -0.5001714226895632, 0.2429956538606575, 0.03082074058717925, -0.4381672775813464, 1.3385922180095344, 0.4366927155707608, -0.03980000632725809, -0.061020038289037806, 1.1018254473369347, 1.1535888145463584, -0.30245280450294976, -0.45960007467969394, -0.25062550829039765, 0.36973306123195104, -0.12093393093387889, -0.08915716938815288, 0.18551676180537252, 0.6164126605091395, 0.209810779273272, -0.2972952534934682, 0.20715150092895954, -0.6408899910222395, -0.24595609201552682, -0.3491091715563365, -0.06797226193195152, 0.2631417944554837, -0.34474815456290664, 0.3763600823422789, -0.25620861792586835, 0.4687661164008375, 0.7289829879343124, -0.12436178413297493, 0.0698814982861149, -0.1498517086340706, -0.36269329748942297, 0.5919142738528572, -0.22299586245721234, 0.16711041470066726, -0.06748878646502787, -0.27338063248283206, 0.10574800135404, 0.3041761102977992, 0.20051068079190856, 0.5011245193632318, -0.0828803196423958, -0.22087066439114683, 0.23023577487224176, -0.05448350774386177, -0.6807094701307574, -0.06545272600115096, 0.24950592204868058, -0.10988074746754925, -0.18174389935413618, -0.14089709786162494, 0.07482881572010991, -0.5256432854090778, -0.25452293173851825, 0.49198993327203977, 0.09481648689911966, -0.19118057451125886, 0.721824888053538, 0.536627178830342, -0.1735558354393696, 0.21909937642832045, -0.5599986622671989, 0.2139237927313172, -0.30766909769773787, -0.4330666472949254, 0.17732751150314618, -0.0866092283270856, -0.4551356711568342, -0.9607997562917477, 0.267731534725415, -0.0005839815443512125, -0.3204376823622579, -0.31733828737659875, 0.45375800018691453, -0.17023652830864072, 0.3820009770377626, -0.16280367754456343, -0.3645357105554348, -0.3738708458448587, -0.17616158854599356, -0.3093636852423802, -0.35289326222921674, 0.14062186598890067, -0.7788478033623835, -0.2174918589414992, -0.19672357502303553, 0.5026015567062974, 0.7654298034789339, 0.9291818379439248, -0.12321544656121179, -0.4308834170878774, 0.14993465146063023, -0.18999449341486815, -0.1972071658164362, -0.3129073358194615, 0.30421873710555697, 0.6934885535174515, 0.3934744736451769, 0.07639481390339442, 0.9641201016161945, 0.6189481771070019, 0.7455197436497718, 0.8324587882577208, 1.3020578138374237, 0.8224043735357118, 0.2817400693315995, 0.44771444470328164, 0.1935615342013926, 0.6080531450601373, 0.6522406120861938, 0.5048957579996879, 0.20840235063513776, 0.27204933963335604, 0.5737201386274968, -0.18470840994864915, -0.24227224698523592, 0.42930968443396644, 0.7531271022473933, 0.18527143360805978, -0.20938608205867879, -0.03393643892185509, 0.10379251451470284, 0.0575854968864446, 0.1920259230055929, -0.07326619393268907, 1.065025340457496, 0.08219328913651303, -0.01933705374401872, 0.7655070954451162, 0.36954684699016405, 0.08329206238301548, 0.2223210715791224, 0.04610496336298268, -0.3398440913879505, 0.26920207594350026, 0.1458137277586212, 0.1495333699158655, -0.42295622249183007, 0.3820662347048347, -0.09893871083868744, 0.46923807972966886, -0.2711994634125179, 0.39772856968747955, -0.5191305065502199, -0.31393205051744955, 0.09594082989305772, -0.21762430513602574, -0.20484205994388122, -0.4071093163596946, -0.23436381595307643, -0.47821551665986795, -0.339515427796182, -0.11740272028584746, -0.35187186068969717, 0.0874108654455914, -0.3613156046438201, 0.307477062327334, -0.0873550744308201, 0.08498109709805982, 0.011697118561504898, -0.06999953425584281, 0.4573507985565566, -0.34123236974161636, 0.22763569218177301, 0.3300682577381501, 0.3842557998133193, 0.5201375924142767, -0.2091794574816602, -0.31257989489900023, 0.41556770563964207, -0.28067975943383955, -0.03939972653897787, 0.22680281343824651, -0.44393922999867813, -0.01241704062861195, 0.12570260569015362, 0.2987130211524522, 0.5578024762786701, -0.23142841890656288, 0.18231167774150728, -0.3970440176280275, 0.5897676550424497, -0.394698526200243, 0.36745915175618926, 0.061454507040121634, 0.1467416472185104, 0.08287231936768906, 0.059652346679239084, -0.018072035695108627, 0.5569194997492741, -0.07264483779692874, 0.646605624272609, -0.7208351657206464, -0.1592121419725416, -0.6526839620185163, -0.017373662874410015, -0.21766681594047377, 0.8754641208677016, -0.5656350143024462, 0.2248446470698134, 0.6616380324458919, -0.1295884328288348, -0.5204256261001893, -0.1840412034601619, -0.001140270493595023, -0.508247382456461, 0.21419908156248596, -0.17125305050436115, -0.15535427013409303, -0.3226026285876578, -0.11073962357952605, 0.272639864795078, -0.009341037539496643, -0.7874682352717755, 0.7985869152846422, -0.11343403087250228, 0.0023619708777035116, 0.0698374509020619, -0.4519318973353113, -0.34114101361949306, -0.6851092776864557, 0.41853734497565537, 0.7046054184353963, -0.13828514518716578, -0.26339475291562087, -0.3263799130383708, 0.5734771587301206, 0.008401554699993256, 0.4333470781529046, -0.10803978850110577, -0.043140130453466236, -0.19932732750460025, 0.23122694191730547, -0.08281580784366453, 0.3518691904374572, -0.13565135309544255, -0.6523722646319758, 0.7492222819440283, -0.5371784485667511, 0.07513818957442997, 0.4665532015026628, -0.2670768808413204, -0.0865810895278713, 0.3724621078695633, 0.3656162307920726, -0.3446603819953953, 0.3900401996671632, 0.08068028886428763, 0.3393977237880149, -0.035750370881562445, 1.5779239021972469, 0.5325367833019438, 0.5958984078642434, -0.04692855471061491, 0.26755124051833357, 0.6769749567748264, 0.6191948700157343, 0.49452134191702457, -0.02049533259259178, 0.16534858232244481, 0.26856924487639194, 0.8370217346468207, -0.36908034490778635, 0.4328784733244701, -0.4488983096068473, -0.32954834483375767, -0.18147878864423006, 0.04168739132894629, 0.22333454232179065, -0.2922957656357482, 0.7009651377972314, 0.010264365145800978, -0.17707287854968873, 0.38321225556536276, -0.3398225378782918, 0.022904050155474993, -0.2068738735563199, -0.13929060800805282, -0.21095655756636, 0.11959792327512754, -0.06018703165063622, -0.12422147621286186, 0.25021877817383026, -0.19302752945335674, 0.7404491056276914, -0.4478119388288208, -0.37496112293848616, -0.09502995739894961, 0.5671861807482332, -0.07198523543609173, 0.4293394066623986, 0.03730263297256548, 0.07120636781256615, -0.15351770900665068, -0.13284404176029452, 0.2806613176383161, -0.18368351662443147, 0.20214025074233766, 0.20231896181199605, -0.699299614710768, 0.5791635360343382, -0.235225014083566, 0.16707571723288323, -0.135941628952933, 0.007679467224508226, -0.35866251942816313, 0.15285735581842894, -0.11808169348158001, -0.4815116896607408, -0.57253316978083, -0.4665403017455254, 0.892170922479827, 0.37329192936564715, -0.5200475476206317, -0.2649147597677352, -0.24373837708805896, -0.13147605496977413, -0.055842742057099284, -0.36448221645134465, -0.26170632574566993, -0.7490975774597732, -0.16880416099885062, -0.5363062752012981, 0.1584679822238323, 0.10660051380971489, 0.017030697115988442, -0.5080911387070407, -0.2132553060584515, 0.19806179796306264, -0.5516372123774786, 0.2876633400071454, 0.16234681912836235, -0.31693100329370383, 0.33436446689897903, 0.3036671418545313, 0.06812440084680026, 0.3240246654550473, -0.1798030294627789, 1.104896286102214, -0.2956986576554819, 0.16909297734906106, 0.2648551220517538, -0.6215975064876808, 0.27951085297273914, -0.3079540094670001, 0.0973403706199246, -0.22178171736749658, 0.36707556472933944, 0.12310082785739532, -0.029442620591816893, 0.15358333899243307, -0.42924296586775623, -0.2579612568730571, -0.2888087505519417, -0.6099052125459727, -0.21389391536809893, 0.09379330777556792, -0.19744543945498208, -0.09566629473250858, 0.7863202254624422, -0.43264331954132446, 0.5571169084340776, -0.12762137619268793], \"y\": [-0.2488325616540001, -0.08749745988182805, -0.15242606376983392, 0.049352567074443396, 0.23142006172421342, 0.23152783927939538, -0.4004047914553276, 0.2637209409321613, 0.2391877682577804, -0.0785907123773933, 0.15682314111553727, 0.13381084159255768, 0.17018836240613086, -0.31745941463484023, -0.5457268623958643, 0.11541935637564163, 0.3509215128262511, 0.1688123074578516, -0.23801598482704553, 0.025471682589165236, -0.012167467675621732, -0.0023105072331183274, 0.09507897573587018, 0.045022728551774215, 0.3011507355692864, -0.773354505962027, -0.17821442451742198, -0.533104853690061, -0.0757138240389549, -0.038573719808685604, 0.4607472767057548, -0.023524210798334274, -0.006504947741074026, -0.33979445746163256, -0.43568543774734675, -0.23786680473353802, -0.0973475155430173, -0.002568272604262222, -0.5352756358595058, 0.557406691896814, -0.3200404091401376, -0.278882790498924, -0.016745417945516, -0.12256648559203231, -0.2601097432019397, -0.07517882468012532, -0.13640399128596103, 0.18930490701836777, 0.2504594470080263, -0.02140228902901904, -0.20817741704604764, 0.16382879476951984, -0.012383245251266429, -0.22382561626716224, 0.5364279521048035, 0.066980619223897, 0.03125441595913088, 0.16891254076078005, -0.4708754941611735, -0.016948848336351127, -0.24531514499695303, -0.10631394608211185, 0.5851244735626138, -0.1568574785280449, 0.5180450450767425, 0.02769856055933724, 0.2556489392109078, -0.2298249736060418, -0.02443627757140556, 0.1035732554363286, -0.5826340054124018, -0.0017631538658969947, 0.1453294790052412, -0.0883626620588356, -0.46460483906997546, -0.05672673279943251, -0.15943541537155184, -0.33854981155975683, -0.5006421216123037, 0.0581318506665406, 0.24914103397222132, -0.04828035265008817, 0.13285617597779797, 0.03322073845458499, 0.04178098172280742, 0.007147433194695586, 0.34696152102257666, 0.2237238699531061, -0.2211555230561872, 0.2037790662348318, -0.29004572506454224, 0.48559927873744585, 0.08381664841079901, 0.4339137708125675, 0.21190612798608285, 0.1916515702440128, 0.5245897401854768, -0.027971830228532793, 0.3207663548746707, 0.2293685444725803, 0.2359308296968601, 0.5350006945100841, -0.25695762545981754, 0.4544088869750959, 0.3198624996343912, 0.5547399067419808, 0.2651565357795322, 0.42292668622883706, 0.46789010611693344, 0.4228057707029962, 0.2631446630786091, 0.15795680851183502, -0.15706945357272628, 0.21551020460292628, 0.3111318356115081, 0.2906082500580313, 0.3844153299010097, 0.2634292688033815, 0.05320114799688854, -0.12529158916878666, 0.1957447131435801, 0.020908021074392862, 0.3931733678719336, -0.13264209537099764, 0.02853590088819013, 0.2813385745097604, -0.3249588472498072, 0.05256863197669958, -0.04982889304662331, 0.34311425941455886, 0.2339458911495121, 0.47863272743912083, -0.19257915847586315, 0.12040363549962588, 0.2177895720339837, -0.14859007696702226, 0.03546239090528007, 0.47940641200553336, -0.13434474150931788, 0.717859551901258, 0.29167626430482535, -0.15008526643373724, 0.4074570029816069, 0.4769218578213349, 0.3916043689507912, 0.3444232366581001, -0.29080812488344127, 0.1135194642746319, 0.07271523385360507, 0.1699262097873535, 0.4143539663153116, -0.3120192670732359, 0.16982930046506517, -0.19251020413148381, -0.383101488306095, -0.9014240662950087, -0.20997417288527973, 0.16708409803625224, -0.050017666382556523, -0.4265049553516538, -0.639357360666706, -0.4491599600653423, -0.490666102252239, -0.3846949967844279, -0.24691968575170714, -0.36745787029332455, -0.6028216805066623, -0.9398497007738816, -0.020666328443678977, -0.5120642511364767, -0.17715742359174802, -0.6195334019984521, 0.4885789506490206, -0.16575525630607807, -0.38732824444014863, -0.2904003430148277, 0.1437461164077388, -0.4307083991854204, -0.10229232104600852, -0.18667269963503388, -0.09267450866365103, 0.1665718637787083, -0.5297539087089074, -0.6327935252402519, -0.4966346267707062, -0.41515958193122954, -0.7840971796008256, -0.3131154202080659, -0.08191758800034273, -0.43604113271679507, -0.43969404735775963, -0.26656287182243776, 0.261470238726059, -0.12415944304313246, -0.1394838307014496, -0.2669138683007455, 0.23479320832493022, 0.03927220980059594, -0.2862426047167313, -0.21040953316044014, -0.22150789707001767, -0.09061381978514696, -0.3430963020436581, -0.4629463568027747, -0.4634840198277748, 0.029209446842522142, 0.048050158749335006, -0.78687804877454, 0.12158494359189617, -0.4609045338488505, 0.06817377250861752, -0.2090966291529426, -0.15937418555369626, -0.3254298980437924, -0.5114593947615919, -0.173498750088202, 0.6494229296840387, -0.16496499120490302, -0.5283137847428201, 0.2958435943609507, -0.21164335771558027, -0.1337306899492548, -0.20184484716294954, 0.15877042660946167, -0.47765846651084753, -0.3995140543985483, -0.7091936419294156, 0.749454025380476, -0.4102658472396099, -0.42258083019654064, 0.2073063063472078, 0.177457545331697, -0.1344160101984427, -0.3201618863729859, -0.45042935070133366, -0.5091278660908298, -0.8436410435454651, -0.042773242048177965, -0.18221912196759288, 0.04392325384084171, -0.1685002611222471, -0.20732405919662497, -0.24132390434548726, 0.104228343602567, -0.1621346251053191, -0.26947272157150404, 0.3896815296839556, -0.5519594275858576, -0.22693324707020432, -0.4227972840533571, -0.056980780430679515, -0.34868079763241067, -0.2583879863723431, -0.4005559600057154, -0.1009824553043849, 0.24939962265164659, 0.09640975786586704, 0.7543971406321724, 0.3820960575938449, 0.1848818627992983, -0.2644219787396473, -0.08839879340750983, 0.27343734927721497, 0.6920812731463606, -0.21738089793322457, 0.473537558881051, -0.22141741962775666, 0.40243895843681077, 0.45563060552566603, -0.09458244423866066, 0.5991971389734956, -0.5233375404690632, -0.10296407545611225, -0.11125214787325578, 0.16747243715765145, -0.0023514685879447933, 0.02310421675800771, -0.27029499279279534, -0.15450291933429966, -0.26649701633852807, -0.17437691270076716, 0.4882960989429365, 0.2531241100254654, 0.14675934976964253, 0.2677307921416227, -0.2592911328225872, 0.2995223543927463, 0.3103441848567421, -0.04131254031319929, 0.13008891676893367, 0.861628344981875, 0.22855978480162373, 0.5314104435345677, 0.8510995326041775, 0.885798213090594, 0.1248184616634057, 0.2251734688316858, 0.15859775814277902, 0.2139122364495184, 0.6674198066786763, -0.122454064955031, -0.3433205661269781, 0.7974646867281703, 0.24789675754313953, 0.021485951818824116, 0.31821580804186284, 0.3080094541240033, 0.30374903603446796, -0.09689575447200365, 0.5347691917563729, 0.13557219101362714, -0.6531100439169019, 0.2746746162406325, 0.10672112862157417, 0.18741854389467152, 0.64807250058939, -0.31993293333721906, -0.19142154503162198, -0.10618483928724773, -0.38175359782851936, -0.03635543855691052, -0.6379753335999814, -0.09058497217256405, -0.06938398637832514, 0.41191069403173736, -0.2289481835174312, 0.032287552578068854, 0.14518867233377136, -0.23982727799343312, 0.11053720208499282, 0.341725478413258, -0.13468213980989144, 0.2844459574424727, 0.36655352015653725, -0.22932362193320752, -0.5884816868362979, 0.1508596727007852, -0.14422496626097012, -0.053869233784216194, -0.3725896494235653, -0.24192507375041855, 0.15753436864926545, 0.19275037553406243, 0.27190378875546894, 0.04108694347059417, -0.11525410235318297, -0.10532872789329682, -0.28696244144242394, -0.012892075291430789, -0.07154221305886349, -0.180063533859148, 0.1395255451261457, -0.34627362508142717, -0.06562988762965478, -0.41184980745198163, -0.3930838095144537, -0.428562200061707, -0.5714906524399133, -0.28853985975928476, 0.13324070093910093, -0.19420118063834113, -0.5447950051652592, 0.2750143228045572, 0.10365569779310108, -0.510635803150269, 0.038880624625267625, 0.1765145673193903, -0.017610757220953184, -0.5013710421848919, -0.40292087184813213, -0.8886820481458301, -0.3202269854332985, -0.12325809208692567, -0.1273542412726555, -0.06353131582303476, -0.29913605814696376, -0.43486490455581206, -0.72277166657016, 0.17876766897267346, -0.4124790381154248, -0.28870700570302704, 0.2664511534468607, 0.33354776151123483, -0.13816774680803462, 0.20323450101450516, -0.29990239642810523, 0.28624019180079885, -0.04481562700070912, -0.06268248983484541, 0.5375364971117216, -0.11047398234980224, -0.005782255437986045, -0.1970606205306865, 0.27563388572285763, 0.8237285332713333, 0.22911442975586288, -0.18461434130459153, -0.18210447878035702, 0.10508500386356667, -0.018180433101485576, 0.0680613600834389, -0.4535944958639932, 0.2004411049215162, -0.15862058116285085, -0.2717712987029353, -0.16345074810242474, 0.49600017907596555, 0.4649886510408737, -0.4692715548952341, -0.0957926931136022, 0.1216813853846928, 0.0869825534936582, 0.236616295322731, -0.2920762207697278, -0.05050698693736948, 0.06094737879267798, 0.7738403951557952, -0.25619552034521637, 0.1551472460203341, 0.7622777993100658, 0.5700093819464417, -0.019782481082435487, 0.609031891954133, -0.11315113870748485, 0.06351105260883742, 0.713657794332115, 0.4327466921403973, -0.15496618538778573, -0.4669565714139284, -0.12722005679217818, 0.40482357593004864, -0.14436979315650578, 0.2876335725609615, 0.33266154584350593, 0.40201910181221506, 0.16014571333364241, 0.7131111672527018, 0.05891955995741387, 0.5246584595775126, -0.11018538586779224, 0.3106285311802675, 0.08542289429480107, 0.45793344689311755, 0.15219326016766407, 0.4182735959644921, -0.03218085769944279, 0.38917204057668536, 0.34586264535778904, -0.11399978107710336, 0.5472487459458173, 0.05919101392721374, -0.18093952900415133, -0.061767771089448927, -0.17615365784303763, 0.12291633559458709, -0.30200360226034995, 0.020105968132565807, -0.3897158697330979, 0.0987870281221559, 0.7194071629265795, -0.11031269855680317, -0.09979103270650165, -0.03689875103533063, -0.09612194130411053, 0.2745635719516118, -0.46908935471259666, 0.3602004063510477, -0.13897882681361517, -0.3319309773092559, -0.10600292583538827, -0.08141997467549658, 0.01754642570786663, -0.5709663339583357, -0.3051739962385682, -0.6945051639595766, 0.11533772674012585, 0.14938639137617446, 0.21753630919543548, -0.022384778859474454, 0.8422731988803617, 0.022009066791986224, 0.03556030895013561, -0.20209301691827078, -0.14958010799697094, 0.015013951188485617, -0.7966397203275524, -0.13530909462379706, -0.1848764722986226, -0.31882461092635084, -0.22665002870189427, -0.1289114122615052, -0.38143486133892973, 0.3089909591750182, 0.2628214328561563, 0.3857554831320467, 0.19119814897259707, -0.0606193803094712, -0.10397584875142436, 0.641269242873782, 0.0971660915212544, -0.26717082821043975, -0.15324137060761184, -0.06781185499280082, 0.42863814439400655, 0.2505683773300905, -0.3010630895635988, -0.34368027470416385, 0.16094110889590332, -0.05472395077176557, -0.16940643784307347, 0.40548898338314443, -0.30782929508976914, 0.2752393499699875, -0.3091933606153679, 0.9004677173463731, -0.07424746126596818, 0.022525823904160944, -0.12572675913377748, 0.35034695643687763, 0.3302299070005028, -0.1630859419968448, 0.19285988855664202, -0.08082564541288538, -0.19564656990750545, 0.15410389174707348, 0.1691764224360205, -0.18233426301027703, 0.3769991664821636, 0.14935104464219373, -0.13335756011410116, -0.3262967430248053, 0.16519244003848316, 0.07817375960829585, 0.2985149767309246, 0.1591673197498266, -0.09445299619640636, 0.2275599131090533, -0.44346694704082973, -0.08486742483248713, 0.1277287581583145, 0.4085450558167048, 0.14977099160003154, -0.23966225401815758, -0.10385379883910684, 0.1540050612161667, 0.4472199574069003, -0.06893048202944517, 0.18021265300991668, 0.32497481990145827, 0.521695436365893, 0.20743809169486227, 0.009203579753088558, 0.4465501676053138, 0.39196007158060747, 0.23431678460663713, 0.4802623600232812, 0.7746830603800366, 0.15125986140304704, 0.8034356414313164, 0.7454473167942653, 0.888694475182168, -0.025793137483657316, 0.11319464958323783, 0.12640932707711738, 0.4061555427938953, 0.13628461197871547, 0.28354524845916196, 0.12657959727414836, 0.1453564429841926, 0.5263789211927576, 0.19136810220611924, 0.10039901864307531, 0.41839537712658287, 0.3117222921486592, -0.4374117176309286, 0.6803579425225604, 0.2419380521391235, -0.020634967829800323, -0.03434825068339423, 0.13755874044021008, 0.06017987200782687, -0.050472376856892064, -0.4268265001254166, 0.21501617965792486, -0.08488147016511505, 0.1806087698742331, -0.10278954188525617, -0.12065244143321277, -0.05078723902456013, 0.38491731845539395, -0.07443105537489815, -0.07702554229678839, 0.045889024504057636, -0.05607296364188902, -0.04609403598045523, -0.20806609064895928, -0.6449559389416855, 0.10139754382743131, 0.07254701506465684, -0.11410650910511029, 0.05040179287731753, -0.2754919746955994, 0.3801523322459727, 0.1816602039367108, -0.1526085287417746, 0.08653799514771258, 0.6151377270865317, 0.5232113949902647, 0.37105570358178996, 0.26250819026005295, 0.01668433041339936, 0.6196012811289849, -0.08240112470161585, 0.449086381698225, 0.5950004316045104, 0.033558320114531096, 0.18397098308178236, -0.23201167603924397, 0.04580435394266613, 0.044980726107874694, 0.3064177620557191, 0.5484883866275437, 0.09842237001387419, -0.15626248765033715, -0.05922678508819573, 0.5748604376693909, 0.30971231228799506, -0.1582332087022505, 0.22819725882825298, 0.19372230329604048, 0.4420811375110521, 0.5412066949023536, 0.07232201582509311, -0.11919592830749928, -0.09619835996585584, 0.019054145520991696, 0.05076304294717548, 0.24306109301464346, -0.06896103704402679, 0.047230908031649955, 0.28038329626682734, 0.21453560605159144, 0.6221283035614615, 0.0556639952859795, 0.6112269595882093, -0.17204671700299545, 0.35451518857766656, 0.05921337682560973, 0.3462525501979873, 0.2541241815383702, 0.10269854659153314, 0.7837965434044504, 0.14452963858594792, 0.45377413710709996, 0.1522962647718946, 0.6006586626464727, -0.05902534185042346, 0.2389923130750885, 1.1712753132509988, 0.43070293991360575, 0.2979987821370722, 0.017554186560786493, -0.2460334386580174, -0.03991064523169157, 0.26771031558561115, -0.15063077188976132, -0.4254680994497473, -0.2357361299821983, 0.2015740931736962, 0.13841312543278653, -0.41174415204345677, 0.017857410987146903, 0.25822342580704793, 0.17556745818022987, 0.2987797428984555, -0.06487242432743127, -0.23879034227970483, -0.11996396460928745, 0.4222165663411013, 0.09988981060870691, -0.13050513589029655, -0.09907210609884497, 0.26088549578868975, 0.4103586090386321, 0.6593664631538052, -0.02039487324648047, -0.16379562441427445, -0.12095275942874573, 0.33024822496253564, -0.07588753945662406, 0.5489129261190878, 0.492998118565075, -0.19718799972676476, 0.17112323136473062, -0.1677494846263117, 0.4921448158638668, -0.2985828088007077, 0.05103610019279122, -0.27091608271061346, -0.007097055098773386, -0.5155086172332497, 0.46748295185101507, 0.2807944257077276, 0.3936995585675405, -0.3219314108813818, 0.1711542576329825, 0.44080108046896005, 0.4543861778332003, 0.4189074197493224, 0.7845894351725649, -0.18994764400096947, -0.04217807720339478, 0.2240464527112122, 0.5642378721986383, -0.6928519810981789, -0.20436657087537594, -0.15982339381346625, -0.23897048953911543, 0.06858173259085482, -0.38209770656016134, -0.2734672004210714, 0.7272996710830623, -0.7113420858110193, -0.6038468603458205, -0.5289272890071036, -0.10030565035148635, -0.5411813039992729, -0.27877277963658686, -0.5578013626993407, -0.5927743522987485, -0.4755721834079281, -0.21407134380328308, -0.3560252647233728, -0.44914627276208435, -0.3565790089092023, -0.547187492183289, -0.7736899154300645, -0.207580205615653, -0.21518676223445962, -0.12334676777532161, -0.6485827505733449, -0.36969420042257245, -0.6568739741061886, -0.38013716113769547, -0.6233219562424697, -0.2900902185684687, -0.2849630533230332, -0.40966109052243627, -0.573223659554936, 0.11910366342698193, -0.47731038149353217, 0.28932827506879166, -0.25617275730346184, -0.7367915067870119, -0.48605937758754225, -0.5021277500198317, -0.48533148783915653, -0.7801061487427946, -0.9104083063286817, -0.35512842574911013, -0.03305786883682642, -0.5218126530184329, -0.3735985917402432, -0.6260886240026723, -0.15759711592134257, -0.6830376562006534, 0.6023594564863629, 0.38810600145084634, -0.03882197437011119, 0.29638029136373156, 0.40689221048075613, 0.3638741158946442, 0.26635139463243246, 0.16302597193580068, 0.41069806160151856, 0.38183743184543795, 0.6858134983715021, -0.2953334321985084, 0.3804889327589502, -0.06546389577200093, 0.1291072878454017, 0.28371694362697253, 0.35768420581724925, -0.048593208337300346, 0.8338818296510242, -0.2717538587129571, 0.25562506737419705, 0.045806955262605545, 0.12923732955368708, 0.21440104716193722, -0.4392159866349629, -0.2407990019799285, 0.24444809202412376, 0.12446669643788734, 0.5439900142117369, -0.0981796235549441, 0.44455382465098475, 0.22944618367357295, 0.1995440550430009, -0.15249802690180858, 0.25196827873064365, 0.008553108485308452, 0.004975584442367895, 0.19671260264697632, -0.13265896037138655, 0.6253642097664549, -0.07898610022151104, 0.2261160143848806, 0.1770087969535166, 0.08006329250463215, 1.1892682766312164, -0.12812896288619482, -0.5557232105806997, 0.6364754921929537, -0.2763758335991445, 0.046001718715860236, 0.682480805598155, -0.09326487738067517, 0.11560313800210224, 0.039973513249484206, 0.46280009686716134, 0.21897258612946824, 0.028361618246088564, 0.2131858104789086, -0.24473867985378128, 0.2886203292289042, 0.03207901236142009, 0.5102426304406145, 0.5735577482691953, -0.04129924434599925, -0.33616300160875734, -0.4262703772434515, 0.34129095976543755, -0.03715053809435613, -0.18424827498782478, -0.014105991487856972, -0.40294094986607865, -0.2442428857782749, 0.603344314862259, -0.1494841401317923, 0.43024417711259044, 0.10952454179776216, 0.0084610425967148, 0.2798772669799025, -0.38399404024216854, -0.261096276849006, 0.30235081399958275, 0.252252773241887, 0.5945246594124884, -0.28626154477976645, 0.15348397499049934, 0.2742595318397276, 0.46581919170158714, -0.2503224733450666, 0.05255993383162858, -0.33832921289901535, -0.6236260089885168, -0.012924693154256975, -0.16935389521291383, 0.05719951742914351, 0.30617492235259136, -0.10684479129830624, 0.1615252591550767, -0.17160157303592988, -0.7139551117020504, -0.17230743356063594, 0.2863783825884198, -0.3591108006006095, -0.2631760765744961, 0.2172104534423499, -0.0017999685843549744, -0.3154029997406899, -0.06731692525895452, 0.1318162175146998, -0.48375922246204306, -0.22370574393048193, -0.1155275359630454, -0.18982251564781777, -0.5350978048135193, -0.6879584605906894, 0.2221051884966029, -0.04961699285986843, -0.11802915452169728, -0.16848400831663252, 0.5485809144657595, -0.04663850992160456, 0.13498698544577767, 0.42274458033188317, 0.043090020242889396, -0.7662492582396658, 0.2267815135947326, -0.36491408045136137, -0.06355078337704781, -0.2787810146695069, -0.19797484056870915, 0.08926171515964473, -0.37965485657635334, 0.157516104364932, 0.01956587536451899, -0.5091067222380705, -0.04726748527528104, -0.30196298985348186, -0.24543777868647468, -0.4056222498408661, 0.20666331144986172, -0.11409452807877803, -0.24381780270188527, 0.3481170378289913, -0.009818173852477172, -0.34247204275346577, -0.6869296938320415, -0.3416746307166428, 0.0460754667845331, -0.4982795286317831, -0.5295000076858253, -0.21046649315810592, 0.8607577179575179, -0.18495259146243326, -0.6541416711933278, -0.4054268117113902, -0.8773992687855531, -0.46385936244047205, -0.508544183822891, -0.5529735442607608, -0.3894126429321218, -0.30422240650412163, -0.08450415195691977, -0.18450716014907956, -0.1191002893982941, -0.5797411942723787, -0.25753184693651365, -0.4417215686573091, -0.14485868643817287, -0.2922526216935199, -0.28374548711765807, -0.5199721727973603, 0.13827695117187966, -0.12690170882632015, -0.8922909552039269, 0.3094323254429479, -0.5485200446077441, -0.07441508068507036, -0.1788552778783477, -0.7048234922906236, -0.2493081802253859, -0.3522839764398189, -0.554361393983555, -0.9198880313183906, -0.04994877537658121, 0.06250020375197442, 0.050932145191567114, -0.5024632949032775, -0.5999347247531391, -0.07177379764231129, 0.3377246306432896, -0.07225411019329273, -0.4356733893951525, -0.50416468042792, -0.39402385262810535, -0.3372821636901068, 0.05283746330819991, -0.6825198222763014, -0.00596680012033221, -0.40767878278707603, -0.25044992607254446, -0.44889234309292814, 0.17187272989175148, 0.34497304955414754, 0.04613229652451059, 0.08244902217981843, -0.14612378612728238, -0.07864780607914032, -0.2546817543246889, 0.007417462341786566, -0.3220576624075504, -0.35384111617510006, -0.3070310379320725, -0.2481025034155587, -0.055405350853786194, -0.2136473827127463, -0.4503056284910103, -0.038611743648236975, -0.3615245171032352, -0.3085208203702737, -0.6407276775246421, 0.9159962739441477, -0.09695793603730637, 0.2174859206720363, -0.10791266378973378, -0.27652177329350436, -0.238873369435782, -0.12885204988853255, 0.031193426226809894, -0.4920677938207501, -0.4233239292911286, -0.22486151813482555, -0.6494641623192491, -0.3659839204146265, -0.6209189888241817, -0.47894054140394354, 0.10237611420780063, -0.7076299434552586, -0.5999260229805803, -0.9856280381804478, -0.3036842313846825, -0.30810542150973025, -0.005843179141282356, -0.11374282476933062, -0.2999754571338035, -0.4462707033532274, -1.1253512859349748, -0.10172943172043312, -0.5042129956276044, -0.4087686566991461, -0.14648966232112604, -0.20425606135948135, -0.14678273565207453, -0.31133463038661835, 0.11465261982673165, -0.18994335839090162, -0.7277399138290218, -0.5194803031564406, -0.43360770154747547, -0.26917699227159536, -0.40807363019859905, -0.036241082991307794, -0.19245904550589404, -0.5720648347526478, -0.705635130392252, -0.007419373183300931, 0.24147432823423418, -0.3586741009953394, -0.3656297329219124, -0.38904209838676906, -0.0836999210763962, 0.10584396877637674, -0.21550683036886825, 0.19349535209055882, 0.12809938951242797, -0.7309036838273559, 0.018631542275364166, -0.10442236149061115, -0.1460456586517221, -0.15823585594246573, -0.16838133463311417, -0.5040955293315805, -0.7422073012461353, -0.502298165723085, -0.5725349999680067, 0.44784197594465947, -1.0211459549124142, -1.166752366397342, 0.06049137434991935, 0.2795258221140868, 0.5910288075947651, -0.06800688691282065, -0.13847160380854773, 0.24504878595108956, -0.3025055101008124, -0.17040872466376505, 0.0014251656810919848, -0.20275762999552124, -0.24487211678348675, -0.0012826553160345006, 0.046282814346779735, -0.1820788488827126, -0.6451131498077827, 0.30266706572240826, -0.27431320093913314, -0.5810690517074588, -0.37084153274080806, 0.24155116674156393, -0.14557078731322917, -0.3826040514314809, -0.25168956124633457, 0.3806265338190784, 0.5827106135801996, -0.5302689978463554, 0.12053625389022228, -0.2765952237972106, -0.1802801601965495, 0.8339656181165509, 0.1592728552992686, 0.4789540139693758, 0.39571898961083196, 0.027992041364399266, -0.004000811037708445, -0.1251013995717634, 0.027432268448979974, 0.1592643292438306, 0.3655474366393488, 0.3641992562468808, 0.5209872134762462, 0.8885756840483321, 0.12669137822674723, 0.3811062150522751, 0.2813966179728504, 0.454694964137473, 0.1662865338745097, 0.011054322497791128, 0.21057898891334864, -0.021811042103413916, 0.4394568960396474, -0.06192073073108838, 0.01942610260214116, 0.4457616254168281, -0.17502334375382086, 0.7672692896462096, 0.2565257663401292, -0.43840096620266394, -0.0028381728918425203, 0.3992073698542326, -0.5848400933100012, 0.09122535170409747, -0.17947821613681117, 0.07501631599021158, 0.3878281508217217, -0.5424335682453754, -0.6065026235209389, -0.21262268047275673, -0.19748563435549144, -0.21383194641676434, -0.3729578193114028, 0.20188231018961558, 0.05855694827896646, -0.4977863307345034, -0.10817319299626756, -0.7263908908835469, -0.2684426639019606, -0.30868862504772543, -0.15619532255973578, -0.24991972497367063, -0.42848287936124974, -0.143190898436971, -0.22665188072197742, -0.023984590114837702, -0.1780725918719984, -0.0753635000912809, -0.3601126432387482, -0.46010968494319154, -0.19057935957441388, 0.40595751597161106, -0.38006463390009326, -0.3393522762095001, 0.03185007644781786, 0.20387607737996402, -0.15789191366685038, -0.0812836368162727, 0.2992674653038884, 0.4254136590492166, 0.02409796487630724, 0.17756740274708452, 0.024786835709993387, 0.17107126046197685, 0.43703658253538574, -0.5321707844307526, -0.07764431826122668, 0.10853924096248925, -0.015798728726807033, -0.03865469816477675, -0.19419677288882958, 0.4530809133336701, -0.2943382400375756, 0.06301503354716166, 0.5046444507555362, -0.01661476143953546, -0.15341084936574723, 0.4948260399425523, 0.08152347268816355, 0.14182812239901574, -0.1821604845994183, -0.03604634376570484, -0.3771644250544837, 0.16383118792479798, -0.43746282235999967, 0.05041993158221047, -0.18209727327174546, -0.2419109403693577, -0.3637486799945882, 0.18198384474270957, -0.32706012899505044, 0.11959062295589437, -0.0030266585687912994, -0.8626431921940941, -0.9292020362176384, -0.6478806272019164, -0.7075750228432134, -0.17541878523571047, -0.5372274015225811, -0.9171892100669645, -0.47769436346134697, -0.6544520500964427, -0.342327304924978, -0.19920024050390556, -0.42531570769551896, -1.052000886586197, -0.24136292263185424, -1.0469859386697005, -0.6474006506444547, -1.1938106957895604, -0.4617832922903812, -0.6386173143645155, -0.8917948603582184, -0.6077787032714863, -1.3681600210001765, -1.3219539284254762, -0.7805832605219143, -0.6146499695846932, -0.4146341660236708, -0.35064677644806097, -0.4896696568818268, -1.366096674614595, -0.886006318369573, -0.8498250706922111, -1.3897302155068698, -0.6846289817026087, -0.45351989861702446, -0.8000216261074761, -1.193049876841994, -1.0538762705045437, -1.10132751520252, -0.5616762202477487, -0.7944623571813695, -0.5625714268641338, -1.1301247923368112, -0.4983708234574917, -0.6661717954174169, -1.2911513689373937, -1.217139528770281, -1.0437281456363967, -1.049301673052434, 0.22555474110583895, -0.6767562009515881, -0.5270473750292457, -0.9834198904574744, -0.7400871834904907, -0.5110918778168665, 0.7715321070695694, -0.259184811479614, 0.002522549704800089, -0.7171047677964736, 0.08842928537055463, 0.3127095095556656, -0.10969155399229681, 0.24371583518877094, 0.1981029435201339, 0.4529833680209473, -0.1384548207129278, 0.13387793446015656, 0.4852671154015261, -0.3644201661537397, 0.0609690205988892, -0.15959036493468842, -0.15748895855612396, -0.06429128152685855, -0.3440308766452917, 0.0679580017982495, 0.14892770878951994, -0.04986835191593278, 0.3505394116931368, 0.4516821456066287, 0.7434353189588065, 0.32546640076683686, -0.005085160153436981, -0.45942759901309543, -0.12530839576561212, -0.02043982652499094, 0.09183184588557905, 0.0038872346970057685, -0.2108280768152537, -0.283933757193362, 0.09921428557884182, -0.11731039832479602, -0.08889562457340945, 0.10139401384881257, 0.08944087257461539, -0.09758706802105474, -0.31295748941467866, 0.45315844751190304, 0.22750493850558723, 0.4513737670304387, -0.27548252436161974, 0.20932848539576787, -0.4085748466992061, -0.05696864042239487, -0.2577948050303, -0.20207931384981315, 0.070211391840577, -0.13427417009888343, 0.15060838115961658, 0.011904161458598331, 0.19371101820049053, 0.36250147767108587, 0.21995590819036265, -0.060457557824812554, -0.1882510255530657, -0.11525009089364438, -0.15007113233807898, 0.021552574602951343, 0.30167423946850846, 0.26350171259605526, -0.1436466100678139, -0.2601211525700408, -0.10842710160341794, -0.3011437799530828, -0.12416524894659807, 0.1098964975310347, 0.24574401691742476, -0.06922578682268164, 0.11879720204112842, 0.27155836065816324, 0.34229642473863864, 0.3609066943824451, -0.025628213605282377, 0.13791223329016736, 0.125763825869041, 0.4673071010662633, 0.3842316599111349, 0.2787638112305081, -0.0059298597609038035, -0.21326851722107287, 0.17853659254729135, 0.3675226967871833, 0.37137682968534347, 0.2835300411324518, 1.1118419843849272, 0.4707125118673061, 0.7671857381980969, -0.25983087245871467, -0.2543507950582372, -0.0320549869868511, 0.5456792910959279, 0.42389341843760264, -0.3291991912042025, -0.08676961425880175, 0.4096863736003776, -0.11451785944064338, -0.32231034686303006, -0.3230942324578188, 0.3089538771967641, -0.22271738509866687, 0.26484193227688574, -0.5160367308401149, -0.2577758323288613, -0.14508125349772594, 0.516961542711119, -0.2073746574865771, 0.06256206614905829, -0.059962830103696574, -0.13838738368340958, 0.16035492025557568, -0.13972111278174434, -0.0674537234471203, -0.0794873549544977, -0.4731540587523192, -0.08111181465681913, -0.3711393846563548, -0.4340134197992799, 0.2097140472511588, -0.43578082142589225, 0.2761056267180809, 0.580316353471341, -0.3410489846016096, -0.11257857438991843, -0.06794118450588044, 0.3526154809048919, 0.3378240623033852, 0.2957362807546923, 0.551084596142179, 0.04065434863068189, 0.2681403481899193, 0.04144860959625124, 0.0259529693325938, 0.14731394667404088, -0.44176370703367673, -0.1518938113744858, 0.04033777654817394, 0.08772616962621045, 0.17860673678247704, -0.3376213712824341, 0.1680822199032392, -0.13330693044817077, 0.2530664542231639, -0.11857767262255584, -0.36519114341685927, -0.48547868238577596, -0.3165836403703271, -0.28472803833545923, -0.14404695264988995, -0.09978296399034987, -0.2843835018457642, -0.2693956581151646, -0.37763546104450163, -0.15679489700351157, -0.02891673960054326, -0.2617846800003759, 0.5364472886730147, -0.1729844165364226, -0.1236746313316873, -0.018282029266723742, -0.05372201639887567, 0.03682683317585553, 0.12382535237226286, -0.0861134756776931, -0.26980415162264293, 0.34690616011389647, -0.14964701784046472, -0.43130877845790216, -0.07909717003472685, 0.029959797551107274, 0.39615551048660297, 0.03926835382432475, 0.5904078163010987, -0.09210344029129193, -0.5434596704892862, -0.3088831713392108, 0.0032802276914053307, -0.5818094637046108, 0.36506643491592367, 0.2496647434140685, -0.27616929455865485, -0.02911864439716513, -0.38433775045620633, 0.12210676270679624, 0.5557989975659783, -0.34697846487335354, -0.26036336586507164, 0.06800802522481598, 0.5533258253891419, 0.19574489777037807, 0.8065002661800953, 0.3484237528902979, 0.44359158189547393, -0.08039689024867618, 0.24964778381104633, 0.03865325822521396, 0.40061336638074235, -0.22910719084727293, -0.030410013616777348, 0.29868925016234, 0.13143652501971712, -0.6057561067419048, 0.20641814097500372, -0.09843765812137945, -0.4007007041595966, 0.49616410362600033, -0.3397131530164892, -0.34725444442749737, 0.43764204538314905, 0.19192917469939774, -0.19115265464630724, 0.7497896380508171, 0.03143518298813678, 0.21690008797889065, 0.6460714441687909, -0.2505620402714694, -0.3812601231329138, 0.22057786092961637, 0.5455890060806715, 0.3359759147630726, 0.19635335937038992, 0.5392284367044409, 0.11362175246019442, -0.03500103824420444, 0.5210109587679499, 0.4763085378074136, 0.24333884784801024, 0.17903874505617948, -0.18789086632662638, 0.3194862856872996, 0.3681407187320864, 0.5152510822054105, 0.27437643710155685, -0.011909793479298731, 0.33346884287071, 0.4031260675386367, 0.14586051492378524, 0.4001611845141412, 0.02061944195622478, 0.05279496772562855, -0.2458167265304518, -0.10668696968640583, 0.8436204288317452, -0.22032975720286216, 0.3959838397225569, 0.21562971743855994, 0.43362283724611056, 0.3374589710405894, 0.4007337071407759, 0.217491428292019, 0.1449582513499166, 0.15238233018220618, 0.4630612451530269, -0.23799840201554942, 0.022426149255556797, 0.39114178136060024, 0.17745343817335452, 0.08645028569959731, 0.5091552305912136, 0.5383071403690066, -0.26172161380427306, 0.04357755889817381, 0.5424746411380904, 0.5673848346966542, -0.3806230083789079, 0.14615903485086085, 0.7877267859967704, -0.0352964834337713, 0.2306790913396979, 0.3108158712885645, 0.5139676221562124, 0.6382899838217467, 0.5800568907037568, -0.04987573299271654, 0.3218846269907275, -0.13026680214286065, -0.041129935385541265, 0.21887582666588143, 1.0113243917396302, 0.10758729600911263, 0.3465895919627939, 0.0955956249201287, -0.19599405448025797, -0.02289252367924432, 0.03786908654148453, 0.08994041222008291, 0.16289940310609158, -0.2696842729262236, -0.2783652119838834, 0.46736494276794616, 0.17603403167014703, 0.3178332501158874, 0.1907238410544211, 0.34392464831099095, -0.1930182658998557, 0.26998566920201433, 0.06334852188719106, 0.09037887540653271, 0.02748888272552471, 0.2864525845186759, -0.4159944036186292, 0.09528965181441035, -0.14872990058170973, 0.0010521345468616486, -0.21118412940292675, 0.11243004226316809, 0.11413740603322144, 0.06871746701947129, -0.15364723011440445, -0.28476943606392235, 0.16142703330382221, 0.052164108123847676, -0.10283552157077822, 0.051858923230941836, 0.2875090415488213, 0.10894824824909059, 0.732152812882656, 0.15922903986679746, -0.37412793425979557, 0.3266855524988589, -0.08363475778999732, 0.20643820094094278, -0.1819903786638833, -0.2057223240359201, 0.14888889221784796, -0.20489286572297113, 0.04254820033822022, -0.012913899511455712, -0.14293339306015754, -0.2639388749389178, -0.11366440185654245, 0.16812212217969794, -0.26082165346432507, -0.20412992855118295, 0.05648410345931328, 0.5214516025303515, 0.23802067563765367, 0.029463478839206945, 0.20290905839986584, 0.07525588230098365, 0.0900283191765359, -0.0004132548855844762, -0.47155395792967636, 0.021452356487398815, 0.16979858633891506, 0.31114570213233145, 0.7437999951429674, 0.28361713269717115, 0.2475453398059389, -0.22662689997538277, -0.01600695927813108, 0.5206870557460674, -0.15479734408573523, 0.31032675256378905, -0.1625385311076874, 0.1816035232919502, 0.14739861833317844, 0.32653422115816727, -0.476127942469094, 0.29396291880650227, 0.33517993949408065, -0.40102297670185993, -0.017193313813794946, -0.5163342830889185, -0.5078637910064455, -0.7338339603261289, -0.36434906918626386, -0.7693189339000142, -0.37615119917495743, -0.6177435499833498, 0.20998439447988201, -0.6933926576065895, -0.15088157327227075, -1.1289507569452069, -0.679328519115802, -0.5115160112552302, -0.4632086057400878, 0.1607471737889844, -0.3125420766067061, -0.4953392070229351, -0.870971349045835, -0.6552808824698036, -0.5529528609551929, -0.484907478969254, -0.9790027634494222, -0.5180202291912199, -0.6033426920467122, -0.5400618010310834, -0.7592077679689497, -0.350991327384465, -0.4492061469787961, -0.20741516146242345, -0.3543058583959472, -0.4350377512372472, -0.5133486513473426, -0.26944024232683583, -0.3199526034940589, -0.595360667651328, 0.08333160609188744, -0.37852001867059426, -0.019649370364469985, -0.5236456772160392, 0.4690032259869354, -0.2156694198885469, -0.2292936591220635, -0.6057005723502518, -0.6758365228724088, -0.10684627097941521, -0.400192533544163, -0.04815049910387024, -0.41350290754838337, -0.7638743390531993, 0.2626573507188139, -0.07724306604334444, -0.31547813934362495, -0.3597668295898867, -0.1369994648069223, 0.09106387261801913, -0.564361887785449, 0.10637445775633945, -0.32790338208004793, -0.774296387499026, -0.24663515387140417, 0.054453548304793875, 0.255384695830934, -0.3080883955011238, 0.22729608826994446, -0.31905121664627545, -0.4095329656958769, -0.08966620036282594, -0.6458041058300539, -0.40208477853883684, -0.3179676696290169, 0.3950780436883594, -0.18424138811222945, -0.1973508885542926, 0.05586616528318305, -0.8012678812687366, 0.024236143615731273, -1.0642914260951037, -0.7074384967560229, -0.6646884777133063, -0.30330366490778626, -1.0135421087984915, -0.39580082504492486, -0.420042518809954, -0.372039005308243, -0.4690030512054628, -0.4638205601222655, -0.05814082375284219, -0.22822710576231628, -0.2755025689665598, -0.1252383503956892, 0.10257336233746533, -0.1554644364389127, -0.5048667689430146, -0.5055097407553082, 0.0689305907534459, -0.02572130044856171, -0.5307961188540626, -0.4271687923090302, -0.6069055701238634, -0.8990835042074659, -0.6405641243237679, -0.8223994947545693, -0.4370527869653367, -0.6918306932070122, -0.48852475960615804, -0.14790632641479406, -0.3759189660027688, -0.7162265796158247, -0.02517820297727257, -0.49072400819451745, -0.4203437052281778, -0.6602767714758702, -0.4440111380010726, -0.6294037037030799, -0.4819381973349794, -0.36659795948249835, -0.4181373390462622, 0.1355641341915397, -0.5837444145571868, -0.46503539455189313, -0.7342119404778872, -0.5181123996872691, -0.45782204068138627, -0.38614785384221456, -0.40822431228884065, -0.11342376793847704, -0.7095938449602778, -0.2052320111524642, -0.6012519033495791, -0.0694168298778677, -0.4273055172418372, -1.1401971270984421, -0.3712482806132382, -0.54653395574345, -0.2651532897812711, -0.5247858870822549, -0.8042691934502764, -0.27917346122499637, -0.2535451761062188, -0.4399613587473154, -0.6538774341442666, -0.054420478245445755, -0.2418105684622059, -0.08707464192081442, -0.2186908223083073, -0.18050357406638082, -0.07197655669760172, -0.09224715986520572, -0.4202014615474107, -0.8560710219311073, -0.10427802451352527, -0.6227463094871737, -0.059194385646908446, -0.47715066859957317, -0.4359316554321199, -0.8089725458020434, -0.535149154395767, -0.4858339154879609, -0.5287663506088445, -0.8677831995372622, -0.4240879390349191, -0.03939292892439052, -0.18035869678255273, -0.8162252480412899, -0.3637728769765497, -0.35359518415183705, -0.3814413991070898, -0.19752845828878163, -0.444606493922073, -0.5544648455976895, 0.030602659487430607, -0.3347084331623278, -0.2396963334681688, -0.52263103412719, -0.6262060053922509, -0.49267336317680865, -0.24416429547918508, -0.0714173586615313, 0.4511934601434026, 0.05069250532785366, 0.2916103699706983, 0.36688179747722643, 0.08862668193574054, 0.24525241947441545, -0.11415146994037538, 0.05347599567618225, 0.060709637391028054, 0.11475301279858002, 0.16368819230240517, 0.520589922936802, 0.08736443686421473, 0.23083122175878246, 0.027224141828215285, -0.10366993402825306, 0.10192208960756978, 0.1176765319211855, -0.18323239890454654, -0.1851290211796648, 0.47578723345917184, 0.3877716717704217, -0.4902461328928816, 0.06802410040348573, 0.047036269002189095, 0.3305669397475006, -0.19202277804153292, 0.4102184977382826, 0.11514900231264442, -0.2680772979092642, -0.4650102782495889, 0.04798081796442635, 0.002838944678291314, 0.3531839637394264, 0.03697402651756329, -0.31099760819847405, -0.061526225983506926, 0.4389373545539953, 0.1050745524955646, 0.2424363909891708, 0.39818047050161437, 0.4866535199329867, 0.29712692717083583, -0.4307733326785585, 0.6785733993356152, 0.015422632527311747, -0.19124822523861346, 0.02694213270085954, -0.21595390624003813, 0.37804792693419076, -0.019178249061231546, -0.21570960840715084, 0.25207474163219384, 0.0220162463218702, 0.28569326380552484, 0.4241821915701644, 0.16714221797841808, 0.11145770300635402, -0.17144786919645413, 0.6859495202075674, -0.10286968706618, 0.3873365740023719, 0.4055008703434118, 0.04093190601814435, -0.06071301383010801, 0.6682215270362675, 0.17851596603250536, 0.056316016911425446, 0.019880213643503408, -0.08789517290972547, 0.2768513192066608, -0.27438358089483217, -0.29284943583153444, -0.0024726422932834728, -0.41440771446178604, -0.43889914967879445, -0.2572233788425399, -0.3898504935601524, -0.2961914722342852, -0.3836348735494938, -0.34685840983696226, -0.22395141819315842, 0.14808406212775196, -0.5446498907781361, -0.29403834834716097, 0.10809299757411335, 0.10241991617824425, -0.2896130730442191, -0.09467166397426385, 0.3552605600754787, 0.1239323461718055, -0.24146003723677853, 0.0763961568630345, -0.13076050081670834, -0.4024694399419829, 0.1355693466109415, -0.5070954709121964, -0.0655901397017784, 0.07867974648815486, 0.06533430420219156, -0.4195616153572574, -0.7223412838614255, 0.09876311122165848, -0.2512954601890216, -0.1028648082179883, -0.10294956545662608, -0.4400321591432699, -0.1653886784173054, -0.3809629925220091, -0.27221178486048725, 0.07224871896810664, -0.0749099641079221, 0.24371053865431622, 0.14511618876448892, -0.19059031428008577, -0.12873955642057996, -0.09445745340051816, -0.13146921791694602, 0.8170402974539099, 0.034233881099411445, -0.07153537164334546, -0.25886816249727806, -0.16244179568725126, -0.6093979847508664, -0.23263877433585187, -0.16693137068644393, 0.1292964131486217, -0.4416706413369906, -0.22285964012593734, 0.26388269142861387, -0.014095076351070787, 0.7271124607911765, 0.11826608991341195, 0.03298499969027686, -0.3725038837826339, 0.24927661193728096, -0.5604869526881066, 0.2856050486904042, 0.21951871297904454, 0.2135890667310397, 0.01631347639194283, 0.18313260187230562, -0.45124114000638493, -0.04749312716158512, 0.3666598023889336, 0.08667777442934767, 0.10021884227858406, 0.5334482459667982, 0.09637141001209497, -0.03838216939773638, -0.06605574591789327, 0.0014209040153600582, -0.014482750296342954, -0.0014354538828767927, 0.2055765292293173, 0.32458122249456817, -0.2590002205542474, 0.03329007509153882, -0.1465490307181241, 0.04548236621792909, 0.12842337442006754, 0.41421908118446676, -0.16906483014222856, 0.1217327730989422, 0.14626666663127594, -0.09596092128342022, -0.006222634639799835, -0.25958865937497994, 0.23301759589670856, -0.09406417488205081, 0.08933983678323992, 0.5489855212811451], \"z\": [-0.6630642028585279, -0.7453843116762924, -0.5434275467271428, -0.5000981890513059, -0.33196581658932905, -0.4162515494842621, -0.28271141250251375, -0.34528416721416855, -0.4078545895992382, -0.44386123985773573, -0.3748720551870174, -0.3553197137049128, -0.45426511570688405, -0.7048177080319965, -0.46038902621855715, -0.2540351121590622, -0.08987360830628355, -0.024791366499219043, -0.4180507616839522, -0.5445014170605986, -0.5278971652484975, -0.3657725951735025, -0.31773424984918575, -0.2546473678695161, -0.3664215394792903, -0.4647251463530908, -0.47698704003183073, -0.6198680373512521, 0.10735420035601155, -0.5134015511077478, -0.5673609631118134, -0.36850661302940685, -0.40054761940867734, -0.40494203519326194, -0.7226869196082597, -0.44374730594690687, -0.6051264078526672, -0.5846813820428163, -0.5249799936193721, -0.38952666913824335, -0.2968332760128089, -0.4016929041200775, -0.44861756496362043, -0.5648316190398739, -0.8025044113261327, -0.5811811536758253, -0.6137631461102162, -0.35620568997844926, -0.7344421888723527, -0.5753990016173153, -0.20264226088581622, -0.6078463584939536, -0.5378993542166441, -0.6213365950459283, -0.02234250616251167, -0.40608261258430045, 0.014173904174313691, -0.7047762250821193, -0.3933182845613443, -0.37934662800134183, -0.8116243127018223, -0.37621606777531125, -0.39713743037614074, -0.39654451346401776, 0.13091417043223214, 0.045720383608573674, -0.5306325093820201, -0.5510484801439876, -0.5046973860944738, -0.6763438519032535, -0.6189974027822843, -0.6406989027240453, -0.637019959201869, 0.02531063618940516, -0.15024852683231346, -0.6366882634938493, -0.4429025030676686, -0.5689037749764054, -0.7499267227452651, -0.5192547543549831, -0.44568385961038354, -0.19805420667948995, -0.5607828070670924, -0.4420989309778, -0.5830978984738352, -0.6661906934418068, -0.27234972345781877, -0.24555562328631386, -0.6374914844248101, -0.3888427670061284, 0.02831973702213086, -0.2707091554638052, -0.5078313704506153, -0.5011186135654669, -0.43513817614831146, -0.6492460326842763, -0.3579888426662669, -0.3232984532842601, -0.24658736041556176, -0.527289266648817, -0.1809223269542275, -0.3224991552859771, -0.4294924409533317, -0.33354054045493625, -0.4243077502759578, -0.0961828423130944, -0.5684442163175846, -0.31761967015169895, -0.4361822494792172, -0.3897467034088497, -0.22632872206545587, -0.5059284817287796, -0.5626216703794357, -0.6053287588104932, -0.6321319987478402, -0.561395749758409, -0.31152877742627055, -0.17266654398949438, -0.5001183967823819, -0.1904591752717451, 0.0005292087417779378, -0.11688675328259061, 0.1685574504076821, 0.3994912623387758, -0.22244886665322894, 0.35312706573313657, 0.19616537437251655, 0.19363895564756886, -0.022844490465597368, -0.08055376653499728, 0.06410292374118737, -0.0324894409322844, 0.028182977470575306, -0.2199370950826468, 0.5478493694568604, -0.14837761342659436, -0.13588719505622288, -0.07148693613320631, -0.08778768668885661, 0.09741707857772344, -0.06624472224397086, 0.17803590357394888, 0.02176352020340887, 0.21109525245235056, -0.12793829205658847, 0.45901629746726563, 0.04179671317565832, 0.10605954981106917, -0.014335327614510538, -0.14847568295043517, -0.005075818956291882, -0.12244310752753036, 0.09745330177496861, 0.4264378655452705, 0.32860949803759887, 0.06225879096075647, 0.5434612935377535, 0.6678147429030977, -0.02057654650625273, 0.43381759470823217, 0.48103485179343386, -0.11747022584008018, 0.05468448238070621, 0.30266754620652897, 0.27173964332915546, 0.33032585464972053, 0.1670445718099192, 0.005124015030724924, 0.15859268035131038, 0.011118742755530792, -0.16587882861150896, 0.30498272628589307, 0.25195685698496273, 0.324577642122274, 0.14439681508166827, 0.27112222862640206, 0.3704698461681235, 0.7081635272208875, 0.7245452121447001, 0.20018177637854181, 0.06982151372496408, 0.3876804404904433, 0.31957309110100846, 0.17959088759501626, 0.726831083257242, 0.23793409250320774, 0.2925905989584567, 0.029793893389802994, 0.33891288023557775, 0.20567960610690855, 0.3757878476725105, 0.7532256177011617, -0.4086311021728722, 0.6729935638565205, 0.12535783533919692, 0.35327795904563014, -0.143428292884707, 0.15683765542280967, 0.17626654933159522, 0.3803270512360162, 0.19478059002002462, 0.3425539162699644, 0.5458465515643738, 0.8789650149578159, 0.4538026672397608, 0.22847325557539566, 0.540185955530973, 0.7123920251208835, 0.2021082656508606, 0.2099645118268647, 0.4514716439651881, 0.4135048543551485, 0.5735014929297801, 0.22001567867819122, 0.2590767857255482, 0.16657431688928842, 0.5074306604846831, 0.6869465281250257, 0.3512153405298524, 0.03752260007699162, 0.415232971044007, 0.7545464897841556, 0.6475596312370411, 0.3608595945909402, 0.27751976952717405, 0.5036093231404869, 0.23103855858724337, -0.13145003699620994, 0.5042419409538507, 0.6059887642508909, 0.38065616337533886, 0.17525435278106608, 0.6739378197337945, 0.3858216437642458, 0.1441296465981095, 0.29153673357869014, 0.3184977487181566, 0.4640901090923716, 0.4271940807882326, 0.6748214805809409, 0.19582108146231317, 0.21063573198489133, 0.18896066157136945, 0.45519053001482185, 0.5217349390117093, 0.5601385964861555, 0.2545566140014953, -0.06545839663222822, 0.22455786337067907, 0.38715381838943946, 0.3103046712209817, 0.3287430958441664, 0.6923096603476857, 0.7425811241517243, 0.3371621987022453, -0.1489047424350209, -0.06947070587203237, -0.23401184163801791, -0.2108637846770374, -0.22437319037216222, 0.04378345621708275, -0.1937988087501754, -0.002971482003058567, -0.15409527881641744, -0.28155298489313946, -0.046490891033229204, -0.3464733513600096, -0.41274478574345147, -0.3188194059960203, -0.17488131225795206, -0.4828188067330785, 0.2696151291708561, 0.2518076065243064, 0.5283519882264869, -0.34596768479512047, -0.6330947889157299, -0.09411666307542776, 0.06598447637315404, 0.04827993083900717, -0.15645291971457265, 0.04809507902285129, -0.11518056908280878, -0.1615643545652183, -0.19041440668635345, 0.6239314348451501, -0.2019481553227974, 0.39680514868679095, 0.021751776174067483, -0.32641160118122525, -0.11741200873115978, -0.24172958679832646, -0.26607892496837393, -0.09337511228920972, -0.028169179818931855, 0.5507699298530114, -0.08405490353701224, -0.06666700265227944, -0.02427826136491217, 0.0018725410399003605, -0.25420591531318476, 0.03836574612588154, 0.1472286546041721, 0.17676793701027635, 0.004265406043034299, -0.3650838863550388, -0.2855046918502636, -0.1951269884668629, 0.25056188661824225, 0.11689444589530523, -0.10239982870368235, -0.29445295674999356, -0.3367031611587278, -0.11692001220142742, 0.0032872457394118584, -0.3611368578406573, 0.18953759621305452, -0.2320630626015637, 0.07056666363653108, 0.2547899559924723, -0.1818124423897798, 0.2264524790023938, -0.2615031227153012, -0.2615609573669697, -0.058282560089457196, 0.15239846495132603, -0.06365538020571872, 0.41300842212347644, -0.16189225756469056, 0.0493082091897293, -0.28305040570037315, -0.05624186355177182, -0.06317329768159813, -0.2715104281271443, 0.1809819791536678, 0.12260805299458864, -0.2509393263028232, 0.37785985298061864, -0.3009254618353707, -0.1629329206440644, -0.43216158510237035, 0.21642802855897258, 0.054514559865930255, -0.20362726619174418, 0.3149815634433369, 0.1527607555057679, 0.0285014140173392, -0.29193315172746, -0.11188467821594104, 0.16851695126638291, -0.10447751469893933, -0.11346444540200179, 0.5045859993310026, -0.21592461457844295, 0.2136515898816268, -0.106234340984724, -0.01270298479550526, -0.13466471104914848, -0.372994284398336, 0.190133508508359, 0.7527927385394231, 0.313232915269974, -0.09050112901140285, -0.06854103722162447, 0.3397858240320663, -0.5057012671805764, 0.2336242945060321, -0.19094201427029056, 0.041615846218016984, 0.07057701123314855, -0.16550590589647196, 0.500604120781755, 0.4713599989540789, 0.39823366960382844, -0.17484270270370117, -0.13405287994195214, 0.7804716128586132, 0.14190912680808165, 0.15303714128934529, -0.152850668430181, -0.16252265453570724, 0.32491622968538203, 0.40033214036616344, 0.18431364136203957, 0.8018115706026884, 0.0035130709584388392, -0.18841471785732872, 0.1767926355929775, 0.01704221223294444, 0.7249631666192871, -0.1369912955494194, -0.05748433654247433, -0.12497207566729931, -0.12322742110498336, -0.2971393327737075, 0.01826629587347907, 0.14237522361973956, 0.13537134499828835, -0.31673257267233634, 0.1843888556849582, -0.1830950762662896, -0.15617340790812992, 0.34000151340704027, 0.5036154288377241, -0.09235941452409079, 0.3501455338163514, 0.20089645384024854, 0.0010828029279931499, -0.050086785048529536, -0.0727354294104907, 0.13356238754317173, 0.08452430371552733, -0.0022250143256945494, 0.5883244695883771, 0.49501628976751494, -0.07366237785253998, 0.1923139882195555, 0.39340945180148357, 0.06040256323229851, 0.18921540548849444, 0.14852939277340446, 0.2190756320637137, 0.11098574811341282, 0.06866956035493052, -0.008144366829011056, 0.005103099916347533, -0.05418163038584726, 0.03666016670674327, 0.32211310836678075, 0.15286277584937613, 0.2574952779120198, -0.0011583789891409758, 0.29243797509744557, -0.09221097609606661, -0.06328601936758668, -0.0031114056111531817, 0.13135582386874073, 0.4471806380712469, 0.1839376657215634, 0.1015109870577041, 0.1442786482811223, 0.36446322862371133, 0.24144781591182196, 0.16267649778772852, 0.13186285017616997, 0.32389614138572886, 0.15872174664805264, -0.06687261666055744, 0.4724252052141634, -0.12348704554189742, -0.03191731684288096, -0.07127183706570338, -0.1441381436854572, -0.3043594809130024, -0.5504800008852052, -0.2171836724053961, -0.4270865353020497, -0.5011008769528138, -0.17677517488881828, -0.6166886790704961, 0.29994743805438134, -0.41020192107223097, 0.013261389562261992, -0.014773509808482754, -0.33494341138923966, -0.21167366005742128, -0.7082558121999353, 0.15243930889847895, -0.3139517140736527, -0.4629656094697523, -0.3998440134244783, -0.3811057280811628, -0.3483328976715963, -0.4334547753711131, -0.5053518331388859, -0.3319947006956169, -0.1526363879621473, 0.004118950150095661, 0.0009463155220653361, -0.025425731160636185, 0.30270645310163197, -0.0751279200322595, -0.3816095304967111, -0.08444714191566224, -0.4543383797908569, -0.1753417038116046, 0.18613123207821367, -0.17684281444617725, -0.23391856874336303, 0.0038302337784139454, -0.23150619335941502, -0.06256187698069736, -0.14260062997332595, -0.3588138257239914, -0.09281465806526144, 0.18296866947461893, -0.15392549387397642, -0.018932990955955062, -0.32578476983547716, 0.19069027878064884, 0.007774205447248869, -0.06056123889927196, -0.09993874083981506, 0.06209022282982225, 0.04045338549188865, -0.5506393929697057, -0.14660157609763647, -0.2446796062607707, -0.15267064169981387, -0.21113966982910756, -0.2531632889963763, 0.6336170264892145, 0.01299523352062272, -0.39576563673126075, -0.5068709399222999, 0.8886526885703616, -0.37319359244302613, -0.2400115183227672, 0.0022728229034269386, -0.15150432789676824, -0.051562251734002425, -0.3027283960162058, -0.22714547863995382, -0.2661040406935081, -0.253407749557947, -0.11624651373974212, 0.19102783400400797, 0.15080235706292028, -0.20883260968920403, 0.19704680581006237, -0.1815566621714555, 0.3358231515836801, -0.27189064470844954, -0.19913354966135044, -0.2086381473085295, -0.08735761751257114, 0.040479506477483704, 0.04389512097271464, -0.26638415719377184, 0.25084750718176024, -0.053228082842521715, 0.2056717424394462, -0.31043709356297794, -0.29090436658001917, -0.0919742465470777, -0.12493564945517616, -0.2252369706983886, -0.019661223405212334, -0.13112195189041084, -0.05171560442573568, -0.20940790125960412, -0.2133785052807521, -0.21084984380467128, -0.11201111764997308, -0.11189802785058185, 0.06069227617891346, 0.26617640695956235, 0.640815852391442, -0.026530570823917014, 0.7520366550549396, 0.17341759192116799, 0.08275728591329767, 0.09463423251287424, -0.04970900861795264, -0.18127625536814687, 0.6371222237461, 0.11668916403786044, 0.349610118075996, 0.013411187640526167, 0.11882974764489695, 0.029634334766469084, -0.04033075993305886, 0.16329608249934485, 0.6776750509519678, -0.16385856790555905, -0.16059193622148396, -0.046126676167185694, -0.030357317139274146, 0.1986641140333961, 0.1167578090181526, 0.44340608060647657, 0.043781618045216956, -0.009562253531973151, 0.10095660699049377, 0.33779061915905584, 0.04921809509565465, 0.20585666671792716, 0.09477136510535396, 0.21709115432233755, 0.18943085071130486, 0.08105578135944413, -0.07138470655447683, 0.22979135070413614, 0.027233525823576802, -0.06623456361513524, -0.2035604735569926, -0.11641629305557534, 0.06067048926044653, 0.13103004334477644, 0.06079636430339375, -0.19455861383373366, -0.27685880894997256, 0.025405831844304103, 0.2955516606945059, 0.19730824634589772, 0.2659327026655512, 0.3524845883634848, 0.39005454306767107, -0.07996226112819292, -0.046010274268625515, -0.010932128214501735, 0.032640213195887016, -0.35514465282480656, -0.12559253216217267, 0.270427211149688, -0.20845521696830727, -0.2602786939004051, 0.0880996421173996, -0.09645665750919605, 0.18073333328313862, 0.2519433629313045, 0.034216969755557235, 0.2748061623360013, 0.03756202651542161, -0.198812387086138, -0.19117275094536015, -0.16614370440744924, -0.2123016441782273, -0.4391426845116188, -0.026918465012094484, -0.10766326504931421, 0.17294736953117065, 0.06965196439638253, -0.2135777902404682, 0.12622631029550233, 0.03802732778245772, -0.23474156553465667, -0.12589061131915763, 0.11659294162367802, 0.03842139698313676, 0.04336798745633191, 0.18630794741701054, 0.500198414969478, 0.16011242775585133, -0.23891890524644263, -0.05636615005750688, -0.08239557067728634, -0.05583363642377646, -0.09573055687500037, 0.5671094654973082, 0.17928368455763016, 0.03809649171304456, 0.7083590128363404, 0.12175246392883476, 0.14509247170600886, -0.06548207170197613, 0.5255483531515001, -0.20890234710366115, -0.07398829014711497, 0.6586141418924653, 0.5276597655834869, 0.2486417555893117, 0.9448369264180198, 0.6366369029509886, 0.38774689158509057, 0.13718330953809027, 0.28410232031462745, 0.14806642174529094, 0.32020945591519145, 0.16328304766746116, -0.20650912557212975, 0.06788811612976574, -0.015392031285257063, 1.0016506985058427, 0.2598267815105785, 0.6839930196946941, 0.11598661045074718, -0.15901703834043235, 0.1690848650759765, 0.3766615047255082, -0.009982150176306322, 0.17083407570975523, 0.21793636813630612, 0.45397985882771896, 0.5526492074462627, 0.5743739094931319, 0.3148882374842228, 0.11346714695418125, 0.29789306481499, 0.411339171680701, -0.07833493464143343, 0.3143435328850403, 0.3845027398793613, 0.41665483556856703, 0.44117038466342107, 0.41257556126786754, 0.12115042839128523, 0.3523952216254847, 0.30567375852384, -0.25642373320864487, 0.017613050620499924, -0.6015765004916852, -0.2699914596147442, -0.2310440061366778, 0.012150797327548016, -0.5582908673510674, -0.5459564235606634, 0.07770451262536981, -0.2960715905811792, -0.5187480483872664, -0.3403303505497561, 0.040164307014701785, -0.2734650946410634, -0.47925046659223375, -0.34024020987233733, -0.17567491677489017, -0.40390960482179283, -0.4626654704383957, -0.2639758036319582, -0.38420454663599896, -0.23595543664999027, 0.3729564843379354, -0.3570629814578011, 0.2624916808024628, -0.09227639009974915, 0.34459109885496153, 0.23941227463989026, -0.22144950860154564, 0.3033547631098666, 0.1706512698110723, -0.05059799104098823, -0.05212514958238598, 0.29111064044919815, 0.013369336330030419, 0.12105460933351375, -0.2525213907695129, 0.004128148042972365, 0.08780337781661225, 0.34736262273950813, 0.5122520517043887, -0.22387242288768622, 0.22243615930046973, 0.06800144058205866, -0.1333620306262671, 0.06508519093219953, 0.33382601534982, -0.05916841687181178, -0.37055886566026053, 0.046486798047060095, 0.08020187133771271, 0.2771502299192925, 0.4814372377318362, 0.5663508259789247, -0.055847943204023365, -0.015140161279957499, 0.10259598101582125, 0.7674214248154457, 0.26093896991144666, 0.060392703430217375, 0.3267591079724278, 0.2715358800220416, -0.12747010430190608, 0.4040615077208587, 0.0745258508216577, 0.18427213091296876, -0.10679061695809836, -0.06106446360562595, -0.47006347531512366, -0.2772606627703722, -0.22293638773278987, -0.3020118297162077, -0.47487935910758544, -0.3910759867286408, -0.17339220243045173, -0.3406562372776241, -0.30025265607669077, 0.07345074224723208, -0.42371606428826253, -0.3882948228816482, -0.46031490212411375, -0.4615691592411248, -0.5277339509863385, -0.3593382225223012, -0.337571965496392, -0.41129676627795786, -0.33977597689059424, -0.43572029774703946, -0.667230713742584, -0.4005259688727453, -0.2958231435891502, -0.3797196257054206, 0.08499534558548556, -0.5052557754291586, -0.44092099081114833, -0.0666142344761888, -0.3031378219745701, -0.35494493089097234, -0.2529989351732124, -0.43824058285664214, 0.3657371968942686, -0.18984080960933483, -0.15846915649153975, -0.30118194921520797, -0.38642751886401794, 0.13683496042489107, 0.07508115350973481, -0.18282699161176227, -0.3633949828514911, 0.005476027790880242, -0.10383416306647977, -0.08927895871829994, -0.4897991985674215, -0.3536428632413954, -0.3411294182122614, -0.04412846664598454, -0.04443755264174602, -0.17354260769024116, 0.563297858912721, -0.6999227443518655, -0.3623499278550265, -0.40551862379033454, -0.11824079322209113, -0.41717782956807437, -0.5636427402972615, -0.010344869283882136, -0.5460413826661027, -0.20155712261736872, -0.3807207420548687, -0.03733805191516067, -0.3570353146576134, -0.029328744173550816, -0.017710738963457318, -0.5845403903919096, -0.05622285885527846, 0.15231117955754267, -0.44788064618723294, -0.2013008736145581, -0.34320086772325487, -0.2687120821200708, -0.19004730026359093, -0.007501604395233274, 0.006479667080426469, 0.13682105881443427, 0.1232514478815139, 0.11957646289917007, -0.24030685043037917, -0.179118547257411, -0.17857756173242734, -0.27998850049608004, -0.1721186541330258, -0.17844370875603463, -0.3010348356770658, -0.350660622421623, -0.011062631317671634, -0.2820880452166226, -0.12014991292555674, 0.12231170903194037, -0.31617903290006344, -0.0815857350087689, -0.147580345657256, -0.0077233220962752295, -0.0760721520181624, -0.39558964606515645, 0.04638786609722354, -0.2735028098854029, -0.2754634751113131, -0.3058205580858882, -0.24364402166001117, -0.2412903874914873, -0.22344867748728517, -0.2138785472611243, -0.016974604921125503, -0.26279254557763254, -0.4750599256963263, -0.14573491425298568, -0.07754296586315425, -0.2443712589211116, -0.19634852147392276, -0.021004852683168183, -0.18235238158480535, -0.25700924341440096, -0.4011231222573445, -0.30056682258598455, -0.310472498226679, -0.471773564266285, 0.002771692854837287, -0.36859256198573925, -0.01337539827903365, 0.08455686130173894, -0.3465417499236964, -0.6430466065040296, -0.3188640906034081, -0.4529789682864101, -0.4094477015981895, -0.1240956003037091, -0.06711243820630847, -0.36134868378885476, -0.510750705844527, 0.07483595049943084, 0.29728590953444833, 0.03330142169617778, -0.4936149013017064, -0.526106665487724, -0.2926534266276597, -0.17753958047495874, -0.32126799482605134, 0.06927637526888542, -0.3148785832193887, -0.3611375503748183, 0.00748807151470288, 0.18233733941416452, 0.1995373799729969, 0.4597843527735855, -0.02276302214512393, -0.1825991889577318, 0.46855969586860025, 0.7729155721404859, 0.3938369623151852, 0.04670347775908014, 0.5620601161125608, 0.7961116250031337, 0.2635123079143328, 0.6335335504766528, 0.07228400878632445, 0.3816124068576083, 0.3185372940216123, 0.13099350291951048, 0.12693530203248798, 0.0026080150095904096, 0.23429028294893986, -0.12217384059825735, 0.4033687840852094, 0.09522131921789995, 0.3677717877956724, 0.037998655461857926, 0.2929693076729247, 0.177458752306415, 0.4881697067721021, 0.03748009816972167, 0.20441290608470988, 0.36880643794088364, 0.3091631462465998, -0.13316862227396742, 0.41162802378651797, 0.36935719727393074, -0.4460614425374129, -0.2584230361145798, -0.05440374906160534, -0.08909716987135449, 0.1677348325744608, -0.07151775294973703, -0.27759678472013277, -0.31157034033450165, -0.2857726154844557, -0.05751359854927793, 0.020652444030600643, -0.4046187007647764, -0.48175582975582776, -0.24218145994493168, -0.013336953426349859, -0.0780962199958382, -0.4586229070499012, -0.1744620700564974, -0.25420854000177, 0.1120058626752568, -0.22631228221497438, -0.4520507282852726, 0.09292257772580836, 0.13332694062301853, 0.04847958593504776, -0.12625114569475843, -0.3506935338579305, 0.2682027595541188, 0.011820650062336702, -0.34141973553362576, -0.31643419233702197, -0.3588447202788666, -0.1364268489854431, -0.34165875227394005, -0.36940406187758734, -0.4213467519392346, 0.07331773685084725, -0.32691777091182217, -0.34456786268684475, -0.24655857478913248, -0.22906993858256386, -0.0776171013188275, -0.10663869700356232, 0.2665549255473373, 0.07115351079059899, 0.2809810536308237, -0.005998752009498822, -0.05614310381624911, -0.7298792681639078, -0.39909235914069235, 0.08480495511891602, 0.11167849748405698, -0.2209306154914105, 0.03839183898335512, -0.19251485866884735, -0.21679817626720607, -0.3505837422466494, 0.12800318877019132, 0.1938041222068494, -0.2172681596698, -0.1483329273934176, 0.00310603262381216, -0.3108311207631595, -0.34453445046850106, -0.22965336122612898, -0.13100032325261926, 0.24412981629746858, -0.2989115588537252, 0.044524074564970484, 0.08320872529614776, 0.0224505262395148, 0.005344058344163281, -0.43316007425592656, 0.40513701741563024, 0.5493483125068602, 0.5768105011101368, 0.40068175062471106, 0.4193960800868616, -0.6030260571156578, 0.22316458145782023, -0.00536687923487925, 0.26843480069201553, -0.1382295960257783, -0.10117367661636799, 0.6910363697993965, -0.10544777523360443, -0.4808762852829116, 0.3821841218482851, 0.6588809521007196, 0.4225512960659692, 0.7006860460658967, -0.28240633325354836, 0.4746269327996713, -0.27968030809472244, 0.039770921633569954, -0.07618047857990441, 0.10048136354055155, -0.3146000123887324, -0.2044663979622271, 0.2695989752270796, 0.2729837490256911, 0.15807766310658403, -0.07084249130444617, 0.49078052624352914, 0.18974582019793176, -0.059405283499926305, -0.058920550602671914, -0.0917874940556292, -0.20528783131179085, -0.04619888119833106, -0.28186351676988536, -0.2038574505771589, -0.09984275342211939, -0.16771409058307166, -0.08614165919764509, -0.5474185631983874, -0.22297060575012645, -0.09425249901357431, -0.2751953995035707, 0.15121566383234958, 0.15159432674378198, 0.1429145977445243, -0.5586460627423836, -0.1595349318323469, -0.2698358929574697, 0.4172454421474495, -0.5795701834301028, -0.24681184842472498, 0.13433906443344928, -0.550551305026358, -0.1556074336189062, -0.01207303703845501, -0.0948310204989169, -0.43527052407411815, -0.2550315245815821, -0.15910466599350268, 0.0062773664425640405, 0.8239692942822229, 0.36383401591351616, 0.28626320220615525, 0.3530545400510338, 0.38646752814268825, 0.034077517956484164, 0.02913895700999133, -0.06774500931244704, 0.26206486395443446, -0.009758170159375574, 0.3004464076423631, 0.3778503704642685, 0.4571724900159081, 0.10970660142649973, 0.14501092619742093, 0.3254840700389768, 0.5678208070708203, 0.19671701329905472, 0.08224430818011223, 0.4835432922526044, 0.04164433781727515, 0.7938517755160118, 0.20732638661330677, 0.2643568967360262, 0.39223810510498647, 0.10906964951236922, 0.45599522695072053, 0.8338823800367394, -0.1589479337037306, 0.07472524307198343, 0.2090998147517914, 0.23421893156000254, -0.20952940636104375, 0.2568583609427017, 0.3722644009517176, 0.44764411594391335, -0.05918934054396337, 0.4013957223310139, -0.012607620652630516, 0.11852190172132286, 0.4030359995119013, 0.3607360284206745, 0.4123957597099585, 0.490709052119798, 0.32501366569078155, 0.27875633708379266, 0.3419532504042925, -0.06635775088365986, 0.004604341452880087, 0.3192907284421216, 0.4400030954057276, 0.6716774579369621, 0.48800083629118074, 0.18071992156724181, 0.7050011775178792, 0.20975996239086278, -0.13326120160446073, 0.2996006567860735, 0.6208413047093817, 0.24459396671689979, 0.25772489343698296, 0.011457131906309401, 0.15671258049916048, 0.7327649120885661, 0.4561948906900613, -0.0867161141626896, 0.4379888276648462, 0.5758003093447902, 0.31997335046103537, 0.3973729431246605, -0.12211709772168816, 0.6355746105632515, 0.2356063194418075, 0.9644874366320517, 0.8870927882634502, 0.013206465595576481, 0.6745935210788804, 0.1471378907028444, 0.6579408614219369, 0.32113161725208966, 0.9618601481751441, 0.03088646194304727, 0.2607765721554487, -0.0356680764939365, 0.8933907043387079, 0.17574016062644565, 0.07743121412501006, -0.1305625585830655, 1.0789243334609495, 0.20318984446556143, 0.7444987193621349, 0.35516375343685996, 0.5499064752734725, 0.20176258877230935, -0.012942287012614025, 0.653875318983843, 0.4455738900565711, 0.7136035345998453, 0.30266960112625424, 0.32368540009661506, 0.4999141388656447, 0.39460631893686143, 0.160133707654149, 0.3828831917495681, 0.6316189678626959, -0.02719847859799481, 0.3440385228560755, 0.02586659790327458, 0.1160319847984709, 0.1203121240005484, 0.5387539287973736, 0.32093040423243996, 0.27810653609913133, 0.1281559383700113, 0.5804114990815129, 0.2993791192315468, 0.1545990517033292, -0.023102412694975084, 0.7303907464394119, 0.1208853555545112, 0.5441330646996453, 0.09654776927937489, 0.2451960238034801, 0.4896134119033895, 0.47970510382851833, 0.1397628635992902, 0.11761675486567638, 0.5560506042907575, 0.22483367823676026, 0.04370448877976306, 0.628083506019733, 0.5542906227082446, 0.2715079366685666, 0.1444146775559744, 0.22563640753170033, -0.029501916000529347, 0.09590318360528884, 0.39808618382895616, 0.18540923663645012, 0.2768815583508771, -0.08615125710674718, 0.0849720568925896, 0.12799568069516373, 0.3410650966835604, -0.17522693035304826, -0.01583500580716974, 0.3345102107411097, 0.24859944416596746, 0.613055700753129, 0.2149166557966496, 0.03886995985252979, -0.25826706037651487, 0.06479780194170638, 0.26917959076263775, 0.10933391102968479, 0.24806527269775888, -0.20246355614349054, -0.40457305683846567, 0.6122449379208319, 0.18535357467126864, -0.11438098763063491, 0.2159892260252294, 0.027414316828788858, -0.3526365411266051, -0.1473549441456199, -0.2457296468832674, -0.24210074003638632, -0.058614333146643265, -0.1717272824935198, 0.30187351015395314, 0.12042250128079315, -0.2601261692478621, 0.19480011762855085, -0.10687023831599429, 0.3239969109943724, -0.1818777006329626, 0.07371118321189174, -0.3358113918396031, -0.03403971100443111, -0.23523423366166413, 0.22099793398880366, -0.05433929446438452, -0.14991321677733707, -0.25453942097900545, -0.26155980303727594, 0.1081698746283484, 0.029231781347466356, 0.010360290100319556, -0.06974997525491747, 0.13112787168271206, 0.261828331190778, 0.061833580795397504, -0.05418764471104896, 0.21227334830889277, -0.33889508909589466, 0.0502473534963519, 0.15756334912279804, -0.2181336467991549, -0.0012673979521973574, 0.4400895446985557, 0.16799328902768076, 0.27442977008361114, 0.11595150899348111, 0.35289479595414647, -0.12413418722721593, 0.09051520077221134, 0.15966610054147282, 0.05343373648241784, 0.06197538771465659, 0.019104705241535725, 0.1800370209016124, 0.27660403380495213, 0.421141577434616, 0.13979291944066055, -0.3601905998491348, -0.10741702293960922, 0.3116409023948996, -0.02450623871273511, 0.154247401657046, 0.4477013022774411, -0.016424748815208744, 0.2699446950375277, 0.5280034747240027, 0.10269510213697824, 0.4403397726588748, -0.1735990257591818, 0.5884056656337057, -0.043536223482848434, 0.10429139099357103, 0.9048424054306496, 0.30319155407643217, 0.132873992687114, 0.22115610507253558, 0.38113169759489396, 0.35135138066350335, -0.15966951885574057, 0.3033517465820126, 0.09059402419723246, 0.013352771546078985, 0.09633263348635453, 0.18430354482681174, 0.5305685535107936, 0.1730089795564368, 0.2717951648830922, 0.8662376766152525, 0.5762333990544843, 0.1979754070075789, -0.29781682112692526, -0.4877033312323382, -0.16336549386710283, -0.2582240505281639, -0.14325749639093743, -0.5305116706449016, -0.2682151645055712, -0.47390462935869265, -0.033805598065278955, -0.5073505591026206, -0.26149623010945855, -0.1306150222443014, -0.6577696844950585, -0.324597683645697, -0.5135983476431192, -0.03541107156013189, -0.024851891405583533, 0.006976316145491042, -0.47894502054754207, -0.23444012186878468, -0.01886548925116716, -0.18574297887885638, -0.16624506241040013, -0.43952388428799694, -0.30111506708464747, -0.1817712867995399, -0.40477348253691564, 0.20528516997543614, 0.19824894089117626, 0.09316084317994337, -0.1012539774667618, -0.3235059991745051, -0.5324274919666624, -0.4065698430113538, -0.4904744658872455, -0.05889386763260471, -0.3447886444322347, 0.05431245028293767, -0.455137192137085, 0.03144106445576996, -0.2846214837000864, -0.1577171360780114, -0.11939221213536746, -0.17727213825555657, 0.057348562339636255, -0.18514617766703972, -0.054405546619146025, -0.25143130568878697, -0.31046350509269605, 0.16595179336293822, -0.06771577044380776, -0.2750818331510236, 0.1054673945541185, -0.12189617370519659, -0.07755702769026598, -0.21974344470210017, -0.1825162558020956, -0.3446509308014367, 0.3394025242854836, -0.06345988657218694, -0.26983907109774097, 0.461106467676671, -0.0018113390397416216, -0.04099945253480709, -0.16479006722292597, 0.26309683896161395, -0.22523850850671714, 0.2597274314090205, -0.09675646231765507, -0.03697642314436173, 0.03868558549663595, -0.35278155041014997, 0.48874382082070356, 0.1894634301613428, -0.10824843367479159, 0.22980699885215655, -0.05684794106664632, 0.2502735966739787, -0.19234037219218586, 0.07232127948668818, 0.04646260537613446, -0.02731262775570426, 0.01830386160217508, 0.219391917623533, 0.0038105044617081528, -0.042905062884857785, 0.2784949633540962, -0.6777820866712946, -0.1549733181309496, -0.5444882163767241, -0.05289283728587437, -0.23537670453024245, -0.40858042829905616, -0.23584172161409409, -0.48839227405089114, -0.33174535472547767, -0.6163943460385581, -0.5801513035700417, -0.45383251555097925, -0.4452144158103831, -0.1933915195251929, -0.5801080295389257, 0.009247703801870125, -0.5396480180669592, -0.2611110442808861, -0.14807006668828215, -0.4703110520189094, -0.44327018915933525, -0.6119781050891007, -0.2232120697390851, -0.6110146280612245, 0.04424541988358761, -0.5635374795809129, -0.44775157131128274, -0.435426791079436, -0.29257845098527885, -0.557646399525532, -0.5210365845919477, -0.6011002403858005, 0.2129322564548246, 0.033048033627192705, 0.12591975842199438, -0.15345895228314613, 0.7123315551556941, 0.02708256677787926, -0.124478680491153, 0.2660051839681482, 0.09824508962852894, -0.21191222823518274, 0.03860164915208321, -0.22203092691871287, 0.10814964901871642, -0.02143820821906559, -0.33078922135001204, -0.16878227957284406, 0.44019439978047853, 0.4692669966399003, 0.09443060429224544, -0.04991817299857598, 0.02579510286343493, -0.40871283439193107, -0.005531972810245008, -0.2583751501070324, -0.45065124273171825, -0.41052342297254335, 0.024331736328699942, -0.28370809998050756, 0.4592249302573105, -0.27633920145141444, 0.06607580379604686, -0.30646853248284733, -0.20160640701385676, -0.40875173780074564, -0.5400135442811811, -0.4438827729595367, -0.20981637686788598, -0.21630101899342344, -0.03199999996141944, 0.04179503132540741, 0.2148375517252026, -0.13303913409996904, -0.23571819278153755, 0.14524876267509326, -0.07804790450873235, -0.21906156871538185, -0.32090581322191103, 0.10486840942346937, 0.12933222339592576, 0.24510702955607402, 0.025418995291594214, 0.12870124502098335, 0.080336846802322, 0.2207500195806223, -0.2473012845980008, -0.3781759179878205, 0.011166631373776135, -0.06634268440410825, 0.05993846385966002, -0.043145812288883915, 0.1578061437711927, -0.11057908358436812, 0.023390124029258455, 0.07741143891104721, 0.3910210159337256, 0.38662190401480817, 0.20527073186765873, -0.15321006885049987, -0.08399198967443668, -0.08531161909005955, -0.2740795789593996, 0.20486601855260417, -0.4548624235640489, -0.4989832001684911, -0.39999545003671866, -0.07309900526616099, -0.23396831080669184, -0.38057659667562876, -0.27800008543161986, -0.012613255038886427, 0.2008081438224787, -0.07807834639632451, 0.15161975018880508, 0.0945141814883818, -0.08868147038990211, 0.07190962283182575, 0.2528840029524708, -0.06892326689813094, 0.18789545970706684, -0.022010832262197248, -0.2459118418276006, -0.24329685419289215, -0.18115651967343374, -0.16957662964194137, -0.12494291258614026, -0.015257116465692088, 0.21429630554914786, -0.04648470962780269, 0.016405097924671947, -0.21470534189358734, 0.12594891448195558, -0.27802330257956454, 0.023288404923711495, -0.04741928770430022, -0.10697757167422678, 0.283414464018634, -0.2520659427394955, -0.009878790687513048, -0.09240054641126949, -0.13700284804418894, -0.07526836432583918, -0.171930381449621, 0.41068503884160584, 0.11444493994419239, -0.2047642862139556, 0.021544042099755936, -0.1200808506954393, 0.1329120578469581, -0.2649881517750039, -0.07963263152664701, 0.22600724928580623, 0.061298884183718365, 0.04435316384847216, -0.2067237468054241, -0.11161444072861751, -0.03800887026741667, 0.1803122496892766, -0.25277600350757584, 0.46209860525934326, -0.1518027699809703, -0.3892085705247362, -0.4199374453436317, -0.1839839546046434, -0.013564654159033901, -0.1226791428651532, -0.04097409853710747, 0.5298371965395958, -0.19676331948177564, -0.27967861325728743, 0.011142075067305393, -0.15783275595729293, -0.10594122796812497, 0.08627132648635388, -0.0875201406503814, -0.05495984331038962, 0.13137356415068172, -0.14196972451603704, -0.39821609029308835, -0.0069212705743344725, -0.057669461353302934, -0.15013037046715477, -0.1935545724887309, -0.0963635296526403, -0.08931319180686532, -0.2506984839527942, 0.12323860529775685, 0.6290844588868254, 0.024685386794595147, -0.043584941698879574, 0.24661463838456185, 0.2499570135821338, -0.022272691583097463, 0.1914135001442842, 0.2305736199573903, 0.010334265729791944, 0.22825981750436278, 0.3415174131619726, 0.0935704827848713, -0.09084859075328099, 0.18160721874823077, 0.37778413416872214, -0.028746397945672148, -0.2785844644152332, -0.13983599112300463, 0.04944043164582974, 0.014706871189281713, 0.00493947512418762, 0.5308738668441713, -0.045131114937471926, 0.03848572586940697, -0.05607853688776901, 0.2433549896052691, 0.030728533352306166, 0.22286036519325886, 0.3505678067725767, 0.24418431754676953, 0.25673348407203367, 0.41882613159981447, -0.2045758694776312, 0.398579976409338, 0.03260167742893996, -0.2207051118413578, 0.12350271163675113, 0.6296532419885206, 0.06622959424875555, 0.29254214748772117, 0.35136743670518655, 0.09028313164296199, 0.6373180389831571, -0.32852006521646254, 0.43014733120874793, -0.3026591564267448, -0.18398608120212037, 0.2486755851732711, -0.42195202623621625, -0.1564953153662883, -0.3630778489501216, 0.021454222273073947, 0.0494288253632822, 0.5387844976780584, 0.047400098441026745, 0.1082245499121663, 0.2742043795450985, 0.06091254525208613, 0.08889086762770071, 0.2885379004562031, 0.06925517414141155, 0.07471084391968764, 0.8455575356910533, -0.08767119009975272, 0.06748334536491257, -0.08301866016560085, -0.08427015585179874, -0.041715695459568165, 0.07019468185198774, -0.04856764908999612, 0.26956085912888045, 0.030565453661785712, -0.05038573258721608, 0.43242521923350474, 0.3688473757888709, 0.10003231526788386, 0.05351275664155847, -0.023560623793144594, 0.29327692462733285, -0.24391600203700414, 0.20286858796891472, -0.11347715224098721, 0.13797809495527996, 0.602563953329114, 0.4987585281331066, -0.007580938667946767, 0.48389842492438073, -0.1619339275052161, -0.04332809787141978, -0.013893215993094916, 0.3517753371252919, 0.28503789825478865, -0.006673450693537841, 0.012996183472610395, 0.9959080384871909, 0.37763155068008736, 0.16500817706269527, 0.29927561465828073, 0.08743696017751795, -0.010548193597124346, 0.1308295133685459, 0.06820464493639826, -0.28547755212417125, -0.2551441681206432, 0.12423052369534128, 0.22761871910071702, -0.013672903413022295, 0.12988411077204037, -0.012138910986898335, 0.007577932786043599, -0.1002622220800138, -0.047055914845352625, 0.018846737569029222, 0.1668455967906698, -0.1622946227522093, -0.2434164272969146, -0.02272742896489226, -0.3013893570098189, 0.26951624172782085, 0.2081698120719137, -0.07180615802651964, -0.033591910301292466, 0.05381817329670526, 0.06965264784853317, 0.2392165752545765, 0.14336504009043466, -0.3281138124441223, 0.28867749845916907, -0.02438922515827457, 0.036152148905889324, 0.10708286218800546, -0.06099558192490657, -0.24851186034159367, -0.10553167049714884, 0.1334686071052217, 0.10304767167358862, 0.23188511409810283, -0.03791670527396861, -0.04440279413050062, 0.2184647683528623, 0.15144531027662253, -0.39091889640862837, 0.05848662595496127, -0.17058031159137574, -0.11022033310094972, 0.40537801418627256, 0.27396143408343543, -0.04919426615438111, 0.06932311658972981, -0.15142596907949912, -0.04161924320885457, 0.06350804688903716, -0.15217614145773575, 0.3114532144037931, 0.296097317496055, -0.17295908440339205, 0.09591621849696809, -0.1109033982902892, 0.14308129370064035, 0.14175180865470208, 0.010648207780488674, 0.11476312499009927, 0.1890645844880766, 0.21194715688841886, -0.0330015044308643, 0.24768600592324366, 0.4725419045143246, 0.1664943485074183, 0.29790886628442637, 0.7830389855379418, 0.047393060931174354, 0.20639103432415176, 0.23187961231354592, 0.36130829682241866, -0.0661077586816992, 0.27914413320914927, 0.3192155838462347, -0.2169277529390083, 0.268088392651754, -0.5091266397982512, -0.36376274951166937, 0.11366378766688114, -0.17972615421962684, -0.20819417613007699, 0.1958454738805669, -0.20037733706035135, -0.2221154696421795, -0.0631657289246283, -0.2600980734346137, -0.18879203680230064, 0.05819005788781003, -0.2886273741914248, 0.0007419592907396858, -0.06687706670643526, -0.08978548290715818, -0.14893470561796907, -0.3177255491305884, 0.23182005092340152, 0.15153097835897086, -0.24224824324198174, -0.18155943364017374, -0.14996043393929417, 0.05592532388692925, 0.10697533570949644, 0.04204110004036662, -0.3387853129677305, -0.11794935724066492, -0.20213055305870853, -0.18999532451852136, -0.028882965173604027, -0.29956213529037773, -0.36594396618104547, -0.18323956048495413, -0.41714227923296876, -0.1515446401341963, 0.13232535464954998, -0.2674744777037783, -0.015825672720685243, -0.33501462657651476, -0.03868366587858937, -0.3364647330987851, 0.15866636428666597, 0.025619304174254266, -0.2247031773114022, -0.1864863189800253, -0.3519347588999846, -0.3818234332175768, -0.055968117867538116, -0.18250686908606734, -0.21796368863132257, 0.1469648887833421, 0.18622552275403478, 0.09575506573434299, -0.3873982657491844, -0.237253259178086, -0.46118870716857174, -0.514305140547575, -0.12336710827068512, -0.274027045009047, -0.12520737685541375, -0.034801083875041015, -0.4101322724414718, -0.11268863416837059, -0.36584711825888816, -0.08559751727235419, -0.01346950693875475, 0.11993930642331999, 0.18175528588911435, -0.12395200611001089, -0.17209703034560148, 0.3197716037679568, -0.25927493005888197, -0.6441426785586546, -0.4033328375610853, -0.5541172184985494, -0.6573639758512458, -0.6564463532281689, -0.6385656790435222, -0.4917190543526431, -0.5388886913156213, -0.4399847418549835, -0.5623964439377874, -0.6543697082829933, -0.40176495640267934, -0.543297034764846, -0.39501315569195716, -0.44016831066979584, -0.5401984328650948, -0.4811198711942782, -0.5820214949610567, -0.4289324130252264, -0.6544373544165234, -0.5236258229236009, -0.5187279788070606, -0.7867495070013392, -0.7983777131915378, -0.6614837876024451, -0.69834343629821, -0.4096812377633394, -0.7172004028173017, -0.4880391988280163, -0.8402936483960061, -0.7780084269918801, -0.20398984159495243, -0.7785194678173332, -0.728481972918459, -0.5698370357966579, -0.7096636560989861, -0.4332383827552274, -0.503580221186435, -0.43093064259371533, -0.3886268974744324, -0.38859907735675286, -0.1787105763137224, -0.4825060175734951, -0.32283175073389164, -0.4715314867445176, -0.731106422302014, -0.14265150826994794, -0.32501093359621336, -0.5910784556416051, -0.3038038084002398, -0.38462056054860766, -0.5245843649203316, -0.18114190801127816, -0.5611373966917158, -0.3075514008575305, -0.29825977195589354, -0.47064304381960587, -0.4422694362689032, -0.3966887726980408, -0.587614198370209, -0.143300145001644, -0.34593823930757334, -0.4402794202859673, -0.5071692051577148, -0.014968292842413716, 0.36854052936599996, 0.07728336340599995, 0.039238037147721824, 0.06074186913976376, 0.1159605980922843, 0.5353319457427542, 0.45290256966409564, -0.16857978231017096, 0.5712278044065447, -0.23386165287386096, -0.04709715424683734, -0.16872875512015292, 0.3030445411093085, 0.037400132840627195, 0.16145228939089867, -0.1773621398753527, -0.09764037667022307, -0.1572211812413354, -0.1105941306775206, -0.006592178194529801, 0.12224058988260657, -0.09356929946323207, 0.4218095429702015, -0.2058499240746817, -0.010555081516752147, 0.15117546896634249, -0.18504514313128415, -0.04822020637260881, -0.08557444986080667, 0.05665722015020914, -0.12376340059200491, 0.4290802744620241, -0.02425873265284681]}, {\"marker\": {\"color\": 2, \"opacity\": 1.0, \"size\": 3}, \"mode\": \"markers\", \"name\": \"positive\", \"type\": \"scatter3d\", \"x\": [-0.3789236008302121, 0.1039450374102737, 0.1370069280250776, -0.3162359913236924, 0.08918655562877618, 0.4501575034910451, 0.05406677492952103, 0.6242870005224868, 0.3194807610015913, 0.24139884472919665, -0.008111647604746718, -0.05609811540204923, -0.22477615664725528, -0.4189811738469052, -0.21384850779772324, 0.42037958599559316, 0.56568690717531, 0.5511817417532695, 0.21332490418060376, -0.15642210513516294, 0.4529391107990851, 0.6441722796838494, 0.4856520576579406, -0.09325374308507972, 0.5845897738049862, 0.4548139442646316, 0.1414074740593017, 0.18543759590770015, -0.6331846179403329, 0.08253408719674163, 0.15060282286822804, 0.6944086224788356, -0.18249693282559867, 0.05007833442948935, 0.593144216292282, 1.2382296805534445, -0.29456259977428817, 0.24548550549964765, -0.18043407915579074, 0.057680611881756126, -0.5402867813341564, 0.4779888057611473, 0.6914175576293098, 0.0665448923209734, -0.35396001221943596, 0.19576092933979353, 0.2609965591248925, 0.3701234150671642, -0.23610016890818591, -0.18488921378060258, -0.019863687100498535, -0.05446276021607395, 0.599330523876235, 0.0014183307416579054, 1.2482323148845988, -0.1845409840168599, -0.02731672985192733, -0.405790730680182, 0.3115927900145727, 0.013341211845860847, 0.433133859624114, -0.06267790862611486, -0.17912512143617423, -0.28620124235687344, -0.07197284587155264, 0.18766137123739904, 0.39525467958951416, 0.39782505293390147, -0.3983614646534467, -0.27206098724346445, 0.5987365774344005, 0.6265294498782051, -0.2810985125527913, -0.1649988381476184, 0.10185962284772483, 0.7744961780969075, -0.21332925900026103, -0.09116330850845615, -0.4689613134205614, 0.6086734246277381, -0.6149209113737185, 0.2769396711479282, 0.38830869346738767, 0.3418613410415284, 0.1634718230474661, 1.0804930016805199, 0.22742364477251145, 0.5755178113664866, -0.08998840263108115, -0.1712672869252815, -0.10229867378505131, 0.39856067342654944, 0.5167678770062911, 0.21607086199355346, -0.05698240016495278, -0.43478402746496625, 0.62300758295919, 0.2547414484474597, 0.3921473601794504, -0.43183855191669884, -0.23902263848686778, -0.17099481285341517, 0.48562087271205817, 0.8271031253966704, -0.017076602060568647, 0.17622213952013305, 0.11063153019583824, 0.5967995500118966, -0.08425528456337501, 0.29986713609666354, -0.37752229462376463, 0.24449688804226388, 0.5946507707093697, 0.9442347408823701, 1.1422590938043444, 0.44285607334791244, 0.7482131359289232, -0.05154616281087684, -0.06661010732502355, 0.6056677080792937, 0.12121564562941885, -0.5084463945096448, 0.2311733098481907, 0.3691984868535975, -0.0265778671110821, 0.26731415079477233, 0.5736903919508961, -0.005191103404777772, -0.0755765233459987, 0.2800841231073855, 0.16142643471115362, 0.032688848128333316, -0.038969060253282325, 0.29928860645366573, 0.17350966109996538, -0.12328189254999501, 0.17608036678149347, 0.22904880609869946, 0.5959759096664657, 0.04985499066961168, 0.10861312632930252, 0.6225678342341523, 0.08839437838862792, -0.19375579356616748, -0.34913686333409727, 0.5000546216608076, 0.13410617925257184, 0.6724093158332161, -0.1042441470251234, -0.4029820192728634, -0.007383882965159627, 0.24959847915481262, 0.16733641558815085, -0.28572464129032077, -0.6458961198293485, -0.521247174574749, 0.004178545987165857, -0.3622034178194896, 0.3493369089040496, 0.26579938298884, -0.5568070536157467, -0.1524073699754508, 0.3679825407036129, -0.31908126753176685, 0.166304659451501, -0.016356297685700148, -0.2880352549985688, -0.023584075498843903, 0.1623996532656395, -0.5994229868804904, 0.3587572770725883, 0.3518891895170373, -0.03936299564507671, -0.36586696590849893, -0.08961510235536517, -0.20411091612953178, -0.6165245011782842, 0.2669999987820628, -0.3262021911174031, 0.15034414233274335, -0.19006154403968287, -0.6006726036550131, 0.08176082965759048, -0.3133663212544079, -0.832090270612622, -0.03579377325718838, 0.17940582403606783, -0.27865229969788546, 0.42419577018717014, -0.03040339677415622, 0.810925504733293, -0.24439308481239072, -0.14858330168325226, 1.0343841002166412, 0.3527280415484098, -0.08603496375678961, 0.33236564754135606, -0.17355217094660433, 0.1672002779241309, 0.8522671238172854, -0.26621582013474754, 0.22072968893703415, 0.3034693169259219, 0.9617289667781853, 0.7541506797278839, 0.6622632269126775, 0.1657205688043314, 0.2061818783796498, 0.13939065165535364, 0.5287726658890095, 0.359964423168249, 0.5155255182997225, 0.5456989522905182, 0.1319297918115769, 0.13564534714577065, 0.2702962957621442, -0.08475825835903046, -0.43334343779250983, 0.04800703702007786, 0.4713476537805818, -0.18728786761750368, 0.23127870896495203, 0.07167032567522424, 0.4542451133835843, -0.19039701296767716, -0.37426896549527455, -0.05363979218083523, 0.023835226129718737, 0.17506443613802164, 0.10531030537099353, 0.39411933105995595, 0.7722459953933423, 0.29724554653078594, 0.09395933901762392, -0.16714749638188542, 0.1846740580669243, -0.15609158964624664, 0.4578506765110432, -0.0595913162800196, 0.6452697832356177, -0.03664980886089679, -0.22089630315710418, 0.12339721283579157, 0.24720860003056205, 0.2467854404055646, 0.15201245008250575, -0.07354215046511693, -0.01091437686752873, -0.35845731829859795, 0.09480295446113404, -0.2654353515622877, 0.0026517787130487113, 0.17610336112082256, 0.8766967660979744, -0.041981354497659724, -0.3679123252665002, 0.4870453248335896, 0.018998098015762802, 0.05318522937261414, 0.026568471883872225, -0.027603409271825786, -0.07467031300577764, 0.6213274045816939, -0.32255210939325507, 0.48814618487978706, -0.33252941082575876, -0.2912160257303507, 0.1149850961598227, -0.04610876756983866, -0.007630620228327559, -0.013253982826959625, 0.7845134811538595, -0.3972075968253957, 0.3635939659381134, 0.8553451793693595, -0.18962451123813975, 0.5236291446968807, 1.0800854864138059, -0.14481476308813418, -0.3117829669977302, 0.0030420708755501077, 0.03639918204335637, 0.6674429542387025, 0.12050940618785934, -0.05701862167932026, -0.030904284987349588, 0.68896642059947, -0.15694077857887506, 0.11902148172618524, 0.08470410771153666, 1.1014452581512182, 1.0774956849521693, 0.9701193097083151, 0.364812032966704, -0.3807282108655226, -0.09140659202721306, -0.4678201276342301, -0.80928563128981, 0.30072887018931815, 1.0003912981881524, -0.4390105145345183, -0.13623566025120584, 0.9155837079338938, 0.3450450887654178, -0.4162348050188908, -0.08259554879699912, 0.18416237351142484, 0.09130866370526801, 0.1792664040369638, 0.3090135581845893, 0.0585879229069763, 0.11738642840920369, 0.3357310134755264, -0.2961194530264641, 0.2639437835197844, 0.4466354085001803, 0.5808798432664214, 0.8572345818868697, -0.2245660623954255, 0.2824558938954815, -0.3189823589419828, -0.2016112046521954, -0.007735690915935599, 0.3482818708792628, -0.0720001724503796, -0.6419960077475428, 0.24401573164755067, 0.4023206610007672, 0.35387886625080767, 0.20611185601839294, 0.041464842586114034, -0.21672944929907384, -0.446559277534992, 0.14578462426954372, -0.5913375629919462, 0.10608391883349454, -0.6439988449039068, 0.02134219885470467, 0.2328019880063999, 0.12258736511439301, -0.614097540839497, -0.3197635937495174, -0.3307448916588004, -0.21274199118411674, 0.4123571120399706, 0.3332653885380627, 0.42957914573040074, 0.1400430164409317, 0.20680734583271168, -0.16412393772116252, 0.10547070069947395, -0.17431752497718445, 0.12785020563632352, -0.359055426161834, -0.22013476779907803, -0.32149422435628927, 0.3726653869634861, 0.4984373749897154, -0.007701063611694364, 0.4133528794896891, -0.22782760536649613, -0.007941469209614973, -0.10655939652110254, 0.6777213776714921, 0.1368834742706935, -0.2876766042067403, -0.2995660855715167, -0.37854246489620985, 0.3696805655208945, 0.04574488690665757, -0.4075573658563975, 0.6755168164133867, -0.0822999096724015, 0.6172682011937234, 0.013473681705052197, -0.0245232130248577, 0.06956439540256941, -0.2832980372311487, 0.37655976932506613, -0.10255286805387065, -0.13579035583348095, -0.2767321325649804, -0.34984721203225516, -0.49090673675590907, 0.425198458833063, 0.7882839535626303, -0.3421000715971117, -0.35380443408812695, 0.4127685819632393, -0.5667657451746098, 0.038999264561195145, -0.3461298873644198, 0.15200223007152622, 0.0126580235775152, 0.44550758584398886, -0.2471343632441506, 0.6013578442072852, -0.7186552305698514, 0.20184864240593114, -0.41097001077437806, -0.20997272597242328, -0.5348359375888699, -0.17145422747336647, -0.5083094375295087, -0.39916847360326446, -0.20809336961607822, -0.45131495515882614, -0.5158220391995371, 0.021308408317398927, 0.19131539588103463, -0.026232881679414646, 0.3875550521819444, -0.11041603791088674, -0.12931689061071133, 0.13340363266889194, -0.3773575614498885, 0.4609471388639122, -0.6689743505657115, -0.49515775187675937, -0.478525195048624, 0.03438907582156566, -0.24779172185765175, -0.11267269554646561, 0.27373885890240185, -0.3957013915269746, -0.1806518373787846, -0.468956390550118, -0.45376749559852053, 0.2008983955377091, 0.713721911956633, -0.2259225861110328, -0.7483754338331935, -0.24788058891810363, -0.42775357734877106, -0.4356018238880572, 0.28650956815917833, -0.519738780193139, -0.6486281436584596, 1.6042354859010177, 0.34762605543449915, 0.7769581450684752, 0.42425930643277215, 0.4005185076393189, 0.5523724312432488, 0.9012774630821321, 0.7017554284882276, 0.11811930589160767, 0.33483016133588445, 0.5006622764130637, 0.7025788028267576, 0.5024265798552816, 0.7952736998721787, 0.647694481916159, 0.3339855263695962, 0.22712450374823953, 0.5022917370776244, 0.5300281791702158, 0.05056055663190678, 1.1171889584700885, 0.8129487934639195, 0.5582710458617729, 0.021553610054866442, 0.49812787708658157, 0.4247325894125633, 1.0593465727560358, 0.768450002561905, 0.7335594725467017, 0.8512860940420125, 0.797492828079436, -0.1899000474336633, 0.15760128579662805, 0.8045863194576649, -0.09366590448887131, 0.5525716193029392, 0.10069369517270414, -0.08714649462106905, -0.43599927459927623, 0.3987202382606531, -0.3409721861449555, 0.020396495545395094, -0.3153319193331112, -0.230436377312527, -0.006694567437217968, 0.1794287242750851, 0.033738888912449465, 0.2673619738118737, 1.2587068560070416, 0.37721177614068957, -0.11957451018826047, 0.13402010315263044, -0.1883846402702871, -0.17365335229444592, 1.1577141640857591, -0.1714527755518924, 0.21604515729315882, -0.41208449501229777, 0.30338202214192306, 0.024953528340755638, 0.49483214229368505, 0.6094554746838541, 0.05868555465068318, 0.4015027592742054, 0.6498971580855261, 0.19444287503033325, 0.22723289489244317, 0.45984753767004705, 0.4966670674274605, 0.5538594797273075, 0.3962119112210568, 0.09813186496504174, -0.16078467617296432, 0.6354687898529876, -0.15192426932810257, 0.6385041018259369, 0.946019887831806, 0.1913310349407971, -0.31222752411056565, -0.6436069037304667, 0.5375493564976328, 0.07466160836706423, 0.5704141631451672, 0.955194684270081, 0.311064267155089, 0.7833134558411781, 0.1433586445547283, 0.05838452580817061, 0.14864575405150704, 0.7493219075446441, 0.49550315757777497, 0.05910003484578584, 0.8865486024681334, 0.6329754688444699, 0.6502706574116669, -0.07871343201108502, 0.27939383957753916, 0.24739544625645088, 0.5317285402534112, 0.9366521062704906, 0.8712373248174176, -0.16639425249155712, 0.6093431283487831, 0.8375727415983601, -0.14574772564362537, -0.3236249159581003, 0.06796498642052586, -0.16160649740767305, 0.06919622206808282, 0.4095761714741227, 0.07899052384974206, -0.4837181282492301, -0.6061733797883948, -0.08036232999573689, -0.3688127136328372, -0.1943946860694703, -0.2917033311687337, 0.436618808298802, 0.3702778629196908, -0.3814149393415665, 0.0849731519916381, -0.05871987505167386, 0.12543043183182537, 0.2627948597747068, 0.4923942746354298, 0.5532583359362745, -0.1721278633459829, -0.2118384068002301, 0.1330161157600339, -0.36902718434566856, -0.34281324262093127, 0.39211224506776604, 0.9939689423384581, 0.7387754982251296, -0.2046525807573678, 0.43343392246641954, -0.16594652518969577, 0.09256906324907345, -0.7691003177870935, -0.2076457011674095, -0.30131900312905124, 0.7067882916545248, -0.2117379331124654, -0.08882875137945312, 0.46547633770960734, -0.09857679566663372, 0.4277451643397917, 0.8026466083134555, -0.17189044831675246, -0.4229378523323974, -0.15505761770986326, 0.39738447209082445, -0.47364120155461675, 0.47105640805262655, -0.10679403351496249, 0.05307438120655659, 0.17668526802844453, -0.48903441975339734, 0.560869335807842, -0.13917329105531256, 0.21850754382785695, 0.46803696624988955, 1.090975153365634, 0.4111781264637224, 0.3315181934581843, -0.08318019607240391, 0.46486226877202175, -0.2660939451887719, 1.1496071242295631, 0.29223166280742763, 0.492603760953236, 0.5534856029466879, 1.0328242049122487, 0.29182521453318466, 0.263555946185929, 0.4629117152361292, -0.04675757936238197, 0.36662644437600383, 0.41693404764473374, 0.2831310051277088, 0.3819319380491567, -0.1760481558840998, 0.8618482679148661, 0.11019199772569035, 0.4929255828635942, -0.22384851242172857, -0.4280526725027812, 0.40646487585632524, -0.574595412113113, 0.4989870003886286, 0.5825598104101358, -0.1020361674900407, -0.6998399412481482, -0.6086408229036949, 0.6351613508348303, -0.30798816005300494, -0.0046313976431163455, -0.4520947225337978, -0.19581718060245681, 1.3031324368180204, 0.0029690101027484055, -0.23587979618185317, -0.33741008761727803, -0.15188235664598715, 0.3568900278725323, -0.10960546377124347, 0.3155958425961554, 0.23083492249472934, -0.17390167010296695, 0.36729432391132016, 0.5923446182407996, 0.36727518015493277, 0.5802537268596908, 0.449294371943741, 0.33907711540168023, 0.7669866265053787, 0.21852203560536865, -0.5452699252537871, 0.8438329158343337, 0.5668130502183572, 0.6040366265694865, -0.8404049420088346, -0.28376085221925373, 0.22688623870941024, -0.5190761686451991, 0.22032254089299888, 0.33027284245555805, 1.056450644389671, -0.08801934705247486, 0.4231417134451056, 0.9963073622636204, 0.7372947887777905, 0.33978125935650005, 0.2306749687742122, 0.3431931489237544, -0.15879358544181732, -0.30831463767627815, -0.2682563492536678, -0.3055554878816803, 0.16838601922592805, 0.4434817132342631, 0.2284259498235876, -0.3013108094899746, -0.11076393732593644, 0.024832691501769498, -0.013873204216345037, 1.0769455265850152, -0.03985522292380661, 0.045654028889910804, -0.14219553638733395, -0.3272885353079596, -0.5393915757541483, -0.2434486083332402, 0.40344211378749445, 0.6327259376395973, -0.0615626512139928, -0.5703039745625506, -0.3543314362507666, -0.2849246310861212, 0.06486367178897202, -0.25186536141943333, -0.29123374278281866, 0.8922883494746904, -0.32269121403303563, 0.3851233467689173, 0.314655133045924, 0.7052068049396064, -0.595043254468869, 0.12945985287684628, -0.13414533589024533, -0.33456731869130957, -0.4462617160305004, 0.46726038677904974, 0.600340355605054, 0.029995353329732365, 0.5142141207463621, 0.12721040071373974, 0.05509155257487334, -0.04454263745358731, 0.07702177733152216, -0.3278411246383081, -0.29879244246244757, -0.00847050251532394, -0.08430592656826158, 0.3371229805288769, 0.3979275497114694, 0.05565710963397195, -0.06569054041228187, -0.19401964879772277, 0.18320132570181055, 0.028335894965029477, -0.026656590901461927, 0.7663011148770094, 0.22827577976630095, -0.007644388102869738, 0.20660378395797285, 0.22003387309614664, 0.10564761236346248, 0.6462736156142397, -0.1711464451478714, 0.6323692566277336, 0.1758431197604328, 0.6764934811650555, 0.03195546388091446, -0.2655285551359493, -0.02889658716724233, -0.02320013839370588, 0.7403591381497634, 0.3970730823597067, 0.6851755893769651, 0.5390045286091827, -0.3278298378482735, 0.6582862293000555, 0.792454941041659, 0.0655395222430543, 0.43624720678926937, 0.1340881388877022, 0.052575646606597345, 0.4913801696734076, 0.04448105244459015, -0.43675175661725246, -0.06573230812590924, 0.714246714477705, 0.2597893697226215, 0.03357053808307336, 0.3272902784256832, 0.0884436253528966, 0.4838323651971434, 0.6366078991861317, -0.24588918643413596, 0.13313723796287855, -0.35268912834281546, -0.26676880729613306, -0.41061255507599964, 0.23309374315651846, 0.5102051640642138, 0.8526353476609909, 0.403684328894378, 0.13300633328021413, 0.5681230272046444, 1.0013743210908035, -0.13407820814352725, 0.6010433460044887, -0.23074550805103183, 0.5019088909358782, -0.23442927377988024, 0.32875039200153494, 0.5012059537545516, -0.36867943536331776, 0.44944711566275897, -0.1369345162796665, -0.1301546440803779, -0.3911854762055938, 0.18642730695796733, 0.5055783537352645, 0.14750806589517187, -0.20706442329104646, 0.6797503052913592, 0.6091879812315609, 0.14153849649412156, -0.14699918928645975, 0.5420403527207768, 0.06992702338796158, -0.19644037510191995, 0.3718917491323423, 0.3188060561449892, 0.18706776116367954, 0.010843320901925569, 0.4572761829504781, -0.4702502821350875, 0.2820241221586568, -0.20108312848867643, 1.3135392987187107, 0.7038423239430411, 0.2882098302337337, -0.014082504381986955, -0.07831583296343708, -0.24103378570376058, 0.5138209343641098, 0.24562067456513095, 0.35007708927325887, 0.6698632202026731, 0.2515194040506904, 0.5147295295656351, 0.06882215136247423, -0.14669036219405077, 0.561464197565725, -0.016457656774237307, -0.8027961039003411, 0.6918410437446011, -0.35252449070159875, -0.3225857589790956, 0.4428353716502245, 0.22152008795784192, -0.2813473119506872, 0.07489184563098873, 0.12452812191442343, -0.4947574318627939, 0.1674983874180168, 1.1337246087053077, -0.20196494783071553, 0.6294587931394647, -0.3798296898827292, 0.3308348670269094, 0.8598313262057712, 0.8701086608050357, 0.23535533535392544, 0.21040450954338671, -0.182288230560966, 0.6063696852439256, 0.07835752827488071, 0.3859586642697965, 1.3730387909146875, 0.8758071616054758, 0.3925794675935, 0.505960864522246, -0.5982707178914184, 0.3180948696854669, -0.19971026899220787, -0.6996333136191883, 0.6427900310480976, 0.07191330184249323, -0.18693790691283566, 0.15608716858422705, 0.13103397751028717, -0.8305790667246158, 0.8642191471405538, 0.7171101613699455, 0.5226064693094796, -0.7699635286895368, 0.7534435974079446, -0.5430658404005285, -0.26387395565394733, 0.4306322582308361, -0.4834991673692938, 0.7666500109390603, -0.29110290908973974, 0.2288568956035508, -0.24725362763982675, -0.059638509774622955, -0.3729327146642733, 0.2597227704983084, -0.06950394298882415, -0.03649644070677946, 0.020092269236538927, 0.7645023110713578, 0.12179310160720609, 0.3357365381090214, 0.19445842678771152, -0.33864820508149174, -0.13939258429242338, -0.4786195911531183, -0.4275789145277836, -0.01728985543153133, 0.09456231132468115, -0.1647655839409527, -0.5666300097304507, -0.5992262916421126, 0.2365233265338278, -0.3596175250824538, -0.17155554062100634, -0.5011303870862087, -0.6021404324067813, 0.2197146171015204, 1.3605761606423437, -0.22381835333442038, -0.31341288441026216, -0.39933103750226584, -0.16542104775424088, 0.42143714120930054, -0.31704516144139233, 0.841570892942909, 0.07141396350510089, 0.38309041183576803, 0.0656889855315748, -0.16263612378810374, -0.3719978981940781, 0.13448131730216345, 0.14106254196664147, 0.0698943334061656, -0.25868723631009555, -0.591843694295308, -0.7405976543513433, 0.024028929300816865, 0.5442825068068379, 0.007183698050294553, -0.22939001579602558, -0.22542373801912471, 0.6282320866322766, 0.24579307629050773, 0.4221475560603563, 0.3252390602286744, 0.299055231727618, 0.5134598870864966, -0.0563987718353075, -0.08187057140109476, 1.0469370555978006, 0.011914872761723781, 0.5354923963804276, 0.6020660216308762, 0.5403941838325762, 0.2747174964432622, 0.37792214662014456, 0.8634511664495836, -0.546332222397407, 0.1069865727178246, -0.13471021814830314, 0.7463855133136785, 1.1168926226339415, 0.18765496571667045, 0.25065174626881764, 0.28923858207606806, 0.49175414103175125, 0.3447594411833623, 0.06597408043138368, 0.3580006901177466, 0.5752026266305891, 0.2522252296797094, 0.23050248770274714, -0.2799668537490258, -0.010667588543646285, 0.7078498383951621, -0.28193621636456495, 0.38817838433534296, 0.2812622159443721, 0.25778979513865774, 0.02378610383131914, 0.43584905920821004, 0.19073598976136105, -0.14686584589808893, 0.5563143485294243, 0.5415564283347692, 0.42761124560680874, 0.9348587869597116, 0.1577425511944135, 0.4549602028370694, -0.006213348165670459, -0.29762182694147243, 1.0055185315342772, 0.6665962952419399, 0.20089948569139063, -0.44866537585085847, 0.609388897439105, -0.09819183848281364, 0.783412418820664, 0.2734454634667322, 0.2843110986540524, 0.4303383000429072, 0.8512414982225968, 0.5715349035925529, 1.0959727137312316, -0.1479140516804482, -0.5910551980505525, 0.5197361730467742, 0.8415015219678009, 0.016277679744502612, -0.0414417803060184, -0.2794216841475591, -0.16145948069323304, 0.4496656740647308, -0.36028872414988544, 0.8359335013408863, -0.03214509783646412, 0.504758308400731, 0.7004818965457652, 0.06563247846296137, -0.14062018095802742, 0.12155066850268201, 0.19899520689482358, 0.8249994735436617, -0.07410327644589564, -0.0016074513942346059, 0.4130122710348804, -0.4999185455404835, -0.004304960135120312, -0.48155119194304136, -0.015977219836124847, 0.35301891393140006, 0.5202135546741428, 0.5757635600674619, 1.0224185215345052, 0.18946291748238944, 0.5191735207528587, 0.4340985221637771, 0.05606086675452019, 0.6296548875380895, -0.7706518885385572, 0.7862848435783367, -0.7478407316328346, 0.4989978636650269, -0.3220971918132146, -0.2650529057612647, 0.256075915716893, 0.2663561411807506, -0.22447725261984094, -0.06700174630302039, -0.4929657013627607, -0.251583889064758, -0.006035376414439973, 0.24018169340175408, -0.448507856195557, -0.07258722625030624, 0.8652366124773745, -0.03232249915536641, -0.07441451033129456, 0.2992972967377673, -0.8125896574359631, -0.6836014638034469, -0.09930163458841866, -0.011982300176624675, 0.06157968006211171, 0.17629988822831016, -0.1640793159435234, -0.0014409212423607892, 0.7889828248324228, -0.6544785351010709, 0.7595565332894878, -0.45627877849673176, -0.4144146539579815, -0.31838343678016606, -0.00298173016345401, 0.20978926839413964, 0.836712167046338, 0.22332778265412295, -0.4593813634808941, -0.3274482502791375, 0.5280170880881414, 0.2133837590860068, -0.15762398237023517, -0.22130428463801746, 0.43756184846147567, 0.054523123624091105, 0.2797698014132479, 0.15687664415304134, 0.13372793531646207, 0.03445669402464965, 0.9823000197918973, -0.10848346041123548, 0.2150123905145957, -0.14528512106547756, 0.04477206278872751, -0.1273551521508246, -0.6907062975566312, 0.2774650420296782, 0.30044665273588433, -0.2144490904380558, 0.14275469296258575, -0.25783826562213363, -0.2748471262539935, -0.4605893125777985, -0.01141638002461103, -0.0751006068422649, -0.3960971455775811, -0.31354283031163244, 0.6174815185035449, -0.22742800214246686, 0.5982383833679754, 0.8437895218070024, 0.7905142718623382, 0.34749689437618864, -0.42561250749514884, 0.08944974016624209, -0.025737208047541812, 0.05858746451439592, -0.24708108677237464, 0.4147424334228489, 0.996647668193006, 1.127941848169791, -0.45474603216260684, -0.12667396730971833, -0.3790649743567295, -0.5634459487382182, -0.1095018213030715, -0.5085131006239564, -0.02480765298858208, 0.4344912642396668, 0.2667392240233714, -0.12748478678091313, -0.44977915067996804, 0.4309737321619994, -0.944976954156842, -0.05901702045467246, 0.24210745581384038, 0.36033150105457373, 0.8908147191890109, -0.0219630826518375, -0.3864436248422972, -0.02494671868765414, -0.0046281480684021966, -0.6840920066176008, -0.46429290594677036, 0.5974416237086112, -0.5197998204548954, -0.2148668695960634, 0.6806466824774355, -0.31831810738214106, -0.03488960342319081, -0.34149250034250667, -0.6647890771593842, -0.10159821625634317, 0.5707354900874422, -0.1533966147050634, -0.510677073629549, 0.020380588388688062, -0.6561315004764859, 1.2311481970884943, 0.38720840486722935, -0.07787221240185584, -0.07088410761541702, 0.4497656229036102, -0.5318499815485597, -0.43759697769601713, -0.19701825813765736, 0.5227420055772565, -0.2731511694557976, -0.042983863173516615, 0.18684522058999684, 0.18086901417584297, -0.2070521664342142, -0.21655194030328867, 0.2015723085418831, 0.590045848970048, -0.03956271822779993, 0.29365694559109096, 0.46156167378266616, -0.16900021306868407, -0.27269232853029457, 0.16725733173272714, 0.3143185872106263, -0.027502700759665204, -0.4807341799121527, -0.14083848832322723, -0.11099927112147853, -0.16548082399511674, 0.24368525402661342, 0.7210537096794967, 0.37963192346625, -0.7346186178718234, 0.07433625386238547, 0.6200629616585703, -0.13881903499168186, -0.5159310941545412, 0.027167427223922614, -0.2110179544771156, 0.10354477520633651, -0.3871275069512464, -0.1997194116837925, -0.4035111510196046, 0.3953979584079979, -0.0722069249258616, 0.18303278506429593, 1.059729666956223, 0.765980932852545, 0.045764494908561756, -0.6662662392473045, 0.2959968364390709, -0.08469498407415646, 0.025578445457605525, -0.2196094455927301, -0.10755121399286666, 0.46226992605736617, 0.4277939405787364, 0.307657150517295, 1.1793126704420303, -0.0025063831538422094, 0.8170368753441146, 0.4191032021130528, 0.19199901084734938, -0.0890708810921369, 0.21189627501022212, 0.25180039089742406, 0.13467628496017298, 0.34961313037074254, 0.49472281860093825, -0.18568088529507087, 0.3982113313263605, 0.28690049951482105, -0.23070665867778864, 0.39120407065560936, -0.023202003906929204, -0.6426460547336829, 0.19636985698024334, 0.6572646477374399, 0.10092268755339111, -0.33078065859100697, 0.20338091625689997, 0.06700309587345843, 1.1690970782023689, 0.07755042233655138, -0.7535059911378362, 0.5004099304627578, -0.5738881320910656, -0.21352736229656824, -0.2796814886093615, -0.07035571816052762, 0.03731720996063113, -0.2299681635630997, -0.07019008982007552, -0.09976276166432209, 0.3871054571577281, -0.20335538773817552, 0.09621087216584077, -0.29076288204952777, 0.276389998020106, -0.08906858074557288, 1.0556328579965228, 0.010758975259081963, -0.011319984568357389, -0.1488894354554535, 0.7103035403781085, 0.13364492662836494, 0.6563732262456912, -0.4229826803396978, -0.41538321130958983, 0.35814551390899885, -0.15438379835268276, 0.27209392588451486, 0.5539525648042901, -0.11631314998074241, 0.439742167872253, 0.42235191706974684, -0.01862136561281716, 0.2456144350733987, -0.28936098559983797, 0.6249792449549556, 0.83053881208585, 1.1664787849982272, 0.23684939836118374, 0.2794918382798128, 0.3000059292676699, -0.04947831598500255, -0.34896075544429517, 0.11757978181193644, 0.11932942981799448, -0.43038803350789334, 0.1883205273558439, 0.8473553484394624, 0.5316755013059886, 0.04036544148547386, 0.5044981599696176, 0.09041228107540644, 0.5095747777047877, -0.0343844766513671, -0.21459276626893034, 0.39339387101012707, 1.0792653495806577, 0.7741298529181053, -0.2790902903817755, 0.21773529198258432, 0.5961309384743578, -0.10441653512744663, 0.44254015094628446, 0.2676149766593485, -0.20311365732760484, 0.6097432628233401, 0.6151904172133774, -0.5545286535853047, -0.23613024967239965, -0.21444755234582477, -0.48974041534006424, -0.07293857845439886, -0.3090416787776552, 0.6932705078718713, -0.21616903286103661, 0.4875540171372953, 0.20886871836146992, 0.3821930162827943, 0.20683488361565255, 0.9655674676255647, 0.008282688380541352, 0.24630597946481897, -0.09382625405698515, 0.542745330023189, 0.6349051527848284, -0.3656636204017877, -0.8958068149576383, 0.16151725961809976, 0.5910118928628718, -0.42590489173139484, 0.668803588253083, 0.3056447655766179, 1.0223477500342002, 0.04176852368553979, 0.5134480776908853, -0.20515866538717167, 0.5557842851802746, 0.04031737248815114, 0.8485662627712108, 0.5309814683699958, -0.5313078863481768, -0.38144712712701795, 0.11315399024043135, 0.07303660047395834, 0.9270686941505447, 0.10951980508836871, 0.814660478615664, 0.4668953271159957, 0.3229826990176605, 0.3528795759566204, 0.3944624290184721, 0.1249974031823713, 0.7126584261895299, 0.4278417450977619, 0.21113833030590473, -0.11135142309612184, 0.022079777912037007, 0.39459671110129374, 0.22740336184269916, -0.1983419613660263, 0.1585500276384969, 0.7746588033266372, 0.06588813837002612, -0.13153914207489698, 0.10026892760420596, 1.0181124131975077, 0.2308027803535453, -0.5277157507795547, -0.3976975278437235, 0.6169607593095224, -0.4547432268298243, -0.6225959949579626, -0.6255317978565477, -0.3591349062067656, 0.3911151952997866, 0.344620983760517, 0.47603807110333435, -0.2513973395289755, 0.5774071833754981, -0.2610691306553579, 0.11564957087708068, 0.26950685737043384, -0.46723518246838935, 0.35439323996718997, 0.7841493193713862, 0.6933883547291484, -0.5348768676139818, 0.23580519481186243, 0.07513648889663015, 1.1715148809833789, -0.5794578075333333, -0.3331020661165291, 0.939853221998028, 0.10442067085531433, -0.0758491093313251, 0.7948509135208187, -0.3752228626586876, 0.31573789594350665, 0.1955962051965429, 0.23286793892010668, 0.08409194657310748, 0.43491056203212863, 0.10662053824834354, -0.01392258940404082, 0.469544120065956, -0.17683027669670537, -0.011544677951521632, -0.2589498476686793, 0.573884822944872, -0.6195478176848302, -0.6939816213766115, 0.14698283731051154, 0.23762722499274389, 1.0131012091001244, 0.6983810714044415, 0.8896116204404354, 0.7801578108647533, 0.5178006788543431, 0.2723881106678089, 0.08679906928123404, -0.027848303576789798, 0.7502135215132992, 0.23832126149685212, 0.5851851926156876, 0.5206293730534406, 0.5169980535510642, -0.19929262194138012, -0.009287294440085105, -0.09364542627966758, 0.18301366080183454, 0.37975988877443445, 0.030622944739281212, -0.0897088395571705, 0.7279509614002827, 0.276387562467684, -0.07742319459707964, 0.3666176278118482, -0.12521299778311915, 0.15299994904887176, 0.13669076223720728, 0.8780421634050607, 0.18214260643735528, 0.33335017489275776, 1.0387252744821769, -0.2299590079890059, 0.6640588633836864, 0.07054656651406548, 0.9775112445096258, 0.31424121538812455, 0.05704657678531731, 0.35104467430028546, 0.5677528260816322, 0.771561691070905, 0.339926723768478, -0.17878135557226438, 0.39812904924924825, -0.09973951311208101, 0.5162889912812656, -0.34932755539806815, 0.4292099144581364, 0.568577591030243, -0.32479144459744835, -0.11087381766707975, -0.1936565859698335, 0.7596414037054248, 0.5136180006801115, 0.6844647616407592, -0.11233425541577988, 0.42021776252797144, -0.3768319986875475, 0.25369353840715275, 0.31853108043848777, 0.08927783068593062, 0.4714913620007731, 0.8750517683951721, 0.40694205286445717, 0.18032011841858303, -0.007864372912368073, 0.242241131924053, -0.4177926721763861, -0.20756045366966222, -0.09003184338316872, -0.27268902091693653, 0.9653058763680656, -0.016964709941096126, 0.5637319539315264, -0.24384417784616727, 0.44176953712618444, 0.6181455472645261, -0.052395005939947885, 0.9353501705398569, -0.0650755793887901, -0.22089248193207567, -0.35102468027083006, 0.07866727213224102, 0.6770689264532571, 0.6146087342341271, 0.23916753404992644, -0.2125534245791062, 0.3070746135425111, -0.024667158244016482, 0.1958278910260428, 0.02036620913161974, 0.0054479820353731945, 0.21651438236586984, 0.40078834817351616, -0.32567094517891276, 0.009930985257304343, -0.4916542359163776, 0.14165884277157895, 0.13279882058300232, 0.5709209041789629, 0.45948816669116777, 0.7625859687496577, 0.49793242915408203, 0.53830114494378, 0.4655183442933089, 0.08921306647833974, 0.6224428982356222, -0.010202277954069442, 0.3239617197718847, 0.04576551663512619, 0.05361950712917315, 0.2709095340105787, 0.0766839853312929, 0.25023647545256644, 0.33262898201668817, -0.1346097108200741, 0.2277944464402534, -0.21294906734765526, 0.5792421826749925, 0.22418230524843866, -0.3591663062459786, -0.036263221342304384, 0.3679473334446754, 0.4329542872214471, 0.1264226959018884, 0.55045166713976, 0.05851327892987921, 0.3312765876319158, 0.9468690317396978, 0.4581771704872148, 0.1959369890884989, -0.5464114010133203, 0.9089297304383475, -0.20691380279088942, 0.2528516389250026, -0.18155571106789758, -0.15758495700501246, 0.7002156994957508, 0.9072234613468675, -0.2879576161439497, -0.20110557349937316, 0.5697655842452055, 0.489054973952005, 0.707523504625924, 1.0153917181248613, -0.2026294015526135, 0.2948622864976055, 0.07376792292329562, 0.6523817322946242, -0.11522289996424677, -0.14701415019514621, -0.48836514769137407, 0.33354570724490995, -0.12615522707065013, -0.5308633715819739, -0.3852042814175756, -0.2785646000180428, -0.021226481142873142, 0.25819676586070595, 0.05788080318413006, -0.24770571962469098, 0.6885801006211483, 0.1817858767959471, 0.23665650935608012, 0.16653116769771625, -0.32739544881409827, 0.5328816267182465, 0.5621485941563356, 0.13065506101196084, 0.05930331439520563, 0.07227127574365297, 0.2239832638401746, -0.017520558834227054, 0.05046869779877251, -0.1385134700777923, 0.1345465817503045, 0.4705592781864736, 0.31283113960217523, 0.2877070961239004, 0.23256603515181373, 0.4281440836189093, 0.767442338521121, 0.07415694810926739, 0.8622286850319332, -0.12209241784605375, 0.23562020047913074, -0.032979524204465864, 0.05441486269880391, -0.2984108471823687, 0.5675666719610771, 0.2043005886014712, 0.07606263547914043, 0.18299430462243363, -0.3688713569545677, 0.540667287611911, -0.34891896268141537, 0.3438569130225162, -0.47687123436100703, -0.6624652615278988, 0.16441358929091904, 0.6562297603366665, -0.13730601960806688, -0.45054668325872294, -0.31424855398309276, -0.12127747483091161, 0.17389976927366993, -0.09613541358685512, -0.18633626583526497, -0.4338410436695804, -0.21577517308786512, -0.17489788682408444, 0.11667275162559346, -0.3983436096246045, 0.2195826632543097, 0.6241141089530986, 0.3911543846216038, 0.39774723331523715, 0.4395375821173523, 0.3904268568227372, 0.04578646277887137, 1.037127387752622, -0.14624685998242407, 0.053740491083731384, 0.3436111197984014, -0.2706375147995338, 0.22456077575575656, 0.182050658736038, 0.3511865982919826, -0.45922347666145524, 1.25413307620062, -0.2447951472957373, -0.005407646458146822, 0.2743936087084678, -0.04204708830632775, 0.7366214914697417, 0.7997869482652394, 0.9218637196793933, -0.456642932370901, 0.377070089306045, 0.2507129941618427, -0.39064533527501755, 0.8900194022525838, 0.732273181276073, 0.256804853819588, 0.9323672975436296, 1.02685724791053, 0.6288404133114, 0.8750970784793083, -0.3352587038467542, -0.09905929443903227, -0.05042298379731682, 0.21286508957443828, 0.478886632122161, 0.774361034169829, -0.18660109521951773, 0.1703373981234481, 0.5766697998144024, -0.11912534755250177, -0.20737424324204617, -0.2621614232654961, 0.13722039978266948, 0.3137540424110406, 0.5255628841726847, 0.18112172795808815, 0.06726499132643234, -0.1678894641165328, -0.0037542861276256643, 0.27387925985465567, -0.2536417791977277, -0.6144973396121045, 0.6136899316346264, -0.034835431226593196, 0.2739957786609288, -0.41636967541366604, 0.06744245082569708, 0.9790654221979693, 0.5782218268773752, 0.020173441640212494, -0.42247476322069805, 0.0873758905734125, 0.17744535753881768, 0.3214867771888563, -0.5361078708345459, -0.2054575412058686, 0.5590163890512388, -0.4289061861032477, 0.3888111789193501, -0.3665322432521876, 0.7665618953643659, 0.4657865730389427, 0.6438924703176643, -0.21480525897672073, 0.4247185117638027, 0.026092986442296368, -0.4004441845414611, -0.33472589276836934, -0.23649931003108787, -0.2030184059985324, 0.10284051761476172, 0.20937758777502669, 0.5241550387359821, 0.11216243997458075, 0.3416355133213003, -0.23508501815105412, 1.0701551478711926, -0.16513824531970908, -0.16167526290438672, 0.3532911942998581, -0.23455415213232875, -0.4518751809999967, -0.05013093584667456, 1.0643615522437306, -0.44010489424304966, -0.3067884071668351, 0.27634572228542376, -0.1319206623868229, -0.36725378837325917, 0.402882439729525, 0.11609552494816722, 0.4776478632688804, 0.14236492914225518, 0.12105851678349043, 0.18510410157526214, 0.9098574311210181, -0.518109229008169, -0.08866685358347445, 0.4591950093124852, -0.19890788276988222, 1.0575574952772064, 0.24054468082113936, -0.2589330898540767, 0.7300660549893883, -0.02796719270321499, -0.3484528306706262, -0.26917270444710495, 0.7571062339273102, 0.3667599207654642, 0.01401305728134129, 0.7103037418505912, 0.6133134863740312, 0.7451244972192145, 0.6434066447092754, 0.8948845040245137, 0.971280841613552, -0.14889666049837047, 0.7858989346358423, 0.43048487359788506, 0.394776670522525, 0.5862683481376976, 0.3388859787221204, 0.9612545750598329, 0.45702205996932427, -0.046934466824337884, 0.5655329791414133, -0.44055262292426633, 0.45177962505888314, -0.1412312853589745, 0.20014432716882605, 0.1918442533002475, 0.5831981382934697, -0.054379232015876, 0.33947375309925276, 0.2696224458875992, 1.13670552436273, -0.2591104323449899, 0.10419662090440128, -0.05336097656938445, -0.4485242738543838, -0.6090205841029764, 0.5780765337295931, -0.29422557807623906, -0.566360285652264, 0.20362064272053856, -0.3307727880181862, -0.338111318508225, 0.16031073030664408, -0.21680331264040265, 0.25145609302332267, 0.9811386978968686, 0.6107130520539908, -0.3527346011301569, 0.10583636957809218, 0.6874362935601294, -0.09379110759005886, 0.3643568860547384, 0.39667821700276534, 0.4285989191935098, -0.23151700332783773, 0.3398614325580166, 0.3377879521662251, -0.21009497767324228, 0.4907041804816161, 0.7674631847828078, -0.08491037935651406, 0.21831213897337076, 0.418991649949798, -0.48389254711858504, -0.004528591447998571, 0.5318523600830442, 0.6355813988684725, 0.006952722621144968, 0.006438383520130787, -0.23931534153945155, -0.10632924862948671, 0.5874628842172087, -0.5453920517049626, 0.07860930769931836, -0.0741516547201817, -0.18564310983683222, 0.019764116489672506, 0.059162458109300944, -0.21029059425066693, -0.19254981434590207, 0.1525490849022194, -0.6087840427733087, -0.1024462719471251, 0.08684319124590771, -0.14182202767256857, 0.17530546812384423, 0.3105962844651107, 0.7051999772812648, 0.2043395181049956, 1.2082765421172275, -0.6849862475740719, -0.00551288857975083, 0.278716594849464, 0.227698870052974, 0.6914946608247148, -0.6269552954980716, -0.179750500938894, -0.5443843458440943, -0.26059358026387414, 0.1842186480221712, 1.0495969980602555, 0.3060975568878883, -0.031885425617217994, 0.37666724869406987, 0.39245394909610826, 0.17114353604109353, 0.5906109250405686, -0.06880293161761147, -0.31592934957945, 1.0597514785192654, 0.1942687760930598, -0.2085359564692109, -0.1390273291334875, 0.01925750622828717, 0.3795146191738716, 0.6712461860308717, 0.08356461578833889, 0.2906104236331867, 0.7370694159320537, 0.42678774369340305, 0.1602415813582563, 1.2322056468811051, -0.612210977563898, -0.18330897549453845, 0.8080645621019293, -0.45295178688373067, -0.06352227311568777, 0.06961806392278828, 0.62110929183535, -0.12505742778203277, 0.5345325064006787, 0.576001791536653, -0.24188761015615792, 0.3039857966433708, -0.09759844999252218, 0.1765359559178925, 1.0666765738646946, -0.02812568327779949, 0.4707857745765036, 0.255579948854266, 0.12814800796746528, 0.9645988901235927, -0.6979146813701326, -0.18919415669106265, 0.07048620363649993, 0.19029126934392876, 0.6237427401310668, 0.48289710834495064, -0.1113988918908559, -0.7344974827087343, 0.2651178757740925, -0.2422183446262114, 0.5072570841156402, -0.22597855856353627, 0.04605979558239106, 0.7476404688443766, -0.261041092518598, -0.07146515153285468, -0.16790543109372416, -0.28771766410674426, -0.12384037924138237, -0.29464432111293276, 0.027069335874398408, 0.4777181325909705, -0.3540437796526636, 0.02721450802312847, 0.1999823250877975, 0.86473227142722, 0.2738629758326608, 0.1954907801570047, -0.07893406073332372, 0.11700966352881262, -0.24380229986882374, 0.203505684081479, 0.0698077711756591, 0.8202036779609729, 0.4655539617207431, -0.040261770979946127, 0.08816092454145975, 0.2514535322730659, -0.3980517426879009, 0.07364034916168685, -0.3563992611660763, 0.17043949712156903, 0.1762801845547132, 0.248732484213869, 0.18826697042216012, 0.31681249022895425, 0.22390299978894632, 0.1830621754455425, -0.5640312962758863, 0.5440695269617386, 0.30404570959338245, -0.3978616169899415, -0.25526343151107805, -0.11273202486037577, -0.4251112014232408, -0.7751239862109811, -0.4313245969117028, -0.9615707431614495, -0.5316694323846501, -0.14321011377843995, -0.11791626570528999, -0.4664777077009678, -0.13850589829001914, -0.24969768717766078, -0.08401313745403914, -0.3093793601138062, 0.03225218711283987, -0.4712428998887667, 0.2077949078940398, 0.34391074272404426, -0.22078222241679696, 0.2252311454101128, -0.4050358060423563, 0.6240944478425894, -0.22898490995832502, -0.12028208197980403, 0.34546957364552644, -0.038930667453214995, -0.15515694145364123, 0.21101380075896578, 0.23406863579721093, 0.2401563761363612, -0.2507468533137694, 0.29407974046575647, -0.555991032965571, -0.029302665107559574, -0.25612378212425435, 0.5408367915577368, -0.45504337394949573, -0.1059019943277566, 0.5416108738925222, 0.4853668841117083, 0.3932629820157981, 0.1401185430494289, 0.16833304700587615, -0.09305026281987876, 0.004840578922923813, 0.1557694900914291, -0.8869543837002558, 0.05635265745464511, -0.19528066189394963, 0.024877247416123724, -0.296232087341962, 0.0687612233426362, -0.09507057994973024, 0.07185695600766065, 0.250946976758524, -0.38489548650913286, -0.16121264183787487, 0.4394261011343393, -0.10351067195138372, 0.22042826627606027, 0.300509505346018, -0.13806310035404817, -0.0035619802175274468, 0.8733693003631857, -0.24659824346966205, -0.2279353829042809, -0.29564535752943977, -0.3760276977293126, 1.1391817142148486, 0.11606961715034397, 0.39889941189480305, 0.06884112368937538, 0.21171738598663056, 0.28430725007407054, 0.31893970451170184, -0.31470108237031513, -0.19452128479466116, -0.48582782297113414, 0.16801338451370823, 0.20721413520803955, 0.2568159839920768, 0.407765693797101, -0.43430836906192927, -0.09531184327256066, 0.030889881213064806, 0.1371284518271293, -0.35044635572531974, -0.12238775935465014, 0.024997240341527244, 0.08628558030583151, 0.16525502862161845, 0.10270867493613016, 0.5496199752815948, 0.9489910495418574, -0.3938363225993388, 0.22265757936551656, -0.23578417487233486, 0.9937442022831654, -0.20145888337101486, -0.34555784365272035, -0.1701927284520267, -0.06021646530258026, 0.6370386154371185, -0.4739388407033944, -0.5198171343855391, -0.015208254064714754, -0.2897965251151641, 0.22191761429570536, -0.18469081257220601, -0.5461999077929616, 1.3131444079493637, -0.10723110098713201, -0.4451071477629693, 0.07803722737203785, -0.2546483163224529, 0.19240421372186106, -0.26479638917383813, -0.4176121331973972, 0.10337799461272497, 0.41730189295337133, -0.13167202359380786, -0.3365836429369243, 0.2990845911696526, -0.23055968341636357, -0.45327697070852857, -0.19401472901765743, -0.7184032829178044, -0.08653295885703227, -0.5420809251030554, -0.5130553353306256, -0.45847024420920646, -0.5025424834728448, -0.22522769156616923, -0.11489974809050023, -0.11081598374452152, 0.18962240376578635, -0.2919353830619338, -0.6536209482550607, 0.013610507720054664, -0.2596694686540861, -0.040210350741260656, 0.0807610968987387, -0.1980983958761577, -0.14334395297397962, 0.30765322409226886, 0.16670401000174484, 0.9519992770829103, 0.13399468233900855, -0.2544891003526899, 0.9163985904024767, -0.2749225890866714, -0.01595468079398101, -0.36739133179225447, -0.009891491417093348, 0.14466828362689893, 0.12859785053329992, -0.24494664867172133, 0.144598263755328, 0.032084365133078205, -0.11060787608907516, -0.15352056439559966, -0.024381256316209264, 0.6527172765964111, -0.028068421868427822, 0.2263904573632607, -0.19790667936621226, -0.1608433504166822, 0.3460185954250757, 0.37228936941779156, -0.07469973363378522, 0.4734930167627927, 0.3381640243795675, 0.7327670520573265, -0.05852256692503615, 0.03531862263547981, -0.060718420683211566, 0.7239278862683456, 0.3965462726558983, 0.1782793594830887, 0.4964642417322596, 0.4235608042948482, 0.3598491619435602, -0.0011459889610964467, 0.2596477362919718, 0.2563586265678396, 0.42165110243463133, 0.06304036679150936, 0.45741375671429413, 0.19268370673227375, -0.11507909391269397, -0.44169626128474254, -0.0037399208675032557, -0.20894318238774814, 0.19993835527881385, -0.43454137172471163, 0.060434309805595034, 0.3304699174413624, 0.2607370044207477, -0.3826967088222063, 0.1424459770765447, -0.24918760176812402, 0.6244122261600485, 0.004202012088137551, 0.08882861417782081, -0.05600740428035323, 0.03732721068344245, 0.2870942230604106, 0.6373495027984666, 0.5078749754258763, 0.022229543669676704, -0.11568562124231148, 0.6850403991362328, 0.9332227310864112, -0.20867433911537644, 0.26728176484329763, 0.40444874847760515, -0.38642348328551146, 0.9049919730713872, 0.35714560230755016, 0.07406065688758423, -0.48192044767234987, 0.08600786834484422, -0.46844457551809066, -0.22786758326308404, 0.4635177689644678, 1.1521788023904265, -0.2596352194763184, 0.31497224562278703, -0.19775560191873323, 0.2335002074627574, -0.19760148943885064, -0.65508801168219, -0.0677299122635276, -0.25502516193932, 0.6330701295031069, 0.5136402298585675, 0.04974402306435665, 0.2538156319474696, 0.18002794364628455, -0.13998354457477907, 0.6530062149784414, 0.6601218809936662, 0.7293495147486351, 1.072259850537904, 0.20937667639145596, 0.19812241951534224, 0.6221264704673704, 1.0372953378417762, 0.1332425984524787, 0.18878384974348766, 0.3567179424787072, 0.6755769197084868, -0.004677797145591782, -0.5640671137811274, -0.07798754986491663, 0.13291507092606974, 0.02134769326871817, -0.11400582136318403, 0.4814282882059455, 0.33222320698189306, -0.21767533785989326, 0.10245908481248946, -0.025850686675445905, -0.42333876234626683, -0.007330311030949455, 0.08316394872769751, -0.47812499433857125, -0.5063281044616993, -0.406456138064066, -0.03917208867816121, -0.2982224610922771, 0.09566784751466806, -0.4294094195135004, 0.21209951060375207, -0.17348105499383285, 0.007373089255268747, 0.718040801951976, 0.07072887860240375, -0.13952206650164312, -0.022363665911551506, 0.7338056177846182, -0.3101605194465323, 0.18830183938863934, -0.6413529539023635, -0.4080365548964355, -0.22718463996228105, -0.2713800271527703, -0.08228594568783908, -0.0845083640975063, -0.025079484727209566, -0.27663718866020737, -0.4702466289375045, 0.04758140027157794, 0.22894285181777518, 0.3880052747327016, 0.3702512794921126, 0.4061618101928176, -0.09671801989162455, 0.5702801687046387, 0.36085477508638775, -0.39527549195939754, 0.9335243674606816, 0.32792935587521865, 0.05056775123414415, -0.4380806361108266, -0.014871970584534811, 0.6031525001450789, 0.011781996625359704, 0.45694595221056133, 0.2693067564246143, -0.6384022263348338, -0.21454311568931664, -0.20243205558847188, 0.284181678025175, -0.1929658025246429, -0.0706182509406181, 0.46162496024034816, -0.6056052294804231, -0.2177495239180601, 0.292663254153817, 0.15423817680899926, 0.08061655881172702, -0.020847683185024585, -0.5538272139064582, 0.28394323658281134, -0.19935442500618747, 0.46740290911700494, 0.3837826443855598, -0.002277321457277312, -0.31592237667613676, 0.5528854215671556, 0.3576551981359763, 0.3285979290633481, 0.2773828977593953, -0.4783378236851066, 0.2983292147079315, 0.644670390311571, -0.3790131300744242, -0.19099525969405381, 0.08023828603401953, 0.07808448400823854, 0.12706536772817478, 0.013603058018121193, -0.3486062396984588, -0.5738555169862158, -0.23414527935996315, 0.15603347151687458, -0.3859254397376498, -0.6164239396943214, -0.009966165992449098, 0.23630038649536156, 0.9004046897380634, 0.5361054261399756, 0.4373012652736343, 0.10437090915573614, 0.7720214561925856, 0.4843315292686734, 0.3994147077306668, 0.10506179344979556, 1.091034351696273, -0.13105916874193957, -0.019418493551808223, 1.0309698454590803, 0.6172735540511342, 0.6111297236491623, 0.17725175578728794, 0.34396055728613817, 0.3036269168866326, 0.3784009827405874, 0.6395269634017245, 0.6030885325169569, 0.2651042121711421, 0.8660917592032428, 0.08430250714442547, -0.016348268847829688, 0.08786712340725428, 0.07457963057901466, -0.012182584996097512, -0.12936790153411087, 0.03714178601901405, -0.41832218310606867, 0.44830311296108616, -0.27610207090157124, -0.20493132815782047, 0.3328578979433046, -0.4474897202552125, -0.20923157853815338, 0.8142502204073119, -0.37758719350730885, -0.14179094097441042, 0.5462792116001294, 0.05283527190010952, -0.078856190035541, 0.00041723335308042317, 0.22693842244802986, 0.47882405281274937, -0.20979465519328655, 0.16085106780383226, -0.6557722686375266, 0.4384157647842336, 0.1189797493599411, 0.9109389458809347, 0.5367674514112322, 0.22477534657486534, -0.09323139993699318, 0.5751037434481351, 0.15406063014614685, -0.21988685714488923, -0.2999872060576736, 0.7021570412416255, 0.04622723456528259, 0.15764580755778712, -0.10883932668694632, -0.05313391953156295, 0.7966014366465624, -0.17363502446807613, 0.02132687000976933, 0.2269593988537486, 0.1262557378864197, -0.5035051613340846, 0.8918287599348543, 0.7249307804036865, 0.16882110915585335, -0.25829498871396045, -0.2976884679901362, 0.3374235280555632, 0.6993818278600812, -0.390321876940092, -0.12618645275380558, 0.1519091394127057, 0.08064273742271931, 0.04545297008497879, 0.09717361018263866, -0.03896074112119118, 0.20793384715705823, 0.17163982822050824, 0.14421515095022325, -0.0733406634689873, 0.3384242293962273, -0.02834979198543006, -0.08531768688870228, -0.37513103674468273, -0.27778649786405574, 0.18477833073303002, -0.19157324103649015, -0.23943857887937983, -0.31167221566627495, -0.41026919206299195, 0.09245491624487763, -0.4747174434650526, 0.6247449589543105, -0.48573089154685, 0.35461388106826597, -0.23569349562571892, -0.007256088711843871, 0.059217895776820614, 0.02582707554223936, 0.3210295694620278, -0.009111106030058541, -0.38656699080411583, -0.45333868011196843, 0.06371449730342589, 0.10587448531693372, -0.20734983675244073, 0.13541149278292364, 0.017404825205252952, -0.08724671924818507, 0.6221249415852914, -0.16253382451156365, -0.39015765245793266, -0.08601526580524534, 0.2166892449190111, 0.16025664466110598, 0.31800788790558104, -0.1487124670480044, 0.14899456559240087, -0.019790067782552226, 0.5668890704372634, 0.10984902787170903, 1.168531322946455, -0.2925504753312741, 0.49255468326664015, 1.3031538971065428, -0.10217913936547113, 1.1279074860329044, -0.12949809538925933, 0.5250663883834523, -0.047787226889165244, -0.0805977857073362, 0.4598046421497035, -0.16227969430143022, 1.292855446531548, 0.2171506988946537, 0.2355787005422576, 0.3412139000608464, 0.4822557680294038, 0.10898635255596144, -0.10397298191491801, 0.008601492015629838, 1.023983948997232, 0.38777412992058263, -0.5289376208910161, 0.14413370548168852, 0.698825864316645, 0.8377685297947142, 0.562527670037917, 0.29140633082549544, 0.2098435498454843, 0.7828797928642797, 0.5518773359092295, -0.07531309709610323, -0.026806443591649434, 0.027877349311959388, 0.4587383837294969, -0.10267237709711277, 0.07421299441388034, 0.06350385096183037, 0.2106279359289328, 0.23400532736474025, 0.3473602022554375, 0.3343322915506728, 0.3700741179972568, -0.04300656350527329, 0.9079075189874033, 0.1270403605268781, 1.0761144421963833, 0.1108652123263405, 0.05362357791258441, 0.002804579418156658, 0.3275574166675741, -0.42730017319006425, -0.12351626994352365, 0.5345085161035644, -0.2196913381079532, 1.2266943523830973, 1.0115721029512508, -0.1135818703711152, 0.5154706260380992, -0.31402489591927213, -0.05843747512624927, -0.43302491993308434, -0.18687057739227095, -0.20857307350392643, -0.4417656177462026, 0.24080658314760553, 0.08867041375259582, -0.412999013558166, 0.23995028301024507, 0.6557143258824981, 0.6320733176930253, 0.5108523006002569, 0.11873509227498828, 0.7212635175972, -0.4632790369667769, 0.07814220650049879, 0.2400101147262327, -0.127032843255217, -0.010532858302960604, 0.4528364826642651, 0.7582327985184847, -0.2625008571908356, 0.3158477559557031, 0.19278445395371444, -0.008135851573334203, -0.5159016606304656, 0.42063364177960577, 0.32255738435235665, -0.4045633298962839, 0.3841544040903871, 0.2051311616214589, -0.32161898374673636, 0.5167637538215849, 0.11832363692347729, -0.11614850062919944, -0.35965618067645494, -0.4091335485754243, 0.2887396376077197, 0.18946513297138617, 0.6279624892655362, 0.6622504098832388, -0.3080890242626085, -0.5062975191343665, 0.1385833496278761, 0.43247274212670905, 0.41785890603334325, -0.04393893064629529, -0.39200610146676634, 0.22405845121229484, 0.013357222743947508, 0.1905444877365962, 0.015829416152955373, 0.11433458703744466, 0.666541418502455, -0.5247792371271761, -0.11160842174681403, -0.5340739365218105, -0.2808450930190215, 0.32254207960595394, 0.28964858450781367, -0.5210375604136643, 0.27165376385204476, -0.20779049397165658, 0.10075605841989423, 0.33746345535573036, -0.8106393854634206, -0.8071869976781134, 0.046433767592853836, 0.2639016889947936, -0.15673558243770516, 0.5792321240978602, -0.3485351104256578, -0.3983095527576408, -0.4681651023540948, -0.4683254344973819, 0.37846218046840857, -0.1846504997501412, 0.15125145968109394, -0.3863068790607893, 0.0509788554471969, -0.2573364594011922, 0.48887984818822616, -0.5768112042030805, 0.34076006152460464, -0.08718461987973426, 0.40472500570573944, -0.03046164061086196, 0.6204245868091433, -0.284595258703552, 0.5218478678481213, -0.34575248107587797, -0.21863320936085764, -0.0016267747263984111, 0.3251275478690945, 0.2847521315279675, -0.4303691945495648, -0.38406166279299864, 0.16728494641561076, 0.6763869128611398, 0.011654515398419824, 1.1309434533327969, 0.5598567930593663, 0.5368847113771512, -0.5732521368276834, -0.5697803132512035, 0.4124452625163987, -0.3611884203104701, 0.008504275801771335, 0.6521627547885257, 0.5758278741799773, -0.14627520536428276, -0.2856656430811525, 0.5395573650654136, -0.17800495098829602, 0.0981702583975433, 0.32676198647039323, -0.29392074366009263, 0.7550502757344861, 0.3019627377559746, 0.2706934432775504, 0.48660410521034275, 0.2846081556563319, 0.6259969226948039, 0.14453997876324606, 0.3895818804907816, 0.06945424114085423, -0.2241602658693433, -0.13677614348521752, 0.6277327720552952, -0.4269813685246708, -0.27164500130083336, -0.10597601609104436], \"y\": [-0.07550596275981594, -0.054995957339089734, -0.3381910012690126, 0.004748464182544931, -0.3143279656155929, 0.42607909009344513, -0.43538100297416943, -0.05433710006200805, -0.2562535722944263, -0.09172744919346952, -0.11700953763445289, -0.1850406779188479, 0.10031201100564742, -0.6036886959015701, 0.04548184225312607, 0.42194026871596796, -0.6235497071000266, -0.2947877018192388, -0.10913033680855568, 0.0571863966774342, 0.039505448836337255, 0.4325995282939586, 0.32390040220113325, -0.22969539185867188, -0.4018447855412744, -0.09423028003700903, -0.29684262444434967, -0.21180224417196578, 0.202890988176726, -0.4157825849038956, -0.16149398855334887, -0.18305848227054025, -0.07199643160703448, -0.11980196427203188, 0.3670220574530586, 0.16800197138970335, 0.559655280449003, 0.4145412638630063, 0.008234427056472792, -0.254420968149565, -0.0028898975124123294, 0.17840909979089098, -0.2912969007906777, -0.14314100443642186, -0.203846888388077, 0.01390973074977548, 0.2705562311478938, 0.38055037011579773, 0.17281686408575608, 0.19118268342668313, -0.18515154234896353, 0.04196194666110967, 0.05117293259290938, 0.10742278563718897, 0.352642445847337, -0.2114030323040056, 0.3822780882033252, -0.06926141608276833, -0.16931624250201133, -0.19587559372324015, -0.12372060330061904, 0.1786859164374787, 0.5774548678180977, 0.3673703707514798, -0.16528295060638065, -0.3536253826412453, -0.09405345990161293, -0.1023150515560382, 0.07198077976006136, 0.49759572363377574, 0.31430323761882983, 0.31851716668702307, 0.13085237111275955, 0.1260405251872155, 0.13238533127432414, 0.048553169213364694, 0.1116730017752255, 0.26090665808753977, 0.11551047245955941, 0.1164035529733144, -0.5248894921873052, -0.05520980456579174, 0.3162256635833513, -0.16903391935830073, 0.37534351567074586, 0.14478391067377178, 0.05421854691432463, 0.3784820363959861, 0.273308920953987, -0.22536239577327158, 0.5016335647266121, -0.22611698902941502, 0.20653041987960774, 0.12587213169439757, -0.2890875452121928, 0.08970792701766758, 0.5258000915213589, -0.21440638184350455, -0.05787335877394971, 0.15020341319117358, 0.4303170351476481, 0.14076258128216873, -0.2773649698024535, -0.2427044824667099, 0.6636357996982544, 0.1682373549355915, 0.20569884352768872, -0.27626279034986573, -0.030933372184926203, -0.028830020357521337, 0.22502743632195732, -0.10157909349641546, 0.1063755130576121, 0.3872886305344361, 0.47187765336585463, -0.5287894238231106, 0.2978730652873139, 0.19467127546879384, 0.06057353093118383, -0.11764285286402257, -0.19799443475485556, 0.17495502564679263, 0.037683721462156664, -0.6592952486859209, -0.23340965583462442, -0.17281388750569557, 0.3046674438558621, -0.00020877506961480792, 0.12102904478259384, -0.22468595572133976, 0.22649972423035483, 0.13395369353538727, 0.5172076167758903, -0.09183867989554828, -0.3132351747905032, 0.031913742416747715, -0.05859131436747995, 0.25758407053201693, 0.03883370294245897, 0.4206549614392983, 0.39825265723965153, -0.050657685783750024, 0.22753396251125066, -0.15251326968605594, -0.04333683340449953, 0.38827876369996384, 0.11449144380395487, 0.07210045012326723, 0.4566699480456127, 0.9420666447962116, -0.3333597630326534, 0.08548676840579726, 0.13419194634644224, 0.4331607793514043, 0.09208750922677084, 0.5887588781561817, -0.2803385399340547, 0.3783326945982968, 0.6164666371276136, -0.23587536383033225, 0.33809879534601883, 0.26784029677713633, -0.07292545529880481, -0.031095173443304168, 0.12257962857229866, 0.07492299543948862, 0.4145427983547089, 0.0485859892118362, 0.45890370130000113, 0.45751972062520097, 0.29356402814434956, -0.2831698643709896, -0.07980619194023379, 0.032978186032306116, -0.005303441479368973, 0.4932580835518185, 0.5254015392956962, 0.17827516886743536, 0.3226432922238776, 0.4819363896611701, -0.10445364655700562, 0.36655460724884387, -0.04659403052099219, 0.9953546664567798, 0.4333557148422303, -0.12059880487891285, -0.042029593835532314, -0.23595725990088287, 0.15266798253061115, 0.3467783221768816, 0.07073356208719064, 0.05143471167980434, 0.09971139744553864, 0.444127903450434, 0.5380843732356044, -0.145683672059892, 0.30966878942403053, 0.0709424227938844, -0.11697773319482795, 0.4989545092535923, -0.4382684993995579, 0.37198170742849024, 0.2730950077926326, 0.24037009726689182, 0.18075369788909923, 0.5204865169541986, -0.07972013665349043, 0.4541282680920993, 0.9203057537626866, 0.12954804713772936, -0.2548749043407168, -0.045770296422291544, -0.11984213143736941, 0.14269146609370173, 0.47003983802693616, -0.30766565768827353, -0.003025832487491876, 0.36284745977110827, -0.07009611427611571, 0.34717040025793783, 0.04282047553350866, 0.013158422402537126, 0.09967356878832594, -0.05239955093964841, 0.017478200509376523, 0.9545024873715134, 0.4488028686563501, 0.38344964714858754, 0.6391860976827349, 0.1915093024258817, 0.11046808002620032, 0.07641282977894856, -0.24377058642960622, -0.6155842753318244, 0.004740683955456059, 0.03301054467234077, -0.43823775379663465, 0.015092201794663111, -0.37319414337090895, -0.46970884151793074, -0.10146769925500236, -0.413291567394159, 0.027801823545389816, 0.06537674298539574, 0.24741551394437208, -0.0482557179643241, -0.40254522033383555, -0.14847691322488749, -0.11504126876138142, -0.30487138122669744, -0.2647998481060898, -0.347644512589959, -0.08068692491906929, 0.2820901114500617, -0.4399942180605631, -0.13927912114743318, -0.29087679887736256, -0.4936836829488657, -0.2197119081396735, -0.30526198788393016, 0.7690093481630226, 0.2621262976732413, 0.15459087502375837, 0.16712036447041878, -0.40248639187032215, -0.08672127757947391, 0.4418922089191128, 0.21602914339325846, -0.02486542411486435, -0.08150448866788712, 0.1488803417600912, 0.13899846647312106, -0.1507051153289526, 0.029366362665507975, 0.25131065039219413, 0.4895671314534492, 0.18791875628941862, 0.5176080734018774, 0.22584331804439595, -0.10102181987805446, 0.20975158902655625, 0.2542573137746865, -0.11905874197795453, 0.4343799216885452, 0.4207188766416221, 0.15635100318228332, 0.060277855938038354, 0.2975676247274952, -0.1442671850043636, 0.3401288790679348, 0.012802056610770166, 0.4329533592822015, 0.3594149473532284, 0.32176648875317493, -0.14747558364455177, -0.1344443816520497, 0.3542017032745333, 0.49969316841059963, 0.5089590861649542, 0.7749339286305746, 0.31870183483586406, 0.4108135241974348, 0.3347653957449929, 0.004846792746102492, 0.1607769979031972, 0.021792940690065432, 0.3636139612115463, -0.03176480492359936, 0.6950469867509494, 0.41325989916107175, 0.5526690407123135, 1.0590864003035265, 0.15738039730417894, 0.282652970963507, 0.3436426126398348, -0.1121611035487848, -0.07982415376586194, 0.30630648771682795, 0.8793917109853647, 0.6320496590179718, 0.5845282262216132, 1.0005517947647118, 0.6652177425043543, 0.9358240182969072, 0.5152797679547153, 0.2551668344743466, 0.5909102153831517, 0.08810336863672345, 0.2948763488973455, 0.2752588885709518, 0.4203308386145581, 0.18359726001682108, 0.26003345461635485, 0.3768385624113621, -0.02415636297387793, -0.06371572044192658, 0.3878450824510836, 0.03931769618097686, -0.2816053654544602, 0.243879313171358, 0.9789040151363255, 0.2669647429508196, 0.3800484338421279, 0.47032434602501627, 0.4075859173156936, 0.08955341596955625, 0.3539677371093626, -0.19230031915204154, -0.10236873013784713, -0.4403106691462001, 0.09238038696026042, -0.48857860337457987, 0.3465626430479027, 0.09397079682935951, 0.35845409552696195, 0.47360840600943743, -0.2064610750741693, 0.277389801599932, 0.4282837452266582, 0.33347420223988194, -0.13893942947864588, -0.5278546525509162, 0.04174634880083768, 0.028147446436730353, 0.25542581944384113, 0.3798118116611209, 0.25454813237368556, 0.1857647332207765, 0.7832081433821093, -0.18824921113679713, 0.17662932690306116, 0.10251282438926304, 0.22499795244822038, 0.3965261995063209, 0.2055276485662454, 0.12626311968792484, 0.15475548936709002, 0.2607689958292651, 0.04949113496124164, 0.3752003382937506, 0.008557901331490331, 0.3374883599908152, 0.35296128954262224, 0.40263389469609284, 0.047444193374621725, 0.6240956414969916, 0.47125729319035253, 0.42446945908038486, 0.2313572434183924, 0.2792814752703689, 0.4472871280690955, 0.3999033488855681, 0.19065744833919787, 0.1891131118599001, 0.19698436300991556, 0.2541083596144913, 0.20986497301153806, 0.7344903755356275, 0.9357120909836485, 0.2590523898515556, 0.4809889093327448, 1.3560894863165893, 0.36541142297406515, 0.6504837531955432, 0.4722728082511465, -0.02236090503062018, 0.5242980050139147, 0.585983521990364, 0.3412854796164141, 0.032026882015943545, -0.37586734001147754, -0.22992911733308666, 0.43815845113565244, 0.7671385328508077, 0.17929468987299113, 0.18000909244687843, -0.25139690440293644, 0.6194812869243516, 0.34432596168068036, 1.0408964779360654, 0.2012832753814015, -0.1627082725545735, 0.28112140737841684, 0.0014440293101724902, 0.3065140373496677, 0.1946867024613077, 0.2866460190689422, 0.5053432502095826, -0.02481674428560829, 0.35633128662475205, 0.12458133801675798, 0.527940578272704, -0.03907232883466601, 0.742122377512982, 1.0784820676773992, 0.29722024119021634, 0.5373010006840268, -0.06154714152609962, 0.5945751011266076, -0.24185951999806585, -0.18558526637980283, 0.42608360525967576, 0.15133414634454723, -0.24551914105724135, -0.3618476750563116, 0.3478329138048265, -0.022666422695515557, 0.3852596852122522, -0.18023256041869143, 0.5411408318216181, 0.17836565107234917, -0.12310435248258192, 0.620875676422744, -0.3538514576503698, 0.1360958889748614, 0.1207364094757194, -0.3046653637743375, 0.02708274649382273, 0.003935823705750392, -0.2753628113209339, -0.413567073646821, 0.057011777691631106, -0.3261493769604183, -0.10800829272743863, -0.17820701897714883, -0.0637233953402299, 0.6661410966452415, 0.19995968617534732, 0.3226701639672636, -0.18815035911602673, 0.007061055525290937, -0.3206966524475999, -0.09757738234061054, -0.17140051426856462, -0.03861783235341518, 0.27615509884972617, 0.3304371632296837, 0.9111615241716999, 0.6479871958838407, 0.6985653142807613, 0.44431317589872477, 0.35738354791869814, -0.3627966279410493, 0.4381366483861047, -0.014924599592632367, -0.1868909910321848, 0.16321128444988606, 0.3733302558895011, 0.06202673475044264, 0.8221163533892855, 0.3415318149701292, 0.057905825444315905, 0.07917566053036715, -0.06655966629095561, 0.3807557639015126, -0.3436493100890911, 0.3020123528196568, -0.04661651772491581, 0.295774207554926, -0.32325747907732155, -0.1502390810918054, 0.30271354906947356, -0.25235733755506856, 0.13664549173088905, 0.2923124386899485, 0.10697984215219002, 0.5247760586950145, 0.48587404405248, 0.1771760167436316, 0.13864376842616408, 0.28795710297916544, 0.317332075919003, 0.1576892175678769, 0.4079681347975179, 0.3471957058252939, 0.8644087438337473, -0.13210611869452657, 0.3565729504534086, 0.6703428744564784, 0.3161937567487204, 0.34434554192964906, 0.44487201236879886, 0.07444763276426539, 0.1917284477646461, 0.8214215091713817, 0.838272445852735, 0.4058128380204644, 0.4652279555718893, -0.17575050754037894, 0.9872610255343486, 0.4438830742859072, 0.35713782633551194, 0.2010117460329334, 0.2789879749277032, -0.1071554895826354, 0.6412393602813329, -0.2882768746714711, 0.07491582973295122, 0.44122230608416474, 0.27690180426105787, 0.4006102822194482, 0.7086146004802544, -0.2727912892912121, -0.0655382587442699, 0.3255544730956618, -0.35749256966425647, 0.28275122451555784, 0.1763549971109078, -0.255521858379261, 0.4483186813144757, 0.5581903289004296, -0.17600288030235173, -0.4089500296954458, -0.3348420987773569, 0.26593826483117894, 0.20094111127578462, 0.14769999615769486, -0.4197717977341502, -0.11810981010313963, 0.13074958822738472, -0.01907050151906752, -0.06260640503947584, -0.13935668493677, -0.30995254685291196, 0.5507297440172573, 0.20002948316870311, -0.23927222149464683, 0.33605981889151904, -0.38045277295372615, -0.05005398598545379, -0.4279147354262821, -0.20526252555485897, 0.37854445174963136, -0.5511397676810086, 0.13449713687789197, 0.39994782448835603, 0.6409583440525718, 0.25099174179677425, 0.00986512053236641, -0.27367239922757974, 0.12050698252022599, 0.049091192134554096, -0.352286794036959, 0.18754979976498284, 0.32960150456531545, 0.08793619440010268, -0.6740160303714866, -0.25504650319962396, -0.040493277608193726, -0.3449769871182859, 0.5541604566341239, -0.3295574181290205, -0.07579057537286737, -0.4090209532304088, -0.4898397979778053, 0.1491538891239417, -0.4823701367238189, 0.12590980889188785, 0.0873898377302354, 0.3656831642001282, -0.13328183308237643, -0.5089616797882555, -0.5395618600119533, -0.053493916522042065, 0.6098987544182493, -0.3928600017545743, -0.20448635592861902, -0.20904363154411057, -0.1519033318789578, -0.10561477615260607, 0.2239045802691446, 0.16435830655623235, 0.05852358777711417, -0.13541646239836083, -0.22254917303652533, 0.29154558591395585, -0.5029029733017377, -0.5175431097130355, -0.6650465443419771, -0.4873666747315152, 0.061124756570779225, 0.7896433845471378, -0.3065394813634376, 0.07229743477735799, 0.23472360610285498, -0.03560899415442882, 0.766844864279452, -0.3291085671048409, -0.4553233134589294, 0.7986899220052175, 0.20768507466703856, 0.2705545708179996, 0.1407272868905884, 0.08179767266749863, -0.45596202855721235, -0.0822328818720221, -0.019851557754103976, 0.14200985229406493, -0.5254316001832371, 0.5125963055000747, 0.04517160285139708, 0.03014075643417478, 0.1743064899196234, 0.2446133296446999, 0.22174439375847266, 0.7462699628965875, 0.3096818361698292, -0.47463034223652695, -0.10515896773129582, 0.4359380275886512, -0.40490321553083897, -0.03182930618142295, 0.07026609253793965, -0.2211858812758475, 0.045851537799397435, -0.014323394583532415, 0.007638171356279821, 0.08949332740199051, 0.09238643284746277, 0.1989017487740604, 0.007706587124315342, 0.046162288204918356, 0.5169007985774914, 0.3381726697521515, 0.4837707521269851, -0.09671585452856143, -0.2160550050702674, 0.02418152478208029, 0.041337092053103625, -0.03482637561955013, 0.4084990384702385, 0.4772471247183852, 0.04588351721687006, 0.29939720305252066, 0.2553349494077234, 0.31008017910564606, -0.22013151815867285, 0.31654958958500495, 0.37456536527543915, 0.2767948772929943, 0.9011549766644474, 0.009101871293611605, -0.18249341915506154, 0.621262359924776, 0.10782540435705881, 0.15319455799469342, 0.28579033946625243, 0.23558522192354212, 0.09214131020241939, 0.045081252990183306, 0.21518960212633503, 0.11941705380624956, 0.34445940524853247, -0.286889290074055, 0.24698738422243008, 0.11576430097480031, 0.3879099082591807, -0.02897155100823909, -0.24474953771372704, 0.8902190980913207, -0.05638522821051722, -0.05118668298823793, 0.2433356456285406, 0.29720223759036696, 1.1223014979773545, -0.1771361200195621, -0.3060399218614232, -0.053027521555755866, 0.16927616346023938, 0.0680335214493912, 0.2087028267621537, 1.1613462021120624, 0.4608140121770097, -0.0874978704798083, 0.5949783802146666, 0.6846188603467965, -0.09232077120472601, 0.30768840279340026, 0.4752278251211648, -0.09377709172920225, 0.002124517826314474, 0.2168110590164813, 0.20939744661823376, 0.319801203003405, 0.08028492073272014, 0.38302960625681737, -0.21946934771608329, 0.4773962094404511, 0.28584079746591595, 0.3076509349280503, 0.3289511695708024, 0.41396089498658906, 0.20804020729183104, 0.6363790494410044, 0.24814499879410531, 0.1298425612552934, 0.4163430950553759, 0.023082139494368478, 0.01316655421066015, 0.22584239379838542, 0.22568649707062427, 0.5322223230778593, 0.6227318554639899, 0.2228672669825631, 0.3366937737933118, 0.6978058106103109, 0.6198091634048096, 0.5374971457159009, 0.5697886467425015, 0.4813782511772794, 0.26456783202748396, 0.6067411866281842, 0.06096062212132472, 0.6327609206815604, 0.8056066116613843, 0.34607785673966124, 0.5564007139263282, 0.28758901901714684, 8.164492315353147e-06, 0.7688097895320335, 0.45397858031073435, 0.34545397620913343, 0.23176356713017535, -0.12397593835588198, 0.4747116182229835, 0.4416200218859452, 0.6536675532339696, 0.11121127171382438, 0.4816032782031924, 0.617095621410408, 0.06700703460357016, 0.25401126607458047, 0.577010650569986, 0.3313256754050895, 0.27774695552848827, 0.5684152310455045, 0.663019821319381, 0.5041528411464743, 0.5324820163114462, 0.28169655646220776, 0.14424894437611505, 0.041062689352874354, 0.5793064581224086, 0.314225204824216, 0.8527127172680592, 0.17767827148865709, 0.5476108282596611, 0.018439264310536004, 0.12384526039209785, 0.4656010493910329, 0.07723127721532953, 0.27359798971343197, 0.45014373957411136, 0.40340567986249465, 0.3840378909392227, 0.09493941944155654, 0.4202873591156981, 0.2605606606410911, 0.3438839032927545, 0.08555357967948315, 0.5022192932538075, 0.046735807935627864, 0.013061029368987743, 0.5227859591937983, 0.5187119793461957, 0.13903946042815496, 0.4170566547682581, -0.5048414955355707, -0.21700637976589268, 0.8511842917018837, 0.6111681360246285, 0.07051131356156959, 0.47197405285817373, 0.7175614010599833, 0.27533626401126443, 0.5558108052105244, -0.18897450027066853, 0.40504380575194526, 1.2343954249212905, 0.2871236212134319, 0.16859688313874768, 0.299878013162288, 0.5314002617045777, 1.2058648341394664, 0.821631521275386, -0.03302859890245596, 0.4330330590015595, 0.393246805669672, 0.353839480011315, 0.859088876391909, 0.36076195394254196, 0.409827167358475, 0.11498605971527005, 0.07526494113890565, 0.17656213615466232, 0.26449983483033007, -0.27684328135328623, -0.16981348907541324, -0.006392909042760147, -0.06535346302892335, 0.4668831793238376, 0.12408859244537501, 0.15898057815949848, 0.19163921802535144, 0.07610896841311761, -0.047721005210967685, 0.3162317474892499, -0.12039328524537507, -0.4254347861819802, 0.16793772593575984, -0.16205871454275364, -0.36181130396113004, -0.14403545441269797, -0.2283279941401596, 0.12437979535814676, -0.028587913536680176, -0.4914079350052155, 0.636225724314633, -0.18459635290780693, 0.010360235807011174, 0.10375638116520362, 0.015153759729662201, -0.26769541431788985, 0.47316333756106144, -0.32571750557577417, -0.4961188322230289, 0.033585630693272694, 0.4860380000751253, -0.33354591232404496, 1.1158439624491268, 0.34769095635355757, 0.4651823841370874, -0.3178777236211719, 0.1417299445051966, -0.3661822361641263, -0.4137604307946947, -0.17996498206362754, -0.14066772419659956, 0.1416285236967965, -0.03773631612808492, -0.07528554877340611, 0.19446716249075574, -0.1419406020160189, -0.17927495890773953, 0.12380700358532853, -0.43405539869152454, -0.3042746502943379, 0.7231770076431417, -0.09613379389457406, 0.43474704946502374, 0.3846306344624335, 0.33769573632211164, 0.5267913258784565, 0.18882512126551323, 0.8196892026831786, 0.34624008762819064, 0.25779616395712907, 0.8312488657431675, 0.3420669161776651, 0.3722893677652453, 0.31579973879698786, 0.024369690963884166, 0.4715702505100309, 0.3482246502183563, 0.6757920628179215, 0.11354171634257637, 0.24738304460867325, -0.2735743643641386, 0.3217743612345687, -0.08231870169599578, 0.05144625081378283, 0.4998223965974167, 0.054798175046337806, 0.022983492906999616, 0.22302100982265277, -0.10908580872716536, 0.4733865218478368, -0.02889988648944525, 0.7099185561335432, 0.3932155263113726, 0.5052567059623697, 0.08093854227139657, 0.5490482242321211, 0.2948384809134039, 0.12184103487667808, 0.21452917795213805, -0.05735008585402174, 0.16296333040914596, 0.11169854204666604, 1.1535199760558732, -0.060100321139181526, 0.43084612860989074, 0.3046272944264508, 0.2530432532046219, 0.26723766662028814, 0.03022394149671201, 0.16220008731029192, 0.5525949161799167, 0.1455164223071794, 0.21416618611744098, 0.3785996396284665, -0.5440159351167105, -0.016499085978173882, -0.3738192169656631, -0.018738578861780184, 0.3886253606147356, 0.8221060178531556, -0.11349602935874271, 0.5684691331789689, 0.1528952906336784, 0.7362435768823519, 0.16963473638715895, 0.11337401001322393, 0.5011805686406166, 0.34956865294825346, -0.009723671581938811, 0.3481403108319331, -0.1444498005793284, 0.44225178988016994, -0.2866986416229664, 0.6747873461954844, 0.09723035593210662, -0.0018195035580049657, -0.06219444704694775, 0.3421635691814051, -0.12809870841750617, 0.24753780470723755, -0.1838919665082513, 0.246484740376523, 0.11224320337168804, 0.19833635539606528, 0.14895054838905383, 0.42484795993551433, 0.262204149491272, -0.10084123826248893, 0.5252014879799162, 0.2887486468094338, 0.31645911647221775, 0.18646733498659826, 0.276325107020911, 0.4106694435329328, 0.333811640498307, 0.29584490134503766, -0.21951964032364288, 0.2830278535247954, 0.43652391102929505, 0.3813965194102403, 0.034532747791225914, 0.1216241532398478, 0.11847444834566855, 0.39935403036256967, 0.024607197436598265, 0.14498740196657123, -0.16863775648642637, 0.4315551480712852, -0.12443471088625817, 0.5874857751710915, -0.1506589731836518, 0.6655139600143712, -0.03353460429203282, -0.2439455565320778, 0.3360994537023033, -0.21203636823358119, -0.19759079867269946, 0.24017851900668633, 0.19995210854117687, 0.10110702660637948, 0.3776363404588286, 0.05963754326946057, -0.22293484722251392, 0.062137374121935394, 0.31614267067189933, -0.23272846792185972, 0.5879290694213316, 0.8040343710801587, 0.4866952629048175, -0.11355685495291169, -0.011053420160772605, 0.19049217433382912, -0.38747309797526386, 0.5789392106447634, 0.22444412397475827, 0.5624655510340361, 0.0004895144187705046, 0.09783924191233462, -0.36315033036500277, 0.3577566777465921, 0.21395241050983632, 0.3176689872250524, 0.6863664363121601, 0.1870709426387922, 0.715846095029138, 0.28349510581752213, 0.08696130178875872, 0.587644060526823, -0.15160959871955196, 0.2293790087547797, 0.10076543087696863, 0.15849502014131595, 0.519904550040493, 0.20581948626022661, -0.10797756898626219, 0.4420147542228026, 0.17681291925760845, -0.3030241278552331, 0.9086086096059128, -0.02348770297040765, -0.21115789630284174, 0.2317487477800435, 0.11853864631729233, 0.394748994756442, 0.1626460518631359, 0.001954447725888589, -0.16483433241254072, 0.3919175505340735, 0.13566127460383753, 0.16117997484879004, 0.9652950990551334, 0.647923960266312, 0.026773736882064306, 0.31731531902207516, 0.7724701364024502, 0.47045086642161676, 0.4452193054503465, 0.460491124639453, 0.5324424314217929, 0.37230347844951045, 0.256388254678437, -0.17596546476487335, 0.2694045202843441, 0.5368008891101518, 0.1391994532934934, 0.057882253374181195, 0.270488522312502, -0.1222892921502388, 0.37331893942850575, 0.5875448691006211, 0.08844900283142049, 1.0638406288177382, 0.04868126079711399, 0.5494370336339287, 0.37388736864602506, 0.7228396584569493, -0.22347545177878572, 0.036943342872470836, 0.32639985822677203, 0.32905510411005756, 0.4697000012892688, 0.3622352652881815, 0.21775733811180048, 0.15161402325727524, 0.2566539541868783, 0.15209760067013595, -0.05607150824139528, 0.4865638066670093, 0.3900202426317351, 0.029840477362283617, -0.7670345064108984, 0.4285022999872619, -0.09758632561526265, -0.837473906561222, -0.8915082458094629, -0.30208316069528957, -0.5898363529313254, -0.2867977865709754, -0.39391907954203004, 0.4070101140192891, 0.5909261849580766, 0.33175989105742887, 0.674551200670848, 0.05727481639508484, -0.027539660723831457, 1.0273687167130734, 0.03798721530259574, -0.21416023818664154, 0.7684520841823841, 0.47735951934341375, -0.34027444531880074, 0.9265239270449146, 0.0588034978641708, 0.9196381281687754, 0.41079867349912463, -0.13270767691865973, 0.5167922030309366, 0.2097956724549474, 0.969974819633855, 0.11502582628517978, 0.44212644727807715, 0.7983829955525275, 0.7723921405906533, -0.4055301790911468, 0.2470310704516884, 0.0191019324110638, -0.129604372185707, 0.08099360836476846, 0.36682289817944497, 0.21828709662880993, 0.2611414930323115, -0.13883667430764585, 0.17715217523420154, 0.5617329568007755, -0.014386085168790612, 0.013474510209494141, 0.0002445873468881979, -0.2115090352153363, 0.08119940119330869, 0.3896153122581423, 0.6601003643136661, 0.3667184320652577, 0.5707751975494182, 0.3387648930780453, 0.2580316975336936, 0.48743488558482, -0.20531719783998414, -0.2383517919048562, 0.08070725837138953, 0.6985130638977832, -0.05839427442899489, 0.06228744812623666, -0.4084672451219451, 0.27245577223446454, 0.19279448751707234, -0.2409509900392269, 0.13070036437644247, 0.16134409478999082, -0.055072950591871415, -0.013807622430739425, 0.2175249059993956, 0.2598681631507473, 0.31704639545291263, 0.36066790314351965, 0.49598419500688307, -0.12540060184227797, 0.46681947953228203, 0.23279694068991258, -0.22046428593262518, 0.4062601674384006, -0.3860569584997665, -0.030180790604919742, 0.47133327316050716, -0.277580910483929, 0.4425447859541973, 0.5165845937171498, 0.3414869771376629, -0.12284829039906896, 0.781043756949491, -0.32443965731981284, 0.23736423213493846, 0.04835345277013903, 0.177051603696735, -0.3607921546778002, 0.401251576177332, -0.08292366601408412, -0.08045716461713247, 0.902420427375284, -0.011523406408691473, -0.3698620101757669, -0.27361461961790945, 0.08030867003637737, -0.0972954323094817, -0.22197908716768397, 0.5076556359248303, 0.4249993767940267, -0.12241421978502236, 0.5300934790326245, 0.03851006643009147, -0.2188389803914316, 0.11962750106924595, 0.07459088645129838, -0.1597265416023429, 0.11398240830231604, -0.10553542228959488, 0.26006549286354813, -0.06479636763708198, 0.23913253746015894, -0.08609920448898499, -0.06635490794417659, -0.07903474809888632, -0.07482592603204878, 0.11084074692277762, -0.2011231735327263, 0.3155418745380009, 0.47668867104658486, -0.08560462313958589, 0.28533880903447306, 0.35492933182784514, 0.22841881795336916, 0.24836380725606613, 0.21491221130607566, 0.1632972939034919, 0.1724166157117857, -0.3220518577266312, 0.053458749691723616, 0.08902043119472397, 0.04848929151777666, 0.21015754029696326, -0.14429175469353397, 0.14129026666934794, 0.03897689997220502, 0.5345525180838997, 0.71149803747052, -0.14530179715066757, -0.1603531566353502, 0.10182142182236155, -0.11007393789727195, 0.05516626618638406, 0.2926134861920832, -0.016432864540770878, -0.16445405686144898, 0.17357023128869, 0.22561784205138538, 0.42125310538876687, 0.6276142259751989, 0.0032821210957457666, -0.5440498210102939, -0.8292912420319402, 0.1978976158430654, -0.414755830538992, -0.1611399305968186, 0.17023682283708189, 0.523182709708672, 0.3041121218291733, -0.29054621522378943, 0.578642365295173, 0.34872489060002515, -0.34751758855762205, -0.24061444461937212, -0.11113957631755594, -0.14335930842789393, 0.03848842647373448, 0.36617911614233084, 0.0848362172958352, 0.13246768602852688, 0.1800324006779555, -0.27084654911702855, 0.24355294726439355, 0.11866682161617266, 0.47308889886315175, -0.07595469600072116, -0.03211501426859659, 0.06391057555005618, -0.1437349799554084, 0.6819356706301036, 0.7041544301109517, -0.2507946640218279, 0.6986273816154168, -0.7820891463032816, 0.22919303463671445, 0.48669430405028247, -0.04855363051281735, 0.10242802394698729, 0.11048207961996737, 0.12090194069323418, -0.14821065882541404, -0.10353304126363141, -0.1448747854370602, -0.39919430254046606, -0.5071531093571662, -0.16097023489223788, -0.6912641453917694, -0.09864634927178575, -0.23531753353428864, -0.437010471678764, -0.09193494537468175, -0.7738206319415749, -0.9297213273989947, 0.13491808207162873, -0.013600786272514279, 0.03659434264116361, -0.5961051587158289, -0.22832457425292157, -0.0066382518507208605, -0.38746865408622416, 0.00781274147499734, -0.06729216408431231, -0.5453519033778494, -0.08292788113522302, -0.21162017394711727, -0.29788269499591546, -0.40803205655882646, -0.08116763073465234, -0.8882149942897141, -0.5707999093009416, 0.2552432082940199, -0.09067204395377663, 0.33347343508504035, -0.39392906525536864, 0.3946356378252641, -0.008041120487835894, 0.307304986824143, 0.002875617533984335, -0.31637910825416765, 0.4066428693827748, -0.04657958202497898, 0.23054948941707942, -0.3445333713383326, -0.3556135033945973, -0.3291836010011339, -0.31244558270959577, -0.4568235334138962, 0.4255858756027721, -0.30646133395831654, 0.317256636641859, -0.5036398874955249, -0.6199602411237024, -0.10502227694286781, 0.17233586445219715, -0.09800072261100806, 0.06323834334227699, -0.27033448647407593, -0.11196963348054877, -0.2964589645838476, -0.18919422157820182, -0.48395520656340935, -0.12546540977610512, -0.5079028092936417, -0.42368920051995035, -0.3664437104386417, -0.6260644406190078, -0.6052598016074736, -0.38120726200160854, -0.003190466903027621, 0.05415140224123789, -0.07311872617179606, -0.5608132919144961, -0.42525519749174506, -0.7911670684798053, -0.30413573250901565, -0.16839307829737762, -0.6325968076667365, -0.07179171122328834, -0.5195516973319807, -0.3748335453052095, 0.41167930285864013, -0.5273433823770731, -0.4516896083047827, -0.15461717929085012, -0.06652473664291553, 0.12773508253460317, 0.10222922821524728, -0.48694399660995824, -0.23512430334096912, 0.019340510871845948, 0.005959343694143561, -0.30708156375934503, 0.4229942190783763, -0.3088369957584738, -0.3646715389226431, -0.04971770113612766, -0.35118631762838287, -0.0847555682197965, -0.7471294048951312, -0.3258396404303573, -0.3610569981113648, -0.7407486801673403, -0.1606162829420844, -0.5512289874431406, -0.2340503588912303, 0.05737444862305558, 0.060832923918885826, 0.10967349134966366, -0.6843172836662283, -0.36706765631186555, -0.0565176224439122, -0.6825781238997422, -0.05538890144198214, -0.43422586919529615, 0.2507027442669966, 0.02212403763160469, -0.6510060663002438, 0.07253117145932807, 0.32786769320793085, -0.5137865020553944, -0.017669249990324796, -0.09099561452473702, 0.9462375550060853, 0.10463635558642034, 0.3088725289915231, -0.17370721066096526, -0.24376955650317472, -0.12375999405224972, 0.000619754353339081, 0.35138130446859916, -0.1340084479244563, -0.12466713575313053, 0.2957170505900727, 0.05630343953141275, 0.17864417006991004, 0.04252617075240206, -0.04942821885058171, 0.12244049161971152, -0.08322873372337747, 0.05172861191657974, 0.10560965280877443, -0.008326102986835584, 0.007303457599261594, 0.19969705404117116, 0.005727285441893063, 0.0831069285253381, -0.2518894766716946, 0.012582014807402835, -0.08848942969663226, -0.07122477155142046, -0.20569486685340407, 0.12493370461973996, 0.07393067993642069, -0.1031965359481893, 0.10008137843934103, -0.13217955020231414, -0.050602726687941295, 0.3543263235786865, -0.6191527063461577, -0.25739349553106344, -0.16486038410461842, -0.2680864196282941, 0.10114468461971252, 0.17146888206457586, -0.05349113821777863, 0.4181642681570788, 0.058362425775185356, 0.14031444459695522, -0.05173049447015487, -0.20479039271920393, 0.39443659991358687, -0.15057728580544413, -0.30706094302034415, 0.3051433342621233, 0.2285898432659211, 0.3890983424640682, -0.12071729093802483, 0.06942698965805587, 0.6569339696853743, 0.7120999211875833, 0.04799341634811241, 0.12231261625361345, 0.13406950051898506, 0.2884377675291992, 0.23977622800627157, 0.11848903122328634, -0.030782318251146388, 0.8209383514125819, 0.1934207771924711, 0.5132634305009877, -0.2694623447391859, 0.6148324130490103, 0.6590892561288846, 0.6086013294251261, 1.1756107232023232, 0.7514687037457017, 0.3734339956830752, 0.600325198173828, 0.12466223810245491, 0.25392692011486817, 0.6198823375379079, 0.7816732295523375, -0.10713575757126519, 0.6287633148435543, 0.8092330518021327, 0.5632911263001751, -0.2007022920776649, 0.44681665645455854, 0.754881119266747, 0.5630857681895369, 0.4866023431275464, 0.7159874566722811, -0.2998911009602081, 0.03327765491976819, 0.6383644320824954, 0.3578266339914508, 0.03420343043450621, 0.1008239051748572, 0.4184081101758352, 0.17367579747565157, 0.06249490939762413, -0.10725419027774104, 0.38857395291380453, 0.49072918385368625, -0.14731676718504258, 0.1971805259174459, 0.029224905173607638, 0.027192388695062828, -0.31997605673968416, -0.6183604922117829, -0.029760953762213018, -0.18963157839623404, -0.2048052962894807, -0.765987248181047, -0.13745396299685686, -0.5042904159560099, -0.006795580337944052, 0.07472417255713294, 0.39913915859395904, -0.44691225941514445, -0.5714728241140244, 0.12777542140226633, 0.09643373707747199, -0.053087053025493894, -0.7482887213555539, -0.4301003071593696, -0.6518290336366638, -0.5210098011391525, 0.15879139286573907, 0.07132087038573373, 0.2856288167860145, 0.08590067282119804, 0.26516972494811786, -0.8275794734688431, -0.4497400425442431, -1.004994864991517, -0.8757194911093984, -0.05177915306859956, 0.12637929113167587, 0.210192606484226, -0.3477463854035877, -0.4769937665627788, -0.025445691083238017, -0.6073288471756976, 0.457617373406857, 0.9639105529254958, 0.3111973629791073, 0.1569400410147757, -0.10331241966704342, -0.5665992454279817, -0.061182498263023674, 0.14326863367060716, 0.15491493150948962, 0.5566444699331399, -0.1009013634552, -0.08014134583378645, 0.8037852807460308, -0.20417186920909067, 0.289859703443133, 0.2650798211523112, 0.21971745444576601, 0.3854466782341316, 0.07941225618951812, 0.4390153023513034, 0.06628750240154978, 0.12746086607461268, -0.036187099946796246, 0.6184295626261619, -0.02305509782594735, 0.12965201154982126, 0.970597380241391, -0.17183913583830285, 0.2914523839832769, 0.32605204105499686, -0.10581649892721727, 0.24426108147567438, 0.6058728976865843, -1.0089356508959142, 0.2037818333373848, -0.0035244699784022417, -0.08538137973728373, 0.0829955912238066, -0.16082879702280506, -0.20186562495040244, 0.0036241878652198923, 0.5626701775107199, 0.3131416113311182, -0.12083073335185655, 0.30896233837362147, 0.28805835408005864, -0.4763945762239036, 0.0937759658524809, -0.27797208228397685, 0.2974356921868831, 0.9000251959782078, 0.07065994709829128, -0.03788192960288967, 0.5154463148448376, 0.1456477486495474, -0.2625337482285623, 0.17613823347003355, -0.011260416350719159, -0.28131696061181294, -0.35121844795235946, 0.11932876686186115, 0.025830118013311757, 0.4109187098634128, -0.1589913532681215, -0.07309426880540937, 0.18962498362772084, 0.2838847601526042, 0.21997670324849813, 0.07597658909999866, 0.09012387473209069, 0.07924112523974566, 0.1283438719603925, 0.026200856514274052, -0.5151866727226193, 0.3720744870607211, 1.5683566218415983, 0.22660795987204685, -0.10138996449646565, 0.1549382396251219, 0.2450197713008453, -0.32046280673097277, 0.0842272854562139, 0.39086166344597706, 0.21600086701530716, -0.1888106310295759, -0.34057765269982876, 0.23600100019571507, 0.028424939667387274, -0.07706649399421156, 0.05628611387696139, -0.2778604516494942, 0.04683191478986246, 0.42175213731646766, -0.22737427985346326, -0.23254251223068426, -0.2522415643334668, 0.027521328913264344, 0.522750803679192, -0.2089424556486464, -0.04226620494957601, -0.005864428238943408, -0.06412602466063734, 0.07380733015928488, -0.4290730059310529, 0.062212681898331325, 0.11208351387176554, 0.8837057882686407, 0.40898387655644164, 0.7115174327957715, 0.2896399608016342, -0.17106404192412555, 0.02184204963594765, 0.6470841496971579, 0.8255848762129381, 0.6148392500355124, 0.24054728481289142, 0.2292077211029758, 0.7060346506136487, 0.7448107041437179, 0.4347688039024268, 0.2856860524388001, 0.6098999752634052, 0.1617144899367352, 0.37908620395768683, 0.2185640587216382, -0.4629854504959174, -0.2496726365798532, 0.23172556081535653, 1.1174573882390295, 0.6774275365459898, 0.14617639030959173, 0.3745748255238413, 0.45566974219501083, 0.0939132507189117, 0.19672449562206362, 0.14274371036431246, -0.10303544333782401, -0.2621863492077242, 0.21018590319899916, 0.14921250302517913, 0.5799558639599633, 1.2311635665976808, 0.7071397534745557, -0.039527573478048215, 0.13748805060595531, 0.050820593479793785, 0.7914676698019633, 0.34410625756691343, 0.48405878928118035, 0.582685563946995, -0.17257388274738716, 0.6058233826527628, -0.09117153711073021, 0.21472902940350772, -0.020253689489313036, 0.8368447277995469, 0.04115824321741393, 0.07100223914225791, 0.4366910738459975, -0.11300016941787373, 0.36063607111512297, -0.15666884058183922, 0.2772620971242362, -0.4919834120894594, 0.2632159718728209, 0.12987499617380588, -0.14007797869782562, -0.28123990368002705, 0.2953977399890303, -0.33051658093785813, -0.22052494841825693, -0.3478414317880033, 0.3662337192995235, -0.05412480637056011, -0.4502993255342749, -0.1068504836345898, -0.30311654439729663, -0.1790919178882927, 0.05804280469831067, -0.4109889519235417, 0.054664059470417324, -0.5202734090479643, 0.18639223170058483, -0.40989884741922866, 0.6850106101480546, 0.12760105861267676, -0.3779743519036093, 0.16047728155238505, -0.28144782154557213, -0.306633780948819, 0.3722406941097866, -0.1752946155502152, 0.1069535523285996, -0.02312305977918064, -0.2563044895264118, 0.07082391056205241, 0.13848952146164425, -0.09009417273660887, 0.1404210670848973, -0.14505731927767426, -0.19480997489795238, -0.055639255794143395, 0.24275876022167453, -0.296493698233406, 0.21859164825511207, 0.022111546190881015, 0.5563942913220435, -0.001325081927054559, -0.6373695906072199, -0.11131342911697394, 0.17857042183295488, -0.13099799590647793, 0.1354948773433614, -0.2655805981347995, 0.23954291995094132, 0.7023706003879531, -0.12686788524499848, -0.5142233316070449, 0.3290451720826461, -0.2431321959733017, 0.43741422321284246, -0.458505190104185, 0.25218501450647, 0.04534060044420823, 0.0520456351648583, -0.4592849157394123, 0.32274204632299824, 0.023772729065809652, -0.09216336444357937, 0.2196606966921699, -0.08536555304811023, 0.009392222184528847, 0.7902667832043082, 0.0040456311882571434, 0.19728715333549335, 0.3554203558366329, -0.41486680602665366, 0.005146816066144793, -0.3404669560898086, -0.14481098410868928, 0.07091592303411777, 0.1249162275929622, -0.15836102527117407, 0.07236547982203877, 0.19192742378192187, 0.17903861308370958, -0.09623806163416652, 0.2353649988280531, 0.2054290935785986, 0.07748741597053466, 0.3073105028377473, -0.18352177593079175, -0.21453896901526434, 0.3874508885705951, 0.1953354624294438, -0.39701586133687317, -0.4001587888302946, -0.3674119474744188, -0.2213229097647067, 0.09253351463364452, 0.015039893756571665, -0.143009339297508, -0.12401895008680523, -0.16422339385603255, 0.4703880867401004, 0.508436780444803, 0.2151004354139131, 0.32064246885442893, 0.3240129687559587, 0.08462223465293393, 0.00829730063885782, -0.16341215189843158, 0.052767779333629236, -0.2607235997150714, -0.05918708164311321, 0.1740812304683607, 0.23380674746567415, 0.022054790246918025, -0.18997602282558865, 0.6121096018169843, -0.03983268327328997, 0.08736373991226215, -0.3384578584668439, -0.011123204983769208, 0.5204391446294606, -0.07859433715050246, -0.11231447824520373, -0.11935830812274831, 0.11857467705018984, 0.47725463455943823, 0.12819008518311648, 0.3169009055048605, 0.28492562883662687, 0.05703807147396457, -0.18255304715691092, -0.19756347075435313, -0.12263360671703392, 0.4825675334137497, 0.49815763601977064, 0.2877327192640247, 0.4625669128535879, -0.34866750806800334, 0.13127404583205662, 0.881108978727632, 0.007444867452128846, 0.21126845801260208, 0.4526247929568436, -0.04248319589752629, 0.18132886511727542, -0.24872553477010492, -0.3650535525398413, 0.5101768893118238, -0.023698098890270025, 0.1553821190607386, 0.4602575371170178, 0.11828502469419759, -0.1585382677263769, -0.3150351787194094, 0.15361281567086507, -0.3082348421110738, -0.4843933973416878, -0.214994818296905, 0.25744313562826254, 0.9896145348828722, 0.2910320804938931, -0.13143595539334996, -0.46773880962410697, -0.05682887525379254, 0.10133017641457572, 0.3371382204189258, 0.15473895483559502, -0.12868525769620756, -0.2133481557020942, -0.47439268196591544, 0.15485760044535862, -0.16230729116913353, 0.36663157469650987, -0.03052989605644414, 0.4626049157365012, 0.04080154684442299, 0.06096621524629601, -0.3329281020193321, -0.2489225503834552, -0.3854147912723187, -0.11043923937030975, 0.37640429981964135, 0.4893200997087796, -0.35200675867328457, -0.3565504916000823, 0.3137820034522837, 0.18679263976608218, 0.07769839938104414, -0.33190978348367906, 0.4835011593962174, 0.3380979230422843, 0.005207877459588532, 0.4956840578624811, -0.12432890494939385, 0.26425443107166685, 0.5657368314267683, 0.5661486366786718, 0.5531296187500867, 0.6614698815769098, 0.40001018609313, 0.22471554239933084, 0.0656965478434262, 0.30648697632952565, 0.017951126635217286, 0.5080570334922904, 0.7502439718265214, 0.11915788837637359, 0.0025576177789639436, -0.0569402640271227, 0.042219482111724736, 0.022096950397336227, 0.25396826163976793, 0.5506959420948879, 1.0659676142449264, 0.5059659398404637, 0.22524117472072266, 0.224626525258924, 0.000468619352844255, 0.7570144862921215, 0.8648926258104358, 0.42035457321768177, 0.0286040608369648, 0.7511073361914512, 0.2691605510166174, 0.3657605066485123, 0.23457566904279523, 1.0877620626423978, 0.9705760059824055, -0.04494689160013885, 0.14837480884376292, 0.24487563426522035, 1.0511313743145334, 0.4275427672822372, 0.9663818149532789, 0.3302473979638895, 0.543896004435154, 0.2211206125832495, 0.25317088777486724, 0.5285828747354472, 0.15712114652470113, 0.35486945313759055, 0.937192677972216, 0.546701618823567, 0.5722667318316181, -0.12896181967142745, 0.13103750284176993, 0.4177508698391805, 0.025851286778689017, 0.35773189994395216, 0.2792373869328369, 0.02179085187161838, 0.8097207796363165, 0.08265851248987727, 0.5305527394640549, 0.15314602406594932, 0.07452734271928603, 0.4487030703468874, 0.11441445920372102, 0.0578764941815274, 0.34107357515090136, 0.10955236932308453, 0.48258823276699353, 0.3301501680927674, 0.9169916910745445, 0.2950784751833695, 1.1124398445516066, 0.5655253143687025, 0.24544922676108524, 0.4162780167710211, 0.4891406536427886, 0.14152873942286942, 0.027304210357305257, 0.29799011977922907, 0.20377327431266282, -0.0620999238303397, -0.06302969088918926, -0.11304388605524576, 0.6541364356394448, 0.5995815516588152, 0.12649044202170145, 0.2650446288139075, 0.6273469744031598, 0.5411630824376255, 0.25488020047719456, 0.13428732950946073, 0.6345313121120518, -0.061020816979677796, -0.17466551224616567, 0.5643972860967347, -0.206078006735104, 0.5536528772671517, 0.5745145285459617, -0.3854230568927027, 0.29684677932780934, -0.08052451300990664, 0.29643021444802653, -0.08489425181738273, 0.008518073369342398, 0.5371681235740406, 0.19458741790847003, 0.33406634907592103, 0.6536112994523421, -0.26711210554446096, 0.4767532141139307, 0.776523033592752, 0.13412816063835448, 0.6113681876525091, 0.7000180346967432, 0.41084184238774024, 0.32067262395266255, 0.3736025848239834, 0.22120354183080979, 0.5449225639535761, 0.18081520676252244, 0.3502601871093472, 0.4923298307397349, 1.128851165664916, 0.6601175282774967, -0.04366956638615645, 0.5340611429891844, -0.03099352108502945, 0.41224856418766026, 0.22856263899832754, 0.5201578362864906, 0.4509467975682146, 0.44845266051641225, 0.8528092519684117, -0.004712933787199094, 0.2743416393725647, 0.3680864892505128, 0.4153592748121843, 0.38283724798266694, 0.07103336015170027, 0.501044409324238, 0.6825503899150202, 1.0209215695893321, 0.4618713803268078, 0.3006397926239516, -0.18163681904813714, 0.20878019451212584, 0.31686588869772964, 0.09207124813798839, 0.5270493241668514, -0.022297821384502304, 0.6710121138615028, 0.5424433146113837, 0.741344758459781, 0.4089994598992041, 0.24463555985130334, 1.5341516451169894, 0.24073556167086585, 0.21535429837910194, -0.05027489868373003, 0.36051044450729636, 1.039688636852902, 1.004814823684544, 0.690202143666762, 0.030560566067499656, 0.6875734695078888, 0.9970242207052395, 0.5265523536672573, 0.26041846066137053, 0.058516480394487286, 0.10505334860554993, 0.13991878048916634, 0.39534670767086166, 0.6798824777938929, 0.38028348169642023, 0.6371262889987243, 0.9452031749561534, 0.006303386449145756, 0.2857416939168213, 0.3720208273607148, 0.6930430178219608, 0.882504491472996, 0.5826697779457565, 0.7534730390615346, -0.055392193466571905, 0.675766450170917, 0.38858293673926936, 0.20195460194000472, 0.6144805653267106, -0.0318767254167059, 0.47853704644447487, 0.7782041425061604, -0.08765343300140045, 0.49028466604163107, 0.2564735700296622, 0.3822764749051415, 0.6181489277965058, -0.28032279134165666, 0.01317394420167925, 0.34936477303529145, 0.023794232529670296, 0.2111993244143497, 0.7754593842078649, 0.7120748368844434, 0.4683005185360053, 0.9011935006833234, 1.2784881823684036, 0.6366031728865202, 0.19401607203085156, 0.1419523910306511, 0.3321586189434431, 0.41304311469672134, 0.04678783905941079, 0.6788712581856055, 0.26750008341785203, 0.05490822589199662, 0.06774457295657936, 0.07376894351276356, 0.8143467808444579, 0.5483371212503259, 0.27489028746729594, 0.5717750956008606, 0.7777971641680846, 0.5952683012310312, -0.041201600457549906, 0.5800588151613065, 0.5988928247129935, -0.16710864944733242, 0.41094851785635206, 0.16764631263488486, -0.229421988267553, 0.0029832620992985676, 0.35829582680770744, 0.07760502772940583, -0.07229343769543994, -0.02823071132820252, -0.02763695576533818, -0.17970477484417707, 0.29363954595476804, -0.30542677428028797, 0.13104339184035296, 0.26728037056063175, 0.1966933927441505, -0.033389799780227755, -0.10957354021645349, -0.017953073288879445, 0.1760915707984884, 0.5650451597207401, 0.48901955956644527, 0.008231145523334633, -0.43100633827050583, 0.5444462094139921, 0.08237023523249087, 0.32600154476788523, -0.21660541664690172, 0.3376253800776133, -0.5041115133391195, -0.27513707460406384, -0.11763675316092152, -0.09742067365582834, 0.06967017306728271, 0.201698323757191, -0.24850112788167877, -0.2633585084654217, -0.2586725294995347, -0.398186168602352, 0.130461385216069, -0.0037993649147896958, 0.16540674610031836, 0.13048224044390025, 0.27888757288128524, 0.018065395133027958, -0.3314616757449602, -0.06249797941373495, -0.007572358656265355, -0.501844460048754, -0.08579267142396459, 0.6136149216747552, 0.5037144410493238, -0.4085876928506034, 0.1676942324275582, -0.36175107860896466, 0.12764518124196111, 0.2627725760802995, -0.00952543417372463, 0.4326237942329949, 0.08464959669182537, -0.020824886438697083, 0.39305644052451555, 0.543102569518365, 0.1798069474503152, 0.5586978395029529, 0.19862876660301648, 0.14858164164482265, -0.1089474984052538, 0.0567552898572536, 0.048760093307050646, 0.3828929003288126, 0.36179454262254684, -0.3372465636252446, 0.26653112161989256, 0.3838729002266449, 0.10359402797516591, 0.1571703464946698, 0.5708232716071728, 0.17579621531858441, 0.03456719823363592, 0.03712646624510121, -0.4738652413973759, -0.21299187994649277, -0.02707654864230213, 0.8259460831261223, 0.15396034252595636, 0.1292073105237001, 0.3978510642143543, 0.14820384808502554, -0.028631148273515455, 0.025652470981895666, 0.5087207581426881, 0.41341198351548153, -0.15534930765505764, -0.7749475452945973, -0.313211610815925, -0.24197420382145307, 0.2229017328635167, -0.36255279199289403, -0.32771174694714145, 0.19137499127948865, 0.5680996697833165, 0.1104381282636801, -0.051900842532356065, -0.2264130544502614, -0.34256937900882006, -0.42015971316717254, -0.7604916522481746, -0.5750094975121901, 0.37978626530380705, 0.09197344409335571, -0.04780930667093622, 0.2836669202912003, 0.11731788233948905, -0.4705706599775682, 0.3344140704011325, 0.3904184750848148, 0.048919195740789, 0.13030403937603013, -0.6437341922840057, 0.8303837943423358, 0.36460381950861187, 0.10772069511364098, -0.6799750135654616, -0.7759462342587256, 0.48185105929487604, -0.552653360653446, -0.6909216560112736, -0.2604549097269745, -0.2350978568164857, -0.3179297916256238, -0.33428013565556414, -0.39098863584572674, -0.4281600404744199, -0.40852682296366866, -0.9393232547207339, -0.391934779935767, -0.2520457656105249, -0.9577521061599827, -1.1342275819921108, -0.31831067099942373, -0.028971378244073316, -0.7257732595610114, -0.3298709787501934, 0.15570110179851218, -0.2946057269297457, -0.683231496160279, -0.45660917772962906, -0.7446713842622884, -0.5116783013780907, 0.23540251923053807, -0.3367751478775873, -0.6261288018222574, -0.6021523948357391, -0.18125017299171994, -0.46509983769650076, -1.133705966040016, -0.23548974367646766, -0.014199082121743456, -0.5686570057224578, -0.518586159029396, 0.6946230567514263, 0.4926582200284038, 0.5885264763688802, 0.07793133951480534, 0.03167703778640565, 0.33066333757684996, 0.44848846471659254, 0.10483190425412336, 0.4009180376036463, 0.20224662906906532, 0.5466479226357259, 0.28340886279972094, 0.12321254193354839, 0.04294353413860012, 0.008909986914890306, 0.02038828303490386, 0.35668404435858037, -0.0673444724831023, 0.16373633846266392, 0.12687931615448234, -0.365202346240144, 0.4049800482574358, -0.2836272051425407, 0.8475299367216325, -0.09504965283256639, 0.29651999870102647, 0.2593788870292598, 0.9172156597295295, 0.4142269774628701, 0.1372621459082041, 0.15648929293495945, -0.05576839778242318, 0.22650281745384454, 0.2242544161802548, 0.2634217983886126, 0.49283456754579996, 0.17338000010565457, 0.3697969763920757, 0.1247908883469333, 0.33095593477741203, 0.1042571832923318, 0.23183807900189768, 0.28982845047845707, 0.2678284443782058, 0.35626549254439693, -0.0134197839840631, 0.11136361768815166, 0.14092135820240012, 0.2634739207108508, 0.519310048570757, 0.613753194217829, -0.4367188298469376, -0.17981676162787363, -0.010579639017455292, -0.4501149094955655, 0.6445289214160466, -0.19464218583885928, 1.22132690242308, 0.20919651101726544, 0.19576325316611085, -0.1459863789154043, 0.2820907300845811, 0.012361490797991495, -0.18612443619113078, 0.33059141476842085, 0.6367042719906392, 0.23943428529380562, 0.1772524203653925, 0.48495380580175673, 0.5864222525969714, 0.3433839145682139, 0.12810819104390558, -0.34227930287133285, -0.04977078614038863, 0.11324100381149119, 0.05902001062015682, 0.044260108099903, -0.13684663571750275, -0.048446566824123564, 0.5435531258786546, -0.08573783376246986, 0.05625234791159732, 0.18280653676181816, 0.7759907934341921, 0.32836192091859867, 0.25393198502258446, 0.17669091611351542, 0.11548240549092822, 0.3637171289548449, 0.25193358734682725, -0.09185542197257454, 0.33587514883955627, 0.4087508099522993, 0.16877273563143752, 0.06412537355571889, 0.33886641307770576, -0.3454389875553286, 1.245094322843862, 0.33402359856962244, 0.6082290673554731, 0.322411336580735, 1.087695641507982, 0.7525190621411179, 0.4649565212952163, 0.2923057156320363, 0.050400413929608145, 0.26105752789285686, 0.33110695917616445, 0.31603809724074194, 0.3150091786931275, 0.3473831152709508, 0.2698875559234444, 0.7310703097243918, 0.1483744621975383, 0.3544421930904002, 0.6885567671195096, 0.3894340629777058, 0.010618733568503482, 0.19214106534128142, -0.07620856690109552, 0.35479961648025643, -0.051408583973226944, 0.28959740388957295, 0.58370831251044, 0.3957656635836914, 0.08105740694013076, 0.6561225965464611, 0.8609491595237769, 0.5004105863500234, -0.10985363464638033, 0.08024320913538717, 0.2984642306676481, 0.2660399432389914, 0.9423929557189298, 0.20312823349198394, 0.5031527726460425, 0.3998647303234303, 1.0824050495214652, -0.0007298704449947985, 0.005979278700343762, 0.31009641834325713, 0.36060333117704596, 0.244727442305809, 0.7367573102618574, 0.09566752532491267, 0.6899965110471198, 1.0480936512012686, 0.6559063391943126, 0.9834646630524031, 0.8550621333799375, 0.025183472288256747, 0.17447053096040616, 0.35926545691946893, 0.7386620833313721, 0.6245627732138387, 0.45976125340922924, 0.25074524649936336, 0.23457602152761578, 0.1779139703589704, 0.200389867327054, 0.2482059195993487, 0.10498291052752262, 0.7043718372426121, 0.05960017293993023, -0.3030093637226599, -0.13788901302963968, 0.10045270916509146, -0.05382739105561591, -0.616218146054486, -0.49485189418550035, -0.34671745959266276, -0.3063833837403711, -0.3690243332278127, -0.24533818751043723, 0.10893177120228542, 0.03518763265468102, 0.13821254425861115, -0.5569380383610328, 0.0788503644949349, -0.5574461979184138, -0.27401773222278886, -0.050157679130684536, -0.12212829061053006, -0.04481729589366594, 0.22112568687877168, -0.08494370650034039, -0.39362629391621534, -0.2357312856122338, 0.16031437767592402, -0.4585075829547031, -0.4599474598937566, -0.31057692651322655, -0.4279241349139997, 0.22004643703417343, -0.01667408317216855, 0.41829489082501736, -0.24010159726485006, -0.0439267031494854, -0.18580131851237433, -0.30195264238430325, 0.26338229191347945, -0.0390543670873814, -0.5969903764096797, 0.751385984717268, 0.689481196005637, -0.06766654278619809, 0.03623578974528362, 0.3594281584970625, -0.25602370495404475, -0.19382736836817957, 0.29737593017735264, 0.4779639069140343, -0.03399194283689468, -0.026302944619112652, -0.527856935523471, 0.3370957123492277, 0.4370178107201712, 0.4195702675825209, 0.15095507953074064, -0.11073833257944415, 0.35120711299758234, 0.0713000773873268, 0.22064672094158433, 0.5078958416153286, -0.06755724663665078, 0.22601587494970413, 0.22167444842740455, 0.32660679008459037, 0.23925511899404087, 0.42067431340542083, -0.0221534488195623, 0.12834155629823654, 0.1626564356559468, -0.1341571690180289, 0.5992953077047012, 0.16436313797914018, 0.38365762354564137, 0.09466028489853943, -0.2480175955412974, 0.304793062361869, 0.3325592515275706, 0.6144111755758175, 0.059401059227306874, 0.5861250187192335, -0.08559808033172643, 0.393129507573793, 0.17010502933024466, 0.5819272470957104, -0.2249675801979511, -0.13372677799706828, -0.09331809953192088, 0.5518489602262877, -0.311867671776182, 0.46661355841005964, 0.1443594670723204, -0.415420545195399, -0.26726998858052836, 0.09575723307899794, -0.16332556323810257, -0.21256282171087373, 0.2474779260636783, 0.16434423853830402, -0.2295019762444558, 0.4278436512837787, -0.5602398504070704, -0.08089776348088942, 0.5814290557987083, 0.5771082750576075, 0.10004497401669671, -0.007267995960910731, 0.632704931587117, 0.5297898737239055, 0.36612197341643427, 0.6428411215913986, 0.0105517190353251, -0.3153551982747097, 0.07149572385099988, -0.04249160244961583, 0.2407157329547112, -0.03590017620885736, 0.060384512794581395, 0.041397081398632136, 0.28423873815266754, 0.4469828435382897, 0.07902319560764838, -0.34689490656797556, 0.0777907314402419, -0.0003436600988065101, -0.3361122952540023, -0.6698635668562075, 0.12202740117471848, -0.05007646326679608, 0.030589921794672043, -0.29144062322230535, 0.3215178292876632], \"z\": [-0.6244585021374507, -0.8110533466796912, -0.6379083810545877, -0.429852943453659, -0.33124809544195344, -0.05224045678712835, -0.5597278381682532, -0.42721082656970305, -0.3302391791505334, -0.21478830343916167, -0.6124173572644893, -0.4736746951048788, -0.47996559450179205, -0.3657877945325947, -0.4015264313654139, -0.6010301426372329, -0.5490125474027879, -0.5513517833411847, -0.3022043263076709, -0.46940870271698004, -0.3544128225715259, -0.17811490554611537, -0.36436035315617166, -0.4671566177050017, -0.6919688865501924, -0.7801964597569695, -0.5428307812457587, -0.4785725987368737, -0.5704401818884819, -0.4034419345206922, -0.3091048388628479, -0.14337615650006558, -0.5838815058158959, -0.624330154025029, -0.41308133373608086, -0.01957404408635997, -0.3676088161061995, -0.6085367570436234, -0.6387069544070288, -0.3326944689271521, -0.477960485747876, -0.6129996652605081, -0.6229488728231647, -0.41063075178133174, -0.3188954161156667, -0.42714822355939935, -0.5229406464365456, -0.4249387218043921, -0.27878304478428295, -0.49994986760802446, -0.1931385363032248, -0.5951722925730385, -0.26917580453541595, -0.08536006119778156, -0.4138459108019393, -0.6143945776418416, -0.5524682856239567, -0.6208599617183702, -0.14022461101744138, -0.6052909613598468, -0.3605538700277766, -0.6431344965314967, -0.6102183932398068, -0.4745972239157551, -0.6723366839392719, -0.6018430106114393, -0.34459546749197945, -0.534757461567148, -0.4360401253296303, -0.2365052448695439, -0.3025588758667624, -0.5313865363593919, -0.35048269148104827, -0.42169687331455324, -0.5247212028214933, -0.3988322007125024, -0.2621515531311591, -0.16726371376713564, -0.5208036809846366, -0.5598678040906022, -0.7896954607301963, -0.6665104105488886, -0.37496583829023367, -0.433526999604331, -0.29257411989694804, -0.4119163232878895, -0.4599488111778648, -0.2702857612153307, -0.47817201638937634, -0.41689493162735913, -0.2063041711172854, -0.6530973301920491, -0.4711249931739404, -0.42979150033539637, -0.5311833366061552, -0.49948654297278694, -0.5981540773981991, -0.4435818486167736, -0.6120334526384175, -0.6642813415282669, -0.47584858040043376, -0.6802101411381025, -0.3611983440639851, -0.40747865668621724, -0.5961049783093552, -0.49958940810301655, -0.46049618294272093, -0.6036553825934987, -0.6594748042787096, -0.1869473681170226, -0.29112776218624487, -0.40039221351693816, -0.43052124470671493, -0.5138550938654332, -0.2760114705963003, -0.462870557517819, -0.39418146079991734, -0.569127464340461, -0.4467524036220273, -0.185292658331274, -0.6332605089370817, -0.5075810622842369, -0.30930663286218574, -0.4963995714188835, -0.1830251963298238, -0.2616626827490096, -0.28562405794344464, -0.617233816763422, -0.6637499758841273, -0.5601833121265202, -0.6226516032835134, -0.7446756489856966, -0.4874692556116667, -0.1593145612836746, -0.4997601809932704, -0.7170094980719692, -0.32291372741440116, -0.6438761047609842, -0.49320216001034034, -0.7051691994547521, -0.3204891043217996, -0.49622005721838375, -0.3350100669557017, -0.6902455505864964, -0.5742048695337302, 0.13032985065179256, -0.5981379621953866, -0.19978069115030797, -0.6090252179236877, -0.607035221681685, -0.16313013459824505, -0.4189323188602962, -0.39686107286052497, -0.4255496251771897, -0.2452039347598583, -0.17740850159850569, -0.408859603474759, -0.4315025870451158, -0.3365628874466584, -0.532165562864552, -0.48394801740456855, -0.21342575043307646, -0.3266867619603112, -0.22493626828206104, -0.2593027510913234, -0.6932221314915321, -0.5133819839952426, -0.3682026560187101, -0.361880035557768, -0.659416401647203, -0.5286984817709706, -0.34405558443271245, -0.39401152354840074, -0.43112972100926716, -0.3461150600343296, -0.31243417657117656, -0.6688656883126052, -0.17032609280186567, -0.3807549386034093, -0.14593468386600641, -0.5117717158202291, -0.5184950761747327, -0.1251165735075026, -0.21185155842511008, -0.4832135104786526, -0.2568174317473411, -0.06394030979720133, 0.22681847657002646, -0.1782133875919608, 0.28242620293110643, -0.12561637441856113, -0.16129406868309307, 0.23251577057144698, 0.21846040930088537, 0.14117726546007164, -0.19942072516815051, 0.009818396669557762, 0.186089304295285, -0.3760794628582174, 0.18538016544429534, -0.18892363124094474, 0.2434879561315138, 0.20555896442253196, 0.3844043777876799, 0.1275535070330022, -0.021106472492705662, -0.07472765968525526, 0.20485981557394373, -0.016853041391413186, 0.07693388592340841, -0.2757493922235219, 0.7399062878861431, 0.11543669194327362, -0.17492046426134636, 0.18179611831536155, -0.12339212342044267, -0.13399189889806395, -0.03420090341813566, -0.03186910183320786, 0.35024893995463036, -0.13980074556900185, 0.42365358011336407, 0.04701343294272259, 0.21192312244415312, 0.3426246980132695, 0.2683263542631396, -0.06182935138379478, -0.12348137082541465, 0.38365491569885607, -0.094142947434181, 0.3366889560850662, 0.8824954200464282, 0.3616611556527144, 1.250869432937733, 0.37308377666876735, 0.2984182507793223, 0.06656830758587014, 0.2775467831070843, 0.036553958957121026, 0.28245479636014775, 0.20275331035671404, 0.1049086259357101, 0.5494851243458422, 0.34763510302180667, 0.31938427588700186, 0.23499728012660076, 0.3739391234037872, 0.31011834144486283, 0.16601412695650966, 0.6826873719441647, 0.8872190287863558, 0.6786514114840165, 0.3902473181431478, 0.9456697046571795, 0.3748355171027862, 0.0950408925999935, 0.4812311638330338, 0.28925748500585907, 0.3736585020440853, 0.3782135561458365, -0.14780193040261783, -0.02490544662004386, -0.4149781676114449, -0.24218909941189393, -0.031538142839299135, -0.574941744968941, 0.19243488744700898, -0.13572166028583288, -0.24584428716881038, 0.056425187938674085, -0.2924155152890378, 0.12967990325584416, -0.24391909947916335, -0.34386843154658975, -0.14683872719824798, -0.42467937921869453, -0.2899689771138553, -0.10411270120282186, -0.24694821862424013, -0.3226749234620425, -0.16029370148202698, -0.322086405733084, -0.348568953289115, 0.15496412545559468, 0.01008230802085139, -0.4225356598369602, -0.2265452677603564, -0.3249316665846453, -0.1821962734451476, -0.2880050046118641, -0.30665123330350114, -0.33734755991113863, -0.21996170760733233, -0.31938405392847197, -0.33518447341333535, -0.14124119453547124, -0.16719131352943264, -0.052411843466573245, -0.14826637474736493, -0.4239004871731823, -0.2976934272622587, -0.06110429732756013, 0.14141093442001526, -0.3060678398932699, -0.20809036813266124, -0.05921794526829241, 0.002884499328674997, -0.1694752371341747, 0.15991655147831776, 0.09662623747616901, -0.36339090287676745, 0.05138240985641174, 0.08137609391889002, -0.32828883591757757, -0.07423729998829527, 0.012708573637698407, -0.23288891878954515, -0.10570201058380313, -0.1712017718582513, -0.20709236654365165, -0.285743851012529, -0.21314313672285165, -0.33352544677524376, -0.3297719889103538, -0.09027995767149195, -0.3606180283480889, -0.3044447794485529, -0.17210753688563457, -0.026178360228600785, 0.09985918688782133, -0.3050522752327518, -0.24857486152283287, -0.48659395273979666, -0.022785789153002355, -0.3503279860768841, -0.26991532004328334, -0.2861280614279021, -0.37148038606961437, -0.0239618916268181, -0.3688799539660246, -0.3867613964312722, -0.28186409992519973, -0.4055360527042642, -0.29953258816277706, -0.24311838633296995, -0.20426274554926493, 0.2390184158401475, -0.3677514592349971, -0.18683938095320657, -0.4692316803298576, -0.3084437040661194, -0.3035244059434245, -0.3439557541870795, -0.15614083314180713, -0.0871558901561596, -0.5540562433260876, -0.33454974731513476, 0.039033082125237074, -0.47956138556092825, -0.35850603164426664, 0.012407838569261694, -0.2381577920537297, -0.055563612722834825, -0.2640803632754172, -0.2973333312527181, -0.15628660002110856, -0.4072056305469956, -0.37629530315115545, 0.2243455781027418, -0.5346552005855562, -0.21181341583391702, -0.040248877417386385, -0.30466358326257725, -0.022089502533342187, -0.14507363080899116, -0.23223617165768615, -0.4562475311333885, -0.1834370706383817, -0.2006344811641917, -0.25716954686358234, -0.44615480738865376, -0.35539536034675273, -0.429640787523087, -0.39569302835231285, -0.5806909913716543, -0.16546119956858865, -0.45707683202359944, -0.32524698603080465, -0.394290101229183, -0.34316630913481755, -0.0075456069435881155, -0.185060975631216, -0.0492676664866998, -0.3797804568624602, -0.38641921967471715, -0.10745311081984185, -0.1232343344106964, 0.18649318541889248, 0.33148048028245375, -0.21485257527709237, -0.22049878608544976, 0.09127741335745246, -0.291570690214484, -0.19976388354850375, -0.07243488769534377, -0.28345858710375055, -0.48791948535530305, -0.1441721719548298, 0.005402279544570894, -0.06948256673787917, 0.07734492220408493, -0.04311533407652896, -0.38980444664573244, -0.07563594557123357, -0.2955525190192292, -0.4323297300999264, -0.2753702626250398, -0.34299902267841825, -0.24257299872791319, -0.18497929547027425, -0.17657122830929955, -0.2622639548646017, -0.2714001397983862, -0.035491314783728356, -0.40551652573106917, -0.5166794880009374, 0.05031973529161875, -0.1856797621765784, -0.403187660572954, 0.0699207897903791, -0.3228954378385946, 0.08450798169047093, -0.1777748760374031, -0.1461528940632623, -0.04254665060163801, 0.09677181207227122, -0.3077247372886729, -0.4159425886288571, 0.35572111082884256, -0.25429392784726657, -0.3444376808089092, -0.324860436036721, 0.0037292996641060407, 0.04235071659013282, -0.1259072152081858, 0.4554105920244325, 0.016313195969599337, -0.16771975641375061, -0.1376363559452336, 0.21577795492147697, 0.31703324743027267, -0.2473520498868837, 0.4228658695827159, -0.015605246266410702, 0.12503299262332207, -0.043552764121355926, -0.2627949528406466, -0.39550415914825116, -0.010839521255207615, 0.27944512922544407, 0.05646822573000611, -0.39142896524641513, 0.0017588723703911419, -0.023898417501622752, 0.03508781509819708, -0.018451449873111998, 0.1895906092122587, 0.1658041920157011, -0.35785710042884034, -0.22754846754746616, -0.4269845192983298, 0.3478988743826471, 0.17188032182686294, 0.8361643008222736, -0.19881469418505626, -0.21089326528837407, -0.13789874248600872, 0.4985892318351887, -0.46942548177698606, -0.24216588011220302, -0.18379891699706877, 0.1654655071303747, -0.28299305857560164, 0.05368739910380443, 0.21717171846898062, -0.019258630795095166, -0.015797263387199174, -0.03212766059954077, -0.019908699893087335, -0.20594316940356164, -0.27206522498164076, -0.16517183860350812, -0.08837568939729475, -0.12257077343363992, 0.3043704092425505, -0.29820217084165773, 0.06300172353200292, 0.2513043738165359, 0.009572107391736627, -0.2927343342263824, 0.12598092141063266, -0.05159438840891189, -0.1837949568482131, -0.14555805207230296, 0.24471642055193193, 0.1565693438974177, 0.08871447116506267, 0.07170321177273371, -0.08271031174872014, 0.6767743788779444, 0.12960662344363635, 0.10632173720780559, 0.012839914400934736, 0.5230926848963436, 0.2771231179635493, -0.041572321210404946, -0.05288993722391, -0.1336286663291626, 0.3388943180505665, 0.2257735542648239, 0.23246417443515907, -0.021296858691840597, 0.35740211042668824, 0.011700477119012176, 0.1474181810711213, -0.03212338891640482, 0.04013838484047684, 0.10992125117060379, -0.16498331855644136, 0.15721352349650083, 0.4222271632463282, 0.09066934274996505, -0.021223339598055006, -0.008150365756357896, -0.04025072017837735, 0.024298542765024075, 0.3173911519048988, -0.09195680619909967, 0.5000555480756314, 0.013768584395245075, 0.36995023972816565, 0.37043754129563183, 0.14808055797163622, 0.12214828853643178, 0.05861612936805129, -0.5222685168802643, -0.3166313788781214, -0.273301846737546, -0.34585772102449247, 0.10499112135908967, -0.15345760520356339, -0.30730412793407386, -0.45835964636191834, -0.38960344461124813, -0.4084669023860366, -0.4942735798873171, -0.5307648735190749, -0.17717754070970584, -0.21544041765278263, -0.39277693714589257, -0.1499770469417612, -0.5223139622470991, -0.13310261511387442, -0.02632264982233404, -0.12025988987028255, -0.561962254812474, -0.2932431615318295, -0.0732280647507382, -0.220035197028737, -0.15997108850448347, -0.07801035680326726, -0.3033006914652808, -0.011937571748735875, -0.29581065566350406, -0.5122178179618909, -0.47822187305442987, -0.3312253828831082, -0.1293042144310787, -0.5467237022693328, -0.35194533634234376, -0.29975974262234134, -0.5677035626399755, -0.23195825142231588, -0.48938148120223873, -0.011540935978312931, 0.1674676018623927, -0.6058334788700622, -0.5511784299454744, -0.5550016182501126, -0.2910625884616928, -0.041510651520714675, -0.2937841781788333, -0.23094097480563458, -0.36626206712782267, -0.6443128685470916, -0.5502412723260416, 0.33366441067971986, -0.29861706890179546, -0.11139640592399949, -0.03654350147220809, 0.0881032237094837, -0.19542058180545638, -0.40776482982877327, -0.38132038894988834, -0.401666946373353, -0.2643305358968806, 0.07407331453839348, 0.09465593132967298, 0.1421569088348511, -0.24022828989402023, -0.13807338169093422, -0.09285505980128478, 0.09051968729547001, -0.3327228694191961, -0.2566453767895202, -0.3810982412384344, -0.16514396847637303, -0.21158109731771285, -0.2767868084193726, -0.18246722732990805, -0.1198579529832098, -0.026033017837557005, -0.27700571354621256, -0.40493436494038454, -0.4737850350896986, 0.009083790960339948, -0.1082028771410587, -0.28240019753774626, -0.30054698794973606, -0.013010152252980392, -0.16339746924812998, -0.3890616757741366, -0.29080630374664096, 0.05118945022907734, -0.6740217383412302, -0.45024255043752176, -0.543010157467281, -0.16912611407045508, -0.44608548372045803, -0.45545256717004645, -0.5656890684177399, -0.47254579533729535, -0.1888772567558931, -0.38091801449710433, -0.4530479374802387, 0.12704176470442816, -0.21386672807333354, -0.05467807525624981, -0.17701390159254565, -0.4469318677435112, 0.13295318453360214, 0.10723413287565971, -0.03792566025939503, -0.18103770654121115, -0.4129713601612, -0.010838222599792873, 0.07865518743360152, 0.05163398878723019, -0.04894310612237713, -0.11935436948900723, -0.3415215923643476, 0.040800296141039145, -0.2531368147332471, -0.27309344705232524, 0.09740027386203223, 0.02812779600827921, -0.20066131317284103, -0.23560049350151677, -0.16960725559445833, -0.11421596226440285, 0.05481514624732939, 0.21011798605291354, -0.35925953545138284, -0.2760292213615394, -0.12716737241133855, -0.2795021851189576, 0.059029706465766676, -0.16420377281042525, -0.04804597586889322, -0.153721848451938, -0.05067916267489808, -0.07740367111553821, -0.006454505788423482, -0.32234145981873813, 0.06162412495580154, 0.1560685346393509, -0.22151301492819234, -0.4322268536420651, 0.014187211386550817, -0.20166496575354442, -0.48691617556514577, -0.09530500884947331, 0.07858319713497121, -0.17634261478609684, -0.4541023519885207, -0.021013177457271364, -0.3146464581403369, -0.1544580283996152, -0.27232845925237215, 0.23024278525082686, -0.23553381822006678, -0.3279537313648701, -0.23692621590485605, 0.004160147429617616, -0.2215727640261273, -0.16128073854272595, 0.24938639051821387, 0.21645844845337098, -0.0754872727146879, -0.27776046634968604, 0.07717519718487223, 0.27305472352164334, -0.21574373252883944, -0.09627600626734643, 0.23523021857597862, -0.08161932691568569, 0.02054595928903781, -0.04772386362960816, -0.22325946206169012, -0.39636341939860675, -0.40852190472785177, 0.14911529005980453, -0.12368990635545363, -0.2166135676970171, -0.27860100517076614, -0.06190684076587602, -0.25995321491831874, 0.27854181070711764, -0.01311649407589859, -0.3433289624370791, 0.32190956891302, -0.3122919242604469, 0.007471950812362943, 0.20694816906090127, -0.020652625823093605, 0.12249904066604607, -0.011134481967892624, -0.197026553216781, 0.3268252869642205, -0.1710684145753954, -0.27325501030832594, 0.07822681027119778, -0.17403578464326908, -0.1143179004626904, -0.2913937679937679, 0.015456007408897835, 0.14610435703802613, 0.25516145951532043, 0.0751478515304242, -0.16688716719060206, -0.008831174406670729, 0.40386033511765856, -0.06650953232298788, 0.4197006457228124, -0.22421660898214824, 0.07105446921496983, 0.009624792283495305, -0.20288023753535528, -0.11280591727650865, -0.19739789044978492, -0.2886450593492233, -0.2795351647205564, -0.04457360989552601, 0.1722749866302537, 0.29155755232745056, -0.0480933651511882, -0.06620777476006728, -0.05485059935564276, -0.17553281899069303, -0.14066099671607132, -0.22379282486934002, -0.009452245977198933, -0.285971620959871, 0.02217983926888956, 0.026355764103436315, -0.07101643331331448, -0.15498629111262172, -0.1184486414703446, 1.0593451594339311, -0.21396284989805076, 0.5750300139031362, -0.051016922961421525, 0.42590353373188006, 0.24576087088101134, 0.4169995926839399, -0.21130231639933628, 0.24087000891870003, -0.004134610176446272, -0.02152041785360398, 0.04597301818518756, -0.1535192024601072, 0.19638198000269474, 0.2092509592145625, -0.3391845149142371, 0.09975414398046131, -0.1533645488522597, 0.32517525563352945, 0.17914841065968773, 0.22633219720130723, -0.19976996465240196, 0.16752875425924796, 0.12274661291574532, 0.09807516704717424, 0.36162763697528116, 0.37362415808621113, 0.13063680762473923, -0.026576146641989724, -0.3237468797028949, 0.0659778910319183, 0.11620429910884533, 0.5941579699800392, 0.3934695331128683, 0.32109370146088934, 0.38607281499298945, 0.04704322239365721, 0.3900985289252363, 0.028294438764540828, 0.6433739296570232, 0.8314622230940706, -0.1189462630659079, 0.27133445957647834, 0.03888130658734195, 0.3235508558095229, 0.1712799249078668, 0.17123550917364314, -0.23937614685988004, 0.0964610191506742, 0.3480969409681291, 0.009986158025591942, 0.06359343455518252, -0.004085632399455101, 0.056465450841703776, -0.15287050139772823, 0.10473273698365872, -0.1251242831455924, -0.30310845793420443, 0.08066787819773405, -0.4260110685266611, -0.34252597108030824, 0.116104147016689, 0.1899343370375467, 0.3396573273877117, 0.12067149852900773, -0.034999451190960054, 0.24042742346267915, 0.13536876903552994, 0.13516782449024528, 0.07177450701685013, 0.04169307439664243, 0.3389582138271984, -0.29367972187396735, -0.0008975247181083475, -0.19128047344733642, 0.6482423495566321, 0.13469927572794987, 0.32390395858757365, -0.33102570569271633, 0.06870127292033577, -0.2238558738957058, -0.2133444198997578, -0.0228268690316138, -0.2395632042976658, -0.052222284021753045, 0.08643784793426382, -0.10482250106128924, -0.21203368839091777, 0.5462405830944455, -0.2801814566291369, -0.1302456255666285, -0.37808741522502737, -0.14339776315492844, 0.04239016382976413, 0.10993078351142525, 0.18972082026086914, -0.0170431989621823, 0.083332595112848, 0.1706311772660867, -0.25375179742204473, 0.23013049128745908, 0.012445061117112728, -0.28007379303836116, 0.258876291185049, -0.15466466020046185, -0.27566728133422475, -0.049496796018565416, 0.13338284417302232, 0.02489897461077998, -0.17246472302657703, -0.34862723985402577, -0.1709597298871534, -0.20541756085349255, -0.44759577406852, -0.07138180166785837, -0.3566249226515176, -0.15179808720947732, -0.40945872922299903, -0.2520785538097769, -0.3949380966744822, -0.3086258279044548, -0.38981275441669916, -0.26486391968346423, -0.0097290430690503, 0.019959242059252057, -0.44523750033633974, -0.03275451780837595, -0.46813397556229125, -0.18618115886378017, -0.20406997831700668, -0.2997379333350222, -0.20766177121723617, -0.10176017992743804, 0.34975295798767353, -0.3605780203234908, -0.29965397389680265, -0.4877761185824105, -0.15014314847277124, 0.05248951042958501, -0.4144648912057838, 0.03705117173721803, -0.2997539871281963, -0.05544029423765213, -0.284615926533331, 0.36523474082765034, -0.23430124277676978, -0.3706460113859089, -0.569191600924802, -0.12308279063725026, -0.3491879625069, -0.2713357455283679, 0.035581801659387284, -0.1925189252960786, 0.06754973391458204, -0.24352541271326414, -0.08690319342520494, 0.14776663597615294, -0.2729528815934046, -0.3595493673033544, -0.06956770157572383, -0.09966551613195411, -0.4687579847614973, -0.04286368140890029, -0.37271360762564404, -0.12225204204407157, -0.2862282526787791, -0.11137688954195861, 0.26974512765193687, 0.6286857133715116, 0.07931562652909593, -0.015511105399607142, 0.22687599456386354, 0.42365933509947756, 0.0951155579713724, 0.055652775839802195, 0.23330679806730759, 0.17178734288699227, -0.0641628007616506, 0.04124266245084411, 0.19403288905982377, 0.006995869673223555, -0.13712024373256923, -0.23350970224981119, 0.3069439840741975, 0.29637039799142456, -0.161739610498909, -0.10357893572899647, -0.06395196352970327, -0.19214899684662676, -0.09830528315781989, 0.11142767979142579, -0.03093973865273889, 0.21075086362744255, 0.04600847917272735, 0.06494754937063534, 0.34969460145039494, 0.08077428176224095, 0.13378915222467683, 0.19041021424446927, 0.08183615576189636, 0.005696004328751687, 0.08243968992144478, -0.17177835765533256, 0.08506264999135948, 0.1906452286732814, -0.2191378657685866, 0.005768941632385806, 0.023026642085151476, 0.2909824217586338, 0.282667080138184, -0.2233474295624874, 0.14356331418739324, 0.1443297264608883, 0.0025316369212603435, 0.3315884865311831, -0.026801333124449638, 0.04580262266070862, 0.024848868884746335, 0.32532458749468185, 0.41747216358359523, 0.1834354085997993, 0.39925143385661666, -0.04137321527376448, 0.47242874284023745, 0.12411984011082346, -0.0618088890946106, 0.2254214939796918, 0.2562139675148292, 0.21137743998246425, 0.28951307301000706, -0.13343934293869625, -0.08767568282404689, 0.21062070298276625, 0.31778057226651735, 0.24868456874428796, -0.1391932307658738, -0.10572697724658464, 0.07621867264565611, -0.11334907404983816, 0.4503295149941865, 0.4706412514337822, -0.0016465707109090328, 0.3571034489383072, 0.22598239011545904, 0.13798228961843007, 0.6454921263518227, 0.4132207117043795, 0.14076215836414988, -0.4732668265747646, -0.2489064134072754, -0.2653888581775965, -0.5298671887230829, -0.22223049688965807, -0.16055320521416672, -0.2719003430599503, -0.6641344258745009, -0.4720625822734316, -0.47698618943762194, -0.2009588219503125, -0.5272384468112847, -0.28497004434280826, -0.6039940982032258, 0.3909832934681072, -0.6656975236382491, -0.47885719686747086, -0.18391831950775608, -0.5503251162010581, -0.2920866766803187, -0.44648644717884967, -0.18465753817807046, -0.3919885026999931, -0.3885344502434364, -0.5053695448787078, -0.2910236793730768, -0.506325106402802, -0.2227900313123233, -0.530191737734365, -0.5934116392257025, -0.31019313046402935, -0.287606917104433, -0.06341327013964143, -0.5213593120200612, -0.26895994797960143, -0.16178803204499806, -0.4068977261636195, -0.45025525321188875, 0.09641673809293246, -0.43075932046475884, -0.6623717942643941, -0.26071864251432375, -0.4706695258199126, -0.5483076272666442, 0.22441774503569828, -0.4173820898295373, -0.23605474567996865, -0.29188860440538633, -0.21001678565971613, -0.23409323940117324, -0.31935259433322144, -0.5500130193616085, -0.477088606904651, -0.20204420875134585, -0.442389595278003, -0.15064427392955734, -0.3568213321920672, -0.24767890507904805, -0.1866125276733464, -0.21857591477875854, -0.35216688651367645, -0.27915476906748427, -0.2673905880748956, -0.45297263015643635, -0.48060760394460084, -0.558814214562681, -0.3328631806697323, -0.23984790874634293, -0.12931017924591595, 0.16104824264963882, 0.1621202138863389, 0.017698290562197055, -0.26369814375641915, 0.003976459478671784, 0.007273827887482143, -0.13916930479626977, 0.11777408545983087, -0.0013084389114795833, -0.018068725769062294, 0.8138666067834812, -0.347604921856685, -0.40093465213635815, -0.11173692536796884, -0.038758002318719044, -0.463892317121354, -0.4462574753100126, -0.45743272876784513, -0.5182633014495334, -0.40924783801345244, -0.44674284653863744, -0.16003009573401375, -0.25832448754206305, -0.37703887300923333, -0.016909510631583465, -0.32608224314592216, -0.5192859352664929, 0.21108348812450708, -0.39425569823517953, -0.43291220299826655, -0.25469700289081687, -0.29493533676692124, -0.494078623819639, -0.21213946248815593, -0.44482069772093474, -0.5534919117719307, -0.24582388981123376, -0.37216737600938954, -0.5539474187766507, -0.27691370933644077, -0.11121507313251629, -0.4607081265561136, -0.19260215639365674, -0.14880406015375763, -0.46073217042123504, 0.1203835791622496, -0.03277720899610698, -0.40202874177753584, 0.12056441566839951, -0.40973857299843247, -0.2310004767212851, -0.4703292217699754, -0.45908730044865853, -0.39954926323090517, -0.49989864295829134, -0.5160303913733175, -0.32610241522563266, -0.3896622467693152, -0.3670499609929213, -0.18428544141803002, -0.2588377793824402, 0.039093137925941226, -0.2666874662010035, -0.113327675361892, 0.04758187897885247, -0.22012925115030776, -0.23216918650498186, -0.5190537204990691, -0.20070646998893898, -0.08965428099031716, -0.3153890569134922, -0.6668083364922781, -0.10459896197973509, 0.01968204595035024, -0.2784920785713927, -0.48937573677432955, 0.12157871646787508, -0.28334180393635133, -0.3649734768170325, -0.456785026238441, -0.17773519854352457, -0.1615228186450315, -0.7029256867414969, -0.4477087106702671, -0.30351686700406755, -0.4020125121435373, -0.48757983490768225, 0.1375080829206213, -0.23306532517182735, -0.23715955446460152, -0.3594331332799057, -0.33102096145003473, -0.6234718551564609, -0.4073867815626523, -0.1519717911608966, -0.2962712369148779, -0.052938336189313796, -0.27763137549074807, -0.14225343091160164, -0.23974994374601433, -0.18102316129488122, -0.1470502092761196, -0.09261031064596506, 0.11825408552914679, -0.03428728799575533, -0.0491820254235852, -0.09522754495419514, -0.2401891426769305, -0.32071042409284956, -0.06696693626477852, -0.3157231580171648, -0.0011854294374912039, -0.27150181006324503, -0.37716902825472004, -0.3611580945565962, -0.13907346553678943, 0.08311033975843153, 0.2949589743138941, -0.3561549467578273, -0.5189914763781079, -0.3303226753198546, -0.5273079729908283, -0.31027726186139687, -0.42963686067585743, -0.5484869538849961, -0.07397005525831538, -0.33037852467651624, 0.034708086483660056, 0.04425061427138074, -0.3840813672779547, -0.02218627396199941, -0.17702453541893481, -0.4577527356515443, -0.40819412381984543, -0.22098324963300958, -0.4112374773292735, -0.3348312351981018, -0.02855580136351377, -0.33945093326673315, -0.3776738611847437, -0.29976635568563703, -0.3692515806418849, -0.18407765886314761, -0.211757843893187, -0.22372216581536308, -0.03532248299954808, -0.34499550134719736, -0.38368375286672607, -0.30326275957919063, 0.11747659030605766, -0.4729962928059344, -0.25635615162699227, -0.08896216308426413, -0.41605716320311603, -0.34383254596745616, -0.34112586141762713, -0.24489564286371604, 0.036002771279292224, -0.5376749443116505, -0.33568431224294004, -0.24691079103603747, -0.48097908010483303, -0.5130630282851727, -0.19507432915101816, -0.00800479018531008, -0.3558266064584847, -0.32469697413029147, -0.19698157341274258, -0.05788095138232904, -0.5916690954653058, -0.3776198161956841, -0.3945277537345116, -0.37289035495977546, -0.44511606312673596, -0.5199369569612462, -0.34571449453408004, -0.43162441151661873, 0.09430185537631981, -0.3343228257702505, -0.572715660054747, -0.6241605505073972, -0.36793794339237723, -0.6315537027199171, -0.30966197780136456, -0.14963409992475113, -0.2538372498820826, -0.21969677957251255, -0.4577251266469498, -0.38372345256848317, -0.3263727954935007, -0.16405843614841645, -0.5002701431091279, 0.0008900899396894848, 0.04190612926152269, -0.46706764282029395, -0.2884190618651061, -0.3521364914227038, -0.3756354668687832, -0.36031751205648493, -0.2712424070043626, -0.5012360754743905, 0.33584945728422144, 0.1238167006944992, 0.030214548839660148, -0.2555285004145898, 0.37702260969588713, 0.3468558068972099, 1.1777098754405697, -0.3160571011752408, 0.274921769595555, 0.35364155064204766, 0.604847543327249, -0.08127720641158859, -0.06750353176804126, 0.22479545004468382, 0.24962878968176638, -0.24271875066915619, -0.19700098317111225, 0.007599210620484806, -0.30446864756569747, -0.20762211414620443, -0.052704192744468, -0.34746008585799437, -0.35624617848192613, -0.058994222912236716, -0.39379317405742104, -0.16338695835976508, -0.14917273917024432, -0.03409149961303483, -0.3239619926773639, 0.24258378590813176, -0.5462604059544311, -0.2232827685237691, -0.4511044372179157, -0.2821587004766582, -0.4612456938585892, -0.4638270385728877, -0.010671874699187055, -0.6178845160794353, 0.06575778041158767, -0.3168283025303673, -0.4886882789302157, -0.34124451208527584, -0.2378962324435096, -0.19317987273570286, -0.06070618199521895, 0.14346928500150846, -0.2793865983700226, -0.5180594041230276, -0.3748423564630409, -0.43523552679442545, -0.365363522294485, -0.26369110336225243, -0.10228312871480512, -0.08845826568264985, -0.6021349373278341, -0.06377458060107245, -0.32345888021054403, -0.6532272629445467, -0.304418822978303, -0.054867041089714456, 0.786960883576859, -0.034877667179898604, -0.23967074374467778, 0.16919126507321494, 0.006737719118843941, -0.3326977322358374, -0.41737699131960104, -0.266482395297915, -0.3004778015245606, 0.09283835103641995, 0.16264577311527376, -0.2390805680075676, -0.6383025531786194, -0.008987847922930935, 0.16337488894881702, 0.5011112725534912, 0.14145920452293542, -0.34777069113282194, 0.027506716190213037, 0.5372094938095484, 0.163296954653295, -0.14051571841379681, 0.15533696620082665, 0.10375222530953014, -0.17372288868375377, 0.157535456332281, -0.1869311212105312, -0.27001597675145006, 0.30017145106011794, -0.06222225090392519, 0.04676282576035796, -0.021091034631480942, -0.21217855109566996, -0.04167914778123094, -0.037917239097601536, 0.13754264534900945, 0.041323325476186924, -0.20322510829692342, -0.276293357920535, -0.07540362199795682, 0.11588333991219592, 0.14892044105849392, 0.08722195857231989, 0.11691189878749252, 0.9004297276146516, 0.17784273072009255, -0.07759212224040854, 0.7660780949532053, 0.3148481431225256, -0.1309352317567238, 0.1168947319385694, -0.12690895006072153, -0.2728149167552193, -0.003647937211206977, -0.24618091738292575, 0.06886527606426414, -0.31007754272347454, -0.2830522269226205, -0.18254744450014426, 0.1391646681254551, -0.3811284036220821, -0.07166208560522913, -0.3898752286470005, -0.4498952321390884, 0.17478267625974658, 0.17899301238245016, -0.48724675957537167, -0.0046551553956436014, -0.08742208161721603, -0.09489125250890254, -0.08712677092723944, -0.34178670543037737, -0.1667800172598925, -0.1026541829289632, 0.2132420713247762, 0.09493137343125364, 0.12129655164963686, -0.1994080627300805, -0.40268433142347276, 0.002075719168028518, -0.4675152247437042, -0.44717381587282096, -0.3736916325955716, -0.2305888101064628, -0.3914831357300051, -0.33128957122121755, -0.10238503294060791, -0.29794504824767604, -0.10754949075802868, -0.07055061238697886, 0.10051865609119608, 0.15070276555326204, -0.3265221119451506, -0.2097996622575792, -0.17885321961557424, -0.1807726547405752, -0.020599010648847896, 0.007837830714931675, -0.6528432284537081, -0.11122092475533059, -0.10401654970895104, -0.26620319603412074, 0.3912068599456516, -0.3973146940884279, -0.4104846106352597, 0.3668603237667139, -0.2436043203511982, -0.11894946951396024, -0.2626076042073505, -0.2317567515201926, -0.18067108135733773, 0.15706329059759697, 0.166947727945621, 0.3855293872062729, 0.24987258785258853, 0.16311326009685898, 0.3459999662103895, 0.04075781189285416, 0.16913686644770723, 0.4338505227649124, -0.1443728747314806, 0.6719372304204144, 0.002504706945446596, -0.22185177596872868, 0.0478884920967373, -0.41451207496103737, 0.3141034434206132, 0.2542599984321285, 0.6469628723772222, 0.30681078247296545, 0.34319215654587065, 0.3913645036267895, 0.33644709619723745, 0.3434858348356563, 0.3206080632197226, 0.282675238652687, 0.5302287732327795, -0.01529809861492387, 0.3588864810411938, -0.07857048416458534, 0.404507366962867, 0.411695538384641, 0.2911948892920923, -0.13927576205695733, 0.4080997504989483, 0.3145249971156109, 0.406076437242645, 0.13955508193425753, 0.12671788961954963, 0.3107009359489738, 0.1542884407902611, 0.5786096861778176, -0.25923929694908704, 0.1570533804016956, -0.1514270800973653, -0.2514702443902642, 0.35121547832058275, 0.25464071232789176, 0.3742092100473409, -0.14898060269994565, 0.10478644803289898, 0.06661713548784952, -0.08438594865279236, 0.29593650859920173, -0.026671466956039475, 0.01969127979852503, 0.23763167686634729, -0.042586777140634434, 0.0031097813824512576, 0.0688626267821205, -0.10724752245686864, 0.07905787960293387, 0.21665195746200935, 0.4501885140105055, -0.12740364629449297, 0.2211251365242308, 0.0581960951525977, 0.28110321504288666, 0.21366334238693635, -0.21364750236028107, 0.8788498664897606, 0.5240842289337885, 0.3901637555128411, 0.03340045685371792, 0.09390609961276708, 0.10706252526004438, 0.3869206111851441, 0.12108612221849487, 0.12208965013307876, -0.0033317230932727124, -0.05669148681786933, 0.25405621945634405, 0.29537388505604, 0.3791269767453839, 0.1453518297879077, -0.02649914725066464, -0.20283954642147947, -0.07173375697520006, -0.06136859999976424, 0.01807019559077978, -0.35440546730028655, -0.24218347125955444, -0.20781791668996538, -0.33684345203742244, 0.11509193079105375, 0.12753610436032256, -0.1228610308696284, 0.14990866000623568, -0.08119266970975561, 0.08820119170207383, 0.2631360285903594, -0.4111618821487615, -0.027168471436235023, -0.1595246325034984, -0.04003972419475274, -0.0846735868151073, -0.022281376797807444, -0.44572119125377563, -0.018205248528073745, 0.18563337611767064, -0.18131067113188704, 0.005653594771319126, -0.14024650247115528, 0.21472014926499663, -0.02051822010935764, -0.18526998590379745, 0.312836643702542, 0.023405723850643417, 0.136030469250987, -0.20791743303907637, -0.19199757735245956, -0.3055322914416355, 0.3226284419722624, -0.31395873096305676, -0.09637457790720554, 0.22190914236486303, 0.09568951795714022, 0.09004116507964038, -0.11708203526329902, 0.050055983335120915, -0.16867022450516048, -0.025058672996769712, 0.03630499388988306, 0.13957823253157917, -0.2907579772702206, -0.25938049031672866, -0.10585730133566841, -0.20611274613399588, 0.013171096158650386, 0.19835262648773405, -0.19926978646560933, 0.05366579935723833, -0.23854832722847275, 0.003443391362542841, 0.35067215138743496, -0.15329384643697608, -0.11292742110155557, 0.3944771711367993, 0.2492096547345975, -0.47213413126994486, -0.23854212616217874, 0.06828375660535607, -0.009705617038893348, -0.055169071303921964, -0.17700609974220657, 0.03813145135678354, -0.09343315397443039, 0.08031346518070456, 0.086173425451926, 0.18780479612545767, 0.17906831096638973, 0.028902489624851677, 0.02213962351667612, 0.04141122473386588, -0.057663217761022914, 0.06772378486605712, -0.10308806310086857, 0.44142095600459064, -0.005036208005725186, 0.11658441411256885, 0.004370471196974558, -0.11571919785351015, 0.03851974223559186, -0.008199280337539378, 0.32333595942949395, 0.07602019510067783, -0.0839851110054782, 0.3323716981694242, 0.08089723748185947, 0.10179450747508448, 0.0650934239766201, -0.05081431193905066, -0.135882191474351, 0.13646681953360787, -0.16878801126250625, -0.3150000950577238, -0.04444398502221113, -0.23370866646271427, -0.1728702182650504, 0.10701067256691037, 0.010691176463739873, -0.1784135101434845, 0.01698660852130213, -0.011450909228691348, -0.1208926833547418, -0.006730010020216461, 0.24547355523865408, 0.40958396816796855, 0.11100396156925312, 0.49545348873205486, 0.08254782664153117, -0.06772071698866718, -0.2923677465990701, 0.13685757691953696, 0.5036695913825314, 1.0336455907376128, -0.2159538554725823, -0.27188615734660243, 0.24765451221182488, 0.11454150962297158, 0.06132674005711528, -0.1141589101618314, 0.19071156986704155, 0.4186063629578494, 0.12434920029184497, -0.03168656038709993, 0.12019295029897024, 0.052695875361259865, -0.05297191803915973, -0.16830993821785303, 0.1162915824985799, 0.21556995804384102, 0.6108772369826956, -0.13532855782807665, -0.4169206947583067, 0.4649591792227558, 0.3644020291988259, 0.03319089812670147, -0.05877770063594749, -0.1315404469255168, -0.08637175643276115, 0.20264662620816234, 0.034244028505204145, 0.660502348879044, 0.038821808421503505, -0.045004787661598156, -0.16469835260226595, 0.8726446909663804, 0.0922872873254769, -0.14188401269366493, 0.31900020858359185, 0.012371205963715033, -0.07575252625610081, 0.6505288074672485, -0.14351800290514344, -0.18321847105201852, -0.1637329589664526, -0.21809758831227335, -0.30651402876245715, -0.4721748768329482, -0.2534836662168944, -0.32407626103020887, -0.29847230898223687, 0.17775791452835596, -0.2314230095890359, -0.4632248563578697, -0.21973562084667256, -0.3420044748152682, -0.4718074797603646, -0.36822830776380344, -0.35769481160588273, -0.6811841632970369, -0.3078624516476897, -0.18418883493925517, -0.3069538527291934, -0.20564724223470127, -0.28935494756994196, -0.5081450698455288, -0.2706127835926581, 0.08161311464748693, -0.409102702938039, -0.2638367712265575, -0.32306666841369025, -0.2722499796021579, -0.031007189581998815, -0.17694789447316758, -0.20395338039679384, 0.009193231577184002, -0.580482164079346, -0.40405333640530333, -0.5837763980860028, -0.08167793222395271, -0.3978653405521137, -0.38891124270758043, 0.20162025882382778, -0.2423533044638246, 0.14298225463842418, -0.12923110152361772, 0.4402984953450569, 0.040127091748626845, -0.3760459538541738, -0.053646393973527384, 0.039496782825924434, -0.30075675247364025, -0.43287368744700266, 0.06346966074287344, 0.3293229833629148, 0.1516341904763078, -0.1356427390931751, -0.28937447898471125, -0.4046054526127761, -0.2378955454178699, -0.043294507494444585, -0.22341151314127078, -0.24238556839917522, 0.04945250751568072, -0.22041950400379068, -0.36497294805690234, -0.1329860607553153, -0.23058094229451415, -0.3317398574000706, 0.08600543138126661, -0.312901500253932, -0.20719331639707395, -0.34619314046371874, -0.1128083104126271, -0.22608661001648805, 0.19265812298341528, -0.2721696513396958, -0.27608667903986917, -0.2124299523711215, -0.019208417738937358, -0.4565696557119147, 0.029212048174386177, -0.16755457753507466, -0.20641456831341956, -0.19308576021782872, -0.4009270739190272, -0.47483822734346476, -0.22928244118511684, -0.34732340204625034, 0.44567962120561283, 0.2811970814337203, -0.27261303985233726, -0.14329093459466552, -0.18728674737285927, -0.2150375635316036, -0.2696095349052462, -0.09626397642883956, -0.09449734411683085, -0.13585022066205305, -0.02385051734364252, -0.20052181416784562, -0.4559448162585894, -0.39313030913284164, -0.11120873016409158, -0.24795667260703785, -0.29487941286146946, -0.11120602900043865, 0.07365158976882956, -0.3353510394426725, -0.4144119058266038, -0.17865781407471168, -0.1538611448015847, -0.22689778431648783, 0.9687160017373156, -0.03010661899339123, 0.061110368178237805, 0.05694529269735413, 0.11479157376870097, -0.001366955448106401, -0.1954303502640126, -0.22221845317910752, -0.36278899287302185, -0.21812344929538652, -0.07980761309685439, 0.04748608189928391, 0.2106310278654363, -0.12341011834767612, 0.2756619841546693, 0.054136319843551245, 0.09351409569001487, 0.19678328167320006, -0.037937177787374654, -0.3988613094645123, 0.4129123390035412, -0.34440464915490343, -0.016193220439429813, 0.08485252495721962, 0.10123205404100237, 0.15404191732125536, 0.2921070667951266, -0.018695039268089467, -0.27331855251604736, -0.23578746930050382, -0.19124333004141944, -0.3587156527143897, 0.14934142740049264, -0.3245818538503302, -0.18703950583609422, 0.23053679904787935, -0.1040297380732662, 0.3018963794635074, -0.3182968884969023, 0.15810821758310167, 0.1668568094467877, 0.055592732421550245, 0.09885752430280935, 0.1307756547292526, 0.11737651434415144, -0.18729979370717828, -0.0369431927131188, 0.7521416918289002, -0.5092398288197876, -0.04434661714055101, 0.34147129209556004, 0.16964695489368578, -0.010008150168954975, -0.2908059009676426, -0.3278479630070704, -0.20376115955931337, -0.5740465665951742, -0.17418067113794122, -0.26291945179389564, -0.24666022280063007, -0.39864480770737126, 0.013960876847105941, -0.7260740001787142, -0.12395118293726196, -0.5794932331007911, -0.21235875562723408, -0.27128154548229844, -0.1560414782059395, -0.5429386214221694, -0.3879660241021892, -0.37604677587501106, -0.4684214042743593, -0.6372009113376343, -0.45595901903243286, 0.05261665516391229, -0.28944064683968423, -0.3433060523963426, -0.48881559557758003, -0.15541192888616134, -0.44967709253566746, -0.46081061320122896, -0.4473116338205586, -0.3961874485619921, -0.7226450482494872, -0.5598678572923994, -0.5015678695337246, -0.2582980075187838, -0.21462167446465968, -0.44845589043405226, -0.17344725605276262, -0.49397575158501955, -0.37803468429489606, -0.4643381344895045, -0.590175095309932, -0.2660919758766284, -0.11070583080294027, -0.26518651636988344, 0.027846611397946735, 0.10125049758627849, 0.02071770473136146, -0.3513301655891726, -0.04849849625326476, -0.3415903621260559, 0.0216109979214801, 0.04292152753344337, -0.3961281889451529, 0.05255713525802496, -0.29090390102489877, -0.21912111046739008, -0.19784655843901214, 0.06879097742898238, -0.2861182013454716, 0.06201479374115297, -0.23720939860846837, 0.10181913991594561, -0.333274546029298, -0.1060216955956344, 0.07114024104359996, -0.17088141818112976, 0.15541178103957473, -0.07223724558862823, -0.18646867386861693, -0.13358812233546916, 0.04372041362461414, -0.13639919787115742, -0.30102126262850093, -0.009155538697004768, -0.24475601612710368, -0.3105713492732012, -0.1143590465391872, -0.2131261081039937, 0.34038764653979736, -0.030733250931398923, 0.06093676320347153, 0.029334823353598074, -0.3574164628515113, -0.2130117201579752, -0.05586437383969937, -0.2439036727383272, 0.0702586979213253, 0.21035343008364032, -0.05409817152464012, 0.27608645138474697, 0.3259437401288546, -0.027040303165358163, 0.06159695444059034, -0.22943286009931774, -0.18005123952343813, -0.46624301792796724, -0.19590440869759998, 0.02427326149394067, -0.22706873802014618, -0.3829576683088219, -0.5149181715737655, -0.12392454410339884, -0.42943302276865586, -0.35641349540787615, -0.20769042325047882, -0.32946951302892125, -0.19596981012056203, -0.4509314242747476, -0.40239050931518644, -0.27746190042888524, 0.21139277824071134, -0.3234547281856069, -0.36787867820524806, -0.41038965690564017, -0.16295456403584654, -0.22475510674308477, -0.44733072788986217, -0.3217481402962518, -0.2407623847233501, 0.2147578243026694, 0.28075577967344195, -0.37230938388113405, -0.30908668716375587, -0.2959135809917921, -0.27524749889375033, -0.02551938169959859, 0.006673619100102974, -0.4905452407726514, -0.2857994496625359, 0.025037806762044045, -0.3166793306160258, 0.13420219503288303, -0.3955859321251372, -0.3661865727950074, -0.5063427844282831, -0.09153160871852067, 0.015235672161643834, -0.048343453131747594, -0.41338120249362764, -0.277053219579018, -0.26884255402856777, -0.42073585403296715, -0.4117803914926058, -0.4079545725079899, -0.5153786910766789, 0.37702171347904556, -0.2395255398814462, -0.17685927359329953, -0.1884188095735535, 0.11058937962734061, -0.4931003178894409, -0.30875369980265016, 0.19883923577515628, -0.33593818646974344, -0.11619364668638135, 0.10503812686741315, -0.015161253106948571, -0.3357977149996236, -0.09829726334830903, 0.018217950808867484, -0.06067472765632923, 0.13486117870338546, 0.37911427144793636, 0.2228676720439451, -0.09066032382730323, 0.10208634321692144, -0.13804450995817033, -0.2879151269067089, 0.16059178813768796, -0.1590998760724324, -0.3096336206526409, 0.2628730274033181, -0.06624464528980371, -0.10500589114724396, -0.19690520735606376, -0.2370965908805418, -0.13810428085002174, -0.298212540699818, -0.21739968157960937, -0.21291672524621955, -0.1359749441250701, -0.35749277525021045, -0.16875109924181073, -0.22271461229801126, 0.14784486335021274, -0.13295642055125034, 0.161956423625069, 0.15096246242678793, -0.18426135727737003, -0.27301118352914655, -0.31461156203885016, -0.1913030066200029, -0.02922331836797966, -0.1877424700115675, -0.23298465003688276, -0.14924548885969657, 0.07702874309634246, -0.3109667689558032, -0.1416508521518865, -0.40461221263876074, -0.3086246269595021, -0.05966099119571938, -0.2487546550667797, -0.0568069855998256, -0.6157070421809125, -0.09105805079568054, -0.4247030938092967, -0.20045545076734053, -0.4209195662870352, -0.2550135607474496, -0.2178757643811458, -0.3515576741865376, -0.42451205994892455, -0.56370869135872, -0.5194014326331293, -0.44280518742803726, -0.2142752499649562, -0.09349797649740219, 0.026107317433406052, -0.47189738822477956, -0.47898005661727444, -0.04027223853728822, -0.06521278377675366, -0.4779714318556202, -0.13400561725265972, -0.20994913436740137, -0.22233952596113893, -0.3096925725839089, -0.4123448395305583, -0.39969352878428116, -0.08509073466302423, -0.23240776945897956, -0.4069400695537169, -0.1503003219016597, -0.39655531610318806, -0.5250555064066478, -0.22854056565014863, -0.47291491944004344, -0.41758062478513, -0.163791663194237, -0.24503860508123448, -0.09398722456743097, -0.10073504944349454, -0.2192349293305476, 0.052969947754624915, 0.08133076830673783, -0.2514560663086677, -0.14435443840168652, -0.5118538878720402, -0.5097646360136355, -0.22617537343580782, -0.42240761057363935, -0.25168296476985796, 0.0378058448297972, -0.27571780714166666, 0.08248838431483604, -0.09504090162830987, -0.5296857470537626, -0.23324915881365105, 0.2734927056681967, -0.022946978629341905, -0.3022595880680947, -0.06410672530560534, -0.24523310919829996, -0.13468099178238138, -0.16546545484737088, 0.05500703354744482, -0.28661656706971883, -0.44470581036352863, 0.3568277151877012, -0.06692545859165959, 0.0706069735444277, -0.03228682960762264, -0.13335303094790807, -0.42197574507813507, -0.2869737236167516, 0.02693691995111245, -0.059882175122901324, -0.07796298435102098, -0.23735018288922632, 0.12725015325523029, 0.051190815810285326, -0.013791950710598778, -0.14004852795000353, -0.17055616021790068, 0.2710561751325083, 0.05192437066236479, 0.22980104165171314, 0.14427116452608055, -0.08462351745842242, -0.2914977001934357, -0.017579701148605447, -0.03394392510630961, -0.2102404043754737, -0.10025747898363281, 0.45145792292877807, -0.08888707794332336, -0.15410903139068358, 0.12933004545440802, -0.0602768032036752, 0.08228731183771291, 0.13099323015182435, -0.12905860113848894, 0.038366651310936216, -0.1136958085031812, -0.1378696649562773, 0.22881491417878044, -0.26060529464161625, -0.09475197950363179, -0.09476400297890253, 0.0582978702126673, -0.3328978144903802, -0.02235825251501265, -0.4133712394597044, -0.12702794870183978, -0.07683197461688987, -0.17529268044285548, -0.28140369100699136, -0.21478427005451808, -0.10223550682231891, -0.09879832878027572, -0.19257354330973012, 0.03431662031857803, 0.1398660037885816, -0.019527118778941303, -0.13405165561814944, -0.02262294172102602, -0.20912042305541886, 0.3686197658028489, 0.024989564103578183, -0.2601420847222126, 0.08722459844058872, 0.1574009386534496, -0.07288719400774031, -0.19785058270855418, -0.21264845649431918, -0.1285288442972142, 0.24373644717117546, -0.09160427145877607, -0.3772545403780487, 0.1315753055897409, -0.22629174210478983, -0.05438763521092899, -0.15127245022882108, -0.1359782860119849, 0.03836293671471836, 0.012140906645009423, -0.1752966653797478, -0.1827599542420017, -0.09504909037333241, -0.12761972426773127, 0.07100306934899682, -0.2426814340777284, 0.09727684990898418, -0.2714857080970998, -0.0940611479440899, -0.10620293511310537, 0.14324404448304257, 0.28758820975338134, -0.2813631666983882, 0.04779197896337192, 0.14639023102382853, 0.11846817503114135, -0.16682679982899654, 0.10153694729143141, 0.02795335837649524, -0.17684879388502792, -0.03210276788317377, -0.2709761847741484, -0.19362206911623128, 0.22894404398448945, 0.045309707759658154, 0.0861891789669796, -0.2392628016116219, -0.28462786730611933, -0.006070184368984143, 0.6466850829129945, 0.17675293182906102, 0.31651183922683757, -0.25763017461620674, -0.08330040506192816, 0.041207912653219346, 0.1113112984351821, 0.251045022658582, -0.04462335894825318, 0.24457910114321776, 0.20296547295553685, 0.31358164628900576, 0.45382106271620687, -0.20158507250767754, 0.5306100267634345, 0.04810794210749034, -0.13005245082489786, -0.09139006183787032, -0.14582900061107568, 0.020996641611808056, -0.14332154466261185, -0.04139121868407052, 0.02125749771278781, -0.013744309277700002, 0.08809539680303184, -0.29549280108547404, 0.17638559927879427, 0.15269473560768163, 0.08281396364656617, 0.10214402499948542, 0.003951853216418427, 0.10438672745448417, -0.24631706874652023, 0.06384441114449821, 1.013876710059971, 0.36310737994077025, 0.006206444697954613, 0.13622153136016982, 0.7131378396864791, 0.017320389474411436, 0.19399647127037992, 0.02762480474186888, -0.3693802168454986, -0.019644320456698946, 0.06003644199850174, 0.2759550402003683, -0.07639498286361256, 0.2477201741127626, 1.3147681132403288, 0.33697458798723695, 0.3010330230831741, 0.25617268175979263, -0.37660062444002, -0.5941888467634495, -0.29782796321859356, -0.2769463303515355, -0.28637525879224623, -0.20831205240081302, -0.24477105907522517, -0.34253374421051636, -0.199541161682015, -0.32595595515789283, -0.2302875878127716, 0.08560556362676712, -0.3878214547820134, -0.5058238113672231, -0.22618745490878714, 0.09365186983103856, -0.35975854797910656, -0.1650524973541737, -0.3498147488147403, -0.18379600969255178, -0.38709405386736434, -0.18512697093221422, -0.2079510468506571, 0.30247633006998914, -0.35538795385846345, -0.2235476567198156, -0.2694882457989207, -0.5762589605080378, -0.25734566120269753, -0.2769590479684922, -0.395245163266179, 0.19795897699483528, -0.30152482056664753, 0.02217910972996001, -0.23216593329490776, -0.22751817447639783, -0.05235510718295051, -0.38538775909254824, 0.33543169104214726, -0.36125954845147695, -0.2434429843059755, -0.31726890413412623, 0.1309076334205687, -0.2157889779115455, 0.0848733645469107, -0.3960701875007753, -0.1505277812511249, -0.35352015650176916, -0.0035279318693492634, -0.04886652528866504, 0.17078068564645993, -0.5828004302775871, 0.16153118081473652, -0.29899237800016615, -0.38708065936281355, -0.07205240177032853, -0.3171304120809924, 0.031755071552310776, -0.1558048616641347, -0.24931799816210656, -0.1865393384907022, -0.270608491591598, -0.37481059614730533, -0.5366313852292643, -0.23629077100379647, -0.07888572622073915, -0.12853002149585688, -0.3879381666899762, 0.07851128874099945, -0.20820285513306672, 0.10789463841868839, -0.4896192531058965, -0.14564895689685803, -0.0789696415030495, -0.2558694281191222, -0.5110804911487636, -0.359880632150219, -0.026204164167704994, -0.2742811480086202, -0.24332990843101876, -0.3122763359024213, -0.016892884914252004, -0.39152307542016207, -0.02142572648530385, -0.14210438437413997, -0.2672671641875652, -0.10543260984047904, -0.3027531664911054, -0.42955789455220394, -0.11761727549136698, -0.3282846222080529, -0.10246884330949628, -0.04645154911831825, -0.4971381038268014, -0.18231977437036753, -0.27848768416942543, -0.030612577721149812, -0.394214440163515, -0.03801861896694285, -0.24271628583864688, -0.16945131905663488, -0.3600055762069025, -0.02222635070602503, -0.16585970079832604, -0.3400639854841958, -0.3270060896534434, 0.12152897197680503, -0.33408192262221176, 0.08297818905337946, -0.17162828169244074, -0.2861115433960258, -0.06263757598714685, -0.20003257752916145, -0.13589699956332035, -0.26834262258101166, 0.4800329295804152, 0.03284139091116554, -0.4714790304172911, -0.12942993390971885, -0.13804394817196786, -0.36093430647577196, -0.13419507534043357, -0.32157384747185197, -0.17163008088823775, 0.06109129490037287, -0.5582711668190996, -0.32561367966920135, -0.25733228493989496, -0.03223763610281233, 0.1268530581704034, 0.051613982477132565, -0.11134364332190706, -0.39797153461318185, 0.0077910634565434254, -0.23801330873081208, -0.31649838293785076, -0.010462043987199627, -0.3085229294005843, -0.2711970147308782, -0.18094232967496263, -0.4566992709940337, -0.27557315607859706, -0.29426799920112484, -0.11022451185472423, -0.1421129399159184, 0.08073115917783702, 0.0223304851147898, -0.017770981461913072, -0.15288311371797766, 0.10169296257223848, -0.4694691368896006, -0.06958090133377832, -0.020869044113887195, -0.34811639942396205, -0.5731147043860585, -0.3094925055606984, -0.36813315825548615, -0.41924746693162696, -0.3228673738129206, -0.11291037249815666, -0.21171019393658635, -0.2502002372726347, -0.2335536327746887, -0.8831037417893857, -0.7076865565937176, -0.556172541577707, -0.6173268685897587, -0.5231378735081289, -0.47519279587660734, -0.31477730609584686, -0.5546966547409126, -0.18384541832975745, -0.5903559517590773, -0.005140134376542215, -1.026896480275398, -0.5665797619962976, -0.47863629224560644, -0.266077186434957, -0.6082830501593712, -0.9225103130493242, -0.6750371252026419, -0.5639728095045039, -0.6803557033929807, -0.723078621499432, -0.5598896321416061, -0.48261459346866703, -0.8131519974729736, -0.42765606079674595, -0.2699248697013844, -0.416592814605775, -0.49580295879481195, -0.5683556889138419, -0.6633906407811937, -0.5058492609012416, -0.7975666967612813, -0.6114799871106701, -0.4886244994559688, -0.5768217234526194, -0.7773184419340876, -0.524267698261664, -0.6847373082172339, -0.6971056561973684, -0.259985139883766, -0.0405692287000178, -0.3665092881398002, -0.4724403245070071, -0.6013962984533909, -0.602393957006134, -0.23321366199099142, -0.5605855199183112, -0.33037695760377983, -0.4106056777168002, -0.3722594930332258, -0.3794595902337348, -0.558453742489078, -0.492682721049176, -0.21443965136471838, -0.4496427511745167, -0.5648723955531301, -0.3526673364631982, -0.10833184284963536, -0.45247173962340126, -0.1634513898546947, -0.4023889808937276, -0.20000578701546717, -0.5385716064349176, -0.4163548612508257, -0.3769159441219744, -0.4547575948234422, -0.3154810359502415, -0.6486627797297444, -0.4368618312873011, -0.4128972563293589, -0.49931341504043236, -0.42059153102979296, -0.41895237627590615, -0.34660001272221236, -0.36373323800842766, -0.3203060521473308, -0.3819018145179103, -0.43299217439420223, -0.4360951851098237, -0.42538566179410686, -0.3605745619392798, -0.5967686202799685, -0.6370426800024324, -0.5833999322978092, -0.49912396771156103, -0.460074827000197, -0.3276126621288543, -0.5046311033949146, -0.2786460514261331, -0.40860078334574834, -0.04323051555764485, -0.06471245788753271, -0.18525944399360042, 0.07942115089383153, -0.027388741107015627, 0.2818382573234555, 0.005937416314968204, 0.1502080160671362, 0.26505765136104287, 0.21559630991501094, 0.6164814483050546, 0.11266166737291598, 0.1950857761566285, -0.35787541479162477, -0.12115708687754213, 0.4375502085106678, -0.0049257252296958445, 0.2407566498229024, 0.17723218075509034, 0.09365600803108108, 0.09063822233463055, -0.5025560290174012, 0.052732760155839435, -0.0016071073343456217, -0.19211967506826844, 0.2575479518944506, -0.010751540421370658, 0.43504972603645187, -0.09103332202891411, 0.13343826202867717, 0.4406795180254581, -0.02901686642693085, 0.6020626396087647, -0.08357028905845756, -0.08257809580557142, 0.1121835706360988, -0.5564803852129067, 0.2188250666685245, 0.2556263756388762, 0.40945934829940184, -0.16089696451546098, 0.09844869217585317]}],\n",
              "                        {\"margin\": {\"b\": 0, \"l\": 0, \"r\": 0, \"t\": 0}, \"scene\": {\"xaxis\": {\"title\": {\"text\": \"Principal component 1\"}}, \"yaxis\": {\"title\": {\"text\": \"Principal component 2\"}}, \"zaxis\": {\"title\": {\"text\": \"Principal component 3\"}}}, \"showlegend\": true, \"template\": {\"data\": {\"bar\": [{\"error_x\": {\"color\": \"#2a3f5f\"}, \"error_y\": {\"color\": \"#2a3f5f\"}, \"marker\": {\"line\": {\"color\": \"#E5ECF6\", \"width\": 0.5}}, \"type\": \"bar\"}], \"barpolar\": [{\"marker\": {\"line\": {\"color\": \"#E5ECF6\", \"width\": 0.5}}, \"type\": \"barpolar\"}], \"carpet\": [{\"aaxis\": {\"endlinecolor\": \"#2a3f5f\", \"gridcolor\": \"white\", \"linecolor\": \"white\", \"minorgridcolor\": \"white\", \"startlinecolor\": \"#2a3f5f\"}, \"baxis\": {\"endlinecolor\": \"#2a3f5f\", \"gridcolor\": \"white\", \"linecolor\": \"white\", \"minorgridcolor\": \"white\", \"startlinecolor\": \"#2a3f5f\"}, \"type\": \"carpet\"}], \"choropleth\": [{\"colorbar\": {\"outlinewidth\": 0, \"ticks\": \"\"}, \"type\": \"choropleth\"}], \"contour\": [{\"colorbar\": {\"outlinewidth\": 0, \"ticks\": \"\"}, \"colorscale\": [[0.0, \"#0d0887\"], [0.1111111111111111, \"#46039f\"], [0.2222222222222222, \"#7201a8\"], [0.3333333333333333, \"#9c179e\"], [0.4444444444444444, \"#bd3786\"], [0.5555555555555556, \"#d8576b\"], [0.6666666666666666, \"#ed7953\"], [0.7777777777777778, \"#fb9f3a\"], [0.8888888888888888, \"#fdca26\"], [1.0, \"#f0f921\"]], \"type\": \"contour\"}], \"contourcarpet\": [{\"colorbar\": {\"outlinewidth\": 0, \"ticks\": \"\"}, \"type\": \"contourcarpet\"}], \"heatmap\": [{\"colorbar\": {\"outlinewidth\": 0, \"ticks\": \"\"}, \"colorscale\": [[0.0, \"#0d0887\"], [0.1111111111111111, \"#46039f\"], [0.2222222222222222, \"#7201a8\"], [0.3333333333333333, \"#9c179e\"], [0.4444444444444444, \"#bd3786\"], [0.5555555555555556, \"#d8576b\"], [0.6666666666666666, \"#ed7953\"], [0.7777777777777778, \"#fb9f3a\"], [0.8888888888888888, \"#fdca26\"], [1.0, \"#f0f921\"]], \"type\": \"heatmap\"}], \"heatmapgl\": [{\"colorbar\": {\"outlinewidth\": 0, \"ticks\": \"\"}, \"colorscale\": [[0.0, \"#0d0887\"], [0.1111111111111111, \"#46039f\"], [0.2222222222222222, \"#7201a8\"], [0.3333333333333333, \"#9c179e\"], [0.4444444444444444, \"#bd3786\"], [0.5555555555555556, \"#d8576b\"], [0.6666666666666666, \"#ed7953\"], [0.7777777777777778, \"#fb9f3a\"], [0.8888888888888888, \"#fdca26\"], [1.0, \"#f0f921\"]], \"type\": \"heatmapgl\"}], \"histogram\": [{\"marker\": {\"colorbar\": {\"outlinewidth\": 0, \"ticks\": \"\"}}, \"type\": \"histogram\"}], \"histogram2d\": [{\"colorbar\": {\"outlinewidth\": 0, \"ticks\": \"\"}, \"colorscale\": [[0.0, \"#0d0887\"], [0.1111111111111111, \"#46039f\"], [0.2222222222222222, \"#7201a8\"], [0.3333333333333333, \"#9c179e\"], [0.4444444444444444, \"#bd3786\"], [0.5555555555555556, \"#d8576b\"], [0.6666666666666666, \"#ed7953\"], [0.7777777777777778, \"#fb9f3a\"], [0.8888888888888888, \"#fdca26\"], [1.0, \"#f0f921\"]], \"type\": \"histogram2d\"}], \"histogram2dcontour\": [{\"colorbar\": {\"outlinewidth\": 0, \"ticks\": \"\"}, \"colorscale\": [[0.0, \"#0d0887\"], [0.1111111111111111, \"#46039f\"], [0.2222222222222222, \"#7201a8\"], [0.3333333333333333, \"#9c179e\"], [0.4444444444444444, \"#bd3786\"], [0.5555555555555556, \"#d8576b\"], [0.6666666666666666, \"#ed7953\"], [0.7777777777777778, \"#fb9f3a\"], [0.8888888888888888, \"#fdca26\"], [1.0, \"#f0f921\"]], \"type\": \"histogram2dcontour\"}], \"mesh3d\": [{\"colorbar\": {\"outlinewidth\": 0, \"ticks\": \"\"}, \"type\": \"mesh3d\"}], \"parcoords\": [{\"line\": {\"colorbar\": {\"outlinewidth\": 0, \"ticks\": \"\"}}, \"type\": \"parcoords\"}], \"pie\": [{\"automargin\": true, \"type\": \"pie\"}], \"scatter\": [{\"marker\": {\"colorbar\": {\"outlinewidth\": 0, \"ticks\": \"\"}}, \"type\": \"scatter\"}], \"scatter3d\": [{\"line\": {\"colorbar\": {\"outlinewidth\": 0, \"ticks\": \"\"}}, \"marker\": {\"colorbar\": {\"outlinewidth\": 0, \"ticks\": \"\"}}, \"type\": \"scatter3d\"}], \"scattercarpet\": [{\"marker\": {\"colorbar\": {\"outlinewidth\": 0, \"ticks\": \"\"}}, \"type\": \"scattercarpet\"}], \"scattergeo\": [{\"marker\": {\"colorbar\": {\"outlinewidth\": 0, \"ticks\": \"\"}}, \"type\": \"scattergeo\"}], \"scattergl\": [{\"marker\": {\"colorbar\": {\"outlinewidth\": 0, \"ticks\": \"\"}}, \"type\": \"scattergl\"}], \"scattermapbox\": [{\"marker\": {\"colorbar\": {\"outlinewidth\": 0, \"ticks\": \"\"}}, \"type\": \"scattermapbox\"}], \"scatterpolar\": [{\"marker\": {\"colorbar\": {\"outlinewidth\": 0, \"ticks\": \"\"}}, \"type\": \"scatterpolar\"}], \"scatterpolargl\": [{\"marker\": {\"colorbar\": {\"outlinewidth\": 0, \"ticks\": \"\"}}, \"type\": \"scatterpolargl\"}], \"scatterternary\": [{\"marker\": {\"colorbar\": {\"outlinewidth\": 0, \"ticks\": \"\"}}, \"type\": \"scatterternary\"}], \"surface\": [{\"colorbar\": {\"outlinewidth\": 0, \"ticks\": \"\"}, \"colorscale\": [[0.0, \"#0d0887\"], [0.1111111111111111, \"#46039f\"], [0.2222222222222222, \"#7201a8\"], [0.3333333333333333, \"#9c179e\"], [0.4444444444444444, \"#bd3786\"], [0.5555555555555556, \"#d8576b\"], [0.6666666666666666, \"#ed7953\"], [0.7777777777777778, \"#fb9f3a\"], [0.8888888888888888, \"#fdca26\"], [1.0, \"#f0f921\"]], \"type\": \"surface\"}], \"table\": [{\"cells\": {\"fill\": {\"color\": \"#EBF0F8\"}, \"line\": {\"color\": \"white\"}}, \"header\": {\"fill\": {\"color\": \"#C8D4E3\"}, \"line\": {\"color\": \"white\"}}, \"type\": \"table\"}]}, \"layout\": {\"annotationdefaults\": {\"arrowcolor\": \"#2a3f5f\", \"arrowhead\": 0, \"arrowwidth\": 1}, \"coloraxis\": {\"colorbar\": {\"outlinewidth\": 0, \"ticks\": \"\"}}, \"colorscale\": {\"diverging\": [[0, \"#8e0152\"], [0.1, \"#c51b7d\"], [0.2, \"#de77ae\"], [0.3, \"#f1b6da\"], [0.4, \"#fde0ef\"], [0.5, \"#f7f7f7\"], [0.6, \"#e6f5d0\"], [0.7, \"#b8e186\"], [0.8, \"#7fbc41\"], [0.9, \"#4d9221\"], [1, \"#276419\"]], \"sequential\": [[0.0, \"#0d0887\"], [0.1111111111111111, \"#46039f\"], [0.2222222222222222, \"#7201a8\"], [0.3333333333333333, \"#9c179e\"], [0.4444444444444444, \"#bd3786\"], [0.5555555555555556, \"#d8576b\"], [0.6666666666666666, \"#ed7953\"], [0.7777777777777778, \"#fb9f3a\"], [0.8888888888888888, \"#fdca26\"], [1.0, \"#f0f921\"]], \"sequentialminus\": [[0.0, \"#0d0887\"], [0.1111111111111111, \"#46039f\"], [0.2222222222222222, \"#7201a8\"], [0.3333333333333333, \"#9c179e\"], [0.4444444444444444, \"#bd3786\"], [0.5555555555555556, \"#d8576b\"], [0.6666666666666666, \"#ed7953\"], [0.7777777777777778, \"#fb9f3a\"], [0.8888888888888888, \"#fdca26\"], [1.0, \"#f0f921\"]]}, \"colorway\": [\"#636efa\", \"#EF553B\", \"#00cc96\", \"#ab63fa\", \"#FFA15A\", \"#19d3f3\", \"#FF6692\", \"#B6E880\", \"#FF97FF\", \"#FECB52\"], \"font\": {\"color\": \"#2a3f5f\"}, \"geo\": {\"bgcolor\": \"white\", \"lakecolor\": \"white\", \"landcolor\": \"#E5ECF6\", \"showlakes\": true, \"showland\": true, \"subunitcolor\": \"white\"}, \"hoverlabel\": {\"align\": \"left\"}, \"hovermode\": \"closest\", \"mapbox\": {\"style\": \"light\"}, \"paper_bgcolor\": \"white\", \"plot_bgcolor\": \"#E5ECF6\", \"polar\": {\"angularaxis\": {\"gridcolor\": \"white\", \"linecolor\": \"white\", \"ticks\": \"\"}, \"bgcolor\": \"#E5ECF6\", \"radialaxis\": {\"gridcolor\": \"white\", \"linecolor\": \"white\", \"ticks\": \"\"}}, \"scene\": {\"xaxis\": {\"backgroundcolor\": \"#E5ECF6\", \"gridcolor\": \"white\", \"gridwidth\": 2, \"linecolor\": \"white\", \"showbackground\": true, \"ticks\": \"\", \"zerolinecolor\": \"white\"}, \"yaxis\": {\"backgroundcolor\": \"#E5ECF6\", \"gridcolor\": \"white\", \"gridwidth\": 2, \"linecolor\": \"white\", \"showbackground\": true, \"ticks\": \"\", \"zerolinecolor\": \"white\"}, \"zaxis\": {\"backgroundcolor\": \"#E5ECF6\", \"gridcolor\": \"white\", \"gridwidth\": 2, \"linecolor\": \"white\", \"showbackground\": true, \"ticks\": \"\", \"zerolinecolor\": \"white\"}}, \"shapedefaults\": {\"line\": {\"color\": \"#2a3f5f\"}}, \"ternary\": {\"aaxis\": {\"gridcolor\": \"white\", \"linecolor\": \"white\", \"ticks\": \"\"}, \"baxis\": {\"gridcolor\": \"white\", \"linecolor\": \"white\", \"ticks\": \"\"}, \"bgcolor\": \"#E5ECF6\", \"caxis\": {\"gridcolor\": \"white\", \"linecolor\": \"white\", \"ticks\": \"\"}}, \"title\": {\"x\": 0.05}, \"xaxis\": {\"automargin\": true, \"gridcolor\": \"white\", \"linecolor\": \"white\", \"ticks\": \"\", \"title\": {\"standoff\": 15}, \"zerolinecolor\": \"white\", \"zerolinewidth\": 2}, \"yaxis\": {\"automargin\": true, \"gridcolor\": \"white\", \"linecolor\": \"white\", \"ticks\": \"\", \"title\": {\"standoff\": 15}, \"zerolinecolor\": \"white\", \"zerolinewidth\": 2}}}},\n",
              "                        {\"responsive\": true}\n",
              "                    ).then(function(){\n",
              "                            \n",
              "var gd = document.getElementById('5d835ce4-d9c2-48db-937e-809ec7e608a9');\n",
              "var x = new MutationObserver(function (mutations, observer) {{\n",
              "        var display = window.getComputedStyle(gd).display;\n",
              "        if (!display || display === 'none') {{\n",
              "            console.log([gd, 'removed!']);\n",
              "            Plotly.purge(gd);\n",
              "            observer.disconnect();\n",
              "        }}\n",
              "}});\n",
              "\n",
              "// Listen for the removal of the full notebook cells\n",
              "var notebookContainer = gd.closest('#notebook-container');\n",
              "if (notebookContainer) {{\n",
              "    x.observe(notebookContainer, {childList: true});\n",
              "}}\n",
              "\n",
              "// Listen for the clearing of the current output cell\n",
              "var outputEl = gd.closest('.output');\n",
              "if (outputEl) {{\n",
              "    x.observe(outputEl, {childList: true});\n",
              "}}\n",
              "\n",
              "                        })\n",
              "                };\n",
              "                \n",
              "            </script>\n",
              "        </div>\n",
              "</body>\n",
              "</html>"
            ]
          },
          "metadata": {
            "tags": []
          }
        }
      ]
    },
    {
      "cell_type": "markdown",
      "metadata": {
        "id": "aC8yQ79AdHJg",
        "colab_type": "text"
      },
      "source": [
        "## Train+Test split"
      ]
    },
    {
      "cell_type": "code",
      "metadata": {
        "id": "JJP9Cdym9BJG",
        "colab_type": "code",
        "colab": {}
      },
      "source": [
        "seed = 13\n",
        "\n",
        "X_train = df[\"Processed\"].values\n",
        "X_train = df[\"Processed_NoStopwords\"].values\n",
        "\n",
        "X_train, X_test, Y_train, Y_test = train_test_split(\n",
        "    X_train, Y_train, test_size=0.2, stratify=Y_train, random_state=seed)"
      ],
      "execution_count": 0,
      "outputs": []
    },
    {
      "cell_type": "markdown",
      "metadata": {
        "id": "VjWntUpZhkHN",
        "colab_type": "text"
      },
      "source": [
        "## Test some `sklearn` machine-learning models"
      ]
    },
    {
      "cell_type": "code",
      "metadata": {
        "id": "14y99DfYdMcW",
        "colab_type": "code",
        "outputId": "3a2ccdc6-5661-46d3-c767-1a8bf7bca602",
        "colab": {
          "base_uri": "https://localhost:8080/",
          "height": 124
        }
      },
      "source": [
        "from sklearn import metrics\n",
        "from sklearn.feature_selection import SelectKBest, chi2, SelectFromModel\n",
        "from sklearn.naive_bayes import BernoulliNB\n",
        "from sklearn.linear_model import SGDClassifier, Perceptron, LogisticRegression\n",
        "from sklearn.ensemble import RandomForestClassifier\n",
        "from sklearn.pipeline import Pipeline\n",
        "from sklearn.svm import LinearSVC\n",
        "\n",
        "\n",
        "def benchmark(clf, X_train, y_train, X_test, y_test, verbose=True):\n",
        "  if verbose:\n",
        "      print('_' * 80)\n",
        "      print(\"Training: \")\n",
        "      print(clf)\n",
        "\n",
        "  clf.fit(X_train, y_train)\n",
        "  pred = clf.predict(X_test)\n",
        "  score = metrics.accuracy_score(y_test, pred)\n",
        "\n",
        "  if verbose:\n",
        "    print(\"accuracy:   %0.3f\" % score)\n",
        "\n",
        "    if hasattr(clf, 'coef_'):\n",
        "        print(\"dimensionality: %d\" % clf.coef_.shape[1])\n",
        "\n",
        "        if feature_names is not None:\n",
        "            print(\"top 15 keywords per class:\")\n",
        "            for i, label in enumerate(target_names):\n",
        "                top15 = np.argsort(clf.coef_[i])[-15:]\n",
        "                print(\"%s: %s\" % (label, \" | \".join(feature_names[top15])))\n",
        "        print()\n",
        "\n",
        "    print(\"classification report:\")\n",
        "    print(metrics.classification_report(y_test, pred,\n",
        "                                        target_names=target_names))\n",
        "\n",
        "    print()\n",
        "  clf_descr = str(clf).split('(')[0]\n",
        "  return clf_descr, score\n",
        "\n",
        "vectorizer = TfidfVectorizer(sublinear_tf=True, max_df=0.5, ngram_range=(1, 3))\n",
        "X_train_tfidf = vectorizer.fit_transform(X_train) \n",
        "X_test_tfidf = vectorizer.transform(X_test)\n",
        "feature_names = vectorizer.get_feature_names()\n",
        "target_names = list(map(lambda x : x[0], sorted(mapping.items(), key=lambda x : x[1])))\n",
        "\n",
        "# Extracting 'select_chi2' best features by a chi-squared test, \n",
        "# if select_chi2 is set to number (k best features will be selected)\n",
        "select_chi2 = None\n",
        "if select_chi2:\n",
        "  ch2 = SelectKBest(chi2, k=select_chi2)\n",
        "  X_train_tfidf = ch2.fit_transform(X_train_tfidf, Y_train)\n",
        "  X_test_tfidf = ch2.transform(X_test_tfidf)\n",
        "  feature_names = [feature_names[i] for i\n",
        "                    in ch2.get_support(indices=True)]\n",
        "\n",
        "feature_names = np.asarray(feature_names) if feature_names else None\n",
        "\n",
        "for clf, name in (\n",
        "  (Perceptron(max_iter=50), \"Perceptron\"),\n",
        "  (LogisticRegression(), \"Logistic Regression\"),\n",
        "  (RandomForestClassifier(), \"Random forest\"),\n",
        "  (SGDClassifier(alpha=.0001, max_iter=50, penalty=\"elasticnet\"), \"SGD\"),\n",
        "  (BernoulliNB(alpha=.01), \"Bernoulli Naive Bayes\"),\n",
        "  (LinearSVC(), \"SVC\")\n",
        "  ):\n",
        "  name, score = benchmark(clf, \n",
        "                        X_train_tfidf, Y_train, X_test_tfidf, Y_test,\n",
        "                        verbose=False)\n",
        "  print(name, score)\n"
      ],
      "execution_count": 424,
      "outputs": [
        {
          "output_type": "stream",
          "text": [
            "Perceptron 0.6309794988610479\n",
            "LogisticRegression 0.659832953682612\n",
            "RandomForestClassifier 0.6438876233864844\n",
            "SGDClassifier 0.6507213363705391\n",
            "BernoulliNB 0.6340167046317388\n",
            "LinearSVC 0.6545178435839029\n"
          ],
          "name": "stdout"
        }
      ]
    },
    {
      "cell_type": "markdown",
      "metadata": {
        "colab_type": "text",
        "id": "Mjois0-ISzPu"
      },
      "source": [
        "## GloVe + LSTM (62%)"
      ]
    },
    {
      "cell_type": "code",
      "metadata": {
        "colab_type": "code",
        "outputId": "99d96674-0ab2-4feb-c86c-f9d320d0f40b",
        "id": "XvPMNi0lSzPw",
        "colab": {
          "base_uri": "https://localhost:8080/",
          "height": 99
        }
      },
      "source": [
        "from keras.preprocessing.text import Tokenizer\n",
        "\n",
        "train_tokenizer = Tokenizer()\n",
        "train_tokenizer.fit_on_texts(X_train)"
      ],
      "execution_count": 437,
      "outputs": [
        {
          "output_type": "stream",
          "text": [
            "Using TensorFlow backend.\n"
          ],
          "name": "stderr"
        },
        {
          "output_type": "display_data",
          "data": {
            "text/html": [
              "<p style=\"color: red;\">\n",
              "The default version of TensorFlow in Colab will soon switch to TensorFlow 2.x.<br>\n",
              "We recommend you <a href=\"https://www.tensorflow.org/guide/migrate\" target=\"_blank\">upgrade</a> now \n",
              "or ensure your notebook will continue to use TensorFlow 1.x via the <code>%tensorflow_version 1.x</code> magic:\n",
              "<a href=\"https://colab.research.google.com/notebooks/tensorflow_version.ipynb\" target=\"_blank\">more info</a>.</p>\n"
            ],
            "text/plain": [
              "<IPython.core.display.HTML object>"
            ]
          },
          "metadata": {
            "tags": []
          }
        }
      ]
    },
    {
      "cell_type": "code",
      "metadata": {
        "id": "jv5v9_GMIs7r",
        "colab_type": "code",
        "outputId": "bcc82c6d-0812-49a0-f8ad-d44110dc180c",
        "colab": {
          "base_uri": "https://localhost:8080/",
          "height": 35
        }
      },
      "source": [
        "max_lenght = 0\n",
        "for line in X_train:\n",
        "    max_lenght = max(max_lenght, len(line.split()))\n",
        "\n",
        "max_lenght"
      ],
      "execution_count": 438,
      "outputs": [
        {
          "output_type": "execute_result",
          "data": {
            "text/plain": [
              "48"
            ]
          },
          "metadata": {
            "tags": []
          },
          "execution_count": 438
        }
      ]
    },
    {
      "cell_type": "code",
      "metadata": {
        "id": "6qCRD-aoI6TQ",
        "colab_type": "code",
        "colab": {}
      },
      "source": [
        "max_lenght = 128"
      ],
      "execution_count": 0,
      "outputs": []
    },
    {
      "cell_type": "code",
      "metadata": {
        "id": "BifjMAg-7C0i",
        "colab_type": "code",
        "outputId": "648d2f3e-9d16-4ca8-e9de-5980003ad60a",
        "colab": {
          "base_uri": "https://localhost:8080/",
          "height": 259
        }
      },
      "source": [
        "import os\n",
        "from keras.layers import Embedding\n",
        "from keras.initializers import Constant\n",
        "\n",
        "embeddings_index = {}\n",
        "with open(os.path.join(PATH_TO_DIR, 'glove.twitter.27B.100d.txt')) as f:\n",
        "    for line in f:\n",
        "        word, coefs = line.split(maxsplit=1)\n",
        "        coefs = np.fromstring(coefs, 'f', sep=' ')\n",
        "        embeddings_index[word] = coefs\n",
        "\n",
        "EMBEDDING_DIM = 100\n",
        "vocab_size = len(train_tokenizer.word_index) + 1\n",
        "embedding_matrix = np.zeros((vocab_size, EMBEDDING_DIM))\n",
        "\n",
        "for word, idx in train_tokenizer.word_index.items():\n",
        "    embedding_vector = embeddings_index.get(word)\n",
        "    if embedding_vector is not None:\n",
        "        embedding_matrix[idx] = embedding_vector\n",
        "\n",
        "embedding_layer_pretrained = Embedding(vocab_size,\n",
        "                            EMBEDDING_DIM,\n",
        "                            embeddings_initializer=Constant(embedding_matrix),\n",
        "                            input_length=max_lenght,\n",
        "                            trainable=False,\n",
        "                            mask_zero=True)"
      ],
      "execution_count": 440,
      "outputs": [
        {
          "output_type": "error",
          "ename": "FileNotFoundError",
          "evalue": "ignored",
          "traceback": [
            "\u001b[0;31m---------------------------------------------------------------------------\u001b[0m",
            "\u001b[0;31mFileNotFoundError\u001b[0m                         Traceback (most recent call last)",
            "\u001b[0;32m<ipython-input-440-cc17dcaae665>\u001b[0m in \u001b[0;36m<module>\u001b[0;34m()\u001b[0m\n\u001b[1;32m      4\u001b[0m \u001b[0;34m\u001b[0m\u001b[0m\n\u001b[1;32m      5\u001b[0m \u001b[0membeddings_index\u001b[0m \u001b[0;34m=\u001b[0m \u001b[0;34m{\u001b[0m\u001b[0;34m}\u001b[0m\u001b[0;34m\u001b[0m\u001b[0;34m\u001b[0m\u001b[0m\n\u001b[0;32m----> 6\u001b[0;31m \u001b[0;32mwith\u001b[0m \u001b[0mopen\u001b[0m\u001b[0;34m(\u001b[0m\u001b[0mos\u001b[0m\u001b[0;34m.\u001b[0m\u001b[0mpath\u001b[0m\u001b[0;34m.\u001b[0m\u001b[0mjoin\u001b[0m\u001b[0;34m(\u001b[0m\u001b[0mPATH_TO_DIR\u001b[0m\u001b[0;34m,\u001b[0m \u001b[0;34m'glove.twitter.27B.100d.txt'\u001b[0m\u001b[0;34m)\u001b[0m\u001b[0;34m)\u001b[0m \u001b[0;32mas\u001b[0m \u001b[0mf\u001b[0m\u001b[0;34m:\u001b[0m\u001b[0;34m\u001b[0m\u001b[0;34m\u001b[0m\u001b[0m\n\u001b[0m\u001b[1;32m      7\u001b[0m     \u001b[0;32mfor\u001b[0m \u001b[0mline\u001b[0m \u001b[0;32min\u001b[0m \u001b[0mf\u001b[0m\u001b[0;34m:\u001b[0m\u001b[0;34m\u001b[0m\u001b[0;34m\u001b[0m\u001b[0m\n\u001b[1;32m      8\u001b[0m         \u001b[0mword\u001b[0m\u001b[0;34m,\u001b[0m \u001b[0mcoefs\u001b[0m \u001b[0;34m=\u001b[0m \u001b[0mline\u001b[0m\u001b[0;34m.\u001b[0m\u001b[0msplit\u001b[0m\u001b[0;34m(\u001b[0m\u001b[0mmaxsplit\u001b[0m\u001b[0;34m=\u001b[0m\u001b[0;36m1\u001b[0m\u001b[0;34m)\u001b[0m\u001b[0;34m\u001b[0m\u001b[0;34m\u001b[0m\u001b[0m\n",
            "\u001b[0;31mFileNotFoundError\u001b[0m: [Errno 2] No such file or directory: '/content/drive/My Drive/000 STUDIA/000 EKSPLORACJA MASYWNYCH DANYCH/glove.twitter.27B.100d.txt'"
          ]
        }
      ]
    },
    {
      "cell_type": "code",
      "metadata": {
        "id": "tXCnPcHcJMIz",
        "colab_type": "code",
        "outputId": "e9f1bd42-3fe1-47fb-9802-fb9dc0bc1b0e",
        "colab": {
          "base_uri": "https://localhost:8080/",
          "height": 33
        }
      },
      "source": [
        "from keras.preprocessing.sequence import pad_sequences\n",
        "\n",
        "X_train_seq = train_tokenizer.texts_to_sequences(X_train)\n",
        "X_train_seq = pad_sequences(X_train_seq, maxlen=max_lenght, padding='pre', value=0)\n",
        "\n",
        "X_valid_seq = train_tokenizer.texts_to_sequences(X_valid)\n",
        "X_valid_seq = pad_sequences(X_valid_seq, maxlen=max_lenght, padding='pre', value=0)\n",
        "\n",
        "X_test_seq = train_tokenizer.texts_to_sequences(X_test)\n",
        "X_test_seq = pad_sequences(X_test_seq, maxlen=max_lenght, padding='pre', value=0)\n",
        "\n",
        "X_train_seq.shape, X_valid_seq.shape, X_test_seq.shape"
      ],
      "execution_count": 0,
      "outputs": [
        {
          "output_type": "execute_result",
          "data": {
            "text/plain": [
              "((4217, 128), (1055, 128), (1318, 128))"
            ]
          },
          "metadata": {
            "tags": []
          },
          "execution_count": 87
        }
      ]
    },
    {
      "cell_type": "code",
      "metadata": {
        "id": "w8NtrmL6KVbD",
        "colab_type": "code",
        "outputId": "649520c1-731c-4897-f488-b91fcebe2973",
        "colab": {
          "base_uri": "https://localhost:8080/",
          "height": 217
        }
      },
      "source": [
        "X_train_seq[0]    # exemplary sequence"
      ],
      "execution_count": 0,
      "outputs": [
        {
          "output_type": "execute_result",
          "data": {
            "text/plain": [
              "array([   0,    0,    0,    0,    0,    0,    0,    0,    0,    0,    0,\n",
              "          0,    0,    0,    0,    0,    0,    0,    0,    0,    0,    0,\n",
              "          0,    0,    0,    0,    0,    0,    0,    0,    0,    0,    0,\n",
              "          0,    0,    0,    0,    0,    0,    0,    0,    0,    0,    0,\n",
              "          0,    0,    0,    0,    0,    0,    0,    0,    0,    0,    0,\n",
              "          0,    0,    0,    0,    0,    0,    0,    0,    0,    0,    0,\n",
              "          0,    0,    0,    0,    0,    0,    0,    0,    0,    0,    0,\n",
              "          0,    0,    0,    0,    0,    0,    0,    0,    0,    0,    0,\n",
              "          0,    0,    0,    0,    0,    0,    0,    0,    0,    0,    0,\n",
              "          0,    0,    0,    0,    0,    0,    0,    0,    0,    0,    0,\n",
              "          0,  305,   13,    1,  692, 4511,   24,   91, 1080,   13,    1,\n",
              "        692,  173,  186,  100,  357, 4512,   48], dtype=int32)"
            ]
          },
          "metadata": {
            "tags": []
          },
          "execution_count": 89
        }
      ]
    },
    {
      "cell_type": "code",
      "metadata": {
        "id": "Xax7qfToKdEw",
        "colab_type": "code",
        "colab": {}
      },
      "source": [
        "def get_model_checkpoint(name):\n",
        "    return ModelCheckpoint(PATH_TO_DIR + 'models/' + name,\n",
        "                     monitor='val_loss',\n",
        "                     mode='min',\n",
        "                     verbose=1,\n",
        "                     save_best_only=True)"
      ],
      "execution_count": 0,
      "outputs": []
    },
    {
      "cell_type": "code",
      "metadata": {
        "id": "0P3YoJ4fKmX1",
        "colab_type": "code",
        "colab": {}
      },
      "source": [
        "def plot_history(history):\n",
        "    plt.figure(figsize=(12, 12))\n",
        "    plt.plot(history.history['loss'])\n",
        "    plt.plot(history.history['val_loss'])\n",
        "    plt.title('Loss')\n",
        "    plt.legend(['train', 'val'], loc='upper left')\n",
        "    plt.show()\n",
        "\n",
        "    plt.figure(figsize=(12, 12))\n",
        "    plt.plot(history.history['acc'])\n",
        "    plt.plot(history.history['val_acc'])\n",
        "    plt.title('Accuracy')\n",
        "    plt.legend(['train', 'val'], loc='upper left')\n",
        "\n",
        "    plt.show()"
      ],
      "execution_count": 0,
      "outputs": []
    },
    {
      "cell_type": "code",
      "metadata": {
        "id": "n4BGaPL0KwK7",
        "colab_type": "code",
        "colab": {}
      },
      "source": [
        "from keras.models import Sequential\n",
        "from keras.layers import *\n",
        "from keras.callbacks import ModelCheckpoint"
      ],
      "execution_count": 0,
      "outputs": []
    },
    {
      "cell_type": "code",
      "metadata": {
        "id": "g6GexXduK2gj",
        "colab_type": "code",
        "outputId": "788d48e9-ff55-47ae-c77d-21bc75b45b51",
        "colab": {
          "base_uri": "https://localhost:8080/",
          "height": 538
        }
      },
      "source": [
        "model = Sequential()\n",
        "\n",
        "model.add(embedding_layer_pretrained)\n",
        "\n",
        "model.add(LSTM(100, dropout=0.2, recurrent_dropout=0.2))\n",
        "model.add(Dense(3, activation='softmax'))\n",
        "model.summary()\n",
        "\n",
        "model.compile(optimizer='adam', loss='categorical_crossentropy', metrics=['acc'])"
      ],
      "execution_count": 0,
      "outputs": [
        {
          "output_type": "stream",
          "text": [
            "WARNING:tensorflow:From /usr/local/lib/python3.6/dist-packages/keras/backend/tensorflow_backend.py:541: The name tf.placeholder is deprecated. Please use tf.compat.v1.placeholder instead.\n",
            "\n",
            "WARNING:tensorflow:From /usr/local/lib/python3.6/dist-packages/keras/backend/tensorflow_backend.py:4432: The name tf.random_uniform is deprecated. Please use tf.random.uniform instead.\n",
            "\n",
            "WARNING:tensorflow:From /usr/local/lib/python3.6/dist-packages/keras/backend/tensorflow_backend.py:148: The name tf.placeholder_with_default is deprecated. Please use tf.compat.v1.placeholder_with_default instead.\n",
            "\n",
            "WARNING:tensorflow:From /usr/local/lib/python3.6/dist-packages/keras/backend/tensorflow_backend.py:3733: calling dropout (from tensorflow.python.ops.nn_ops) with keep_prob is deprecated and will be removed in a future version.\n",
            "Instructions for updating:\n",
            "Please use `rate` instead of `keep_prob`. Rate should be set to `rate = 1 - keep_prob`.\n",
            "WARNING:tensorflow:From /usr/local/lib/python3.6/dist-packages/keras/backend/tensorflow_backend.py:3239: where (from tensorflow.python.ops.array_ops) is deprecated and will be removed in a future version.\n",
            "Instructions for updating:\n",
            "Use tf.where in 2.0, which has the same broadcast rule as np.where\n",
            "Model: \"sequential_1\"\n",
            "_________________________________________________________________\n",
            "Layer (type)                 Output Shape              Param #   \n",
            "=================================================================\n",
            "embedding_1 (Embedding)      (None, 128, 100)          1295900   \n",
            "_________________________________________________________________\n",
            "lstm_1 (LSTM)                (None, 100)               80400     \n",
            "_________________________________________________________________\n",
            "dense_1 (Dense)              (None, 3)                 303       \n",
            "=================================================================\n",
            "Total params: 1,376,603\n",
            "Trainable params: 80,703\n",
            "Non-trainable params: 1,295,900\n",
            "_________________________________________________________________\n",
            "WARNING:tensorflow:From /usr/local/lib/python3.6/dist-packages/keras/optimizers.py:793: The name tf.train.Optimizer is deprecated. Please use tf.compat.v1.train.Optimizer instead.\n",
            "\n",
            "WARNING:tensorflow:From /usr/local/lib/python3.6/dist-packages/keras/backend/tensorflow_backend.py:3576: The name tf.log is deprecated. Please use tf.math.log instead.\n",
            "\n"
          ],
          "name": "stdout"
        }
      ]
    },
    {
      "cell_type": "code",
      "metadata": {
        "id": "rnYUw-z-ONX-",
        "colab_type": "code",
        "colab": {}
      },
      "source": [
        "def to_one_hot(data, cls=None):\n",
        "    if cls is None:\n",
        "        cls = len(np.unique(data))\n",
        "    sh = len(data)\n",
        "    hot = np.zeros((sh, cls))\n",
        "    hot[np.arange(sh), data] = 1\n",
        "    return hot"
      ],
      "execution_count": 0,
      "outputs": []
    },
    {
      "cell_type": "code",
      "metadata": {
        "id": "RDyFfjK-LUtM",
        "colab_type": "code",
        "outputId": "3c07032b-6427-414c-9830-9e669c8751af",
        "colab": {
          "base_uri": "https://localhost:8080/",
          "height": 1000
        }
      },
      "source": [
        "model_name = 'lstm_30e'\n",
        "\n",
        "history = model.fit(X_train_seq, to_one_hot(Y_train, 3), epochs=20, batch_size=64,\n",
        "                    validation_data=(X_valid_seq, to_one_hot(Y_valid, 3)), \n",
        "                    callbacks=[get_model_checkpoint('best_' + model_name + '.h5')])\n",
        "\n",
        "model.save_weights(PATH_TO_DIR + 'models/' + model_name + '.h5')"
      ],
      "execution_count": 0,
      "outputs": [
        {
          "output_type": "stream",
          "text": [
            "Train on 4217 samples, validate on 1055 samples\n",
            "Epoch 1/20\n",
            "4217/4217 [==============================] - 20s 5ms/step - loss: 0.7090 - acc: 0.6713 - val_loss: 0.7856 - val_acc: 0.6265\n",
            "\n",
            "Epoch 00001: val_loss improved from inf to 0.78557, saving model to /content/drive/My Drive/STUDIA/SEM 9/emd/models/best_lstm_20e.h5\n",
            "Epoch 2/20\n",
            "4217/4217 [==============================] - 20s 5ms/step - loss: 0.7081 - acc: 0.6697 - val_loss: 0.7768 - val_acc: 0.6275\n",
            "\n",
            "Epoch 00002: val_loss improved from 0.78557 to 0.77683, saving model to /content/drive/My Drive/STUDIA/SEM 9/emd/models/best_lstm_20e.h5\n",
            "Epoch 3/20\n",
            "4217/4217 [==============================] - 20s 5ms/step - loss: 0.6766 - acc: 0.6905 - val_loss: 0.8008 - val_acc: 0.6275\n",
            "\n",
            "Epoch 00003: val_loss did not improve from 0.77683\n",
            "Epoch 4/20\n",
            "4217/4217 [==============================] - 20s 5ms/step - loss: 0.6696 - acc: 0.6950 - val_loss: 0.7878 - val_acc: 0.6284\n",
            "\n",
            "Epoch 00004: val_loss did not improve from 0.77683\n",
            "Epoch 5/20\n",
            "4217/4217 [==============================] - 20s 5ms/step - loss: 0.6535 - acc: 0.6998 - val_loss: 0.7843 - val_acc: 0.6294\n",
            "\n",
            "Epoch 00005: val_loss did not improve from 0.77683\n",
            "Epoch 6/20\n",
            "4217/4217 [==============================] - 20s 5ms/step - loss: 0.6410 - acc: 0.7150 - val_loss: 0.7908 - val_acc: 0.6152\n",
            "\n",
            "Epoch 00006: val_loss did not improve from 0.77683\n",
            "Epoch 7/20\n",
            "4217/4217 [==============================] - 20s 5ms/step - loss: 0.6251 - acc: 0.7180 - val_loss: 0.8105 - val_acc: 0.6209\n",
            "\n",
            "Epoch 00007: val_loss did not improve from 0.77683\n",
            "Epoch 8/20\n",
            "4217/4217 [==============================] - 20s 5ms/step - loss: 0.6084 - acc: 0.7318 - val_loss: 0.7914 - val_acc: 0.6171\n",
            "\n",
            "Epoch 00008: val_loss did not improve from 0.77683\n",
            "Epoch 9/20\n",
            "4217/4217 [==============================] - 20s 5ms/step - loss: 0.5953 - acc: 0.7365 - val_loss: 0.8065 - val_acc: 0.6095\n",
            "\n",
            "Epoch 00009: val_loss did not improve from 0.77683\n",
            "Epoch 10/20\n",
            "4217/4217 [==============================] - 20s 5ms/step - loss: 0.5756 - acc: 0.7539 - val_loss: 0.8100 - val_acc: 0.6190\n",
            "\n",
            "Epoch 00010: val_loss did not improve from 0.77683\n",
            "Epoch 11/20\n",
            "4217/4217 [==============================] - 20s 5ms/step - loss: 0.5642 - acc: 0.7546 - val_loss: 0.8318 - val_acc: 0.6019\n",
            "\n",
            "Epoch 00011: val_loss did not improve from 0.77683\n",
            "Epoch 12/20\n",
            "4217/4217 [==============================] - 20s 5ms/step - loss: 0.5443 - acc: 0.7750 - val_loss: 0.8430 - val_acc: 0.6171\n",
            "\n",
            "Epoch 00012: val_loss did not improve from 0.77683\n",
            "Epoch 13/20\n",
            "4217/4217 [==============================] - 20s 5ms/step - loss: 0.5290 - acc: 0.7707 - val_loss: 0.8391 - val_acc: 0.6180\n",
            "\n",
            "Epoch 00013: val_loss did not improve from 0.77683\n",
            "Epoch 14/20\n",
            "4217/4217 [==============================] - 20s 5ms/step - loss: 0.5060 - acc: 0.7849 - val_loss: 0.8490 - val_acc: 0.6152\n",
            "\n",
            "Epoch 00014: val_loss did not improve from 0.77683\n",
            "Epoch 15/20\n",
            "4217/4217 [==============================] - 21s 5ms/step - loss: 0.4846 - acc: 0.7963 - val_loss: 0.8578 - val_acc: 0.6180\n",
            "\n",
            "Epoch 00015: val_loss did not improve from 0.77683\n",
            "Epoch 16/20\n",
            "4217/4217 [==============================] - 20s 5ms/step - loss: 0.4697 - acc: 0.8074 - val_loss: 0.8734 - val_acc: 0.6133\n",
            "\n",
            "Epoch 00016: val_loss did not improve from 0.77683\n",
            "Epoch 17/20\n",
            "4217/4217 [==============================] - 20s 5ms/step - loss: 0.4484 - acc: 0.8127 - val_loss: 0.9004 - val_acc: 0.6066\n",
            "\n",
            "Epoch 00017: val_loss did not improve from 0.77683\n",
            "Epoch 18/20\n",
            "4217/4217 [==============================] - 20s 5ms/step - loss: 0.4317 - acc: 0.8229 - val_loss: 0.9386 - val_acc: 0.6000\n",
            "\n",
            "Epoch 00018: val_loss did not improve from 0.77683\n",
            "Epoch 19/20\n",
            "4217/4217 [==============================] - 20s 5ms/step - loss: 0.4183 - acc: 0.8278 - val_loss: 0.9385 - val_acc: 0.6095\n",
            "\n",
            "Epoch 00019: val_loss did not improve from 0.77683\n",
            "Epoch 20/20\n",
            "4217/4217 [==============================] - 20s 5ms/step - loss: 0.4023 - acc: 0.8447 - val_loss: 0.9369 - val_acc: 0.6028\n",
            "\n",
            "Epoch 00020: val_loss did not improve from 0.77683\n"
          ],
          "name": "stdout"
        }
      ]
    },
    {
      "cell_type": "code",
      "metadata": {
        "id": "PEs8ELxwPTYe",
        "colab_type": "code",
        "outputId": "b3952ae7-d4d0-4a05-bcea-ea8dee1a4cc6",
        "colab": {
          "base_uri": "https://localhost:8080/",
          "height": 1000
        }
      },
      "source": [
        "plot_history(history)"
      ],
      "execution_count": 0,
      "outputs": [
        {
          "output_type": "display_data",
          "data": {
            "image/png": "[encoded data removed]",
            "text/plain": [
              "<Figure size 864x864 with 1 Axes>"
            ]
          },
          "metadata": {
            "tags": []
          }
        },
        {
          "output_type": "display_data",
          "data": {
            "image/png": "[encoded data removed]",
            "text/plain": [
              "<Figure size 864x864 with 1 Axes>"
            ]
          },
          "metadata": {
            "tags": []
          }
        }
      ]
    },
    {
      "cell_type": "code",
      "metadata": {
        "id": "FHvIRzGEQQM8",
        "colab_type": "code",
        "outputId": "40805996-1455-4dca-c2e1-eefb276cb23c",
        "colab": {
          "base_uri": "https://localhost:8080/",
          "height": 50
        }
      },
      "source": [
        "model.evaluate(X_test_seq, to_one_hot(Y_test, 3), batch_size=64, verbose=1)"
      ],
      "execution_count": 0,
      "outputs": [
        {
          "output_type": "stream",
          "text": [
            "1318/1318 [==============================] - 2s 2ms/step\n"
          ],
          "name": "stdout"
        },
        {
          "output_type": "execute_result",
          "data": {
            "text/plain": [
              "[0.9577052555243415, 0.6153262517159191]"
            ]
          },
          "metadata": {
            "tags": []
          },
          "execution_count": 112
        }
      ]
    },
    {
      "cell_type": "code",
      "metadata": {
        "id": "xh0QEBwWQajW",
        "colab_type": "code",
        "colab": {}
      },
      "source": [
        "model.load_weights(PATH_TO_DIR + 'models/best_' + model_name + '.h5')"
      ],
      "execution_count": 0,
      "outputs": []
    },
    {
      "cell_type": "code",
      "metadata": {
        "id": "DzVEbnIVQcYd",
        "colab_type": "code",
        "outputId": "81bbe897-9232-4ffc-cacb-0ac0d398b849",
        "colab": {
          "base_uri": "https://localhost:8080/",
          "height": 50
        }
      },
      "source": [
        "model.evaluate(X_test_seq, to_one_hot(Y_test, 3), batch_size=64, verbose=1)"
      ],
      "execution_count": 0,
      "outputs": [
        {
          "output_type": "stream",
          "text": [
            "1318/1318 [==============================] - 2s 2ms/step\n"
          ],
          "name": "stdout"
        },
        {
          "output_type": "execute_result",
          "data": {
            "text/plain": [
              "[0.7886552369287054, 0.6244309557225889]"
            ]
          },
          "metadata": {
            "tags": []
          },
          "execution_count": 114
        }
      ]
    },
    {
      "cell_type": "markdown",
      "metadata": {
        "id": "1N5Lr5iI3aIs",
        "colab_type": "text"
      },
      "source": [
        "# Albert"
      ]
    },
    {
      "cell_type": "code",
      "metadata": {
        "id": "ih57UwrTpFVV",
        "colab_type": "code",
        "colab": {}
      },
      "source": [
        "! pip install simpletransformers\n",
        "! git clone https://github.com/NVIDIA/apex\n",
        "! pip install -v --no-cache-dir ./apex"
      ],
      "execution_count": 0,
      "outputs": []
    },
    {
      "cell_type": "code",
      "metadata": {
        "id": "c36sYz1peP-G",
        "colab_type": "code",
        "colab": {}
      },
      "source": [
        "def create_data_frame(X, Y):\n",
        "    df = pd.DataFrame([])\n",
        "\n",
        "    for x, y in zip(X, Y):\n",
        "        row_df = pd.DataFrame([[x, y]])\n",
        "        df = train_df.append(row_df)\n",
        "\n",
        "    return df"
      ],
      "execution_count": 0,
      "outputs": []
    },
    {
      "cell_type": "code",
      "metadata": {
        "id": "F4y6JFJLvi6J",
        "colab_type": "code",
        "outputId": "221221d0-a03e-412a-f5a9-a502b5eb9869",
        "colab": {
          "base_uri": "https://localhost:8080/",
          "height": 195
        }
      },
      "source": [
        "train_df = create_data_frame(X_train, Y_train)\n",
        "train_df.head()"
      ],
      "execution_count": 0,
      "outputs": [
        {
          "output_type": "execute_result",
          "data": {
            "text/html": [
              "<div>\n",
              "<style scoped>\n",
              "    .dataframe tbody tr th:only-of-type {\n",
              "        vertical-align: middle;\n",
              "    }\n",
              "\n",
              "    .dataframe tbody tr th {\n",
              "        vertical-align: top;\n",
              "    }\n",
              "\n",
              "    .dataframe thead th {\n",
              "        text-align: right;\n",
              "    }\n",
              "</style>\n",
              "<table border=\"1\" class=\"dataframe\">\n",
              "  <thead>\n",
              "    <tr style=\"text-align: right;\">\n",
              "      <th></th>\n",
              "      <th>0</th>\n",
              "      <th>1</th>\n",
              "    </tr>\n",
              "  </thead>\n",
              "  <tbody>\n",
              "    <tr>\n",
              "      <th>0</th>\n",
              "      <td>science behind the movie dinosaur dna extracti...</td>\n",
              "      <td>1</td>\n",
              "    </tr>\n",
              "    <tr>\n",
              "      <th>0</th>\n",
              "      <td>biden on 2016 run \"i just do not know\" vice pr...</td>\n",
              "      <td>1</td>\n",
              "    </tr>\n",
              "    <tr>\n",
              "      <th>0</th>\n",
              "      <td>there is a simple solution, just deport all th...</td>\n",
              "      <td>2</td>\n",
              "    </tr>\n",
              "    <tr>\n",
              "      <th>0</th>\n",
              "      <td>go follow this guys @sykeonair he is going to ...</td>\n",
              "      <td>0</td>\n",
              "    </tr>\n",
              "    <tr>\n",
              "      <th>0</th>\n",
              "      <td>biden gauging his 'emotional fuel' vice presid...</td>\n",
              "      <td>1</td>\n",
              "    </tr>\n",
              "  </tbody>\n",
              "</table>\n",
              "</div>"
            ],
            "text/plain": [
              "                                                   0  1\n",
              "0  science behind the movie dinosaur dna extracti...  1\n",
              "0  biden on 2016 run \"i just do not know\" vice pr...  1\n",
              "0  there is a simple solution, just deport all th...  2\n",
              "0  go follow this guys @sykeonair he is going to ...  0\n",
              "0  biden gauging his 'emotional fuel' vice presid...  1"
            ]
          },
          "metadata": {
            "tags": []
          },
          "execution_count": 94
        }
      ]
    },
    {
      "cell_type": "code",
      "metadata": {
        "id": "7JZS3qhixA_v",
        "colab_type": "code",
        "outputId": "b155a73f-50d1-404a-cd6a-4eaa1f89f3b2",
        "colab": {
          "base_uri": "https://localhost:8080/",
          "height": 195
        }
      },
      "source": [
        "eval_df = create_data_frame(X_test, Y_test)\n",
        "eval_df.head()"
      ],
      "execution_count": 0,
      "outputs": [
        {
          "output_type": "execute_result",
          "data": {
            "text/html": [
              "<div>\n",
              "<style scoped>\n",
              "    .dataframe tbody tr th:only-of-type {\n",
              "        vertical-align: middle;\n",
              "    }\n",
              "\n",
              "    .dataframe tbody tr th {\n",
              "        vertical-align: top;\n",
              "    }\n",
              "\n",
              "    .dataframe thead th {\n",
              "        text-align: right;\n",
              "    }\n",
              "</style>\n",
              "<table border=\"1\" class=\"dataframe\">\n",
              "  <thead>\n",
              "    <tr style=\"text-align: right;\">\n",
              "      <th></th>\n",
              "      <th>0</th>\n",
              "      <th>1</th>\n",
              "    </tr>\n",
              "  </thead>\n",
              "  <tbody>\n",
              "    <tr>\n",
              "      <th>0</th>\n",
              "      <td>someone go see jurassic world with me tomorrow...</td>\n",
              "      <td>0</td>\n",
              "    </tr>\n",
              "    <tr>\n",
              "      <th>0</th>\n",
              "      <td>@user sam was singing and they did not tell he...</td>\n",
              "      <td>2</td>\n",
              "    </tr>\n",
              "    <tr>\n",
              "      <th>0</th>\n",
              "      <td>@user @user mxm nigger thinks we give a fuck url</td>\n",
              "      <td>2</td>\n",
              "    </tr>\n",
              "    <tr>\n",
              "      <th>0</th>\n",
              "      <td>manitoba - ndp leader wab kinew on the carbon ...</td>\n",
              "      <td>2</td>\n",
              "    </tr>\n",
              "    <tr>\n",
              "      <th>0</th>\n",
              "      <td>win10 build 10525 brings more color, better me...</td>\n",
              "      <td>0</td>\n",
              "    </tr>\n",
              "  </tbody>\n",
              "</table>\n",
              "</div>"
            ],
            "text/plain": [
              "                                                   0  1\n",
              "0  someone go see jurassic world with me tomorrow...  0\n",
              "0  @user sam was singing and they did not tell he...  2\n",
              "0   @user @user mxm nigger thinks we give a fuck url  2\n",
              "0  manitoba - ndp leader wab kinew on the carbon ...  2\n",
              "0  win10 build 10525 brings more color, better me...  0"
            ]
          },
          "metadata": {
            "tags": []
          },
          "execution_count": 95
        }
      ]
    },
    {
      "cell_type": "code",
      "metadata": {
        "id": "ADlQHZonBWdl",
        "colab_type": "code",
        "colab": {}
      },
      "source": [
        "from simpletransformers.classification import ClassificationModel\n",
        "\n",
        "model = ClassificationModel('albert', 'albert-base-v1', num_labels=3, weight=list(class_weights), args={'overwrite_output_dir': True})\n",
        "model.train_model(train_df, args={'num_train_epochs': 3})"
      ],
      "execution_count": 0,
      "outputs": []
    },
    {
      "cell_type": "code",
      "metadata": {
        "id": "FzfCCI9aJD1Q",
        "colab_type": "code",
        "colab": {}
      },
      "source": [
        "# Evaluate the model (without additional data)\n",
        "from sklearn.metrics import accuracy_score\n",
        "result, model_outputs, wrong_predictions = model.eval_model(eval_df, acc=accuracy_score)\n",
        "result"
      ],
      "execution_count": 0,
      "outputs": []
    },
    {
      "cell_type": "code",
      "metadata": {
        "id": "bb4oU2IcO6OZ",
        "colab_type": "code",
        "colab": {}
      },
      "source": [
        "from simpletransformers.classification import ClassificationModel\n",
        "\n",
        "model = ClassificationModel('albert', 'albert-base-v1', num_labels=3, args={'output_dir': 'add_data_outputs/'})\n",
        "model.train_model(train_df, args={'num_train_epochs': 5})"
      ],
      "execution_count": 0,
      "outputs": []
    },
    {
      "cell_type": "code",
      "metadata": {
        "id": "L8ftpANNQhBB",
        "colab_type": "code",
        "colab": {}
      },
      "source": [
        "# Evaluate the model (without additional data)\n",
        "from sklearn.metrics import accuracy_score\n",
        "result, model_outputs, wrong_predictions = model.eval_model(eval_df, acc=accuracy_score)\n",
        "result"
      ],
      "execution_count": 0,
      "outputs": []
    },
    {
      "cell_type": "markdown",
      "metadata": {
        "id": "6nIrE9td3m0A",
        "colab_type": "text"
      },
      "source": [
        ""
      ]
    },
    {
      "cell_type": "markdown",
      "metadata": {
        "id": "MEUaf3ub7Dc1",
        "colab_type": "text"
      },
      "source": [
        "## GloVe + LSTM (62%)"
      ]
    },
    {
      "cell_type": "code",
      "metadata": {
        "id": "0BZACOAt-WRN",
        "colab_type": "code",
        "outputId": "ea0d83c0-d736-4182-def9-bf082e72f201",
        "colab": {
          "base_uri": "https://localhost:8080/",
          "height": 79
        }
      },
      "source": [
        "from keras.preprocessing.text import Tokenizer\n",
        "\n",
        "train_tokenizer = Tokenizer()\n",
        "train_tokenizer.fit_on_texts(X_train)"
      ],
      "execution_count": 0,
      "outputs": [
        {
          "output_type": "stream",
          "text": [
            "Using TensorFlow backend.\n"
          ],
          "name": "stderr"
        },
        {
          "output_type": "display_data",
          "data": {
            "text/html": [
              "<p style=\"color: red;\">\n",
              "The default version of TensorFlow in Colab will soon switch to TensorFlow 2.x.<br>\n",
              "We recommend you <a href=\"https://www.tensorflow.org/guide/migrate\" target=\"_blank\">upgrade</a> now \n",
              "or ensure your notebook will continue to use TensorFlow 1.x via the <code>%tensorflow_version 1.x</code> magic:\n",
              "<a href=\"https://colab.research.google.com/notebooks/tensorflow_version.ipynb\" target=\"_blank\">more info</a>.</p>\n"
            ],
            "text/plain": [
              "<IPython.core.display.HTML object>"
            ]
          },
          "metadata": {
            "tags": []
          }
        }
      ]
    },
    {
      "cell_type": "markdown",
      "metadata": {
        "id": "WBhz5ORIezeI",
        "colab_type": "text"
      },
      "source": [
        "### Creating submission file"
      ]
    },
    {
      "cell_type": "code",
      "metadata": {
        "id": "h2hChKOrRr_q",
        "colab_type": "code",
        "outputId": "ca19a6df-738e-4dcd-bdc8-5c36c9f389b9",
        "colab": {
          "base_uri": "https://localhost:8080/",
          "height": 195
        }
      },
      "source": [
        "test_examples_url = PATH_TO_DIR + 'test.csv'\n",
        "test_dataset = pd.read_csv(test_examples_url, delimiter=',')\n",
        "test_dataset.head()"
      ],
      "execution_count": 0,
      "outputs": [
        {
          "output_type": "execute_result",
          "data": {
            "text/html": [
              "<div>\n",
              "<style scoped>\n",
              "    .dataframe tbody tr th:only-of-type {\n",
              "        vertical-align: middle;\n",
              "    }\n",
              "\n",
              "    .dataframe tbody tr th {\n",
              "        vertical-align: top;\n",
              "    }\n",
              "\n",
              "    .dataframe thead th {\n",
              "        text-align: right;\n",
              "    }\n",
              "</style>\n",
              "<table border=\"1\" class=\"dataframe\">\n",
              "  <thead>\n",
              "    <tr style=\"text-align: right;\">\n",
              "      <th></th>\n",
              "      <th>Id</th>\n",
              "      <th>Tweet</th>\n",
              "    </tr>\n",
              "  </thead>\n",
              "  <tbody>\n",
              "    <tr>\n",
              "      <th>0</th>\n",
              "      <td>628949369883000832</td>\n",
              "      <td>dear @Microsoft the newOoffice for Mac is grea...</td>\n",
              "    </tr>\n",
              "    <tr>\n",
              "      <th>1</th>\n",
              "      <td>628976607420645377</td>\n",
              "      <td>@Microsoft how about you make a system that do...</td>\n",
              "    </tr>\n",
              "    <tr>\n",
              "      <th>2</th>\n",
              "      <td>629023169169518592</td>\n",
              "      <td>Not Available</td>\n",
              "    </tr>\n",
              "    <tr>\n",
              "      <th>3</th>\n",
              "      <td>629179223232479232</td>\n",
              "      <td>Not Available</td>\n",
              "    </tr>\n",
              "    <tr>\n",
              "      <th>4</th>\n",
              "      <td>629186282179153920</td>\n",
              "      <td>If I make a game as a #windows10 Universal App...</td>\n",
              "    </tr>\n",
              "  </tbody>\n",
              "</table>\n",
              "</div>"
            ],
            "text/plain": [
              "                   Id                                              Tweet\n",
              "0  628949369883000832  dear @Microsoft the newOoffice for Mac is grea...\n",
              "1  628976607420645377  @Microsoft how about you make a system that do...\n",
              "2  629023169169518592                                      Not Available\n",
              "3  629179223232479232                                      Not Available\n",
              "4  629186282179153920  If I make a game as a #windows10 Universal App..."
            ]
          },
          "metadata": {
            "tags": []
          },
          "execution_count": 123
        }
      ]
    },
    {
      "cell_type": "code",
      "metadata": {
        "id": "NgUs9Y4TTeXL",
        "colab_type": "code",
        "outputId": "1fc2de80-ca2a-4054-9dc5-64dba3e6dbc6",
        "colab": {
          "base_uri": "https://localhost:8080/",
          "height": 34
        }
      },
      "source": [
        "len(test_dataset)"
      ],
      "execution_count": 0,
      "outputs": [
        {
          "output_type": "execute_result",
          "data": {
            "text/plain": [
              "4000"
            ]
          },
          "metadata": {
            "tags": []
          },
          "execution_count": 124
        }
      ]
    },
    {
      "cell_type": "code",
      "metadata": {
        "id": "OJuHdQWwTaj3",
        "colab_type": "code",
        "outputId": "34c5a315-640e-42fc-bffd-3d9c9be62fa9",
        "colab": {
          "base_uri": "https://localhost:8080/",
          "height": 34
        }
      },
      "source": [
        "len(test_dataset[test_dataset.Tweet =='Not Available'])"
      ],
      "execution_count": 0,
      "outputs": [
        {
          "output_type": "execute_result",
          "data": {
            "text/plain": [
              "360"
            ]
          },
          "metadata": {
            "tags": []
          },
          "execution_count": 125
        }
      ]
    },
    {
      "cell_type": "code",
      "metadata": {
        "id": "NYRznvNHRfkm",
        "colab_type": "code",
        "outputId": "5ae7a05e-9385-4d90-8b98-333ac2421a03",
        "colab": {
          "base_uri": "https://localhost:8080/",
          "height": 131,
          "referenced_widgets": [
            "0d4e029298bd4061ab5785ee03d536f6",
            "e2732a44cca94962be68808aa7518bca",
            "a298723a3cd64ac2a5ec24b87a164780",
            "4b7cff8ddb024cf094eb0df544d21c38",
            "071e2d09d7e04c549598682cabb55186",
            "45577a9662a6418aac807e826dd54a83",
            "b576bac90da24808a893f2043f95ba4a",
            "f999621d2ef945e0a727c48c8f91cf5f",
            "96fb92889f6644378a64041b794fc6c1",
            "b8a14df58f2043e0ae8fc7cd64d0d18d",
            "c5473a3986524ed18d88dcf92b9d2f27",
            "e4447ae181ba45b0b430d07e42b34731",
            "3fddd4434636462aba8d207e93a86bb8",
            "def61d6bca4949508c109b653edae062",
            "587ffb796b7f4f1bbb792d78015ae7c8",
            "961b8ba4689043fe8f0d8f57b0221608"
          ]
        }
      },
      "source": [
        "predictions, raw_outputs = model.predict(list(test_dataset.Tweet))"
      ],
      "execution_count": 0,
      "outputs": [
        {
          "output_type": "stream",
          "text": [
            "Converting to features started. Cache is not used.\n"
          ],
          "name": "stdout"
        },
        {
          "output_type": "display_data",
          "data": {
            "application/vnd.jupyter.widget-view+json": {
              "model_id": "0d4e029298bd4061ab5785ee03d536f6",
              "version_minor": 0,
              "version_major": 2
            },
            "text/plain": [
              "HBox(children=(IntProgress(value=0, max=4000), HTML(value='')))"
            ]
          },
          "metadata": {
            "tags": []
          }
        },
        {
          "output_type": "stream",
          "text": [
            "\n"
          ],
          "name": "stdout"
        },
        {
          "output_type": "display_data",
          "data": {
            "application/vnd.jupyter.widget-view+json": {
              "model_id": "96fb92889f6644378a64041b794fc6c1",
              "version_minor": 0,
              "version_major": 2
            },
            "text/plain": [
              "HBox(children=(IntProgress(value=0, max=500), HTML(value='')))"
            ]
          },
          "metadata": {
            "tags": []
          }
        },
        {
          "output_type": "stream",
          "text": [
            "\n"
          ],
          "name": "stdout"
        }
      ]
    },
    {
      "cell_type": "code",
      "metadata": {
        "id": "MdS2OCg_T1to",
        "colab_type": "code",
        "outputId": "713cdfa9-69e9-4417-a2c9-b82140587c05",
        "colab": {
          "base_uri": "https://localhost:8080/",
          "height": 195
        }
      },
      "source": [
        "test_dataset.head()"
      ],
      "execution_count": 0,
      "outputs": [
        {
          "output_type": "execute_result",
          "data": {
            "text/html": [
              "<div>\n",
              "<style scoped>\n",
              "    .dataframe tbody tr th:only-of-type {\n",
              "        vertical-align: middle;\n",
              "    }\n",
              "\n",
              "    .dataframe tbody tr th {\n",
              "        vertical-align: top;\n",
              "    }\n",
              "\n",
              "    .dataframe thead th {\n",
              "        text-align: right;\n",
              "    }\n",
              "</style>\n",
              "<table border=\"1\" class=\"dataframe\">\n",
              "  <thead>\n",
              "    <tr style=\"text-align: right;\">\n",
              "      <th></th>\n",
              "      <th>Id</th>\n",
              "      <th>Tweet</th>\n",
              "    </tr>\n",
              "  </thead>\n",
              "  <tbody>\n",
              "    <tr>\n",
              "      <th>0</th>\n",
              "      <td>628949369883000832</td>\n",
              "      <td>dear @Microsoft the newOoffice for Mac is grea...</td>\n",
              "    </tr>\n",
              "    <tr>\n",
              "      <th>1</th>\n",
              "      <td>628976607420645377</td>\n",
              "      <td>@Microsoft how about you make a system that do...</td>\n",
              "    </tr>\n",
              "    <tr>\n",
              "      <th>2</th>\n",
              "      <td>629023169169518592</td>\n",
              "      <td>Not Available</td>\n",
              "    </tr>\n",
              "    <tr>\n",
              "      <th>3</th>\n",
              "      <td>629179223232479232</td>\n",
              "      <td>Not Available</td>\n",
              "    </tr>\n",
              "    <tr>\n",
              "      <th>4</th>\n",
              "      <td>629186282179153920</td>\n",
              "      <td>If I make a game as a #windows10 Universal App...</td>\n",
              "    </tr>\n",
              "  </tbody>\n",
              "</table>\n",
              "</div>"
            ],
            "text/plain": [
              "                   Id                                              Tweet\n",
              "0  628949369883000832  dear @Microsoft the newOoffice for Mac is grea...\n",
              "1  628976607420645377  @Microsoft how about you make a system that do...\n",
              "2  629023169169518592                                      Not Available\n",
              "3  629179223232479232                                      Not Available\n",
              "4  629186282179153920  If I make a game as a #windows10 Universal App..."
            ]
          },
          "metadata": {
            "tags": []
          },
          "execution_count": 126
        }
      ]
    },
    {
      "cell_type": "code",
      "metadata": {
        "id": "mp06HhoMUAqA",
        "colab_type": "code",
        "outputId": "7685a31b-d66c-4d8e-d0d9-ec7f91801e12",
        "colab": {
          "base_uri": "https://localhost:8080/",
          "height": 34
        }
      },
      "source": [
        "predictions[:10]"
      ],
      "execution_count": 0,
      "outputs": [
        {
          "output_type": "execute_result",
          "data": {
            "text/plain": [
              "array([0, 2, 1, 1, 1, 1, 1, 1, 0, 1])"
            ]
          },
          "metadata": {
            "tags": []
          },
          "execution_count": 127
        }
      ]
    },
    {
      "cell_type": "code",
      "metadata": {
        "id": "MylelFFsV16M",
        "colab_type": "code",
        "colab": {}
      },
      "source": [
        "preds_df = test_dataset.drop(columns=['Tweet'])"
      ],
      "execution_count": 0,
      "outputs": []
    },
    {
      "cell_type": "code",
      "metadata": {
        "id": "Tt9G20NvWZ_m",
        "colab_type": "code",
        "outputId": "2de3d248-4507-4fef-b75a-62d5acd9ea67",
        "colab": {
          "base_uri": "https://localhost:8080/",
          "height": 195
        }
      },
      "source": [
        "preds_df['Category'] = predictions\n",
        "preds_df.head()"
      ],
      "execution_count": 0,
      "outputs": [
        {
          "output_type": "execute_result",
          "data": {
            "text/html": [
              "<div>\n",
              "<style scoped>\n",
              "    .dataframe tbody tr th:only-of-type {\n",
              "        vertical-align: middle;\n",
              "    }\n",
              "\n",
              "    .dataframe tbody tr th {\n",
              "        vertical-align: top;\n",
              "    }\n",
              "\n",
              "    .dataframe thead th {\n",
              "        text-align: right;\n",
              "    }\n",
              "</style>\n",
              "<table border=\"1\" class=\"dataframe\">\n",
              "  <thead>\n",
              "    <tr style=\"text-align: right;\">\n",
              "      <th></th>\n",
              "      <th>Id</th>\n",
              "      <th>Category</th>\n",
              "    </tr>\n",
              "  </thead>\n",
              "  <tbody>\n",
              "    <tr>\n",
              "      <th>0</th>\n",
              "      <td>628949369883000832</td>\n",
              "      <td>0</td>\n",
              "    </tr>\n",
              "    <tr>\n",
              "      <th>1</th>\n",
              "      <td>628976607420645377</td>\n",
              "      <td>2</td>\n",
              "    </tr>\n",
              "    <tr>\n",
              "      <th>2</th>\n",
              "      <td>629023169169518592</td>\n",
              "      <td>1</td>\n",
              "    </tr>\n",
              "    <tr>\n",
              "      <th>3</th>\n",
              "      <td>629179223232479232</td>\n",
              "      <td>1</td>\n",
              "    </tr>\n",
              "    <tr>\n",
              "      <th>4</th>\n",
              "      <td>629186282179153920</td>\n",
              "      <td>1</td>\n",
              "    </tr>\n",
              "  </tbody>\n",
              "</table>\n",
              "</div>"
            ],
            "text/plain": [
              "                   Id  Category\n",
              "0  628949369883000832         0\n",
              "1  628976607420645377         2\n",
              "2  629023169169518592         1\n",
              "3  629179223232479232         1\n",
              "4  629186282179153920         1"
            ]
          },
          "metadata": {
            "tags": []
          },
          "execution_count": 134
        }
      ]
    },
    {
      "cell_type": "code",
      "metadata": {
        "id": "0vZ0A1yqUdMf",
        "colab_type": "code",
        "outputId": "d5dbdeff-6f42-4892-dd9c-2697ec3b6de1",
        "colab": {
          "base_uri": "https://localhost:8080/",
          "height": 101
        }
      },
      "source": [
        "training_dataset[training_dataset.Tweet == 'Not Available'].groupby('Category').count().Id"
      ],
      "execution_count": 0,
      "outputs": [
        {
          "output_type": "execute_result",
          "data": {
            "text/plain": [
              "Category\n",
              "negative     87\n",
              "neutral     172\n",
              "positive    289\n",
              "Name: Id, dtype: int64"
            ]
          },
          "metadata": {
            "tags": []
          },
          "execution_count": 130
        }
      ]
    },
    {
      "cell_type": "code",
      "metadata": {
        "id": "xBSKQfVdWnLL",
        "colab_type": "code",
        "outputId": "8b564de5-2a70-4c9d-dad1-423e6ef9f0e4",
        "colab": {
          "base_uri": "https://localhost:8080/",
          "height": 195
        }
      },
      "source": [
        "preds_df.loc[test_dataset.Tweet == 'Not Available', \"Category\"] = 0\n",
        "preds_df.head()"
      ],
      "execution_count": 0,
      "outputs": [
        {
          "output_type": "execute_result",
          "data": {
            "text/html": [
              "<div>\n",
              "<style scoped>\n",
              "    .dataframe tbody tr th:only-of-type {\n",
              "        vertical-align: middle;\n",
              "    }\n",
              "\n",
              "    .dataframe tbody tr th {\n",
              "        vertical-align: top;\n",
              "    }\n",
              "\n",
              "    .dataframe thead th {\n",
              "        text-align: right;\n",
              "    }\n",
              "</style>\n",
              "<table border=\"1\" class=\"dataframe\">\n",
              "  <thead>\n",
              "    <tr style=\"text-align: right;\">\n",
              "      <th></th>\n",
              "      <th>Id</th>\n",
              "      <th>Category</th>\n",
              "    </tr>\n",
              "  </thead>\n",
              "  <tbody>\n",
              "    <tr>\n",
              "      <th>0</th>\n",
              "      <td>628949369883000832</td>\n",
              "      <td>0</td>\n",
              "    </tr>\n",
              "    <tr>\n",
              "      <th>1</th>\n",
              "      <td>628976607420645377</td>\n",
              "      <td>2</td>\n",
              "    </tr>\n",
              "    <tr>\n",
              "      <th>2</th>\n",
              "      <td>629023169169518592</td>\n",
              "      <td>0</td>\n",
              "    </tr>\n",
              "    <tr>\n",
              "      <th>3</th>\n",
              "      <td>629179223232479232</td>\n",
              "      <td>0</td>\n",
              "    </tr>\n",
              "    <tr>\n",
              "      <th>4</th>\n",
              "      <td>629186282179153920</td>\n",
              "      <td>1</td>\n",
              "    </tr>\n",
              "  </tbody>\n",
              "</table>\n",
              "</div>"
            ],
            "text/plain": [
              "                   Id  Category\n",
              "0  628949369883000832         0\n",
              "1  628976607420645377         2\n",
              "2  629023169169518592         0\n",
              "3  629179223232479232         0\n",
              "4  629186282179153920         1"
            ]
          },
          "metadata": {
            "tags": []
          },
          "execution_count": 135
        }
      ]
    },
    {
      "cell_type": "code",
      "metadata": {
        "id": "-4fNCK_lYi2N",
        "colab_type": "code",
        "outputId": "c97e9e3a-8144-496b-fb2b-d86081ba90df",
        "colab": {
          "base_uri": "https://localhost:8080/",
          "height": 195
        }
      },
      "source": [
        "mapping = {0: 'positive', 1: 'neutral', 2: 'negative'}\n",
        "preds_df.Category = preds_df.Category.replace(mapping)\n",
        "preds_df.head()"
      ],
      "execution_count": 0,
      "outputs": [
        {
          "output_type": "execute_result",
          "data": {
            "text/html": [
              "<div>\n",
              "<style scoped>\n",
              "    .dataframe tbody tr th:only-of-type {\n",
              "        vertical-align: middle;\n",
              "    }\n",
              "\n",
              "    .dataframe tbody tr th {\n",
              "        vertical-align: top;\n",
              "    }\n",
              "\n",
              "    .dataframe thead th {\n",
              "        text-align: right;\n",
              "    }\n",
              "</style>\n",
              "<table border=\"1\" class=\"dataframe\">\n",
              "  <thead>\n",
              "    <tr style=\"text-align: right;\">\n",
              "      <th></th>\n",
              "      <th>Id</th>\n",
              "      <th>Category</th>\n",
              "    </tr>\n",
              "  </thead>\n",
              "  <tbody>\n",
              "    <tr>\n",
              "      <th>0</th>\n",
              "      <td>628949369883000832</td>\n",
              "      <td>positive</td>\n",
              "    </tr>\n",
              "    <tr>\n",
              "      <th>1</th>\n",
              "      <td>628976607420645377</td>\n",
              "      <td>negative</td>\n",
              "    </tr>\n",
              "    <tr>\n",
              "      <th>2</th>\n",
              "      <td>629023169169518592</td>\n",
              "      <td>positive</td>\n",
              "    </tr>\n",
              "    <tr>\n",
              "      <th>3</th>\n",
              "      <td>629179223232479232</td>\n",
              "      <td>positive</td>\n",
              "    </tr>\n",
              "    <tr>\n",
              "      <th>4</th>\n",
              "      <td>629186282179153920</td>\n",
              "      <td>neutral</td>\n",
              "    </tr>\n",
              "  </tbody>\n",
              "</table>\n",
              "</div>"
            ],
            "text/plain": [
              "                   Id  Category\n",
              "0  628949369883000832  positive\n",
              "1  628976607420645377  negative\n",
              "2  629023169169518592  positive\n",
              "3  629179223232479232  positive\n",
              "4  629186282179153920   neutral"
            ]
          },
          "metadata": {
            "tags": []
          },
          "execution_count": 137
        }
      ]
    },
    {
      "cell_type": "code",
      "metadata": {
        "id": "n_1_j2jWZUMS",
        "colab_type": "code",
        "colab": {}
      },
      "source": [
        "preds_df.to_csv(PATH_TO_DIR + 'submission.csv', index=False)"
      ],
      "execution_count": 0,
      "outputs": []
    },
    {
      "cell_type": "markdown",
      "metadata": {
        "id": "zMxkAcXPLQzp",
        "colab_type": "text"
      },
      "source": [
        "## Roberta"
      ]
    },
    {
      "cell_type": "code",
      "metadata": {
        "id": "5znHZukbGPu4",
        "colab_type": "code",
        "colab": {}
      },
      "source": [
        "# from simpletransformers.classification import ClassificationModel\n",
        "\n",
        "# model = ClassificationModel('roberta', 'roberta-base', num_labels=3, weight=list(class_weights), args={'output_dir': 'roberta_outputs/'})\n",
        "# model.train_model(train_df, args={'num_train_epochs': 7})"
      ],
      "execution_count": 0,
      "outputs": []
    }
  ]
}